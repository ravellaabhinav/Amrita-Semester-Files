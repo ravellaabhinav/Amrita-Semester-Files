{
  "nbformat": 4,
  "nbformat_minor": 0,
  "metadata": {
    "colab": {
      "name": "attendance-format2.ipynb",
      "provenance": [],
      "collapsed_sections": []
    },
    "kernelspec": {
      "name": "python3",
      "display_name": "Python 3"
    }
  },
  "cells": [
    {
      "cell_type": "code",
      "metadata": {
        "id": "1wZoAWCFnizs",
        "colab": {
          "base_uri": "https://localhost:8080/"
        },
        "outputId": "848254f3-2c66-4e3a-a33e-dc77c9c65228"
      },
      "source": [
        "from google.colab import drive\n",
        "drive.mount('/content/drive')"
      ],
      "execution_count": 1,
      "outputs": [
        {
          "output_type": "stream",
          "text": [
            "Mounted at /content/drive\n"
          ],
          "name": "stdout"
        }
      ]
    },
    {
      "cell_type": "code",
      "metadata": {
        "id": "w6DkCwJQnkZ4"
      },
      "source": [
        "import pandas as pd\n",
        "import chardet\n",
        "import os"
      ],
      "execution_count": 2,
      "outputs": []
    },
    {
      "cell_type": "code",
      "metadata": {
        "id": "ZiIycRVPnrrg",
        "colab": {
          "base_uri": "https://localhost:8080/"
        },
        "outputId": "3c19aaaf-54a4-4d27-f134-3cacaa6c6c14"
      },
      "source": [
        "set_diff_df=[]\n",
        "val=[]\n",
        "name_list=pd.read_excel('/content/drive/My Drive/Attendance/namelist.xlsx')\n",
        "name_list['Roll Number']=name_list['Roll Number'].str.strip()\n",
        "reg_no_full=name_list['Roll Number']\n",
        "directory = os.path.join(\"/content/drive/My Drive/\",\"Attendance/data\")\n",
        "for root,dirs,files in os.walk(directory):\n",
        "    for file in files:\n",
        "       if file.endswith(\".csv\"):\n",
        "           path='/content/drive/My Drive/Attendance/data/'\n",
        "           with open(path+file, 'rb') as f:\n",
        "              result = chardet.detect(f.read())\n",
        "           print(file)\n",
        "           data = pd.read_csv(path+file,encoding=result['encoding'],sep='\\t',skiprows = 6) \n",
        "           \n",
        "           data.sort_values(\"Full Name\", inplace = True) \n",
        "           data.drop_duplicates(subset =\"Full Name\",keep ='first', inplace = True)\n",
        "           data['Reg No']=data['Full Name'].apply(lambda st: st[st.find(\"[\")+1:st.find(\"]\")])\n",
        "           data[\"Join Time\"] = data[\"Join Time\"].apply(pd.to_datetime)\n",
        "           present=data['Reg No']\n",
        "           set_diff_df.append((pd.concat([reg_no_full, present, present]).drop_duplicates(keep=False)).to_string(index=False))\n",
        "           val.append(str(data['Join Time'].iloc[0].date().day)+'-'+str(data['Join Time'].iloc[0].date().month)+'-'+str(data['Join Time'].iloc[0].date().year))\n",
        "          \n",
        "new_val= pd.DataFrame(list(zip(val, set_diff_df)),columns =['date', 'absentees']) \n",
        "new_val.to_excel('/content/drive/My Drive/Attendance/consolidated.xlsx',index=False)"
      ],
      "execution_count": 11,
      "outputs": [
        {
          "output_type": "stream",
          "text": [
            "meetingAttendanceReport(19CSE102-Tuesday - Session -4).csv\n",
            "meetingAttendanceReport(General) (2).csv\n",
            "meetingAttendanceReport(General).csv\n"
          ],
          "name": "stdout"
        }
      ]
    },
    {
      "cell_type": "code",
      "metadata": {
        "id": "Oo0BdT4Y28zX",
        "colab": {
          "base_uri": "https://localhost:8080/"
        },
        "outputId": "f9f45e8a-32c2-406a-e17b-7518499f6035"
      },
      "source": [
        "data['Join Time'].iloc[0]"
      ],
      "execution_count": 10,
      "outputs": [
        {
          "output_type": "execute_result",
          "data": {
            "text/plain": [
              "Timestamp('2021-03-29 12:04:46')"
            ]
          },
          "metadata": {
            "tags": []
          },
          "execution_count": 10
        }
      ]
    },
    {
      "cell_type": "code",
      "metadata": {
        "id": "8PmyLlYcT1dB"
      },
      "source": [
        ""
      ],
      "execution_count": null,
      "outputs": []
    }
  ]
}