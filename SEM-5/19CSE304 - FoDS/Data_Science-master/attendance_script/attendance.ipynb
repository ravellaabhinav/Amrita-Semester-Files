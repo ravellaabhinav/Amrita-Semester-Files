{
  "nbformat": 4,
  "nbformat_minor": 0,
  "metadata": {
    "colab": {
      "name": "attendance.ipynb",
      "provenance": [],
      "collapsed_sections": []
    },
    "kernelspec": {
      "name": "python3",
      "display_name": "Python 3"
    }
  },
  "cells": [
    {
      "cell_type": "code",
      "metadata": {
        "id": "1wZoAWCFnizs",
        "colab_type": "code",
        "colab": {}
      },
      "source": [
        "from google.colab import drive\n",
        "drive.mount('/content/drive')"
      ],
      "execution_count": 1,
      "outputs": []
    },
    {
      "cell_type": "code",
      "metadata": {
        "id": "w6DkCwJQnkZ4",
        "colab_type": "code",
        "colab": {}
      },
      "source": [
        "import pandas as pd\n",
        "import chardet\n",
        "import os"
      ],
      "execution_count": 2,
      "outputs": []
    },
    {
      "cell_type": "code",
      "metadata": {
        "id": "ZiIycRVPnrrg",
        "colab_type": "code",
        "colab": {}
      },
      "source": [
        "set_diff_df=[]\n",
        "val=[]\n",
        "name_list=pd.read_excel('/content/drive/My Drive/Attendance/Name_list.xlsx')\n",
        "name_list['Roll Number']=name_list['Roll Number'].str.strip()\n",
        "reg_no_full=name_list['Roll Number']\n",
        "directory = os.path.join(\"/content/drive/My Drive/\",\"Attendance\")\n",
        "for root,dirs,files in os.walk(directory):\n",
        "    for file in files:\n",
        "       if file.endswith(\".csv\"):\n",
        "           path='/content/drive/My Drive/Attendance/'\n",
        "           with open(path+file, 'rb') as f:\n",
        "              result = chardet.detect(f.read()) \n",
        "           data = pd.read_csv(path+file,encoding=result['encoding'],sep='\\t') \n",
        "           data.sort_values(\"Full Name\", inplace = True) \n",
        "           data.drop_duplicates(subset =\"Full Name\",keep ='first', inplace = True)\n",
        "           data['Reg No']=data['Full Name'].apply(lambda st: st[st.find(\"[\")+1:st.find(\"]\")])\n",
        "           data[\"Timestamp\"] = data[\"Timestamp\"].apply(pd.to_datetime)\n",
        "           present=data['Reg No']\n",
        "           set_diff_df.append((pd.concat([reg_no_full, present, present]).drop_duplicates(keep=False)).to_string(index=False))\n",
        "           val.append(str(data['Timestamp'][0].date().day)+'-'+str(data['Timestamp'][0].date().month)+'-'+str(data['Timestamp'][0].date().year))\n",
        "           \n",
        "new_val= pd.DataFrame(list(zip(val, set_diff_df)),columns =['date', 'absentees']) \n",
        "new_val.to_excel('/content/drive/My Drive/Attendance/consolidated.xlsx',index=False)"
      ],
      "execution_count": 4,
      "outputs": []
    },
    {
      "cell_type": "code",
      "metadata": {
        "id": "Oo0BdT4Y28zX",
        "colab_type": "code",
        "colab": {}
      },
      "source": [
        ""
      ],
      "execution_count": null,
      "outputs": []
    }
  ]
}