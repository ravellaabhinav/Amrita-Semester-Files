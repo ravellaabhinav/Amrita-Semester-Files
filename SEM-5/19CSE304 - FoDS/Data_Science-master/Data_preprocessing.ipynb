{
  "nbformat": 4,
  "nbformat_minor": 0,
  "metadata": {
    "colab": {
      "name": "Data_preprocessing.ipynb",
      "provenance": [],
      "mount_file_id": "1Qw7deDM_OK8V3sqM57CgLEAjRyaxzFea",
      "authorship_tag": "ABX9TyOxUWpJDLkRSVjsOULGpJ56"
    },
    "kernelspec": {
      "name": "python3",
      "display_name": "Python 3"
    },
    "language_info": {
      "name": "python"
    }
  },
  "cells": [
    {
      "cell_type": "markdown",
      "metadata": {
        "id": "huaKCLvdOYK2"
      },
      "source": [
        "# Data"
      ]
    },
    {
      "cell_type": "code",
      "metadata": {
        "id": "w3RL3mW97ecZ"
      },
      "source": [
        "from google.colab import drive\n",
        "drive.mount('/content/drive')"
      ],
      "execution_count": null,
      "outputs": []
    },
    {
      "cell_type": "markdown",
      "metadata": {
        "id": "nqKMbvYVOUEv"
      },
      "source": [
        "![alt text](https://www.geeksforgeeks.org/wp-content/uploads/creating_dataframe1.png)"
      ]
    },
    {
      "cell_type": "code",
      "metadata": {
        "id": "Nxsuo7dyOV7p"
      },
      "source": [
        "import pandas as pd\n",
        "df=pd.read_csv('/content/drive/MyDrive/FoDS-2021/data/weather_data.csv')"
      ],
      "execution_count": null,
      "outputs": []
    },
    {
      "cell_type": "code",
      "metadata": {
        "colab": {
          "base_uri": "https://localhost:8080/",
          "height": 232
        },
        "id": "FL-399mnYFiT",
        "outputId": "3da9502c-2bbe-405b-c334-23681f108579"
      },
      "source": [
        "df"
      ],
      "execution_count": null,
      "outputs": [
        {
          "output_type": "execute_result",
          "data": {
            "text/html": [
              "<div>\n",
              "<style scoped>\n",
              "    .dataframe tbody tr th:only-of-type {\n",
              "        vertical-align: middle;\n",
              "    }\n",
              "\n",
              "    .dataframe tbody tr th {\n",
              "        vertical-align: top;\n",
              "    }\n",
              "\n",
              "    .dataframe thead th {\n",
              "        text-align: right;\n",
              "    }\n",
              "</style>\n",
              "<table border=\"1\" class=\"dataframe\">\n",
              "  <thead>\n",
              "    <tr style=\"text-align: right;\">\n",
              "      <th></th>\n",
              "      <th>day</th>\n",
              "      <th>temperature</th>\n",
              "      <th>windspeed</th>\n",
              "      <th>event</th>\n",
              "    </tr>\n",
              "  </thead>\n",
              "  <tbody>\n",
              "    <tr>\n",
              "      <th>0</th>\n",
              "      <td>1/1/2017</td>\n",
              "      <td>32</td>\n",
              "      <td>6</td>\n",
              "      <td>Rain</td>\n",
              "    </tr>\n",
              "    <tr>\n",
              "      <th>1</th>\n",
              "      <td>1/2/2017</td>\n",
              "      <td>35</td>\n",
              "      <td>7</td>\n",
              "      <td>Sunny</td>\n",
              "    </tr>\n",
              "    <tr>\n",
              "      <th>2</th>\n",
              "      <td>1/3/2017</td>\n",
              "      <td>28</td>\n",
              "      <td>2</td>\n",
              "      <td>Snow</td>\n",
              "    </tr>\n",
              "    <tr>\n",
              "      <th>3</th>\n",
              "      <td>1/4/2017</td>\n",
              "      <td>24</td>\n",
              "      <td>7</td>\n",
              "      <td>Snow</td>\n",
              "    </tr>\n",
              "    <tr>\n",
              "      <th>4</th>\n",
              "      <td>1/5/2017</td>\n",
              "      <td>32</td>\n",
              "      <td>4</td>\n",
              "      <td>Rain</td>\n",
              "    </tr>\n",
              "    <tr>\n",
              "      <th>5</th>\n",
              "      <td>1/6/2017</td>\n",
              "      <td>31</td>\n",
              "      <td>2</td>\n",
              "      <td>Sunny</td>\n",
              "    </tr>\n",
              "  </tbody>\n",
              "</table>\n",
              "</div>"
            ],
            "text/plain": [
              "        day  temperature  windspeed  event\n",
              "0  1/1/2017           32          6   Rain\n",
              "1  1/2/2017           35          7  Sunny\n",
              "2  1/3/2017           28          2   Snow\n",
              "3  1/4/2017           24          7   Snow\n",
              "4  1/5/2017           32          4   Rain\n",
              "5  1/6/2017           31          2  Sunny"
            ]
          },
          "metadata": {
            "tags": []
          },
          "execution_count": 5
        }
      ]
    },
    {
      "cell_type": "code",
      "metadata": {
        "colab": {
          "base_uri": "https://localhost:8080/"
        },
        "id": "C4mCehUGYGmJ",
        "outputId": "02c84c9f-4580-4b99-d77c-fb38e03105ff"
      },
      "source": [
        "df.dtypes"
      ],
      "execution_count": null,
      "outputs": [
        {
          "output_type": "execute_result",
          "data": {
            "text/plain": [
              "day            object\n",
              "temperature     int64\n",
              "windspeed       int64\n",
              "event          object\n",
              "dtype: object"
            ]
          },
          "metadata": {
            "tags": []
          },
          "execution_count": 3
        }
      ]
    },
    {
      "cell_type": "code",
      "metadata": {
        "id": "jo7h32d0YR2v"
      },
      "source": [
        "weather_data = {\n",
        "    'day': ['1/1/2017','1/2/2017','1/3/2017','1/4/2017','1/5/2017','1/6/2017'],\n",
        "    'temperature': [32,35,28,24,32,31],\n",
        "    'windspeed': [6,7,2,7,4,2],\n",
        "    'event': ['Rain', 'Sunny', 'Snow','Snow','Rain', 'Sunny']\n",
        "}\n",
        "\n",
        "df1=pd.DataFrame(weather_data)"
      ],
      "execution_count": null,
      "outputs": []
    },
    {
      "cell_type": "code",
      "metadata": {
        "colab": {
          "base_uri": "https://localhost:8080/",
          "height": 232
        },
        "id": "wuPpdATPY0MS",
        "outputId": "bbb5030d-7ed9-42d4-80e4-837072ba6d81"
      },
      "source": [
        "df1"
      ],
      "execution_count": null,
      "outputs": [
        {
          "output_type": "execute_result",
          "data": {
            "text/html": [
              "<div>\n",
              "<style scoped>\n",
              "    .dataframe tbody tr th:only-of-type {\n",
              "        vertical-align: middle;\n",
              "    }\n",
              "\n",
              "    .dataframe tbody tr th {\n",
              "        vertical-align: top;\n",
              "    }\n",
              "\n",
              "    .dataframe thead th {\n",
              "        text-align: right;\n",
              "    }\n",
              "</style>\n",
              "<table border=\"1\" class=\"dataframe\">\n",
              "  <thead>\n",
              "    <tr style=\"text-align: right;\">\n",
              "      <th></th>\n",
              "      <th>day</th>\n",
              "      <th>temperature</th>\n",
              "      <th>windspeed</th>\n",
              "      <th>event</th>\n",
              "    </tr>\n",
              "  </thead>\n",
              "  <tbody>\n",
              "    <tr>\n",
              "      <th>0</th>\n",
              "      <td>1/1/2017</td>\n",
              "      <td>32</td>\n",
              "      <td>6</td>\n",
              "      <td>Rain</td>\n",
              "    </tr>\n",
              "    <tr>\n",
              "      <th>1</th>\n",
              "      <td>1/2/2017</td>\n",
              "      <td>35</td>\n",
              "      <td>7</td>\n",
              "      <td>Sunny</td>\n",
              "    </tr>\n",
              "    <tr>\n",
              "      <th>2</th>\n",
              "      <td>1/3/2017</td>\n",
              "      <td>28</td>\n",
              "      <td>2</td>\n",
              "      <td>Snow</td>\n",
              "    </tr>\n",
              "    <tr>\n",
              "      <th>3</th>\n",
              "      <td>1/4/2017</td>\n",
              "      <td>24</td>\n",
              "      <td>7</td>\n",
              "      <td>Snow</td>\n",
              "    </tr>\n",
              "    <tr>\n",
              "      <th>4</th>\n",
              "      <td>1/5/2017</td>\n",
              "      <td>32</td>\n",
              "      <td>4</td>\n",
              "      <td>Rain</td>\n",
              "    </tr>\n",
              "    <tr>\n",
              "      <th>5</th>\n",
              "      <td>1/6/2017</td>\n",
              "      <td>31</td>\n",
              "      <td>2</td>\n",
              "      <td>Sunny</td>\n",
              "    </tr>\n",
              "  </tbody>\n",
              "</table>\n",
              "</div>"
            ],
            "text/plain": [
              "        day  temperature  windspeed  event\n",
              "0  1/1/2017           32          6   Rain\n",
              "1  1/2/2017           35          7  Sunny\n",
              "2  1/3/2017           28          2   Snow\n",
              "3  1/4/2017           24          7   Snow\n",
              "4  1/5/2017           32          4   Rain\n",
              "5  1/6/2017           31          2  Sunny"
            ]
          },
          "metadata": {
            "tags": []
          },
          "execution_count": 5
        }
      ]
    },
    {
      "cell_type": "code",
      "metadata": {
        "id": "2lxsX5apY-2C"
      },
      "source": [
        "df2=pd.read_csv('https://raw.githubusercontent.com/kelseyhightower/weather-data/master/weather.csv')"
      ],
      "execution_count": null,
      "outputs": []
    },
    {
      "cell_type": "code",
      "metadata": {
        "colab": {
          "base_uri": "https://localhost:8080/",
          "height": 202
        },
        "id": "df3zdjazZ0ET",
        "outputId": "1f5aeeaa-7bec-4d4e-83c2-a076b068fc0a"
      },
      "source": [
        "df2.head()"
      ],
      "execution_count": null,
      "outputs": [
        {
          "output_type": "execute_result",
          "data": {
            "text/html": [
              "<div>\n",
              "<style scoped>\n",
              "    .dataframe tbody tr th:only-of-type {\n",
              "        vertical-align: middle;\n",
              "    }\n",
              "\n",
              "    .dataframe tbody tr th {\n",
              "        vertical-align: top;\n",
              "    }\n",
              "\n",
              "    .dataframe thead th {\n",
              "        text-align: right;\n",
              "    }\n",
              "</style>\n",
              "<table border=\"1\" class=\"dataframe\">\n",
              "  <thead>\n",
              "    <tr style=\"text-align: right;\">\n",
              "      <th></th>\n",
              "      <th>2000</th>\n",
              "      <th>11</th>\n",
              "      <th>30</th>\n",
              "      <th>23</th>\n",
              "      <th>00</th>\n",
              "      <th>6.65</th>\n",
              "    </tr>\n",
              "  </thead>\n",
              "  <tbody>\n",
              "    <tr>\n",
              "      <th>0</th>\n",
              "      <td>2000</td>\n",
              "      <td>12</td>\n",
              "      <td>1</td>\n",
              "      <td>0</td>\n",
              "      <td>0</td>\n",
              "      <td>5.83</td>\n",
              "    </tr>\n",
              "    <tr>\n",
              "      <th>1</th>\n",
              "      <td>2000</td>\n",
              "      <td>12</td>\n",
              "      <td>1</td>\n",
              "      <td>1</td>\n",
              "      <td>0</td>\n",
              "      <td>5.06</td>\n",
              "    </tr>\n",
              "    <tr>\n",
              "      <th>2</th>\n",
              "      <td>2000</td>\n",
              "      <td>12</td>\n",
              "      <td>1</td>\n",
              "      <td>2</td>\n",
              "      <td>0</td>\n",
              "      <td>4.35</td>\n",
              "    </tr>\n",
              "    <tr>\n",
              "      <th>3</th>\n",
              "      <td>2000</td>\n",
              "      <td>12</td>\n",
              "      <td>1</td>\n",
              "      <td>3</td>\n",
              "      <td>0</td>\n",
              "      <td>3.68</td>\n",
              "    </tr>\n",
              "    <tr>\n",
              "      <th>4</th>\n",
              "      <td>2000</td>\n",
              "      <td>12</td>\n",
              "      <td>1</td>\n",
              "      <td>4</td>\n",
              "      <td>0</td>\n",
              "      <td>3.20</td>\n",
              "    </tr>\n",
              "  </tbody>\n",
              "</table>\n",
              "</div>"
            ],
            "text/plain": [
              "   2000  11  30  23  00  6.65\n",
              "0  2000  12   1   0   0  5.83\n",
              "1  2000  12   1   1   0  5.06\n",
              "2  2000  12   1   2   0  4.35\n",
              "3  2000  12   1   3   0  3.68\n",
              "4  2000  12   1   4   0  3.20"
            ]
          },
          "metadata": {
            "tags": []
          },
          "execution_count": 7
        }
      ]
    },
    {
      "cell_type": "code",
      "metadata": {
        "id": "TbMs-NdqZ1oN"
      },
      "source": [
        "df3=pd.read_csv('/content/drive/MyDrive/FoDS-2021/data/pandas_tutorial_read.csv',sep=';')"
      ],
      "execution_count": null,
      "outputs": []
    },
    {
      "cell_type": "code",
      "metadata": {
        "colab": {
          "base_uri": "https://localhost:8080/",
          "height": 414
        },
        "id": "tOBb0niwad9b",
        "outputId": "9c25b951-43dc-485e-e3a9-ff448fa5aef9"
      },
      "source": [
        "df3"
      ],
      "execution_count": null,
      "outputs": [
        {
          "output_type": "execute_result",
          "data": {
            "text/html": [
              "<div>\n",
              "<style scoped>\n",
              "    .dataframe tbody tr th:only-of-type {\n",
              "        vertical-align: middle;\n",
              "    }\n",
              "\n",
              "    .dataframe tbody tr th {\n",
              "        vertical-align: top;\n",
              "    }\n",
              "\n",
              "    .dataframe thead th {\n",
              "        text-align: right;\n",
              "    }\n",
              "</style>\n",
              "<table border=\"1\" class=\"dataframe\">\n",
              "  <thead>\n",
              "    <tr style=\"text-align: right;\">\n",
              "      <th></th>\n",
              "      <th>2018-01-01 00:01:01</th>\n",
              "      <th>read</th>\n",
              "      <th>country_7</th>\n",
              "      <th>2458151261</th>\n",
              "      <th>SEO</th>\n",
              "      <th>North America</th>\n",
              "    </tr>\n",
              "  </thead>\n",
              "  <tbody>\n",
              "    <tr>\n",
              "      <th>0</th>\n",
              "      <td>2018-01-01 00:03:20</td>\n",
              "      <td>read</td>\n",
              "      <td>country_7</td>\n",
              "      <td>2458151262</td>\n",
              "      <td>SEO</td>\n",
              "      <td>South America</td>\n",
              "    </tr>\n",
              "    <tr>\n",
              "      <th>1</th>\n",
              "      <td>2018-01-01 00:04:01</td>\n",
              "      <td>read</td>\n",
              "      <td>country_7</td>\n",
              "      <td>2458151263</td>\n",
              "      <td>AdWords</td>\n",
              "      <td>Africa</td>\n",
              "    </tr>\n",
              "    <tr>\n",
              "      <th>2</th>\n",
              "      <td>2018-01-01 00:04:02</td>\n",
              "      <td>read</td>\n",
              "      <td>country_7</td>\n",
              "      <td>2458151264</td>\n",
              "      <td>AdWords</td>\n",
              "      <td>Europe</td>\n",
              "    </tr>\n",
              "    <tr>\n",
              "      <th>3</th>\n",
              "      <td>2018-01-01 00:05:03</td>\n",
              "      <td>read</td>\n",
              "      <td>country_8</td>\n",
              "      <td>2458151265</td>\n",
              "      <td>Reddit</td>\n",
              "      <td>North America</td>\n",
              "    </tr>\n",
              "    <tr>\n",
              "      <th>4</th>\n",
              "      <td>2018-01-01 00:05:42</td>\n",
              "      <td>read</td>\n",
              "      <td>country_6</td>\n",
              "      <td>2458151266</td>\n",
              "      <td>Reddit</td>\n",
              "      <td>North America</td>\n",
              "    </tr>\n",
              "    <tr>\n",
              "      <th>...</th>\n",
              "      <td>...</td>\n",
              "      <td>...</td>\n",
              "      <td>...</td>\n",
              "      <td>...</td>\n",
              "      <td>...</td>\n",
              "      <td>...</td>\n",
              "    </tr>\n",
              "    <tr>\n",
              "      <th>1789</th>\n",
              "      <td>2018-01-01 23:57:14</td>\n",
              "      <td>read</td>\n",
              "      <td>country_2</td>\n",
              "      <td>2458153051</td>\n",
              "      <td>AdWords</td>\n",
              "      <td>North America</td>\n",
              "    </tr>\n",
              "    <tr>\n",
              "      <th>1790</th>\n",
              "      <td>2018-01-01 23:58:33</td>\n",
              "      <td>read</td>\n",
              "      <td>country_8</td>\n",
              "      <td>2458153052</td>\n",
              "      <td>SEO</td>\n",
              "      <td>Asia</td>\n",
              "    </tr>\n",
              "    <tr>\n",
              "      <th>1791</th>\n",
              "      <td>2018-01-01 23:59:36</td>\n",
              "      <td>read</td>\n",
              "      <td>country_6</td>\n",
              "      <td>2458153053</td>\n",
              "      <td>Reddit</td>\n",
              "      <td>Asia</td>\n",
              "    </tr>\n",
              "    <tr>\n",
              "      <th>1792</th>\n",
              "      <td>2018-01-01 23:59:36</td>\n",
              "      <td>read</td>\n",
              "      <td>country_7</td>\n",
              "      <td>2458153054</td>\n",
              "      <td>AdWords</td>\n",
              "      <td>Europe</td>\n",
              "    </tr>\n",
              "    <tr>\n",
              "      <th>1793</th>\n",
              "      <td>2018-01-01 23:59:38</td>\n",
              "      <td>read</td>\n",
              "      <td>country_5</td>\n",
              "      <td>2458153055</td>\n",
              "      <td>Reddit</td>\n",
              "      <td>Asia</td>\n",
              "    </tr>\n",
              "  </tbody>\n",
              "</table>\n",
              "<p>1794 rows × 6 columns</p>\n",
              "</div>"
            ],
            "text/plain": [
              "      2018-01-01 00:01:01  read  country_7  2458151261      SEO  North America\n",
              "0     2018-01-01 00:03:20  read  country_7  2458151262      SEO  South America\n",
              "1     2018-01-01 00:04:01  read  country_7  2458151263  AdWords         Africa\n",
              "2     2018-01-01 00:04:02  read  country_7  2458151264  AdWords         Europe\n",
              "3     2018-01-01 00:05:03  read  country_8  2458151265   Reddit  North America\n",
              "4     2018-01-01 00:05:42  read  country_6  2458151266   Reddit  North America\n",
              "...                   ...   ...        ...         ...      ...            ...\n",
              "1789  2018-01-01 23:57:14  read  country_2  2458153051  AdWords  North America\n",
              "1790  2018-01-01 23:58:33  read  country_8  2458153052      SEO           Asia\n",
              "1791  2018-01-01 23:59:36  read  country_6  2458153053   Reddit           Asia\n",
              "1792  2018-01-01 23:59:36  read  country_7  2458153054  AdWords         Europe\n",
              "1793  2018-01-01 23:59:38  read  country_5  2458153055   Reddit           Asia\n",
              "\n",
              "[1794 rows x 6 columns]"
            ]
          },
          "metadata": {
            "tags": []
          },
          "execution_count": 11
        }
      ]
    },
    {
      "cell_type": "code",
      "metadata": {
        "id": "fG-wQ2NmafEy"
      },
      "source": [
        "df2=pd.read_csv('https://raw.githubusercontent.com/kelseyhightower/weather-data/master/weather.csv'\n",
        ",names=['col1','col2','col3','col4','col5','col6'])"
      ],
      "execution_count": null,
      "outputs": []
    },
    {
      "cell_type": "code",
      "metadata": {
        "colab": {
          "base_uri": "https://localhost:8080/",
          "height": 414
        },
        "id": "b1Ltg_RcbiXK",
        "outputId": "372ddc38-bd56-4538-952b-23cfd6d57cb6"
      },
      "source": [
        "df2"
      ],
      "execution_count": null,
      "outputs": [
        {
          "output_type": "execute_result",
          "data": {
            "text/html": [
              "<div>\n",
              "<style scoped>\n",
              "    .dataframe tbody tr th:only-of-type {\n",
              "        vertical-align: middle;\n",
              "    }\n",
              "\n",
              "    .dataframe tbody tr th {\n",
              "        vertical-align: top;\n",
              "    }\n",
              "\n",
              "    .dataframe thead th {\n",
              "        text-align: right;\n",
              "    }\n",
              "</style>\n",
              "<table border=\"1\" class=\"dataframe\">\n",
              "  <thead>\n",
              "    <tr style=\"text-align: right;\">\n",
              "      <th></th>\n",
              "      <th>col1</th>\n",
              "      <th>col2</th>\n",
              "      <th>col3</th>\n",
              "      <th>col4</th>\n",
              "      <th>col5</th>\n",
              "      <th>col6</th>\n",
              "    </tr>\n",
              "  </thead>\n",
              "  <tbody>\n",
              "    <tr>\n",
              "      <th>0</th>\n",
              "      <td>2000</td>\n",
              "      <td>11</td>\n",
              "      <td>30</td>\n",
              "      <td>23</td>\n",
              "      <td>0</td>\n",
              "      <td>6.65</td>\n",
              "    </tr>\n",
              "    <tr>\n",
              "      <th>1</th>\n",
              "      <td>2000</td>\n",
              "      <td>12</td>\n",
              "      <td>1</td>\n",
              "      <td>0</td>\n",
              "      <td>0</td>\n",
              "      <td>5.83</td>\n",
              "    </tr>\n",
              "    <tr>\n",
              "      <th>2</th>\n",
              "      <td>2000</td>\n",
              "      <td>12</td>\n",
              "      <td>1</td>\n",
              "      <td>1</td>\n",
              "      <td>0</td>\n",
              "      <td>5.06</td>\n",
              "    </tr>\n",
              "    <tr>\n",
              "      <th>3</th>\n",
              "      <td>2000</td>\n",
              "      <td>12</td>\n",
              "      <td>1</td>\n",
              "      <td>2</td>\n",
              "      <td>0</td>\n",
              "      <td>4.35</td>\n",
              "    </tr>\n",
              "    <tr>\n",
              "      <th>4</th>\n",
              "      <td>2000</td>\n",
              "      <td>12</td>\n",
              "      <td>1</td>\n",
              "      <td>3</td>\n",
              "      <td>0</td>\n",
              "      <td>3.68</td>\n",
              "    </tr>\n",
              "    <tr>\n",
              "      <th>...</th>\n",
              "      <td>...</td>\n",
              "      <td>...</td>\n",
              "      <td>...</td>\n",
              "      <td>...</td>\n",
              "      <td>...</td>\n",
              "      <td>...</td>\n",
              "    </tr>\n",
              "    <tr>\n",
              "      <th>149995</th>\n",
              "      <td>2018</td>\n",
              "      <td>1</td>\n",
              "      <td>10</td>\n",
              "      <td>18</td>\n",
              "      <td>0</td>\n",
              "      <td>6.74</td>\n",
              "    </tr>\n",
              "    <tr>\n",
              "      <th>149996</th>\n",
              "      <td>2018</td>\n",
              "      <td>1</td>\n",
              "      <td>10</td>\n",
              "      <td>19</td>\n",
              "      <td>0</td>\n",
              "      <td>6.08</td>\n",
              "    </tr>\n",
              "    <tr>\n",
              "      <th>149997</th>\n",
              "      <td>2018</td>\n",
              "      <td>1</td>\n",
              "      <td>10</td>\n",
              "      <td>20</td>\n",
              "      <td>0</td>\n",
              "      <td>6.39</td>\n",
              "    </tr>\n",
              "    <tr>\n",
              "      <th>149998</th>\n",
              "      <td>2018</td>\n",
              "      <td>1</td>\n",
              "      <td>10</td>\n",
              "      <td>21</td>\n",
              "      <td>0</td>\n",
              "      <td>5.76</td>\n",
              "    </tr>\n",
              "    <tr>\n",
              "      <th>149999</th>\n",
              "      <td>2018</td>\n",
              "      <td>1</td>\n",
              "      <td>10</td>\n",
              "      <td>22</td>\n",
              "      <td>0</td>\n",
              "      <td>4.05</td>\n",
              "    </tr>\n",
              "  </tbody>\n",
              "</table>\n",
              "<p>150000 rows × 6 columns</p>\n",
              "</div>"
            ],
            "text/plain": [
              "        col1  col2  col3  col4  col5  col6\n",
              "0       2000    11    30    23     0  6.65\n",
              "1       2000    12     1     0     0  5.83\n",
              "2       2000    12     1     1     0  5.06\n",
              "3       2000    12     1     2     0  4.35\n",
              "4       2000    12     1     3     0  3.68\n",
              "...      ...   ...   ...   ...   ...   ...\n",
              "149995  2018     1    10    18     0  6.74\n",
              "149996  2018     1    10    19     0  6.08\n",
              "149997  2018     1    10    20     0  6.39\n",
              "149998  2018     1    10    21     0  5.76\n",
              "149999  2018     1    10    22     0  4.05\n",
              "\n",
              "[150000 rows x 6 columns]"
            ]
          },
          "metadata": {
            "tags": []
          },
          "execution_count": 13
        }
      ]
    },
    {
      "cell_type": "code",
      "metadata": {
        "id": "CmKkJLcjbjNu",
        "colab": {
          "base_uri": "https://localhost:8080/",
          "height": 232
        },
        "outputId": "ee9e8b3f-09ca-4b32-ca67-2703cb13e1ec"
      },
      "source": [
        "df"
      ],
      "execution_count": null,
      "outputs": [
        {
          "output_type": "execute_result",
          "data": {
            "text/html": [
              "<div>\n",
              "<style scoped>\n",
              "    .dataframe tbody tr th:only-of-type {\n",
              "        vertical-align: middle;\n",
              "    }\n",
              "\n",
              "    .dataframe tbody tr th {\n",
              "        vertical-align: top;\n",
              "    }\n",
              "\n",
              "    .dataframe thead th {\n",
              "        text-align: right;\n",
              "    }\n",
              "</style>\n",
              "<table border=\"1\" class=\"dataframe\">\n",
              "  <thead>\n",
              "    <tr style=\"text-align: right;\">\n",
              "      <th></th>\n",
              "      <th>day</th>\n",
              "      <th>temperature</th>\n",
              "      <th>windspeed</th>\n",
              "      <th>event</th>\n",
              "    </tr>\n",
              "  </thead>\n",
              "  <tbody>\n",
              "    <tr>\n",
              "      <th>0</th>\n",
              "      <td>1/1/2017</td>\n",
              "      <td>32</td>\n",
              "      <td>6</td>\n",
              "      <td>Rain</td>\n",
              "    </tr>\n",
              "    <tr>\n",
              "      <th>1</th>\n",
              "      <td>1/2/2017</td>\n",
              "      <td>35</td>\n",
              "      <td>7</td>\n",
              "      <td>Sunny</td>\n",
              "    </tr>\n",
              "    <tr>\n",
              "      <th>2</th>\n",
              "      <td>1/3/2017</td>\n",
              "      <td>28</td>\n",
              "      <td>2</td>\n",
              "      <td>Snow</td>\n",
              "    </tr>\n",
              "    <tr>\n",
              "      <th>3</th>\n",
              "      <td>1/4/2017</td>\n",
              "      <td>24</td>\n",
              "      <td>7</td>\n",
              "      <td>Snow</td>\n",
              "    </tr>\n",
              "    <tr>\n",
              "      <th>4</th>\n",
              "      <td>1/5/2017</td>\n",
              "      <td>32</td>\n",
              "      <td>4</td>\n",
              "      <td>Rain</td>\n",
              "    </tr>\n",
              "    <tr>\n",
              "      <th>5</th>\n",
              "      <td>1/6/2017</td>\n",
              "      <td>31</td>\n",
              "      <td>2</td>\n",
              "      <td>Sunny</td>\n",
              "    </tr>\n",
              "  </tbody>\n",
              "</table>\n",
              "</div>"
            ],
            "text/plain": [
              "        day  temperature  windspeed  event\n",
              "0  1/1/2017           32          6   Rain\n",
              "1  1/2/2017           35          7  Sunny\n",
              "2  1/3/2017           28          2   Snow\n",
              "3  1/4/2017           24          7   Snow\n",
              "4  1/5/2017           32          4   Rain\n",
              "5  1/6/2017           31          2  Sunny"
            ]
          },
          "metadata": {
            "tags": []
          },
          "execution_count": 6
        }
      ]
    },
    {
      "cell_type": "code",
      "metadata": {
        "colab": {
          "base_uri": "https://localhost:8080/",
          "height": 263
        },
        "id": "t7KP-nJz85RG",
        "outputId": "1557a56a-33c3-40d9-9bd5-84525c319943"
      },
      "source": [
        "df.set_index('day')"
      ],
      "execution_count": null,
      "outputs": [
        {
          "output_type": "execute_result",
          "data": {
            "text/html": [
              "<div>\n",
              "<style scoped>\n",
              "    .dataframe tbody tr th:only-of-type {\n",
              "        vertical-align: middle;\n",
              "    }\n",
              "\n",
              "    .dataframe tbody tr th {\n",
              "        vertical-align: top;\n",
              "    }\n",
              "\n",
              "    .dataframe thead th {\n",
              "        text-align: right;\n",
              "    }\n",
              "</style>\n",
              "<table border=\"1\" class=\"dataframe\">\n",
              "  <thead>\n",
              "    <tr style=\"text-align: right;\">\n",
              "      <th></th>\n",
              "      <th>temperature</th>\n",
              "      <th>windspeed</th>\n",
              "      <th>event</th>\n",
              "    </tr>\n",
              "    <tr>\n",
              "      <th>day</th>\n",
              "      <th></th>\n",
              "      <th></th>\n",
              "      <th></th>\n",
              "    </tr>\n",
              "  </thead>\n",
              "  <tbody>\n",
              "    <tr>\n",
              "      <th>1/1/2017</th>\n",
              "      <td>32</td>\n",
              "      <td>6</td>\n",
              "      <td>Rain</td>\n",
              "    </tr>\n",
              "    <tr>\n",
              "      <th>1/2/2017</th>\n",
              "      <td>35</td>\n",
              "      <td>7</td>\n",
              "      <td>Sunny</td>\n",
              "    </tr>\n",
              "    <tr>\n",
              "      <th>1/3/2017</th>\n",
              "      <td>28</td>\n",
              "      <td>2</td>\n",
              "      <td>Snow</td>\n",
              "    </tr>\n",
              "    <tr>\n",
              "      <th>1/4/2017</th>\n",
              "      <td>24</td>\n",
              "      <td>7</td>\n",
              "      <td>Snow</td>\n",
              "    </tr>\n",
              "    <tr>\n",
              "      <th>1/5/2017</th>\n",
              "      <td>32</td>\n",
              "      <td>4</td>\n",
              "      <td>Rain</td>\n",
              "    </tr>\n",
              "    <tr>\n",
              "      <th>1/6/2017</th>\n",
              "      <td>31</td>\n",
              "      <td>2</td>\n",
              "      <td>Sunny</td>\n",
              "    </tr>\n",
              "  </tbody>\n",
              "</table>\n",
              "</div>"
            ],
            "text/plain": [
              "          temperature  windspeed  event\n",
              "day                                    \n",
              "1/1/2017           32          6   Rain\n",
              "1/2/2017           35          7  Sunny\n",
              "1/3/2017           28          2   Snow\n",
              "1/4/2017           24          7   Snow\n",
              "1/5/2017           32          4   Rain\n",
              "1/6/2017           31          2  Sunny"
            ]
          },
          "metadata": {
            "tags": []
          },
          "execution_count": 7
        }
      ]
    },
    {
      "cell_type": "code",
      "metadata": {
        "colab": {
          "base_uri": "https://localhost:8080/",
          "height": 235
        },
        "id": "VQmWd7D_9KkL",
        "outputId": "e86c59d2-6e6b-41ba-8b18-eb96c58c7afc"
      },
      "source": [
        "df"
      ],
      "execution_count": null,
      "outputs": [
        {
          "output_type": "execute_result",
          "data": {
            "text/html": [
              "<div>\n",
              "<style scoped>\n",
              "    .dataframe tbody tr th:only-of-type {\n",
              "        vertical-align: middle;\n",
              "    }\n",
              "\n",
              "    .dataframe tbody tr th {\n",
              "        vertical-align: top;\n",
              "    }\n",
              "\n",
              "    .dataframe thead th {\n",
              "        text-align: right;\n",
              "    }\n",
              "</style>\n",
              "<table border=\"1\" class=\"dataframe\">\n",
              "  <thead>\n",
              "    <tr style=\"text-align: right;\">\n",
              "      <th></th>\n",
              "      <th>day</th>\n",
              "      <th>temperature</th>\n",
              "      <th>windspeed</th>\n",
              "      <th>event</th>\n",
              "    </tr>\n",
              "  </thead>\n",
              "  <tbody>\n",
              "    <tr>\n",
              "      <th>0</th>\n",
              "      <td>1/1/2017</td>\n",
              "      <td>32</td>\n",
              "      <td>6</td>\n",
              "      <td>Rain</td>\n",
              "    </tr>\n",
              "    <tr>\n",
              "      <th>1</th>\n",
              "      <td>1/2/2017</td>\n",
              "      <td>35</td>\n",
              "      <td>7</td>\n",
              "      <td>Sunny</td>\n",
              "    </tr>\n",
              "    <tr>\n",
              "      <th>2</th>\n",
              "      <td>1/3/2017</td>\n",
              "      <td>28</td>\n",
              "      <td>2</td>\n",
              "      <td>Snow</td>\n",
              "    </tr>\n",
              "    <tr>\n",
              "      <th>3</th>\n",
              "      <td>1/4/2017</td>\n",
              "      <td>24</td>\n",
              "      <td>7</td>\n",
              "      <td>Snow</td>\n",
              "    </tr>\n",
              "    <tr>\n",
              "      <th>4</th>\n",
              "      <td>1/5/2017</td>\n",
              "      <td>32</td>\n",
              "      <td>4</td>\n",
              "      <td>Rain</td>\n",
              "    </tr>\n",
              "    <tr>\n",
              "      <th>5</th>\n",
              "      <td>1/6/2017</td>\n",
              "      <td>31</td>\n",
              "      <td>2</td>\n",
              "      <td>Sunny</td>\n",
              "    </tr>\n",
              "  </tbody>\n",
              "</table>\n",
              "</div>"
            ],
            "text/plain": [
              "        day  temperature  windspeed  event\n",
              "0  1/1/2017           32          6   Rain\n",
              "1  1/2/2017           35          7  Sunny\n",
              "2  1/3/2017           28          2   Snow\n",
              "3  1/4/2017           24          7   Snow\n",
              "4  1/5/2017           32          4   Rain\n",
              "5  1/6/2017           31          2  Sunny"
            ]
          },
          "metadata": {
            "tags": []
          },
          "execution_count": 8
        }
      ]
    },
    {
      "cell_type": "code",
      "metadata": {
        "id": "vHXLemDC9V7Q"
      },
      "source": [
        "df.set_index('day',inplace=True)\n",
        "\n",
        "#df=df.set_index('day')"
      ],
      "execution_count": null,
      "outputs": []
    },
    {
      "cell_type": "code",
      "metadata": {
        "colab": {
          "base_uri": "https://localhost:8080/",
          "height": 266
        },
        "id": "J1I3VImn9pxv",
        "outputId": "5c54d161-1a59-4de5-a0ca-446f53d1a8b8"
      },
      "source": [
        "df"
      ],
      "execution_count": null,
      "outputs": [
        {
          "output_type": "execute_result",
          "data": {
            "text/html": [
              "<div>\n",
              "<style scoped>\n",
              "    .dataframe tbody tr th:only-of-type {\n",
              "        vertical-align: middle;\n",
              "    }\n",
              "\n",
              "    .dataframe tbody tr th {\n",
              "        vertical-align: top;\n",
              "    }\n",
              "\n",
              "    .dataframe thead th {\n",
              "        text-align: right;\n",
              "    }\n",
              "</style>\n",
              "<table border=\"1\" class=\"dataframe\">\n",
              "  <thead>\n",
              "    <tr style=\"text-align: right;\">\n",
              "      <th></th>\n",
              "      <th>temperature</th>\n",
              "      <th>windspeed</th>\n",
              "      <th>event</th>\n",
              "    </tr>\n",
              "    <tr>\n",
              "      <th>day</th>\n",
              "      <th></th>\n",
              "      <th></th>\n",
              "      <th></th>\n",
              "    </tr>\n",
              "  </thead>\n",
              "  <tbody>\n",
              "    <tr>\n",
              "      <th>1/1/2017</th>\n",
              "      <td>32</td>\n",
              "      <td>6</td>\n",
              "      <td>Rain</td>\n",
              "    </tr>\n",
              "    <tr>\n",
              "      <th>1/2/2017</th>\n",
              "      <td>35</td>\n",
              "      <td>7</td>\n",
              "      <td>Sunny</td>\n",
              "    </tr>\n",
              "    <tr>\n",
              "      <th>1/3/2017</th>\n",
              "      <td>28</td>\n",
              "      <td>2</td>\n",
              "      <td>Snow</td>\n",
              "    </tr>\n",
              "    <tr>\n",
              "      <th>1/4/2017</th>\n",
              "      <td>24</td>\n",
              "      <td>7</td>\n",
              "      <td>Snow</td>\n",
              "    </tr>\n",
              "    <tr>\n",
              "      <th>1/5/2017</th>\n",
              "      <td>32</td>\n",
              "      <td>4</td>\n",
              "      <td>Rain</td>\n",
              "    </tr>\n",
              "    <tr>\n",
              "      <th>1/6/2017</th>\n",
              "      <td>31</td>\n",
              "      <td>2</td>\n",
              "      <td>Sunny</td>\n",
              "    </tr>\n",
              "  </tbody>\n",
              "</table>\n",
              "</div>"
            ],
            "text/plain": [
              "          temperature  windspeed  event\n",
              "day                                    \n",
              "1/1/2017           32          6   Rain\n",
              "1/2/2017           35          7  Sunny\n",
              "1/3/2017           28          2   Snow\n",
              "1/4/2017           24          7   Snow\n",
              "1/5/2017           32          4   Rain\n",
              "1/6/2017           31          2  Sunny"
            ]
          },
          "metadata": {
            "tags": []
          },
          "execution_count": 10
        }
      ]
    },
    {
      "cell_type": "code",
      "metadata": {
        "id": "BnMFtSqQ9qda"
      },
      "source": [
        "df.reset_index(inplace=True)"
      ],
      "execution_count": null,
      "outputs": []
    },
    {
      "cell_type": "code",
      "metadata": {
        "colab": {
          "base_uri": "https://localhost:8080/",
          "height": 235
        },
        "id": "Hy-DWy6S-DeN",
        "outputId": "65e62bba-47b8-4372-a3df-f9f9151d9c76"
      },
      "source": [
        "df"
      ],
      "execution_count": null,
      "outputs": [
        {
          "output_type": "execute_result",
          "data": {
            "text/html": [
              "<div>\n",
              "<style scoped>\n",
              "    .dataframe tbody tr th:only-of-type {\n",
              "        vertical-align: middle;\n",
              "    }\n",
              "\n",
              "    .dataframe tbody tr th {\n",
              "        vertical-align: top;\n",
              "    }\n",
              "\n",
              "    .dataframe thead th {\n",
              "        text-align: right;\n",
              "    }\n",
              "</style>\n",
              "<table border=\"1\" class=\"dataframe\">\n",
              "  <thead>\n",
              "    <tr style=\"text-align: right;\">\n",
              "      <th></th>\n",
              "      <th>day</th>\n",
              "      <th>temperature</th>\n",
              "      <th>windspeed</th>\n",
              "      <th>event</th>\n",
              "    </tr>\n",
              "  </thead>\n",
              "  <tbody>\n",
              "    <tr>\n",
              "      <th>0</th>\n",
              "      <td>1/1/2017</td>\n",
              "      <td>32</td>\n",
              "      <td>6</td>\n",
              "      <td>Rain</td>\n",
              "    </tr>\n",
              "    <tr>\n",
              "      <th>1</th>\n",
              "      <td>1/2/2017</td>\n",
              "      <td>35</td>\n",
              "      <td>7</td>\n",
              "      <td>Sunny</td>\n",
              "    </tr>\n",
              "    <tr>\n",
              "      <th>2</th>\n",
              "      <td>1/3/2017</td>\n",
              "      <td>28</td>\n",
              "      <td>2</td>\n",
              "      <td>Snow</td>\n",
              "    </tr>\n",
              "    <tr>\n",
              "      <th>3</th>\n",
              "      <td>1/4/2017</td>\n",
              "      <td>24</td>\n",
              "      <td>7</td>\n",
              "      <td>Snow</td>\n",
              "    </tr>\n",
              "    <tr>\n",
              "      <th>4</th>\n",
              "      <td>1/5/2017</td>\n",
              "      <td>32</td>\n",
              "      <td>4</td>\n",
              "      <td>Rain</td>\n",
              "    </tr>\n",
              "    <tr>\n",
              "      <th>5</th>\n",
              "      <td>1/6/2017</td>\n",
              "      <td>31</td>\n",
              "      <td>2</td>\n",
              "      <td>Sunny</td>\n",
              "    </tr>\n",
              "  </tbody>\n",
              "</table>\n",
              "</div>"
            ],
            "text/plain": [
              "        day  temperature  windspeed  event\n",
              "0  1/1/2017           32          6   Rain\n",
              "1  1/2/2017           35          7  Sunny\n",
              "2  1/3/2017           28          2   Snow\n",
              "3  1/4/2017           24          7   Snow\n",
              "4  1/5/2017           32          4   Rain\n",
              "5  1/6/2017           31          2  Sunny"
            ]
          },
          "metadata": {
            "tags": []
          },
          "execution_count": 15
        }
      ]
    },
    {
      "cell_type": "code",
      "metadata": {
        "colab": {
          "base_uri": "https://localhost:8080/"
        },
        "id": "aehYwFy8-FMX",
        "outputId": "fda32f0d-3d19-4f4f-b407-a16ec709cd59"
      },
      "source": [
        "df['temperature']"
      ],
      "execution_count": null,
      "outputs": [
        {
          "output_type": "execute_result",
          "data": {
            "text/plain": [
              "0    32\n",
              "1    35\n",
              "2    28\n",
              "3    24\n",
              "4    32\n",
              "5    31\n",
              "Name: temperature, dtype: int64"
            ]
          },
          "metadata": {
            "tags": []
          },
          "execution_count": 16
        }
      ]
    },
    {
      "cell_type": "code",
      "metadata": {
        "colab": {
          "base_uri": "https://localhost:8080/"
        },
        "id": "F6l9MNBu-e_u",
        "outputId": "3abd756d-64cb-49cf-b866-35474d506d38"
      },
      "source": [
        "df['windspeed']"
      ],
      "execution_count": null,
      "outputs": [
        {
          "output_type": "execute_result",
          "data": {
            "text/plain": [
              "0    6\n",
              "1    7\n",
              "2    2\n",
              "3    7\n",
              "4    4\n",
              "5    2\n",
              "Name: windspeed, dtype: int64"
            ]
          },
          "metadata": {
            "tags": []
          },
          "execution_count": 17
        }
      ]
    },
    {
      "cell_type": "code",
      "metadata": {
        "id": "uiCKKcXC-oAv"
      },
      "source": [
        "df['temperature']=df['temperature']+1"
      ],
      "execution_count": null,
      "outputs": []
    },
    {
      "cell_type": "code",
      "metadata": {
        "colab": {
          "base_uri": "https://localhost:8080/",
          "height": 235
        },
        "id": "K_V9Kt7o-s6p",
        "outputId": "223fb9bb-0f53-40c5-ca49-19d02ba04770"
      },
      "source": [
        "df"
      ],
      "execution_count": null,
      "outputs": [
        {
          "output_type": "execute_result",
          "data": {
            "text/html": [
              "<div>\n",
              "<style scoped>\n",
              "    .dataframe tbody tr th:only-of-type {\n",
              "        vertical-align: middle;\n",
              "    }\n",
              "\n",
              "    .dataframe tbody tr th {\n",
              "        vertical-align: top;\n",
              "    }\n",
              "\n",
              "    .dataframe thead th {\n",
              "        text-align: right;\n",
              "    }\n",
              "</style>\n",
              "<table border=\"1\" class=\"dataframe\">\n",
              "  <thead>\n",
              "    <tr style=\"text-align: right;\">\n",
              "      <th></th>\n",
              "      <th>day</th>\n",
              "      <th>temperature</th>\n",
              "      <th>windspeed</th>\n",
              "      <th>event</th>\n",
              "    </tr>\n",
              "  </thead>\n",
              "  <tbody>\n",
              "    <tr>\n",
              "      <th>0</th>\n",
              "      <td>1/1/2017</td>\n",
              "      <td>33</td>\n",
              "      <td>6</td>\n",
              "      <td>Rain</td>\n",
              "    </tr>\n",
              "    <tr>\n",
              "      <th>1</th>\n",
              "      <td>1/2/2017</td>\n",
              "      <td>36</td>\n",
              "      <td>7</td>\n",
              "      <td>Sunny</td>\n",
              "    </tr>\n",
              "    <tr>\n",
              "      <th>2</th>\n",
              "      <td>1/3/2017</td>\n",
              "      <td>29</td>\n",
              "      <td>2</td>\n",
              "      <td>Snow</td>\n",
              "    </tr>\n",
              "    <tr>\n",
              "      <th>3</th>\n",
              "      <td>1/4/2017</td>\n",
              "      <td>25</td>\n",
              "      <td>7</td>\n",
              "      <td>Snow</td>\n",
              "    </tr>\n",
              "    <tr>\n",
              "      <th>4</th>\n",
              "      <td>1/5/2017</td>\n",
              "      <td>33</td>\n",
              "      <td>4</td>\n",
              "      <td>Rain</td>\n",
              "    </tr>\n",
              "    <tr>\n",
              "      <th>5</th>\n",
              "      <td>1/6/2017</td>\n",
              "      <td>32</td>\n",
              "      <td>2</td>\n",
              "      <td>Sunny</td>\n",
              "    </tr>\n",
              "  </tbody>\n",
              "</table>\n",
              "</div>"
            ],
            "text/plain": [
              "        day  temperature  windspeed  event\n",
              "0  1/1/2017           33          6   Rain\n",
              "1  1/2/2017           36          7  Sunny\n",
              "2  1/3/2017           29          2   Snow\n",
              "3  1/4/2017           25          7   Snow\n",
              "4  1/5/2017           33          4   Rain\n",
              "5  1/6/2017           32          2  Sunny"
            ]
          },
          "metadata": {
            "tags": []
          },
          "execution_count": 19
        }
      ]
    },
    {
      "cell_type": "code",
      "metadata": {
        "colab": {
          "base_uri": "https://localhost:8080/",
          "height": 235
        },
        "id": "fPsXiNDb-unQ",
        "outputId": "6d3a6dc9-8c84-4ef2-8b2f-932992a75e87"
      },
      "source": [
        "df[['temperature','event']]"
      ],
      "execution_count": null,
      "outputs": [
        {
          "output_type": "execute_result",
          "data": {
            "text/html": [
              "<div>\n",
              "<style scoped>\n",
              "    .dataframe tbody tr th:only-of-type {\n",
              "        vertical-align: middle;\n",
              "    }\n",
              "\n",
              "    .dataframe tbody tr th {\n",
              "        vertical-align: top;\n",
              "    }\n",
              "\n",
              "    .dataframe thead th {\n",
              "        text-align: right;\n",
              "    }\n",
              "</style>\n",
              "<table border=\"1\" class=\"dataframe\">\n",
              "  <thead>\n",
              "    <tr style=\"text-align: right;\">\n",
              "      <th></th>\n",
              "      <th>temperature</th>\n",
              "      <th>event</th>\n",
              "    </tr>\n",
              "  </thead>\n",
              "  <tbody>\n",
              "    <tr>\n",
              "      <th>0</th>\n",
              "      <td>33</td>\n",
              "      <td>Rain</td>\n",
              "    </tr>\n",
              "    <tr>\n",
              "      <th>1</th>\n",
              "      <td>36</td>\n",
              "      <td>Sunny</td>\n",
              "    </tr>\n",
              "    <tr>\n",
              "      <th>2</th>\n",
              "      <td>29</td>\n",
              "      <td>Snow</td>\n",
              "    </tr>\n",
              "    <tr>\n",
              "      <th>3</th>\n",
              "      <td>25</td>\n",
              "      <td>Snow</td>\n",
              "    </tr>\n",
              "    <tr>\n",
              "      <th>4</th>\n",
              "      <td>33</td>\n",
              "      <td>Rain</td>\n",
              "    </tr>\n",
              "    <tr>\n",
              "      <th>5</th>\n",
              "      <td>32</td>\n",
              "      <td>Sunny</td>\n",
              "    </tr>\n",
              "  </tbody>\n",
              "</table>\n",
              "</div>"
            ],
            "text/plain": [
              "   temperature  event\n",
              "0           33   Rain\n",
              "1           36  Sunny\n",
              "2           29   Snow\n",
              "3           25   Snow\n",
              "4           33   Rain\n",
              "5           32  Sunny"
            ]
          },
          "metadata": {
            "tags": []
          },
          "execution_count": 20
        }
      ]
    },
    {
      "cell_type": "code",
      "metadata": {
        "colab": {
          "base_uri": "https://localhost:8080/"
        },
        "id": "kYrHyOTT_VYL",
        "outputId": "38c82426-6beb-479b-c736-daef5751a929"
      },
      "source": [
        "df.event"
      ],
      "execution_count": null,
      "outputs": [
        {
          "output_type": "execute_result",
          "data": {
            "text/plain": [
              "0     Rain\n",
              "1    Sunny\n",
              "2     Snow\n",
              "3     Snow\n",
              "4     Rain\n",
              "5    Sunny\n",
              "Name: event, dtype: object"
            ]
          },
          "metadata": {
            "tags": []
          },
          "execution_count": 21
        }
      ]
    },
    {
      "cell_type": "code",
      "metadata": {
        "colab": {
          "base_uri": "https://localhost:8080/"
        },
        "id": "Qd86zr1S_u1N",
        "outputId": "68023ef1-9632-4850-8da3-a6e1a9a27d9d"
      },
      "source": [
        "df['event']"
      ],
      "execution_count": null,
      "outputs": [
        {
          "output_type": "execute_result",
          "data": {
            "text/plain": [
              "0     Rain\n",
              "1    Sunny\n",
              "2     Snow\n",
              "3     Snow\n",
              "4     Rain\n",
              "5    Sunny\n",
              "Name: event, dtype: object"
            ]
          },
          "metadata": {
            "tags": []
          },
          "execution_count": 22
        }
      ]
    },
    {
      "cell_type": "code",
      "metadata": {
        "id": "d9LUW7zj_xaY"
      },
      "source": [
        "df.rename(columns={'event':'EVENT','day':'Date'},inplace=True)"
      ],
      "execution_count": null,
      "outputs": []
    },
    {
      "cell_type": "code",
      "metadata": {
        "colab": {
          "base_uri": "https://localhost:8080/",
          "height": 235
        },
        "id": "txPr-SCTAPSw",
        "outputId": "8b4c8187-60ab-40f2-c8b7-9ba9661cda33"
      },
      "source": [
        "df"
      ],
      "execution_count": null,
      "outputs": [
        {
          "output_type": "execute_result",
          "data": {
            "text/html": [
              "<div>\n",
              "<style scoped>\n",
              "    .dataframe tbody tr th:only-of-type {\n",
              "        vertical-align: middle;\n",
              "    }\n",
              "\n",
              "    .dataframe tbody tr th {\n",
              "        vertical-align: top;\n",
              "    }\n",
              "\n",
              "    .dataframe thead th {\n",
              "        text-align: right;\n",
              "    }\n",
              "</style>\n",
              "<table border=\"1\" class=\"dataframe\">\n",
              "  <thead>\n",
              "    <tr style=\"text-align: right;\">\n",
              "      <th></th>\n",
              "      <th>Date</th>\n",
              "      <th>temperature</th>\n",
              "      <th>windspeed</th>\n",
              "      <th>EVENT</th>\n",
              "    </tr>\n",
              "  </thead>\n",
              "  <tbody>\n",
              "    <tr>\n",
              "      <th>0</th>\n",
              "      <td>1/1/2017</td>\n",
              "      <td>33</td>\n",
              "      <td>6</td>\n",
              "      <td>Rain</td>\n",
              "    </tr>\n",
              "    <tr>\n",
              "      <th>1</th>\n",
              "      <td>1/2/2017</td>\n",
              "      <td>36</td>\n",
              "      <td>7</td>\n",
              "      <td>Sunny</td>\n",
              "    </tr>\n",
              "    <tr>\n",
              "      <th>2</th>\n",
              "      <td>1/3/2017</td>\n",
              "      <td>29</td>\n",
              "      <td>2</td>\n",
              "      <td>Snow</td>\n",
              "    </tr>\n",
              "    <tr>\n",
              "      <th>3</th>\n",
              "      <td>1/4/2017</td>\n",
              "      <td>25</td>\n",
              "      <td>7</td>\n",
              "      <td>Snow</td>\n",
              "    </tr>\n",
              "    <tr>\n",
              "      <th>4</th>\n",
              "      <td>1/5/2017</td>\n",
              "      <td>33</td>\n",
              "      <td>4</td>\n",
              "      <td>Rain</td>\n",
              "    </tr>\n",
              "    <tr>\n",
              "      <th>5</th>\n",
              "      <td>1/6/2017</td>\n",
              "      <td>32</td>\n",
              "      <td>2</td>\n",
              "      <td>Sunny</td>\n",
              "    </tr>\n",
              "  </tbody>\n",
              "</table>\n",
              "</div>"
            ],
            "text/plain": [
              "       Date  temperature  windspeed  EVENT\n",
              "0  1/1/2017           33          6   Rain\n",
              "1  1/2/2017           36          7  Sunny\n",
              "2  1/3/2017           29          2   Snow\n",
              "3  1/4/2017           25          7   Snow\n",
              "4  1/5/2017           33          4   Rain\n",
              "5  1/6/2017           32          2  Sunny"
            ]
          },
          "metadata": {
            "tags": []
          },
          "execution_count": 24
        }
      ]
    },
    {
      "cell_type": "code",
      "metadata": {
        "colab": {
          "base_uri": "https://localhost:8080/"
        },
        "id": "KxSQ4M8lA6Py",
        "outputId": "d21e4ac5-2aa2-4253-cfe6-a5d90b9cc1f4"
      },
      "source": [
        "df.dtypes"
      ],
      "execution_count": null,
      "outputs": [
        {
          "output_type": "execute_result",
          "data": {
            "text/plain": [
              "Date           object\n",
              "temperature     int64\n",
              "windspeed       int64\n",
              "EVENT          object\n",
              "dtype: object"
            ]
          },
          "metadata": {
            "tags": []
          },
          "execution_count": 27
        }
      ]
    },
    {
      "cell_type": "code",
      "metadata": {
        "colab": {
          "base_uri": "https://localhost:8080/",
          "height": 297
        },
        "id": "GIdWIlvVAP97",
        "outputId": "b4b72cd7-0da5-4161-c2ce-04ecba14d315"
      },
      "source": [
        "df.describe()"
      ],
      "execution_count": null,
      "outputs": [
        {
          "output_type": "execute_result",
          "data": {
            "text/html": [
              "<div>\n",
              "<style scoped>\n",
              "    .dataframe tbody tr th:only-of-type {\n",
              "        vertical-align: middle;\n",
              "    }\n",
              "\n",
              "    .dataframe tbody tr th {\n",
              "        vertical-align: top;\n",
              "    }\n",
              "\n",
              "    .dataframe thead th {\n",
              "        text-align: right;\n",
              "    }\n",
              "</style>\n",
              "<table border=\"1\" class=\"dataframe\">\n",
              "  <thead>\n",
              "    <tr style=\"text-align: right;\">\n",
              "      <th></th>\n",
              "      <th>temperature</th>\n",
              "      <th>windspeed</th>\n",
              "    </tr>\n",
              "  </thead>\n",
              "  <tbody>\n",
              "    <tr>\n",
              "      <th>count</th>\n",
              "      <td>6.000000</td>\n",
              "      <td>6.000000</td>\n",
              "    </tr>\n",
              "    <tr>\n",
              "      <th>mean</th>\n",
              "      <td>31.333333</td>\n",
              "      <td>4.666667</td>\n",
              "    </tr>\n",
              "    <tr>\n",
              "      <th>std</th>\n",
              "      <td>3.829708</td>\n",
              "      <td>2.338090</td>\n",
              "    </tr>\n",
              "    <tr>\n",
              "      <th>min</th>\n",
              "      <td>25.000000</td>\n",
              "      <td>2.000000</td>\n",
              "    </tr>\n",
              "    <tr>\n",
              "      <th>25%</th>\n",
              "      <td>29.750000</td>\n",
              "      <td>2.500000</td>\n",
              "    </tr>\n",
              "    <tr>\n",
              "      <th>50%</th>\n",
              "      <td>32.500000</td>\n",
              "      <td>5.000000</td>\n",
              "    </tr>\n",
              "    <tr>\n",
              "      <th>75%</th>\n",
              "      <td>33.000000</td>\n",
              "      <td>6.750000</td>\n",
              "    </tr>\n",
              "    <tr>\n",
              "      <th>max</th>\n",
              "      <td>36.000000</td>\n",
              "      <td>7.000000</td>\n",
              "    </tr>\n",
              "  </tbody>\n",
              "</table>\n",
              "</div>"
            ],
            "text/plain": [
              "       temperature  windspeed\n",
              "count     6.000000   6.000000\n",
              "mean     31.333333   4.666667\n",
              "std       3.829708   2.338090\n",
              "min      25.000000   2.000000\n",
              "25%      29.750000   2.500000\n",
              "50%      32.500000   5.000000\n",
              "75%      33.000000   6.750000\n",
              "max      36.000000   7.000000"
            ]
          },
          "metadata": {
            "tags": []
          },
          "execution_count": 25
        }
      ]
    },
    {
      "cell_type": "code",
      "metadata": {
        "colab": {
          "base_uri": "https://localhost:8080/",
          "height": 390
        },
        "id": "chZ34dxFAmNv",
        "outputId": "cbacb546-6f4a-4867-ef9e-7bd1d78efd83"
      },
      "source": [
        "df.describe(include='all')"
      ],
      "execution_count": null,
      "outputs": [
        {
          "output_type": "execute_result",
          "data": {
            "text/html": [
              "<div>\n",
              "<style scoped>\n",
              "    .dataframe tbody tr th:only-of-type {\n",
              "        vertical-align: middle;\n",
              "    }\n",
              "\n",
              "    .dataframe tbody tr th {\n",
              "        vertical-align: top;\n",
              "    }\n",
              "\n",
              "    .dataframe thead th {\n",
              "        text-align: right;\n",
              "    }\n",
              "</style>\n",
              "<table border=\"1\" class=\"dataframe\">\n",
              "  <thead>\n",
              "    <tr style=\"text-align: right;\">\n",
              "      <th></th>\n",
              "      <th>Date</th>\n",
              "      <th>temperature</th>\n",
              "      <th>windspeed</th>\n",
              "      <th>EVENT</th>\n",
              "    </tr>\n",
              "  </thead>\n",
              "  <tbody>\n",
              "    <tr>\n",
              "      <th>count</th>\n",
              "      <td>6</td>\n",
              "      <td>6.000000</td>\n",
              "      <td>6.000000</td>\n",
              "      <td>6</td>\n",
              "    </tr>\n",
              "    <tr>\n",
              "      <th>unique</th>\n",
              "      <td>6</td>\n",
              "      <td>NaN</td>\n",
              "      <td>NaN</td>\n",
              "      <td>3</td>\n",
              "    </tr>\n",
              "    <tr>\n",
              "      <th>top</th>\n",
              "      <td>1/6/2017</td>\n",
              "      <td>NaN</td>\n",
              "      <td>NaN</td>\n",
              "      <td>Rain</td>\n",
              "    </tr>\n",
              "    <tr>\n",
              "      <th>freq</th>\n",
              "      <td>1</td>\n",
              "      <td>NaN</td>\n",
              "      <td>NaN</td>\n",
              "      <td>2</td>\n",
              "    </tr>\n",
              "    <tr>\n",
              "      <th>mean</th>\n",
              "      <td>NaN</td>\n",
              "      <td>31.333333</td>\n",
              "      <td>4.666667</td>\n",
              "      <td>NaN</td>\n",
              "    </tr>\n",
              "    <tr>\n",
              "      <th>std</th>\n",
              "      <td>NaN</td>\n",
              "      <td>3.829708</td>\n",
              "      <td>2.338090</td>\n",
              "      <td>NaN</td>\n",
              "    </tr>\n",
              "    <tr>\n",
              "      <th>min</th>\n",
              "      <td>NaN</td>\n",
              "      <td>25.000000</td>\n",
              "      <td>2.000000</td>\n",
              "      <td>NaN</td>\n",
              "    </tr>\n",
              "    <tr>\n",
              "      <th>25%</th>\n",
              "      <td>NaN</td>\n",
              "      <td>29.750000</td>\n",
              "      <td>2.500000</td>\n",
              "      <td>NaN</td>\n",
              "    </tr>\n",
              "    <tr>\n",
              "      <th>50%</th>\n",
              "      <td>NaN</td>\n",
              "      <td>32.500000</td>\n",
              "      <td>5.000000</td>\n",
              "      <td>NaN</td>\n",
              "    </tr>\n",
              "    <tr>\n",
              "      <th>75%</th>\n",
              "      <td>NaN</td>\n",
              "      <td>33.000000</td>\n",
              "      <td>6.750000</td>\n",
              "      <td>NaN</td>\n",
              "    </tr>\n",
              "    <tr>\n",
              "      <th>max</th>\n",
              "      <td>NaN</td>\n",
              "      <td>36.000000</td>\n",
              "      <td>7.000000</td>\n",
              "      <td>NaN</td>\n",
              "    </tr>\n",
              "  </tbody>\n",
              "</table>\n",
              "</div>"
            ],
            "text/plain": [
              "            Date  temperature  windspeed EVENT\n",
              "count          6     6.000000   6.000000     6\n",
              "unique         6          NaN        NaN     3\n",
              "top     1/6/2017          NaN        NaN  Rain\n",
              "freq           1          NaN        NaN     2\n",
              "mean         NaN    31.333333   4.666667   NaN\n",
              "std          NaN     3.829708   2.338090   NaN\n",
              "min          NaN    25.000000   2.000000   NaN\n",
              "25%          NaN    29.750000   2.500000   NaN\n",
              "50%          NaN    32.500000   5.000000   NaN\n",
              "75%          NaN    33.000000   6.750000   NaN\n",
              "max          NaN    36.000000   7.000000   NaN"
            ]
          },
          "metadata": {
            "tags": []
          },
          "execution_count": 26
        }
      ]
    },
    {
      "cell_type": "code",
      "metadata": {
        "colab": {
          "base_uri": "https://localhost:8080/"
        },
        "id": "_8Owzhb5A3cN",
        "outputId": "b53009bf-f8b8-4fa9-8a10-eee790a61bd2"
      },
      "source": [
        "df['EVENT'].value_counts()"
      ],
      "execution_count": null,
      "outputs": [
        {
          "output_type": "execute_result",
          "data": {
            "text/plain": [
              "Rain     2\n",
              "Snow     2\n",
              "Sunny    2\n",
              "Name: EVENT, dtype: int64"
            ]
          },
          "metadata": {
            "tags": []
          },
          "execution_count": 28
        }
      ]
    },
    {
      "cell_type": "code",
      "metadata": {
        "colab": {
          "base_uri": "https://localhost:8080/"
        },
        "id": "a82_dzY6BRV3",
        "outputId": "eafdd2ac-5094-4647-a03d-e971fb2f1a98"
      },
      "source": [
        "df['Date'].value_counts()"
      ],
      "execution_count": null,
      "outputs": [
        {
          "output_type": "execute_result",
          "data": {
            "text/plain": [
              "1/6/2017    1\n",
              "1/5/2017    1\n",
              "1/4/2017    1\n",
              "1/2/2017    1\n",
              "1/1/2017    1\n",
              "1/3/2017    1\n",
              "Name: Date, dtype: int64"
            ]
          },
          "metadata": {
            "tags": []
          },
          "execution_count": 29
        }
      ]
    },
    {
      "cell_type": "code",
      "metadata": {
        "id": "QxgZAtcZBdyP"
      },
      "source": [
        "df.drop(['EVENT'],axis=1,inplace=True)"
      ],
      "execution_count": null,
      "outputs": []
    },
    {
      "cell_type": "code",
      "metadata": {
        "colab": {
          "base_uri": "https://localhost:8080/",
          "height": 235
        },
        "id": "AO6gKUacB4fP",
        "outputId": "ada5f1cc-75eb-4f3d-f15e-f405d1487dad"
      },
      "source": [
        "df"
      ],
      "execution_count": null,
      "outputs": [
        {
          "output_type": "execute_result",
          "data": {
            "text/html": [
              "<div>\n",
              "<style scoped>\n",
              "    .dataframe tbody tr th:only-of-type {\n",
              "        vertical-align: middle;\n",
              "    }\n",
              "\n",
              "    .dataframe tbody tr th {\n",
              "        vertical-align: top;\n",
              "    }\n",
              "\n",
              "    .dataframe thead th {\n",
              "        text-align: right;\n",
              "    }\n",
              "</style>\n",
              "<table border=\"1\" class=\"dataframe\">\n",
              "  <thead>\n",
              "    <tr style=\"text-align: right;\">\n",
              "      <th></th>\n",
              "      <th>Date</th>\n",
              "      <th>temperature</th>\n",
              "      <th>windspeed</th>\n",
              "    </tr>\n",
              "  </thead>\n",
              "  <tbody>\n",
              "    <tr>\n",
              "      <th>0</th>\n",
              "      <td>1/1/2017</td>\n",
              "      <td>33</td>\n",
              "      <td>6</td>\n",
              "    </tr>\n",
              "    <tr>\n",
              "      <th>1</th>\n",
              "      <td>1/2/2017</td>\n",
              "      <td>36</td>\n",
              "      <td>7</td>\n",
              "    </tr>\n",
              "    <tr>\n",
              "      <th>2</th>\n",
              "      <td>1/3/2017</td>\n",
              "      <td>29</td>\n",
              "      <td>2</td>\n",
              "    </tr>\n",
              "    <tr>\n",
              "      <th>3</th>\n",
              "      <td>1/4/2017</td>\n",
              "      <td>25</td>\n",
              "      <td>7</td>\n",
              "    </tr>\n",
              "    <tr>\n",
              "      <th>4</th>\n",
              "      <td>1/5/2017</td>\n",
              "      <td>33</td>\n",
              "      <td>4</td>\n",
              "    </tr>\n",
              "    <tr>\n",
              "      <th>5</th>\n",
              "      <td>1/6/2017</td>\n",
              "      <td>32</td>\n",
              "      <td>2</td>\n",
              "    </tr>\n",
              "  </tbody>\n",
              "</table>\n",
              "</div>"
            ],
            "text/plain": [
              "       Date  temperature  windspeed\n",
              "0  1/1/2017           33          6\n",
              "1  1/2/2017           36          7\n",
              "2  1/3/2017           29          2\n",
              "3  1/4/2017           25          7\n",
              "4  1/5/2017           33          4\n",
              "5  1/6/2017           32          2"
            ]
          },
          "metadata": {
            "tags": []
          },
          "execution_count": 34
        }
      ]
    },
    {
      "cell_type": "code",
      "metadata": {
        "id": "Ou88dR-yCqZ7"
      },
      "source": [
        "import pandas as pd\n",
        "df=pd.read_csv('/content/drive/MyDrive/FoDS-2021/data/weather_data.csv')"
      ],
      "execution_count": null,
      "outputs": []
    },
    {
      "cell_type": "code",
      "metadata": {
        "colab": {
          "base_uri": "https://localhost:8080/",
          "height": 235
        },
        "id": "3DB1Ape6CCRP",
        "outputId": "9479610a-244c-41b4-e9ab-dfaaf2e48bc1"
      },
      "source": [
        "df"
      ],
      "execution_count": null,
      "outputs": [
        {
          "output_type": "execute_result",
          "data": {
            "text/html": [
              "<div>\n",
              "<style scoped>\n",
              "    .dataframe tbody tr th:only-of-type {\n",
              "        vertical-align: middle;\n",
              "    }\n",
              "\n",
              "    .dataframe tbody tr th {\n",
              "        vertical-align: top;\n",
              "    }\n",
              "\n",
              "    .dataframe thead th {\n",
              "        text-align: right;\n",
              "    }\n",
              "</style>\n",
              "<table border=\"1\" class=\"dataframe\">\n",
              "  <thead>\n",
              "    <tr style=\"text-align: right;\">\n",
              "      <th></th>\n",
              "      <th>day</th>\n",
              "      <th>temperature</th>\n",
              "      <th>windspeed</th>\n",
              "      <th>event</th>\n",
              "    </tr>\n",
              "  </thead>\n",
              "  <tbody>\n",
              "    <tr>\n",
              "      <th>0</th>\n",
              "      <td>1/1/2017</td>\n",
              "      <td>32</td>\n",
              "      <td>6</td>\n",
              "      <td>Rain</td>\n",
              "    </tr>\n",
              "    <tr>\n",
              "      <th>1</th>\n",
              "      <td>1/2/2017</td>\n",
              "      <td>35</td>\n",
              "      <td>7</td>\n",
              "      <td>Sunny</td>\n",
              "    </tr>\n",
              "    <tr>\n",
              "      <th>2</th>\n",
              "      <td>1/3/2017</td>\n",
              "      <td>28</td>\n",
              "      <td>2</td>\n",
              "      <td>Snow</td>\n",
              "    </tr>\n",
              "    <tr>\n",
              "      <th>3</th>\n",
              "      <td>1/4/2017</td>\n",
              "      <td>24</td>\n",
              "      <td>7</td>\n",
              "      <td>Snow</td>\n",
              "    </tr>\n",
              "    <tr>\n",
              "      <th>4</th>\n",
              "      <td>1/5/2017</td>\n",
              "      <td>32</td>\n",
              "      <td>4</td>\n",
              "      <td>Rain</td>\n",
              "    </tr>\n",
              "    <tr>\n",
              "      <th>5</th>\n",
              "      <td>1/6/2017</td>\n",
              "      <td>31</td>\n",
              "      <td>2</td>\n",
              "      <td>Sunny</td>\n",
              "    </tr>\n",
              "  </tbody>\n",
              "</table>\n",
              "</div>"
            ],
            "text/plain": [
              "        day  temperature  windspeed  event\n",
              "0  1/1/2017           32          6   Rain\n",
              "1  1/2/2017           35          7  Sunny\n",
              "2  1/3/2017           28          2   Snow\n",
              "3  1/4/2017           24          7   Snow\n",
              "4  1/5/2017           32          4   Rain\n",
              "5  1/6/2017           31          2  Sunny"
            ]
          },
          "metadata": {
            "tags": []
          },
          "execution_count": 40
        }
      ]
    },
    {
      "cell_type": "code",
      "metadata": {
        "colab": {
          "base_uri": "https://localhost:8080/",
          "height": 235
        },
        "id": "dq0gwW_ICe-S",
        "outputId": "9025e18b-a4b9-4202-9113-742b58f28f15"
      },
      "source": [
        "df.drop(['temperature','windspeed'],axis=1)"
      ],
      "execution_count": null,
      "outputs": [
        {
          "output_type": "execute_result",
          "data": {
            "text/html": [
              "<div>\n",
              "<style scoped>\n",
              "    .dataframe tbody tr th:only-of-type {\n",
              "        vertical-align: middle;\n",
              "    }\n",
              "\n",
              "    .dataframe tbody tr th {\n",
              "        vertical-align: top;\n",
              "    }\n",
              "\n",
              "    .dataframe thead th {\n",
              "        text-align: right;\n",
              "    }\n",
              "</style>\n",
              "<table border=\"1\" class=\"dataframe\">\n",
              "  <thead>\n",
              "    <tr style=\"text-align: right;\">\n",
              "      <th></th>\n",
              "      <th>day</th>\n",
              "      <th>event</th>\n",
              "    </tr>\n",
              "  </thead>\n",
              "  <tbody>\n",
              "    <tr>\n",
              "      <th>0</th>\n",
              "      <td>1/1/2017</td>\n",
              "      <td>Rain</td>\n",
              "    </tr>\n",
              "    <tr>\n",
              "      <th>1</th>\n",
              "      <td>1/2/2017</td>\n",
              "      <td>Sunny</td>\n",
              "    </tr>\n",
              "    <tr>\n",
              "      <th>2</th>\n",
              "      <td>1/3/2017</td>\n",
              "      <td>Snow</td>\n",
              "    </tr>\n",
              "    <tr>\n",
              "      <th>3</th>\n",
              "      <td>1/4/2017</td>\n",
              "      <td>Snow</td>\n",
              "    </tr>\n",
              "    <tr>\n",
              "      <th>4</th>\n",
              "      <td>1/5/2017</td>\n",
              "      <td>Rain</td>\n",
              "    </tr>\n",
              "    <tr>\n",
              "      <th>5</th>\n",
              "      <td>1/6/2017</td>\n",
              "      <td>Sunny</td>\n",
              "    </tr>\n",
              "  </tbody>\n",
              "</table>\n",
              "</div>"
            ],
            "text/plain": [
              "        day  event\n",
              "0  1/1/2017   Rain\n",
              "1  1/2/2017  Sunny\n",
              "2  1/3/2017   Snow\n",
              "3  1/4/2017   Snow\n",
              "4  1/5/2017   Rain\n",
              "5  1/6/2017  Sunny"
            ]
          },
          "metadata": {
            "tags": []
          },
          "execution_count": 42
        }
      ]
    },
    {
      "cell_type": "code",
      "metadata": {
        "colab": {
          "base_uri": "https://localhost:8080/",
          "height": 235
        },
        "id": "WxhdC3ciC3J3",
        "outputId": "23ca3352-7573-4cd9-ea0d-a5319fc7c326"
      },
      "source": [
        "df"
      ],
      "execution_count": null,
      "outputs": [
        {
          "output_type": "execute_result",
          "data": {
            "text/html": [
              "<div>\n",
              "<style scoped>\n",
              "    .dataframe tbody tr th:only-of-type {\n",
              "        vertical-align: middle;\n",
              "    }\n",
              "\n",
              "    .dataframe tbody tr th {\n",
              "        vertical-align: top;\n",
              "    }\n",
              "\n",
              "    .dataframe thead th {\n",
              "        text-align: right;\n",
              "    }\n",
              "</style>\n",
              "<table border=\"1\" class=\"dataframe\">\n",
              "  <thead>\n",
              "    <tr style=\"text-align: right;\">\n",
              "      <th></th>\n",
              "      <th>day</th>\n",
              "      <th>temperature</th>\n",
              "      <th>windspeed</th>\n",
              "      <th>event</th>\n",
              "    </tr>\n",
              "  </thead>\n",
              "  <tbody>\n",
              "    <tr>\n",
              "      <th>0</th>\n",
              "      <td>1/1/2017</td>\n",
              "      <td>32</td>\n",
              "      <td>6</td>\n",
              "      <td>Rain</td>\n",
              "    </tr>\n",
              "    <tr>\n",
              "      <th>1</th>\n",
              "      <td>1/2/2017</td>\n",
              "      <td>35</td>\n",
              "      <td>7</td>\n",
              "      <td>Sunny</td>\n",
              "    </tr>\n",
              "    <tr>\n",
              "      <th>2</th>\n",
              "      <td>1/3/2017</td>\n",
              "      <td>28</td>\n",
              "      <td>2</td>\n",
              "      <td>Snow</td>\n",
              "    </tr>\n",
              "    <tr>\n",
              "      <th>3</th>\n",
              "      <td>1/4/2017</td>\n",
              "      <td>24</td>\n",
              "      <td>7</td>\n",
              "      <td>Snow</td>\n",
              "    </tr>\n",
              "    <tr>\n",
              "      <th>4</th>\n",
              "      <td>1/5/2017</td>\n",
              "      <td>32</td>\n",
              "      <td>4</td>\n",
              "      <td>Rain</td>\n",
              "    </tr>\n",
              "    <tr>\n",
              "      <th>5</th>\n",
              "      <td>1/6/2017</td>\n",
              "      <td>31</td>\n",
              "      <td>2</td>\n",
              "      <td>Sunny</td>\n",
              "    </tr>\n",
              "  </tbody>\n",
              "</table>\n",
              "</div>"
            ],
            "text/plain": [
              "        day  temperature  windspeed  event\n",
              "0  1/1/2017           32          6   Rain\n",
              "1  1/2/2017           35          7  Sunny\n",
              "2  1/3/2017           28          2   Snow\n",
              "3  1/4/2017           24          7   Snow\n",
              "4  1/5/2017           32          4   Rain\n",
              "5  1/6/2017           31          2  Sunny"
            ]
          },
          "metadata": {
            "tags": []
          },
          "execution_count": 43
        }
      ]
    },
    {
      "cell_type": "code",
      "metadata": {
        "colab": {
          "base_uri": "https://localhost:8080/",
          "height": 235
        },
        "id": "hLWgRO8sC8pF",
        "outputId": "d2110506-a5e2-4834-ffe1-a286fc14971a"
      },
      "source": [
        "df.drop(columns=['temperature','windspeed'],axis=1)"
      ],
      "execution_count": null,
      "outputs": [
        {
          "output_type": "execute_result",
          "data": {
            "text/html": [
              "<div>\n",
              "<style scoped>\n",
              "    .dataframe tbody tr th:only-of-type {\n",
              "        vertical-align: middle;\n",
              "    }\n",
              "\n",
              "    .dataframe tbody tr th {\n",
              "        vertical-align: top;\n",
              "    }\n",
              "\n",
              "    .dataframe thead th {\n",
              "        text-align: right;\n",
              "    }\n",
              "</style>\n",
              "<table border=\"1\" class=\"dataframe\">\n",
              "  <thead>\n",
              "    <tr style=\"text-align: right;\">\n",
              "      <th></th>\n",
              "      <th>day</th>\n",
              "      <th>event</th>\n",
              "    </tr>\n",
              "  </thead>\n",
              "  <tbody>\n",
              "    <tr>\n",
              "      <th>0</th>\n",
              "      <td>1/1/2017</td>\n",
              "      <td>Rain</td>\n",
              "    </tr>\n",
              "    <tr>\n",
              "      <th>1</th>\n",
              "      <td>1/2/2017</td>\n",
              "      <td>Sunny</td>\n",
              "    </tr>\n",
              "    <tr>\n",
              "      <th>2</th>\n",
              "      <td>1/3/2017</td>\n",
              "      <td>Snow</td>\n",
              "    </tr>\n",
              "    <tr>\n",
              "      <th>3</th>\n",
              "      <td>1/4/2017</td>\n",
              "      <td>Snow</td>\n",
              "    </tr>\n",
              "    <tr>\n",
              "      <th>4</th>\n",
              "      <td>1/5/2017</td>\n",
              "      <td>Rain</td>\n",
              "    </tr>\n",
              "    <tr>\n",
              "      <th>5</th>\n",
              "      <td>1/6/2017</td>\n",
              "      <td>Sunny</td>\n",
              "    </tr>\n",
              "  </tbody>\n",
              "</table>\n",
              "</div>"
            ],
            "text/plain": [
              "        day  event\n",
              "0  1/1/2017   Rain\n",
              "1  1/2/2017  Sunny\n",
              "2  1/3/2017   Snow\n",
              "3  1/4/2017   Snow\n",
              "4  1/5/2017   Rain\n",
              "5  1/6/2017  Sunny"
            ]
          },
          "metadata": {
            "tags": []
          },
          "execution_count": 44
        }
      ]
    },
    {
      "cell_type": "code",
      "metadata": {
        "colab": {
          "base_uri": "https://localhost:8080/",
          "height": 129
        },
        "id": "qm6eHRWlDBuC",
        "outputId": "ef1b8d62-05f1-41c7-cdcd-fd53ce84f896"
      },
      "source": [
        "df.drop(df.columns=[[0,1]],axis=1)"
      ],
      "execution_count": null,
      "outputs": [
        {
          "output_type": "error",
          "ename": "SyntaxError",
          "evalue": "ignored",
          "traceback": [
            "\u001b[0;36m  File \u001b[0;32m\"<ipython-input-46-6afd5ace534d>\"\u001b[0;36m, line \u001b[0;32m1\u001b[0m\n\u001b[0;31m    df.drop(df.columns=[[0,1]],axis=1)\u001b[0m\n\u001b[0m           ^\u001b[0m\n\u001b[0;31mSyntaxError\u001b[0m\u001b[0;31m:\u001b[0m keyword can't be an expression\n"
          ]
        }
      ]
    },
    {
      "cell_type": "code",
      "metadata": {
        "id": "K9RTldbRDLLT"
      },
      "source": [
        "shape\n",
        "dtypes\n",
        "value_counts\n",
        "drop\n",
        "describe\n",
        "info\n",
        "set_index\n",
        "reset_index\n",
        "inplace"
      ],
      "execution_count": null,
      "outputs": []
    },
    {
      "cell_type": "code",
      "metadata": {
        "id": "m1vCkTlIDo17"
      },
      "source": [
        "df1=pd.read_csv('/content/drive/My Drive/FoDS-2021/data/CSV_EX_1.csv')"
      ],
      "execution_count": null,
      "outputs": []
    },
    {
      "cell_type": "code",
      "metadata": {
        "colab": {
          "base_uri": "https://localhost:8080/",
          "height": 204
        },
        "id": "agUePLxRD6e-",
        "outputId": "21106006-fd47-47d8-93e4-94ee30c8f2ce"
      },
      "source": [
        "df1"
      ],
      "execution_count": null,
      "outputs": [
        {
          "output_type": "execute_result",
          "data": {
            "text/html": [
              "<div>\n",
              "<style scoped>\n",
              "    .dataframe tbody tr th:only-of-type {\n",
              "        vertical-align: middle;\n",
              "    }\n",
              "\n",
              "    .dataframe tbody tr th {\n",
              "        vertical-align: top;\n",
              "    }\n",
              "\n",
              "    .dataframe thead th {\n",
              "        text-align: right;\n",
              "    }\n",
              "</style>\n",
              "<table border=\"1\" class=\"dataframe\">\n",
              "  <thead>\n",
              "    <tr style=\"text-align: right;\">\n",
              "      <th></th>\n",
              "      <th>Bedroom</th>\n",
              "      <th>Sq. foot</th>\n",
              "      <th>Locality</th>\n",
              "      <th>Price ($)</th>\n",
              "    </tr>\n",
              "  </thead>\n",
              "  <tbody>\n",
              "    <tr>\n",
              "      <th>0</th>\n",
              "      <td>2</td>\n",
              "      <td>1500</td>\n",
              "      <td>Good</td>\n",
              "      <td>300000</td>\n",
              "    </tr>\n",
              "    <tr>\n",
              "      <th>1</th>\n",
              "      <td>3</td>\n",
              "      <td>1300</td>\n",
              "      <td>Fair</td>\n",
              "      <td>240000</td>\n",
              "    </tr>\n",
              "    <tr>\n",
              "      <th>2</th>\n",
              "      <td>3</td>\n",
              "      <td>1900</td>\n",
              "      <td>Very good</td>\n",
              "      <td>450000</td>\n",
              "    </tr>\n",
              "    <tr>\n",
              "      <th>3</th>\n",
              "      <td>3</td>\n",
              "      <td>1850</td>\n",
              "      <td>Bad</td>\n",
              "      <td>280000</td>\n",
              "    </tr>\n",
              "    <tr>\n",
              "      <th>4</th>\n",
              "      <td>2</td>\n",
              "      <td>1640</td>\n",
              "      <td>Good</td>\n",
              "      <td>310000</td>\n",
              "    </tr>\n",
              "  </tbody>\n",
              "</table>\n",
              "</div>"
            ],
            "text/plain": [
              "   Bedroom   Sq. foot    Locality   Price ($)\n",
              "0        2       1500        Good      300000\n",
              "1        3       1300        Fair      240000\n",
              "2        3       1900   Very good      450000\n",
              "3        3       1850         Bad      280000\n",
              "4        2       1640        Good      310000"
            ]
          },
          "metadata": {
            "tags": []
          },
          "execution_count": 52
        }
      ]
    },
    {
      "cell_type": "code",
      "metadata": {
        "id": "qe0dBdPCEKob"
      },
      "source": [
        "df2=pd.read_csv('/content/drive/My Drive/FoDS-2021/data/CSV_EX_2.csv')"
      ],
      "execution_count": null,
      "outputs": []
    },
    {
      "cell_type": "code",
      "metadata": {
        "colab": {
          "base_uri": "https://localhost:8080/",
          "height": 173
        },
        "id": "e5OdABjlEOuw",
        "outputId": "53c8939b-61f4-4de3-fce7-9d628aa54ac3"
      },
      "source": [
        "df2"
      ],
      "execution_count": null,
      "outputs": [
        {
          "output_type": "execute_result",
          "data": {
            "text/html": [
              "<div>\n",
              "<style scoped>\n",
              "    .dataframe tbody tr th:only-of-type {\n",
              "        vertical-align: middle;\n",
              "    }\n",
              "\n",
              "    .dataframe tbody tr th {\n",
              "        vertical-align: top;\n",
              "    }\n",
              "\n",
              "    .dataframe thead th {\n",
              "        text-align: right;\n",
              "    }\n",
              "</style>\n",
              "<table border=\"1\" class=\"dataframe\">\n",
              "  <thead>\n",
              "    <tr style=\"text-align: right;\">\n",
              "      <th></th>\n",
              "      <th>2</th>\n",
              "      <th>1500</th>\n",
              "      <th>Good</th>\n",
              "      <th>300000</th>\n",
              "    </tr>\n",
              "  </thead>\n",
              "  <tbody>\n",
              "    <tr>\n",
              "      <th>0</th>\n",
              "      <td>3</td>\n",
              "      <td>1300</td>\n",
              "      <td>Fair</td>\n",
              "      <td>240000</td>\n",
              "    </tr>\n",
              "    <tr>\n",
              "      <th>1</th>\n",
              "      <td>3</td>\n",
              "      <td>1900</td>\n",
              "      <td>Very good</td>\n",
              "      <td>450000</td>\n",
              "    </tr>\n",
              "    <tr>\n",
              "      <th>2</th>\n",
              "      <td>3</td>\n",
              "      <td>1850</td>\n",
              "      <td>Bad</td>\n",
              "      <td>280000</td>\n",
              "    </tr>\n",
              "    <tr>\n",
              "      <th>3</th>\n",
              "      <td>2</td>\n",
              "      <td>1640</td>\n",
              "      <td>Good</td>\n",
              "      <td>310000</td>\n",
              "    </tr>\n",
              "  </tbody>\n",
              "</table>\n",
              "</div>"
            ],
            "text/plain": [
              "   2   1500        Good   300000\n",
              "0  3   1300        Fair   240000\n",
              "1  3   1900   Very good   450000\n",
              "2  3   1850         Bad   280000\n",
              "3  2   1640        Good   310000"
            ]
          },
          "metadata": {
            "tags": []
          },
          "execution_count": 54
        }
      ]
    },
    {
      "cell_type": "code",
      "metadata": {
        "id": "OWF0VKJ3EPdQ"
      },
      "source": [
        "df2=pd.read_csv('/content/drive/My Drive/FoDS-2021/data/CSV_EX_2.csv',header=None)"
      ],
      "execution_count": null,
      "outputs": []
    },
    {
      "cell_type": "code",
      "metadata": {
        "colab": {
          "base_uri": "https://localhost:8080/",
          "height": 204
        },
        "id": "n_POOf8DEa6-",
        "outputId": "b68d4fe0-4a43-4eda-de0d-1d94bc0663f9"
      },
      "source": [
        "df2"
      ],
      "execution_count": null,
      "outputs": [
        {
          "output_type": "execute_result",
          "data": {
            "text/html": [
              "<div>\n",
              "<style scoped>\n",
              "    .dataframe tbody tr th:only-of-type {\n",
              "        vertical-align: middle;\n",
              "    }\n",
              "\n",
              "    .dataframe tbody tr th {\n",
              "        vertical-align: top;\n",
              "    }\n",
              "\n",
              "    .dataframe thead th {\n",
              "        text-align: right;\n",
              "    }\n",
              "</style>\n",
              "<table border=\"1\" class=\"dataframe\">\n",
              "  <thead>\n",
              "    <tr style=\"text-align: right;\">\n",
              "      <th></th>\n",
              "      <th>0</th>\n",
              "      <th>1</th>\n",
              "      <th>2</th>\n",
              "      <th>3</th>\n",
              "    </tr>\n",
              "  </thead>\n",
              "  <tbody>\n",
              "    <tr>\n",
              "      <th>0</th>\n",
              "      <td>2</td>\n",
              "      <td>1500</td>\n",
              "      <td>Good</td>\n",
              "      <td>300000</td>\n",
              "    </tr>\n",
              "    <tr>\n",
              "      <th>1</th>\n",
              "      <td>3</td>\n",
              "      <td>1300</td>\n",
              "      <td>Fair</td>\n",
              "      <td>240000</td>\n",
              "    </tr>\n",
              "    <tr>\n",
              "      <th>2</th>\n",
              "      <td>3</td>\n",
              "      <td>1900</td>\n",
              "      <td>Very good</td>\n",
              "      <td>450000</td>\n",
              "    </tr>\n",
              "    <tr>\n",
              "      <th>3</th>\n",
              "      <td>3</td>\n",
              "      <td>1850</td>\n",
              "      <td>Bad</td>\n",
              "      <td>280000</td>\n",
              "    </tr>\n",
              "    <tr>\n",
              "      <th>4</th>\n",
              "      <td>2</td>\n",
              "      <td>1640</td>\n",
              "      <td>Good</td>\n",
              "      <td>310000</td>\n",
              "    </tr>\n",
              "  </tbody>\n",
              "</table>\n",
              "</div>"
            ],
            "text/plain": [
              "   0     1           2       3\n",
              "0  2  1500        Good  300000\n",
              "1  3  1300        Fair  240000\n",
              "2  3  1900   Very good  450000\n",
              "3  3  1850         Bad  280000\n",
              "4  2  1640        Good  310000"
            ]
          },
          "metadata": {
            "tags": []
          },
          "execution_count": 56
        }
      ]
    },
    {
      "cell_type": "code",
      "metadata": {
        "id": "k-z2DINwEjEK"
      },
      "source": [
        "df2=pd.read_csv('/content/drive/My Drive/FoDS-2021/data/CSV_EX_2.csv',\n",
        "                header=None,names=['Bedroom','Sq. foot','Locality','Price ($)'])"
      ],
      "execution_count": null,
      "outputs": []
    },
    {
      "cell_type": "code",
      "metadata": {
        "colab": {
          "base_uri": "https://localhost:8080/",
          "height": 204
        },
        "id": "j-yoO0a3E6bE",
        "outputId": "97d20acc-77ea-4a0f-9758-0863ab186450"
      },
      "source": [
        "df2"
      ],
      "execution_count": null,
      "outputs": [
        {
          "output_type": "execute_result",
          "data": {
            "text/html": [
              "<div>\n",
              "<style scoped>\n",
              "    .dataframe tbody tr th:only-of-type {\n",
              "        vertical-align: middle;\n",
              "    }\n",
              "\n",
              "    .dataframe tbody tr th {\n",
              "        vertical-align: top;\n",
              "    }\n",
              "\n",
              "    .dataframe thead th {\n",
              "        text-align: right;\n",
              "    }\n",
              "</style>\n",
              "<table border=\"1\" class=\"dataframe\">\n",
              "  <thead>\n",
              "    <tr style=\"text-align: right;\">\n",
              "      <th></th>\n",
              "      <th>Bedroom</th>\n",
              "      <th>Sq. foot</th>\n",
              "      <th>Locality</th>\n",
              "      <th>Price ($)</th>\n",
              "    </tr>\n",
              "  </thead>\n",
              "  <tbody>\n",
              "    <tr>\n",
              "      <th>0</th>\n",
              "      <td>2</td>\n",
              "      <td>1500</td>\n",
              "      <td>Good</td>\n",
              "      <td>300000</td>\n",
              "    </tr>\n",
              "    <tr>\n",
              "      <th>1</th>\n",
              "      <td>3</td>\n",
              "      <td>1300</td>\n",
              "      <td>Fair</td>\n",
              "      <td>240000</td>\n",
              "    </tr>\n",
              "    <tr>\n",
              "      <th>2</th>\n",
              "      <td>3</td>\n",
              "      <td>1900</td>\n",
              "      <td>Very good</td>\n",
              "      <td>450000</td>\n",
              "    </tr>\n",
              "    <tr>\n",
              "      <th>3</th>\n",
              "      <td>3</td>\n",
              "      <td>1850</td>\n",
              "      <td>Bad</td>\n",
              "      <td>280000</td>\n",
              "    </tr>\n",
              "    <tr>\n",
              "      <th>4</th>\n",
              "      <td>2</td>\n",
              "      <td>1640</td>\n",
              "      <td>Good</td>\n",
              "      <td>310000</td>\n",
              "    </tr>\n",
              "  </tbody>\n",
              "</table>\n",
              "</div>"
            ],
            "text/plain": [
              "   Bedroom  Sq. foot    Locality  Price ($)\n",
              "0        2      1500        Good     300000\n",
              "1        3      1300        Fair     240000\n",
              "2        3      1900   Very good     450000\n",
              "3        3      1850         Bad     280000\n",
              "4        2      1640        Good     310000"
            ]
          },
          "metadata": {
            "tags": []
          },
          "execution_count": 58
        }
      ]
    },
    {
      "cell_type": "code",
      "metadata": {
        "id": "XY095xVYE7N2"
      },
      "source": [
        "df3=pd.read_csv('/content/drive/My Drive/FoDS-2021/data/CSV_EX_3.csv')"
      ],
      "execution_count": null,
      "outputs": []
    },
    {
      "cell_type": "code",
      "metadata": {
        "colab": {
          "base_uri": "https://localhost:8080/",
          "height": 204
        },
        "id": "0DxxaDF4FMov",
        "outputId": "655c96f6-cbcd-410e-ec5e-3a85ed2b769e"
      },
      "source": [
        "df3"
      ],
      "execution_count": null,
      "outputs": [
        {
          "output_type": "execute_result",
          "data": {
            "text/html": [
              "<div>\n",
              "<style scoped>\n",
              "    .dataframe tbody tr th:only-of-type {\n",
              "        vertical-align: middle;\n",
              "    }\n",
              "\n",
              "    .dataframe tbody tr th {\n",
              "        vertical-align: top;\n",
              "    }\n",
              "\n",
              "    .dataframe thead th {\n",
              "        text-align: right;\n",
              "    }\n",
              "</style>\n",
              "<table border=\"1\" class=\"dataframe\">\n",
              "  <thead>\n",
              "    <tr style=\"text-align: right;\">\n",
              "      <th></th>\n",
              "      <th>Bedroom; Sq. foot; Locality; Price ($)</th>\n",
              "    </tr>\n",
              "  </thead>\n",
              "  <tbody>\n",
              "    <tr>\n",
              "      <th>0</th>\n",
              "      <td>2; 1500; Good; 300000</td>\n",
              "    </tr>\n",
              "    <tr>\n",
              "      <th>1</th>\n",
              "      <td>3; 1300; Fair; 240000</td>\n",
              "    </tr>\n",
              "    <tr>\n",
              "      <th>2</th>\n",
              "      <td>3; 1900; Very good; 450000</td>\n",
              "    </tr>\n",
              "    <tr>\n",
              "      <th>3</th>\n",
              "      <td>3; 1850; Bad; 280000</td>\n",
              "    </tr>\n",
              "    <tr>\n",
              "      <th>4</th>\n",
              "      <td>2; 1640; Good; 310000</td>\n",
              "    </tr>\n",
              "  </tbody>\n",
              "</table>\n",
              "</div>"
            ],
            "text/plain": [
              "  Bedroom; Sq. foot; Locality; Price ($)\n",
              "0                  2; 1500; Good; 300000\n",
              "1                  3; 1300; Fair; 240000\n",
              "2             3; 1900; Very good; 450000\n",
              "3                   3; 1850; Bad; 280000\n",
              "4                  2; 1640; Good; 310000"
            ]
          },
          "metadata": {
            "tags": []
          },
          "execution_count": 62
        }
      ]
    },
    {
      "cell_type": "code",
      "metadata": {
        "id": "Zeyf3tlTFSsX"
      },
      "source": [
        "df3=pd.read_csv('/content/drive/My Drive/FoDS-2021/data/CSV_EX_3.csv',sep=';')"
      ],
      "execution_count": null,
      "outputs": []
    },
    {
      "cell_type": "code",
      "metadata": {
        "colab": {
          "base_uri": "https://localhost:8080/",
          "height": 204
        },
        "id": "3X1vDKoUFd0j",
        "outputId": "9fa3f87e-8502-43ae-be44-34b3137ebefd"
      },
      "source": [
        "df3"
      ],
      "execution_count": null,
      "outputs": [
        {
          "output_type": "execute_result",
          "data": {
            "text/html": [
              "<div>\n",
              "<style scoped>\n",
              "    .dataframe tbody tr th:only-of-type {\n",
              "        vertical-align: middle;\n",
              "    }\n",
              "\n",
              "    .dataframe tbody tr th {\n",
              "        vertical-align: top;\n",
              "    }\n",
              "\n",
              "    .dataframe thead th {\n",
              "        text-align: right;\n",
              "    }\n",
              "</style>\n",
              "<table border=\"1\" class=\"dataframe\">\n",
              "  <thead>\n",
              "    <tr style=\"text-align: right;\">\n",
              "      <th></th>\n",
              "      <th>Bedroom</th>\n",
              "      <th>Sq. foot</th>\n",
              "      <th>Locality</th>\n",
              "      <th>Price ($)</th>\n",
              "    </tr>\n",
              "  </thead>\n",
              "  <tbody>\n",
              "    <tr>\n",
              "      <th>0</th>\n",
              "      <td>2</td>\n",
              "      <td>1500</td>\n",
              "      <td>Good</td>\n",
              "      <td>300000</td>\n",
              "    </tr>\n",
              "    <tr>\n",
              "      <th>1</th>\n",
              "      <td>3</td>\n",
              "      <td>1300</td>\n",
              "      <td>Fair</td>\n",
              "      <td>240000</td>\n",
              "    </tr>\n",
              "    <tr>\n",
              "      <th>2</th>\n",
              "      <td>3</td>\n",
              "      <td>1900</td>\n",
              "      <td>Very good</td>\n",
              "      <td>450000</td>\n",
              "    </tr>\n",
              "    <tr>\n",
              "      <th>3</th>\n",
              "      <td>3</td>\n",
              "      <td>1850</td>\n",
              "      <td>Bad</td>\n",
              "      <td>280000</td>\n",
              "    </tr>\n",
              "    <tr>\n",
              "      <th>4</th>\n",
              "      <td>2</td>\n",
              "      <td>1640</td>\n",
              "      <td>Good</td>\n",
              "      <td>310000</td>\n",
              "    </tr>\n",
              "  </tbody>\n",
              "</table>\n",
              "</div>"
            ],
            "text/plain": [
              "   Bedroom   Sq. foot    Locality   Price ($)\n",
              "0        2       1500        Good      300000\n",
              "1        3       1300        Fair      240000\n",
              "2        3       1900   Very good      450000\n",
              "3        3       1850         Bad      280000\n",
              "4        2       1640        Good      310000"
            ]
          },
          "metadata": {
            "tags": []
          },
          "execution_count": 64
        }
      ]
    },
    {
      "cell_type": "code",
      "metadata": {
        "id": "EsNSWBJdFedA"
      },
      "source": [
        "df4=pd.read_csv('/content/drive/My Drive/FoDS-2021/data/CSV_EX_skiprows.csv')"
      ],
      "execution_count": null,
      "outputs": []
    },
    {
      "cell_type": "code",
      "metadata": {
        "colab": {
          "base_uri": "https://localhost:8080/",
          "height": 266
        },
        "id": "XNIQmPxkFrRX",
        "outputId": "9ba8dce6-d545-4905-f7de-e4788d0324af"
      },
      "source": [
        "df4"
      ],
      "execution_count": null,
      "outputs": [
        {
          "output_type": "execute_result",
          "data": {
            "text/html": [
              "<div>\n",
              "<style scoped>\n",
              "    .dataframe tbody tr th:only-of-type {\n",
              "        vertical-align: middle;\n",
              "    }\n",
              "\n",
              "    .dataframe tbody tr th {\n",
              "        vertical-align: top;\n",
              "    }\n",
              "\n",
              "    .dataframe thead th {\n",
              "        text-align: right;\n",
              "    }\n",
              "</style>\n",
              "<table border=\"1\" class=\"dataframe\">\n",
              "  <thead>\n",
              "    <tr style=\"text-align: right;\">\n",
              "      <th></th>\n",
              "      <th>Filetype: CSV</th>\n",
              "      <th>Unnamed: 1</th>\n",
              "      <th>Unnamed: 2</th>\n",
              "      <th>Unnamed: 3</th>\n",
              "    </tr>\n",
              "  </thead>\n",
              "  <tbody>\n",
              "    <tr>\n",
              "      <th>0</th>\n",
              "      <td>NaN</td>\n",
              "      <td>Info about some houses</td>\n",
              "      <td>NaN</td>\n",
              "      <td>NaN</td>\n",
              "    </tr>\n",
              "    <tr>\n",
              "      <th>1</th>\n",
              "      <td>Bedroom</td>\n",
              "      <td>Sq. foot</td>\n",
              "      <td>Locality</td>\n",
              "      <td>Price ($)</td>\n",
              "    </tr>\n",
              "    <tr>\n",
              "      <th>2</th>\n",
              "      <td>2</td>\n",
              "      <td>1500</td>\n",
              "      <td>Good</td>\n",
              "      <td>300000</td>\n",
              "    </tr>\n",
              "    <tr>\n",
              "      <th>3</th>\n",
              "      <td>3</td>\n",
              "      <td>1300</td>\n",
              "      <td>Fair</td>\n",
              "      <td>240000</td>\n",
              "    </tr>\n",
              "    <tr>\n",
              "      <th>4</th>\n",
              "      <td>3</td>\n",
              "      <td>1900</td>\n",
              "      <td>Very good</td>\n",
              "      <td>450000</td>\n",
              "    </tr>\n",
              "    <tr>\n",
              "      <th>5</th>\n",
              "      <td>3</td>\n",
              "      <td>1850</td>\n",
              "      <td>Bad</td>\n",
              "      <td>280000</td>\n",
              "    </tr>\n",
              "    <tr>\n",
              "      <th>6</th>\n",
              "      <td>2</td>\n",
              "      <td>1640</td>\n",
              "      <td>Good</td>\n",
              "      <td>310000</td>\n",
              "    </tr>\n",
              "  </tbody>\n",
              "</table>\n",
              "</div>"
            ],
            "text/plain": [
              "  Filetype: CSV              Unnamed: 1  Unnamed: 2  Unnamed: 3\n",
              "0           NaN  Info about some houses         NaN         NaN\n",
              "1       Bedroom                Sq. foot    Locality   Price ($)\n",
              "2             2                    1500        Good      300000\n",
              "3             3                    1300        Fair      240000\n",
              "4             3                    1900   Very good      450000\n",
              "5             3                    1850         Bad      280000\n",
              "6             2                    1640        Good      310000"
            ]
          },
          "metadata": {
            "tags": []
          },
          "execution_count": 66
        }
      ]
    },
    {
      "cell_type": "code",
      "metadata": {
        "id": "g-_jyWh9FsJ8"
      },
      "source": [
        "df4=pd.read_csv('/content/drive/My Drive/FoDS-2021/data/CSV_EX_skiprows.csv',skiprows=2)"
      ],
      "execution_count": null,
      "outputs": []
    },
    {
      "cell_type": "code",
      "metadata": {
        "colab": {
          "base_uri": "https://localhost:8080/",
          "height": 204
        },
        "id": "WxiEjpfJGD-h",
        "outputId": "1b7b71a8-b19f-470f-f0d5-193acdae8e84"
      },
      "source": [
        "df4"
      ],
      "execution_count": null,
      "outputs": [
        {
          "output_type": "execute_result",
          "data": {
            "text/html": [
              "<div>\n",
              "<style scoped>\n",
              "    .dataframe tbody tr th:only-of-type {\n",
              "        vertical-align: middle;\n",
              "    }\n",
              "\n",
              "    .dataframe tbody tr th {\n",
              "        vertical-align: top;\n",
              "    }\n",
              "\n",
              "    .dataframe thead th {\n",
              "        text-align: right;\n",
              "    }\n",
              "</style>\n",
              "<table border=\"1\" class=\"dataframe\">\n",
              "  <thead>\n",
              "    <tr style=\"text-align: right;\">\n",
              "      <th></th>\n",
              "      <th>Bedroom</th>\n",
              "      <th>Sq. foot</th>\n",
              "      <th>Locality</th>\n",
              "      <th>Price ($)</th>\n",
              "    </tr>\n",
              "  </thead>\n",
              "  <tbody>\n",
              "    <tr>\n",
              "      <th>0</th>\n",
              "      <td>2</td>\n",
              "      <td>1500</td>\n",
              "      <td>Good</td>\n",
              "      <td>300000</td>\n",
              "    </tr>\n",
              "    <tr>\n",
              "      <th>1</th>\n",
              "      <td>3</td>\n",
              "      <td>1300</td>\n",
              "      <td>Fair</td>\n",
              "      <td>240000</td>\n",
              "    </tr>\n",
              "    <tr>\n",
              "      <th>2</th>\n",
              "      <td>3</td>\n",
              "      <td>1900</td>\n",
              "      <td>Very good</td>\n",
              "      <td>450000</td>\n",
              "    </tr>\n",
              "    <tr>\n",
              "      <th>3</th>\n",
              "      <td>3</td>\n",
              "      <td>1850</td>\n",
              "      <td>Bad</td>\n",
              "      <td>280000</td>\n",
              "    </tr>\n",
              "    <tr>\n",
              "      <th>4</th>\n",
              "      <td>2</td>\n",
              "      <td>1640</td>\n",
              "      <td>Good</td>\n",
              "      <td>310000</td>\n",
              "    </tr>\n",
              "  </tbody>\n",
              "</table>\n",
              "</div>"
            ],
            "text/plain": [
              "   Bedroom   Sq. foot    Locality   Price ($)\n",
              "0        2       1500        Good      300000\n",
              "1        3       1300        Fair      240000\n",
              "2        3       1900   Very good      450000\n",
              "3        3       1850         Bad      280000\n",
              "4        2       1640        Good      310000"
            ]
          },
          "metadata": {
            "tags": []
          },
          "execution_count": 68
        }
      ]
    },
    {
      "cell_type": "code",
      "metadata": {
        "id": "MfI6w6zbGzk-"
      },
      "source": [
        "df5=pd.read_csv('/content/drive/My Drive/FoDS-2021/data/CSV_EX_skipfooter.csv',skiprows=2,engine='python')"
      ],
      "execution_count": null,
      "outputs": []
    },
    {
      "cell_type": "code",
      "metadata": {
        "colab": {
          "base_uri": "https://localhost:8080/",
          "height": 235
        },
        "id": "QoCm6bLlG3Cd",
        "outputId": "52b04aaf-b821-4ee5-fd2d-98ab86f091d4"
      },
      "source": [
        "df5"
      ],
      "execution_count": null,
      "outputs": [
        {
          "output_type": "execute_result",
          "data": {
            "text/html": [
              "<div>\n",
              "<style scoped>\n",
              "    .dataframe tbody tr th:only-of-type {\n",
              "        vertical-align: middle;\n",
              "    }\n",
              "\n",
              "    .dataframe tbody tr th {\n",
              "        vertical-align: top;\n",
              "    }\n",
              "\n",
              "    .dataframe thead th {\n",
              "        text-align: right;\n",
              "    }\n",
              "</style>\n",
              "<table border=\"1\" class=\"dataframe\">\n",
              "  <thead>\n",
              "    <tr style=\"text-align: right;\">\n",
              "      <th></th>\n",
              "      <th>Bedroom</th>\n",
              "      <th>Sq. foot</th>\n",
              "      <th>Locality</th>\n",
              "      <th>Price ($)</th>\n",
              "    </tr>\n",
              "  </thead>\n",
              "  <tbody>\n",
              "    <tr>\n",
              "      <th>0</th>\n",
              "      <td>2.0</td>\n",
              "      <td>1500</td>\n",
              "      <td>Good</td>\n",
              "      <td>300000.0</td>\n",
              "    </tr>\n",
              "    <tr>\n",
              "      <th>1</th>\n",
              "      <td>3.0</td>\n",
              "      <td>1300</td>\n",
              "      <td>Fair</td>\n",
              "      <td>240000.0</td>\n",
              "    </tr>\n",
              "    <tr>\n",
              "      <th>2</th>\n",
              "      <td>3.0</td>\n",
              "      <td>1900</td>\n",
              "      <td>Very good</td>\n",
              "      <td>450000.0</td>\n",
              "    </tr>\n",
              "    <tr>\n",
              "      <th>3</th>\n",
              "      <td>3.0</td>\n",
              "      <td>1850</td>\n",
              "      <td>Bad</td>\n",
              "      <td>280000.0</td>\n",
              "    </tr>\n",
              "    <tr>\n",
              "      <th>4</th>\n",
              "      <td>2.0</td>\n",
              "      <td>1640</td>\n",
              "      <td>Good</td>\n",
              "      <td>310000.0</td>\n",
              "    </tr>\n",
              "    <tr>\n",
              "      <th>5</th>\n",
              "      <td>NaN</td>\n",
              "      <td>This is the end of file</td>\n",
              "      <td>NaN</td>\n",
              "      <td>NaN</td>\n",
              "    </tr>\n",
              "  </tbody>\n",
              "</table>\n",
              "</div>"
            ],
            "text/plain": [
              "   Bedroom                  Sq. foot    Locality   Price ($)\n",
              "0      2.0                      1500        Good    300000.0\n",
              "1      3.0                      1300        Fair    240000.0\n",
              "2      3.0                      1900   Very good    450000.0\n",
              "3      3.0                      1850         Bad    280000.0\n",
              "4      2.0                      1640        Good    310000.0\n",
              "5      NaN   This is the end of file         NaN         NaN"
            ]
          },
          "metadata": {
            "tags": []
          },
          "execution_count": 74
        }
      ]
    },
    {
      "cell_type": "code",
      "metadata": {
        "id": "ph3_-k4-GEtK"
      },
      "source": [
        "df5=pd.read_csv('/content/drive/My Drive/FoDS-2021/data/CSV_EX_skipfooter.csv',skiprows=2,skipfooter=1,engine='python')"
      ],
      "execution_count": null,
      "outputs": []
    },
    {
      "cell_type": "code",
      "metadata": {
        "colab": {
          "base_uri": "https://localhost:8080/",
          "height": 204
        },
        "id": "4az-OlR7GpRz",
        "outputId": "114525d8-7bb8-4578-b448-956b032238e2"
      },
      "source": [
        "df5"
      ],
      "execution_count": null,
      "outputs": [
        {
          "output_type": "execute_result",
          "data": {
            "text/html": [
              "<div>\n",
              "<style scoped>\n",
              "    .dataframe tbody tr th:only-of-type {\n",
              "        vertical-align: middle;\n",
              "    }\n",
              "\n",
              "    .dataframe tbody tr th {\n",
              "        vertical-align: top;\n",
              "    }\n",
              "\n",
              "    .dataframe thead th {\n",
              "        text-align: right;\n",
              "    }\n",
              "</style>\n",
              "<table border=\"1\" class=\"dataframe\">\n",
              "  <thead>\n",
              "    <tr style=\"text-align: right;\">\n",
              "      <th></th>\n",
              "      <th>Bedroom</th>\n",
              "      <th>Sq. foot</th>\n",
              "      <th>Locality</th>\n",
              "      <th>Price ($)</th>\n",
              "    </tr>\n",
              "  </thead>\n",
              "  <tbody>\n",
              "    <tr>\n",
              "      <th>0</th>\n",
              "      <td>2</td>\n",
              "      <td>1500</td>\n",
              "      <td>Good</td>\n",
              "      <td>300000</td>\n",
              "    </tr>\n",
              "    <tr>\n",
              "      <th>1</th>\n",
              "      <td>3</td>\n",
              "      <td>1300</td>\n",
              "      <td>Fair</td>\n",
              "      <td>240000</td>\n",
              "    </tr>\n",
              "    <tr>\n",
              "      <th>2</th>\n",
              "      <td>3</td>\n",
              "      <td>1900</td>\n",
              "      <td>Very good</td>\n",
              "      <td>450000</td>\n",
              "    </tr>\n",
              "    <tr>\n",
              "      <th>3</th>\n",
              "      <td>3</td>\n",
              "      <td>1850</td>\n",
              "      <td>Bad</td>\n",
              "      <td>280000</td>\n",
              "    </tr>\n",
              "    <tr>\n",
              "      <th>4</th>\n",
              "      <td>2</td>\n",
              "      <td>1640</td>\n",
              "      <td>Good</td>\n",
              "      <td>310000</td>\n",
              "    </tr>\n",
              "  </tbody>\n",
              "</table>\n",
              "</div>"
            ],
            "text/plain": [
              "   Bedroom   Sq. foot    Locality   Price ($)\n",
              "0        2       1500        Good      300000\n",
              "1        3       1300        Fair      240000\n",
              "2        3       1900   Very good      450000\n",
              "3        3       1850         Bad      280000\n",
              "4        2       1640        Good      310000"
            ]
          },
          "metadata": {
            "tags": []
          },
          "execution_count": 76
        }
      ]
    },
    {
      "cell_type": "code",
      "metadata": {
        "id": "nHCUN1XlGquH"
      },
      "source": [
        "df=pd.read_csv('/content/drive/My Drive/FoDS-2021/data/weather_data.csv',nrows=2)"
      ],
      "execution_count": null,
      "outputs": []
    },
    {
      "cell_type": "code",
      "metadata": {
        "id": "JlorbbjQZRRQ"
      },
      "source": [
        "import pandas as pd\n",
        "df=pd.read_csv('/content/drive/My Drive/FoDS-2021/data/CSV_EX_blankline.csv',skip_blank_lines=False)"
      ],
      "execution_count": null,
      "outputs": []
    },
    {
      "cell_type": "code",
      "metadata": {
        "colab": {
          "base_uri": "https://localhost:8080/",
          "height": 266
        },
        "id": "8DX3wJb7Zi7E",
        "outputId": "ac739eaf-8b83-4f30-83c0-2bca7281b99a"
      },
      "source": [
        "df"
      ],
      "execution_count": null,
      "outputs": [
        {
          "output_type": "execute_result",
          "data": {
            "text/html": [
              "<div>\n",
              "<style scoped>\n",
              "    .dataframe tbody tr th:only-of-type {\n",
              "        vertical-align: middle;\n",
              "    }\n",
              "\n",
              "    .dataframe tbody tr th {\n",
              "        vertical-align: top;\n",
              "    }\n",
              "\n",
              "    .dataframe thead th {\n",
              "        text-align: right;\n",
              "    }\n",
              "</style>\n",
              "<table border=\"1\" class=\"dataframe\">\n",
              "  <thead>\n",
              "    <tr style=\"text-align: right;\">\n",
              "      <th></th>\n",
              "      <th>Bedroom</th>\n",
              "      <th>Sq. foot</th>\n",
              "      <th>Locality</th>\n",
              "      <th>Price ($)</th>\n",
              "    </tr>\n",
              "  </thead>\n",
              "  <tbody>\n",
              "    <tr>\n",
              "      <th>0</th>\n",
              "      <td>2.0</td>\n",
              "      <td>1500.0</td>\n",
              "      <td>Good</td>\n",
              "      <td>300000.0</td>\n",
              "    </tr>\n",
              "    <tr>\n",
              "      <th>1</th>\n",
              "      <td>3.0</td>\n",
              "      <td>1300.0</td>\n",
              "      <td>Fair</td>\n",
              "      <td>240000.0</td>\n",
              "    </tr>\n",
              "    <tr>\n",
              "      <th>2</th>\n",
              "      <td>NaN</td>\n",
              "      <td>NaN</td>\n",
              "      <td>NaN</td>\n",
              "      <td>NaN</td>\n",
              "    </tr>\n",
              "    <tr>\n",
              "      <th>3</th>\n",
              "      <td>3.0</td>\n",
              "      <td>1900.0</td>\n",
              "      <td>Very good</td>\n",
              "      <td>450000.0</td>\n",
              "    </tr>\n",
              "    <tr>\n",
              "      <th>4</th>\n",
              "      <td>3.0</td>\n",
              "      <td>1850.0</td>\n",
              "      <td>Bad</td>\n",
              "      <td>280000.0</td>\n",
              "    </tr>\n",
              "    <tr>\n",
              "      <th>5</th>\n",
              "      <td>NaN</td>\n",
              "      <td>NaN</td>\n",
              "      <td>NaN</td>\n",
              "      <td>NaN</td>\n",
              "    </tr>\n",
              "    <tr>\n",
              "      <th>6</th>\n",
              "      <td>2.0</td>\n",
              "      <td>1640.0</td>\n",
              "      <td>Good</td>\n",
              "      <td>310000.0</td>\n",
              "    </tr>\n",
              "  </tbody>\n",
              "</table>\n",
              "</div>"
            ],
            "text/plain": [
              "   Bedroom   Sq. foot    Locality   Price ($)\n",
              "0      2.0     1500.0        Good    300000.0\n",
              "1      3.0     1300.0        Fair    240000.0\n",
              "2      NaN        NaN         NaN         NaN\n",
              "3      3.0     1900.0   Very good    450000.0\n",
              "4      3.0     1850.0         Bad    280000.0\n",
              "5      NaN        NaN         NaN         NaN\n",
              "6      2.0     1640.0        Good    310000.0"
            ]
          },
          "metadata": {
            "tags": []
          },
          "execution_count": 4
        }
      ]
    },
    {
      "cell_type": "code",
      "metadata": {
        "id": "l3KRz92wZpQV"
      },
      "source": [
        "df1=pd.read_csv('https://raw.githubusercontent.com/sams248/DataQuest/master/Missions/2.%20Data%20Analysis%20and%20Visualisation/1.%20Pandas%20and%20NumPy%20Fundamentals/3.%20Introduction%20to%20Pandas/f500.csv')"
      ],
      "execution_count": null,
      "outputs": []
    },
    {
      "cell_type": "code",
      "metadata": {
        "colab": {
          "base_uri": "https://localhost:8080/",
          "height": 360
        },
        "id": "YcX1cGNBaBxW",
        "outputId": "5a81488f-ad44-40cb-cf24-74a2e6350ed8"
      },
      "source": [
        "df1.head()"
      ],
      "execution_count": null,
      "outputs": [
        {
          "output_type": "execute_result",
          "data": {
            "text/html": [
              "<div>\n",
              "<style scoped>\n",
              "    .dataframe tbody tr th:only-of-type {\n",
              "        vertical-align: middle;\n",
              "    }\n",
              "\n",
              "    .dataframe tbody tr th {\n",
              "        vertical-align: top;\n",
              "    }\n",
              "\n",
              "    .dataframe thead th {\n",
              "        text-align: right;\n",
              "    }\n",
              "</style>\n",
              "<table border=\"1\" class=\"dataframe\">\n",
              "  <thead>\n",
              "    <tr style=\"text-align: right;\">\n",
              "      <th></th>\n",
              "      <th>company</th>\n",
              "      <th>rank</th>\n",
              "      <th>revenues</th>\n",
              "      <th>revenue_change</th>\n",
              "      <th>profits</th>\n",
              "      <th>assets</th>\n",
              "      <th>profit_change</th>\n",
              "      <th>ceo</th>\n",
              "      <th>industry</th>\n",
              "      <th>sector</th>\n",
              "      <th>previous_rank</th>\n",
              "      <th>country</th>\n",
              "      <th>hq_location</th>\n",
              "      <th>website</th>\n",
              "      <th>years_on_global_500_list</th>\n",
              "      <th>employees</th>\n",
              "      <th>total_stockholder_equity</th>\n",
              "    </tr>\n",
              "  </thead>\n",
              "  <tbody>\n",
              "    <tr>\n",
              "      <th>0</th>\n",
              "      <td>Walmart</td>\n",
              "      <td>1</td>\n",
              "      <td>485873</td>\n",
              "      <td>0.8</td>\n",
              "      <td>13643.0</td>\n",
              "      <td>198825</td>\n",
              "      <td>-7.2</td>\n",
              "      <td>C. Douglas McMillon</td>\n",
              "      <td>General Merchandisers</td>\n",
              "      <td>Retailing</td>\n",
              "      <td>1</td>\n",
              "      <td>USA</td>\n",
              "      <td>Bentonville, AR</td>\n",
              "      <td>http://www.walmart.com</td>\n",
              "      <td>23</td>\n",
              "      <td>2300000</td>\n",
              "      <td>77798</td>\n",
              "    </tr>\n",
              "    <tr>\n",
              "      <th>1</th>\n",
              "      <td>State Grid</td>\n",
              "      <td>2</td>\n",
              "      <td>315199</td>\n",
              "      <td>-4.4</td>\n",
              "      <td>9571.3</td>\n",
              "      <td>489838</td>\n",
              "      <td>-6.2</td>\n",
              "      <td>Kou Wei</td>\n",
              "      <td>Utilities</td>\n",
              "      <td>Energy</td>\n",
              "      <td>2</td>\n",
              "      <td>China</td>\n",
              "      <td>Beijing, China</td>\n",
              "      <td>http://www.sgcc.com.cn</td>\n",
              "      <td>17</td>\n",
              "      <td>926067</td>\n",
              "      <td>209456</td>\n",
              "    </tr>\n",
              "    <tr>\n",
              "      <th>2</th>\n",
              "      <td>Sinopec Group</td>\n",
              "      <td>3</td>\n",
              "      <td>267518</td>\n",
              "      <td>-9.1</td>\n",
              "      <td>1257.9</td>\n",
              "      <td>310726</td>\n",
              "      <td>-65.0</td>\n",
              "      <td>Wang Yupu</td>\n",
              "      <td>Petroleum Refining</td>\n",
              "      <td>Energy</td>\n",
              "      <td>4</td>\n",
              "      <td>China</td>\n",
              "      <td>Beijing, China</td>\n",
              "      <td>http://www.sinopec.com</td>\n",
              "      <td>19</td>\n",
              "      <td>713288</td>\n",
              "      <td>106523</td>\n",
              "    </tr>\n",
              "    <tr>\n",
              "      <th>3</th>\n",
              "      <td>China National Petroleum</td>\n",
              "      <td>4</td>\n",
              "      <td>262573</td>\n",
              "      <td>-12.3</td>\n",
              "      <td>1867.5</td>\n",
              "      <td>585619</td>\n",
              "      <td>-73.7</td>\n",
              "      <td>Zhang Jianhua</td>\n",
              "      <td>Petroleum Refining</td>\n",
              "      <td>Energy</td>\n",
              "      <td>3</td>\n",
              "      <td>China</td>\n",
              "      <td>Beijing, China</td>\n",
              "      <td>http://www.cnpc.com.cn</td>\n",
              "      <td>17</td>\n",
              "      <td>1512048</td>\n",
              "      <td>301893</td>\n",
              "    </tr>\n",
              "    <tr>\n",
              "      <th>4</th>\n",
              "      <td>Toyota Motor</td>\n",
              "      <td>5</td>\n",
              "      <td>254694</td>\n",
              "      <td>7.7</td>\n",
              "      <td>16899.3</td>\n",
              "      <td>437575</td>\n",
              "      <td>-12.3</td>\n",
              "      <td>Akio Toyoda</td>\n",
              "      <td>Motor Vehicles and Parts</td>\n",
              "      <td>Motor Vehicles &amp; Parts</td>\n",
              "      <td>8</td>\n",
              "      <td>Japan</td>\n",
              "      <td>Toyota, Japan</td>\n",
              "      <td>http://www.toyota-global.com</td>\n",
              "      <td>23</td>\n",
              "      <td>364445</td>\n",
              "      <td>157210</td>\n",
              "    </tr>\n",
              "  </tbody>\n",
              "</table>\n",
              "</div>"
            ],
            "text/plain": [
              "                    company  rank  ...  employees  total_stockholder_equity\n",
              "0                   Walmart     1  ...    2300000                     77798\n",
              "1                State Grid     2  ...     926067                    209456\n",
              "2             Sinopec Group     3  ...     713288                    106523\n",
              "3  China National Petroleum     4  ...    1512048                    301893\n",
              "4              Toyota Motor     5  ...     364445                    157210\n",
              "\n",
              "[5 rows x 17 columns]"
            ]
          },
          "metadata": {
            "tags": []
          },
          "execution_count": 6
        }
      ]
    },
    {
      "cell_type": "code",
      "metadata": {
        "id": "41yqdOfgaFjL"
      },
      "source": [
        "df1=pd.read_csv('https://raw.githubusercontent.com/sams248/DataQuest/master/Missions/2.%20Data%20Analysis%20and%20Visualisation/1.%20Pandas%20and%20NumPy%20Fundamentals/3.%20Introduction%20to%20Pandas/f500.csv'\n",
        ",index_col=0)"
      ],
      "execution_count": null,
      "outputs": []
    },
    {
      "cell_type": "code",
      "metadata": {
        "colab": {
          "base_uri": "https://localhost:8080/",
          "height": 391
        },
        "id": "7GQzd9TZaWbc",
        "outputId": "94ca8a2e-e204-4a41-eb7e-739602cbc33f"
      },
      "source": [
        "df1.head()"
      ],
      "execution_count": null,
      "outputs": [
        {
          "output_type": "execute_result",
          "data": {
            "text/html": [
              "<div>\n",
              "<style scoped>\n",
              "    .dataframe tbody tr th:only-of-type {\n",
              "        vertical-align: middle;\n",
              "    }\n",
              "\n",
              "    .dataframe tbody tr th {\n",
              "        vertical-align: top;\n",
              "    }\n",
              "\n",
              "    .dataframe thead th {\n",
              "        text-align: right;\n",
              "    }\n",
              "</style>\n",
              "<table border=\"1\" class=\"dataframe\">\n",
              "  <thead>\n",
              "    <tr style=\"text-align: right;\">\n",
              "      <th></th>\n",
              "      <th>rank</th>\n",
              "      <th>revenues</th>\n",
              "      <th>revenue_change</th>\n",
              "      <th>profits</th>\n",
              "      <th>assets</th>\n",
              "      <th>profit_change</th>\n",
              "      <th>ceo</th>\n",
              "      <th>industry</th>\n",
              "      <th>sector</th>\n",
              "      <th>previous_rank</th>\n",
              "      <th>country</th>\n",
              "      <th>hq_location</th>\n",
              "      <th>website</th>\n",
              "      <th>years_on_global_500_list</th>\n",
              "      <th>employees</th>\n",
              "      <th>total_stockholder_equity</th>\n",
              "    </tr>\n",
              "    <tr>\n",
              "      <th>company</th>\n",
              "      <th></th>\n",
              "      <th></th>\n",
              "      <th></th>\n",
              "      <th></th>\n",
              "      <th></th>\n",
              "      <th></th>\n",
              "      <th></th>\n",
              "      <th></th>\n",
              "      <th></th>\n",
              "      <th></th>\n",
              "      <th></th>\n",
              "      <th></th>\n",
              "      <th></th>\n",
              "      <th></th>\n",
              "      <th></th>\n",
              "      <th></th>\n",
              "    </tr>\n",
              "  </thead>\n",
              "  <tbody>\n",
              "    <tr>\n",
              "      <th>Walmart</th>\n",
              "      <td>1</td>\n",
              "      <td>485873</td>\n",
              "      <td>0.8</td>\n",
              "      <td>13643.0</td>\n",
              "      <td>198825</td>\n",
              "      <td>-7.2</td>\n",
              "      <td>C. Douglas McMillon</td>\n",
              "      <td>General Merchandisers</td>\n",
              "      <td>Retailing</td>\n",
              "      <td>1</td>\n",
              "      <td>USA</td>\n",
              "      <td>Bentonville, AR</td>\n",
              "      <td>http://www.walmart.com</td>\n",
              "      <td>23</td>\n",
              "      <td>2300000</td>\n",
              "      <td>77798</td>\n",
              "    </tr>\n",
              "    <tr>\n",
              "      <th>State Grid</th>\n",
              "      <td>2</td>\n",
              "      <td>315199</td>\n",
              "      <td>-4.4</td>\n",
              "      <td>9571.3</td>\n",
              "      <td>489838</td>\n",
              "      <td>-6.2</td>\n",
              "      <td>Kou Wei</td>\n",
              "      <td>Utilities</td>\n",
              "      <td>Energy</td>\n",
              "      <td>2</td>\n",
              "      <td>China</td>\n",
              "      <td>Beijing, China</td>\n",
              "      <td>http://www.sgcc.com.cn</td>\n",
              "      <td>17</td>\n",
              "      <td>926067</td>\n",
              "      <td>209456</td>\n",
              "    </tr>\n",
              "    <tr>\n",
              "      <th>Sinopec Group</th>\n",
              "      <td>3</td>\n",
              "      <td>267518</td>\n",
              "      <td>-9.1</td>\n",
              "      <td>1257.9</td>\n",
              "      <td>310726</td>\n",
              "      <td>-65.0</td>\n",
              "      <td>Wang Yupu</td>\n",
              "      <td>Petroleum Refining</td>\n",
              "      <td>Energy</td>\n",
              "      <td>4</td>\n",
              "      <td>China</td>\n",
              "      <td>Beijing, China</td>\n",
              "      <td>http://www.sinopec.com</td>\n",
              "      <td>19</td>\n",
              "      <td>713288</td>\n",
              "      <td>106523</td>\n",
              "    </tr>\n",
              "    <tr>\n",
              "      <th>China National Petroleum</th>\n",
              "      <td>4</td>\n",
              "      <td>262573</td>\n",
              "      <td>-12.3</td>\n",
              "      <td>1867.5</td>\n",
              "      <td>585619</td>\n",
              "      <td>-73.7</td>\n",
              "      <td>Zhang Jianhua</td>\n",
              "      <td>Petroleum Refining</td>\n",
              "      <td>Energy</td>\n",
              "      <td>3</td>\n",
              "      <td>China</td>\n",
              "      <td>Beijing, China</td>\n",
              "      <td>http://www.cnpc.com.cn</td>\n",
              "      <td>17</td>\n",
              "      <td>1512048</td>\n",
              "      <td>301893</td>\n",
              "    </tr>\n",
              "    <tr>\n",
              "      <th>Toyota Motor</th>\n",
              "      <td>5</td>\n",
              "      <td>254694</td>\n",
              "      <td>7.7</td>\n",
              "      <td>16899.3</td>\n",
              "      <td>437575</td>\n",
              "      <td>-12.3</td>\n",
              "      <td>Akio Toyoda</td>\n",
              "      <td>Motor Vehicles and Parts</td>\n",
              "      <td>Motor Vehicles &amp; Parts</td>\n",
              "      <td>8</td>\n",
              "      <td>Japan</td>\n",
              "      <td>Toyota, Japan</td>\n",
              "      <td>http://www.toyota-global.com</td>\n",
              "      <td>23</td>\n",
              "      <td>364445</td>\n",
              "      <td>157210</td>\n",
              "    </tr>\n",
              "  </tbody>\n",
              "</table>\n",
              "</div>"
            ],
            "text/plain": [
              "                          rank  revenues  ...  employees  total_stockholder_equity\n",
              "company                                   ...                                     \n",
              "Walmart                      1    485873  ...    2300000                     77798\n",
              "State Grid                   2    315199  ...     926067                    209456\n",
              "Sinopec Group                3    267518  ...     713288                    106523\n",
              "China National Petroleum     4    262573  ...    1512048                    301893\n",
              "Toyota Motor                 5    254694  ...     364445                    157210\n",
              "\n",
              "[5 rows x 16 columns]"
            ]
          },
          "metadata": {
            "tags": []
          },
          "execution_count": 8
        }
      ]
    },
    {
      "cell_type": "code",
      "metadata": {
        "id": "TOiO1xuOaha4"
      },
      "source": [
        "df1=pd.read_csv('https://raw.githubusercontent.com/sams248/DataQuest/master/Missions/2.%20Data%20Analysis%20and%20Visualisation/1.%20Pandas%20and%20NumPy%20Fundamentals/3.%20Introduction%20to%20Pandas/f500.csv'\n",
        ",index_col=[0,1])"
      ],
      "execution_count": null,
      "outputs": []
    },
    {
      "cell_type": "code",
      "metadata": {
        "id": "XAcKYUILa9gc"
      },
      "source": [
        "df1=pd.read_csv('https://raw.githubusercontent.com/sams248/DataQuest/master/Missions/2.%20Data%20Analysis%20and%20Visualisation/1.%20Pandas%20and%20NumPy%20Fundamentals/3.%20Introduction%20to%20Pandas/f500.csv'\n",
        ",index_col=['company','rank'])"
      ],
      "execution_count": null,
      "outputs": []
    },
    {
      "cell_type": "code",
      "metadata": {
        "colab": {
          "base_uri": "https://localhost:8080/",
          "height": 391
        },
        "id": "yDe6XHnjbpAd",
        "outputId": "9d3cb077-0412-44e5-9056-d75e239e5575"
      },
      "source": [
        "df1.head()"
      ],
      "execution_count": null,
      "outputs": [
        {
          "output_type": "execute_result",
          "data": {
            "text/html": [
              "<div>\n",
              "<style scoped>\n",
              "    .dataframe tbody tr th:only-of-type {\n",
              "        vertical-align: middle;\n",
              "    }\n",
              "\n",
              "    .dataframe tbody tr th {\n",
              "        vertical-align: top;\n",
              "    }\n",
              "\n",
              "    .dataframe thead th {\n",
              "        text-align: right;\n",
              "    }\n",
              "</style>\n",
              "<table border=\"1\" class=\"dataframe\">\n",
              "  <thead>\n",
              "    <tr style=\"text-align: right;\">\n",
              "      <th></th>\n",
              "      <th></th>\n",
              "      <th>revenues</th>\n",
              "      <th>revenue_change</th>\n",
              "      <th>profits</th>\n",
              "      <th>assets</th>\n",
              "      <th>profit_change</th>\n",
              "      <th>ceo</th>\n",
              "      <th>industry</th>\n",
              "      <th>sector</th>\n",
              "      <th>previous_rank</th>\n",
              "      <th>country</th>\n",
              "      <th>hq_location</th>\n",
              "      <th>website</th>\n",
              "      <th>years_on_global_500_list</th>\n",
              "      <th>employees</th>\n",
              "      <th>total_stockholder_equity</th>\n",
              "    </tr>\n",
              "    <tr>\n",
              "      <th>company</th>\n",
              "      <th>rank</th>\n",
              "      <th></th>\n",
              "      <th></th>\n",
              "      <th></th>\n",
              "      <th></th>\n",
              "      <th></th>\n",
              "      <th></th>\n",
              "      <th></th>\n",
              "      <th></th>\n",
              "      <th></th>\n",
              "      <th></th>\n",
              "      <th></th>\n",
              "      <th></th>\n",
              "      <th></th>\n",
              "      <th></th>\n",
              "      <th></th>\n",
              "    </tr>\n",
              "  </thead>\n",
              "  <tbody>\n",
              "    <tr>\n",
              "      <th>Walmart</th>\n",
              "      <th>1</th>\n",
              "      <td>485873</td>\n",
              "      <td>0.8</td>\n",
              "      <td>13643.0</td>\n",
              "      <td>198825</td>\n",
              "      <td>-7.2</td>\n",
              "      <td>C. Douglas McMillon</td>\n",
              "      <td>General Merchandisers</td>\n",
              "      <td>Retailing</td>\n",
              "      <td>1</td>\n",
              "      <td>USA</td>\n",
              "      <td>Bentonville, AR</td>\n",
              "      <td>http://www.walmart.com</td>\n",
              "      <td>23</td>\n",
              "      <td>2300000</td>\n",
              "      <td>77798</td>\n",
              "    </tr>\n",
              "    <tr>\n",
              "      <th>State Grid</th>\n",
              "      <th>2</th>\n",
              "      <td>315199</td>\n",
              "      <td>-4.4</td>\n",
              "      <td>9571.3</td>\n",
              "      <td>489838</td>\n",
              "      <td>-6.2</td>\n",
              "      <td>Kou Wei</td>\n",
              "      <td>Utilities</td>\n",
              "      <td>Energy</td>\n",
              "      <td>2</td>\n",
              "      <td>China</td>\n",
              "      <td>Beijing, China</td>\n",
              "      <td>http://www.sgcc.com.cn</td>\n",
              "      <td>17</td>\n",
              "      <td>926067</td>\n",
              "      <td>209456</td>\n",
              "    </tr>\n",
              "    <tr>\n",
              "      <th>Sinopec Group</th>\n",
              "      <th>3</th>\n",
              "      <td>267518</td>\n",
              "      <td>-9.1</td>\n",
              "      <td>1257.9</td>\n",
              "      <td>310726</td>\n",
              "      <td>-65.0</td>\n",
              "      <td>Wang Yupu</td>\n",
              "      <td>Petroleum Refining</td>\n",
              "      <td>Energy</td>\n",
              "      <td>4</td>\n",
              "      <td>China</td>\n",
              "      <td>Beijing, China</td>\n",
              "      <td>http://www.sinopec.com</td>\n",
              "      <td>19</td>\n",
              "      <td>713288</td>\n",
              "      <td>106523</td>\n",
              "    </tr>\n",
              "    <tr>\n",
              "      <th>China National Petroleum</th>\n",
              "      <th>4</th>\n",
              "      <td>262573</td>\n",
              "      <td>-12.3</td>\n",
              "      <td>1867.5</td>\n",
              "      <td>585619</td>\n",
              "      <td>-73.7</td>\n",
              "      <td>Zhang Jianhua</td>\n",
              "      <td>Petroleum Refining</td>\n",
              "      <td>Energy</td>\n",
              "      <td>3</td>\n",
              "      <td>China</td>\n",
              "      <td>Beijing, China</td>\n",
              "      <td>http://www.cnpc.com.cn</td>\n",
              "      <td>17</td>\n",
              "      <td>1512048</td>\n",
              "      <td>301893</td>\n",
              "    </tr>\n",
              "    <tr>\n",
              "      <th>Toyota Motor</th>\n",
              "      <th>5</th>\n",
              "      <td>254694</td>\n",
              "      <td>7.7</td>\n",
              "      <td>16899.3</td>\n",
              "      <td>437575</td>\n",
              "      <td>-12.3</td>\n",
              "      <td>Akio Toyoda</td>\n",
              "      <td>Motor Vehicles and Parts</td>\n",
              "      <td>Motor Vehicles &amp; Parts</td>\n",
              "      <td>8</td>\n",
              "      <td>Japan</td>\n",
              "      <td>Toyota, Japan</td>\n",
              "      <td>http://www.toyota-global.com</td>\n",
              "      <td>23</td>\n",
              "      <td>364445</td>\n",
              "      <td>157210</td>\n",
              "    </tr>\n",
              "  </tbody>\n",
              "</table>\n",
              "</div>"
            ],
            "text/plain": [
              "                               revenues  ...  total_stockholder_equity\n",
              "company                  rank            ...                          \n",
              "Walmart                  1       485873  ...                     77798\n",
              "State Grid               2       315199  ...                    209456\n",
              "Sinopec Group            3       267518  ...                    106523\n",
              "China National Petroleum 4       262573  ...                    301893\n",
              "Toyota Motor             5       254694  ...                    157210\n",
              "\n",
              "[5 rows x 15 columns]"
            ]
          },
          "metadata": {
            "tags": []
          },
          "execution_count": 11
        }
      ]
    },
    {
      "cell_type": "code",
      "metadata": {
        "id": "dAWGrKUlbscj"
      },
      "source": [
        "df2=pd.read_excel(\"/content/drive/MyDrive/FoDS-2021/data/Housing_data.xlsx\",sheet_name='Data_Tab_2')"
      ],
      "execution_count": null,
      "outputs": []
    },
    {
      "cell_type": "code",
      "metadata": {
        "colab": {
          "base_uri": "https://localhost:8080/",
          "height": 173
        },
        "id": "hJ3aHALvcgjt",
        "outputId": "484ccd84-219f-4533-8975-b1cf303cdc18"
      },
      "source": [
        "df2"
      ],
      "execution_count": null,
      "outputs": [
        {
          "output_type": "execute_result",
          "data": {
            "text/html": [
              "<div>\n",
              "<style scoped>\n",
              "    .dataframe tbody tr th:only-of-type {\n",
              "        vertical-align: middle;\n",
              "    }\n",
              "\n",
              "    .dataframe tbody tr th {\n",
              "        vertical-align: top;\n",
              "    }\n",
              "\n",
              "    .dataframe thead th {\n",
              "        text-align: right;\n",
              "    }\n",
              "</style>\n",
              "<table border=\"1\" class=\"dataframe\">\n",
              "  <thead>\n",
              "    <tr style=\"text-align: right;\">\n",
              "      <th></th>\n",
              "      <th>CRIM</th>\n",
              "      <th>ZN</th>\n",
              "      <th>INDUS</th>\n",
              "      <th>CHAS</th>\n",
              "      <th>NOX</th>\n",
              "      <th>RM</th>\n",
              "      <th>AGE</th>\n",
              "      <th>DIS</th>\n",
              "      <th>RAD</th>\n",
              "      <th>TAX</th>\n",
              "      <th>PTRATIO</th>\n",
              "      <th>B</th>\n",
              "      <th>LSTAT</th>\n",
              "      <th>PRICE</th>\n",
              "    </tr>\n",
              "  </thead>\n",
              "  <tbody>\n",
              "    <tr>\n",
              "      <th>0</th>\n",
              "      <td>0.17004</td>\n",
              "      <td>12.5</td>\n",
              "      <td>7.87</td>\n",
              "      <td>0</td>\n",
              "      <td>0.524</td>\n",
              "      <td>6.004</td>\n",
              "      <td>85.9</td>\n",
              "      <td>6.5921</td>\n",
              "      <td>5</td>\n",
              "      <td>311</td>\n",
              "      <td>15.2</td>\n",
              "      <td>386.71</td>\n",
              "      <td>17.10</td>\n",
              "      <td>18.9</td>\n",
              "    </tr>\n",
              "    <tr>\n",
              "      <th>1</th>\n",
              "      <td>0.22489</td>\n",
              "      <td>12.5</td>\n",
              "      <td>7.87</td>\n",
              "      <td>0</td>\n",
              "      <td>0.524</td>\n",
              "      <td>6.377</td>\n",
              "      <td>94.3</td>\n",
              "      <td>6.3467</td>\n",
              "      <td>5</td>\n",
              "      <td>311</td>\n",
              "      <td>15.2</td>\n",
              "      <td>392.52</td>\n",
              "      <td>20.45</td>\n",
              "      <td>15.0</td>\n",
              "    </tr>\n",
              "    <tr>\n",
              "      <th>2</th>\n",
              "      <td>0.11747</td>\n",
              "      <td>12.5</td>\n",
              "      <td>7.87</td>\n",
              "      <td>0</td>\n",
              "      <td>0.524</td>\n",
              "      <td>6.009</td>\n",
              "      <td>82.9</td>\n",
              "      <td>6.2267</td>\n",
              "      <td>5</td>\n",
              "      <td>311</td>\n",
              "      <td>15.2</td>\n",
              "      <td>396.90</td>\n",
              "      <td>13.27</td>\n",
              "      <td>18.9</td>\n",
              "    </tr>\n",
              "    <tr>\n",
              "      <th>3</th>\n",
              "      <td>0.09378</td>\n",
              "      <td>12.5</td>\n",
              "      <td>7.87</td>\n",
              "      <td>0</td>\n",
              "      <td>0.524</td>\n",
              "      <td>5.889</td>\n",
              "      <td>39.0</td>\n",
              "      <td>5.4509</td>\n",
              "      <td>5</td>\n",
              "      <td>311</td>\n",
              "      <td>15.2</td>\n",
              "      <td>390.50</td>\n",
              "      <td>15.71</td>\n",
              "      <td>21.7</td>\n",
              "    </tr>\n",
              "  </tbody>\n",
              "</table>\n",
              "</div>"
            ],
            "text/plain": [
              "      CRIM    ZN  INDUS  CHAS    NOX  ...  TAX  PTRATIO       B  LSTAT  PRICE\n",
              "0  0.17004  12.5   7.87     0  0.524  ...  311     15.2  386.71  17.10   18.9\n",
              "1  0.22489  12.5   7.87     0  0.524  ...  311     15.2  392.52  20.45   15.0\n",
              "2  0.11747  12.5   7.87     0  0.524  ...  311     15.2  396.90  13.27   18.9\n",
              "3  0.09378  12.5   7.87     0  0.524  ...  311     15.2  390.50  15.71   21.7\n",
              "\n",
              "[4 rows x 14 columns]"
            ]
          },
          "metadata": {
            "tags": []
          },
          "execution_count": 15
        }
      ]
    },
    {
      "cell_type": "code",
      "metadata": {
        "id": "tmndKskwch18"
      },
      "source": [
        "df2=pd.read_excel(\"/content/drive/MyDrive/FoDS-2021/data/Housing_data.xlsx\",sheet_name=None)"
      ],
      "execution_count": null,
      "outputs": []
    },
    {
      "cell_type": "code",
      "metadata": {
        "colab": {
          "base_uri": "https://localhost:8080/"
        },
        "id": "bwuCmV_xdde2",
        "outputId": "3569f4ab-ef73-4ef4-fa01-a017221eb7fc"
      },
      "source": [
        "df2"
      ],
      "execution_count": null,
      "outputs": [
        {
          "output_type": "execute_result",
          "data": {
            "text/plain": [
              "{'Data_Tab_1':       CRIM    ZN  INDUS  CHAS    NOX  ...  TAX  PTRATIO       B  LSTAT  PRICE\n",
              " 0  0.00632  18.0   2.31     0  0.538  ...  296     15.3  396.90   4.98   24.0\n",
              " 1  0.02731   0.0   7.07     0  0.469  ...  242     17.8  396.90   9.14   21.6\n",
              " 2  0.02729   0.0   7.07     0  0.469  ...  242     17.8  392.83   4.03   34.7\n",
              " 3  0.03237   0.0   2.18     0  0.458  ...  222     18.7  394.63   2.94   33.4\n",
              " 4  0.06905   0.0   2.18     0  0.458  ...  222     18.7  396.90   5.33   36.2\n",
              " 5  0.02985   0.0   2.18     0  0.458  ...  222     18.7  394.12   5.21   28.7\n",
              " 6  0.08829  12.5   7.87     0  0.524  ...  311     15.2  395.60  12.43   22.9\n",
              " 7  0.14455  12.5   7.87     0  0.524  ...  311     15.2  396.90  19.15   27.1\n",
              " 8  0.21124  12.5   7.87     0  0.524  ...  311     15.2  386.63  29.93   16.5\n",
              " \n",
              " [9 rows x 14 columns],\n",
              " 'Data_Tab_2':       CRIM    ZN  INDUS  CHAS    NOX  ...  TAX  PTRATIO       B  LSTAT  PRICE\n",
              " 0  0.17004  12.5   7.87     0  0.524  ...  311     15.2  386.71  17.10   18.9\n",
              " 1  0.22489  12.5   7.87     0  0.524  ...  311     15.2  392.52  20.45   15.0\n",
              " 2  0.11747  12.5   7.87     0  0.524  ...  311     15.2  396.90  13.27   18.9\n",
              " 3  0.09378  12.5   7.87     0  0.524  ...  311     15.2  390.50  15.71   21.7\n",
              " \n",
              " [4 rows x 14 columns],\n",
              " 'Data_Tab_3':        CRIM  ZN  INDUS  CHAS    NOX  ...  TAX  PTRATIO       B  LSTAT  PRICE\n",
              " 0   0.72580   0   8.14     0  0.538  ...  307       21  390.95  11.28   18.2\n",
              " 1   1.25179   0   8.14     0  0.538  ...  307       21  376.57  21.02   13.6\n",
              " 2   0.85204   0   8.14     0  0.538  ...  307       21  392.53  13.83   19.6\n",
              " 3   1.23247   0   8.14     0  0.538  ...  307       21  396.90  18.72   15.2\n",
              " 4   0.98843   0   8.14     0  0.538  ...  307       21  394.54  19.88   14.5\n",
              " 5   0.75026   0   8.14     0  0.538  ...  307       21  394.33  16.30   15.6\n",
              " 6   0.84054   0   8.14     0  0.538  ...  307       21  303.42  16.51   13.9\n",
              " 7   0.67191   0   8.14     0  0.538  ...  307       21  376.88  14.81   16.6\n",
              " 8   0.95577   0   8.14     0  0.538  ...  307       21  306.38  17.28   14.8\n",
              " 9   0.77299   0   8.14     0  0.538  ...  307       21  387.94  12.80   18.4\n",
              " 10  0.62976   0   8.14     0  0.538  ...  307       21  396.90   8.26   20.4\n",
              " 11  0.63796   0   8.14     0  0.538  ...  307       21  380.02  10.26   18.2\n",
              " 12  0.62739   0   8.14     0  0.538  ...  307       21  395.62   8.47   19.9\n",
              " 13  1.05393   0   8.14     0  0.538  ...  307       21  386.85   6.58   23.1\n",
              " 14  0.78420   0   8.14     0  0.538  ...  307       21  386.75  14.67   17.5\n",
              " 15  0.80271   0   8.14     0  0.538  ...  307       21  288.99  11.69   20.2\n",
              " \n",
              " [16 rows x 14 columns]}"
            ]
          },
          "metadata": {
            "tags": []
          },
          "execution_count": 17
        }
      ]
    },
    {
      "cell_type": "code",
      "metadata": {
        "colab": {
          "base_uri": "https://localhost:8080/"
        },
        "id": "T_trGtMhdeNt",
        "outputId": "9a31fd7c-45ac-4ad8-e32b-a819ed1df0b0"
      },
      "source": [
        "df2.keys()"
      ],
      "execution_count": null,
      "outputs": [
        {
          "output_type": "execute_result",
          "data": {
            "text/plain": [
              "dict_keys(['Data_Tab_1', 'Data_Tab_2', 'Data_Tab_3'])"
            ]
          },
          "metadata": {
            "tags": []
          },
          "execution_count": 18
        }
      ]
    },
    {
      "cell_type": "code",
      "metadata": {
        "id": "Yb3OHJRNdkFs"
      },
      "source": [
        "import pandas as pd\n",
        "data=pd.read_csv('https://s3-eu-west-1.amazonaws.com/shanebucket/downloads/uk-500.csv')"
      ],
      "execution_count": null,
      "outputs": []
    },
    {
      "cell_type": "code",
      "metadata": {
        "colab": {
          "base_uri": "https://localhost:8080/",
          "height": 374
        },
        "id": "M_q1MkDGeH0W",
        "outputId": "8b77f6a9-f469-4654-e339-3f9d9fdbb09f"
      },
      "source": [
        "data.head()"
      ],
      "execution_count": null,
      "outputs": [
        {
          "output_type": "execute_result",
          "data": {
            "text/html": [
              "<div>\n",
              "<style scoped>\n",
              "    .dataframe tbody tr th:only-of-type {\n",
              "        vertical-align: middle;\n",
              "    }\n",
              "\n",
              "    .dataframe tbody tr th {\n",
              "        vertical-align: top;\n",
              "    }\n",
              "\n",
              "    .dataframe thead th {\n",
              "        text-align: right;\n",
              "    }\n",
              "</style>\n",
              "<table border=\"1\" class=\"dataframe\">\n",
              "  <thead>\n",
              "    <tr style=\"text-align: right;\">\n",
              "      <th></th>\n",
              "      <th>first_name</th>\n",
              "      <th>last_name</th>\n",
              "      <th>company_name</th>\n",
              "      <th>address</th>\n",
              "      <th>city</th>\n",
              "      <th>county</th>\n",
              "      <th>postal</th>\n",
              "      <th>phone1</th>\n",
              "      <th>phone2</th>\n",
              "      <th>email</th>\n",
              "      <th>web</th>\n",
              "    </tr>\n",
              "  </thead>\n",
              "  <tbody>\n",
              "    <tr>\n",
              "      <th>0</th>\n",
              "      <td>Aleshia</td>\n",
              "      <td>Tomkiewicz</td>\n",
              "      <td>Alan D Rosenburg Cpa Pc</td>\n",
              "      <td>14 Taylor St</td>\n",
              "      <td>St. Stephens Ward</td>\n",
              "      <td>Kent</td>\n",
              "      <td>CT2 7PP</td>\n",
              "      <td>01835-703597</td>\n",
              "      <td>01944-369967</td>\n",
              "      <td>atomkiewicz@hotmail.com</td>\n",
              "      <td>http://www.alandrosenburgcpapc.co.uk</td>\n",
              "    </tr>\n",
              "    <tr>\n",
              "      <th>1</th>\n",
              "      <td>Evan</td>\n",
              "      <td>Zigomalas</td>\n",
              "      <td>Cap Gemini America</td>\n",
              "      <td>5 Binney St</td>\n",
              "      <td>Abbey Ward</td>\n",
              "      <td>Buckinghamshire</td>\n",
              "      <td>HP11 2AX</td>\n",
              "      <td>01937-864715</td>\n",
              "      <td>01714-737668</td>\n",
              "      <td>evan.zigomalas@gmail.com</td>\n",
              "      <td>http://www.capgeminiamerica.co.uk</td>\n",
              "    </tr>\n",
              "    <tr>\n",
              "      <th>2</th>\n",
              "      <td>France</td>\n",
              "      <td>Andrade</td>\n",
              "      <td>Elliott, John W Esq</td>\n",
              "      <td>8 Moor Place</td>\n",
              "      <td>East Southbourne and Tuckton W</td>\n",
              "      <td>Bournemouth</td>\n",
              "      <td>BH6 3BE</td>\n",
              "      <td>01347-368222</td>\n",
              "      <td>01935-821636</td>\n",
              "      <td>france.andrade@hotmail.com</td>\n",
              "      <td>http://www.elliottjohnwesq.co.uk</td>\n",
              "    </tr>\n",
              "    <tr>\n",
              "      <th>3</th>\n",
              "      <td>Ulysses</td>\n",
              "      <td>Mcwalters</td>\n",
              "      <td>Mcmahan, Ben L</td>\n",
              "      <td>505 Exeter Rd</td>\n",
              "      <td>Hawerby cum Beesby</td>\n",
              "      <td>Lincolnshire</td>\n",
              "      <td>DN36 5RP</td>\n",
              "      <td>01912-771311</td>\n",
              "      <td>01302-601380</td>\n",
              "      <td>ulysses@hotmail.com</td>\n",
              "      <td>http://www.mcmahanbenl.co.uk</td>\n",
              "    </tr>\n",
              "    <tr>\n",
              "      <th>4</th>\n",
              "      <td>Tyisha</td>\n",
              "      <td>Veness</td>\n",
              "      <td>Champagne Room</td>\n",
              "      <td>5396 Forth Street</td>\n",
              "      <td>Greets Green and Lyng Ward</td>\n",
              "      <td>West Midlands</td>\n",
              "      <td>B70 9DT</td>\n",
              "      <td>01547-429341</td>\n",
              "      <td>01290-367248</td>\n",
              "      <td>tyisha.veness@hotmail.com</td>\n",
              "      <td>http://www.champagneroom.co.uk</td>\n",
              "    </tr>\n",
              "  </tbody>\n",
              "</table>\n",
              "</div>"
            ],
            "text/plain": [
              "  first_name  ...                                   web\n",
              "0    Aleshia  ...  http://www.alandrosenburgcpapc.co.uk\n",
              "1       Evan  ...     http://www.capgeminiamerica.co.uk\n",
              "2     France  ...      http://www.elliottjohnwesq.co.uk\n",
              "3    Ulysses  ...          http://www.mcmahanbenl.co.uk\n",
              "4     Tyisha  ...        http://www.champagneroom.co.uk\n",
              "\n",
              "[5 rows x 11 columns]"
            ]
          },
          "metadata": {
            "tags": []
          },
          "execution_count": 3
        }
      ]
    },
    {
      "cell_type": "markdown",
      "metadata": {
        "id": "t1i1N78c-ZVJ"
      },
      "source": [
        "![alt text](https://shanelynnwebsite-mid9n9g1q9y8tt.netdna-ssl.com/wp-content/uploads/2016/10/Pandas-selections-and-indexing-768x549.png)"
      ]
    },
    {
      "cell_type": "code",
      "metadata": {
        "colab": {
          "base_uri": "https://localhost:8080/"
        },
        "id": "BK0mV9ZDeIw9",
        "outputId": "840b3392-3d49-428e-a3ce-d5312d619c8a"
      },
      "source": [
        "data.iloc[0]"
      ],
      "execution_count": null,
      "outputs": [
        {
          "output_type": "execute_result",
          "data": {
            "text/plain": [
              "first_name                                   Aleshia\n",
              "last_name                                 Tomkiewicz\n",
              "company_name                 Alan D Rosenburg Cpa Pc\n",
              "address                                 14 Taylor St\n",
              "city                               St. Stephens Ward\n",
              "county                                          Kent\n",
              "postal                                       CT2 7PP\n",
              "phone1                                  01835-703597\n",
              "phone2                                  01944-369967\n",
              "email                        atomkiewicz@hotmail.com\n",
              "web             http://www.alandrosenburgcpapc.co.uk\n",
              "Name: 0, dtype: object"
            ]
          },
          "metadata": {
            "tags": []
          },
          "execution_count": 21
        }
      ]
    },
    {
      "cell_type": "code",
      "metadata": {
        "colab": {
          "base_uri": "https://localhost:8080/"
        },
        "id": "z1SF0HZ1eYug",
        "outputId": "6b94133c-8788-4bef-a625-1a7914af1d62"
      },
      "source": [
        "data.iloc[1]"
      ],
      "execution_count": null,
      "outputs": [
        {
          "output_type": "execute_result",
          "data": {
            "text/plain": [
              "first_name                                   Evan\n",
              "last_name                               Zigomalas\n",
              "company_name                   Cap Gemini America\n",
              "address                               5 Binney St\n",
              "city                                   Abbey Ward\n",
              "county                            Buckinghamshire\n",
              "postal                                   HP11 2AX\n",
              "phone1                               01937-864715\n",
              "phone2                               01714-737668\n",
              "email                    evan.zigomalas@gmail.com\n",
              "web             http://www.capgeminiamerica.co.uk\n",
              "Name: 1, dtype: object"
            ]
          },
          "metadata": {
            "tags": []
          },
          "execution_count": 22
        }
      ]
    },
    {
      "cell_type": "code",
      "metadata": {
        "colab": {
          "base_uri": "https://localhost:8080/"
        },
        "id": "0MpF1gfMeuzA",
        "outputId": "3ba5fbcb-93d6-4e06-dd4f-683b4f4d20b1"
      },
      "source": [
        "data.iloc[-1]"
      ],
      "execution_count": null,
      "outputs": [
        {
          "output_type": "execute_result",
          "data": {
            "text/plain": [
              "first_name                                               Mi\n",
              "last_name                                            Richan\n",
              "company_name                 Nelson Wright Haworth Golf Crs\n",
              "address                                     6 Norwood Grove\n",
              "city                                      Tanworth-in-Arden\n",
              "county                                         Warwickshire\n",
              "postal                                              B94 5RZ\n",
              "phone1                                         01451-785624\n",
              "phone2                                         01202-738406\n",
              "email                                        mi@hotmail.com\n",
              "web             http://www.nelsonwrighthaworthgolfcrs.co.uk\n",
              "Name: 499, dtype: object"
            ]
          },
          "metadata": {
            "tags": []
          },
          "execution_count": 23
        }
      ]
    },
    {
      "cell_type": "code",
      "metadata": {
        "colab": {
          "base_uri": "https://localhost:8080/",
          "height": 377
        },
        "id": "t3rjA7qfe-oM",
        "outputId": "0d4036f3-0481-4fd8-e397-da4c1bc74194"
      },
      "source": [
        "data.tail()"
      ],
      "execution_count": null,
      "outputs": [
        {
          "output_type": "execute_result",
          "data": {
            "text/html": [
              "<div>\n",
              "<style scoped>\n",
              "    .dataframe tbody tr th:only-of-type {\n",
              "        vertical-align: middle;\n",
              "    }\n",
              "\n",
              "    .dataframe tbody tr th {\n",
              "        vertical-align: top;\n",
              "    }\n",
              "\n",
              "    .dataframe thead th {\n",
              "        text-align: right;\n",
              "    }\n",
              "</style>\n",
              "<table border=\"1\" class=\"dataframe\">\n",
              "  <thead>\n",
              "    <tr style=\"text-align: right;\">\n",
              "      <th></th>\n",
              "      <th>first_name</th>\n",
              "      <th>last_name</th>\n",
              "      <th>company_name</th>\n",
              "      <th>address</th>\n",
              "      <th>city</th>\n",
              "      <th>county</th>\n",
              "      <th>postal</th>\n",
              "      <th>phone1</th>\n",
              "      <th>phone2</th>\n",
              "      <th>email</th>\n",
              "      <th>web</th>\n",
              "    </tr>\n",
              "  </thead>\n",
              "  <tbody>\n",
              "    <tr>\n",
              "      <th>495</th>\n",
              "      <td>Avery</td>\n",
              "      <td>Veit</td>\n",
              "      <td>Plaza Gourmet Delicatessen</td>\n",
              "      <td>9166 Devon St #905</td>\n",
              "      <td>Knightsbridge and Belgravia Wa</td>\n",
              "      <td>Greater London</td>\n",
              "      <td>SW1W 8JY</td>\n",
              "      <td>01748-625058</td>\n",
              "      <td>01369-185737</td>\n",
              "      <td>avery@veit.co.uk</td>\n",
              "      <td>http://www.plazagourmetdelicatessen.co.uk</td>\n",
              "    </tr>\n",
              "    <tr>\n",
              "      <th>496</th>\n",
              "      <td>Reid</td>\n",
              "      <td>Euresti</td>\n",
              "      <td>Fitzgerald, Edward J</td>\n",
              "      <td>70 Foster St</td>\n",
              "      <td>Inverness Ness-Side Ward</td>\n",
              "      <td>Highland</td>\n",
              "      <td>IV2 6WT</td>\n",
              "      <td>01916-963261</td>\n",
              "      <td>01370-319414</td>\n",
              "      <td>reuresti@euresti.co.uk</td>\n",
              "      <td>http://www.fitzgeraldedwardj.co.uk</td>\n",
              "    </tr>\n",
              "    <tr>\n",
              "      <th>497</th>\n",
              "      <td>Charlette</td>\n",
              "      <td>Brenning</td>\n",
              "      <td>Furey &amp; Associates</td>\n",
              "      <td>714 Fonthill Rd</td>\n",
              "      <td>Darton West Ward</td>\n",
              "      <td>South Yorkshire</td>\n",
              "      <td>S75 5EJ</td>\n",
              "      <td>01888-152110</td>\n",
              "      <td>01301-312487</td>\n",
              "      <td>cbrenning@brenning.co.uk</td>\n",
              "      <td>http://www.fureyassociates.co.uk</td>\n",
              "    </tr>\n",
              "    <tr>\n",
              "      <th>498</th>\n",
              "      <td>Celestina</td>\n",
              "      <td>Keeny</td>\n",
              "      <td>Bfg Federal Credit Union</td>\n",
              "      <td>9 Milton St</td>\n",
              "      <td>Consett North ED</td>\n",
              "      <td>County Durham</td>\n",
              "      <td>DH8 5LP</td>\n",
              "      <td>01877-379681</td>\n",
              "      <td>01600-463475</td>\n",
              "      <td>celestina_keeny@gmail.com</td>\n",
              "      <td>http://www.bfgfederalcreditunion.co.uk</td>\n",
              "    </tr>\n",
              "    <tr>\n",
              "      <th>499</th>\n",
              "      <td>Mi</td>\n",
              "      <td>Richan</td>\n",
              "      <td>Nelson Wright Haworth Golf Crs</td>\n",
              "      <td>6 Norwood Grove</td>\n",
              "      <td>Tanworth-in-Arden</td>\n",
              "      <td>Warwickshire</td>\n",
              "      <td>B94 5RZ</td>\n",
              "      <td>01451-785624</td>\n",
              "      <td>01202-738406</td>\n",
              "      <td>mi@hotmail.com</td>\n",
              "      <td>http://www.nelsonwrighthaworthgolfcrs.co.uk</td>\n",
              "    </tr>\n",
              "  </tbody>\n",
              "</table>\n",
              "</div>"
            ],
            "text/plain": [
              "    first_name  ...                                          web\n",
              "495      Avery  ...    http://www.plazagourmetdelicatessen.co.uk\n",
              "496       Reid  ...           http://www.fitzgeraldedwardj.co.uk\n",
              "497  Charlette  ...             http://www.fureyassociates.co.uk\n",
              "498  Celestina  ...       http://www.bfgfederalcreditunion.co.uk\n",
              "499         Mi  ...  http://www.nelsonwrighthaworthgolfcrs.co.uk\n",
              "\n",
              "[5 rows x 11 columns]"
            ]
          },
          "metadata": {
            "tags": []
          },
          "execution_count": 24
        }
      ]
    },
    {
      "cell_type": "code",
      "metadata": {
        "id": "4qe9f-bIfAQQ",
        "colab": {
          "base_uri": "https://localhost:8080/"
        },
        "outputId": "f903127e-a977-4d5d-efb1-1a327fcfc50b"
      },
      "source": [
        "data.iloc[:,0]"
      ],
      "execution_count": null,
      "outputs": [
        {
          "output_type": "execute_result",
          "data": {
            "text/plain": [
              "0        Aleshia\n",
              "1           Evan\n",
              "2         France\n",
              "3        Ulysses\n",
              "4         Tyisha\n",
              "         ...    \n",
              "495        Avery\n",
              "496         Reid\n",
              "497    Charlette\n",
              "498    Celestina\n",
              "499           Mi\n",
              "Name: first_name, Length: 500, dtype: object"
            ]
          },
          "metadata": {
            "tags": []
          },
          "execution_count": 4
        }
      ]
    },
    {
      "cell_type": "code",
      "metadata": {
        "colab": {
          "base_uri": "https://localhost:8080/"
        },
        "id": "Q-T0-u4E_8fB",
        "outputId": "88d3af4d-5861-4b97-d8e2-881e091fe75f"
      },
      "source": [
        "data.iloc[:,1]"
      ],
      "execution_count": null,
      "outputs": [
        {
          "output_type": "execute_result",
          "data": {
            "text/plain": [
              "0      Tomkiewicz\n",
              "1       Zigomalas\n",
              "2         Andrade\n",
              "3       Mcwalters\n",
              "4          Veness\n",
              "          ...    \n",
              "495          Veit\n",
              "496       Euresti\n",
              "497      Brenning\n",
              "498         Keeny\n",
              "499        Richan\n",
              "Name: last_name, Length: 500, dtype: object"
            ]
          },
          "metadata": {
            "tags": []
          },
          "execution_count": 5
        }
      ]
    },
    {
      "cell_type": "code",
      "metadata": {
        "colab": {
          "base_uri": "https://localhost:8080/",
          "height": 685
        },
        "id": "yCIeZZ8QANIi",
        "outputId": "764fda2e-c4d5-40f0-ec6d-6f363b5dd2df"
      },
      "source": [
        "data.iloc[0:10]"
      ],
      "execution_count": null,
      "outputs": [
        {
          "output_type": "execute_result",
          "data": {
            "text/html": [
              "<div>\n",
              "<style scoped>\n",
              "    .dataframe tbody tr th:only-of-type {\n",
              "        vertical-align: middle;\n",
              "    }\n",
              "\n",
              "    .dataframe tbody tr th {\n",
              "        vertical-align: top;\n",
              "    }\n",
              "\n",
              "    .dataframe thead th {\n",
              "        text-align: right;\n",
              "    }\n",
              "</style>\n",
              "<table border=\"1\" class=\"dataframe\">\n",
              "  <thead>\n",
              "    <tr style=\"text-align: right;\">\n",
              "      <th></th>\n",
              "      <th>first_name</th>\n",
              "      <th>last_name</th>\n",
              "      <th>company_name</th>\n",
              "      <th>address</th>\n",
              "      <th>city</th>\n",
              "      <th>county</th>\n",
              "      <th>postal</th>\n",
              "      <th>phone1</th>\n",
              "      <th>phone2</th>\n",
              "      <th>email</th>\n",
              "      <th>web</th>\n",
              "    </tr>\n",
              "  </thead>\n",
              "  <tbody>\n",
              "    <tr>\n",
              "      <th>0</th>\n",
              "      <td>Aleshia</td>\n",
              "      <td>Tomkiewicz</td>\n",
              "      <td>Alan D Rosenburg Cpa Pc</td>\n",
              "      <td>14 Taylor St</td>\n",
              "      <td>St. Stephens Ward</td>\n",
              "      <td>Kent</td>\n",
              "      <td>CT2 7PP</td>\n",
              "      <td>01835-703597</td>\n",
              "      <td>01944-369967</td>\n",
              "      <td>atomkiewicz@hotmail.com</td>\n",
              "      <td>http://www.alandrosenburgcpapc.co.uk</td>\n",
              "    </tr>\n",
              "    <tr>\n",
              "      <th>1</th>\n",
              "      <td>Evan</td>\n",
              "      <td>Zigomalas</td>\n",
              "      <td>Cap Gemini America</td>\n",
              "      <td>5 Binney St</td>\n",
              "      <td>Abbey Ward</td>\n",
              "      <td>Buckinghamshire</td>\n",
              "      <td>HP11 2AX</td>\n",
              "      <td>01937-864715</td>\n",
              "      <td>01714-737668</td>\n",
              "      <td>evan.zigomalas@gmail.com</td>\n",
              "      <td>http://www.capgeminiamerica.co.uk</td>\n",
              "    </tr>\n",
              "    <tr>\n",
              "      <th>2</th>\n",
              "      <td>France</td>\n",
              "      <td>Andrade</td>\n",
              "      <td>Elliott, John W Esq</td>\n",
              "      <td>8 Moor Place</td>\n",
              "      <td>East Southbourne and Tuckton W</td>\n",
              "      <td>Bournemouth</td>\n",
              "      <td>BH6 3BE</td>\n",
              "      <td>01347-368222</td>\n",
              "      <td>01935-821636</td>\n",
              "      <td>france.andrade@hotmail.com</td>\n",
              "      <td>http://www.elliottjohnwesq.co.uk</td>\n",
              "    </tr>\n",
              "    <tr>\n",
              "      <th>3</th>\n",
              "      <td>Ulysses</td>\n",
              "      <td>Mcwalters</td>\n",
              "      <td>Mcmahan, Ben L</td>\n",
              "      <td>505 Exeter Rd</td>\n",
              "      <td>Hawerby cum Beesby</td>\n",
              "      <td>Lincolnshire</td>\n",
              "      <td>DN36 5RP</td>\n",
              "      <td>01912-771311</td>\n",
              "      <td>01302-601380</td>\n",
              "      <td>ulysses@hotmail.com</td>\n",
              "      <td>http://www.mcmahanbenl.co.uk</td>\n",
              "    </tr>\n",
              "    <tr>\n",
              "      <th>4</th>\n",
              "      <td>Tyisha</td>\n",
              "      <td>Veness</td>\n",
              "      <td>Champagne Room</td>\n",
              "      <td>5396 Forth Street</td>\n",
              "      <td>Greets Green and Lyng Ward</td>\n",
              "      <td>West Midlands</td>\n",
              "      <td>B70 9DT</td>\n",
              "      <td>01547-429341</td>\n",
              "      <td>01290-367248</td>\n",
              "      <td>tyisha.veness@hotmail.com</td>\n",
              "      <td>http://www.champagneroom.co.uk</td>\n",
              "    </tr>\n",
              "    <tr>\n",
              "      <th>5</th>\n",
              "      <td>Eric</td>\n",
              "      <td>Rampy</td>\n",
              "      <td>Thompson, Michael C Esq</td>\n",
              "      <td>9472 Lind St</td>\n",
              "      <td>Desborough</td>\n",
              "      <td>Northamptonshire</td>\n",
              "      <td>NN14 2GH</td>\n",
              "      <td>01969-886290</td>\n",
              "      <td>01545-817375</td>\n",
              "      <td>erampy@rampy.co.uk</td>\n",
              "      <td>http://www.thompsonmichaelcesq.co.uk</td>\n",
              "    </tr>\n",
              "    <tr>\n",
              "      <th>6</th>\n",
              "      <td>Marg</td>\n",
              "      <td>Grasmick</td>\n",
              "      <td>Wrangle Hill Auto Auct &amp; Slvg</td>\n",
              "      <td>7457 Cowl St #70</td>\n",
              "      <td>Bargate Ward</td>\n",
              "      <td>Southampton</td>\n",
              "      <td>SO14 3TY</td>\n",
              "      <td>01865-582516</td>\n",
              "      <td>01362-620532</td>\n",
              "      <td>marg@hotmail.com</td>\n",
              "      <td>http://www.wranglehillautoauctslvg.co.uk</td>\n",
              "    </tr>\n",
              "    <tr>\n",
              "      <th>7</th>\n",
              "      <td>Laquita</td>\n",
              "      <td>Hisaw</td>\n",
              "      <td>In Communications Inc</td>\n",
              "      <td>20 Gloucester Pl #96</td>\n",
              "      <td>Chirton Ward</td>\n",
              "      <td>Tyne &amp; Wear</td>\n",
              "      <td>NE29 7AD</td>\n",
              "      <td>01746-394243</td>\n",
              "      <td>01590-982428</td>\n",
              "      <td>laquita@yahoo.com</td>\n",
              "      <td>http://www.incommunicationsinc.co.uk</td>\n",
              "    </tr>\n",
              "    <tr>\n",
              "      <th>8</th>\n",
              "      <td>Lura</td>\n",
              "      <td>Manzella</td>\n",
              "      <td>Bizerba Usa Inc</td>\n",
              "      <td>929 Augustine St</td>\n",
              "      <td>Staple Hill Ward</td>\n",
              "      <td>South Gloucestershire</td>\n",
              "      <td>BS16 4LL</td>\n",
              "      <td>01907-538509</td>\n",
              "      <td>01340-713951</td>\n",
              "      <td>lura@hotmail.com</td>\n",
              "      <td>http://www.bizerbausainc.co.uk</td>\n",
              "    </tr>\n",
              "    <tr>\n",
              "      <th>9</th>\n",
              "      <td>Yuette</td>\n",
              "      <td>Klapec</td>\n",
              "      <td>Max Video</td>\n",
              "      <td>45 Bradfield St #166</td>\n",
              "      <td>Parwich</td>\n",
              "      <td>Derbyshire</td>\n",
              "      <td>DE6 1QN</td>\n",
              "      <td>01903-649460</td>\n",
              "      <td>01933-512513</td>\n",
              "      <td>yuette.klapec@klapec.co.uk</td>\n",
              "      <td>http://www.maxvideo.co.uk</td>\n",
              "    </tr>\n",
              "  </tbody>\n",
              "</table>\n",
              "</div>"
            ],
            "text/plain": [
              "  first_name  ...                                       web\n",
              "0    Aleshia  ...      http://www.alandrosenburgcpapc.co.uk\n",
              "1       Evan  ...         http://www.capgeminiamerica.co.uk\n",
              "2     France  ...          http://www.elliottjohnwesq.co.uk\n",
              "3    Ulysses  ...              http://www.mcmahanbenl.co.uk\n",
              "4     Tyisha  ...            http://www.champagneroom.co.uk\n",
              "5       Eric  ...      http://www.thompsonmichaelcesq.co.uk\n",
              "6       Marg  ...  http://www.wranglehillautoauctslvg.co.uk\n",
              "7    Laquita  ...      http://www.incommunicationsinc.co.uk\n",
              "8       Lura  ...            http://www.bizerbausainc.co.uk\n",
              "9     Yuette  ...                 http://www.maxvideo.co.uk\n",
              "\n",
              "[10 rows x 11 columns]"
            ]
          },
          "metadata": {
            "tags": []
          },
          "execution_count": 6
        }
      ]
    },
    {
      "cell_type": "code",
      "metadata": {
        "colab": {
          "base_uri": "https://localhost:8080/",
          "height": 419
        },
        "id": "6hkECbhRAkRu",
        "outputId": "267c92a1-e24b-4f76-ebaf-9d152e2cfac1"
      },
      "source": [
        "data.iloc[:,0:2]"
      ],
      "execution_count": null,
      "outputs": [
        {
          "output_type": "execute_result",
          "data": {
            "text/html": [
              "<div>\n",
              "<style scoped>\n",
              "    .dataframe tbody tr th:only-of-type {\n",
              "        vertical-align: middle;\n",
              "    }\n",
              "\n",
              "    .dataframe tbody tr th {\n",
              "        vertical-align: top;\n",
              "    }\n",
              "\n",
              "    .dataframe thead th {\n",
              "        text-align: right;\n",
              "    }\n",
              "</style>\n",
              "<table border=\"1\" class=\"dataframe\">\n",
              "  <thead>\n",
              "    <tr style=\"text-align: right;\">\n",
              "      <th></th>\n",
              "      <th>first_name</th>\n",
              "      <th>last_name</th>\n",
              "    </tr>\n",
              "  </thead>\n",
              "  <tbody>\n",
              "    <tr>\n",
              "      <th>0</th>\n",
              "      <td>Aleshia</td>\n",
              "      <td>Tomkiewicz</td>\n",
              "    </tr>\n",
              "    <tr>\n",
              "      <th>1</th>\n",
              "      <td>Evan</td>\n",
              "      <td>Zigomalas</td>\n",
              "    </tr>\n",
              "    <tr>\n",
              "      <th>2</th>\n",
              "      <td>France</td>\n",
              "      <td>Andrade</td>\n",
              "    </tr>\n",
              "    <tr>\n",
              "      <th>3</th>\n",
              "      <td>Ulysses</td>\n",
              "      <td>Mcwalters</td>\n",
              "    </tr>\n",
              "    <tr>\n",
              "      <th>4</th>\n",
              "      <td>Tyisha</td>\n",
              "      <td>Veness</td>\n",
              "    </tr>\n",
              "    <tr>\n",
              "      <th>...</th>\n",
              "      <td>...</td>\n",
              "      <td>...</td>\n",
              "    </tr>\n",
              "    <tr>\n",
              "      <th>495</th>\n",
              "      <td>Avery</td>\n",
              "      <td>Veit</td>\n",
              "    </tr>\n",
              "    <tr>\n",
              "      <th>496</th>\n",
              "      <td>Reid</td>\n",
              "      <td>Euresti</td>\n",
              "    </tr>\n",
              "    <tr>\n",
              "      <th>497</th>\n",
              "      <td>Charlette</td>\n",
              "      <td>Brenning</td>\n",
              "    </tr>\n",
              "    <tr>\n",
              "      <th>498</th>\n",
              "      <td>Celestina</td>\n",
              "      <td>Keeny</td>\n",
              "    </tr>\n",
              "    <tr>\n",
              "      <th>499</th>\n",
              "      <td>Mi</td>\n",
              "      <td>Richan</td>\n",
              "    </tr>\n",
              "  </tbody>\n",
              "</table>\n",
              "<p>500 rows × 2 columns</p>\n",
              "</div>"
            ],
            "text/plain": [
              "    first_name   last_name\n",
              "0      Aleshia  Tomkiewicz\n",
              "1         Evan   Zigomalas\n",
              "2       France     Andrade\n",
              "3      Ulysses   Mcwalters\n",
              "4       Tyisha      Veness\n",
              "..         ...         ...\n",
              "495      Avery        Veit\n",
              "496       Reid     Euresti\n",
              "497  Charlette    Brenning\n",
              "498  Celestina       Keeny\n",
              "499         Mi      Richan\n",
              "\n",
              "[500 rows x 2 columns]"
            ]
          },
          "metadata": {
            "tags": []
          },
          "execution_count": 7
        }
      ]
    },
    {
      "cell_type": "code",
      "metadata": {
        "colab": {
          "base_uri": "https://localhost:8080/",
          "height": 204
        },
        "id": "-2P2W1XgAtM9",
        "outputId": "a63e9a36-1d46-410a-a74c-ce4e11284612"
      },
      "source": [
        "data.iloc[0:5,0:2]"
      ],
      "execution_count": null,
      "outputs": [
        {
          "output_type": "execute_result",
          "data": {
            "text/html": [
              "<div>\n",
              "<style scoped>\n",
              "    .dataframe tbody tr th:only-of-type {\n",
              "        vertical-align: middle;\n",
              "    }\n",
              "\n",
              "    .dataframe tbody tr th {\n",
              "        vertical-align: top;\n",
              "    }\n",
              "\n",
              "    .dataframe thead th {\n",
              "        text-align: right;\n",
              "    }\n",
              "</style>\n",
              "<table border=\"1\" class=\"dataframe\">\n",
              "  <thead>\n",
              "    <tr style=\"text-align: right;\">\n",
              "      <th></th>\n",
              "      <th>first_name</th>\n",
              "      <th>last_name</th>\n",
              "    </tr>\n",
              "  </thead>\n",
              "  <tbody>\n",
              "    <tr>\n",
              "      <th>0</th>\n",
              "      <td>Aleshia</td>\n",
              "      <td>Tomkiewicz</td>\n",
              "    </tr>\n",
              "    <tr>\n",
              "      <th>1</th>\n",
              "      <td>Evan</td>\n",
              "      <td>Zigomalas</td>\n",
              "    </tr>\n",
              "    <tr>\n",
              "      <th>2</th>\n",
              "      <td>France</td>\n",
              "      <td>Andrade</td>\n",
              "    </tr>\n",
              "    <tr>\n",
              "      <th>3</th>\n",
              "      <td>Ulysses</td>\n",
              "      <td>Mcwalters</td>\n",
              "    </tr>\n",
              "    <tr>\n",
              "      <th>4</th>\n",
              "      <td>Tyisha</td>\n",
              "      <td>Veness</td>\n",
              "    </tr>\n",
              "  </tbody>\n",
              "</table>\n",
              "</div>"
            ],
            "text/plain": [
              "  first_name   last_name\n",
              "0    Aleshia  Tomkiewicz\n",
              "1       Evan   Zigomalas\n",
              "2     France     Andrade\n",
              "3    Ulysses   Mcwalters\n",
              "4     Tyisha      Veness"
            ]
          },
          "metadata": {
            "tags": []
          },
          "execution_count": 8
        }
      ]
    },
    {
      "cell_type": "code",
      "metadata": {
        "colab": {
          "base_uri": "https://localhost:8080/",
          "height": 111
        },
        "id": "APE6GOKMBMgO",
        "outputId": "4e4c7777-d569-47f8-857c-cc50be3296f9"
      },
      "source": [
        "data.iloc[3:5,3:5]"
      ],
      "execution_count": null,
      "outputs": [
        {
          "output_type": "execute_result",
          "data": {
            "text/html": [
              "<div>\n",
              "<style scoped>\n",
              "    .dataframe tbody tr th:only-of-type {\n",
              "        vertical-align: middle;\n",
              "    }\n",
              "\n",
              "    .dataframe tbody tr th {\n",
              "        vertical-align: top;\n",
              "    }\n",
              "\n",
              "    .dataframe thead th {\n",
              "        text-align: right;\n",
              "    }\n",
              "</style>\n",
              "<table border=\"1\" class=\"dataframe\">\n",
              "  <thead>\n",
              "    <tr style=\"text-align: right;\">\n",
              "      <th></th>\n",
              "      <th>address</th>\n",
              "      <th>city</th>\n",
              "    </tr>\n",
              "  </thead>\n",
              "  <tbody>\n",
              "    <tr>\n",
              "      <th>3</th>\n",
              "      <td>505 Exeter Rd</td>\n",
              "      <td>Hawerby cum Beesby</td>\n",
              "    </tr>\n",
              "    <tr>\n",
              "      <th>4</th>\n",
              "      <td>5396 Forth Street</td>\n",
              "      <td>Greets Green and Lyng Ward</td>\n",
              "    </tr>\n",
              "  </tbody>\n",
              "</table>\n",
              "</div>"
            ],
            "text/plain": [
              "             address                        city\n",
              "3      505 Exeter Rd          Hawerby cum Beesby\n",
              "4  5396 Forth Street  Greets Green and Lyng Ward"
            ]
          },
          "metadata": {
            "tags": []
          },
          "execution_count": 9
        }
      ]
    },
    {
      "cell_type": "code",
      "metadata": {
        "colab": {
          "base_uri": "https://localhost:8080/",
          "height": 173
        },
        "id": "ZVrDDPYDBv8m",
        "outputId": "3108216c-804c-4915-d12a-ee4e1d14f4b9"
      },
      "source": [
        "data.iloc[[0,3,5,7],[0,5,6]]"
      ],
      "execution_count": null,
      "outputs": [
        {
          "output_type": "execute_result",
          "data": {
            "text/html": [
              "<div>\n",
              "<style scoped>\n",
              "    .dataframe tbody tr th:only-of-type {\n",
              "        vertical-align: middle;\n",
              "    }\n",
              "\n",
              "    .dataframe tbody tr th {\n",
              "        vertical-align: top;\n",
              "    }\n",
              "\n",
              "    .dataframe thead th {\n",
              "        text-align: right;\n",
              "    }\n",
              "</style>\n",
              "<table border=\"1\" class=\"dataframe\">\n",
              "  <thead>\n",
              "    <tr style=\"text-align: right;\">\n",
              "      <th></th>\n",
              "      <th>first_name</th>\n",
              "      <th>county</th>\n",
              "      <th>postal</th>\n",
              "    </tr>\n",
              "  </thead>\n",
              "  <tbody>\n",
              "    <tr>\n",
              "      <th>0</th>\n",
              "      <td>Aleshia</td>\n",
              "      <td>Kent</td>\n",
              "      <td>CT2 7PP</td>\n",
              "    </tr>\n",
              "    <tr>\n",
              "      <th>3</th>\n",
              "      <td>Ulysses</td>\n",
              "      <td>Lincolnshire</td>\n",
              "      <td>DN36 5RP</td>\n",
              "    </tr>\n",
              "    <tr>\n",
              "      <th>5</th>\n",
              "      <td>Eric</td>\n",
              "      <td>Northamptonshire</td>\n",
              "      <td>NN14 2GH</td>\n",
              "    </tr>\n",
              "    <tr>\n",
              "      <th>7</th>\n",
              "      <td>Laquita</td>\n",
              "      <td>Tyne &amp; Wear</td>\n",
              "      <td>NE29 7AD</td>\n",
              "    </tr>\n",
              "  </tbody>\n",
              "</table>\n",
              "</div>"
            ],
            "text/plain": [
              "  first_name            county    postal\n",
              "0    Aleshia              Kent   CT2 7PP\n",
              "3    Ulysses      Lincolnshire  DN36 5RP\n",
              "5       Eric  Northamptonshire  NN14 2GH\n",
              "7    Laquita       Tyne & Wear  NE29 7AD"
            ]
          },
          "metadata": {
            "tags": []
          },
          "execution_count": 11
        }
      ]
    },
    {
      "cell_type": "code",
      "metadata": {
        "id": "00xr-xoKB69P"
      },
      "source": [
        "data.set_index(\"last_name\",inplace=True)"
      ],
      "execution_count": null,
      "outputs": []
    },
    {
      "cell_type": "code",
      "metadata": {
        "colab": {
          "base_uri": "https://localhost:8080/",
          "height": 258
        },
        "id": "TqQDQNxTCeZZ",
        "outputId": "f7eac35e-81c6-400a-93eb-07e03d978c9e"
      },
      "source": [
        "data.head(3)"
      ],
      "execution_count": null,
      "outputs": [
        {
          "output_type": "execute_result",
          "data": {
            "text/html": [
              "<div>\n",
              "<style scoped>\n",
              "    .dataframe tbody tr th:only-of-type {\n",
              "        vertical-align: middle;\n",
              "    }\n",
              "\n",
              "    .dataframe tbody tr th {\n",
              "        vertical-align: top;\n",
              "    }\n",
              "\n",
              "    .dataframe thead th {\n",
              "        text-align: right;\n",
              "    }\n",
              "</style>\n",
              "<table border=\"1\" class=\"dataframe\">\n",
              "  <thead>\n",
              "    <tr style=\"text-align: right;\">\n",
              "      <th></th>\n",
              "      <th>first_name</th>\n",
              "      <th>company_name</th>\n",
              "      <th>address</th>\n",
              "      <th>city</th>\n",
              "      <th>county</th>\n",
              "      <th>postal</th>\n",
              "      <th>phone1</th>\n",
              "      <th>phone2</th>\n",
              "      <th>email</th>\n",
              "      <th>web</th>\n",
              "    </tr>\n",
              "    <tr>\n",
              "      <th>last_name</th>\n",
              "      <th></th>\n",
              "      <th></th>\n",
              "      <th></th>\n",
              "      <th></th>\n",
              "      <th></th>\n",
              "      <th></th>\n",
              "      <th></th>\n",
              "      <th></th>\n",
              "      <th></th>\n",
              "      <th></th>\n",
              "    </tr>\n",
              "  </thead>\n",
              "  <tbody>\n",
              "    <tr>\n",
              "      <th>Tomkiewicz</th>\n",
              "      <td>Aleshia</td>\n",
              "      <td>Alan D Rosenburg Cpa Pc</td>\n",
              "      <td>14 Taylor St</td>\n",
              "      <td>St. Stephens Ward</td>\n",
              "      <td>Kent</td>\n",
              "      <td>CT2 7PP</td>\n",
              "      <td>01835-703597</td>\n",
              "      <td>01944-369967</td>\n",
              "      <td>atomkiewicz@hotmail.com</td>\n",
              "      <td>http://www.alandrosenburgcpapc.co.uk</td>\n",
              "    </tr>\n",
              "    <tr>\n",
              "      <th>Zigomalas</th>\n",
              "      <td>Evan</td>\n",
              "      <td>Cap Gemini America</td>\n",
              "      <td>5 Binney St</td>\n",
              "      <td>Abbey Ward</td>\n",
              "      <td>Buckinghamshire</td>\n",
              "      <td>HP11 2AX</td>\n",
              "      <td>01937-864715</td>\n",
              "      <td>01714-737668</td>\n",
              "      <td>evan.zigomalas@gmail.com</td>\n",
              "      <td>http://www.capgeminiamerica.co.uk</td>\n",
              "    </tr>\n",
              "    <tr>\n",
              "      <th>Andrade</th>\n",
              "      <td>France</td>\n",
              "      <td>Elliott, John W Esq</td>\n",
              "      <td>8 Moor Place</td>\n",
              "      <td>East Southbourne and Tuckton W</td>\n",
              "      <td>Bournemouth</td>\n",
              "      <td>BH6 3BE</td>\n",
              "      <td>01347-368222</td>\n",
              "      <td>01935-821636</td>\n",
              "      <td>france.andrade@hotmail.com</td>\n",
              "      <td>http://www.elliottjohnwesq.co.uk</td>\n",
              "    </tr>\n",
              "  </tbody>\n",
              "</table>\n",
              "</div>"
            ],
            "text/plain": [
              "           first_name  ...                                   web\n",
              "last_name              ...                                      \n",
              "Tomkiewicz    Aleshia  ...  http://www.alandrosenburgcpapc.co.uk\n",
              "Zigomalas        Evan  ...     http://www.capgeminiamerica.co.uk\n",
              "Andrade        France  ...      http://www.elliottjohnwesq.co.uk\n",
              "\n",
              "[3 rows x 10 columns]"
            ]
          },
          "metadata": {
            "tags": []
          },
          "execution_count": 13
        }
      ]
    },
    {
      "cell_type": "code",
      "metadata": {
        "colab": {
          "base_uri": "https://localhost:8080/",
          "height": 258
        },
        "id": "uKvQyJzWChEO",
        "outputId": "37bb1a54-2aa5-4597-bc12-3a1fda57a00c"
      },
      "source": [
        "data.loc['Tomkiewicz':'Andrade']"
      ],
      "execution_count": null,
      "outputs": [
        {
          "output_type": "execute_result",
          "data": {
            "text/html": [
              "<div>\n",
              "<style scoped>\n",
              "    .dataframe tbody tr th:only-of-type {\n",
              "        vertical-align: middle;\n",
              "    }\n",
              "\n",
              "    .dataframe tbody tr th {\n",
              "        vertical-align: top;\n",
              "    }\n",
              "\n",
              "    .dataframe thead th {\n",
              "        text-align: right;\n",
              "    }\n",
              "</style>\n",
              "<table border=\"1\" class=\"dataframe\">\n",
              "  <thead>\n",
              "    <tr style=\"text-align: right;\">\n",
              "      <th></th>\n",
              "      <th>first_name</th>\n",
              "      <th>company_name</th>\n",
              "      <th>address</th>\n",
              "      <th>city</th>\n",
              "      <th>county</th>\n",
              "      <th>postal</th>\n",
              "      <th>phone1</th>\n",
              "      <th>phone2</th>\n",
              "      <th>email</th>\n",
              "      <th>web</th>\n",
              "    </tr>\n",
              "    <tr>\n",
              "      <th>last_name</th>\n",
              "      <th></th>\n",
              "      <th></th>\n",
              "      <th></th>\n",
              "      <th></th>\n",
              "      <th></th>\n",
              "      <th></th>\n",
              "      <th></th>\n",
              "      <th></th>\n",
              "      <th></th>\n",
              "      <th></th>\n",
              "    </tr>\n",
              "  </thead>\n",
              "  <tbody>\n",
              "    <tr>\n",
              "      <th>Tomkiewicz</th>\n",
              "      <td>Aleshia</td>\n",
              "      <td>Alan D Rosenburg Cpa Pc</td>\n",
              "      <td>14 Taylor St</td>\n",
              "      <td>St. Stephens Ward</td>\n",
              "      <td>Kent</td>\n",
              "      <td>CT2 7PP</td>\n",
              "      <td>01835-703597</td>\n",
              "      <td>01944-369967</td>\n",
              "      <td>atomkiewicz@hotmail.com</td>\n",
              "      <td>http://www.alandrosenburgcpapc.co.uk</td>\n",
              "    </tr>\n",
              "    <tr>\n",
              "      <th>Zigomalas</th>\n",
              "      <td>Evan</td>\n",
              "      <td>Cap Gemini America</td>\n",
              "      <td>5 Binney St</td>\n",
              "      <td>Abbey Ward</td>\n",
              "      <td>Buckinghamshire</td>\n",
              "      <td>HP11 2AX</td>\n",
              "      <td>01937-864715</td>\n",
              "      <td>01714-737668</td>\n",
              "      <td>evan.zigomalas@gmail.com</td>\n",
              "      <td>http://www.capgeminiamerica.co.uk</td>\n",
              "    </tr>\n",
              "    <tr>\n",
              "      <th>Andrade</th>\n",
              "      <td>France</td>\n",
              "      <td>Elliott, John W Esq</td>\n",
              "      <td>8 Moor Place</td>\n",
              "      <td>East Southbourne and Tuckton W</td>\n",
              "      <td>Bournemouth</td>\n",
              "      <td>BH6 3BE</td>\n",
              "      <td>01347-368222</td>\n",
              "      <td>01935-821636</td>\n",
              "      <td>france.andrade@hotmail.com</td>\n",
              "      <td>http://www.elliottjohnwesq.co.uk</td>\n",
              "    </tr>\n",
              "  </tbody>\n",
              "</table>\n",
              "</div>"
            ],
            "text/plain": [
              "           first_name  ...                                   web\n",
              "last_name              ...                                      \n",
              "Tomkiewicz    Aleshia  ...  http://www.alandrosenburgcpapc.co.uk\n",
              "Zigomalas        Evan  ...     http://www.capgeminiamerica.co.uk\n",
              "Andrade        France  ...      http://www.elliottjohnwesq.co.uk\n",
              "\n",
              "[3 rows x 10 columns]"
            ]
          },
          "metadata": {
            "tags": []
          },
          "execution_count": 14
        }
      ]
    },
    {
      "cell_type": "code",
      "metadata": {
        "colab": {
          "base_uri": "https://localhost:8080/",
          "height": 173
        },
        "id": "FYJzzgGMCtsk",
        "outputId": "2d8cc375-f8f3-471d-cbc3-1585ac8dc675"
      },
      "source": [
        "data.loc['Tomkiewicz':'Andrade','address':'phone1']"
      ],
      "execution_count": null,
      "outputs": [
        {
          "output_type": "execute_result",
          "data": {
            "text/html": [
              "<div>\n",
              "<style scoped>\n",
              "    .dataframe tbody tr th:only-of-type {\n",
              "        vertical-align: middle;\n",
              "    }\n",
              "\n",
              "    .dataframe tbody tr th {\n",
              "        vertical-align: top;\n",
              "    }\n",
              "\n",
              "    .dataframe thead th {\n",
              "        text-align: right;\n",
              "    }\n",
              "</style>\n",
              "<table border=\"1\" class=\"dataframe\">\n",
              "  <thead>\n",
              "    <tr style=\"text-align: right;\">\n",
              "      <th></th>\n",
              "      <th>address</th>\n",
              "      <th>city</th>\n",
              "      <th>county</th>\n",
              "      <th>postal</th>\n",
              "      <th>phone1</th>\n",
              "    </tr>\n",
              "    <tr>\n",
              "      <th>last_name</th>\n",
              "      <th></th>\n",
              "      <th></th>\n",
              "      <th></th>\n",
              "      <th></th>\n",
              "      <th></th>\n",
              "    </tr>\n",
              "  </thead>\n",
              "  <tbody>\n",
              "    <tr>\n",
              "      <th>Tomkiewicz</th>\n",
              "      <td>14 Taylor St</td>\n",
              "      <td>St. Stephens Ward</td>\n",
              "      <td>Kent</td>\n",
              "      <td>CT2 7PP</td>\n",
              "      <td>01835-703597</td>\n",
              "    </tr>\n",
              "    <tr>\n",
              "      <th>Zigomalas</th>\n",
              "      <td>5 Binney St</td>\n",
              "      <td>Abbey Ward</td>\n",
              "      <td>Buckinghamshire</td>\n",
              "      <td>HP11 2AX</td>\n",
              "      <td>01937-864715</td>\n",
              "    </tr>\n",
              "    <tr>\n",
              "      <th>Andrade</th>\n",
              "      <td>8 Moor Place</td>\n",
              "      <td>East Southbourne and Tuckton W</td>\n",
              "      <td>Bournemouth</td>\n",
              "      <td>BH6 3BE</td>\n",
              "      <td>01347-368222</td>\n",
              "    </tr>\n",
              "  </tbody>\n",
              "</table>\n",
              "</div>"
            ],
            "text/plain": [
              "                 address  ...        phone1\n",
              "last_name                 ...              \n",
              "Tomkiewicz  14 Taylor St  ...  01835-703597\n",
              "Zigomalas    5 Binney St  ...  01937-864715\n",
              "Andrade     8 Moor Place  ...  01347-368222\n",
              "\n",
              "[3 rows x 5 columns]"
            ]
          },
          "metadata": {
            "tags": []
          },
          "execution_count": 20
        }
      ]
    },
    {
      "cell_type": "code",
      "metadata": {
        "colab": {
          "base_uri": "https://localhost:8080/",
          "height": 388
        },
        "id": "te9sBt_rC4sJ",
        "outputId": "789aa7b9-6759-4c87-cf1a-113d3d1f5845"
      },
      "source": [
        "data.iloc[0:5]"
      ],
      "execution_count": null,
      "outputs": [
        {
          "output_type": "execute_result",
          "data": {
            "text/html": [
              "<div>\n",
              "<style scoped>\n",
              "    .dataframe tbody tr th:only-of-type {\n",
              "        vertical-align: middle;\n",
              "    }\n",
              "\n",
              "    .dataframe tbody tr th {\n",
              "        vertical-align: top;\n",
              "    }\n",
              "\n",
              "    .dataframe thead th {\n",
              "        text-align: right;\n",
              "    }\n",
              "</style>\n",
              "<table border=\"1\" class=\"dataframe\">\n",
              "  <thead>\n",
              "    <tr style=\"text-align: right;\">\n",
              "      <th></th>\n",
              "      <th>first_name</th>\n",
              "      <th>company_name</th>\n",
              "      <th>address</th>\n",
              "      <th>city</th>\n",
              "      <th>county</th>\n",
              "      <th>postal</th>\n",
              "      <th>phone1</th>\n",
              "      <th>phone2</th>\n",
              "      <th>email</th>\n",
              "      <th>web</th>\n",
              "    </tr>\n",
              "    <tr>\n",
              "      <th>last_name</th>\n",
              "      <th></th>\n",
              "      <th></th>\n",
              "      <th></th>\n",
              "      <th></th>\n",
              "      <th></th>\n",
              "      <th></th>\n",
              "      <th></th>\n",
              "      <th></th>\n",
              "      <th></th>\n",
              "      <th></th>\n",
              "    </tr>\n",
              "  </thead>\n",
              "  <tbody>\n",
              "    <tr>\n",
              "      <th>Tomkiewicz</th>\n",
              "      <td>Aleshia</td>\n",
              "      <td>Alan D Rosenburg Cpa Pc</td>\n",
              "      <td>14 Taylor St</td>\n",
              "      <td>St. Stephens Ward</td>\n",
              "      <td>Kent</td>\n",
              "      <td>CT2 7PP</td>\n",
              "      <td>01835-703597</td>\n",
              "      <td>01944-369967</td>\n",
              "      <td>atomkiewicz@hotmail.com</td>\n",
              "      <td>http://www.alandrosenburgcpapc.co.uk</td>\n",
              "    </tr>\n",
              "    <tr>\n",
              "      <th>Zigomalas</th>\n",
              "      <td>Evan</td>\n",
              "      <td>Cap Gemini America</td>\n",
              "      <td>5 Binney St</td>\n",
              "      <td>Abbey Ward</td>\n",
              "      <td>Buckinghamshire</td>\n",
              "      <td>HP11 2AX</td>\n",
              "      <td>01937-864715</td>\n",
              "      <td>01714-737668</td>\n",
              "      <td>evan.zigomalas@gmail.com</td>\n",
              "      <td>http://www.capgeminiamerica.co.uk</td>\n",
              "    </tr>\n",
              "    <tr>\n",
              "      <th>Andrade</th>\n",
              "      <td>France</td>\n",
              "      <td>Elliott, John W Esq</td>\n",
              "      <td>8 Moor Place</td>\n",
              "      <td>East Southbourne and Tuckton W</td>\n",
              "      <td>Bournemouth</td>\n",
              "      <td>BH6 3BE</td>\n",
              "      <td>01347-368222</td>\n",
              "      <td>01935-821636</td>\n",
              "      <td>france.andrade@hotmail.com</td>\n",
              "      <td>http://www.elliottjohnwesq.co.uk</td>\n",
              "    </tr>\n",
              "    <tr>\n",
              "      <th>Mcwalters</th>\n",
              "      <td>Ulysses</td>\n",
              "      <td>Mcmahan, Ben L</td>\n",
              "      <td>505 Exeter Rd</td>\n",
              "      <td>Hawerby cum Beesby</td>\n",
              "      <td>Lincolnshire</td>\n",
              "      <td>DN36 5RP</td>\n",
              "      <td>01912-771311</td>\n",
              "      <td>01302-601380</td>\n",
              "      <td>ulysses@hotmail.com</td>\n",
              "      <td>http://www.mcmahanbenl.co.uk</td>\n",
              "    </tr>\n",
              "    <tr>\n",
              "      <th>Veness</th>\n",
              "      <td>Tyisha</td>\n",
              "      <td>Champagne Room</td>\n",
              "      <td>5396 Forth Street</td>\n",
              "      <td>Greets Green and Lyng Ward</td>\n",
              "      <td>West Midlands</td>\n",
              "      <td>B70 9DT</td>\n",
              "      <td>01547-429341</td>\n",
              "      <td>01290-367248</td>\n",
              "      <td>tyisha.veness@hotmail.com</td>\n",
              "      <td>http://www.champagneroom.co.uk</td>\n",
              "    </tr>\n",
              "  </tbody>\n",
              "</table>\n",
              "</div>"
            ],
            "text/plain": [
              "           first_name  ...                                   web\n",
              "last_name              ...                                      \n",
              "Tomkiewicz    Aleshia  ...  http://www.alandrosenburgcpapc.co.uk\n",
              "Zigomalas        Evan  ...     http://www.capgeminiamerica.co.uk\n",
              "Andrade        France  ...      http://www.elliottjohnwesq.co.uk\n",
              "Mcwalters     Ulysses  ...          http://www.mcmahanbenl.co.uk\n",
              "Veness         Tyisha  ...        http://www.champagneroom.co.uk\n",
              "\n",
              "[5 rows x 10 columns]"
            ]
          },
          "metadata": {
            "tags": []
          },
          "execution_count": 21
        }
      ]
    },
    {
      "cell_type": "code",
      "metadata": {
        "colab": {
          "base_uri": "https://localhost:8080/",
          "height": 241
        },
        "id": "mWYs8ayaDhfl",
        "outputId": "1b61051a-d7f1-4c56-e5d1-0aef05b6b8a2"
      },
      "source": [
        "data.loc[data['first_name']=='Antonio']"
      ],
      "execution_count": null,
      "outputs": [
        {
          "output_type": "execute_result",
          "data": {
            "text/html": [
              "<div>\n",
              "<style scoped>\n",
              "    .dataframe tbody tr th:only-of-type {\n",
              "        vertical-align: middle;\n",
              "    }\n",
              "\n",
              "    .dataframe tbody tr th {\n",
              "        vertical-align: top;\n",
              "    }\n",
              "\n",
              "    .dataframe thead th {\n",
              "        text-align: right;\n",
              "    }\n",
              "</style>\n",
              "<table border=\"1\" class=\"dataframe\">\n",
              "  <thead>\n",
              "    <tr style=\"text-align: right;\">\n",
              "      <th></th>\n",
              "      <th>first_name</th>\n",
              "      <th>company_name</th>\n",
              "      <th>address</th>\n",
              "      <th>city</th>\n",
              "      <th>county</th>\n",
              "      <th>postal</th>\n",
              "      <th>phone1</th>\n",
              "      <th>phone2</th>\n",
              "      <th>email</th>\n",
              "      <th>web</th>\n",
              "    </tr>\n",
              "    <tr>\n",
              "      <th>last_name</th>\n",
              "      <th></th>\n",
              "      <th></th>\n",
              "      <th></th>\n",
              "      <th></th>\n",
              "      <th></th>\n",
              "      <th></th>\n",
              "      <th></th>\n",
              "      <th></th>\n",
              "      <th></th>\n",
              "      <th></th>\n",
              "    </tr>\n",
              "  </thead>\n",
              "  <tbody>\n",
              "    <tr>\n",
              "      <th>Villamarin</th>\n",
              "      <td>Antonio</td>\n",
              "      <td>Combs Sheetmetal</td>\n",
              "      <td>353 Standish St #8264</td>\n",
              "      <td>Little Parndon and Hare Street</td>\n",
              "      <td>Hertfordshire</td>\n",
              "      <td>CM20 2HT</td>\n",
              "      <td>01559-403415</td>\n",
              "      <td>01388-777812</td>\n",
              "      <td>antonio.villamarin@gmail.com</td>\n",
              "      <td>http://www.combssheetmetal.co.uk</td>\n",
              "    </tr>\n",
              "    <tr>\n",
              "      <th>Glasford</th>\n",
              "      <td>Antonio</td>\n",
              "      <td>Saint Thomas Creations</td>\n",
              "      <td>425 Howley St</td>\n",
              "      <td>Gaer Community</td>\n",
              "      <td>Newport</td>\n",
              "      <td>NP20 3DE</td>\n",
              "      <td>01463-409090</td>\n",
              "      <td>01242-318420</td>\n",
              "      <td>antonio_glasford@glasford.co.uk</td>\n",
              "      <td>http://www.saintthomascreations.co.uk</td>\n",
              "    </tr>\n",
              "    <tr>\n",
              "      <th>Heilig</th>\n",
              "      <td>Antonio</td>\n",
              "      <td>Radisson Suite Hotel</td>\n",
              "      <td>35 Elton St #3</td>\n",
              "      <td>Ipplepen</td>\n",
              "      <td>Devon</td>\n",
              "      <td>TQ12 5LL</td>\n",
              "      <td>01324-171614</td>\n",
              "      <td>01442-946357</td>\n",
              "      <td>antonio.heilig@gmail.com</td>\n",
              "      <td>http://www.radissonsuitehotel.co.uk</td>\n",
              "    </tr>\n",
              "  </tbody>\n",
              "</table>\n",
              "</div>"
            ],
            "text/plain": [
              "           first_name  ...                                    web\n",
              "last_name              ...                                       \n",
              "Villamarin    Antonio  ...       http://www.combssheetmetal.co.uk\n",
              "Glasford      Antonio  ...  http://www.saintthomascreations.co.uk\n",
              "Heilig        Antonio  ...    http://www.radissonsuitehotel.co.uk\n",
              "\n",
              "[3 rows x 10 columns]"
            ]
          },
          "metadata": {
            "tags": []
          },
          "execution_count": 22
        }
      ]
    },
    {
      "cell_type": "code",
      "metadata": {
        "colab": {
          "base_uri": "https://localhost:8080/"
        },
        "id": "GzEGC0J1D9RO",
        "outputId": "dc3c7417-e78a-4526-9a26-f58387932bc7"
      },
      "source": [
        "data['first_name']=='Antonio'"
      ],
      "execution_count": null,
      "outputs": [
        {
          "output_type": "execute_result",
          "data": {
            "text/plain": [
              "last_name\n",
              "Tomkiewicz    False\n",
              "Zigomalas     False\n",
              "Andrade       False\n",
              "Mcwalters     False\n",
              "Veness        False\n",
              "              ...  \n",
              "Veit          False\n",
              "Euresti       False\n",
              "Brenning      False\n",
              "Keeny         False\n",
              "Richan        False\n",
              "Name: first_name, Length: 500, dtype: bool"
            ]
          },
          "metadata": {
            "tags": []
          },
          "execution_count": 23
        }
      ]
    },
    {
      "cell_type": "code",
      "metadata": {
        "colab": {
          "base_uri": "https://localhost:8080/",
          "height": 173
        },
        "id": "UNIAC-MLEGhH",
        "outputId": "69aa54b0-6ab1-4972-cddc-7a60d42cd464"
      },
      "source": [
        "data.loc[data['first_name']=='Antonio',['city','email']]"
      ],
      "execution_count": null,
      "outputs": [
        {
          "output_type": "execute_result",
          "data": {
            "text/html": [
              "<div>\n",
              "<style scoped>\n",
              "    .dataframe tbody tr th:only-of-type {\n",
              "        vertical-align: middle;\n",
              "    }\n",
              "\n",
              "    .dataframe tbody tr th {\n",
              "        vertical-align: top;\n",
              "    }\n",
              "\n",
              "    .dataframe thead th {\n",
              "        text-align: right;\n",
              "    }\n",
              "</style>\n",
              "<table border=\"1\" class=\"dataframe\">\n",
              "  <thead>\n",
              "    <tr style=\"text-align: right;\">\n",
              "      <th></th>\n",
              "      <th>city</th>\n",
              "      <th>email</th>\n",
              "    </tr>\n",
              "    <tr>\n",
              "      <th>last_name</th>\n",
              "      <th></th>\n",
              "      <th></th>\n",
              "    </tr>\n",
              "  </thead>\n",
              "  <tbody>\n",
              "    <tr>\n",
              "      <th>Villamarin</th>\n",
              "      <td>Little Parndon and Hare Street</td>\n",
              "      <td>antonio.villamarin@gmail.com</td>\n",
              "    </tr>\n",
              "    <tr>\n",
              "      <th>Glasford</th>\n",
              "      <td>Gaer Community</td>\n",
              "      <td>antonio_glasford@glasford.co.uk</td>\n",
              "    </tr>\n",
              "    <tr>\n",
              "      <th>Heilig</th>\n",
              "      <td>Ipplepen</td>\n",
              "      <td>antonio.heilig@gmail.com</td>\n",
              "    </tr>\n",
              "  </tbody>\n",
              "</table>\n",
              "</div>"
            ],
            "text/plain": [
              "                                      city                            email\n",
              "last_name                                                                  \n",
              "Villamarin  Little Parndon and Hare Street     antonio.villamarin@gmail.com\n",
              "Glasford                    Gaer Community  antonio_glasford@glasford.co.uk\n",
              "Heilig                            Ipplepen         antonio.heilig@gmail.com"
            ]
          },
          "metadata": {
            "tags": []
          },
          "execution_count": 24
        }
      ]
    },
    {
      "cell_type": "code",
      "metadata": {
        "colab": {
          "base_uri": "https://localhost:8080/"
        },
        "id": "hV4wHSKLElSc",
        "outputId": "b5070dd3-66cf-49ed-85de-5279dff3525b"
      },
      "source": [
        "data.dtypes"
      ],
      "execution_count": null,
      "outputs": [
        {
          "output_type": "execute_result",
          "data": {
            "text/plain": [
              "first_name      object\n",
              "company_name    object\n",
              "address         object\n",
              "city            object\n",
              "county          object\n",
              "postal          object\n",
              "phone1          object\n",
              "phone2          object\n",
              "email           object\n",
              "web             object\n",
              "dtype: object"
            ]
          },
          "metadata": {
            "tags": []
          },
          "execution_count": 25
        }
      ]
    },
    {
      "cell_type": "code",
      "metadata": {
        "colab": {
          "base_uri": "https://localhost:8080/",
          "height": 128
        },
        "id": "ubWdtyMsE5F2",
        "outputId": "7d3b7994-b099-4dc2-97e9-95828ec28425"
      },
      "source": [
        "data.loc[(data['county']=='Kent') & (data['first_name']=='Aleshia')]"
      ],
      "execution_count": null,
      "outputs": [
        {
          "output_type": "execute_result",
          "data": {
            "text/html": [
              "<div>\n",
              "<style scoped>\n",
              "    .dataframe tbody tr th:only-of-type {\n",
              "        vertical-align: middle;\n",
              "    }\n",
              "\n",
              "    .dataframe tbody tr th {\n",
              "        vertical-align: top;\n",
              "    }\n",
              "\n",
              "    .dataframe thead th {\n",
              "        text-align: right;\n",
              "    }\n",
              "</style>\n",
              "<table border=\"1\" class=\"dataframe\">\n",
              "  <thead>\n",
              "    <tr style=\"text-align: right;\">\n",
              "      <th></th>\n",
              "      <th>first_name</th>\n",
              "      <th>company_name</th>\n",
              "      <th>address</th>\n",
              "      <th>city</th>\n",
              "      <th>county</th>\n",
              "      <th>postal</th>\n",
              "      <th>phone1</th>\n",
              "      <th>phone2</th>\n",
              "      <th>email</th>\n",
              "      <th>web</th>\n",
              "    </tr>\n",
              "    <tr>\n",
              "      <th>last_name</th>\n",
              "      <th></th>\n",
              "      <th></th>\n",
              "      <th></th>\n",
              "      <th></th>\n",
              "      <th></th>\n",
              "      <th></th>\n",
              "      <th></th>\n",
              "      <th></th>\n",
              "      <th></th>\n",
              "      <th></th>\n",
              "    </tr>\n",
              "  </thead>\n",
              "  <tbody>\n",
              "    <tr>\n",
              "      <th>Tomkiewicz</th>\n",
              "      <td>Aleshia</td>\n",
              "      <td>Alan D Rosenburg Cpa Pc</td>\n",
              "      <td>14 Taylor St</td>\n",
              "      <td>St. Stephens Ward</td>\n",
              "      <td>Kent</td>\n",
              "      <td>CT2 7PP</td>\n",
              "      <td>01835-703597</td>\n",
              "      <td>01944-369967</td>\n",
              "      <td>atomkiewicz@hotmail.com</td>\n",
              "      <td>http://www.alandrosenburgcpapc.co.uk</td>\n",
              "    </tr>\n",
              "  </tbody>\n",
              "</table>\n",
              "</div>"
            ],
            "text/plain": [
              "           first_name  ...                                   web\n",
              "last_name              ...                                      \n",
              "Tomkiewicz    Aleshia  ...  http://www.alandrosenburgcpapc.co.uk\n",
              "\n",
              "[1 rows x 10 columns]"
            ]
          },
          "metadata": {
            "tags": []
          },
          "execution_count": 27
        }
      ]
    },
    {
      "cell_type": "code",
      "metadata": {
        "colab": {
          "base_uri": "https://localhost:8080/",
          "height": 1000
        },
        "id": "WpXedHcaF3D5",
        "outputId": "7463590b-1753-4e7d-aae4-c31bac29485a"
      },
      "source": [
        "data.loc[(data['county']=='Kent') | (data['first_name']=='Aleshia')]"
      ],
      "execution_count": null,
      "outputs": [
        {
          "output_type": "execute_result",
          "data": {
            "text/html": [
              "<div>\n",
              "<style scoped>\n",
              "    .dataframe tbody tr th:only-of-type {\n",
              "        vertical-align: middle;\n",
              "    }\n",
              "\n",
              "    .dataframe tbody tr th {\n",
              "        vertical-align: top;\n",
              "    }\n",
              "\n",
              "    .dataframe thead th {\n",
              "        text-align: right;\n",
              "    }\n",
              "</style>\n",
              "<table border=\"1\" class=\"dataframe\">\n",
              "  <thead>\n",
              "    <tr style=\"text-align: right;\">\n",
              "      <th></th>\n",
              "      <th>first_name</th>\n",
              "      <th>company_name</th>\n",
              "      <th>address</th>\n",
              "      <th>city</th>\n",
              "      <th>county</th>\n",
              "      <th>postal</th>\n",
              "      <th>phone1</th>\n",
              "      <th>phone2</th>\n",
              "      <th>email</th>\n",
              "      <th>web</th>\n",
              "    </tr>\n",
              "    <tr>\n",
              "      <th>last_name</th>\n",
              "      <th></th>\n",
              "      <th></th>\n",
              "      <th></th>\n",
              "      <th></th>\n",
              "      <th></th>\n",
              "      <th></th>\n",
              "      <th></th>\n",
              "      <th></th>\n",
              "      <th></th>\n",
              "      <th></th>\n",
              "    </tr>\n",
              "  </thead>\n",
              "  <tbody>\n",
              "    <tr>\n",
              "      <th>Tomkiewicz</th>\n",
              "      <td>Aleshia</td>\n",
              "      <td>Alan D Rosenburg Cpa Pc</td>\n",
              "      <td>14 Taylor St</td>\n",
              "      <td>St. Stephens Ward</td>\n",
              "      <td>Kent</td>\n",
              "      <td>CT2 7PP</td>\n",
              "      <td>01835-703597</td>\n",
              "      <td>01944-369967</td>\n",
              "      <td>atomkiewicz@hotmail.com</td>\n",
              "      <td>http://www.alandrosenburgcpapc.co.uk</td>\n",
              "    </tr>\n",
              "    <tr>\n",
              "      <th>Writer</th>\n",
              "      <td>Fernanda</td>\n",
              "      <td>K &amp; R Associates Inc</td>\n",
              "      <td>620 Northampton St</td>\n",
              "      <td>Wilmington</td>\n",
              "      <td>Kent</td>\n",
              "      <td>DA2 7PP</td>\n",
              "      <td>01630-202053</td>\n",
              "      <td>01687-879391</td>\n",
              "      <td>fernanda@writer.co.uk</td>\n",
              "      <td>http://www.krassociatesinc.co.uk</td>\n",
              "    </tr>\n",
              "    <tr>\n",
              "      <th>Thurm</th>\n",
              "      <td>Brittani</td>\n",
              "      <td>Burgess Steel Products Corp</td>\n",
              "      <td>9 Horatio St</td>\n",
              "      <td>Ruckinge</td>\n",
              "      <td>Kent</td>\n",
              "      <td>TN26 2PN</td>\n",
              "      <td>01686-306597</td>\n",
              "      <td>01970-890023</td>\n",
              "      <td>bthurm@yahoo.com</td>\n",
              "      <td>http://www.burgesssteelproductscorp.co.uk</td>\n",
              "    </tr>\n",
              "    <tr>\n",
              "      <th>Dease</th>\n",
              "      <td>Paola</td>\n",
              "      <td>Sunderland Publishing Co</td>\n",
              "      <td>94 Enid St</td>\n",
              "      <td>Birchington</td>\n",
              "      <td>Kent</td>\n",
              "      <td>CT7 9BG</td>\n",
              "      <td>01333-642646</td>\n",
              "      <td>01419-231768</td>\n",
              "      <td>pdease@gmail.com</td>\n",
              "      <td>http://www.sunderlandpublishingco.co.uk</td>\n",
              "    </tr>\n",
              "    <tr>\n",
              "      <th>Crete</th>\n",
              "      <td>Luke</td>\n",
              "      <td>M D &amp; W Railway</td>\n",
              "      <td>4 Peach St #5112</td>\n",
              "      <td>Halstead</td>\n",
              "      <td>Kent</td>\n",
              "      <td>TN14 7EF</td>\n",
              "      <td>01375-820236</td>\n",
              "      <td>01268-175772</td>\n",
              "      <td>luke.crete@crete.co.uk</td>\n",
              "      <td>http://www.mdwrailway.co.uk</td>\n",
              "    </tr>\n",
              "    <tr>\n",
              "      <th>Yurich</th>\n",
              "      <td>Cheryll</td>\n",
              "      <td>Blaineco Structural Movers</td>\n",
              "      <td>666 Moor Place</td>\n",
              "      <td>Shepway South Ward</td>\n",
              "      <td>Kent</td>\n",
              "      <td>ME15 8ST</td>\n",
              "      <td>01780-380120</td>\n",
              "      <td>01494-202350</td>\n",
              "      <td>cheryll_yurich@yurich.co.uk</td>\n",
              "      <td>http://www.blainecostructuralmovers.co.uk</td>\n",
              "    </tr>\n",
              "    <tr>\n",
              "      <th>Wendorf</th>\n",
              "      <td>Galen</td>\n",
              "      <td>Russell, Amelia Mosley Esq</td>\n",
              "      <td>8830 Antonio St</td>\n",
              "      <td>Gillingham North Ward</td>\n",
              "      <td>Kent</td>\n",
              "      <td>ME7 1DZ</td>\n",
              "      <td>01220-653456</td>\n",
              "      <td>01420-489285</td>\n",
              "      <td>galen.wendorf@wendorf.co.uk</td>\n",
              "      <td>http://www.russellameliamosleyesq.co.uk</td>\n",
              "    </tr>\n",
              "    <tr>\n",
              "      <th>Puskarich</th>\n",
              "      <td>Thad</td>\n",
              "      <td>Drubner, Norman S Esq</td>\n",
              "      <td>9302 Ismay St #6</td>\n",
              "      <td>Tenterden</td>\n",
              "      <td>Kent</td>\n",
              "      <td>TN30 6JP</td>\n",
              "      <td>01506-152661</td>\n",
              "      <td>01686-258819</td>\n",
              "      <td>thad_puskarich@puskarich.co.uk</td>\n",
              "      <td>http://www.drubnernormansesq.co.uk</td>\n",
              "    </tr>\n",
              "    <tr>\n",
              "      <th>Geschke</th>\n",
              "      <td>Gabriele</td>\n",
              "      <td>Levy Security Consultants Ltd</td>\n",
              "      <td>5 Garfield St #9</td>\n",
              "      <td>Milton Regis Ward</td>\n",
              "      <td>Kent</td>\n",
              "      <td>ME10 2EJ</td>\n",
              "      <td>01404-425588</td>\n",
              "      <td>01902-692529</td>\n",
              "      <td>gabriele@geschke.co.uk</td>\n",
              "      <td>http://www.levysecurityconsultantsltd.co.uk</td>\n",
              "    </tr>\n",
              "    <tr>\n",
              "      <th>Handsaker</th>\n",
              "      <td>Jordan</td>\n",
              "      <td>Shirleys Print Shoppe</td>\n",
              "      <td>2 Cherry Lane</td>\n",
              "      <td>Strood South Ward</td>\n",
              "      <td>Kent</td>\n",
              "      <td>ME2 2NJ</td>\n",
              "      <td>01793-443665</td>\n",
              "      <td>01964-984369</td>\n",
              "      <td>jordan_handsaker@gmail.com</td>\n",
              "      <td>http://www.shirleysprintshoppe.co.uk</td>\n",
              "    </tr>\n",
              "    <tr>\n",
              "      <th>Dubberly</th>\n",
              "      <td>Madalyn</td>\n",
              "      <td>L &amp; M Industrial Chemicals Inc</td>\n",
              "      <td>1 Lower Burlington St</td>\n",
              "      <td>Northfleet South Ward</td>\n",
              "      <td>Kent</td>\n",
              "      <td>DA11 8RN</td>\n",
              "      <td>01974-720949</td>\n",
              "      <td>01910-745476</td>\n",
              "      <td>madalyn.dubberly@gmail.com</td>\n",
              "      <td>http://www.lmindustrialchemicalsinc.co.uk</td>\n",
              "    </tr>\n",
              "    <tr>\n",
              "      <th>Shadd</th>\n",
              "      <td>Maia</td>\n",
              "      <td>Pigeon Falls State Bank</td>\n",
              "      <td>8 Bigham Rd</td>\n",
              "      <td>Deal</td>\n",
              "      <td>Kent</td>\n",
              "      <td>CT14 9QJ</td>\n",
              "      <td>01950-708083</td>\n",
              "      <td>01295-412046</td>\n",
              "      <td>maia_shadd@gmail.com</td>\n",
              "      <td>http://www.pigeonfallsstatebank.co.uk</td>\n",
              "    </tr>\n",
              "    <tr>\n",
              "      <th>Sheneman</th>\n",
              "      <td>Christoper</td>\n",
              "      <td>Jones, Brigham P Esq</td>\n",
              "      <td>845 Atherton St</td>\n",
              "      <td>Tatsfield</td>\n",
              "      <td>Kent</td>\n",
              "      <td>TN16 2AR</td>\n",
              "      <td>01455-958797</td>\n",
              "      <td>01732-922087</td>\n",
              "      <td>christoper@gmail.com</td>\n",
              "      <td>http://www.jonesbrighampesq.co.uk</td>\n",
              "    </tr>\n",
              "    <tr>\n",
              "      <th>Colamarino</th>\n",
              "      <td>Melda</td>\n",
              "      <td>Proctor &amp; Associates Co</td>\n",
              "      <td>150 Margaret Rd</td>\n",
              "      <td>Kings Hill</td>\n",
              "      <td>Kent</td>\n",
              "      <td>ME19 4DT</td>\n",
              "      <td>01879-572287</td>\n",
              "      <td>01708-292140</td>\n",
              "      <td>melda.colamarino@colamarino.co.uk</td>\n",
              "      <td>http://www.proctorassociatesco.co.uk</td>\n",
              "    </tr>\n",
              "    <tr>\n",
              "      <th>Mercik</th>\n",
              "      <td>Elden</td>\n",
              "      <td>Lee, Stan Dvm</td>\n",
              "      <td>7 St Edmonds Rd</td>\n",
              "      <td>Nonington</td>\n",
              "      <td>Kent</td>\n",
              "      <td>CT15 4HH</td>\n",
              "      <td>01539-784239</td>\n",
              "      <td>01550-347724</td>\n",
              "      <td>elden_mercik@mercik.co.uk</td>\n",
              "      <td>http://www.leestandvm.co.uk</td>\n",
              "    </tr>\n",
              "    <tr>\n",
              "      <th>Flori</th>\n",
              "      <td>Pearlie</td>\n",
              "      <td>Marine Safety International</td>\n",
              "      <td>4 Cochrane St</td>\n",
              "      <td>Iwade</td>\n",
              "      <td>Kent</td>\n",
              "      <td>ME9 8UJ</td>\n",
              "      <td>01235-935599</td>\n",
              "      <td>01583-844244</td>\n",
              "      <td>pearlie_flori@gmail.com</td>\n",
              "      <td>http://www.marinesafetyinternational.co.uk</td>\n",
              "    </tr>\n",
              "    <tr>\n",
              "      <th>Maricle</th>\n",
              "      <td>Dusti</td>\n",
              "      <td>Garton, Jeffrey P Esq</td>\n",
              "      <td>59 Charles St</td>\n",
              "      <td>Victoria Ward</td>\n",
              "      <td>Kent</td>\n",
              "      <td>TN23 4GF</td>\n",
              "      <td>01642-202972</td>\n",
              "      <td>01806-219415</td>\n",
              "      <td>dusti@gmail.com</td>\n",
              "      <td>http://www.gartonjeffreypesq.co.uk</td>\n",
              "    </tr>\n",
              "    <tr>\n",
              "      <th>Kernagis</th>\n",
              "      <td>Gerald</td>\n",
              "      <td>Digital Solutions Inc</td>\n",
              "      <td>8 Hinton St #8241</td>\n",
              "      <td>Stowting</td>\n",
              "      <td>Kent</td>\n",
              "      <td>TN25 6BQ</td>\n",
              "      <td>01504-620944</td>\n",
              "      <td>01685-678054</td>\n",
              "      <td>gerald_kernagis@kernagis.co.uk</td>\n",
              "      <td>http://www.digitalsolutionsinc.co.uk</td>\n",
              "    </tr>\n",
              "    <tr>\n",
              "      <th>Leadbeater</th>\n",
              "      <td>Stefania</td>\n",
              "      <td>Murray Whisnant Architects</td>\n",
              "      <td>10 Carisbrooke St</td>\n",
              "      <td>Shorne</td>\n",
              "      <td>Kent</td>\n",
              "      <td>DA12 3ED</td>\n",
              "      <td>01706-546951</td>\n",
              "      <td>01356-906646</td>\n",
              "      <td>stefania_leadbeater@hotmail.com</td>\n",
              "      <td>http://www.murraywhisnantarchitects.co.uk</td>\n",
              "    </tr>\n",
              "    <tr>\n",
              "      <th>Farrin</th>\n",
              "      <td>Paul</td>\n",
              "      <td>Dering, James E Esq</td>\n",
              "      <td>7 Varthen St</td>\n",
              "      <td>Town Ward</td>\n",
              "      <td>Kent</td>\n",
              "      <td>DA1 2DL</td>\n",
              "      <td>01407-775572</td>\n",
              "      <td>01879-963638</td>\n",
              "      <td>paul.farrin@farrin.co.uk</td>\n",
              "      <td>http://www.deringjameseesq.co.uk</td>\n",
              "    </tr>\n",
              "    <tr>\n",
              "      <th>Humeniuk</th>\n",
              "      <td>Viki</td>\n",
              "      <td>Guldstrand Engineering Inc</td>\n",
              "      <td>8822 Trafalgar St</td>\n",
              "      <td>Yalding</td>\n",
              "      <td>Kent</td>\n",
              "      <td>ME18 6JE</td>\n",
              "      <td>01721-747819</td>\n",
              "      <td>01381-985978</td>\n",
              "      <td>vhumeniuk@gmail.com</td>\n",
              "      <td>http://www.guldstrandengineeringinc.co.uk</td>\n",
              "    </tr>\n",
              "    <tr>\n",
              "      <th>Tischner</th>\n",
              "      <td>Altha</td>\n",
              "      <td>Male Power Ltd</td>\n",
              "      <td>650 Goring St</td>\n",
              "      <td>Rainham South Ward</td>\n",
              "      <td>Kent</td>\n",
              "      <td>ME8 9PN</td>\n",
              "      <td>01373-594236</td>\n",
              "      <td>01698-785700</td>\n",
              "      <td>altha@hotmail.com</td>\n",
              "      <td>http://www.malepowerltd.co.uk</td>\n",
              "    </tr>\n",
              "  </tbody>\n",
              "</table>\n",
              "</div>"
            ],
            "text/plain": [
              "            first_name  ...                                          web\n",
              "last_name               ...                                             \n",
              "Tomkiewicz     Aleshia  ...         http://www.alandrosenburgcpapc.co.uk\n",
              "Writer        Fernanda  ...             http://www.krassociatesinc.co.uk\n",
              "Thurm         Brittani  ...    http://www.burgesssteelproductscorp.co.uk\n",
              "Dease            Paola  ...      http://www.sunderlandpublishingco.co.uk\n",
              "Crete             Luke  ...                  http://www.mdwrailway.co.uk\n",
              "Yurich         Cheryll  ...    http://www.blainecostructuralmovers.co.uk\n",
              "Wendorf          Galen  ...      http://www.russellameliamosleyesq.co.uk\n",
              "Puskarich         Thad  ...           http://www.drubnernormansesq.co.uk\n",
              "Geschke       Gabriele  ...  http://www.levysecurityconsultantsltd.co.uk\n",
              "Handsaker       Jordan  ...         http://www.shirleysprintshoppe.co.uk\n",
              "Dubberly       Madalyn  ...    http://www.lmindustrialchemicalsinc.co.uk\n",
              "Shadd             Maia  ...        http://www.pigeonfallsstatebank.co.uk\n",
              "Sheneman    Christoper  ...            http://www.jonesbrighampesq.co.uk\n",
              "Colamarino       Melda  ...         http://www.proctorassociatesco.co.uk\n",
              "Mercik           Elden  ...                  http://www.leestandvm.co.uk\n",
              "Flori          Pearlie  ...   http://www.marinesafetyinternational.co.uk\n",
              "Maricle          Dusti  ...           http://www.gartonjeffreypesq.co.uk\n",
              "Kernagis        Gerald  ...         http://www.digitalsolutionsinc.co.uk\n",
              "Leadbeater    Stefania  ...    http://www.murraywhisnantarchitects.co.uk\n",
              "Farrin            Paul  ...             http://www.deringjameseesq.co.uk\n",
              "Humeniuk          Viki  ...    http://www.guldstrandengineeringinc.co.uk\n",
              "Tischner         Altha  ...                http://www.malepowerltd.co.uk\n",
              "\n",
              "[22 rows x 10 columns]"
            ]
          },
          "metadata": {
            "tags": []
          },
          "execution_count": 28
        }
      ]
    },
    {
      "cell_type": "code",
      "metadata": {
        "colab": {
          "base_uri": "https://localhost:8080/",
          "height": 759
        },
        "id": "yljstlHFGZTe",
        "outputId": "992d6241-597c-4f85-ebcb-a100da7a9f4c"
      },
      "source": [
        "data.loc[data['email'].str.endswith(\"hotmail.com\")]\n",
        "\n",
        "#startswith, contains,find"
      ],
      "execution_count": null,
      "outputs": [
        {
          "output_type": "execute_result",
          "data": {
            "text/html": [
              "<div>\n",
              "<style scoped>\n",
              "    .dataframe tbody tr th:only-of-type {\n",
              "        vertical-align: middle;\n",
              "    }\n",
              "\n",
              "    .dataframe tbody tr th {\n",
              "        vertical-align: top;\n",
              "    }\n",
              "\n",
              "    .dataframe thead th {\n",
              "        text-align: right;\n",
              "    }\n",
              "</style>\n",
              "<table border=\"1\" class=\"dataframe\">\n",
              "  <thead>\n",
              "    <tr style=\"text-align: right;\">\n",
              "      <th></th>\n",
              "      <th>first_name</th>\n",
              "      <th>company_name</th>\n",
              "      <th>address</th>\n",
              "      <th>city</th>\n",
              "      <th>county</th>\n",
              "      <th>postal</th>\n",
              "      <th>phone1</th>\n",
              "      <th>phone2</th>\n",
              "      <th>email</th>\n",
              "      <th>web</th>\n",
              "    </tr>\n",
              "    <tr>\n",
              "      <th>last_name</th>\n",
              "      <th></th>\n",
              "      <th></th>\n",
              "      <th></th>\n",
              "      <th></th>\n",
              "      <th></th>\n",
              "      <th></th>\n",
              "      <th></th>\n",
              "      <th></th>\n",
              "      <th></th>\n",
              "      <th></th>\n",
              "    </tr>\n",
              "  </thead>\n",
              "  <tbody>\n",
              "    <tr>\n",
              "      <th>Tomkiewicz</th>\n",
              "      <td>Aleshia</td>\n",
              "      <td>Alan D Rosenburg Cpa Pc</td>\n",
              "      <td>14 Taylor St</td>\n",
              "      <td>St. Stephens Ward</td>\n",
              "      <td>Kent</td>\n",
              "      <td>CT2 7PP</td>\n",
              "      <td>01835-703597</td>\n",
              "      <td>01944-369967</td>\n",
              "      <td>atomkiewicz@hotmail.com</td>\n",
              "      <td>http://www.alandrosenburgcpapc.co.uk</td>\n",
              "    </tr>\n",
              "    <tr>\n",
              "      <th>Andrade</th>\n",
              "      <td>France</td>\n",
              "      <td>Elliott, John W Esq</td>\n",
              "      <td>8 Moor Place</td>\n",
              "      <td>East Southbourne and Tuckton W</td>\n",
              "      <td>Bournemouth</td>\n",
              "      <td>BH6 3BE</td>\n",
              "      <td>01347-368222</td>\n",
              "      <td>01935-821636</td>\n",
              "      <td>france.andrade@hotmail.com</td>\n",
              "      <td>http://www.elliottjohnwesq.co.uk</td>\n",
              "    </tr>\n",
              "    <tr>\n",
              "      <th>Mcwalters</th>\n",
              "      <td>Ulysses</td>\n",
              "      <td>Mcmahan, Ben L</td>\n",
              "      <td>505 Exeter Rd</td>\n",
              "      <td>Hawerby cum Beesby</td>\n",
              "      <td>Lincolnshire</td>\n",
              "      <td>DN36 5RP</td>\n",
              "      <td>01912-771311</td>\n",
              "      <td>01302-601380</td>\n",
              "      <td>ulysses@hotmail.com</td>\n",
              "      <td>http://www.mcmahanbenl.co.uk</td>\n",
              "    </tr>\n",
              "    <tr>\n",
              "      <th>Veness</th>\n",
              "      <td>Tyisha</td>\n",
              "      <td>Champagne Room</td>\n",
              "      <td>5396 Forth Street</td>\n",
              "      <td>Greets Green and Lyng Ward</td>\n",
              "      <td>West Midlands</td>\n",
              "      <td>B70 9DT</td>\n",
              "      <td>01547-429341</td>\n",
              "      <td>01290-367248</td>\n",
              "      <td>tyisha.veness@hotmail.com</td>\n",
              "      <td>http://www.champagneroom.co.uk</td>\n",
              "    </tr>\n",
              "    <tr>\n",
              "      <th>Grasmick</th>\n",
              "      <td>Marg</td>\n",
              "      <td>Wrangle Hill Auto Auct &amp; Slvg</td>\n",
              "      <td>7457 Cowl St #70</td>\n",
              "      <td>Bargate Ward</td>\n",
              "      <td>Southampton</td>\n",
              "      <td>SO14 3TY</td>\n",
              "      <td>01865-582516</td>\n",
              "      <td>01362-620532</td>\n",
              "      <td>marg@hotmail.com</td>\n",
              "      <td>http://www.wranglehillautoauctslvg.co.uk</td>\n",
              "    </tr>\n",
              "    <tr>\n",
              "      <th>...</th>\n",
              "      <td>...</td>\n",
              "      <td>...</td>\n",
              "      <td>...</td>\n",
              "      <td>...</td>\n",
              "      <td>...</td>\n",
              "      <td>...</td>\n",
              "      <td>...</td>\n",
              "      <td>...</td>\n",
              "      <td>...</td>\n",
              "      <td>...</td>\n",
              "    </tr>\n",
              "    <tr>\n",
              "      <th>Gaucher</th>\n",
              "      <td>Sophia</td>\n",
              "      <td>T C E Systems Inc</td>\n",
              "      <td>88 Upper Harrington St</td>\n",
              "      <td>North East Ward</td>\n",
              "      <td>North Lanarkshire</td>\n",
              "      <td>G69 8EL</td>\n",
              "      <td>01504-539114</td>\n",
              "      <td>01254-919378</td>\n",
              "      <td>sophia.gaucher@hotmail.com</td>\n",
              "      <td>http://www.tcesystemsinc.co.uk</td>\n",
              "    </tr>\n",
              "    <tr>\n",
              "      <th>Ausdemore</th>\n",
              "      <td>Rosita</td>\n",
              "      <td>Jurdem, Scott Esq</td>\n",
              "      <td>8 Heathfield St #657</td>\n",
              "      <td>Hailsham</td>\n",
              "      <td>East Sussex</td>\n",
              "      <td>BN27 1AJ</td>\n",
              "      <td>01273-236188</td>\n",
              "      <td>01997-765432</td>\n",
              "      <td>rausdemore@hotmail.com</td>\n",
              "      <td>http://www.jurdemscottesq.co.uk</td>\n",
              "    </tr>\n",
              "    <tr>\n",
              "      <th>Stancil</th>\n",
              "      <td>Huey</td>\n",
              "      <td>Lindner Funds</td>\n",
              "      <td>275 Peel Sq</td>\n",
              "      <td>Park Ward</td>\n",
              "      <td>North Eart Lincolnshire</td>\n",
              "      <td>DN32 0PT</td>\n",
              "      <td>01502-139578</td>\n",
              "      <td>01468-195646</td>\n",
              "      <td>hstancil@hotmail.com</td>\n",
              "      <td>http://www.lindnerfunds.co.uk</td>\n",
              "    </tr>\n",
              "    <tr>\n",
              "      <th>Fiorino</th>\n",
              "      <td>Elbert</td>\n",
              "      <td>Donald, G Nelson Esq</td>\n",
              "      <td>726 Westmoreland Place</td>\n",
              "      <td>Ballochmyle Ward</td>\n",
              "      <td>East Ayrshire</td>\n",
              "      <td>KA5 6EL</td>\n",
              "      <td>01724-467889</td>\n",
              "      <td>01992-537553</td>\n",
              "      <td>elbert@hotmail.com</td>\n",
              "      <td>http://www.donaldgnelsonesq.co.uk</td>\n",
              "    </tr>\n",
              "    <tr>\n",
              "      <th>Richan</th>\n",
              "      <td>Mi</td>\n",
              "      <td>Nelson Wright Haworth Golf Crs</td>\n",
              "      <td>6 Norwood Grove</td>\n",
              "      <td>Tanworth-in-Arden</td>\n",
              "      <td>Warwickshire</td>\n",
              "      <td>B94 5RZ</td>\n",
              "      <td>01451-785624</td>\n",
              "      <td>01202-738406</td>\n",
              "      <td>mi@hotmail.com</td>\n",
              "      <td>http://www.nelsonwrighthaworthgolfcrs.co.uk</td>\n",
              "    </tr>\n",
              "  </tbody>\n",
              "</table>\n",
              "<p>114 rows × 10 columns</p>\n",
              "</div>"
            ],
            "text/plain": [
              "           first_name  ...                                          web\n",
              "last_name              ...                                             \n",
              "Tomkiewicz    Aleshia  ...         http://www.alandrosenburgcpapc.co.uk\n",
              "Andrade        France  ...             http://www.elliottjohnwesq.co.uk\n",
              "Mcwalters     Ulysses  ...                 http://www.mcmahanbenl.co.uk\n",
              "Veness         Tyisha  ...               http://www.champagneroom.co.uk\n",
              "Grasmick         Marg  ...     http://www.wranglehillautoauctslvg.co.uk\n",
              "...               ...  ...                                          ...\n",
              "Gaucher        Sophia  ...               http://www.tcesystemsinc.co.uk\n",
              "Ausdemore      Rosita  ...              http://www.jurdemscottesq.co.uk\n",
              "Stancil          Huey  ...                http://www.lindnerfunds.co.uk\n",
              "Fiorino        Elbert  ...            http://www.donaldgnelsonesq.co.uk\n",
              "Richan             Mi  ...  http://www.nelsonwrighthaworthgolfcrs.co.uk\n",
              "\n",
              "[114 rows x 10 columns]"
            ]
          },
          "metadata": {
            "tags": []
          },
          "execution_count": 29
        }
      ]
    },
    {
      "cell_type": "code",
      "metadata": {
        "id": "NLkHD91PG1wg"
      },
      "source": [
        "# all gmail users with first name Antonio\n",
        "\n"
      ],
      "execution_count": null,
      "outputs": []
    },
    {
      "cell_type": "code",
      "metadata": {
        "colab": {
          "base_uri": "https://localhost:8080/",
          "height": 258
        },
        "id": "UijP9rN5ICdk",
        "outputId": "b6c7a9f3-0d6b-4c67-c670-ef64dc33531e"
      },
      "source": [
        "data.loc[data['first_name'].isin(['France','Tyisha','Eric'])]  \n",
        "\n",
        "#"
      ],
      "execution_count": null,
      "outputs": [
        {
          "output_type": "execute_result",
          "data": {
            "text/html": [
              "<div>\n",
              "<style scoped>\n",
              "    .dataframe tbody tr th:only-of-type {\n",
              "        vertical-align: middle;\n",
              "    }\n",
              "\n",
              "    .dataframe tbody tr th {\n",
              "        vertical-align: top;\n",
              "    }\n",
              "\n",
              "    .dataframe thead th {\n",
              "        text-align: right;\n",
              "    }\n",
              "</style>\n",
              "<table border=\"1\" class=\"dataframe\">\n",
              "  <thead>\n",
              "    <tr style=\"text-align: right;\">\n",
              "      <th></th>\n",
              "      <th>first_name</th>\n",
              "      <th>company_name</th>\n",
              "      <th>address</th>\n",
              "      <th>city</th>\n",
              "      <th>county</th>\n",
              "      <th>postal</th>\n",
              "      <th>phone1</th>\n",
              "      <th>phone2</th>\n",
              "      <th>email</th>\n",
              "      <th>web</th>\n",
              "    </tr>\n",
              "    <tr>\n",
              "      <th>last_name</th>\n",
              "      <th></th>\n",
              "      <th></th>\n",
              "      <th></th>\n",
              "      <th></th>\n",
              "      <th></th>\n",
              "      <th></th>\n",
              "      <th></th>\n",
              "      <th></th>\n",
              "      <th></th>\n",
              "      <th></th>\n",
              "    </tr>\n",
              "  </thead>\n",
              "  <tbody>\n",
              "    <tr>\n",
              "      <th>Andrade</th>\n",
              "      <td>France</td>\n",
              "      <td>Elliott, John W Esq</td>\n",
              "      <td>8 Moor Place</td>\n",
              "      <td>East Southbourne and Tuckton W</td>\n",
              "      <td>Bournemouth</td>\n",
              "      <td>BH6 3BE</td>\n",
              "      <td>01347-368222</td>\n",
              "      <td>01935-821636</td>\n",
              "      <td>france.andrade@hotmail.com</td>\n",
              "      <td>http://www.elliottjohnwesq.co.uk</td>\n",
              "    </tr>\n",
              "    <tr>\n",
              "      <th>Veness</th>\n",
              "      <td>Tyisha</td>\n",
              "      <td>Champagne Room</td>\n",
              "      <td>5396 Forth Street</td>\n",
              "      <td>Greets Green and Lyng Ward</td>\n",
              "      <td>West Midlands</td>\n",
              "      <td>B70 9DT</td>\n",
              "      <td>01547-429341</td>\n",
              "      <td>01290-367248</td>\n",
              "      <td>tyisha.veness@hotmail.com</td>\n",
              "      <td>http://www.champagneroom.co.uk</td>\n",
              "    </tr>\n",
              "    <tr>\n",
              "      <th>Rampy</th>\n",
              "      <td>Eric</td>\n",
              "      <td>Thompson, Michael C Esq</td>\n",
              "      <td>9472 Lind St</td>\n",
              "      <td>Desborough</td>\n",
              "      <td>Northamptonshire</td>\n",
              "      <td>NN14 2GH</td>\n",
              "      <td>01969-886290</td>\n",
              "      <td>01545-817375</td>\n",
              "      <td>erampy@rampy.co.uk</td>\n",
              "      <td>http://www.thompsonmichaelcesq.co.uk</td>\n",
              "    </tr>\n",
              "  </tbody>\n",
              "</table>\n",
              "</div>"
            ],
            "text/plain": [
              "          first_name  ...                                   web\n",
              "last_name             ...                                      \n",
              "Andrade       France  ...      http://www.elliottjohnwesq.co.uk\n",
              "Veness        Tyisha  ...        http://www.champagneroom.co.uk\n",
              "Rampy           Eric  ...  http://www.thompsonmichaelcesq.co.uk\n",
              "\n",
              "[3 rows x 10 columns]"
            ]
          },
          "metadata": {
            "tags": []
          },
          "execution_count": 30
        }
      ]
    },
    {
      "cell_type": "code",
      "metadata": {
        "colab": {
          "base_uri": "https://localhost:8080/",
          "height": 258
        },
        "id": "mimwUIfeIyai",
        "outputId": "fec24aa6-eb84-442c-fddd-5747a3410049"
      },
      "source": [
        "data.loc[(data['first_name']=='France') | (data['first_name']=='Tyisha') | (data['first_name']=='Eric')]"
      ],
      "execution_count": null,
      "outputs": [
        {
          "output_type": "execute_result",
          "data": {
            "text/html": [
              "<div>\n",
              "<style scoped>\n",
              "    .dataframe tbody tr th:only-of-type {\n",
              "        vertical-align: middle;\n",
              "    }\n",
              "\n",
              "    .dataframe tbody tr th {\n",
              "        vertical-align: top;\n",
              "    }\n",
              "\n",
              "    .dataframe thead th {\n",
              "        text-align: right;\n",
              "    }\n",
              "</style>\n",
              "<table border=\"1\" class=\"dataframe\">\n",
              "  <thead>\n",
              "    <tr style=\"text-align: right;\">\n",
              "      <th></th>\n",
              "      <th>first_name</th>\n",
              "      <th>company_name</th>\n",
              "      <th>address</th>\n",
              "      <th>city</th>\n",
              "      <th>county</th>\n",
              "      <th>postal</th>\n",
              "      <th>phone1</th>\n",
              "      <th>phone2</th>\n",
              "      <th>email</th>\n",
              "      <th>web</th>\n",
              "    </tr>\n",
              "    <tr>\n",
              "      <th>last_name</th>\n",
              "      <th></th>\n",
              "      <th></th>\n",
              "      <th></th>\n",
              "      <th></th>\n",
              "      <th></th>\n",
              "      <th></th>\n",
              "      <th></th>\n",
              "      <th></th>\n",
              "      <th></th>\n",
              "      <th></th>\n",
              "    </tr>\n",
              "  </thead>\n",
              "  <tbody>\n",
              "    <tr>\n",
              "      <th>Andrade</th>\n",
              "      <td>France</td>\n",
              "      <td>Elliott, John W Esq</td>\n",
              "      <td>8 Moor Place</td>\n",
              "      <td>East Southbourne and Tuckton W</td>\n",
              "      <td>Bournemouth</td>\n",
              "      <td>BH6 3BE</td>\n",
              "      <td>01347-368222</td>\n",
              "      <td>01935-821636</td>\n",
              "      <td>france.andrade@hotmail.com</td>\n",
              "      <td>http://www.elliottjohnwesq.co.uk</td>\n",
              "    </tr>\n",
              "    <tr>\n",
              "      <th>Veness</th>\n",
              "      <td>Tyisha</td>\n",
              "      <td>Champagne Room</td>\n",
              "      <td>5396 Forth Street</td>\n",
              "      <td>Greets Green and Lyng Ward</td>\n",
              "      <td>West Midlands</td>\n",
              "      <td>B70 9DT</td>\n",
              "      <td>01547-429341</td>\n",
              "      <td>01290-367248</td>\n",
              "      <td>tyisha.veness@hotmail.com</td>\n",
              "      <td>http://www.champagneroom.co.uk</td>\n",
              "    </tr>\n",
              "    <tr>\n",
              "      <th>Rampy</th>\n",
              "      <td>Eric</td>\n",
              "      <td>Thompson, Michael C Esq</td>\n",
              "      <td>9472 Lind St</td>\n",
              "      <td>Desborough</td>\n",
              "      <td>Northamptonshire</td>\n",
              "      <td>NN14 2GH</td>\n",
              "      <td>01969-886290</td>\n",
              "      <td>01545-817375</td>\n",
              "      <td>erampy@rampy.co.uk</td>\n",
              "      <td>http://www.thompsonmichaelcesq.co.uk</td>\n",
              "    </tr>\n",
              "  </tbody>\n",
              "</table>\n",
              "</div>"
            ],
            "text/plain": [
              "          first_name  ...                                   web\n",
              "last_name             ...                                      \n",
              "Andrade       France  ...      http://www.elliottjohnwesq.co.uk\n",
              "Veness        Tyisha  ...        http://www.champagneroom.co.uk\n",
              "Rampy           Eric  ...  http://www.thompsonmichaelcesq.co.uk\n",
              "\n",
              "[3 rows x 10 columns]"
            ]
          },
          "metadata": {
            "tags": []
          },
          "execution_count": 31
        }
      ]
    },
    {
      "cell_type": "code",
      "metadata": {
        "id": "PM6aTt74I1qO"
      },
      "source": [
        "data.loc[(data['county']=='Kent'),['first_name']]='Dhanya'"
      ],
      "execution_count": null,
      "outputs": []
    },
    {
      "cell_type": "code",
      "metadata": {
        "colab": {
          "base_uri": "https://localhost:8080/",
          "height": 1000
        },
        "id": "9JHNfDIfJVxV",
        "outputId": "26435e22-1888-4bf9-a662-8f03e1fa70db"
      },
      "source": [
        "data.loc[(data['county']=='Kent')]"
      ],
      "execution_count": null,
      "outputs": [
        {
          "output_type": "execute_result",
          "data": {
            "text/html": [
              "<div>\n",
              "<style scoped>\n",
              "    .dataframe tbody tr th:only-of-type {\n",
              "        vertical-align: middle;\n",
              "    }\n",
              "\n",
              "    .dataframe tbody tr th {\n",
              "        vertical-align: top;\n",
              "    }\n",
              "\n",
              "    .dataframe thead th {\n",
              "        text-align: right;\n",
              "    }\n",
              "</style>\n",
              "<table border=\"1\" class=\"dataframe\">\n",
              "  <thead>\n",
              "    <tr style=\"text-align: right;\">\n",
              "      <th></th>\n",
              "      <th>first_name</th>\n",
              "      <th>company_name</th>\n",
              "      <th>address</th>\n",
              "      <th>city</th>\n",
              "      <th>county</th>\n",
              "      <th>postal</th>\n",
              "      <th>phone1</th>\n",
              "      <th>phone2</th>\n",
              "      <th>email</th>\n",
              "      <th>web</th>\n",
              "    </tr>\n",
              "    <tr>\n",
              "      <th>last_name</th>\n",
              "      <th></th>\n",
              "      <th></th>\n",
              "      <th></th>\n",
              "      <th></th>\n",
              "      <th></th>\n",
              "      <th></th>\n",
              "      <th></th>\n",
              "      <th></th>\n",
              "      <th></th>\n",
              "      <th></th>\n",
              "    </tr>\n",
              "  </thead>\n",
              "  <tbody>\n",
              "    <tr>\n",
              "      <th>Tomkiewicz</th>\n",
              "      <td>Dhanya</td>\n",
              "      <td>Alan D Rosenburg Cpa Pc</td>\n",
              "      <td>14 Taylor St</td>\n",
              "      <td>St. Stephens Ward</td>\n",
              "      <td>Kent</td>\n",
              "      <td>CT2 7PP</td>\n",
              "      <td>01835-703597</td>\n",
              "      <td>01944-369967</td>\n",
              "      <td>atomkiewicz@hotmail.com</td>\n",
              "      <td>http://www.alandrosenburgcpapc.co.uk</td>\n",
              "    </tr>\n",
              "    <tr>\n",
              "      <th>Writer</th>\n",
              "      <td>Dhanya</td>\n",
              "      <td>K &amp; R Associates Inc</td>\n",
              "      <td>620 Northampton St</td>\n",
              "      <td>Wilmington</td>\n",
              "      <td>Kent</td>\n",
              "      <td>DA2 7PP</td>\n",
              "      <td>01630-202053</td>\n",
              "      <td>01687-879391</td>\n",
              "      <td>fernanda@writer.co.uk</td>\n",
              "      <td>http://www.krassociatesinc.co.uk</td>\n",
              "    </tr>\n",
              "    <tr>\n",
              "      <th>Thurm</th>\n",
              "      <td>Dhanya</td>\n",
              "      <td>Burgess Steel Products Corp</td>\n",
              "      <td>9 Horatio St</td>\n",
              "      <td>Ruckinge</td>\n",
              "      <td>Kent</td>\n",
              "      <td>TN26 2PN</td>\n",
              "      <td>01686-306597</td>\n",
              "      <td>01970-890023</td>\n",
              "      <td>bthurm@yahoo.com</td>\n",
              "      <td>http://www.burgesssteelproductscorp.co.uk</td>\n",
              "    </tr>\n",
              "    <tr>\n",
              "      <th>Dease</th>\n",
              "      <td>Dhanya</td>\n",
              "      <td>Sunderland Publishing Co</td>\n",
              "      <td>94 Enid St</td>\n",
              "      <td>Birchington</td>\n",
              "      <td>Kent</td>\n",
              "      <td>CT7 9BG</td>\n",
              "      <td>01333-642646</td>\n",
              "      <td>01419-231768</td>\n",
              "      <td>pdease@gmail.com</td>\n",
              "      <td>http://www.sunderlandpublishingco.co.uk</td>\n",
              "    </tr>\n",
              "    <tr>\n",
              "      <th>Crete</th>\n",
              "      <td>Dhanya</td>\n",
              "      <td>M D &amp; W Railway</td>\n",
              "      <td>4 Peach St #5112</td>\n",
              "      <td>Halstead</td>\n",
              "      <td>Kent</td>\n",
              "      <td>TN14 7EF</td>\n",
              "      <td>01375-820236</td>\n",
              "      <td>01268-175772</td>\n",
              "      <td>luke.crete@crete.co.uk</td>\n",
              "      <td>http://www.mdwrailway.co.uk</td>\n",
              "    </tr>\n",
              "    <tr>\n",
              "      <th>Yurich</th>\n",
              "      <td>Dhanya</td>\n",
              "      <td>Blaineco Structural Movers</td>\n",
              "      <td>666 Moor Place</td>\n",
              "      <td>Shepway South Ward</td>\n",
              "      <td>Kent</td>\n",
              "      <td>ME15 8ST</td>\n",
              "      <td>01780-380120</td>\n",
              "      <td>01494-202350</td>\n",
              "      <td>cheryll_yurich@yurich.co.uk</td>\n",
              "      <td>http://www.blainecostructuralmovers.co.uk</td>\n",
              "    </tr>\n",
              "    <tr>\n",
              "      <th>Wendorf</th>\n",
              "      <td>Dhanya</td>\n",
              "      <td>Russell, Amelia Mosley Esq</td>\n",
              "      <td>8830 Antonio St</td>\n",
              "      <td>Gillingham North Ward</td>\n",
              "      <td>Kent</td>\n",
              "      <td>ME7 1DZ</td>\n",
              "      <td>01220-653456</td>\n",
              "      <td>01420-489285</td>\n",
              "      <td>galen.wendorf@wendorf.co.uk</td>\n",
              "      <td>http://www.russellameliamosleyesq.co.uk</td>\n",
              "    </tr>\n",
              "    <tr>\n",
              "      <th>Puskarich</th>\n",
              "      <td>Dhanya</td>\n",
              "      <td>Drubner, Norman S Esq</td>\n",
              "      <td>9302 Ismay St #6</td>\n",
              "      <td>Tenterden</td>\n",
              "      <td>Kent</td>\n",
              "      <td>TN30 6JP</td>\n",
              "      <td>01506-152661</td>\n",
              "      <td>01686-258819</td>\n",
              "      <td>thad_puskarich@puskarich.co.uk</td>\n",
              "      <td>http://www.drubnernormansesq.co.uk</td>\n",
              "    </tr>\n",
              "    <tr>\n",
              "      <th>Geschke</th>\n",
              "      <td>Dhanya</td>\n",
              "      <td>Levy Security Consultants Ltd</td>\n",
              "      <td>5 Garfield St #9</td>\n",
              "      <td>Milton Regis Ward</td>\n",
              "      <td>Kent</td>\n",
              "      <td>ME10 2EJ</td>\n",
              "      <td>01404-425588</td>\n",
              "      <td>01902-692529</td>\n",
              "      <td>gabriele@geschke.co.uk</td>\n",
              "      <td>http://www.levysecurityconsultantsltd.co.uk</td>\n",
              "    </tr>\n",
              "    <tr>\n",
              "      <th>Handsaker</th>\n",
              "      <td>Dhanya</td>\n",
              "      <td>Shirleys Print Shoppe</td>\n",
              "      <td>2 Cherry Lane</td>\n",
              "      <td>Strood South Ward</td>\n",
              "      <td>Kent</td>\n",
              "      <td>ME2 2NJ</td>\n",
              "      <td>01793-443665</td>\n",
              "      <td>01964-984369</td>\n",
              "      <td>jordan_handsaker@gmail.com</td>\n",
              "      <td>http://www.shirleysprintshoppe.co.uk</td>\n",
              "    </tr>\n",
              "    <tr>\n",
              "      <th>Dubberly</th>\n",
              "      <td>Dhanya</td>\n",
              "      <td>L &amp; M Industrial Chemicals Inc</td>\n",
              "      <td>1 Lower Burlington St</td>\n",
              "      <td>Northfleet South Ward</td>\n",
              "      <td>Kent</td>\n",
              "      <td>DA11 8RN</td>\n",
              "      <td>01974-720949</td>\n",
              "      <td>01910-745476</td>\n",
              "      <td>madalyn.dubberly@gmail.com</td>\n",
              "      <td>http://www.lmindustrialchemicalsinc.co.uk</td>\n",
              "    </tr>\n",
              "    <tr>\n",
              "      <th>Shadd</th>\n",
              "      <td>Dhanya</td>\n",
              "      <td>Pigeon Falls State Bank</td>\n",
              "      <td>8 Bigham Rd</td>\n",
              "      <td>Deal</td>\n",
              "      <td>Kent</td>\n",
              "      <td>CT14 9QJ</td>\n",
              "      <td>01950-708083</td>\n",
              "      <td>01295-412046</td>\n",
              "      <td>maia_shadd@gmail.com</td>\n",
              "      <td>http://www.pigeonfallsstatebank.co.uk</td>\n",
              "    </tr>\n",
              "    <tr>\n",
              "      <th>Sheneman</th>\n",
              "      <td>Dhanya</td>\n",
              "      <td>Jones, Brigham P Esq</td>\n",
              "      <td>845 Atherton St</td>\n",
              "      <td>Tatsfield</td>\n",
              "      <td>Kent</td>\n",
              "      <td>TN16 2AR</td>\n",
              "      <td>01455-958797</td>\n",
              "      <td>01732-922087</td>\n",
              "      <td>christoper@gmail.com</td>\n",
              "      <td>http://www.jonesbrighampesq.co.uk</td>\n",
              "    </tr>\n",
              "    <tr>\n",
              "      <th>Colamarino</th>\n",
              "      <td>Dhanya</td>\n",
              "      <td>Proctor &amp; Associates Co</td>\n",
              "      <td>150 Margaret Rd</td>\n",
              "      <td>Kings Hill</td>\n",
              "      <td>Kent</td>\n",
              "      <td>ME19 4DT</td>\n",
              "      <td>01879-572287</td>\n",
              "      <td>01708-292140</td>\n",
              "      <td>melda.colamarino@colamarino.co.uk</td>\n",
              "      <td>http://www.proctorassociatesco.co.uk</td>\n",
              "    </tr>\n",
              "    <tr>\n",
              "      <th>Mercik</th>\n",
              "      <td>Dhanya</td>\n",
              "      <td>Lee, Stan Dvm</td>\n",
              "      <td>7 St Edmonds Rd</td>\n",
              "      <td>Nonington</td>\n",
              "      <td>Kent</td>\n",
              "      <td>CT15 4HH</td>\n",
              "      <td>01539-784239</td>\n",
              "      <td>01550-347724</td>\n",
              "      <td>elden_mercik@mercik.co.uk</td>\n",
              "      <td>http://www.leestandvm.co.uk</td>\n",
              "    </tr>\n",
              "    <tr>\n",
              "      <th>Flori</th>\n",
              "      <td>Dhanya</td>\n",
              "      <td>Marine Safety International</td>\n",
              "      <td>4 Cochrane St</td>\n",
              "      <td>Iwade</td>\n",
              "      <td>Kent</td>\n",
              "      <td>ME9 8UJ</td>\n",
              "      <td>01235-935599</td>\n",
              "      <td>01583-844244</td>\n",
              "      <td>pearlie_flori@gmail.com</td>\n",
              "      <td>http://www.marinesafetyinternational.co.uk</td>\n",
              "    </tr>\n",
              "    <tr>\n",
              "      <th>Maricle</th>\n",
              "      <td>Dhanya</td>\n",
              "      <td>Garton, Jeffrey P Esq</td>\n",
              "      <td>59 Charles St</td>\n",
              "      <td>Victoria Ward</td>\n",
              "      <td>Kent</td>\n",
              "      <td>TN23 4GF</td>\n",
              "      <td>01642-202972</td>\n",
              "      <td>01806-219415</td>\n",
              "      <td>dusti@gmail.com</td>\n",
              "      <td>http://www.gartonjeffreypesq.co.uk</td>\n",
              "    </tr>\n",
              "    <tr>\n",
              "      <th>Kernagis</th>\n",
              "      <td>Dhanya</td>\n",
              "      <td>Digital Solutions Inc</td>\n",
              "      <td>8 Hinton St #8241</td>\n",
              "      <td>Stowting</td>\n",
              "      <td>Kent</td>\n",
              "      <td>TN25 6BQ</td>\n",
              "      <td>01504-620944</td>\n",
              "      <td>01685-678054</td>\n",
              "      <td>gerald_kernagis@kernagis.co.uk</td>\n",
              "      <td>http://www.digitalsolutionsinc.co.uk</td>\n",
              "    </tr>\n",
              "    <tr>\n",
              "      <th>Leadbeater</th>\n",
              "      <td>Dhanya</td>\n",
              "      <td>Murray Whisnant Architects</td>\n",
              "      <td>10 Carisbrooke St</td>\n",
              "      <td>Shorne</td>\n",
              "      <td>Kent</td>\n",
              "      <td>DA12 3ED</td>\n",
              "      <td>01706-546951</td>\n",
              "      <td>01356-906646</td>\n",
              "      <td>stefania_leadbeater@hotmail.com</td>\n",
              "      <td>http://www.murraywhisnantarchitects.co.uk</td>\n",
              "    </tr>\n",
              "    <tr>\n",
              "      <th>Farrin</th>\n",
              "      <td>Dhanya</td>\n",
              "      <td>Dering, James E Esq</td>\n",
              "      <td>7 Varthen St</td>\n",
              "      <td>Town Ward</td>\n",
              "      <td>Kent</td>\n",
              "      <td>DA1 2DL</td>\n",
              "      <td>01407-775572</td>\n",
              "      <td>01879-963638</td>\n",
              "      <td>paul.farrin@farrin.co.uk</td>\n",
              "      <td>http://www.deringjameseesq.co.uk</td>\n",
              "    </tr>\n",
              "    <tr>\n",
              "      <th>Humeniuk</th>\n",
              "      <td>Dhanya</td>\n",
              "      <td>Guldstrand Engineering Inc</td>\n",
              "      <td>8822 Trafalgar St</td>\n",
              "      <td>Yalding</td>\n",
              "      <td>Kent</td>\n",
              "      <td>ME18 6JE</td>\n",
              "      <td>01721-747819</td>\n",
              "      <td>01381-985978</td>\n",
              "      <td>vhumeniuk@gmail.com</td>\n",
              "      <td>http://www.guldstrandengineeringinc.co.uk</td>\n",
              "    </tr>\n",
              "    <tr>\n",
              "      <th>Tischner</th>\n",
              "      <td>Dhanya</td>\n",
              "      <td>Male Power Ltd</td>\n",
              "      <td>650 Goring St</td>\n",
              "      <td>Rainham South Ward</td>\n",
              "      <td>Kent</td>\n",
              "      <td>ME8 9PN</td>\n",
              "      <td>01373-594236</td>\n",
              "      <td>01698-785700</td>\n",
              "      <td>altha@hotmail.com</td>\n",
              "      <td>http://www.malepowerltd.co.uk</td>\n",
              "    </tr>\n",
              "  </tbody>\n",
              "</table>\n",
              "</div>"
            ],
            "text/plain": [
              "           first_name  ...                                          web\n",
              "last_name              ...                                             \n",
              "Tomkiewicz     Dhanya  ...         http://www.alandrosenburgcpapc.co.uk\n",
              "Writer         Dhanya  ...             http://www.krassociatesinc.co.uk\n",
              "Thurm          Dhanya  ...    http://www.burgesssteelproductscorp.co.uk\n",
              "Dease          Dhanya  ...      http://www.sunderlandpublishingco.co.uk\n",
              "Crete          Dhanya  ...                  http://www.mdwrailway.co.uk\n",
              "Yurich         Dhanya  ...    http://www.blainecostructuralmovers.co.uk\n",
              "Wendorf        Dhanya  ...      http://www.russellameliamosleyesq.co.uk\n",
              "Puskarich      Dhanya  ...           http://www.drubnernormansesq.co.uk\n",
              "Geschke        Dhanya  ...  http://www.levysecurityconsultantsltd.co.uk\n",
              "Handsaker      Dhanya  ...         http://www.shirleysprintshoppe.co.uk\n",
              "Dubberly       Dhanya  ...    http://www.lmindustrialchemicalsinc.co.uk\n",
              "Shadd          Dhanya  ...        http://www.pigeonfallsstatebank.co.uk\n",
              "Sheneman       Dhanya  ...            http://www.jonesbrighampesq.co.uk\n",
              "Colamarino     Dhanya  ...         http://www.proctorassociatesco.co.uk\n",
              "Mercik         Dhanya  ...                  http://www.leestandvm.co.uk\n",
              "Flori          Dhanya  ...   http://www.marinesafetyinternational.co.uk\n",
              "Maricle        Dhanya  ...           http://www.gartonjeffreypesq.co.uk\n",
              "Kernagis       Dhanya  ...         http://www.digitalsolutionsinc.co.uk\n",
              "Leadbeater     Dhanya  ...    http://www.murraywhisnantarchitects.co.uk\n",
              "Farrin         Dhanya  ...             http://www.deringjameseesq.co.uk\n",
              "Humeniuk       Dhanya  ...    http://www.guldstrandengineeringinc.co.uk\n",
              "Tischner       Dhanya  ...                http://www.malepowerltd.co.uk\n",
              "\n",
              "[22 rows x 10 columns]"
            ]
          },
          "metadata": {
            "tags": []
          },
          "execution_count": 33
        }
      ]
    },
    {
      "cell_type": "code",
      "metadata": {
        "id": "c4qmvNVPJdxr"
      },
      "source": [
        "data.loc[(data.first_name)=='Dhanya',['company_name','city']]=['Amrita','Coimbatore']"
      ],
      "execution_count": null,
      "outputs": []
    },
    {
      "cell_type": "code",
      "metadata": {
        "colab": {
          "base_uri": "https://localhost:8080/",
          "height": 1000
        },
        "id": "8JZ4qypmJ9rR",
        "outputId": "3c3ae4fe-c06b-476a-87b7-a97920d22d0f"
      },
      "source": [
        "data.loc[data.first_name=='Dhanya']"
      ],
      "execution_count": null,
      "outputs": [
        {
          "output_type": "execute_result",
          "data": {
            "text/html": [
              "<div>\n",
              "<style scoped>\n",
              "    .dataframe tbody tr th:only-of-type {\n",
              "        vertical-align: middle;\n",
              "    }\n",
              "\n",
              "    .dataframe tbody tr th {\n",
              "        vertical-align: top;\n",
              "    }\n",
              "\n",
              "    .dataframe thead th {\n",
              "        text-align: right;\n",
              "    }\n",
              "</style>\n",
              "<table border=\"1\" class=\"dataframe\">\n",
              "  <thead>\n",
              "    <tr style=\"text-align: right;\">\n",
              "      <th></th>\n",
              "      <th>first_name</th>\n",
              "      <th>company_name</th>\n",
              "      <th>address</th>\n",
              "      <th>city</th>\n",
              "      <th>county</th>\n",
              "      <th>postal</th>\n",
              "      <th>phone1</th>\n",
              "      <th>phone2</th>\n",
              "      <th>email</th>\n",
              "      <th>web</th>\n",
              "    </tr>\n",
              "    <tr>\n",
              "      <th>last_name</th>\n",
              "      <th></th>\n",
              "      <th></th>\n",
              "      <th></th>\n",
              "      <th></th>\n",
              "      <th></th>\n",
              "      <th></th>\n",
              "      <th></th>\n",
              "      <th></th>\n",
              "      <th></th>\n",
              "      <th></th>\n",
              "    </tr>\n",
              "  </thead>\n",
              "  <tbody>\n",
              "    <tr>\n",
              "      <th>Tomkiewicz</th>\n",
              "      <td>Dhanya</td>\n",
              "      <td>Amrita</td>\n",
              "      <td>14 Taylor St</td>\n",
              "      <td>Coimbatore</td>\n",
              "      <td>Kent</td>\n",
              "      <td>CT2 7PP</td>\n",
              "      <td>01835-703597</td>\n",
              "      <td>01944-369967</td>\n",
              "      <td>atomkiewicz@hotmail.com</td>\n",
              "      <td>http://www.alandrosenburgcpapc.co.uk</td>\n",
              "    </tr>\n",
              "    <tr>\n",
              "      <th>Writer</th>\n",
              "      <td>Dhanya</td>\n",
              "      <td>Amrita</td>\n",
              "      <td>620 Northampton St</td>\n",
              "      <td>Coimbatore</td>\n",
              "      <td>Kent</td>\n",
              "      <td>DA2 7PP</td>\n",
              "      <td>01630-202053</td>\n",
              "      <td>01687-879391</td>\n",
              "      <td>fernanda@writer.co.uk</td>\n",
              "      <td>http://www.krassociatesinc.co.uk</td>\n",
              "    </tr>\n",
              "    <tr>\n",
              "      <th>Thurm</th>\n",
              "      <td>Dhanya</td>\n",
              "      <td>Amrita</td>\n",
              "      <td>9 Horatio St</td>\n",
              "      <td>Coimbatore</td>\n",
              "      <td>Kent</td>\n",
              "      <td>TN26 2PN</td>\n",
              "      <td>01686-306597</td>\n",
              "      <td>01970-890023</td>\n",
              "      <td>bthurm@yahoo.com</td>\n",
              "      <td>http://www.burgesssteelproductscorp.co.uk</td>\n",
              "    </tr>\n",
              "    <tr>\n",
              "      <th>Dease</th>\n",
              "      <td>Dhanya</td>\n",
              "      <td>Amrita</td>\n",
              "      <td>94 Enid St</td>\n",
              "      <td>Coimbatore</td>\n",
              "      <td>Kent</td>\n",
              "      <td>CT7 9BG</td>\n",
              "      <td>01333-642646</td>\n",
              "      <td>01419-231768</td>\n",
              "      <td>pdease@gmail.com</td>\n",
              "      <td>http://www.sunderlandpublishingco.co.uk</td>\n",
              "    </tr>\n",
              "    <tr>\n",
              "      <th>Crete</th>\n",
              "      <td>Dhanya</td>\n",
              "      <td>Amrita</td>\n",
              "      <td>4 Peach St #5112</td>\n",
              "      <td>Coimbatore</td>\n",
              "      <td>Kent</td>\n",
              "      <td>TN14 7EF</td>\n",
              "      <td>01375-820236</td>\n",
              "      <td>01268-175772</td>\n",
              "      <td>luke.crete@crete.co.uk</td>\n",
              "      <td>http://www.mdwrailway.co.uk</td>\n",
              "    </tr>\n",
              "    <tr>\n",
              "      <th>Yurich</th>\n",
              "      <td>Dhanya</td>\n",
              "      <td>Amrita</td>\n",
              "      <td>666 Moor Place</td>\n",
              "      <td>Coimbatore</td>\n",
              "      <td>Kent</td>\n",
              "      <td>ME15 8ST</td>\n",
              "      <td>01780-380120</td>\n",
              "      <td>01494-202350</td>\n",
              "      <td>cheryll_yurich@yurich.co.uk</td>\n",
              "      <td>http://www.blainecostructuralmovers.co.uk</td>\n",
              "    </tr>\n",
              "    <tr>\n",
              "      <th>Wendorf</th>\n",
              "      <td>Dhanya</td>\n",
              "      <td>Amrita</td>\n",
              "      <td>8830 Antonio St</td>\n",
              "      <td>Coimbatore</td>\n",
              "      <td>Kent</td>\n",
              "      <td>ME7 1DZ</td>\n",
              "      <td>01220-653456</td>\n",
              "      <td>01420-489285</td>\n",
              "      <td>galen.wendorf@wendorf.co.uk</td>\n",
              "      <td>http://www.russellameliamosleyesq.co.uk</td>\n",
              "    </tr>\n",
              "    <tr>\n",
              "      <th>Puskarich</th>\n",
              "      <td>Dhanya</td>\n",
              "      <td>Amrita</td>\n",
              "      <td>9302 Ismay St #6</td>\n",
              "      <td>Coimbatore</td>\n",
              "      <td>Kent</td>\n",
              "      <td>TN30 6JP</td>\n",
              "      <td>01506-152661</td>\n",
              "      <td>01686-258819</td>\n",
              "      <td>thad_puskarich@puskarich.co.uk</td>\n",
              "      <td>http://www.drubnernormansesq.co.uk</td>\n",
              "    </tr>\n",
              "    <tr>\n",
              "      <th>Geschke</th>\n",
              "      <td>Dhanya</td>\n",
              "      <td>Amrita</td>\n",
              "      <td>5 Garfield St #9</td>\n",
              "      <td>Coimbatore</td>\n",
              "      <td>Kent</td>\n",
              "      <td>ME10 2EJ</td>\n",
              "      <td>01404-425588</td>\n",
              "      <td>01902-692529</td>\n",
              "      <td>gabriele@geschke.co.uk</td>\n",
              "      <td>http://www.levysecurityconsultantsltd.co.uk</td>\n",
              "    </tr>\n",
              "    <tr>\n",
              "      <th>Handsaker</th>\n",
              "      <td>Dhanya</td>\n",
              "      <td>Amrita</td>\n",
              "      <td>2 Cherry Lane</td>\n",
              "      <td>Coimbatore</td>\n",
              "      <td>Kent</td>\n",
              "      <td>ME2 2NJ</td>\n",
              "      <td>01793-443665</td>\n",
              "      <td>01964-984369</td>\n",
              "      <td>jordan_handsaker@gmail.com</td>\n",
              "      <td>http://www.shirleysprintshoppe.co.uk</td>\n",
              "    </tr>\n",
              "    <tr>\n",
              "      <th>Dubberly</th>\n",
              "      <td>Dhanya</td>\n",
              "      <td>Amrita</td>\n",
              "      <td>1 Lower Burlington St</td>\n",
              "      <td>Coimbatore</td>\n",
              "      <td>Kent</td>\n",
              "      <td>DA11 8RN</td>\n",
              "      <td>01974-720949</td>\n",
              "      <td>01910-745476</td>\n",
              "      <td>madalyn.dubberly@gmail.com</td>\n",
              "      <td>http://www.lmindustrialchemicalsinc.co.uk</td>\n",
              "    </tr>\n",
              "    <tr>\n",
              "      <th>Shadd</th>\n",
              "      <td>Dhanya</td>\n",
              "      <td>Amrita</td>\n",
              "      <td>8 Bigham Rd</td>\n",
              "      <td>Coimbatore</td>\n",
              "      <td>Kent</td>\n",
              "      <td>CT14 9QJ</td>\n",
              "      <td>01950-708083</td>\n",
              "      <td>01295-412046</td>\n",
              "      <td>maia_shadd@gmail.com</td>\n",
              "      <td>http://www.pigeonfallsstatebank.co.uk</td>\n",
              "    </tr>\n",
              "    <tr>\n",
              "      <th>Sheneman</th>\n",
              "      <td>Dhanya</td>\n",
              "      <td>Amrita</td>\n",
              "      <td>845 Atherton St</td>\n",
              "      <td>Coimbatore</td>\n",
              "      <td>Kent</td>\n",
              "      <td>TN16 2AR</td>\n",
              "      <td>01455-958797</td>\n",
              "      <td>01732-922087</td>\n",
              "      <td>christoper@gmail.com</td>\n",
              "      <td>http://www.jonesbrighampesq.co.uk</td>\n",
              "    </tr>\n",
              "    <tr>\n",
              "      <th>Colamarino</th>\n",
              "      <td>Dhanya</td>\n",
              "      <td>Amrita</td>\n",
              "      <td>150 Margaret Rd</td>\n",
              "      <td>Coimbatore</td>\n",
              "      <td>Kent</td>\n",
              "      <td>ME19 4DT</td>\n",
              "      <td>01879-572287</td>\n",
              "      <td>01708-292140</td>\n",
              "      <td>melda.colamarino@colamarino.co.uk</td>\n",
              "      <td>http://www.proctorassociatesco.co.uk</td>\n",
              "    </tr>\n",
              "    <tr>\n",
              "      <th>Mercik</th>\n",
              "      <td>Dhanya</td>\n",
              "      <td>Amrita</td>\n",
              "      <td>7 St Edmonds Rd</td>\n",
              "      <td>Coimbatore</td>\n",
              "      <td>Kent</td>\n",
              "      <td>CT15 4HH</td>\n",
              "      <td>01539-784239</td>\n",
              "      <td>01550-347724</td>\n",
              "      <td>elden_mercik@mercik.co.uk</td>\n",
              "      <td>http://www.leestandvm.co.uk</td>\n",
              "    </tr>\n",
              "    <tr>\n",
              "      <th>Flori</th>\n",
              "      <td>Dhanya</td>\n",
              "      <td>Amrita</td>\n",
              "      <td>4 Cochrane St</td>\n",
              "      <td>Coimbatore</td>\n",
              "      <td>Kent</td>\n",
              "      <td>ME9 8UJ</td>\n",
              "      <td>01235-935599</td>\n",
              "      <td>01583-844244</td>\n",
              "      <td>pearlie_flori@gmail.com</td>\n",
              "      <td>http://www.marinesafetyinternational.co.uk</td>\n",
              "    </tr>\n",
              "    <tr>\n",
              "      <th>Maricle</th>\n",
              "      <td>Dhanya</td>\n",
              "      <td>Amrita</td>\n",
              "      <td>59 Charles St</td>\n",
              "      <td>Coimbatore</td>\n",
              "      <td>Kent</td>\n",
              "      <td>TN23 4GF</td>\n",
              "      <td>01642-202972</td>\n",
              "      <td>01806-219415</td>\n",
              "      <td>dusti@gmail.com</td>\n",
              "      <td>http://www.gartonjeffreypesq.co.uk</td>\n",
              "    </tr>\n",
              "    <tr>\n",
              "      <th>Kernagis</th>\n",
              "      <td>Dhanya</td>\n",
              "      <td>Amrita</td>\n",
              "      <td>8 Hinton St #8241</td>\n",
              "      <td>Coimbatore</td>\n",
              "      <td>Kent</td>\n",
              "      <td>TN25 6BQ</td>\n",
              "      <td>01504-620944</td>\n",
              "      <td>01685-678054</td>\n",
              "      <td>gerald_kernagis@kernagis.co.uk</td>\n",
              "      <td>http://www.digitalsolutionsinc.co.uk</td>\n",
              "    </tr>\n",
              "    <tr>\n",
              "      <th>Leadbeater</th>\n",
              "      <td>Dhanya</td>\n",
              "      <td>Amrita</td>\n",
              "      <td>10 Carisbrooke St</td>\n",
              "      <td>Coimbatore</td>\n",
              "      <td>Kent</td>\n",
              "      <td>DA12 3ED</td>\n",
              "      <td>01706-546951</td>\n",
              "      <td>01356-906646</td>\n",
              "      <td>stefania_leadbeater@hotmail.com</td>\n",
              "      <td>http://www.murraywhisnantarchitects.co.uk</td>\n",
              "    </tr>\n",
              "    <tr>\n",
              "      <th>Farrin</th>\n",
              "      <td>Dhanya</td>\n",
              "      <td>Amrita</td>\n",
              "      <td>7 Varthen St</td>\n",
              "      <td>Coimbatore</td>\n",
              "      <td>Kent</td>\n",
              "      <td>DA1 2DL</td>\n",
              "      <td>01407-775572</td>\n",
              "      <td>01879-963638</td>\n",
              "      <td>paul.farrin@farrin.co.uk</td>\n",
              "      <td>http://www.deringjameseesq.co.uk</td>\n",
              "    </tr>\n",
              "    <tr>\n",
              "      <th>Humeniuk</th>\n",
              "      <td>Dhanya</td>\n",
              "      <td>Amrita</td>\n",
              "      <td>8822 Trafalgar St</td>\n",
              "      <td>Coimbatore</td>\n",
              "      <td>Kent</td>\n",
              "      <td>ME18 6JE</td>\n",
              "      <td>01721-747819</td>\n",
              "      <td>01381-985978</td>\n",
              "      <td>vhumeniuk@gmail.com</td>\n",
              "      <td>http://www.guldstrandengineeringinc.co.uk</td>\n",
              "    </tr>\n",
              "    <tr>\n",
              "      <th>Tischner</th>\n",
              "      <td>Dhanya</td>\n",
              "      <td>Amrita</td>\n",
              "      <td>650 Goring St</td>\n",
              "      <td>Coimbatore</td>\n",
              "      <td>Kent</td>\n",
              "      <td>ME8 9PN</td>\n",
              "      <td>01373-594236</td>\n",
              "      <td>01698-785700</td>\n",
              "      <td>altha@hotmail.com</td>\n",
              "      <td>http://www.malepowerltd.co.uk</td>\n",
              "    </tr>\n",
              "  </tbody>\n",
              "</table>\n",
              "</div>"
            ],
            "text/plain": [
              "           first_name  ...                                          web\n",
              "last_name              ...                                             \n",
              "Tomkiewicz     Dhanya  ...         http://www.alandrosenburgcpapc.co.uk\n",
              "Writer         Dhanya  ...             http://www.krassociatesinc.co.uk\n",
              "Thurm          Dhanya  ...    http://www.burgesssteelproductscorp.co.uk\n",
              "Dease          Dhanya  ...      http://www.sunderlandpublishingco.co.uk\n",
              "Crete          Dhanya  ...                  http://www.mdwrailway.co.uk\n",
              "Yurich         Dhanya  ...    http://www.blainecostructuralmovers.co.uk\n",
              "Wendorf        Dhanya  ...      http://www.russellameliamosleyesq.co.uk\n",
              "Puskarich      Dhanya  ...           http://www.drubnernormansesq.co.uk\n",
              "Geschke        Dhanya  ...  http://www.levysecurityconsultantsltd.co.uk\n",
              "Handsaker      Dhanya  ...         http://www.shirleysprintshoppe.co.uk\n",
              "Dubberly       Dhanya  ...    http://www.lmindustrialchemicalsinc.co.uk\n",
              "Shadd          Dhanya  ...        http://www.pigeonfallsstatebank.co.uk\n",
              "Sheneman       Dhanya  ...            http://www.jonesbrighampesq.co.uk\n",
              "Colamarino     Dhanya  ...         http://www.proctorassociatesco.co.uk\n",
              "Mercik         Dhanya  ...                  http://www.leestandvm.co.uk\n",
              "Flori          Dhanya  ...   http://www.marinesafetyinternational.co.uk\n",
              "Maricle        Dhanya  ...           http://www.gartonjeffreypesq.co.uk\n",
              "Kernagis       Dhanya  ...         http://www.digitalsolutionsinc.co.uk\n",
              "Leadbeater     Dhanya  ...    http://www.murraywhisnantarchitects.co.uk\n",
              "Farrin         Dhanya  ...             http://www.deringjameseesq.co.uk\n",
              "Humeniuk       Dhanya  ...    http://www.guldstrandengineeringinc.co.uk\n",
              "Tischner       Dhanya  ...                http://www.malepowerltd.co.uk\n",
              "\n",
              "[22 rows x 10 columns]"
            ]
          },
          "metadata": {
            "tags": []
          },
          "execution_count": 35
        }
      ]
    },
    {
      "cell_type": "code",
      "metadata": {
        "colab": {
          "base_uri": "https://localhost:8080/"
        },
        "id": "-OE6uy1NKEK1",
        "outputId": "65ab4c9c-7923-431c-f1f5-2fa89ee5f788"
      },
      "source": [
        "data['first_name'].unique()"
      ],
      "execution_count": null,
      "outputs": [
        {
          "output_type": "execute_result",
          "data": {
            "text/plain": [
              "array(['Dhanya', 'Evan', 'France', 'Ulysses', 'Tyisha', 'Eric', 'Marg',\n",
              "       'Laquita', 'Lura', 'Yuette', 'Charlesetta', 'Corrinne', 'Niesha',\n",
              "       'Rueben', 'Michell', 'Edgar', 'Dewitt', 'Charisse', 'Mee', 'Peter',\n",
              "       'Octavio', 'Martha', 'Tamesha', 'Tess', 'Leonard', 'Svetlana',\n",
              "       'Pok', 'Augustine', 'Karma', 'Reed', 'German', 'Milly', 'Luis',\n",
              "       'Ciara', 'Alethea', 'Margurite', 'Vernice', 'Vicente', 'Craig',\n",
              "       'Jenise', 'Marylin', 'Marget', 'Annett', 'Kip', 'Melina', 'Tina',\n",
              "       'Luisa', 'Pedro', 'Carrol', 'Alba', 'Domonique', 'Rory', 'Dustin',\n",
              "       'Lyndia', 'Jules', 'Dong', 'Justine', 'Chantay', 'Tequila',\n",
              "       'Maybelle', 'Margarett', 'Janessa', 'Sol', 'Louann', 'Lindsay',\n",
              "       'Malika', 'Stefany', 'Abraham', 'Giuseppe', 'Kiera', 'Wendell',\n",
              "       'Stevie', 'Yun', 'Billy', 'Brynn', 'Elroy', 'Anisha', 'Bettina',\n",
              "       'Velda', 'Marta', 'Juan', 'Lelia', 'Una', 'Eva', 'Mammie',\n",
              "       'Jeannetta', 'Elbert', 'Lenny', 'Mira', 'Cathern', 'Malcom',\n",
              "       'Monroe', 'Leota', 'Berry', 'Meghan', 'Mike', 'Elsa', 'Linwood',\n",
              "       'Latosha', 'Alexia', 'Graham', 'Elinore', 'Lisbeth', 'Eloisa',\n",
              "       'Shawana', 'Alyssa', 'Kyoko', 'Terry', 'Sena', 'Cristen',\n",
              "       'Lashawn', 'Wade', 'Whitney', 'Deja', 'Earnestine', 'Frankie',\n",
              "       'Rodrigo', 'Luther', 'Casey', 'Ressie', 'Sean', 'Celestina',\n",
              "       'Maira', 'Beth', 'Wei', 'Melissia', 'Letha', 'Isaac', 'Kristine',\n",
              "       'Odette', 'Hobert', 'Isadora', 'Emily', 'Desire', 'Rosalind',\n",
              "       'Vernell', 'Micheline', 'Nathan', 'Allene', 'Julie', 'Francisca',\n",
              "       'Marisha', 'Telma', 'Hubert', 'Janella', 'Angelo', 'Tran',\n",
              "       'Reynalda', 'Salley', 'Crista', 'Lino', 'Gilbert', 'Socorro',\n",
              "       'Mauricio', 'Phillip', 'Gilberto', 'Bambi', 'Marshall', 'Chery',\n",
              "       'Eileen', 'Melita', 'Ashley', 'Laila', 'Bobbie', 'Dana', 'Freida',\n",
              "       'Val', 'Horace', 'Joana', 'Tiara', 'Dacia', 'Myong', 'Gene',\n",
              "       'Kanisha', 'Ayesha', 'Lanie', 'Jaleesa', 'Tamekia', 'Ula',\n",
              "       'Rosendo', 'Timmy', 'Zita', 'Aleisha', 'Naomi', 'Aretha', 'Mila',\n",
              "       'Orville', 'Kara', 'Kenny', 'Vashti', 'Carisa', 'Audrie',\n",
              "       'Shaunna', 'Coleen', 'Katie', 'Dannie', 'Ashanti', 'Santos',\n",
              "       'Alyce', 'Pearly', 'Cherrie', 'Edwin', 'Leigha', 'Walker',\n",
              "       'Nakita', 'Kattie', 'Lamar', 'Juliana', 'Chan', 'Delpha', 'Floyd',\n",
              "       'Chantell', 'Martin', 'Hyun', 'Nada', 'Elizabeth', 'Dominic',\n",
              "       'Alise', 'Flo', 'Bonita', 'Royal', 'Erasmo', 'Mari', 'Eleonora',\n",
              "       'Therese', 'Rodolfo', 'Cruz', 'Arlyne', 'Edward', 'Margot',\n",
              "       'Gerald', 'Tomoko', 'Mendy', 'Daryl', 'Ty', 'King', 'Isidra',\n",
              "       'Tonja', 'Shaquana', 'Rex', 'Adolph', 'Queen', 'Rebbecca',\n",
              "       'Ardella', 'Dallas', 'Vivan', 'Han', 'Emilio', 'Latia', 'Lilli',\n",
              "       'Maryanne', 'Eliz', 'Laura', 'Leanora', 'Sherell', 'Charlie',\n",
              "       'Veronique', 'Antonio', 'Louvenia', 'Roxanne', 'Eve', 'Kenda',\n",
              "       'Kami', 'Selene', 'Deangelo', 'Olen', 'Lynna', 'Jody', 'Merilyn',\n",
              "       'Elliott', 'Leonie', 'Eulah', 'Marsha', 'Mignon', 'Tu', 'Adelle',\n",
              "       'Douglass', 'Evette', 'Geraldo', 'Clarinda', 'Reuben', 'Yen',\n",
              "       'Tanja', 'Jerlene', 'Almeta', 'Wilda', 'Remedios', 'Margret',\n",
              "       'Denny', 'Carolynn', 'Amina', 'Janna', 'Emiko', 'In', 'Eleni',\n",
              "       'Kandis', 'Kina', 'Jacki', 'Fallon', 'Precious', 'Glory', 'Brande',\n",
              "       'Olene', 'Carey', 'Launa', 'Dominga', 'Dwight', 'Cornell',\n",
              "       'Alverta', 'Felicia', 'Carmen', 'Ashlee', 'Vannessa', 'Patti',\n",
              "       'Anika', 'Cristina', 'Lemuel', 'Joaquin', 'Kerrie', 'Alaine',\n",
              "       'Shannon', 'Corinne', 'Heidy', 'Marylyn', 'Maryln', 'Nina',\n",
              "       'Vivienne', 'Jacob', 'Tula', 'Kaycee', 'Melvin', 'Brianne',\n",
              "       'Eugene', 'Margery', 'Noel', 'Beula', 'Sheridan', 'Dino',\n",
              "       'Rebbeca', 'Celia', 'Stefania', 'Leah', 'Doug', 'Veronica',\n",
              "       'Laquanda', 'Mohammad', 'Mozell', 'Bronwyn', 'Jeff', 'Shantay',\n",
              "       'Keneth', 'Alton', 'Patrick', 'Theron', 'Pilar', 'Lashunda',\n",
              "       'Verda', 'Vesta', 'Emogene', 'Shayne', 'Franchesca', 'Elmira',\n",
              "       'Destiny', 'Gaston', 'Ronna', 'Angelica', 'Casie', 'Magdalene',\n",
              "       'Rosalia', 'Lyda', 'Lisandra', 'Sabina', 'Elenore', 'Leeann',\n",
              "       'Janet', 'Lewis', 'Jestine', 'Tatum', 'Kayleigh', 'Lili',\n",
              "       'Sunshine', 'Remona', 'Gail', 'Larue', 'Goldie', 'Shelia',\n",
              "       'Narcisa', 'Evelynn', 'Arlean', 'Tamra', 'Aracelis', 'Filiberto',\n",
              "       'Leana', 'Man', 'Lennie', 'Arletta', 'Chana', 'Nell', 'Sueann',\n",
              "       'Alayna', 'Talia', 'Pansy', 'Royce', 'Cherelle', 'Dudley',\n",
              "       'Nettie', 'Carline', 'Shanda', 'Lovetta', 'Felice', 'Margarita',\n",
              "       'Anglea', 'Ona', 'Germaine', 'Vicky', 'Carolann', 'Rusty',\n",
              "       'Cassandra', 'Teresita', 'Evangelina', 'Marlon', 'Quiana',\n",
              "       'Domitila', 'Ivan', 'Anabel', 'Carlton', 'Rashida', 'Sherron',\n",
              "       'Cora', 'Dortha', 'Diego', 'Peggy', 'Walton', 'Vallie', 'Tony',\n",
              "       'Mel', 'Isabella', 'Ivory', 'Nikita', 'Aleta', 'Owen', 'Pauline',\n",
              "       'Tijuana', 'Ahmad', 'Jamika', 'Derrick', 'Jacquelyne', 'Zachary',\n",
              "       'Sophia', 'Isabelle', 'Ronnie', 'Krystina', 'Rosita', 'Huey',\n",
              "       'Pura', 'Alesia', 'Avery', 'Reid', 'Charlette', 'Mi'], dtype=object)"
            ]
          },
          "metadata": {
            "tags": []
          },
          "execution_count": 36
        }
      ]
    },
    {
      "cell_type": "code",
      "metadata": {
        "colab": {
          "base_uri": "https://localhost:8080/"
        },
        "id": "_fGEFDrcKSGQ",
        "outputId": "79642c3b-f1f3-4725-cc6a-d2fae34c3de3"
      },
      "source": [
        "data['first_name'].nunique()"
      ],
      "execution_count": null,
      "outputs": [
        {
          "output_type": "execute_result",
          "data": {
            "text/plain": [
              "460"
            ]
          },
          "metadata": {
            "tags": []
          },
          "execution_count": 37
        }
      ]
    },
    {
      "cell_type": "markdown",
      "metadata": {
        "id": "IUm01CC-U-lc"
      },
      "source": [
        "# FILL NA"
      ]
    },
    {
      "cell_type": "code",
      "metadata": {
        "id": "4OdjwRqPKaOq"
      },
      "source": [
        "import pandas as pd\n",
        "df=pd.read_csv('https://raw.githubusercontent.com/dataoptimal/posts/master/data%20cleaning%20with%20python%20and%20pandas/property%20data.csv')"
      ],
      "execution_count": null,
      "outputs": []
    },
    {
      "cell_type": "code",
      "metadata": {
        "colab": {
          "base_uri": "https://localhost:8080/",
          "height": 328
        },
        "id": "Hq5go2tVI-86",
        "outputId": "d66f2822-63b7-4079-e919-3c1f9948ea88"
      },
      "source": [
        "df"
      ],
      "execution_count": null,
      "outputs": [
        {
          "output_type": "execute_result",
          "data": {
            "text/html": [
              "<div>\n",
              "<style scoped>\n",
              "    .dataframe tbody tr th:only-of-type {\n",
              "        vertical-align: middle;\n",
              "    }\n",
              "\n",
              "    .dataframe tbody tr th {\n",
              "        vertical-align: top;\n",
              "    }\n",
              "\n",
              "    .dataframe thead th {\n",
              "        text-align: right;\n",
              "    }\n",
              "</style>\n",
              "<table border=\"1\" class=\"dataframe\">\n",
              "  <thead>\n",
              "    <tr style=\"text-align: right;\">\n",
              "      <th></th>\n",
              "      <th>PID</th>\n",
              "      <th>ST_NUM</th>\n",
              "      <th>ST_NAME</th>\n",
              "      <th>OWN_OCCUPIED</th>\n",
              "      <th>NUM_BEDROOMS</th>\n",
              "      <th>NUM_BATH</th>\n",
              "      <th>SQ_FT</th>\n",
              "    </tr>\n",
              "  </thead>\n",
              "  <tbody>\n",
              "    <tr>\n",
              "      <th>0</th>\n",
              "      <td>100001000.0</td>\n",
              "      <td>104.0</td>\n",
              "      <td>PUTNAM</td>\n",
              "      <td>Y</td>\n",
              "      <td>3</td>\n",
              "      <td>1</td>\n",
              "      <td>1000</td>\n",
              "    </tr>\n",
              "    <tr>\n",
              "      <th>1</th>\n",
              "      <td>100002000.0</td>\n",
              "      <td>197.0</td>\n",
              "      <td>LEXINGTON</td>\n",
              "      <td>N</td>\n",
              "      <td>3</td>\n",
              "      <td>1.5</td>\n",
              "      <td>--</td>\n",
              "    </tr>\n",
              "    <tr>\n",
              "      <th>2</th>\n",
              "      <td>100003000.0</td>\n",
              "      <td>NaN</td>\n",
              "      <td>LEXINGTON</td>\n",
              "      <td>N</td>\n",
              "      <td>NaN</td>\n",
              "      <td>1</td>\n",
              "      <td>850</td>\n",
              "    </tr>\n",
              "    <tr>\n",
              "      <th>3</th>\n",
              "      <td>100004000.0</td>\n",
              "      <td>201.0</td>\n",
              "      <td>BERKELEY</td>\n",
              "      <td>12</td>\n",
              "      <td>1</td>\n",
              "      <td>NaN</td>\n",
              "      <td>700</td>\n",
              "    </tr>\n",
              "    <tr>\n",
              "      <th>4</th>\n",
              "      <td>NaN</td>\n",
              "      <td>203.0</td>\n",
              "      <td>BERKELEY</td>\n",
              "      <td>Y</td>\n",
              "      <td>3</td>\n",
              "      <td>2</td>\n",
              "      <td>1600</td>\n",
              "    </tr>\n",
              "    <tr>\n",
              "      <th>5</th>\n",
              "      <td>100006000.0</td>\n",
              "      <td>207.0</td>\n",
              "      <td>BERKELEY</td>\n",
              "      <td>Y</td>\n",
              "      <td>NaN</td>\n",
              "      <td>1</td>\n",
              "      <td>800</td>\n",
              "    </tr>\n",
              "    <tr>\n",
              "      <th>6</th>\n",
              "      <td>100007000.0</td>\n",
              "      <td>NaN</td>\n",
              "      <td>WASHINGTON</td>\n",
              "      <td>NaN</td>\n",
              "      <td>2</td>\n",
              "      <td>HURLEY</td>\n",
              "      <td>950</td>\n",
              "    </tr>\n",
              "    <tr>\n",
              "      <th>7</th>\n",
              "      <td>100008000.0</td>\n",
              "      <td>213.0</td>\n",
              "      <td>TREMONT</td>\n",
              "      <td>Y</td>\n",
              "      <td>1</td>\n",
              "      <td>1</td>\n",
              "      <td>NaN</td>\n",
              "    </tr>\n",
              "    <tr>\n",
              "      <th>8</th>\n",
              "      <td>100009000.0</td>\n",
              "      <td>215.0</td>\n",
              "      <td>TREMONT</td>\n",
              "      <td>Y</td>\n",
              "      <td>na</td>\n",
              "      <td>2</td>\n",
              "      <td>1800</td>\n",
              "    </tr>\n",
              "  </tbody>\n",
              "</table>\n",
              "</div>"
            ],
            "text/plain": [
              "           PID  ST_NUM     ST_NAME OWN_OCCUPIED NUM_BEDROOMS NUM_BATH SQ_FT\n",
              "0  100001000.0   104.0      PUTNAM            Y            3        1  1000\n",
              "1  100002000.0   197.0   LEXINGTON            N            3      1.5    --\n",
              "2  100003000.0     NaN   LEXINGTON            N          NaN        1   850\n",
              "3  100004000.0   201.0    BERKELEY           12            1      NaN   700\n",
              "4          NaN   203.0    BERKELEY            Y            3        2  1600\n",
              "5  100006000.0   207.0    BERKELEY            Y          NaN        1   800\n",
              "6  100007000.0     NaN  WASHINGTON          NaN            2   HURLEY   950\n",
              "7  100008000.0   213.0     TREMONT            Y            1        1   NaN\n",
              "8  100009000.0   215.0     TREMONT            Y           na        2  1800"
            ]
          },
          "metadata": {
            "tags": []
          },
          "execution_count": 2
        }
      ]
    },
    {
      "cell_type": "code",
      "metadata": {
        "colab": {
          "base_uri": "https://localhost:8080/"
        },
        "id": "VVOZ0Wz1JF9d",
        "outputId": "ea2ea7f2-9631-4c2f-9282-65d1c2cdab3b"
      },
      "source": [
        "df.dtypes"
      ],
      "execution_count": null,
      "outputs": [
        {
          "output_type": "execute_result",
          "data": {
            "text/plain": [
              "PID             float64\n",
              "ST_NUM          float64\n",
              "ST_NAME          object\n",
              "OWN_OCCUPIED     object\n",
              "NUM_BEDROOMS     object\n",
              "NUM_BATH         object\n",
              "SQ_FT            object\n",
              "dtype: object"
            ]
          },
          "metadata": {
            "tags": []
          },
          "execution_count": 3
        }
      ]
    },
    {
      "cell_type": "code",
      "metadata": {
        "colab": {
          "base_uri": "https://localhost:8080/"
        },
        "id": "JoQQbvKQJA8y",
        "outputId": "d31cd601-bedc-41e4-c4fa-04b4a5464009"
      },
      "source": [
        "df['ST_NAME'].isnull()"
      ],
      "execution_count": null,
      "outputs": [
        {
          "output_type": "execute_result",
          "data": {
            "text/plain": [
              "0    False\n",
              "1    False\n",
              "2    False\n",
              "3    False\n",
              "4    False\n",
              "5    False\n",
              "6    False\n",
              "7    False\n",
              "8    False\n",
              "Name: ST_NAME, dtype: bool"
            ]
          },
          "metadata": {
            "tags": []
          },
          "execution_count": 4
        }
      ]
    },
    {
      "cell_type": "code",
      "metadata": {
        "colab": {
          "base_uri": "https://localhost:8080/"
        },
        "id": "Fww0Ym1UJ_F4",
        "outputId": "d46fed0e-44be-45d5-de60-1900d04223a7"
      },
      "source": [
        "df['SQ_FT'].isnull()"
      ],
      "execution_count": null,
      "outputs": [
        {
          "output_type": "execute_result",
          "data": {
            "text/plain": [
              "0    False\n",
              "1    False\n",
              "2    False\n",
              "3    False\n",
              "4    False\n",
              "5    False\n",
              "6    False\n",
              "7     True\n",
              "8    False\n",
              "Name: SQ_FT, dtype: bool"
            ]
          },
          "metadata": {
            "tags": []
          },
          "execution_count": 5
        }
      ]
    },
    {
      "cell_type": "code",
      "metadata": {
        "colab": {
          "base_uri": "https://localhost:8080/"
        },
        "id": "6i4bP0PUKJoK",
        "outputId": "27bea2da-228a-4809-c9d6-113155af0a41"
      },
      "source": [
        "df.isnull().sum()"
      ],
      "execution_count": null,
      "outputs": [
        {
          "output_type": "execute_result",
          "data": {
            "text/plain": [
              "PID             1\n",
              "ST_NUM          2\n",
              "ST_NAME         0\n",
              "OWN_OCCUPIED    1\n",
              "NUM_BEDROOMS    2\n",
              "NUM_BATH        1\n",
              "SQ_FT           1\n",
              "dtype: int64"
            ]
          },
          "metadata": {
            "tags": []
          },
          "execution_count": 6
        }
      ]
    },
    {
      "cell_type": "code",
      "metadata": {
        "colab": {
          "base_uri": "https://localhost:8080/",
          "height": 328
        },
        "id": "_N1PyW2-KTiW",
        "outputId": "6e7e0cdc-2c5f-4919-81ed-293ebc9cfb19"
      },
      "source": [
        "df"
      ],
      "execution_count": null,
      "outputs": [
        {
          "output_type": "execute_result",
          "data": {
            "text/html": [
              "<div>\n",
              "<style scoped>\n",
              "    .dataframe tbody tr th:only-of-type {\n",
              "        vertical-align: middle;\n",
              "    }\n",
              "\n",
              "    .dataframe tbody tr th {\n",
              "        vertical-align: top;\n",
              "    }\n",
              "\n",
              "    .dataframe thead th {\n",
              "        text-align: right;\n",
              "    }\n",
              "</style>\n",
              "<table border=\"1\" class=\"dataframe\">\n",
              "  <thead>\n",
              "    <tr style=\"text-align: right;\">\n",
              "      <th></th>\n",
              "      <th>PID</th>\n",
              "      <th>ST_NUM</th>\n",
              "      <th>ST_NAME</th>\n",
              "      <th>OWN_OCCUPIED</th>\n",
              "      <th>NUM_BEDROOMS</th>\n",
              "      <th>NUM_BATH</th>\n",
              "      <th>SQ_FT</th>\n",
              "    </tr>\n",
              "  </thead>\n",
              "  <tbody>\n",
              "    <tr>\n",
              "      <th>0</th>\n",
              "      <td>100001000.0</td>\n",
              "      <td>104.0</td>\n",
              "      <td>PUTNAM</td>\n",
              "      <td>Y</td>\n",
              "      <td>3</td>\n",
              "      <td>1</td>\n",
              "      <td>1000</td>\n",
              "    </tr>\n",
              "    <tr>\n",
              "      <th>1</th>\n",
              "      <td>100002000.0</td>\n",
              "      <td>197.0</td>\n",
              "      <td>LEXINGTON</td>\n",
              "      <td>N</td>\n",
              "      <td>3</td>\n",
              "      <td>1.5</td>\n",
              "      <td>--</td>\n",
              "    </tr>\n",
              "    <tr>\n",
              "      <th>2</th>\n",
              "      <td>100003000.0</td>\n",
              "      <td>NaN</td>\n",
              "      <td>LEXINGTON</td>\n",
              "      <td>N</td>\n",
              "      <td>NaN</td>\n",
              "      <td>1</td>\n",
              "      <td>850</td>\n",
              "    </tr>\n",
              "    <tr>\n",
              "      <th>3</th>\n",
              "      <td>100004000.0</td>\n",
              "      <td>201.0</td>\n",
              "      <td>BERKELEY</td>\n",
              "      <td>12</td>\n",
              "      <td>1</td>\n",
              "      <td>NaN</td>\n",
              "      <td>700</td>\n",
              "    </tr>\n",
              "    <tr>\n",
              "      <th>4</th>\n",
              "      <td>NaN</td>\n",
              "      <td>203.0</td>\n",
              "      <td>BERKELEY</td>\n",
              "      <td>Y</td>\n",
              "      <td>3</td>\n",
              "      <td>2</td>\n",
              "      <td>1600</td>\n",
              "    </tr>\n",
              "    <tr>\n",
              "      <th>5</th>\n",
              "      <td>100006000.0</td>\n",
              "      <td>207.0</td>\n",
              "      <td>BERKELEY</td>\n",
              "      <td>Y</td>\n",
              "      <td>NaN</td>\n",
              "      <td>1</td>\n",
              "      <td>800</td>\n",
              "    </tr>\n",
              "    <tr>\n",
              "      <th>6</th>\n",
              "      <td>100007000.0</td>\n",
              "      <td>NaN</td>\n",
              "      <td>WASHINGTON</td>\n",
              "      <td>NaN</td>\n",
              "      <td>2</td>\n",
              "      <td>HURLEY</td>\n",
              "      <td>950</td>\n",
              "    </tr>\n",
              "    <tr>\n",
              "      <th>7</th>\n",
              "      <td>100008000.0</td>\n",
              "      <td>213.0</td>\n",
              "      <td>TREMONT</td>\n",
              "      <td>Y</td>\n",
              "      <td>1</td>\n",
              "      <td>1</td>\n",
              "      <td>NaN</td>\n",
              "    </tr>\n",
              "    <tr>\n",
              "      <th>8</th>\n",
              "      <td>100009000.0</td>\n",
              "      <td>215.0</td>\n",
              "      <td>TREMONT</td>\n",
              "      <td>Y</td>\n",
              "      <td>na</td>\n",
              "      <td>2</td>\n",
              "      <td>1800</td>\n",
              "    </tr>\n",
              "  </tbody>\n",
              "</table>\n",
              "</div>"
            ],
            "text/plain": [
              "           PID  ST_NUM     ST_NAME OWN_OCCUPIED NUM_BEDROOMS NUM_BATH SQ_FT\n",
              "0  100001000.0   104.0      PUTNAM            Y            3        1  1000\n",
              "1  100002000.0   197.0   LEXINGTON            N            3      1.5    --\n",
              "2  100003000.0     NaN   LEXINGTON            N          NaN        1   850\n",
              "3  100004000.0   201.0    BERKELEY           12            1      NaN   700\n",
              "4          NaN   203.0    BERKELEY            Y            3        2  1600\n",
              "5  100006000.0   207.0    BERKELEY            Y          NaN        1   800\n",
              "6  100007000.0     NaN  WASHINGTON          NaN            2   HURLEY   950\n",
              "7  100008000.0   213.0     TREMONT            Y            1        1   NaN\n",
              "8  100009000.0   215.0     TREMONT            Y           na        2  1800"
            ]
          },
          "metadata": {
            "tags": []
          },
          "execution_count": 7
        }
      ]
    },
    {
      "cell_type": "markdown",
      "metadata": {
        "id": "pnK6x7H6LYkU"
      },
      "source": [
        ""
      ]
    },
    {
      "cell_type": "code",
      "metadata": {
        "id": "4TSCfqN9Kb1a"
      },
      "source": [
        "missing_values=[\"na\",\"--\"]\n",
        "df=pd.read_csv('https://raw.githubusercontent.com/dataoptimal/posts/master/data%20cleaning%20with%20python%20and%20pandas/property%20data.csv'\n",
        ",na_values=missing_values)"
      ],
      "execution_count": null,
      "outputs": []
    },
    {
      "cell_type": "code",
      "metadata": {
        "colab": {
          "base_uri": "https://localhost:8080/",
          "height": 328
        },
        "id": "9qVu0AD0L88U",
        "outputId": "e08b120e-7533-4930-c4c1-c4e196ad8600"
      },
      "source": [
        "df"
      ],
      "execution_count": null,
      "outputs": [
        {
          "output_type": "execute_result",
          "data": {
            "text/html": [
              "<div>\n",
              "<style scoped>\n",
              "    .dataframe tbody tr th:only-of-type {\n",
              "        vertical-align: middle;\n",
              "    }\n",
              "\n",
              "    .dataframe tbody tr th {\n",
              "        vertical-align: top;\n",
              "    }\n",
              "\n",
              "    .dataframe thead th {\n",
              "        text-align: right;\n",
              "    }\n",
              "</style>\n",
              "<table border=\"1\" class=\"dataframe\">\n",
              "  <thead>\n",
              "    <tr style=\"text-align: right;\">\n",
              "      <th></th>\n",
              "      <th>PID</th>\n",
              "      <th>ST_NUM</th>\n",
              "      <th>ST_NAME</th>\n",
              "      <th>OWN_OCCUPIED</th>\n",
              "      <th>NUM_BEDROOMS</th>\n",
              "      <th>NUM_BATH</th>\n",
              "      <th>SQ_FT</th>\n",
              "    </tr>\n",
              "  </thead>\n",
              "  <tbody>\n",
              "    <tr>\n",
              "      <th>0</th>\n",
              "      <td>100001000.0</td>\n",
              "      <td>104.0</td>\n",
              "      <td>PUTNAM</td>\n",
              "      <td>Y</td>\n",
              "      <td>3.0</td>\n",
              "      <td>1</td>\n",
              "      <td>1000.0</td>\n",
              "    </tr>\n",
              "    <tr>\n",
              "      <th>1</th>\n",
              "      <td>100002000.0</td>\n",
              "      <td>197.0</td>\n",
              "      <td>LEXINGTON</td>\n",
              "      <td>N</td>\n",
              "      <td>3.0</td>\n",
              "      <td>1.5</td>\n",
              "      <td>NaN</td>\n",
              "    </tr>\n",
              "    <tr>\n",
              "      <th>2</th>\n",
              "      <td>100003000.0</td>\n",
              "      <td>NaN</td>\n",
              "      <td>LEXINGTON</td>\n",
              "      <td>N</td>\n",
              "      <td>NaN</td>\n",
              "      <td>1</td>\n",
              "      <td>850.0</td>\n",
              "    </tr>\n",
              "    <tr>\n",
              "      <th>3</th>\n",
              "      <td>100004000.0</td>\n",
              "      <td>201.0</td>\n",
              "      <td>BERKELEY</td>\n",
              "      <td>12</td>\n",
              "      <td>1.0</td>\n",
              "      <td>NaN</td>\n",
              "      <td>700.0</td>\n",
              "    </tr>\n",
              "    <tr>\n",
              "      <th>4</th>\n",
              "      <td>NaN</td>\n",
              "      <td>203.0</td>\n",
              "      <td>BERKELEY</td>\n",
              "      <td>Y</td>\n",
              "      <td>3.0</td>\n",
              "      <td>2</td>\n",
              "      <td>1600.0</td>\n",
              "    </tr>\n",
              "    <tr>\n",
              "      <th>5</th>\n",
              "      <td>100006000.0</td>\n",
              "      <td>207.0</td>\n",
              "      <td>BERKELEY</td>\n",
              "      <td>Y</td>\n",
              "      <td>NaN</td>\n",
              "      <td>1</td>\n",
              "      <td>800.0</td>\n",
              "    </tr>\n",
              "    <tr>\n",
              "      <th>6</th>\n",
              "      <td>100007000.0</td>\n",
              "      <td>NaN</td>\n",
              "      <td>WASHINGTON</td>\n",
              "      <td>NaN</td>\n",
              "      <td>2.0</td>\n",
              "      <td>HURLEY</td>\n",
              "      <td>950.0</td>\n",
              "    </tr>\n",
              "    <tr>\n",
              "      <th>7</th>\n",
              "      <td>100008000.0</td>\n",
              "      <td>213.0</td>\n",
              "      <td>TREMONT</td>\n",
              "      <td>Y</td>\n",
              "      <td>1.0</td>\n",
              "      <td>1</td>\n",
              "      <td>NaN</td>\n",
              "    </tr>\n",
              "    <tr>\n",
              "      <th>8</th>\n",
              "      <td>100009000.0</td>\n",
              "      <td>215.0</td>\n",
              "      <td>TREMONT</td>\n",
              "      <td>Y</td>\n",
              "      <td>NaN</td>\n",
              "      <td>2</td>\n",
              "      <td>1800.0</td>\n",
              "    </tr>\n",
              "  </tbody>\n",
              "</table>\n",
              "</div>"
            ],
            "text/plain": [
              "           PID  ST_NUM     ST_NAME OWN_OCCUPIED  NUM_BEDROOMS NUM_BATH   SQ_FT\n",
              "0  100001000.0   104.0      PUTNAM            Y           3.0        1  1000.0\n",
              "1  100002000.0   197.0   LEXINGTON            N           3.0      1.5     NaN\n",
              "2  100003000.0     NaN   LEXINGTON            N           NaN        1   850.0\n",
              "3  100004000.0   201.0    BERKELEY           12           1.0      NaN   700.0\n",
              "4          NaN   203.0    BERKELEY            Y           3.0        2  1600.0\n",
              "5  100006000.0   207.0    BERKELEY            Y           NaN        1   800.0\n",
              "6  100007000.0     NaN  WASHINGTON          NaN           2.0   HURLEY   950.0\n",
              "7  100008000.0   213.0     TREMONT            Y           1.0        1     NaN\n",
              "8  100009000.0   215.0     TREMONT            Y           NaN        2  1800.0"
            ]
          },
          "metadata": {
            "tags": []
          },
          "execution_count": 10
        }
      ]
    },
    {
      "cell_type": "code",
      "metadata": {
        "colab": {
          "base_uri": "https://localhost:8080/",
          "height": 328
        },
        "id": "oiFwnlE7MBZl",
        "outputId": "077f976e-499d-41da-a01d-3b204c56017b"
      },
      "source": [
        "df.fillna(\"hello\")"
      ],
      "execution_count": null,
      "outputs": [
        {
          "output_type": "execute_result",
          "data": {
            "text/html": [
              "<div>\n",
              "<style scoped>\n",
              "    .dataframe tbody tr th:only-of-type {\n",
              "        vertical-align: middle;\n",
              "    }\n",
              "\n",
              "    .dataframe tbody tr th {\n",
              "        vertical-align: top;\n",
              "    }\n",
              "\n",
              "    .dataframe thead th {\n",
              "        text-align: right;\n",
              "    }\n",
              "</style>\n",
              "<table border=\"1\" class=\"dataframe\">\n",
              "  <thead>\n",
              "    <tr style=\"text-align: right;\">\n",
              "      <th></th>\n",
              "      <th>PID</th>\n",
              "      <th>ST_NUM</th>\n",
              "      <th>ST_NAME</th>\n",
              "      <th>OWN_OCCUPIED</th>\n",
              "      <th>NUM_BEDROOMS</th>\n",
              "      <th>NUM_BATH</th>\n",
              "      <th>SQ_FT</th>\n",
              "    </tr>\n",
              "  </thead>\n",
              "  <tbody>\n",
              "    <tr>\n",
              "      <th>0</th>\n",
              "      <td>1.00001e+08</td>\n",
              "      <td>104</td>\n",
              "      <td>PUTNAM</td>\n",
              "      <td>Y</td>\n",
              "      <td>3</td>\n",
              "      <td>1</td>\n",
              "      <td>1000</td>\n",
              "    </tr>\n",
              "    <tr>\n",
              "      <th>1</th>\n",
              "      <td>1.00002e+08</td>\n",
              "      <td>197</td>\n",
              "      <td>LEXINGTON</td>\n",
              "      <td>N</td>\n",
              "      <td>3</td>\n",
              "      <td>1.5</td>\n",
              "      <td>hello</td>\n",
              "    </tr>\n",
              "    <tr>\n",
              "      <th>2</th>\n",
              "      <td>1.00003e+08</td>\n",
              "      <td>hello</td>\n",
              "      <td>LEXINGTON</td>\n",
              "      <td>N</td>\n",
              "      <td>hello</td>\n",
              "      <td>1</td>\n",
              "      <td>850</td>\n",
              "    </tr>\n",
              "    <tr>\n",
              "      <th>3</th>\n",
              "      <td>1.00004e+08</td>\n",
              "      <td>201</td>\n",
              "      <td>BERKELEY</td>\n",
              "      <td>12</td>\n",
              "      <td>1</td>\n",
              "      <td>hello</td>\n",
              "      <td>700</td>\n",
              "    </tr>\n",
              "    <tr>\n",
              "      <th>4</th>\n",
              "      <td>hello</td>\n",
              "      <td>203</td>\n",
              "      <td>BERKELEY</td>\n",
              "      <td>Y</td>\n",
              "      <td>3</td>\n",
              "      <td>2</td>\n",
              "      <td>1600</td>\n",
              "    </tr>\n",
              "    <tr>\n",
              "      <th>5</th>\n",
              "      <td>1.00006e+08</td>\n",
              "      <td>207</td>\n",
              "      <td>BERKELEY</td>\n",
              "      <td>Y</td>\n",
              "      <td>hello</td>\n",
              "      <td>1</td>\n",
              "      <td>800</td>\n",
              "    </tr>\n",
              "    <tr>\n",
              "      <th>6</th>\n",
              "      <td>1.00007e+08</td>\n",
              "      <td>hello</td>\n",
              "      <td>WASHINGTON</td>\n",
              "      <td>hello</td>\n",
              "      <td>2</td>\n",
              "      <td>HURLEY</td>\n",
              "      <td>950</td>\n",
              "    </tr>\n",
              "    <tr>\n",
              "      <th>7</th>\n",
              "      <td>1.00008e+08</td>\n",
              "      <td>213</td>\n",
              "      <td>TREMONT</td>\n",
              "      <td>Y</td>\n",
              "      <td>1</td>\n",
              "      <td>1</td>\n",
              "      <td>hello</td>\n",
              "    </tr>\n",
              "    <tr>\n",
              "      <th>8</th>\n",
              "      <td>1.00009e+08</td>\n",
              "      <td>215</td>\n",
              "      <td>TREMONT</td>\n",
              "      <td>Y</td>\n",
              "      <td>hello</td>\n",
              "      <td>2</td>\n",
              "      <td>1800</td>\n",
              "    </tr>\n",
              "  </tbody>\n",
              "</table>\n",
              "</div>"
            ],
            "text/plain": [
              "           PID ST_NUM     ST_NAME OWN_OCCUPIED NUM_BEDROOMS NUM_BATH  SQ_FT\n",
              "0  1.00001e+08    104      PUTNAM            Y            3        1   1000\n",
              "1  1.00002e+08    197   LEXINGTON            N            3      1.5  hello\n",
              "2  1.00003e+08  hello   LEXINGTON            N        hello        1    850\n",
              "3  1.00004e+08    201    BERKELEY           12            1    hello    700\n",
              "4        hello    203    BERKELEY            Y            3        2   1600\n",
              "5  1.00006e+08    207    BERKELEY            Y        hello        1    800\n",
              "6  1.00007e+08  hello  WASHINGTON        hello            2   HURLEY    950\n",
              "7  1.00008e+08    213     TREMONT            Y            1        1  hello\n",
              "8  1.00009e+08    215     TREMONT            Y        hello        2   1800"
            ]
          },
          "metadata": {
            "tags": []
          },
          "execution_count": 19
        }
      ]
    },
    {
      "cell_type": "code",
      "metadata": {
        "colab": {
          "base_uri": "https://localhost:8080/",
          "height": 328
        },
        "id": "VU_D0Q_WMo-s",
        "outputId": "01a05a70-40c5-491f-f7da-e6563963178e"
      },
      "source": [
        "df.fillna(method='ffill')"
      ],
      "execution_count": null,
      "outputs": [
        {
          "output_type": "execute_result",
          "data": {
            "text/html": [
              "<div>\n",
              "<style scoped>\n",
              "    .dataframe tbody tr th:only-of-type {\n",
              "        vertical-align: middle;\n",
              "    }\n",
              "\n",
              "    .dataframe tbody tr th {\n",
              "        vertical-align: top;\n",
              "    }\n",
              "\n",
              "    .dataframe thead th {\n",
              "        text-align: right;\n",
              "    }\n",
              "</style>\n",
              "<table border=\"1\" class=\"dataframe\">\n",
              "  <thead>\n",
              "    <tr style=\"text-align: right;\">\n",
              "      <th></th>\n",
              "      <th>PID</th>\n",
              "      <th>ST_NUM</th>\n",
              "      <th>ST_NAME</th>\n",
              "      <th>OWN_OCCUPIED</th>\n",
              "      <th>NUM_BEDROOMS</th>\n",
              "      <th>NUM_BATH</th>\n",
              "      <th>SQ_FT</th>\n",
              "    </tr>\n",
              "  </thead>\n",
              "  <tbody>\n",
              "    <tr>\n",
              "      <th>0</th>\n",
              "      <td>100001000.0</td>\n",
              "      <td>104.0</td>\n",
              "      <td>PUTNAM</td>\n",
              "      <td>Y</td>\n",
              "      <td>3.0</td>\n",
              "      <td>1</td>\n",
              "      <td>1000.0</td>\n",
              "    </tr>\n",
              "    <tr>\n",
              "      <th>1</th>\n",
              "      <td>100002000.0</td>\n",
              "      <td>197.0</td>\n",
              "      <td>LEXINGTON</td>\n",
              "      <td>N</td>\n",
              "      <td>3.0</td>\n",
              "      <td>1.5</td>\n",
              "      <td>1000.0</td>\n",
              "    </tr>\n",
              "    <tr>\n",
              "      <th>2</th>\n",
              "      <td>100003000.0</td>\n",
              "      <td>197.0</td>\n",
              "      <td>LEXINGTON</td>\n",
              "      <td>N</td>\n",
              "      <td>3.0</td>\n",
              "      <td>1</td>\n",
              "      <td>850.0</td>\n",
              "    </tr>\n",
              "    <tr>\n",
              "      <th>3</th>\n",
              "      <td>100004000.0</td>\n",
              "      <td>201.0</td>\n",
              "      <td>BERKELEY</td>\n",
              "      <td>12</td>\n",
              "      <td>1.0</td>\n",
              "      <td>1</td>\n",
              "      <td>700.0</td>\n",
              "    </tr>\n",
              "    <tr>\n",
              "      <th>4</th>\n",
              "      <td>100004000.0</td>\n",
              "      <td>203.0</td>\n",
              "      <td>BERKELEY</td>\n",
              "      <td>Y</td>\n",
              "      <td>3.0</td>\n",
              "      <td>2</td>\n",
              "      <td>1600.0</td>\n",
              "    </tr>\n",
              "    <tr>\n",
              "      <th>5</th>\n",
              "      <td>100006000.0</td>\n",
              "      <td>207.0</td>\n",
              "      <td>BERKELEY</td>\n",
              "      <td>Y</td>\n",
              "      <td>3.0</td>\n",
              "      <td>1</td>\n",
              "      <td>800.0</td>\n",
              "    </tr>\n",
              "    <tr>\n",
              "      <th>6</th>\n",
              "      <td>100007000.0</td>\n",
              "      <td>207.0</td>\n",
              "      <td>WASHINGTON</td>\n",
              "      <td>Y</td>\n",
              "      <td>2.0</td>\n",
              "      <td>HURLEY</td>\n",
              "      <td>950.0</td>\n",
              "    </tr>\n",
              "    <tr>\n",
              "      <th>7</th>\n",
              "      <td>100008000.0</td>\n",
              "      <td>213.0</td>\n",
              "      <td>TREMONT</td>\n",
              "      <td>Y</td>\n",
              "      <td>1.0</td>\n",
              "      <td>1</td>\n",
              "      <td>950.0</td>\n",
              "    </tr>\n",
              "    <tr>\n",
              "      <th>8</th>\n",
              "      <td>100009000.0</td>\n",
              "      <td>215.0</td>\n",
              "      <td>TREMONT</td>\n",
              "      <td>Y</td>\n",
              "      <td>1.0</td>\n",
              "      <td>2</td>\n",
              "      <td>1800.0</td>\n",
              "    </tr>\n",
              "  </tbody>\n",
              "</table>\n",
              "</div>"
            ],
            "text/plain": [
              "           PID  ST_NUM     ST_NAME OWN_OCCUPIED  NUM_BEDROOMS NUM_BATH   SQ_FT\n",
              "0  100001000.0   104.0      PUTNAM            Y           3.0        1  1000.0\n",
              "1  100002000.0   197.0   LEXINGTON            N           3.0      1.5  1000.0\n",
              "2  100003000.0   197.0   LEXINGTON            N           3.0        1   850.0\n",
              "3  100004000.0   201.0    BERKELEY           12           1.0        1   700.0\n",
              "4  100004000.0   203.0    BERKELEY            Y           3.0        2  1600.0\n",
              "5  100006000.0   207.0    BERKELEY            Y           3.0        1   800.0\n",
              "6  100007000.0   207.0  WASHINGTON            Y           2.0   HURLEY   950.0\n",
              "7  100008000.0   213.0     TREMONT            Y           1.0        1   950.0\n",
              "8  100009000.0   215.0     TREMONT            Y           1.0        2  1800.0"
            ]
          },
          "metadata": {
            "tags": []
          },
          "execution_count": 14
        }
      ]
    },
    {
      "cell_type": "code",
      "metadata": {
        "colab": {
          "base_uri": "https://localhost:8080/",
          "height": 80
        },
        "id": "CGTQfBo_MsjV",
        "outputId": "dda53aac-f7f7-45f1-b836-0dde8e997465"
      },
      "source": [
        "df.dropna()"
      ],
      "execution_count": null,
      "outputs": [
        {
          "output_type": "execute_result",
          "data": {
            "text/html": [
              "<div>\n",
              "<style scoped>\n",
              "    .dataframe tbody tr th:only-of-type {\n",
              "        vertical-align: middle;\n",
              "    }\n",
              "\n",
              "    .dataframe tbody tr th {\n",
              "        vertical-align: top;\n",
              "    }\n",
              "\n",
              "    .dataframe thead th {\n",
              "        text-align: right;\n",
              "    }\n",
              "</style>\n",
              "<table border=\"1\" class=\"dataframe\">\n",
              "  <thead>\n",
              "    <tr style=\"text-align: right;\">\n",
              "      <th></th>\n",
              "      <th>PID</th>\n",
              "      <th>ST_NUM</th>\n",
              "      <th>ST_NAME</th>\n",
              "      <th>OWN_OCCUPIED</th>\n",
              "      <th>NUM_BEDROOMS</th>\n",
              "      <th>NUM_BATH</th>\n",
              "      <th>SQ_FT</th>\n",
              "    </tr>\n",
              "  </thead>\n",
              "  <tbody>\n",
              "    <tr>\n",
              "      <th>0</th>\n",
              "      <td>100001000.0</td>\n",
              "      <td>104.0</td>\n",
              "      <td>PUTNAM</td>\n",
              "      <td>Y</td>\n",
              "      <td>3.0</td>\n",
              "      <td>1</td>\n",
              "      <td>1000.0</td>\n",
              "    </tr>\n",
              "  </tbody>\n",
              "</table>\n",
              "</div>"
            ],
            "text/plain": [
              "           PID  ST_NUM ST_NAME OWN_OCCUPIED  NUM_BEDROOMS NUM_BATH   SQ_FT\n",
              "0  100001000.0   104.0  PUTNAM            Y           3.0        1  1000.0"
            ]
          },
          "metadata": {
            "tags": []
          },
          "execution_count": 15
        }
      ]
    },
    {
      "cell_type": "code",
      "metadata": {
        "colab": {
          "base_uri": "https://localhost:8080/",
          "height": 328
        },
        "id": "2n0FvIzLNtVb",
        "outputId": "cab258c8-ed5b-4f75-d650-9f89a5a7825f"
      },
      "source": [
        "df"
      ],
      "execution_count": null,
      "outputs": [
        {
          "output_type": "execute_result",
          "data": {
            "text/html": [
              "<div>\n",
              "<style scoped>\n",
              "    .dataframe tbody tr th:only-of-type {\n",
              "        vertical-align: middle;\n",
              "    }\n",
              "\n",
              "    .dataframe tbody tr th {\n",
              "        vertical-align: top;\n",
              "    }\n",
              "\n",
              "    .dataframe thead th {\n",
              "        text-align: right;\n",
              "    }\n",
              "</style>\n",
              "<table border=\"1\" class=\"dataframe\">\n",
              "  <thead>\n",
              "    <tr style=\"text-align: right;\">\n",
              "      <th></th>\n",
              "      <th>PID</th>\n",
              "      <th>ST_NUM</th>\n",
              "      <th>ST_NAME</th>\n",
              "      <th>OWN_OCCUPIED</th>\n",
              "      <th>NUM_BEDROOMS</th>\n",
              "      <th>NUM_BATH</th>\n",
              "      <th>SQ_FT</th>\n",
              "    </tr>\n",
              "  </thead>\n",
              "  <tbody>\n",
              "    <tr>\n",
              "      <th>0</th>\n",
              "      <td>100001000.0</td>\n",
              "      <td>104.0</td>\n",
              "      <td>PUTNAM</td>\n",
              "      <td>Y</td>\n",
              "      <td>3.0</td>\n",
              "      <td>1</td>\n",
              "      <td>1000.0</td>\n",
              "    </tr>\n",
              "    <tr>\n",
              "      <th>1</th>\n",
              "      <td>100002000.0</td>\n",
              "      <td>197.0</td>\n",
              "      <td>LEXINGTON</td>\n",
              "      <td>N</td>\n",
              "      <td>3.0</td>\n",
              "      <td>1.5</td>\n",
              "      <td>NaN</td>\n",
              "    </tr>\n",
              "    <tr>\n",
              "      <th>2</th>\n",
              "      <td>100003000.0</td>\n",
              "      <td>NaN</td>\n",
              "      <td>LEXINGTON</td>\n",
              "      <td>N</td>\n",
              "      <td>NaN</td>\n",
              "      <td>1</td>\n",
              "      <td>850.0</td>\n",
              "    </tr>\n",
              "    <tr>\n",
              "      <th>3</th>\n",
              "      <td>100004000.0</td>\n",
              "      <td>201.0</td>\n",
              "      <td>BERKELEY</td>\n",
              "      <td>12</td>\n",
              "      <td>1.0</td>\n",
              "      <td>NaN</td>\n",
              "      <td>700.0</td>\n",
              "    </tr>\n",
              "    <tr>\n",
              "      <th>4</th>\n",
              "      <td>NaN</td>\n",
              "      <td>203.0</td>\n",
              "      <td>BERKELEY</td>\n",
              "      <td>Y</td>\n",
              "      <td>3.0</td>\n",
              "      <td>2</td>\n",
              "      <td>1600.0</td>\n",
              "    </tr>\n",
              "    <tr>\n",
              "      <th>5</th>\n",
              "      <td>100006000.0</td>\n",
              "      <td>207.0</td>\n",
              "      <td>BERKELEY</td>\n",
              "      <td>Y</td>\n",
              "      <td>NaN</td>\n",
              "      <td>1</td>\n",
              "      <td>800.0</td>\n",
              "    </tr>\n",
              "    <tr>\n",
              "      <th>6</th>\n",
              "      <td>100007000.0</td>\n",
              "      <td>NaN</td>\n",
              "      <td>WASHINGTON</td>\n",
              "      <td>NaN</td>\n",
              "      <td>2.0</td>\n",
              "      <td>HURLEY</td>\n",
              "      <td>950.0</td>\n",
              "    </tr>\n",
              "    <tr>\n",
              "      <th>7</th>\n",
              "      <td>100008000.0</td>\n",
              "      <td>213.0</td>\n",
              "      <td>TREMONT</td>\n",
              "      <td>Y</td>\n",
              "      <td>1.0</td>\n",
              "      <td>1</td>\n",
              "      <td>NaN</td>\n",
              "    </tr>\n",
              "    <tr>\n",
              "      <th>8</th>\n",
              "      <td>100009000.0</td>\n",
              "      <td>215.0</td>\n",
              "      <td>TREMONT</td>\n",
              "      <td>Y</td>\n",
              "      <td>NaN</td>\n",
              "      <td>2</td>\n",
              "      <td>1800.0</td>\n",
              "    </tr>\n",
              "  </tbody>\n",
              "</table>\n",
              "</div>"
            ],
            "text/plain": [
              "           PID  ST_NUM     ST_NAME OWN_OCCUPIED  NUM_BEDROOMS NUM_BATH   SQ_FT\n",
              "0  100001000.0   104.0      PUTNAM            Y           3.0        1  1000.0\n",
              "1  100002000.0   197.0   LEXINGTON            N           3.0      1.5     NaN\n",
              "2  100003000.0     NaN   LEXINGTON            N           NaN        1   850.0\n",
              "3  100004000.0   201.0    BERKELEY           12           1.0      NaN   700.0\n",
              "4          NaN   203.0    BERKELEY            Y           3.0        2  1600.0\n",
              "5  100006000.0   207.0    BERKELEY            Y           NaN        1   800.0\n",
              "6  100007000.0     NaN  WASHINGTON          NaN           2.0   HURLEY   950.0\n",
              "7  100008000.0   213.0     TREMONT            Y           1.0        1     NaN\n",
              "8  100009000.0   215.0     TREMONT            Y           NaN        2  1800.0"
            ]
          },
          "metadata": {
            "tags": []
          },
          "execution_count": 16
        }
      ]
    },
    {
      "cell_type": "code",
      "metadata": {
        "colab": {
          "base_uri": "https://localhost:8080/",
          "height": 328
        },
        "id": "iHASqqftNzd-",
        "outputId": "65419820-1476-4ccb-bdc4-ac3d5a479238"
      },
      "source": [
        "df.dropna(how='all')"
      ],
      "execution_count": null,
      "outputs": [
        {
          "output_type": "execute_result",
          "data": {
            "text/html": [
              "<div>\n",
              "<style scoped>\n",
              "    .dataframe tbody tr th:only-of-type {\n",
              "        vertical-align: middle;\n",
              "    }\n",
              "\n",
              "    .dataframe tbody tr th {\n",
              "        vertical-align: top;\n",
              "    }\n",
              "\n",
              "    .dataframe thead th {\n",
              "        text-align: right;\n",
              "    }\n",
              "</style>\n",
              "<table border=\"1\" class=\"dataframe\">\n",
              "  <thead>\n",
              "    <tr style=\"text-align: right;\">\n",
              "      <th></th>\n",
              "      <th>PID</th>\n",
              "      <th>ST_NUM</th>\n",
              "      <th>ST_NAME</th>\n",
              "      <th>OWN_OCCUPIED</th>\n",
              "      <th>NUM_BEDROOMS</th>\n",
              "      <th>NUM_BATH</th>\n",
              "      <th>SQ_FT</th>\n",
              "    </tr>\n",
              "  </thead>\n",
              "  <tbody>\n",
              "    <tr>\n",
              "      <th>0</th>\n",
              "      <td>100001000.0</td>\n",
              "      <td>104.0</td>\n",
              "      <td>PUTNAM</td>\n",
              "      <td>Y</td>\n",
              "      <td>3.0</td>\n",
              "      <td>1</td>\n",
              "      <td>1000.0</td>\n",
              "    </tr>\n",
              "    <tr>\n",
              "      <th>1</th>\n",
              "      <td>100002000.0</td>\n",
              "      <td>197.0</td>\n",
              "      <td>LEXINGTON</td>\n",
              "      <td>N</td>\n",
              "      <td>3.0</td>\n",
              "      <td>1.5</td>\n",
              "      <td>NaN</td>\n",
              "    </tr>\n",
              "    <tr>\n",
              "      <th>2</th>\n",
              "      <td>100003000.0</td>\n",
              "      <td>NaN</td>\n",
              "      <td>LEXINGTON</td>\n",
              "      <td>N</td>\n",
              "      <td>NaN</td>\n",
              "      <td>1</td>\n",
              "      <td>850.0</td>\n",
              "    </tr>\n",
              "    <tr>\n",
              "      <th>3</th>\n",
              "      <td>100004000.0</td>\n",
              "      <td>201.0</td>\n",
              "      <td>BERKELEY</td>\n",
              "      <td>12</td>\n",
              "      <td>1.0</td>\n",
              "      <td>NaN</td>\n",
              "      <td>700.0</td>\n",
              "    </tr>\n",
              "    <tr>\n",
              "      <th>4</th>\n",
              "      <td>NaN</td>\n",
              "      <td>203.0</td>\n",
              "      <td>BERKELEY</td>\n",
              "      <td>Y</td>\n",
              "      <td>3.0</td>\n",
              "      <td>2</td>\n",
              "      <td>1600.0</td>\n",
              "    </tr>\n",
              "    <tr>\n",
              "      <th>5</th>\n",
              "      <td>100006000.0</td>\n",
              "      <td>207.0</td>\n",
              "      <td>BERKELEY</td>\n",
              "      <td>Y</td>\n",
              "      <td>NaN</td>\n",
              "      <td>1</td>\n",
              "      <td>800.0</td>\n",
              "    </tr>\n",
              "    <tr>\n",
              "      <th>6</th>\n",
              "      <td>100007000.0</td>\n",
              "      <td>NaN</td>\n",
              "      <td>WASHINGTON</td>\n",
              "      <td>NaN</td>\n",
              "      <td>2.0</td>\n",
              "      <td>HURLEY</td>\n",
              "      <td>950.0</td>\n",
              "    </tr>\n",
              "    <tr>\n",
              "      <th>7</th>\n",
              "      <td>100008000.0</td>\n",
              "      <td>213.0</td>\n",
              "      <td>TREMONT</td>\n",
              "      <td>Y</td>\n",
              "      <td>1.0</td>\n",
              "      <td>1</td>\n",
              "      <td>NaN</td>\n",
              "    </tr>\n",
              "    <tr>\n",
              "      <th>8</th>\n",
              "      <td>100009000.0</td>\n",
              "      <td>215.0</td>\n",
              "      <td>TREMONT</td>\n",
              "      <td>Y</td>\n",
              "      <td>NaN</td>\n",
              "      <td>2</td>\n",
              "      <td>1800.0</td>\n",
              "    </tr>\n",
              "  </tbody>\n",
              "</table>\n",
              "</div>"
            ],
            "text/plain": [
              "           PID  ST_NUM     ST_NAME OWN_OCCUPIED  NUM_BEDROOMS NUM_BATH   SQ_FT\n",
              "0  100001000.0   104.0      PUTNAM            Y           3.0        1  1000.0\n",
              "1  100002000.0   197.0   LEXINGTON            N           3.0      1.5     NaN\n",
              "2  100003000.0     NaN   LEXINGTON            N           NaN        1   850.0\n",
              "3  100004000.0   201.0    BERKELEY           12           1.0      NaN   700.0\n",
              "4          NaN   203.0    BERKELEY            Y           3.0        2  1600.0\n",
              "5  100006000.0   207.0    BERKELEY            Y           NaN        1   800.0\n",
              "6  100007000.0     NaN  WASHINGTON          NaN           2.0   HURLEY   950.0\n",
              "7  100008000.0   213.0     TREMONT            Y           1.0        1     NaN\n",
              "8  100009000.0   215.0     TREMONT            Y           NaN        2  1800.0"
            ]
          },
          "metadata": {
            "tags": []
          },
          "execution_count": 17
        }
      ]
    },
    {
      "cell_type": "code",
      "metadata": {
        "colab": {
          "base_uri": "https://localhost:8080/",
          "height": 328
        },
        "id": "fBLEXP11ODAI",
        "outputId": "a044b323-e5a2-4da1-da08-36dd2a0ded33"
      },
      "source": [
        "df.dropna(axis=1)"
      ],
      "execution_count": null,
      "outputs": [
        {
          "output_type": "execute_result",
          "data": {
            "text/html": [
              "<div>\n",
              "<style scoped>\n",
              "    .dataframe tbody tr th:only-of-type {\n",
              "        vertical-align: middle;\n",
              "    }\n",
              "\n",
              "    .dataframe tbody tr th {\n",
              "        vertical-align: top;\n",
              "    }\n",
              "\n",
              "    .dataframe thead th {\n",
              "        text-align: right;\n",
              "    }\n",
              "</style>\n",
              "<table border=\"1\" class=\"dataframe\">\n",
              "  <thead>\n",
              "    <tr style=\"text-align: right;\">\n",
              "      <th></th>\n",
              "      <th>ST_NAME</th>\n",
              "    </tr>\n",
              "  </thead>\n",
              "  <tbody>\n",
              "    <tr>\n",
              "      <th>0</th>\n",
              "      <td>PUTNAM</td>\n",
              "    </tr>\n",
              "    <tr>\n",
              "      <th>1</th>\n",
              "      <td>LEXINGTON</td>\n",
              "    </tr>\n",
              "    <tr>\n",
              "      <th>2</th>\n",
              "      <td>LEXINGTON</td>\n",
              "    </tr>\n",
              "    <tr>\n",
              "      <th>3</th>\n",
              "      <td>BERKELEY</td>\n",
              "    </tr>\n",
              "    <tr>\n",
              "      <th>4</th>\n",
              "      <td>BERKELEY</td>\n",
              "    </tr>\n",
              "    <tr>\n",
              "      <th>5</th>\n",
              "      <td>BERKELEY</td>\n",
              "    </tr>\n",
              "    <tr>\n",
              "      <th>6</th>\n",
              "      <td>WASHINGTON</td>\n",
              "    </tr>\n",
              "    <tr>\n",
              "      <th>7</th>\n",
              "      <td>TREMONT</td>\n",
              "    </tr>\n",
              "    <tr>\n",
              "      <th>8</th>\n",
              "      <td>TREMONT</td>\n",
              "    </tr>\n",
              "  </tbody>\n",
              "</table>\n",
              "</div>"
            ],
            "text/plain": [
              "      ST_NAME\n",
              "0      PUTNAM\n",
              "1   LEXINGTON\n",
              "2   LEXINGTON\n",
              "3    BERKELEY\n",
              "4    BERKELEY\n",
              "5    BERKELEY\n",
              "6  WASHINGTON\n",
              "7     TREMONT\n",
              "8     TREMONT"
            ]
          },
          "metadata": {
            "tags": []
          },
          "execution_count": 20
        }
      ]
    },
    {
      "cell_type": "code",
      "metadata": {
        "colab": {
          "base_uri": "https://localhost:8080/",
          "height": 328
        },
        "id": "4H_EMrdwOiyx",
        "outputId": "3bc7d30e-c811-4e84-e18b-d48a8abbe0ff"
      },
      "source": [
        "df"
      ],
      "execution_count": null,
      "outputs": [
        {
          "output_type": "execute_result",
          "data": {
            "text/html": [
              "<div>\n",
              "<style scoped>\n",
              "    .dataframe tbody tr th:only-of-type {\n",
              "        vertical-align: middle;\n",
              "    }\n",
              "\n",
              "    .dataframe tbody tr th {\n",
              "        vertical-align: top;\n",
              "    }\n",
              "\n",
              "    .dataframe thead th {\n",
              "        text-align: right;\n",
              "    }\n",
              "</style>\n",
              "<table border=\"1\" class=\"dataframe\">\n",
              "  <thead>\n",
              "    <tr style=\"text-align: right;\">\n",
              "      <th></th>\n",
              "      <th>PID</th>\n",
              "      <th>ST_NUM</th>\n",
              "      <th>ST_NAME</th>\n",
              "      <th>OWN_OCCUPIED</th>\n",
              "      <th>NUM_BEDROOMS</th>\n",
              "      <th>NUM_BATH</th>\n",
              "      <th>SQ_FT</th>\n",
              "    </tr>\n",
              "  </thead>\n",
              "  <tbody>\n",
              "    <tr>\n",
              "      <th>0</th>\n",
              "      <td>100001000.0</td>\n",
              "      <td>104.0</td>\n",
              "      <td>PUTNAM</td>\n",
              "      <td>Y</td>\n",
              "      <td>3.0</td>\n",
              "      <td>1</td>\n",
              "      <td>1000.0</td>\n",
              "    </tr>\n",
              "    <tr>\n",
              "      <th>1</th>\n",
              "      <td>100002000.0</td>\n",
              "      <td>197.0</td>\n",
              "      <td>LEXINGTON</td>\n",
              "      <td>N</td>\n",
              "      <td>3.0</td>\n",
              "      <td>1.5</td>\n",
              "      <td>NaN</td>\n",
              "    </tr>\n",
              "    <tr>\n",
              "      <th>2</th>\n",
              "      <td>100003000.0</td>\n",
              "      <td>NaN</td>\n",
              "      <td>LEXINGTON</td>\n",
              "      <td>N</td>\n",
              "      <td>NaN</td>\n",
              "      <td>1</td>\n",
              "      <td>850.0</td>\n",
              "    </tr>\n",
              "    <tr>\n",
              "      <th>3</th>\n",
              "      <td>100004000.0</td>\n",
              "      <td>201.0</td>\n",
              "      <td>BERKELEY</td>\n",
              "      <td>12</td>\n",
              "      <td>1.0</td>\n",
              "      <td>NaN</td>\n",
              "      <td>700.0</td>\n",
              "    </tr>\n",
              "    <tr>\n",
              "      <th>4</th>\n",
              "      <td>NaN</td>\n",
              "      <td>203.0</td>\n",
              "      <td>BERKELEY</td>\n",
              "      <td>Y</td>\n",
              "      <td>3.0</td>\n",
              "      <td>2</td>\n",
              "      <td>1600.0</td>\n",
              "    </tr>\n",
              "    <tr>\n",
              "      <th>5</th>\n",
              "      <td>100006000.0</td>\n",
              "      <td>207.0</td>\n",
              "      <td>BERKELEY</td>\n",
              "      <td>Y</td>\n",
              "      <td>NaN</td>\n",
              "      <td>1</td>\n",
              "      <td>800.0</td>\n",
              "    </tr>\n",
              "    <tr>\n",
              "      <th>6</th>\n",
              "      <td>100007000.0</td>\n",
              "      <td>NaN</td>\n",
              "      <td>WASHINGTON</td>\n",
              "      <td>NaN</td>\n",
              "      <td>2.0</td>\n",
              "      <td>HURLEY</td>\n",
              "      <td>950.0</td>\n",
              "    </tr>\n",
              "    <tr>\n",
              "      <th>7</th>\n",
              "      <td>100008000.0</td>\n",
              "      <td>213.0</td>\n",
              "      <td>TREMONT</td>\n",
              "      <td>Y</td>\n",
              "      <td>1.0</td>\n",
              "      <td>1</td>\n",
              "      <td>NaN</td>\n",
              "    </tr>\n",
              "    <tr>\n",
              "      <th>8</th>\n",
              "      <td>100009000.0</td>\n",
              "      <td>215.0</td>\n",
              "      <td>TREMONT</td>\n",
              "      <td>Y</td>\n",
              "      <td>NaN</td>\n",
              "      <td>2</td>\n",
              "      <td>1800.0</td>\n",
              "    </tr>\n",
              "  </tbody>\n",
              "</table>\n",
              "</div>"
            ],
            "text/plain": [
              "           PID  ST_NUM     ST_NAME OWN_OCCUPIED  NUM_BEDROOMS NUM_BATH   SQ_FT\n",
              "0  100001000.0   104.0      PUTNAM            Y           3.0        1  1000.0\n",
              "1  100002000.0   197.0   LEXINGTON            N           3.0      1.5     NaN\n",
              "2  100003000.0     NaN   LEXINGTON            N           NaN        1   850.0\n",
              "3  100004000.0   201.0    BERKELEY           12           1.0      NaN   700.0\n",
              "4          NaN   203.0    BERKELEY            Y           3.0        2  1600.0\n",
              "5  100006000.0   207.0    BERKELEY            Y           NaN        1   800.0\n",
              "6  100007000.0     NaN  WASHINGTON          NaN           2.0   HURLEY   950.0\n",
              "7  100008000.0   213.0     TREMONT            Y           1.0        1     NaN\n",
              "8  100009000.0   215.0     TREMONT            Y           NaN        2  1800.0"
            ]
          },
          "metadata": {
            "tags": []
          },
          "execution_count": 21
        }
      ]
    },
    {
      "cell_type": "code",
      "metadata": {
        "id": "PLnR0ho9OzGv"
      },
      "source": [
        "import numpy as np\n",
        "\n",
        "df['OWN_OCCUPIED']=df['OWN_OCCUPIED'].replace('[0-9]+',np.nan,regex=True)"
      ],
      "execution_count": null,
      "outputs": []
    },
    {
      "cell_type": "code",
      "metadata": {
        "colab": {
          "base_uri": "https://localhost:8080/",
          "height": 328
        },
        "id": "pIas4mccPtSc",
        "outputId": "1a5580d3-b245-4c15-c83b-7b8db0ac4481"
      },
      "source": [
        "df"
      ],
      "execution_count": null,
      "outputs": [
        {
          "output_type": "execute_result",
          "data": {
            "text/html": [
              "<div>\n",
              "<style scoped>\n",
              "    .dataframe tbody tr th:only-of-type {\n",
              "        vertical-align: middle;\n",
              "    }\n",
              "\n",
              "    .dataframe tbody tr th {\n",
              "        vertical-align: top;\n",
              "    }\n",
              "\n",
              "    .dataframe thead th {\n",
              "        text-align: right;\n",
              "    }\n",
              "</style>\n",
              "<table border=\"1\" class=\"dataframe\">\n",
              "  <thead>\n",
              "    <tr style=\"text-align: right;\">\n",
              "      <th></th>\n",
              "      <th>PID</th>\n",
              "      <th>ST_NUM</th>\n",
              "      <th>ST_NAME</th>\n",
              "      <th>OWN_OCCUPIED</th>\n",
              "      <th>NUM_BEDROOMS</th>\n",
              "      <th>NUM_BATH</th>\n",
              "      <th>SQ_FT</th>\n",
              "    </tr>\n",
              "  </thead>\n",
              "  <tbody>\n",
              "    <tr>\n",
              "      <th>0</th>\n",
              "      <td>100001000.0</td>\n",
              "      <td>104.0</td>\n",
              "      <td>PUTNAM</td>\n",
              "      <td>Y</td>\n",
              "      <td>3.0</td>\n",
              "      <td>1</td>\n",
              "      <td>1000.0</td>\n",
              "    </tr>\n",
              "    <tr>\n",
              "      <th>1</th>\n",
              "      <td>100002000.0</td>\n",
              "      <td>197.0</td>\n",
              "      <td>LEXINGTON</td>\n",
              "      <td>N</td>\n",
              "      <td>3.0</td>\n",
              "      <td>1.5</td>\n",
              "      <td>NaN</td>\n",
              "    </tr>\n",
              "    <tr>\n",
              "      <th>2</th>\n",
              "      <td>100003000.0</td>\n",
              "      <td>NaN</td>\n",
              "      <td>LEXINGTON</td>\n",
              "      <td>N</td>\n",
              "      <td>NaN</td>\n",
              "      <td>1</td>\n",
              "      <td>850.0</td>\n",
              "    </tr>\n",
              "    <tr>\n",
              "      <th>3</th>\n",
              "      <td>100004000.0</td>\n",
              "      <td>201.0</td>\n",
              "      <td>BERKELEY</td>\n",
              "      <td>NaN</td>\n",
              "      <td>1.0</td>\n",
              "      <td>NaN</td>\n",
              "      <td>700.0</td>\n",
              "    </tr>\n",
              "    <tr>\n",
              "      <th>4</th>\n",
              "      <td>NaN</td>\n",
              "      <td>203.0</td>\n",
              "      <td>BERKELEY</td>\n",
              "      <td>Y</td>\n",
              "      <td>3.0</td>\n",
              "      <td>2</td>\n",
              "      <td>1600.0</td>\n",
              "    </tr>\n",
              "    <tr>\n",
              "      <th>5</th>\n",
              "      <td>100006000.0</td>\n",
              "      <td>207.0</td>\n",
              "      <td>BERKELEY</td>\n",
              "      <td>Y</td>\n",
              "      <td>NaN</td>\n",
              "      <td>1</td>\n",
              "      <td>800.0</td>\n",
              "    </tr>\n",
              "    <tr>\n",
              "      <th>6</th>\n",
              "      <td>100007000.0</td>\n",
              "      <td>NaN</td>\n",
              "      <td>WASHINGTON</td>\n",
              "      <td>NaN</td>\n",
              "      <td>2.0</td>\n",
              "      <td>HURLEY</td>\n",
              "      <td>950.0</td>\n",
              "    </tr>\n",
              "    <tr>\n",
              "      <th>7</th>\n",
              "      <td>100008000.0</td>\n",
              "      <td>213.0</td>\n",
              "      <td>TREMONT</td>\n",
              "      <td>Y</td>\n",
              "      <td>1.0</td>\n",
              "      <td>1</td>\n",
              "      <td>NaN</td>\n",
              "    </tr>\n",
              "    <tr>\n",
              "      <th>8</th>\n",
              "      <td>100009000.0</td>\n",
              "      <td>215.0</td>\n",
              "      <td>TREMONT</td>\n",
              "      <td>Y</td>\n",
              "      <td>NaN</td>\n",
              "      <td>2</td>\n",
              "      <td>1800.0</td>\n",
              "    </tr>\n",
              "  </tbody>\n",
              "</table>\n",
              "</div>"
            ],
            "text/plain": [
              "           PID  ST_NUM     ST_NAME OWN_OCCUPIED  NUM_BEDROOMS NUM_BATH   SQ_FT\n",
              "0  100001000.0   104.0      PUTNAM            Y           3.0        1  1000.0\n",
              "1  100002000.0   197.0   LEXINGTON            N           3.0      1.5     NaN\n",
              "2  100003000.0     NaN   LEXINGTON            N           NaN        1   850.0\n",
              "3  100004000.0   201.0    BERKELEY          NaN           1.0      NaN   700.0\n",
              "4          NaN   203.0    BERKELEY            Y           3.0        2  1600.0\n",
              "5  100006000.0   207.0    BERKELEY            Y           NaN        1   800.0\n",
              "6  100007000.0     NaN  WASHINGTON          NaN           2.0   HURLEY   950.0\n",
              "7  100008000.0   213.0     TREMONT            Y           1.0        1     NaN\n",
              "8  100009000.0   215.0     TREMONT            Y           NaN        2  1800.0"
            ]
          },
          "metadata": {
            "tags": []
          },
          "execution_count": 26
        }
      ]
    },
    {
      "cell_type": "code",
      "metadata": {
        "id": "AIfyTLKMPzi9"
      },
      "source": [
        "df['NUM_BATH']=df['NUM_BATH'].replace('[A-Za-z]+',np.nan,regex=True)"
      ],
      "execution_count": null,
      "outputs": []
    },
    {
      "cell_type": "code",
      "metadata": {
        "colab": {
          "base_uri": "https://localhost:8080/",
          "height": 328
        },
        "id": "KgS8VbqzQ9na",
        "outputId": "0a471a9f-370b-4ebd-f4a5-0f95e80ed4f4"
      },
      "source": [
        "df"
      ],
      "execution_count": null,
      "outputs": [
        {
          "output_type": "execute_result",
          "data": {
            "text/html": [
              "<div>\n",
              "<style scoped>\n",
              "    .dataframe tbody tr th:only-of-type {\n",
              "        vertical-align: middle;\n",
              "    }\n",
              "\n",
              "    .dataframe tbody tr th {\n",
              "        vertical-align: top;\n",
              "    }\n",
              "\n",
              "    .dataframe thead th {\n",
              "        text-align: right;\n",
              "    }\n",
              "</style>\n",
              "<table border=\"1\" class=\"dataframe\">\n",
              "  <thead>\n",
              "    <tr style=\"text-align: right;\">\n",
              "      <th></th>\n",
              "      <th>PID</th>\n",
              "      <th>ST_NUM</th>\n",
              "      <th>ST_NAME</th>\n",
              "      <th>OWN_OCCUPIED</th>\n",
              "      <th>NUM_BEDROOMS</th>\n",
              "      <th>NUM_BATH</th>\n",
              "      <th>SQ_FT</th>\n",
              "    </tr>\n",
              "  </thead>\n",
              "  <tbody>\n",
              "    <tr>\n",
              "      <th>0</th>\n",
              "      <td>100001000.0</td>\n",
              "      <td>104.0</td>\n",
              "      <td>PUTNAM</td>\n",
              "      <td>Y</td>\n",
              "      <td>3.0</td>\n",
              "      <td>1</td>\n",
              "      <td>1000.0</td>\n",
              "    </tr>\n",
              "    <tr>\n",
              "      <th>1</th>\n",
              "      <td>100002000.0</td>\n",
              "      <td>197.0</td>\n",
              "      <td>LEXINGTON</td>\n",
              "      <td>N</td>\n",
              "      <td>3.0</td>\n",
              "      <td>1.5</td>\n",
              "      <td>NaN</td>\n",
              "    </tr>\n",
              "    <tr>\n",
              "      <th>2</th>\n",
              "      <td>100003000.0</td>\n",
              "      <td>NaN</td>\n",
              "      <td>LEXINGTON</td>\n",
              "      <td>N</td>\n",
              "      <td>NaN</td>\n",
              "      <td>1</td>\n",
              "      <td>850.0</td>\n",
              "    </tr>\n",
              "    <tr>\n",
              "      <th>3</th>\n",
              "      <td>100004000.0</td>\n",
              "      <td>201.0</td>\n",
              "      <td>BERKELEY</td>\n",
              "      <td>12</td>\n",
              "      <td>1.0</td>\n",
              "      <td>NaN</td>\n",
              "      <td>700.0</td>\n",
              "    </tr>\n",
              "    <tr>\n",
              "      <th>4</th>\n",
              "      <td>NaN</td>\n",
              "      <td>203.0</td>\n",
              "      <td>BERKELEY</td>\n",
              "      <td>Y</td>\n",
              "      <td>3.0</td>\n",
              "      <td>2</td>\n",
              "      <td>1600.0</td>\n",
              "    </tr>\n",
              "    <tr>\n",
              "      <th>5</th>\n",
              "      <td>100006000.0</td>\n",
              "      <td>207.0</td>\n",
              "      <td>BERKELEY</td>\n",
              "      <td>Y</td>\n",
              "      <td>NaN</td>\n",
              "      <td>1</td>\n",
              "      <td>800.0</td>\n",
              "    </tr>\n",
              "    <tr>\n",
              "      <th>6</th>\n",
              "      <td>100007000.0</td>\n",
              "      <td>NaN</td>\n",
              "      <td>WASHINGTON</td>\n",
              "      <td>NaN</td>\n",
              "      <td>2.0</td>\n",
              "      <td>NaN</td>\n",
              "      <td>950.0</td>\n",
              "    </tr>\n",
              "    <tr>\n",
              "      <th>7</th>\n",
              "      <td>100008000.0</td>\n",
              "      <td>213.0</td>\n",
              "      <td>TREMONT</td>\n",
              "      <td>Y</td>\n",
              "      <td>1.0</td>\n",
              "      <td>1</td>\n",
              "      <td>NaN</td>\n",
              "    </tr>\n",
              "    <tr>\n",
              "      <th>8</th>\n",
              "      <td>100009000.0</td>\n",
              "      <td>215.0</td>\n",
              "      <td>TREMONT</td>\n",
              "      <td>Y</td>\n",
              "      <td>NaN</td>\n",
              "      <td>2</td>\n",
              "      <td>1800.0</td>\n",
              "    </tr>\n",
              "  </tbody>\n",
              "</table>\n",
              "</div>"
            ],
            "text/plain": [
              "           PID  ST_NUM     ST_NAME OWN_OCCUPIED  NUM_BEDROOMS NUM_BATH   SQ_FT\n",
              "0  100001000.0   104.0      PUTNAM            Y           3.0        1  1000.0\n",
              "1  100002000.0   197.0   LEXINGTON            N           3.0      1.5     NaN\n",
              "2  100003000.0     NaN   LEXINGTON            N           NaN        1   850.0\n",
              "3  100004000.0   201.0    BERKELEY           12           1.0      NaN   700.0\n",
              "4          NaN   203.0    BERKELEY            Y           3.0        2  1600.0\n",
              "5  100006000.0   207.0    BERKELEY            Y           NaN        1   800.0\n",
              "6  100007000.0     NaN  WASHINGTON          NaN           2.0      NaN   950.0\n",
              "7  100008000.0   213.0     TREMONT            Y           1.0        1     NaN\n",
              "8  100009000.0   215.0     TREMONT            Y           NaN        2  1800.0"
            ]
          },
          "metadata": {
            "tags": []
          },
          "execution_count": 43
        }
      ]
    },
    {
      "cell_type": "code",
      "metadata": {
        "id": "cZnIjuM5Q-W1"
      },
      "source": [
        "mean=df['NUM_BATH'].mean()"
      ],
      "execution_count": null,
      "outputs": []
    },
    {
      "cell_type": "code",
      "metadata": {
        "colab": {
          "base_uri": "https://localhost:8080/"
        },
        "id": "A5WJlMNgTD4j",
        "outputId": "d138d2bd-e640-4058-d9ff-0cafe1839fc3"
      },
      "source": [
        "df['NUM_BATH'].fillna(mean)"
      ],
      "execution_count": null,
      "outputs": [
        {
          "output_type": "execute_result",
          "data": {
            "text/plain": [
              "0    1.000000\n",
              "1    1.500000\n",
              "2    1.000000\n",
              "3    1.357143\n",
              "4    2.000000\n",
              "5    1.000000\n",
              "6    1.357143\n",
              "7    1.000000\n",
              "8    2.000000\n",
              "Name: NUM_BATH, dtype: float64"
            ]
          },
          "metadata": {
            "tags": []
          },
          "execution_count": 46
        }
      ]
    },
    {
      "cell_type": "code",
      "metadata": {
        "colab": {
          "base_uri": "https://localhost:8080/"
        },
        "id": "D9Ppvd2ERG_n",
        "outputId": "711b238d-f0b1-4386-b763-225562bd06dd"
      },
      "source": [
        "df.dtypes"
      ],
      "execution_count": null,
      "outputs": [
        {
          "output_type": "execute_result",
          "data": {
            "text/plain": [
              "PID             float64\n",
              "ST_NUM          float64\n",
              "ST_NAME          object\n",
              "OWN_OCCUPIED     object\n",
              "NUM_BEDROOMS    float64\n",
              "NUM_BATH         object\n",
              "SQ_FT           float64\n",
              "dtype: object"
            ]
          },
          "metadata": {
            "tags": []
          },
          "execution_count": 30
        }
      ]
    },
    {
      "cell_type": "code",
      "metadata": {
        "id": "tKGc86T_RJ4m"
      },
      "source": [
        "df['NUM_BATH']=df['NUM_BATH'].astype(float)"
      ],
      "execution_count": null,
      "outputs": []
    },
    {
      "cell_type": "code",
      "metadata": {
        "colab": {
          "base_uri": "https://localhost:8080/"
        },
        "id": "vW77nf4qRap4",
        "outputId": "c2a6d2e9-22dc-48e8-c98c-72dee69380b4"
      },
      "source": [
        "df.dtypes"
      ],
      "execution_count": null,
      "outputs": [
        {
          "output_type": "execute_result",
          "data": {
            "text/plain": [
              "PID             float64\n",
              "ST_NUM          float64\n",
              "ST_NAME          object\n",
              "OWN_OCCUPIED     object\n",
              "NUM_BEDROOMS    float64\n",
              "NUM_BATH        float64\n",
              "SQ_FT           float64\n",
              "dtype: object"
            ]
          },
          "metadata": {
            "tags": []
          },
          "execution_count": 36
        }
      ]
    },
    {
      "cell_type": "code",
      "metadata": {
        "colab": {
          "base_uri": "https://localhost:8080/"
        },
        "id": "BmOIa8eKSgTn",
        "outputId": "5c9c3c76-0d8d-4f8d-8632-7d66eef75fa4"
      },
      "source": [
        "df['NUM_BATH'].fillna(1.5)"
      ],
      "execution_count": null,
      "outputs": [
        {
          "output_type": "execute_result",
          "data": {
            "text/plain": [
              "0         1\n",
              "1       1.5\n",
              "2         1\n",
              "3       1.5\n",
              "4         2\n",
              "5         1\n",
              "6    HURLEY\n",
              "7         1\n",
              "8         2\n",
              "Name: NUM_BATH, dtype: object"
            ]
          },
          "metadata": {
            "tags": []
          },
          "execution_count": 38
        }
      ]
    },
    {
      "cell_type": "code",
      "metadata": {
        "colab": {
          "base_uri": "https://localhost:8080/",
          "height": 328
        },
        "id": "bVCtMAXJS4iC",
        "outputId": "abccfb41-b6bf-49b0-caa9-04dc6b019ec1"
      },
      "source": [
        "df"
      ],
      "execution_count": null,
      "outputs": [
        {
          "output_type": "execute_result",
          "data": {
            "text/html": [
              "<div>\n",
              "<style scoped>\n",
              "    .dataframe tbody tr th:only-of-type {\n",
              "        vertical-align: middle;\n",
              "    }\n",
              "\n",
              "    .dataframe tbody tr th {\n",
              "        vertical-align: top;\n",
              "    }\n",
              "\n",
              "    .dataframe thead th {\n",
              "        text-align: right;\n",
              "    }\n",
              "</style>\n",
              "<table border=\"1\" class=\"dataframe\">\n",
              "  <thead>\n",
              "    <tr style=\"text-align: right;\">\n",
              "      <th></th>\n",
              "      <th>PID</th>\n",
              "      <th>ST_NUM</th>\n",
              "      <th>ST_NAME</th>\n",
              "      <th>OWN_OCCUPIED</th>\n",
              "      <th>NUM_BEDROOMS</th>\n",
              "      <th>NUM_BATH</th>\n",
              "      <th>SQ_FT</th>\n",
              "    </tr>\n",
              "  </thead>\n",
              "  <tbody>\n",
              "    <tr>\n",
              "      <th>0</th>\n",
              "      <td>100001000.0</td>\n",
              "      <td>104.0</td>\n",
              "      <td>PUTNAM</td>\n",
              "      <td>Y</td>\n",
              "      <td>3.0</td>\n",
              "      <td>1</td>\n",
              "      <td>1000.0</td>\n",
              "    </tr>\n",
              "    <tr>\n",
              "      <th>1</th>\n",
              "      <td>100002000.0</td>\n",
              "      <td>197.0</td>\n",
              "      <td>LEXINGTON</td>\n",
              "      <td>N</td>\n",
              "      <td>3.0</td>\n",
              "      <td>1.5</td>\n",
              "      <td>NaN</td>\n",
              "    </tr>\n",
              "    <tr>\n",
              "      <th>2</th>\n",
              "      <td>100003000.0</td>\n",
              "      <td>NaN</td>\n",
              "      <td>LEXINGTON</td>\n",
              "      <td>N</td>\n",
              "      <td>NaN</td>\n",
              "      <td>1</td>\n",
              "      <td>850.0</td>\n",
              "    </tr>\n",
              "    <tr>\n",
              "      <th>3</th>\n",
              "      <td>100004000.0</td>\n",
              "      <td>201.0</td>\n",
              "      <td>BERKELEY</td>\n",
              "      <td>12</td>\n",
              "      <td>1.0</td>\n",
              "      <td>NaN</td>\n",
              "      <td>700.0</td>\n",
              "    </tr>\n",
              "    <tr>\n",
              "      <th>4</th>\n",
              "      <td>NaN</td>\n",
              "      <td>203.0</td>\n",
              "      <td>BERKELEY</td>\n",
              "      <td>Y</td>\n",
              "      <td>3.0</td>\n",
              "      <td>2</td>\n",
              "      <td>1600.0</td>\n",
              "    </tr>\n",
              "    <tr>\n",
              "      <th>5</th>\n",
              "      <td>100006000.0</td>\n",
              "      <td>207.0</td>\n",
              "      <td>BERKELEY</td>\n",
              "      <td>Y</td>\n",
              "      <td>NaN</td>\n",
              "      <td>1</td>\n",
              "      <td>800.0</td>\n",
              "    </tr>\n",
              "    <tr>\n",
              "      <th>6</th>\n",
              "      <td>100007000.0</td>\n",
              "      <td>NaN</td>\n",
              "      <td>WASHINGTON</td>\n",
              "      <td>NaN</td>\n",
              "      <td>2.0</td>\n",
              "      <td>HURLEY</td>\n",
              "      <td>950.0</td>\n",
              "    </tr>\n",
              "    <tr>\n",
              "      <th>7</th>\n",
              "      <td>100008000.0</td>\n",
              "      <td>213.0</td>\n",
              "      <td>TREMONT</td>\n",
              "      <td>Y</td>\n",
              "      <td>1.0</td>\n",
              "      <td>1</td>\n",
              "      <td>NaN</td>\n",
              "    </tr>\n",
              "    <tr>\n",
              "      <th>8</th>\n",
              "      <td>100009000.0</td>\n",
              "      <td>215.0</td>\n",
              "      <td>TREMONT</td>\n",
              "      <td>Y</td>\n",
              "      <td>NaN</td>\n",
              "      <td>2</td>\n",
              "      <td>1800.0</td>\n",
              "    </tr>\n",
              "  </tbody>\n",
              "</table>\n",
              "</div>"
            ],
            "text/plain": [
              "           PID  ST_NUM     ST_NAME OWN_OCCUPIED  NUM_BEDROOMS NUM_BATH   SQ_FT\n",
              "0  100001000.0   104.0      PUTNAM            Y           3.0        1  1000.0\n",
              "1  100002000.0   197.0   LEXINGTON            N           3.0      1.5     NaN\n",
              "2  100003000.0     NaN   LEXINGTON            N           NaN        1   850.0\n",
              "3  100004000.0   201.0    BERKELEY           12           1.0      NaN   700.0\n",
              "4          NaN   203.0    BERKELEY            Y           3.0        2  1600.0\n",
              "5  100006000.0   207.0    BERKELEY            Y           NaN        1   800.0\n",
              "6  100007000.0     NaN  WASHINGTON          NaN           2.0   HURLEY   950.0\n",
              "7  100008000.0   213.0     TREMONT            Y           1.0        1     NaN\n",
              "8  100009000.0   215.0     TREMONT            Y           NaN        2  1800.0"
            ]
          },
          "metadata": {
            "tags": []
          },
          "execution_count": 39
        }
      ]
    },
    {
      "cell_type": "code",
      "metadata": {
        "id": "eWkon2f7S6Z7"
      },
      "source": [
        "df.fillna(df.mean(),inplace=True)"
      ],
      "execution_count": null,
      "outputs": []
    },
    {
      "cell_type": "markdown",
      "metadata": {
        "id": "N2zDqEWtU2RO"
      },
      "source": [
        "# SORT"
      ]
    },
    {
      "cell_type": "code",
      "metadata": {
        "id": "gUINoYVYU4bo"
      },
      "source": [
        "df=pd.read_csv('http://bit.ly/2cLzoxH')"
      ],
      "execution_count": null,
      "outputs": []
    },
    {
      "cell_type": "code",
      "metadata": {
        "colab": {
          "base_uri": "https://localhost:8080/",
          "height": 204
        },
        "id": "dz1WmOF5WTZr",
        "outputId": "b02a743b-4bc2-4688-ff1c-0277d8d24723"
      },
      "source": [
        "df.head()"
      ],
      "execution_count": null,
      "outputs": [
        {
          "output_type": "execute_result",
          "data": {
            "text/html": [
              "<div>\n",
              "<style scoped>\n",
              "    .dataframe tbody tr th:only-of-type {\n",
              "        vertical-align: middle;\n",
              "    }\n",
              "\n",
              "    .dataframe tbody tr th {\n",
              "        vertical-align: top;\n",
              "    }\n",
              "\n",
              "    .dataframe thead th {\n",
              "        text-align: right;\n",
              "    }\n",
              "</style>\n",
              "<table border=\"1\" class=\"dataframe\">\n",
              "  <thead>\n",
              "    <tr style=\"text-align: right;\">\n",
              "      <th></th>\n",
              "      <th>country</th>\n",
              "      <th>year</th>\n",
              "      <th>pop</th>\n",
              "      <th>continent</th>\n",
              "      <th>lifeExp</th>\n",
              "      <th>gdpPercap</th>\n",
              "    </tr>\n",
              "  </thead>\n",
              "  <tbody>\n",
              "    <tr>\n",
              "      <th>0</th>\n",
              "      <td>Afghanistan</td>\n",
              "      <td>1952</td>\n",
              "      <td>8425333.0</td>\n",
              "      <td>Asia</td>\n",
              "      <td>28.801</td>\n",
              "      <td>779.445314</td>\n",
              "    </tr>\n",
              "    <tr>\n",
              "      <th>1</th>\n",
              "      <td>Afghanistan</td>\n",
              "      <td>1957</td>\n",
              "      <td>9240934.0</td>\n",
              "      <td>Asia</td>\n",
              "      <td>30.332</td>\n",
              "      <td>820.853030</td>\n",
              "    </tr>\n",
              "    <tr>\n",
              "      <th>2</th>\n",
              "      <td>Afghanistan</td>\n",
              "      <td>1962</td>\n",
              "      <td>10267083.0</td>\n",
              "      <td>Asia</td>\n",
              "      <td>31.997</td>\n",
              "      <td>853.100710</td>\n",
              "    </tr>\n",
              "    <tr>\n",
              "      <th>3</th>\n",
              "      <td>Afghanistan</td>\n",
              "      <td>1967</td>\n",
              "      <td>11537966.0</td>\n",
              "      <td>Asia</td>\n",
              "      <td>34.020</td>\n",
              "      <td>836.197138</td>\n",
              "    </tr>\n",
              "    <tr>\n",
              "      <th>4</th>\n",
              "      <td>Afghanistan</td>\n",
              "      <td>1972</td>\n",
              "      <td>13079460.0</td>\n",
              "      <td>Asia</td>\n",
              "      <td>36.088</td>\n",
              "      <td>739.981106</td>\n",
              "    </tr>\n",
              "  </tbody>\n",
              "</table>\n",
              "</div>"
            ],
            "text/plain": [
              "       country  year         pop continent  lifeExp   gdpPercap\n",
              "0  Afghanistan  1952   8425333.0      Asia   28.801  779.445314\n",
              "1  Afghanistan  1957   9240934.0      Asia   30.332  820.853030\n",
              "2  Afghanistan  1962  10267083.0      Asia   31.997  853.100710\n",
              "3  Afghanistan  1967  11537966.0      Asia   34.020  836.197138\n",
              "4  Afghanistan  1972  13079460.0      Asia   36.088  739.981106"
            ]
          },
          "metadata": {
            "tags": []
          },
          "execution_count": 48
        }
      ]
    },
    {
      "cell_type": "code",
      "metadata": {
        "colab": {
          "base_uri": "https://localhost:8080/",
          "height": 419
        },
        "id": "qnav28QhWUdX",
        "outputId": "97a0e4a3-4e34-4c73-a743-14e46929731c"
      },
      "source": [
        "df.sort_values('lifeExp')"
      ],
      "execution_count": null,
      "outputs": [
        {
          "output_type": "execute_result",
          "data": {
            "text/html": [
              "<div>\n",
              "<style scoped>\n",
              "    .dataframe tbody tr th:only-of-type {\n",
              "        vertical-align: middle;\n",
              "    }\n",
              "\n",
              "    .dataframe tbody tr th {\n",
              "        vertical-align: top;\n",
              "    }\n",
              "\n",
              "    .dataframe thead th {\n",
              "        text-align: right;\n",
              "    }\n",
              "</style>\n",
              "<table border=\"1\" class=\"dataframe\">\n",
              "  <thead>\n",
              "    <tr style=\"text-align: right;\">\n",
              "      <th></th>\n",
              "      <th>country</th>\n",
              "      <th>year</th>\n",
              "      <th>pop</th>\n",
              "      <th>continent</th>\n",
              "      <th>lifeExp</th>\n",
              "      <th>gdpPercap</th>\n",
              "    </tr>\n",
              "  </thead>\n",
              "  <tbody>\n",
              "    <tr>\n",
              "      <th>1292</th>\n",
              "      <td>Rwanda</td>\n",
              "      <td>1992</td>\n",
              "      <td>7290203.0</td>\n",
              "      <td>Africa</td>\n",
              "      <td>23.599</td>\n",
              "      <td>737.068595</td>\n",
              "    </tr>\n",
              "    <tr>\n",
              "      <th>0</th>\n",
              "      <td>Afghanistan</td>\n",
              "      <td>1952</td>\n",
              "      <td>8425333.0</td>\n",
              "      <td>Asia</td>\n",
              "      <td>28.801</td>\n",
              "      <td>779.445314</td>\n",
              "    </tr>\n",
              "    <tr>\n",
              "      <th>552</th>\n",
              "      <td>Gambia</td>\n",
              "      <td>1952</td>\n",
              "      <td>284320.0</td>\n",
              "      <td>Africa</td>\n",
              "      <td>30.000</td>\n",
              "      <td>485.230659</td>\n",
              "    </tr>\n",
              "    <tr>\n",
              "      <th>36</th>\n",
              "      <td>Angola</td>\n",
              "      <td>1952</td>\n",
              "      <td>4232095.0</td>\n",
              "      <td>Africa</td>\n",
              "      <td>30.015</td>\n",
              "      <td>3520.610273</td>\n",
              "    </tr>\n",
              "    <tr>\n",
              "      <th>1344</th>\n",
              "      <td>Sierra Leone</td>\n",
              "      <td>1952</td>\n",
              "      <td>2143249.0</td>\n",
              "      <td>Africa</td>\n",
              "      <td>30.331</td>\n",
              "      <td>879.787736</td>\n",
              "    </tr>\n",
              "    <tr>\n",
              "      <th>...</th>\n",
              "      <td>...</td>\n",
              "      <td>...</td>\n",
              "      <td>...</td>\n",
              "      <td>...</td>\n",
              "      <td>...</td>\n",
              "      <td>...</td>\n",
              "    </tr>\n",
              "    <tr>\n",
              "      <th>1487</th>\n",
              "      <td>Switzerland</td>\n",
              "      <td>2007</td>\n",
              "      <td>7554661.0</td>\n",
              "      <td>Europe</td>\n",
              "      <td>81.701</td>\n",
              "      <td>37506.419070</td>\n",
              "    </tr>\n",
              "    <tr>\n",
              "      <th>695</th>\n",
              "      <td>Iceland</td>\n",
              "      <td>2007</td>\n",
              "      <td>301931.0</td>\n",
              "      <td>Europe</td>\n",
              "      <td>81.757</td>\n",
              "      <td>36180.789190</td>\n",
              "    </tr>\n",
              "    <tr>\n",
              "      <th>802</th>\n",
              "      <td>Japan</td>\n",
              "      <td>2002</td>\n",
              "      <td>127065841.0</td>\n",
              "      <td>Asia</td>\n",
              "      <td>82.000</td>\n",
              "      <td>28604.591900</td>\n",
              "    </tr>\n",
              "    <tr>\n",
              "      <th>671</th>\n",
              "      <td>Hong Kong China</td>\n",
              "      <td>2007</td>\n",
              "      <td>6980412.0</td>\n",
              "      <td>Asia</td>\n",
              "      <td>82.208</td>\n",
              "      <td>39724.978670</td>\n",
              "    </tr>\n",
              "    <tr>\n",
              "      <th>803</th>\n",
              "      <td>Japan</td>\n",
              "      <td>2007</td>\n",
              "      <td>127467972.0</td>\n",
              "      <td>Asia</td>\n",
              "      <td>82.603</td>\n",
              "      <td>31656.068060</td>\n",
              "    </tr>\n",
              "  </tbody>\n",
              "</table>\n",
              "<p>1704 rows × 6 columns</p>\n",
              "</div>"
            ],
            "text/plain": [
              "              country  year          pop continent  lifeExp     gdpPercap\n",
              "1292           Rwanda  1992    7290203.0    Africa   23.599    737.068595\n",
              "0         Afghanistan  1952    8425333.0      Asia   28.801    779.445314\n",
              "552            Gambia  1952     284320.0    Africa   30.000    485.230659\n",
              "36             Angola  1952    4232095.0    Africa   30.015   3520.610273\n",
              "1344     Sierra Leone  1952    2143249.0    Africa   30.331    879.787736\n",
              "...               ...   ...          ...       ...      ...           ...\n",
              "1487      Switzerland  2007    7554661.0    Europe   81.701  37506.419070\n",
              "695           Iceland  2007     301931.0    Europe   81.757  36180.789190\n",
              "802             Japan  2002  127065841.0      Asia   82.000  28604.591900\n",
              "671   Hong Kong China  2007    6980412.0      Asia   82.208  39724.978670\n",
              "803             Japan  2007  127467972.0      Asia   82.603  31656.068060\n",
              "\n",
              "[1704 rows x 6 columns]"
            ]
          },
          "metadata": {
            "tags": []
          },
          "execution_count": 49
        }
      ]
    },
    {
      "cell_type": "code",
      "metadata": {
        "colab": {
          "base_uri": "https://localhost:8080/",
          "height": 204
        },
        "id": "YvH1ZoQmWtAt",
        "outputId": "aaebbe5e-9b05-4596-f5bc-cd4436e10f2d"
      },
      "source": [
        "df.head()"
      ],
      "execution_count": null,
      "outputs": [
        {
          "output_type": "execute_result",
          "data": {
            "text/html": [
              "<div>\n",
              "<style scoped>\n",
              "    .dataframe tbody tr th:only-of-type {\n",
              "        vertical-align: middle;\n",
              "    }\n",
              "\n",
              "    .dataframe tbody tr th {\n",
              "        vertical-align: top;\n",
              "    }\n",
              "\n",
              "    .dataframe thead th {\n",
              "        text-align: right;\n",
              "    }\n",
              "</style>\n",
              "<table border=\"1\" class=\"dataframe\">\n",
              "  <thead>\n",
              "    <tr style=\"text-align: right;\">\n",
              "      <th></th>\n",
              "      <th>country</th>\n",
              "      <th>year</th>\n",
              "      <th>pop</th>\n",
              "      <th>continent</th>\n",
              "      <th>lifeExp</th>\n",
              "      <th>gdpPercap</th>\n",
              "    </tr>\n",
              "  </thead>\n",
              "  <tbody>\n",
              "    <tr>\n",
              "      <th>0</th>\n",
              "      <td>Afghanistan</td>\n",
              "      <td>1952</td>\n",
              "      <td>8425333.0</td>\n",
              "      <td>Asia</td>\n",
              "      <td>28.801</td>\n",
              "      <td>779.445314</td>\n",
              "    </tr>\n",
              "    <tr>\n",
              "      <th>1</th>\n",
              "      <td>Afghanistan</td>\n",
              "      <td>1957</td>\n",
              "      <td>9240934.0</td>\n",
              "      <td>Asia</td>\n",
              "      <td>30.332</td>\n",
              "      <td>820.853030</td>\n",
              "    </tr>\n",
              "    <tr>\n",
              "      <th>2</th>\n",
              "      <td>Afghanistan</td>\n",
              "      <td>1962</td>\n",
              "      <td>10267083.0</td>\n",
              "      <td>Asia</td>\n",
              "      <td>31.997</td>\n",
              "      <td>853.100710</td>\n",
              "    </tr>\n",
              "    <tr>\n",
              "      <th>3</th>\n",
              "      <td>Afghanistan</td>\n",
              "      <td>1967</td>\n",
              "      <td>11537966.0</td>\n",
              "      <td>Asia</td>\n",
              "      <td>34.020</td>\n",
              "      <td>836.197138</td>\n",
              "    </tr>\n",
              "    <tr>\n",
              "      <th>4</th>\n",
              "      <td>Afghanistan</td>\n",
              "      <td>1972</td>\n",
              "      <td>13079460.0</td>\n",
              "      <td>Asia</td>\n",
              "      <td>36.088</td>\n",
              "      <td>739.981106</td>\n",
              "    </tr>\n",
              "  </tbody>\n",
              "</table>\n",
              "</div>"
            ],
            "text/plain": [
              "       country  year         pop continent  lifeExp   gdpPercap\n",
              "0  Afghanistan  1952   8425333.0      Asia   28.801  779.445314\n",
              "1  Afghanistan  1957   9240934.0      Asia   30.332  820.853030\n",
              "2  Afghanistan  1962  10267083.0      Asia   31.997  853.100710\n",
              "3  Afghanistan  1967  11537966.0      Asia   34.020  836.197138\n",
              "4  Afghanistan  1972  13079460.0      Asia   36.088  739.981106"
            ]
          },
          "metadata": {
            "tags": []
          },
          "execution_count": 50
        }
      ]
    },
    {
      "cell_type": "code",
      "metadata": {
        "colab": {
          "base_uri": "https://localhost:8080/",
          "height": 419
        },
        "id": "U22UFHb3W2fo",
        "outputId": "b5205a64-beff-46e8-e9cc-89c5a081abda"
      },
      "source": [
        "df.sort_values('lifeExp',ascending=False)"
      ],
      "execution_count": null,
      "outputs": [
        {
          "output_type": "execute_result",
          "data": {
            "text/html": [
              "<div>\n",
              "<style scoped>\n",
              "    .dataframe tbody tr th:only-of-type {\n",
              "        vertical-align: middle;\n",
              "    }\n",
              "\n",
              "    .dataframe tbody tr th {\n",
              "        vertical-align: top;\n",
              "    }\n",
              "\n",
              "    .dataframe thead th {\n",
              "        text-align: right;\n",
              "    }\n",
              "</style>\n",
              "<table border=\"1\" class=\"dataframe\">\n",
              "  <thead>\n",
              "    <tr style=\"text-align: right;\">\n",
              "      <th></th>\n",
              "      <th>country</th>\n",
              "      <th>year</th>\n",
              "      <th>pop</th>\n",
              "      <th>continent</th>\n",
              "      <th>lifeExp</th>\n",
              "      <th>gdpPercap</th>\n",
              "    </tr>\n",
              "  </thead>\n",
              "  <tbody>\n",
              "    <tr>\n",
              "      <th>803</th>\n",
              "      <td>Japan</td>\n",
              "      <td>2007</td>\n",
              "      <td>127467972.0</td>\n",
              "      <td>Asia</td>\n",
              "      <td>82.603</td>\n",
              "      <td>31656.068060</td>\n",
              "    </tr>\n",
              "    <tr>\n",
              "      <th>671</th>\n",
              "      <td>Hong Kong China</td>\n",
              "      <td>2007</td>\n",
              "      <td>6980412.0</td>\n",
              "      <td>Asia</td>\n",
              "      <td>82.208</td>\n",
              "      <td>39724.978670</td>\n",
              "    </tr>\n",
              "    <tr>\n",
              "      <th>802</th>\n",
              "      <td>Japan</td>\n",
              "      <td>2002</td>\n",
              "      <td>127065841.0</td>\n",
              "      <td>Asia</td>\n",
              "      <td>82.000</td>\n",
              "      <td>28604.591900</td>\n",
              "    </tr>\n",
              "    <tr>\n",
              "      <th>695</th>\n",
              "      <td>Iceland</td>\n",
              "      <td>2007</td>\n",
              "      <td>301931.0</td>\n",
              "      <td>Europe</td>\n",
              "      <td>81.757</td>\n",
              "      <td>36180.789190</td>\n",
              "    </tr>\n",
              "    <tr>\n",
              "      <th>1487</th>\n",
              "      <td>Switzerland</td>\n",
              "      <td>2007</td>\n",
              "      <td>7554661.0</td>\n",
              "      <td>Europe</td>\n",
              "      <td>81.701</td>\n",
              "      <td>37506.419070</td>\n",
              "    </tr>\n",
              "    <tr>\n",
              "      <th>...</th>\n",
              "      <td>...</td>\n",
              "      <td>...</td>\n",
              "      <td>...</td>\n",
              "      <td>...</td>\n",
              "      <td>...</td>\n",
              "      <td>...</td>\n",
              "    </tr>\n",
              "    <tr>\n",
              "      <th>1344</th>\n",
              "      <td>Sierra Leone</td>\n",
              "      <td>1952</td>\n",
              "      <td>2143249.0</td>\n",
              "      <td>Africa</td>\n",
              "      <td>30.331</td>\n",
              "      <td>879.787736</td>\n",
              "    </tr>\n",
              "    <tr>\n",
              "      <th>36</th>\n",
              "      <td>Angola</td>\n",
              "      <td>1952</td>\n",
              "      <td>4232095.0</td>\n",
              "      <td>Africa</td>\n",
              "      <td>30.015</td>\n",
              "      <td>3520.610273</td>\n",
              "    </tr>\n",
              "    <tr>\n",
              "      <th>552</th>\n",
              "      <td>Gambia</td>\n",
              "      <td>1952</td>\n",
              "      <td>284320.0</td>\n",
              "      <td>Africa</td>\n",
              "      <td>30.000</td>\n",
              "      <td>485.230659</td>\n",
              "    </tr>\n",
              "    <tr>\n",
              "      <th>0</th>\n",
              "      <td>Afghanistan</td>\n",
              "      <td>1952</td>\n",
              "      <td>8425333.0</td>\n",
              "      <td>Asia</td>\n",
              "      <td>28.801</td>\n",
              "      <td>779.445314</td>\n",
              "    </tr>\n",
              "    <tr>\n",
              "      <th>1292</th>\n",
              "      <td>Rwanda</td>\n",
              "      <td>1992</td>\n",
              "      <td>7290203.0</td>\n",
              "      <td>Africa</td>\n",
              "      <td>23.599</td>\n",
              "      <td>737.068595</td>\n",
              "    </tr>\n",
              "  </tbody>\n",
              "</table>\n",
              "<p>1704 rows × 6 columns</p>\n",
              "</div>"
            ],
            "text/plain": [
              "              country  year          pop continent  lifeExp     gdpPercap\n",
              "803             Japan  2007  127467972.0      Asia   82.603  31656.068060\n",
              "671   Hong Kong China  2007    6980412.0      Asia   82.208  39724.978670\n",
              "802             Japan  2002  127065841.0      Asia   82.000  28604.591900\n",
              "695           Iceland  2007     301931.0    Europe   81.757  36180.789190\n",
              "1487      Switzerland  2007    7554661.0    Europe   81.701  37506.419070\n",
              "...               ...   ...          ...       ...      ...           ...\n",
              "1344     Sierra Leone  1952    2143249.0    Africa   30.331    879.787736\n",
              "36             Angola  1952    4232095.0    Africa   30.015   3520.610273\n",
              "552            Gambia  1952     284320.0    Africa   30.000    485.230659\n",
              "0         Afghanistan  1952    8425333.0      Asia   28.801    779.445314\n",
              "1292           Rwanda  1992    7290203.0    Africa   23.599    737.068595\n",
              "\n",
              "[1704 rows x 6 columns]"
            ]
          },
          "metadata": {
            "tags": []
          },
          "execution_count": 51
        }
      ]
    },
    {
      "cell_type": "code",
      "metadata": {
        "colab": {
          "base_uri": "https://localhost:8080/"
        },
        "id": "vGPVh-X3XC6-",
        "outputId": "d64ff450-a120-443a-b727-a25e6ed6013e"
      },
      "source": [
        "df.isnull().sum()"
      ],
      "execution_count": null,
      "outputs": [
        {
          "output_type": "execute_result",
          "data": {
            "text/plain": [
              "country      0\n",
              "year         0\n",
              "pop          0\n",
              "continent    0\n",
              "lifeExp      0\n",
              "gdpPercap    0\n",
              "dtype: int64"
            ]
          },
          "metadata": {
            "tags": []
          },
          "execution_count": 52
        }
      ]
    },
    {
      "cell_type": "code",
      "metadata": {
        "colab": {
          "base_uri": "https://localhost:8080/",
          "height": 419
        },
        "id": "wxHWXf6hXLI5",
        "outputId": "e1c36a20-4b7d-4393-c2bc-bcb34ffb88ef"
      },
      "source": [
        "df.sort_values('lifeExp',na_position='first')"
      ],
      "execution_count": null,
      "outputs": [
        {
          "output_type": "execute_result",
          "data": {
            "text/html": [
              "<div>\n",
              "<style scoped>\n",
              "    .dataframe tbody tr th:only-of-type {\n",
              "        vertical-align: middle;\n",
              "    }\n",
              "\n",
              "    .dataframe tbody tr th {\n",
              "        vertical-align: top;\n",
              "    }\n",
              "\n",
              "    .dataframe thead th {\n",
              "        text-align: right;\n",
              "    }\n",
              "</style>\n",
              "<table border=\"1\" class=\"dataframe\">\n",
              "  <thead>\n",
              "    <tr style=\"text-align: right;\">\n",
              "      <th></th>\n",
              "      <th>country</th>\n",
              "      <th>year</th>\n",
              "      <th>pop</th>\n",
              "      <th>continent</th>\n",
              "      <th>lifeExp</th>\n",
              "      <th>gdpPercap</th>\n",
              "    </tr>\n",
              "  </thead>\n",
              "  <tbody>\n",
              "    <tr>\n",
              "      <th>1292</th>\n",
              "      <td>Rwanda</td>\n",
              "      <td>1992</td>\n",
              "      <td>7290203.0</td>\n",
              "      <td>Africa</td>\n",
              "      <td>23.599</td>\n",
              "      <td>737.068595</td>\n",
              "    </tr>\n",
              "    <tr>\n",
              "      <th>0</th>\n",
              "      <td>Afghanistan</td>\n",
              "      <td>1952</td>\n",
              "      <td>8425333.0</td>\n",
              "      <td>Asia</td>\n",
              "      <td>28.801</td>\n",
              "      <td>779.445314</td>\n",
              "    </tr>\n",
              "    <tr>\n",
              "      <th>552</th>\n",
              "      <td>Gambia</td>\n",
              "      <td>1952</td>\n",
              "      <td>284320.0</td>\n",
              "      <td>Africa</td>\n",
              "      <td>30.000</td>\n",
              "      <td>485.230659</td>\n",
              "    </tr>\n",
              "    <tr>\n",
              "      <th>36</th>\n",
              "      <td>Angola</td>\n",
              "      <td>1952</td>\n",
              "      <td>4232095.0</td>\n",
              "      <td>Africa</td>\n",
              "      <td>30.015</td>\n",
              "      <td>3520.610273</td>\n",
              "    </tr>\n",
              "    <tr>\n",
              "      <th>1344</th>\n",
              "      <td>Sierra Leone</td>\n",
              "      <td>1952</td>\n",
              "      <td>2143249.0</td>\n",
              "      <td>Africa</td>\n",
              "      <td>30.331</td>\n",
              "      <td>879.787736</td>\n",
              "    </tr>\n",
              "    <tr>\n",
              "      <th>...</th>\n",
              "      <td>...</td>\n",
              "      <td>...</td>\n",
              "      <td>...</td>\n",
              "      <td>...</td>\n",
              "      <td>...</td>\n",
              "      <td>...</td>\n",
              "    </tr>\n",
              "    <tr>\n",
              "      <th>1487</th>\n",
              "      <td>Switzerland</td>\n",
              "      <td>2007</td>\n",
              "      <td>7554661.0</td>\n",
              "      <td>Europe</td>\n",
              "      <td>81.701</td>\n",
              "      <td>37506.419070</td>\n",
              "    </tr>\n",
              "    <tr>\n",
              "      <th>695</th>\n",
              "      <td>Iceland</td>\n",
              "      <td>2007</td>\n",
              "      <td>301931.0</td>\n",
              "      <td>Europe</td>\n",
              "      <td>81.757</td>\n",
              "      <td>36180.789190</td>\n",
              "    </tr>\n",
              "    <tr>\n",
              "      <th>802</th>\n",
              "      <td>Japan</td>\n",
              "      <td>2002</td>\n",
              "      <td>127065841.0</td>\n",
              "      <td>Asia</td>\n",
              "      <td>82.000</td>\n",
              "      <td>28604.591900</td>\n",
              "    </tr>\n",
              "    <tr>\n",
              "      <th>671</th>\n",
              "      <td>Hong Kong China</td>\n",
              "      <td>2007</td>\n",
              "      <td>6980412.0</td>\n",
              "      <td>Asia</td>\n",
              "      <td>82.208</td>\n",
              "      <td>39724.978670</td>\n",
              "    </tr>\n",
              "    <tr>\n",
              "      <th>803</th>\n",
              "      <td>Japan</td>\n",
              "      <td>2007</td>\n",
              "      <td>127467972.0</td>\n",
              "      <td>Asia</td>\n",
              "      <td>82.603</td>\n",
              "      <td>31656.068060</td>\n",
              "    </tr>\n",
              "  </tbody>\n",
              "</table>\n",
              "<p>1704 rows × 6 columns</p>\n",
              "</div>"
            ],
            "text/plain": [
              "              country  year          pop continent  lifeExp     gdpPercap\n",
              "1292           Rwanda  1992    7290203.0    Africa   23.599    737.068595\n",
              "0         Afghanistan  1952    8425333.0      Asia   28.801    779.445314\n",
              "552            Gambia  1952     284320.0    Africa   30.000    485.230659\n",
              "36             Angola  1952    4232095.0    Africa   30.015   3520.610273\n",
              "1344     Sierra Leone  1952    2143249.0    Africa   30.331    879.787736\n",
              "...               ...   ...          ...       ...      ...           ...\n",
              "1487      Switzerland  2007    7554661.0    Europe   81.701  37506.419070\n",
              "695           Iceland  2007     301931.0    Europe   81.757  36180.789190\n",
              "802             Japan  2002  127065841.0      Asia   82.000  28604.591900\n",
              "671   Hong Kong China  2007    6980412.0      Asia   82.208  39724.978670\n",
              "803             Japan  2007  127467972.0      Asia   82.603  31656.068060\n",
              "\n",
              "[1704 rows x 6 columns]"
            ]
          },
          "metadata": {
            "tags": []
          },
          "execution_count": 53
        }
      ]
    },
    {
      "cell_type": "code",
      "metadata": {
        "id": "wANRiCtvXVIP"
      },
      "source": [
        "data=df.sort_values('lifeExp',na_position='first')"
      ],
      "execution_count": null,
      "outputs": []
    },
    {
      "cell_type": "code",
      "metadata": {
        "colab": {
          "base_uri": "https://localhost:8080/",
          "height": 204
        },
        "id": "a18zWouXXjId",
        "outputId": "f76e98b7-7bdd-4f2e-f3b4-2a34fd5f89a3"
      },
      "source": [
        "data.head()"
      ],
      "execution_count": null,
      "outputs": [
        {
          "output_type": "execute_result",
          "data": {
            "text/html": [
              "<div>\n",
              "<style scoped>\n",
              "    .dataframe tbody tr th:only-of-type {\n",
              "        vertical-align: middle;\n",
              "    }\n",
              "\n",
              "    .dataframe tbody tr th {\n",
              "        vertical-align: top;\n",
              "    }\n",
              "\n",
              "    .dataframe thead th {\n",
              "        text-align: right;\n",
              "    }\n",
              "</style>\n",
              "<table border=\"1\" class=\"dataframe\">\n",
              "  <thead>\n",
              "    <tr style=\"text-align: right;\">\n",
              "      <th></th>\n",
              "      <th>country</th>\n",
              "      <th>year</th>\n",
              "      <th>pop</th>\n",
              "      <th>continent</th>\n",
              "      <th>lifeExp</th>\n",
              "      <th>gdpPercap</th>\n",
              "    </tr>\n",
              "  </thead>\n",
              "  <tbody>\n",
              "    <tr>\n",
              "      <th>1292</th>\n",
              "      <td>Rwanda</td>\n",
              "      <td>1992</td>\n",
              "      <td>7290203.0</td>\n",
              "      <td>Africa</td>\n",
              "      <td>23.599</td>\n",
              "      <td>737.068595</td>\n",
              "    </tr>\n",
              "    <tr>\n",
              "      <th>0</th>\n",
              "      <td>Afghanistan</td>\n",
              "      <td>1952</td>\n",
              "      <td>8425333.0</td>\n",
              "      <td>Asia</td>\n",
              "      <td>28.801</td>\n",
              "      <td>779.445314</td>\n",
              "    </tr>\n",
              "    <tr>\n",
              "      <th>552</th>\n",
              "      <td>Gambia</td>\n",
              "      <td>1952</td>\n",
              "      <td>284320.0</td>\n",
              "      <td>Africa</td>\n",
              "      <td>30.000</td>\n",
              "      <td>485.230659</td>\n",
              "    </tr>\n",
              "    <tr>\n",
              "      <th>36</th>\n",
              "      <td>Angola</td>\n",
              "      <td>1952</td>\n",
              "      <td>4232095.0</td>\n",
              "      <td>Africa</td>\n",
              "      <td>30.015</td>\n",
              "      <td>3520.610273</td>\n",
              "    </tr>\n",
              "    <tr>\n",
              "      <th>1344</th>\n",
              "      <td>Sierra Leone</td>\n",
              "      <td>1952</td>\n",
              "      <td>2143249.0</td>\n",
              "      <td>Africa</td>\n",
              "      <td>30.331</td>\n",
              "      <td>879.787736</td>\n",
              "    </tr>\n",
              "  </tbody>\n",
              "</table>\n",
              "</div>"
            ],
            "text/plain": [
              "           country  year        pop continent  lifeExp    gdpPercap\n",
              "1292        Rwanda  1992  7290203.0    Africa   23.599   737.068595\n",
              "0      Afghanistan  1952  8425333.0      Asia   28.801   779.445314\n",
              "552         Gambia  1952   284320.0    Africa   30.000   485.230659\n",
              "36          Angola  1952  4232095.0    Africa   30.015  3520.610273\n",
              "1344  Sierra Leone  1952  2143249.0    Africa   30.331   879.787736"
            ]
          },
          "metadata": {
            "tags": []
          },
          "execution_count": 55
        }
      ]
    },
    {
      "cell_type": "code",
      "metadata": {
        "colab": {
          "base_uri": "https://localhost:8080/",
          "height": 419
        },
        "id": "WvQkytHDXkXT",
        "outputId": "9293aa21-2b91-4933-a669-8932567f1373"
      },
      "source": [
        "data.sort_index()"
      ],
      "execution_count": null,
      "outputs": [
        {
          "output_type": "execute_result",
          "data": {
            "text/html": [
              "<div>\n",
              "<style scoped>\n",
              "    .dataframe tbody tr th:only-of-type {\n",
              "        vertical-align: middle;\n",
              "    }\n",
              "\n",
              "    .dataframe tbody tr th {\n",
              "        vertical-align: top;\n",
              "    }\n",
              "\n",
              "    .dataframe thead th {\n",
              "        text-align: right;\n",
              "    }\n",
              "</style>\n",
              "<table border=\"1\" class=\"dataframe\">\n",
              "  <thead>\n",
              "    <tr style=\"text-align: right;\">\n",
              "      <th></th>\n",
              "      <th>country</th>\n",
              "      <th>year</th>\n",
              "      <th>pop</th>\n",
              "      <th>continent</th>\n",
              "      <th>lifeExp</th>\n",
              "      <th>gdpPercap</th>\n",
              "    </tr>\n",
              "  </thead>\n",
              "  <tbody>\n",
              "    <tr>\n",
              "      <th>0</th>\n",
              "      <td>Afghanistan</td>\n",
              "      <td>1952</td>\n",
              "      <td>8425333.0</td>\n",
              "      <td>Asia</td>\n",
              "      <td>28.801</td>\n",
              "      <td>779.445314</td>\n",
              "    </tr>\n",
              "    <tr>\n",
              "      <th>1</th>\n",
              "      <td>Afghanistan</td>\n",
              "      <td>1957</td>\n",
              "      <td>9240934.0</td>\n",
              "      <td>Asia</td>\n",
              "      <td>30.332</td>\n",
              "      <td>820.853030</td>\n",
              "    </tr>\n",
              "    <tr>\n",
              "      <th>2</th>\n",
              "      <td>Afghanistan</td>\n",
              "      <td>1962</td>\n",
              "      <td>10267083.0</td>\n",
              "      <td>Asia</td>\n",
              "      <td>31.997</td>\n",
              "      <td>853.100710</td>\n",
              "    </tr>\n",
              "    <tr>\n",
              "      <th>3</th>\n",
              "      <td>Afghanistan</td>\n",
              "      <td>1967</td>\n",
              "      <td>11537966.0</td>\n",
              "      <td>Asia</td>\n",
              "      <td>34.020</td>\n",
              "      <td>836.197138</td>\n",
              "    </tr>\n",
              "    <tr>\n",
              "      <th>4</th>\n",
              "      <td>Afghanistan</td>\n",
              "      <td>1972</td>\n",
              "      <td>13079460.0</td>\n",
              "      <td>Asia</td>\n",
              "      <td>36.088</td>\n",
              "      <td>739.981106</td>\n",
              "    </tr>\n",
              "    <tr>\n",
              "      <th>...</th>\n",
              "      <td>...</td>\n",
              "      <td>...</td>\n",
              "      <td>...</td>\n",
              "      <td>...</td>\n",
              "      <td>...</td>\n",
              "      <td>...</td>\n",
              "    </tr>\n",
              "    <tr>\n",
              "      <th>1699</th>\n",
              "      <td>Zimbabwe</td>\n",
              "      <td>1987</td>\n",
              "      <td>9216418.0</td>\n",
              "      <td>Africa</td>\n",
              "      <td>62.351</td>\n",
              "      <td>706.157306</td>\n",
              "    </tr>\n",
              "    <tr>\n",
              "      <th>1700</th>\n",
              "      <td>Zimbabwe</td>\n",
              "      <td>1992</td>\n",
              "      <td>10704340.0</td>\n",
              "      <td>Africa</td>\n",
              "      <td>60.377</td>\n",
              "      <td>693.420786</td>\n",
              "    </tr>\n",
              "    <tr>\n",
              "      <th>1701</th>\n",
              "      <td>Zimbabwe</td>\n",
              "      <td>1997</td>\n",
              "      <td>11404948.0</td>\n",
              "      <td>Africa</td>\n",
              "      <td>46.809</td>\n",
              "      <td>792.449960</td>\n",
              "    </tr>\n",
              "    <tr>\n",
              "      <th>1702</th>\n",
              "      <td>Zimbabwe</td>\n",
              "      <td>2002</td>\n",
              "      <td>11926563.0</td>\n",
              "      <td>Africa</td>\n",
              "      <td>39.989</td>\n",
              "      <td>672.038623</td>\n",
              "    </tr>\n",
              "    <tr>\n",
              "      <th>1703</th>\n",
              "      <td>Zimbabwe</td>\n",
              "      <td>2007</td>\n",
              "      <td>12311143.0</td>\n",
              "      <td>Africa</td>\n",
              "      <td>43.487</td>\n",
              "      <td>469.709298</td>\n",
              "    </tr>\n",
              "  </tbody>\n",
              "</table>\n",
              "<p>1704 rows × 6 columns</p>\n",
              "</div>"
            ],
            "text/plain": [
              "          country  year         pop continent  lifeExp   gdpPercap\n",
              "0     Afghanistan  1952   8425333.0      Asia   28.801  779.445314\n",
              "1     Afghanistan  1957   9240934.0      Asia   30.332  820.853030\n",
              "2     Afghanistan  1962  10267083.0      Asia   31.997  853.100710\n",
              "3     Afghanistan  1967  11537966.0      Asia   34.020  836.197138\n",
              "4     Afghanistan  1972  13079460.0      Asia   36.088  739.981106\n",
              "...           ...   ...         ...       ...      ...         ...\n",
              "1699     Zimbabwe  1987   9216418.0    Africa   62.351  706.157306\n",
              "1700     Zimbabwe  1992  10704340.0    Africa   60.377  693.420786\n",
              "1701     Zimbabwe  1997  11404948.0    Africa   46.809  792.449960\n",
              "1702     Zimbabwe  2002  11926563.0    Africa   39.989  672.038623\n",
              "1703     Zimbabwe  2007  12311143.0    Africa   43.487  469.709298\n",
              "\n",
              "[1704 rows x 6 columns]"
            ]
          },
          "metadata": {
            "tags": []
          },
          "execution_count": 56
        }
      ]
    },
    {
      "cell_type": "code",
      "metadata": {
        "colab": {
          "base_uri": "https://localhost:8080/",
          "height": 419
        },
        "id": "_LD-LbiHXpun",
        "outputId": "a1c52666-a898-4178-ed6f-bb399f506435"
      },
      "source": [
        "df.sort_values(['lifeExp','gdpPercap'])"
      ],
      "execution_count": null,
      "outputs": [
        {
          "output_type": "execute_result",
          "data": {
            "text/html": [
              "<div>\n",
              "<style scoped>\n",
              "    .dataframe tbody tr th:only-of-type {\n",
              "        vertical-align: middle;\n",
              "    }\n",
              "\n",
              "    .dataframe tbody tr th {\n",
              "        vertical-align: top;\n",
              "    }\n",
              "\n",
              "    .dataframe thead th {\n",
              "        text-align: right;\n",
              "    }\n",
              "</style>\n",
              "<table border=\"1\" class=\"dataframe\">\n",
              "  <thead>\n",
              "    <tr style=\"text-align: right;\">\n",
              "      <th></th>\n",
              "      <th>country</th>\n",
              "      <th>year</th>\n",
              "      <th>pop</th>\n",
              "      <th>continent</th>\n",
              "      <th>lifeExp</th>\n",
              "      <th>gdpPercap</th>\n",
              "    </tr>\n",
              "  </thead>\n",
              "  <tbody>\n",
              "    <tr>\n",
              "      <th>1292</th>\n",
              "      <td>Rwanda</td>\n",
              "      <td>1992</td>\n",
              "      <td>7290203.0</td>\n",
              "      <td>Africa</td>\n",
              "      <td>23.599</td>\n",
              "      <td>737.068595</td>\n",
              "    </tr>\n",
              "    <tr>\n",
              "      <th>0</th>\n",
              "      <td>Afghanistan</td>\n",
              "      <td>1952</td>\n",
              "      <td>8425333.0</td>\n",
              "      <td>Asia</td>\n",
              "      <td>28.801</td>\n",
              "      <td>779.445314</td>\n",
              "    </tr>\n",
              "    <tr>\n",
              "      <th>552</th>\n",
              "      <td>Gambia</td>\n",
              "      <td>1952</td>\n",
              "      <td>284320.0</td>\n",
              "      <td>Africa</td>\n",
              "      <td>30.000</td>\n",
              "      <td>485.230659</td>\n",
              "    </tr>\n",
              "    <tr>\n",
              "      <th>36</th>\n",
              "      <td>Angola</td>\n",
              "      <td>1952</td>\n",
              "      <td>4232095.0</td>\n",
              "      <td>Africa</td>\n",
              "      <td>30.015</td>\n",
              "      <td>3520.610273</td>\n",
              "    </tr>\n",
              "    <tr>\n",
              "      <th>1344</th>\n",
              "      <td>Sierra Leone</td>\n",
              "      <td>1952</td>\n",
              "      <td>2143249.0</td>\n",
              "      <td>Africa</td>\n",
              "      <td>30.331</td>\n",
              "      <td>879.787736</td>\n",
              "    </tr>\n",
              "    <tr>\n",
              "      <th>...</th>\n",
              "      <td>...</td>\n",
              "      <td>...</td>\n",
              "      <td>...</td>\n",
              "      <td>...</td>\n",
              "      <td>...</td>\n",
              "      <td>...</td>\n",
              "    </tr>\n",
              "    <tr>\n",
              "      <th>1487</th>\n",
              "      <td>Switzerland</td>\n",
              "      <td>2007</td>\n",
              "      <td>7554661.0</td>\n",
              "      <td>Europe</td>\n",
              "      <td>81.701</td>\n",
              "      <td>37506.419070</td>\n",
              "    </tr>\n",
              "    <tr>\n",
              "      <th>695</th>\n",
              "      <td>Iceland</td>\n",
              "      <td>2007</td>\n",
              "      <td>301931.0</td>\n",
              "      <td>Europe</td>\n",
              "      <td>81.757</td>\n",
              "      <td>36180.789190</td>\n",
              "    </tr>\n",
              "    <tr>\n",
              "      <th>802</th>\n",
              "      <td>Japan</td>\n",
              "      <td>2002</td>\n",
              "      <td>127065841.0</td>\n",
              "      <td>Asia</td>\n",
              "      <td>82.000</td>\n",
              "      <td>28604.591900</td>\n",
              "    </tr>\n",
              "    <tr>\n",
              "      <th>671</th>\n",
              "      <td>Hong Kong China</td>\n",
              "      <td>2007</td>\n",
              "      <td>6980412.0</td>\n",
              "      <td>Asia</td>\n",
              "      <td>82.208</td>\n",
              "      <td>39724.978670</td>\n",
              "    </tr>\n",
              "    <tr>\n",
              "      <th>803</th>\n",
              "      <td>Japan</td>\n",
              "      <td>2007</td>\n",
              "      <td>127467972.0</td>\n",
              "      <td>Asia</td>\n",
              "      <td>82.603</td>\n",
              "      <td>31656.068060</td>\n",
              "    </tr>\n",
              "  </tbody>\n",
              "</table>\n",
              "<p>1704 rows × 6 columns</p>\n",
              "</div>"
            ],
            "text/plain": [
              "              country  year          pop continent  lifeExp     gdpPercap\n",
              "1292           Rwanda  1992    7290203.0    Africa   23.599    737.068595\n",
              "0         Afghanistan  1952    8425333.0      Asia   28.801    779.445314\n",
              "552            Gambia  1952     284320.0    Africa   30.000    485.230659\n",
              "36             Angola  1952    4232095.0    Africa   30.015   3520.610273\n",
              "1344     Sierra Leone  1952    2143249.0    Africa   30.331    879.787736\n",
              "...               ...   ...          ...       ...      ...           ...\n",
              "1487      Switzerland  2007    7554661.0    Europe   81.701  37506.419070\n",
              "695           Iceland  2007     301931.0    Europe   81.757  36180.789190\n",
              "802             Japan  2002  127065841.0      Asia   82.000  28604.591900\n",
              "671   Hong Kong China  2007    6980412.0      Asia   82.208  39724.978670\n",
              "803             Japan  2007  127467972.0      Asia   82.603  31656.068060\n",
              "\n",
              "[1704 rows x 6 columns]"
            ]
          },
          "metadata": {
            "tags": []
          },
          "execution_count": 57
        }
      ]
    },
    {
      "cell_type": "code",
      "metadata": {
        "colab": {
          "base_uri": "https://localhost:8080/",
          "height": 419
        },
        "id": "ugbXQHnaYCYn",
        "outputId": "2cf3a1d4-1aba-48b7-8e8a-0f2621a3ff84"
      },
      "source": [
        "df.sort_values(['lifeExp','gdpPercap'],ascending=[True,False])"
      ],
      "execution_count": null,
      "outputs": [
        {
          "output_type": "execute_result",
          "data": {
            "text/html": [
              "<div>\n",
              "<style scoped>\n",
              "    .dataframe tbody tr th:only-of-type {\n",
              "        vertical-align: middle;\n",
              "    }\n",
              "\n",
              "    .dataframe tbody tr th {\n",
              "        vertical-align: top;\n",
              "    }\n",
              "\n",
              "    .dataframe thead th {\n",
              "        text-align: right;\n",
              "    }\n",
              "</style>\n",
              "<table border=\"1\" class=\"dataframe\">\n",
              "  <thead>\n",
              "    <tr style=\"text-align: right;\">\n",
              "      <th></th>\n",
              "      <th>country</th>\n",
              "      <th>year</th>\n",
              "      <th>pop</th>\n",
              "      <th>continent</th>\n",
              "      <th>lifeExp</th>\n",
              "      <th>gdpPercap</th>\n",
              "    </tr>\n",
              "  </thead>\n",
              "  <tbody>\n",
              "    <tr>\n",
              "      <th>1292</th>\n",
              "      <td>Rwanda</td>\n",
              "      <td>1992</td>\n",
              "      <td>7290203.0</td>\n",
              "      <td>Africa</td>\n",
              "      <td>23.599</td>\n",
              "      <td>737.068595</td>\n",
              "    </tr>\n",
              "    <tr>\n",
              "      <th>0</th>\n",
              "      <td>Afghanistan</td>\n",
              "      <td>1952</td>\n",
              "      <td>8425333.0</td>\n",
              "      <td>Asia</td>\n",
              "      <td>28.801</td>\n",
              "      <td>779.445314</td>\n",
              "    </tr>\n",
              "    <tr>\n",
              "      <th>552</th>\n",
              "      <td>Gambia</td>\n",
              "      <td>1952</td>\n",
              "      <td>284320.0</td>\n",
              "      <td>Africa</td>\n",
              "      <td>30.000</td>\n",
              "      <td>485.230659</td>\n",
              "    </tr>\n",
              "    <tr>\n",
              "      <th>36</th>\n",
              "      <td>Angola</td>\n",
              "      <td>1952</td>\n",
              "      <td>4232095.0</td>\n",
              "      <td>Africa</td>\n",
              "      <td>30.015</td>\n",
              "      <td>3520.610273</td>\n",
              "    </tr>\n",
              "    <tr>\n",
              "      <th>1344</th>\n",
              "      <td>Sierra Leone</td>\n",
              "      <td>1952</td>\n",
              "      <td>2143249.0</td>\n",
              "      <td>Africa</td>\n",
              "      <td>30.331</td>\n",
              "      <td>879.787736</td>\n",
              "    </tr>\n",
              "    <tr>\n",
              "      <th>...</th>\n",
              "      <td>...</td>\n",
              "      <td>...</td>\n",
              "      <td>...</td>\n",
              "      <td>...</td>\n",
              "      <td>...</td>\n",
              "      <td>...</td>\n",
              "    </tr>\n",
              "    <tr>\n",
              "      <th>1487</th>\n",
              "      <td>Switzerland</td>\n",
              "      <td>2007</td>\n",
              "      <td>7554661.0</td>\n",
              "      <td>Europe</td>\n",
              "      <td>81.701</td>\n",
              "      <td>37506.419070</td>\n",
              "    </tr>\n",
              "    <tr>\n",
              "      <th>695</th>\n",
              "      <td>Iceland</td>\n",
              "      <td>2007</td>\n",
              "      <td>301931.0</td>\n",
              "      <td>Europe</td>\n",
              "      <td>81.757</td>\n",
              "      <td>36180.789190</td>\n",
              "    </tr>\n",
              "    <tr>\n",
              "      <th>802</th>\n",
              "      <td>Japan</td>\n",
              "      <td>2002</td>\n",
              "      <td>127065841.0</td>\n",
              "      <td>Asia</td>\n",
              "      <td>82.000</td>\n",
              "      <td>28604.591900</td>\n",
              "    </tr>\n",
              "    <tr>\n",
              "      <th>671</th>\n",
              "      <td>Hong Kong China</td>\n",
              "      <td>2007</td>\n",
              "      <td>6980412.0</td>\n",
              "      <td>Asia</td>\n",
              "      <td>82.208</td>\n",
              "      <td>39724.978670</td>\n",
              "    </tr>\n",
              "    <tr>\n",
              "      <th>803</th>\n",
              "      <td>Japan</td>\n",
              "      <td>2007</td>\n",
              "      <td>127467972.0</td>\n",
              "      <td>Asia</td>\n",
              "      <td>82.603</td>\n",
              "      <td>31656.068060</td>\n",
              "    </tr>\n",
              "  </tbody>\n",
              "</table>\n",
              "<p>1704 rows × 6 columns</p>\n",
              "</div>"
            ],
            "text/plain": [
              "              country  year          pop continent  lifeExp     gdpPercap\n",
              "1292           Rwanda  1992    7290203.0    Africa   23.599    737.068595\n",
              "0         Afghanistan  1952    8425333.0      Asia   28.801    779.445314\n",
              "552            Gambia  1952     284320.0    Africa   30.000    485.230659\n",
              "36             Angola  1952    4232095.0    Africa   30.015   3520.610273\n",
              "1344     Sierra Leone  1952    2143249.0    Africa   30.331    879.787736\n",
              "...               ...   ...          ...       ...      ...           ...\n",
              "1487      Switzerland  2007    7554661.0    Europe   81.701  37506.419070\n",
              "695           Iceland  2007     301931.0    Europe   81.757  36180.789190\n",
              "802             Japan  2002  127065841.0      Asia   82.000  28604.591900\n",
              "671   Hong Kong China  2007    6980412.0      Asia   82.208  39724.978670\n",
              "803             Japan  2007  127467972.0      Asia   82.603  31656.068060\n",
              "\n",
              "[1704 rows x 6 columns]"
            ]
          },
          "metadata": {
            "tags": []
          },
          "execution_count": 58
        }
      ]
    },
    {
      "cell_type": "markdown",
      "metadata": {
        "id": "kMc9TuMrYtcr"
      },
      "source": [
        "# N-Largest"
      ]
    },
    {
      "cell_type": "code",
      "metadata": {
        "colab": {
          "base_uri": "https://localhost:8080/",
          "height": 328
        },
        "id": "B4vQZL-PYWOh",
        "outputId": "eed15f63-5bcd-4ff6-d7d8-245a0afe7274"
      },
      "source": [
        "df = pd.DataFrame({'population': [58812491, 37522972, 339757,\n",
        "                                  339757, 339757, 38964, 11646, 11646, 11646],\n",
        "                   'GDP': [2033594, 1833594 , 153594, 14520, 10128,\n",
        "                           836, 139, 39, 539],\n",
        "                   'alpha-2': [\"SA\", \"CA\", \"AU\", \"MV\", \"IS\",\n",
        "                               \"MC\", \"NU\", \"TV\", \"PW\"]},\n",
        "                  index=[\"South Africa\", \"Canada\", \"Australia\",\n",
        "                         \"Maldives\", \"Iceland\", \"Monaco\", \"Niue\",\n",
        "                         \"Tuvalu\", \"Palau\"])\n",
        "df"
      ],
      "execution_count": null,
      "outputs": [
        {
          "output_type": "execute_result",
          "data": {
            "text/html": [
              "<div>\n",
              "<style scoped>\n",
              "    .dataframe tbody tr th:only-of-type {\n",
              "        vertical-align: middle;\n",
              "    }\n",
              "\n",
              "    .dataframe tbody tr th {\n",
              "        vertical-align: top;\n",
              "    }\n",
              "\n",
              "    .dataframe thead th {\n",
              "        text-align: right;\n",
              "    }\n",
              "</style>\n",
              "<table border=\"1\" class=\"dataframe\">\n",
              "  <thead>\n",
              "    <tr style=\"text-align: right;\">\n",
              "      <th></th>\n",
              "      <th>population</th>\n",
              "      <th>GDP</th>\n",
              "      <th>alpha-2</th>\n",
              "    </tr>\n",
              "  </thead>\n",
              "  <tbody>\n",
              "    <tr>\n",
              "      <th>South Africa</th>\n",
              "      <td>58812491</td>\n",
              "      <td>2033594</td>\n",
              "      <td>SA</td>\n",
              "    </tr>\n",
              "    <tr>\n",
              "      <th>Canada</th>\n",
              "      <td>37522972</td>\n",
              "      <td>1833594</td>\n",
              "      <td>CA</td>\n",
              "    </tr>\n",
              "    <tr>\n",
              "      <th>Australia</th>\n",
              "      <td>339757</td>\n",
              "      <td>153594</td>\n",
              "      <td>AU</td>\n",
              "    </tr>\n",
              "    <tr>\n",
              "      <th>Maldives</th>\n",
              "      <td>339757</td>\n",
              "      <td>14520</td>\n",
              "      <td>MV</td>\n",
              "    </tr>\n",
              "    <tr>\n",
              "      <th>Iceland</th>\n",
              "      <td>339757</td>\n",
              "      <td>10128</td>\n",
              "      <td>IS</td>\n",
              "    </tr>\n",
              "    <tr>\n",
              "      <th>Monaco</th>\n",
              "      <td>38964</td>\n",
              "      <td>836</td>\n",
              "      <td>MC</td>\n",
              "    </tr>\n",
              "    <tr>\n",
              "      <th>Niue</th>\n",
              "      <td>11646</td>\n",
              "      <td>139</td>\n",
              "      <td>NU</td>\n",
              "    </tr>\n",
              "    <tr>\n",
              "      <th>Tuvalu</th>\n",
              "      <td>11646</td>\n",
              "      <td>39</td>\n",
              "      <td>TV</td>\n",
              "    </tr>\n",
              "    <tr>\n",
              "      <th>Palau</th>\n",
              "      <td>11646</td>\n",
              "      <td>539</td>\n",
              "      <td>PW</td>\n",
              "    </tr>\n",
              "  </tbody>\n",
              "</table>\n",
              "</div>"
            ],
            "text/plain": [
              "              population      GDP alpha-2\n",
              "South Africa    58812491  2033594      SA\n",
              "Canada          37522972  1833594      CA\n",
              "Australia         339757   153594      AU\n",
              "Maldives          339757    14520      MV\n",
              "Iceland           339757    10128      IS\n",
              "Monaco             38964      836      MC\n",
              "Niue               11646      139      NU\n",
              "Tuvalu             11646       39      TV\n",
              "Palau              11646      539      PW"
            ]
          },
          "metadata": {
            "tags": []
          },
          "execution_count": 59
        }
      ]
    },
    {
      "cell_type": "code",
      "metadata": {
        "colab": {
          "base_uri": "https://localhost:8080/",
          "height": 142
        },
        "id": "7AD8qmskY12L",
        "outputId": "5ab99909-3dd6-40c2-fb6b-b8eefb4079a7"
      },
      "source": [
        "df.nlargest(3,'population')"
      ],
      "execution_count": null,
      "outputs": [
        {
          "output_type": "execute_result",
          "data": {
            "text/html": [
              "<div>\n",
              "<style scoped>\n",
              "    .dataframe tbody tr th:only-of-type {\n",
              "        vertical-align: middle;\n",
              "    }\n",
              "\n",
              "    .dataframe tbody tr th {\n",
              "        vertical-align: top;\n",
              "    }\n",
              "\n",
              "    .dataframe thead th {\n",
              "        text-align: right;\n",
              "    }\n",
              "</style>\n",
              "<table border=\"1\" class=\"dataframe\">\n",
              "  <thead>\n",
              "    <tr style=\"text-align: right;\">\n",
              "      <th></th>\n",
              "      <th>population</th>\n",
              "      <th>GDP</th>\n",
              "      <th>alpha-2</th>\n",
              "    </tr>\n",
              "  </thead>\n",
              "  <tbody>\n",
              "    <tr>\n",
              "      <th>South Africa</th>\n",
              "      <td>58812491</td>\n",
              "      <td>2033594</td>\n",
              "      <td>SA</td>\n",
              "    </tr>\n",
              "    <tr>\n",
              "      <th>Canada</th>\n",
              "      <td>37522972</td>\n",
              "      <td>1833594</td>\n",
              "      <td>CA</td>\n",
              "    </tr>\n",
              "    <tr>\n",
              "      <th>Australia</th>\n",
              "      <td>339757</td>\n",
              "      <td>153594</td>\n",
              "      <td>AU</td>\n",
              "    </tr>\n",
              "  </tbody>\n",
              "</table>\n",
              "</div>"
            ],
            "text/plain": [
              "              population      GDP alpha-2\n",
              "South Africa    58812491  2033594      SA\n",
              "Canada          37522972  1833594      CA\n",
              "Australia         339757   153594      AU"
            ]
          },
          "metadata": {
            "tags": []
          },
          "execution_count": 60
        }
      ]
    },
    {
      "cell_type": "code",
      "metadata": {
        "colab": {
          "base_uri": "https://localhost:8080/",
          "height": 142
        },
        "id": "zUwMzkdWZTFE",
        "outputId": "d2dfa71c-08ce-4958-cded-3effb5fe5f76"
      },
      "source": [
        "df.nlargest(3,'population',keep='last')"
      ],
      "execution_count": null,
      "outputs": [
        {
          "output_type": "execute_result",
          "data": {
            "text/html": [
              "<div>\n",
              "<style scoped>\n",
              "    .dataframe tbody tr th:only-of-type {\n",
              "        vertical-align: middle;\n",
              "    }\n",
              "\n",
              "    .dataframe tbody tr th {\n",
              "        vertical-align: top;\n",
              "    }\n",
              "\n",
              "    .dataframe thead th {\n",
              "        text-align: right;\n",
              "    }\n",
              "</style>\n",
              "<table border=\"1\" class=\"dataframe\">\n",
              "  <thead>\n",
              "    <tr style=\"text-align: right;\">\n",
              "      <th></th>\n",
              "      <th>population</th>\n",
              "      <th>GDP</th>\n",
              "      <th>alpha-2</th>\n",
              "    </tr>\n",
              "  </thead>\n",
              "  <tbody>\n",
              "    <tr>\n",
              "      <th>South Africa</th>\n",
              "      <td>58812491</td>\n",
              "      <td>2033594</td>\n",
              "      <td>SA</td>\n",
              "    </tr>\n",
              "    <tr>\n",
              "      <th>Canada</th>\n",
              "      <td>37522972</td>\n",
              "      <td>1833594</td>\n",
              "      <td>CA</td>\n",
              "    </tr>\n",
              "    <tr>\n",
              "      <th>Iceland</th>\n",
              "      <td>339757</td>\n",
              "      <td>10128</td>\n",
              "      <td>IS</td>\n",
              "    </tr>\n",
              "  </tbody>\n",
              "</table>\n",
              "</div>"
            ],
            "text/plain": [
              "              population      GDP alpha-2\n",
              "South Africa    58812491  2033594      SA\n",
              "Canada          37522972  1833594      CA\n",
              "Iceland           339757    10128      IS"
            ]
          },
          "metadata": {
            "tags": []
          },
          "execution_count": 61
        }
      ]
    },
    {
      "cell_type": "code",
      "metadata": {
        "colab": {
          "base_uri": "https://localhost:8080/",
          "height": 204
        },
        "id": "BABAR1cvZiJz",
        "outputId": "dcfd22d1-1ead-4cb2-885b-896d772f684d"
      },
      "source": [
        "df.nlargest(3,'population',keep='all')"
      ],
      "execution_count": null,
      "outputs": [
        {
          "output_type": "execute_result",
          "data": {
            "text/html": [
              "<div>\n",
              "<style scoped>\n",
              "    .dataframe tbody tr th:only-of-type {\n",
              "        vertical-align: middle;\n",
              "    }\n",
              "\n",
              "    .dataframe tbody tr th {\n",
              "        vertical-align: top;\n",
              "    }\n",
              "\n",
              "    .dataframe thead th {\n",
              "        text-align: right;\n",
              "    }\n",
              "</style>\n",
              "<table border=\"1\" class=\"dataframe\">\n",
              "  <thead>\n",
              "    <tr style=\"text-align: right;\">\n",
              "      <th></th>\n",
              "      <th>population</th>\n",
              "      <th>GDP</th>\n",
              "      <th>alpha-2</th>\n",
              "    </tr>\n",
              "  </thead>\n",
              "  <tbody>\n",
              "    <tr>\n",
              "      <th>South Africa</th>\n",
              "      <td>58812491</td>\n",
              "      <td>2033594</td>\n",
              "      <td>SA</td>\n",
              "    </tr>\n",
              "    <tr>\n",
              "      <th>Canada</th>\n",
              "      <td>37522972</td>\n",
              "      <td>1833594</td>\n",
              "      <td>CA</td>\n",
              "    </tr>\n",
              "    <tr>\n",
              "      <th>Australia</th>\n",
              "      <td>339757</td>\n",
              "      <td>153594</td>\n",
              "      <td>AU</td>\n",
              "    </tr>\n",
              "    <tr>\n",
              "      <th>Maldives</th>\n",
              "      <td>339757</td>\n",
              "      <td>14520</td>\n",
              "      <td>MV</td>\n",
              "    </tr>\n",
              "    <tr>\n",
              "      <th>Iceland</th>\n",
              "      <td>339757</td>\n",
              "      <td>10128</td>\n",
              "      <td>IS</td>\n",
              "    </tr>\n",
              "  </tbody>\n",
              "</table>\n",
              "</div>"
            ],
            "text/plain": [
              "              population      GDP alpha-2\n",
              "South Africa    58812491  2033594      SA\n",
              "Canada          37522972  1833594      CA\n",
              "Australia         339757   153594      AU\n",
              "Maldives          339757    14520      MV\n",
              "Iceland           339757    10128      IS"
            ]
          },
          "metadata": {
            "tags": []
          },
          "execution_count": 62
        }
      ]
    },
    {
      "cell_type": "markdown",
      "metadata": {
        "id": "1UT8wzsIafPC"
      },
      "source": [
        "# Group_by"
      ]
    },
    {
      "cell_type": "code",
      "metadata": {
        "id": "5hLewFTBZ3zB"
      },
      "source": [
        "df=pd.read_csv('https://raw.githubusercontent.com/codebasics/py/master/pandas/7_group_by/weather_by_cities.csv')"
      ],
      "execution_count": null,
      "outputs": []
    },
    {
      "cell_type": "code",
      "metadata": {
        "colab": {
          "base_uri": "https://localhost:8080/",
          "height": 421
        },
        "id": "BSKvM47calKV",
        "outputId": "971b8c4d-72ca-4621-d013-67f1ce7b9a36"
      },
      "source": [
        "df"
      ],
      "execution_count": null,
      "outputs": [
        {
          "output_type": "execute_result",
          "data": {
            "text/html": [
              "<div>\n",
              "<style scoped>\n",
              "    .dataframe tbody tr th:only-of-type {\n",
              "        vertical-align: middle;\n",
              "    }\n",
              "\n",
              "    .dataframe tbody tr th {\n",
              "        vertical-align: top;\n",
              "    }\n",
              "\n",
              "    .dataframe thead th {\n",
              "        text-align: right;\n",
              "    }\n",
              "</style>\n",
              "<table border=\"1\" class=\"dataframe\">\n",
              "  <thead>\n",
              "    <tr style=\"text-align: right;\">\n",
              "      <th></th>\n",
              "      <th>day</th>\n",
              "      <th>city</th>\n",
              "      <th>temperature</th>\n",
              "      <th>windspeed</th>\n",
              "      <th>event</th>\n",
              "    </tr>\n",
              "  </thead>\n",
              "  <tbody>\n",
              "    <tr>\n",
              "      <th>0</th>\n",
              "      <td>1/1/2017</td>\n",
              "      <td>new york</td>\n",
              "      <td>32</td>\n",
              "      <td>6</td>\n",
              "      <td>Rain</td>\n",
              "    </tr>\n",
              "    <tr>\n",
              "      <th>1</th>\n",
              "      <td>1/2/2017</td>\n",
              "      <td>new york</td>\n",
              "      <td>36</td>\n",
              "      <td>7</td>\n",
              "      <td>Sunny</td>\n",
              "    </tr>\n",
              "    <tr>\n",
              "      <th>2</th>\n",
              "      <td>1/3/2017</td>\n",
              "      <td>new york</td>\n",
              "      <td>28</td>\n",
              "      <td>12</td>\n",
              "      <td>Snow</td>\n",
              "    </tr>\n",
              "    <tr>\n",
              "      <th>3</th>\n",
              "      <td>1/4/2017</td>\n",
              "      <td>new york</td>\n",
              "      <td>33</td>\n",
              "      <td>7</td>\n",
              "      <td>Sunny</td>\n",
              "    </tr>\n",
              "    <tr>\n",
              "      <th>4</th>\n",
              "      <td>1/1/2017</td>\n",
              "      <td>mumbai</td>\n",
              "      <td>90</td>\n",
              "      <td>5</td>\n",
              "      <td>Sunny</td>\n",
              "    </tr>\n",
              "    <tr>\n",
              "      <th>5</th>\n",
              "      <td>1/2/2017</td>\n",
              "      <td>mumbai</td>\n",
              "      <td>85</td>\n",
              "      <td>12</td>\n",
              "      <td>Fog</td>\n",
              "    </tr>\n",
              "    <tr>\n",
              "      <th>6</th>\n",
              "      <td>1/3/2017</td>\n",
              "      <td>mumbai</td>\n",
              "      <td>87</td>\n",
              "      <td>15</td>\n",
              "      <td>Fog</td>\n",
              "    </tr>\n",
              "    <tr>\n",
              "      <th>7</th>\n",
              "      <td>1/4/2017</td>\n",
              "      <td>mumbai</td>\n",
              "      <td>92</td>\n",
              "      <td>5</td>\n",
              "      <td>Rain</td>\n",
              "    </tr>\n",
              "    <tr>\n",
              "      <th>8</th>\n",
              "      <td>1/1/2017</td>\n",
              "      <td>paris</td>\n",
              "      <td>45</td>\n",
              "      <td>20</td>\n",
              "      <td>Sunny</td>\n",
              "    </tr>\n",
              "    <tr>\n",
              "      <th>9</th>\n",
              "      <td>1/2/2017</td>\n",
              "      <td>paris</td>\n",
              "      <td>50</td>\n",
              "      <td>13</td>\n",
              "      <td>Cloudy</td>\n",
              "    </tr>\n",
              "    <tr>\n",
              "      <th>10</th>\n",
              "      <td>1/3/2017</td>\n",
              "      <td>paris</td>\n",
              "      <td>54</td>\n",
              "      <td>8</td>\n",
              "      <td>Cloudy</td>\n",
              "    </tr>\n",
              "    <tr>\n",
              "      <th>11</th>\n",
              "      <td>1/4/2017</td>\n",
              "      <td>paris</td>\n",
              "      <td>42</td>\n",
              "      <td>10</td>\n",
              "      <td>Cloudy</td>\n",
              "    </tr>\n",
              "  </tbody>\n",
              "</table>\n",
              "</div>"
            ],
            "text/plain": [
              "         day      city  temperature  windspeed   event\n",
              "0   1/1/2017  new york           32          6    Rain\n",
              "1   1/2/2017  new york           36          7   Sunny\n",
              "2   1/3/2017  new york           28         12    Snow\n",
              "3   1/4/2017  new york           33          7   Sunny\n",
              "4   1/1/2017    mumbai           90          5   Sunny\n",
              "5   1/2/2017    mumbai           85         12     Fog\n",
              "6   1/3/2017    mumbai           87         15     Fog\n",
              "7   1/4/2017    mumbai           92          5    Rain\n",
              "8   1/1/2017     paris           45         20   Sunny\n",
              "9   1/2/2017     paris           50         13  Cloudy\n",
              "10  1/3/2017     paris           54          8  Cloudy\n",
              "11  1/4/2017     paris           42         10  Cloudy"
            ]
          },
          "metadata": {
            "tags": []
          },
          "execution_count": 64
        }
      ]
    },
    {
      "cell_type": "code",
      "metadata": {
        "id": "-zRxSsBValuh"
      },
      "source": [
        "g=df.groupby('city')"
      ],
      "execution_count": null,
      "outputs": []
    },
    {
      "cell_type": "code",
      "metadata": {
        "colab": {
          "base_uri": "https://localhost:8080/"
        },
        "id": "E6c5DPQka5gq",
        "outputId": "42f1b538-37aa-41b2-9d23-2f8ed994c49f"
      },
      "source": [
        "g"
      ],
      "execution_count": null,
      "outputs": [
        {
          "output_type": "execute_result",
          "data": {
            "text/plain": [
              "<pandas.core.groupby.generic.DataFrameGroupBy object at 0x7f98d6e48890>"
            ]
          },
          "metadata": {
            "tags": []
          },
          "execution_count": 66
        }
      ]
    },
    {
      "cell_type": "code",
      "metadata": {
        "colab": {
          "base_uri": "https://localhost:8080/",
          "height": 173
        },
        "id": "pjmqhpf_a-7H",
        "outputId": "9be3703d-1720-46f5-e1ef-1d14e724b703"
      },
      "source": [
        "g.first()"
      ],
      "execution_count": null,
      "outputs": [
        {
          "output_type": "execute_result",
          "data": {
            "text/html": [
              "<div>\n",
              "<style scoped>\n",
              "    .dataframe tbody tr th:only-of-type {\n",
              "        vertical-align: middle;\n",
              "    }\n",
              "\n",
              "    .dataframe tbody tr th {\n",
              "        vertical-align: top;\n",
              "    }\n",
              "\n",
              "    .dataframe thead th {\n",
              "        text-align: right;\n",
              "    }\n",
              "</style>\n",
              "<table border=\"1\" class=\"dataframe\">\n",
              "  <thead>\n",
              "    <tr style=\"text-align: right;\">\n",
              "      <th></th>\n",
              "      <th>day</th>\n",
              "      <th>temperature</th>\n",
              "      <th>windspeed</th>\n",
              "      <th>event</th>\n",
              "    </tr>\n",
              "    <tr>\n",
              "      <th>city</th>\n",
              "      <th></th>\n",
              "      <th></th>\n",
              "      <th></th>\n",
              "      <th></th>\n",
              "    </tr>\n",
              "  </thead>\n",
              "  <tbody>\n",
              "    <tr>\n",
              "      <th>mumbai</th>\n",
              "      <td>1/1/2017</td>\n",
              "      <td>90</td>\n",
              "      <td>5</td>\n",
              "      <td>Sunny</td>\n",
              "    </tr>\n",
              "    <tr>\n",
              "      <th>new york</th>\n",
              "      <td>1/1/2017</td>\n",
              "      <td>32</td>\n",
              "      <td>6</td>\n",
              "      <td>Rain</td>\n",
              "    </tr>\n",
              "    <tr>\n",
              "      <th>paris</th>\n",
              "      <td>1/1/2017</td>\n",
              "      <td>45</td>\n",
              "      <td>20</td>\n",
              "      <td>Sunny</td>\n",
              "    </tr>\n",
              "  </tbody>\n",
              "</table>\n",
              "</div>"
            ],
            "text/plain": [
              "               day  temperature  windspeed  event\n",
              "city                                             \n",
              "mumbai    1/1/2017           90          5  Sunny\n",
              "new york  1/1/2017           32          6   Rain\n",
              "paris     1/1/2017           45         20  Sunny"
            ]
          },
          "metadata": {
            "tags": []
          },
          "execution_count": 67
        }
      ]
    },
    {
      "cell_type": "code",
      "metadata": {
        "colab": {
          "base_uri": "https://localhost:8080/",
          "height": 173
        },
        "id": "woEWqELHbAsQ",
        "outputId": "8cb9994a-bd10-4792-8608-19f14655074a"
      },
      "source": [
        "g.get_group('mumbai')"
      ],
      "execution_count": null,
      "outputs": [
        {
          "output_type": "execute_result",
          "data": {
            "text/html": [
              "<div>\n",
              "<style scoped>\n",
              "    .dataframe tbody tr th:only-of-type {\n",
              "        vertical-align: middle;\n",
              "    }\n",
              "\n",
              "    .dataframe tbody tr th {\n",
              "        vertical-align: top;\n",
              "    }\n",
              "\n",
              "    .dataframe thead th {\n",
              "        text-align: right;\n",
              "    }\n",
              "</style>\n",
              "<table border=\"1\" class=\"dataframe\">\n",
              "  <thead>\n",
              "    <tr style=\"text-align: right;\">\n",
              "      <th></th>\n",
              "      <th>day</th>\n",
              "      <th>temperature</th>\n",
              "      <th>windspeed</th>\n",
              "      <th>event</th>\n",
              "    </tr>\n",
              "  </thead>\n",
              "  <tbody>\n",
              "    <tr>\n",
              "      <th>4</th>\n",
              "      <td>1/1/2017</td>\n",
              "      <td>90</td>\n",
              "      <td>5</td>\n",
              "      <td>Sunny</td>\n",
              "    </tr>\n",
              "    <tr>\n",
              "      <th>5</th>\n",
              "      <td>1/2/2017</td>\n",
              "      <td>85</td>\n",
              "      <td>12</td>\n",
              "      <td>Fog</td>\n",
              "    </tr>\n",
              "    <tr>\n",
              "      <th>6</th>\n",
              "      <td>1/3/2017</td>\n",
              "      <td>87</td>\n",
              "      <td>15</td>\n",
              "      <td>Fog</td>\n",
              "    </tr>\n",
              "    <tr>\n",
              "      <th>7</th>\n",
              "      <td>1/4/2017</td>\n",
              "      <td>92</td>\n",
              "      <td>5</td>\n",
              "      <td>Rain</td>\n",
              "    </tr>\n",
              "  </tbody>\n",
              "</table>\n",
              "</div>"
            ],
            "text/plain": [
              "        day  temperature  windspeed  event\n",
              "4  1/1/2017           90          5  Sunny\n",
              "5  1/2/2017           85         12    Fog\n",
              "6  1/3/2017           87         15    Fog\n",
              "7  1/4/2017           92          5   Rain"
            ]
          },
          "metadata": {
            "tags": []
          },
          "execution_count": 68
        }
      ]
    },
    {
      "cell_type": "code",
      "metadata": {
        "colab": {
          "base_uri": "https://localhost:8080/",
          "height": 173
        },
        "id": "-GFFAkbGbR5d",
        "outputId": "1afe7f32-aa74-48a3-adb7-d7baacb76b3f"
      },
      "source": [
        "g.max()"
      ],
      "execution_count": null,
      "outputs": [
        {
          "output_type": "execute_result",
          "data": {
            "text/html": [
              "<div>\n",
              "<style scoped>\n",
              "    .dataframe tbody tr th:only-of-type {\n",
              "        vertical-align: middle;\n",
              "    }\n",
              "\n",
              "    .dataframe tbody tr th {\n",
              "        vertical-align: top;\n",
              "    }\n",
              "\n",
              "    .dataframe thead th {\n",
              "        text-align: right;\n",
              "    }\n",
              "</style>\n",
              "<table border=\"1\" class=\"dataframe\">\n",
              "  <thead>\n",
              "    <tr style=\"text-align: right;\">\n",
              "      <th></th>\n",
              "      <th>day</th>\n",
              "      <th>temperature</th>\n",
              "      <th>windspeed</th>\n",
              "      <th>event</th>\n",
              "    </tr>\n",
              "    <tr>\n",
              "      <th>city</th>\n",
              "      <th></th>\n",
              "      <th></th>\n",
              "      <th></th>\n",
              "      <th></th>\n",
              "    </tr>\n",
              "  </thead>\n",
              "  <tbody>\n",
              "    <tr>\n",
              "      <th>mumbai</th>\n",
              "      <td>1/4/2017</td>\n",
              "      <td>92</td>\n",
              "      <td>15</td>\n",
              "      <td>Sunny</td>\n",
              "    </tr>\n",
              "    <tr>\n",
              "      <th>new york</th>\n",
              "      <td>1/4/2017</td>\n",
              "      <td>36</td>\n",
              "      <td>12</td>\n",
              "      <td>Sunny</td>\n",
              "    </tr>\n",
              "    <tr>\n",
              "      <th>paris</th>\n",
              "      <td>1/4/2017</td>\n",
              "      <td>54</td>\n",
              "      <td>20</td>\n",
              "      <td>Sunny</td>\n",
              "    </tr>\n",
              "  </tbody>\n",
              "</table>\n",
              "</div>"
            ],
            "text/plain": [
              "               day  temperature  windspeed  event\n",
              "city                                             \n",
              "mumbai    1/4/2017           92         15  Sunny\n",
              "new york  1/4/2017           36         12  Sunny\n",
              "paris     1/4/2017           54         20  Sunny"
            ]
          },
          "metadata": {
            "tags": []
          },
          "execution_count": 69
        }
      ]
    },
    {
      "cell_type": "code",
      "metadata": {
        "colab": {
          "base_uri": "https://localhost:8080/",
          "height": 173
        },
        "id": "d3C8YoUvbfSO",
        "outputId": "9249301c-7b3f-4ddc-8886-34fd3e48358a"
      },
      "source": [
        "g.mean()"
      ],
      "execution_count": null,
      "outputs": [
        {
          "output_type": "execute_result",
          "data": {
            "text/html": [
              "<div>\n",
              "<style scoped>\n",
              "    .dataframe tbody tr th:only-of-type {\n",
              "        vertical-align: middle;\n",
              "    }\n",
              "\n",
              "    .dataframe tbody tr th {\n",
              "        vertical-align: top;\n",
              "    }\n",
              "\n",
              "    .dataframe thead th {\n",
              "        text-align: right;\n",
              "    }\n",
              "</style>\n",
              "<table border=\"1\" class=\"dataframe\">\n",
              "  <thead>\n",
              "    <tr style=\"text-align: right;\">\n",
              "      <th></th>\n",
              "      <th>temperature</th>\n",
              "      <th>windspeed</th>\n",
              "    </tr>\n",
              "    <tr>\n",
              "      <th>city</th>\n",
              "      <th></th>\n",
              "      <th></th>\n",
              "    </tr>\n",
              "  </thead>\n",
              "  <tbody>\n",
              "    <tr>\n",
              "      <th>mumbai</th>\n",
              "      <td>88.50</td>\n",
              "      <td>9.25</td>\n",
              "    </tr>\n",
              "    <tr>\n",
              "      <th>new york</th>\n",
              "      <td>32.25</td>\n",
              "      <td>8.00</td>\n",
              "    </tr>\n",
              "    <tr>\n",
              "      <th>paris</th>\n",
              "      <td>47.75</td>\n",
              "      <td>12.75</td>\n",
              "    </tr>\n",
              "  </tbody>\n",
              "</table>\n",
              "</div>"
            ],
            "text/plain": [
              "          temperature  windspeed\n",
              "city                            \n",
              "mumbai          88.50       9.25\n",
              "new york        32.25       8.00\n",
              "paris           47.75      12.75"
            ]
          },
          "metadata": {
            "tags": []
          },
          "execution_count": 70
        }
      ]
    },
    {
      "cell_type": "code",
      "metadata": {
        "id": "jyVv9REsbuMZ"
      },
      "source": [
        "df = pd.DataFrame({\n",
        "    'value':[20.45,22.89,32.12,111.22,33.22,100.00,99.99],\n",
        "    'product':['table','chair','chair','mobile phone','table','mobile phone','table'],\n",
        "    'price':[100,200,300,400,500,600,700]\n",
        "})\n"
      ],
      "execution_count": null,
      "outputs": []
    },
    {
      "cell_type": "code",
      "metadata": {
        "colab": {
          "base_uri": "https://localhost:8080/",
          "height": 266
        },
        "id": "MXeGvntUcdA0",
        "outputId": "ffb4a1bc-2b66-435a-90dc-55c7ea9db6b7"
      },
      "source": [
        "df"
      ],
      "execution_count": null,
      "outputs": [
        {
          "output_type": "execute_result",
          "data": {
            "text/html": [
              "<div>\n",
              "<style scoped>\n",
              "    .dataframe tbody tr th:only-of-type {\n",
              "        vertical-align: middle;\n",
              "    }\n",
              "\n",
              "    .dataframe tbody tr th {\n",
              "        vertical-align: top;\n",
              "    }\n",
              "\n",
              "    .dataframe thead th {\n",
              "        text-align: right;\n",
              "    }\n",
              "</style>\n",
              "<table border=\"1\" class=\"dataframe\">\n",
              "  <thead>\n",
              "    <tr style=\"text-align: right;\">\n",
              "      <th></th>\n",
              "      <th>value</th>\n",
              "      <th>product</th>\n",
              "      <th>price</th>\n",
              "    </tr>\n",
              "  </thead>\n",
              "  <tbody>\n",
              "    <tr>\n",
              "      <th>0</th>\n",
              "      <td>20.45</td>\n",
              "      <td>table</td>\n",
              "      <td>100</td>\n",
              "    </tr>\n",
              "    <tr>\n",
              "      <th>1</th>\n",
              "      <td>22.89</td>\n",
              "      <td>chair</td>\n",
              "      <td>200</td>\n",
              "    </tr>\n",
              "    <tr>\n",
              "      <th>2</th>\n",
              "      <td>32.12</td>\n",
              "      <td>chair</td>\n",
              "      <td>300</td>\n",
              "    </tr>\n",
              "    <tr>\n",
              "      <th>3</th>\n",
              "      <td>111.22</td>\n",
              "      <td>mobile phone</td>\n",
              "      <td>400</td>\n",
              "    </tr>\n",
              "    <tr>\n",
              "      <th>4</th>\n",
              "      <td>33.22</td>\n",
              "      <td>table</td>\n",
              "      <td>500</td>\n",
              "    </tr>\n",
              "    <tr>\n",
              "      <th>5</th>\n",
              "      <td>100.00</td>\n",
              "      <td>mobile phone</td>\n",
              "      <td>600</td>\n",
              "    </tr>\n",
              "    <tr>\n",
              "      <th>6</th>\n",
              "      <td>99.99</td>\n",
              "      <td>table</td>\n",
              "      <td>700</td>\n",
              "    </tr>\n",
              "  </tbody>\n",
              "</table>\n",
              "</div>"
            ],
            "text/plain": [
              "    value       product  price\n",
              "0   20.45         table    100\n",
              "1   22.89         chair    200\n",
              "2   32.12         chair    300\n",
              "3  111.22  mobile phone    400\n",
              "4   33.22         table    500\n",
              "5  100.00  mobile phone    600\n",
              "6   99.99         table    700"
            ]
          },
          "metadata": {
            "tags": []
          },
          "execution_count": 72
        }
      ]
    },
    {
      "cell_type": "code",
      "metadata": {
        "id": "nocWxd9McX29"
      },
      "source": [
        "group_df=df.groupby('product').agg({'value':['min','max','mean']})"
      ],
      "execution_count": null,
      "outputs": []
    },
    {
      "cell_type": "code",
      "metadata": {
        "colab": {
          "base_uri": "https://localhost:8080/",
          "height": 204
        },
        "id": "dW9OFY_ccyCV",
        "outputId": "942ec3d2-0fa7-491c-ce45-ca3eaa784e2a"
      },
      "source": [
        "group_df"
      ],
      "execution_count": null,
      "outputs": [
        {
          "output_type": "execute_result",
          "data": {
            "text/html": [
              "<div>\n",
              "<style scoped>\n",
              "    .dataframe tbody tr th:only-of-type {\n",
              "        vertical-align: middle;\n",
              "    }\n",
              "\n",
              "    .dataframe tbody tr th {\n",
              "        vertical-align: top;\n",
              "    }\n",
              "\n",
              "    .dataframe thead tr th {\n",
              "        text-align: left;\n",
              "    }\n",
              "\n",
              "    .dataframe thead tr:last-of-type th {\n",
              "        text-align: right;\n",
              "    }\n",
              "</style>\n",
              "<table border=\"1\" class=\"dataframe\">\n",
              "  <thead>\n",
              "    <tr>\n",
              "      <th></th>\n",
              "      <th colspan=\"3\" halign=\"left\">value</th>\n",
              "    </tr>\n",
              "    <tr>\n",
              "      <th></th>\n",
              "      <th>min</th>\n",
              "      <th>max</th>\n",
              "      <th>mean</th>\n",
              "    </tr>\n",
              "    <tr>\n",
              "      <th>product</th>\n",
              "      <th></th>\n",
              "      <th></th>\n",
              "      <th></th>\n",
              "    </tr>\n",
              "  </thead>\n",
              "  <tbody>\n",
              "    <tr>\n",
              "      <th>chair</th>\n",
              "      <td>22.89</td>\n",
              "      <td>32.12</td>\n",
              "      <td>27.505</td>\n",
              "    </tr>\n",
              "    <tr>\n",
              "      <th>mobile phone</th>\n",
              "      <td>100.00</td>\n",
              "      <td>111.22</td>\n",
              "      <td>105.610</td>\n",
              "    </tr>\n",
              "    <tr>\n",
              "      <th>table</th>\n",
              "      <td>20.45</td>\n",
              "      <td>99.99</td>\n",
              "      <td>51.220</td>\n",
              "    </tr>\n",
              "  </tbody>\n",
              "</table>\n",
              "</div>"
            ],
            "text/plain": [
              "               value                 \n",
              "                 min     max     mean\n",
              "product                              \n",
              "chair          22.89   32.12   27.505\n",
              "mobile phone  100.00  111.22  105.610\n",
              "table          20.45   99.99   51.220"
            ]
          },
          "metadata": {
            "tags": []
          },
          "execution_count": 74
        }
      ]
    },
    {
      "cell_type": "code",
      "metadata": {
        "id": "jUcgt8WEc3sP"
      },
      "source": [
        "group_df=df.groupby('product').agg({'value':['min','max','mean'],'price':['mean']})"
      ],
      "execution_count": null,
      "outputs": []
    },
    {
      "cell_type": "code",
      "metadata": {
        "colab": {
          "base_uri": "https://localhost:8080/",
          "height": 204
        },
        "id": "zH1UIZ3ddDcY",
        "outputId": "0e7ce336-f9ae-499d-d258-5c8311e1fede"
      },
      "source": [
        "group_df"
      ],
      "execution_count": null,
      "outputs": [
        {
          "output_type": "execute_result",
          "data": {
            "text/html": [
              "<div>\n",
              "<style scoped>\n",
              "    .dataframe tbody tr th:only-of-type {\n",
              "        vertical-align: middle;\n",
              "    }\n",
              "\n",
              "    .dataframe tbody tr th {\n",
              "        vertical-align: top;\n",
              "    }\n",
              "\n",
              "    .dataframe thead tr th {\n",
              "        text-align: left;\n",
              "    }\n",
              "\n",
              "    .dataframe thead tr:last-of-type th {\n",
              "        text-align: right;\n",
              "    }\n",
              "</style>\n",
              "<table border=\"1\" class=\"dataframe\">\n",
              "  <thead>\n",
              "    <tr>\n",
              "      <th></th>\n",
              "      <th colspan=\"3\" halign=\"left\">value</th>\n",
              "      <th>price</th>\n",
              "    </tr>\n",
              "    <tr>\n",
              "      <th></th>\n",
              "      <th>min</th>\n",
              "      <th>max</th>\n",
              "      <th>mean</th>\n",
              "      <th>mean</th>\n",
              "    </tr>\n",
              "    <tr>\n",
              "      <th>product</th>\n",
              "      <th></th>\n",
              "      <th></th>\n",
              "      <th></th>\n",
              "      <th></th>\n",
              "    </tr>\n",
              "  </thead>\n",
              "  <tbody>\n",
              "    <tr>\n",
              "      <th>chair</th>\n",
              "      <td>22.89</td>\n",
              "      <td>32.12</td>\n",
              "      <td>27.505</td>\n",
              "      <td>250.000000</td>\n",
              "    </tr>\n",
              "    <tr>\n",
              "      <th>mobile phone</th>\n",
              "      <td>100.00</td>\n",
              "      <td>111.22</td>\n",
              "      <td>105.610</td>\n",
              "      <td>500.000000</td>\n",
              "    </tr>\n",
              "    <tr>\n",
              "      <th>table</th>\n",
              "      <td>20.45</td>\n",
              "      <td>99.99</td>\n",
              "      <td>51.220</td>\n",
              "      <td>433.333333</td>\n",
              "    </tr>\n",
              "  </tbody>\n",
              "</table>\n",
              "</div>"
            ],
            "text/plain": [
              "               value                        price\n",
              "                 min     max     mean        mean\n",
              "product                                          \n",
              "chair          22.89   32.12   27.505  250.000000\n",
              "mobile phone  100.00  111.22  105.610  500.000000\n",
              "table          20.45   99.99   51.220  433.333333"
            ]
          },
          "metadata": {
            "tags": []
          },
          "execution_count": 81
        }
      ]
    },
    {
      "cell_type": "code",
      "metadata": {
        "id": "fVpUA6jadFAr"
      },
      "source": [
        "group_df.columns = ['_'.join(col) for col in group_df.columns.values]\n"
      ],
      "execution_count": null,
      "outputs": []
    },
    {
      "cell_type": "code",
      "metadata": {
        "colab": {
          "base_uri": "https://localhost:8080/",
          "height": 173
        },
        "id": "7LKnLmNsdhIQ",
        "outputId": "e8c7cdcc-d4ff-43fa-eecd-51547e153581"
      },
      "source": [
        "group_df"
      ],
      "execution_count": null,
      "outputs": [
        {
          "output_type": "execute_result",
          "data": {
            "text/html": [
              "<div>\n",
              "<style scoped>\n",
              "    .dataframe tbody tr th:only-of-type {\n",
              "        vertical-align: middle;\n",
              "    }\n",
              "\n",
              "    .dataframe tbody tr th {\n",
              "        vertical-align: top;\n",
              "    }\n",
              "\n",
              "    .dataframe thead th {\n",
              "        text-align: right;\n",
              "    }\n",
              "</style>\n",
              "<table border=\"1\" class=\"dataframe\">\n",
              "  <thead>\n",
              "    <tr style=\"text-align: right;\">\n",
              "      <th></th>\n",
              "      <th>value_min</th>\n",
              "      <th>value_max</th>\n",
              "      <th>value_mean</th>\n",
              "      <th>price_mean</th>\n",
              "    </tr>\n",
              "    <tr>\n",
              "      <th>product</th>\n",
              "      <th></th>\n",
              "      <th></th>\n",
              "      <th></th>\n",
              "      <th></th>\n",
              "    </tr>\n",
              "  </thead>\n",
              "  <tbody>\n",
              "    <tr>\n",
              "      <th>chair</th>\n",
              "      <td>22.89</td>\n",
              "      <td>32.12</td>\n",
              "      <td>27.505</td>\n",
              "      <td>250.000000</td>\n",
              "    </tr>\n",
              "    <tr>\n",
              "      <th>mobile phone</th>\n",
              "      <td>100.00</td>\n",
              "      <td>111.22</td>\n",
              "      <td>105.610</td>\n",
              "      <td>500.000000</td>\n",
              "    </tr>\n",
              "    <tr>\n",
              "      <th>table</th>\n",
              "      <td>20.45</td>\n",
              "      <td>99.99</td>\n",
              "      <td>51.220</td>\n",
              "      <td>433.333333</td>\n",
              "    </tr>\n",
              "  </tbody>\n",
              "</table>\n",
              "</div>"
            ],
            "text/plain": [
              "              value_min  value_max  value_mean  price_mean\n",
              "product                                                   \n",
              "chair             22.89      32.12      27.505  250.000000\n",
              "mobile phone     100.00     111.22     105.610  500.000000\n",
              "table             20.45      99.99      51.220  433.333333"
            ]
          },
          "metadata": {
            "tags": []
          },
          "execution_count": 83
        }
      ]
    },
    {
      "cell_type": "code",
      "metadata": {
        "id": "SBQrL44pdoDi"
      },
      "source": [
        "group_df = group_df.reset_index()"
      ],
      "execution_count": null,
      "outputs": []
    },
    {
      "cell_type": "code",
      "metadata": {
        "colab": {
          "base_uri": "https://localhost:8080/",
          "height": 142
        },
        "id": "jQn3ESTFd5Xv",
        "outputId": "f1791ab3-132a-4f02-fb96-a6da6250dcd6"
      },
      "source": [
        "group_df"
      ],
      "execution_count": null,
      "outputs": [
        {
          "output_type": "execute_result",
          "data": {
            "text/html": [
              "<div>\n",
              "<style scoped>\n",
              "    .dataframe tbody tr th:only-of-type {\n",
              "        vertical-align: middle;\n",
              "    }\n",
              "\n",
              "    .dataframe tbody tr th {\n",
              "        vertical-align: top;\n",
              "    }\n",
              "\n",
              "    .dataframe thead th {\n",
              "        text-align: right;\n",
              "    }\n",
              "</style>\n",
              "<table border=\"1\" class=\"dataframe\">\n",
              "  <thead>\n",
              "    <tr style=\"text-align: right;\">\n",
              "      <th></th>\n",
              "      <th>product</th>\n",
              "      <th>value_min</th>\n",
              "      <th>value_max</th>\n",
              "      <th>value_mean</th>\n",
              "      <th>price_mean</th>\n",
              "    </tr>\n",
              "  </thead>\n",
              "  <tbody>\n",
              "    <tr>\n",
              "      <th>0</th>\n",
              "      <td>chair</td>\n",
              "      <td>22.89</td>\n",
              "      <td>32.12</td>\n",
              "      <td>27.505</td>\n",
              "      <td>250.000000</td>\n",
              "    </tr>\n",
              "    <tr>\n",
              "      <th>1</th>\n",
              "      <td>mobile phone</td>\n",
              "      <td>100.00</td>\n",
              "      <td>111.22</td>\n",
              "      <td>105.610</td>\n",
              "      <td>500.000000</td>\n",
              "    </tr>\n",
              "    <tr>\n",
              "      <th>2</th>\n",
              "      <td>table</td>\n",
              "      <td>20.45</td>\n",
              "      <td>99.99</td>\n",
              "      <td>51.220</td>\n",
              "      <td>433.333333</td>\n",
              "    </tr>\n",
              "  </tbody>\n",
              "</table>\n",
              "</div>"
            ],
            "text/plain": [
              "        product  value_min  value_max  value_mean  price_mean\n",
              "0         chair      22.89      32.12      27.505  250.000000\n",
              "1  mobile phone     100.00     111.22     105.610  500.000000\n",
              "2         table      20.45      99.99      51.220  433.333333"
            ]
          },
          "metadata": {
            "tags": []
          },
          "execution_count": 85
        }
      ]
    },
    {
      "cell_type": "code",
      "metadata": {
        "colab": {
          "base_uri": "https://localhost:8080/"
        },
        "id": "rCjP8b8VhnkI",
        "outputId": "564205f7-8e97-42bf-eceb-910015b8edde"
      },
      "source": [
        "group_df['price_mean']"
      ],
      "execution_count": null,
      "outputs": [
        {
          "output_type": "execute_result",
          "data": {
            "text/plain": [
              "0    250.000000\n",
              "1    500.000000\n",
              "2    433.333333\n",
              "Name: price_mean, dtype: float64"
            ]
          },
          "metadata": {
            "tags": []
          },
          "execution_count": 101
        }
      ]
    },
    {
      "cell_type": "markdown",
      "metadata": {
        "id": "CsaBgZjfeF2Z"
      },
      "source": [
        "# merge"
      ]
    },
    {
      "cell_type": "code",
      "metadata": {
        "id": "3xoECG5Qd7Fs"
      },
      "source": [
        "import pandas as pd\n",
        "df1 = pd.DataFrame({'employee': ['Bob', 'Jake', 'Lisa', 'Sue'],\n",
        "                    'group': ['Accounting', 'Engineering', 'Engineering', 'HR']})\n",
        "df2 = pd.DataFrame({'employee': ['Lisa', 'Bob', 'Jake', 'Sue'],\n",
        "                    'hire_date': [2004, 2008, 2012, 2014]})"
      ],
      "execution_count": null,
      "outputs": []
    },
    {
      "cell_type": "code",
      "metadata": {
        "colab": {
          "base_uri": "https://localhost:8080/",
          "height": 173
        },
        "id": "paM_q-XpejV8",
        "outputId": "91669e30-4914-4ad4-a0a8-b9f88bf76538"
      },
      "source": [
        "df1"
      ],
      "execution_count": null,
      "outputs": [
        {
          "output_type": "execute_result",
          "data": {
            "text/html": [
              "<div>\n",
              "<style scoped>\n",
              "    .dataframe tbody tr th:only-of-type {\n",
              "        vertical-align: middle;\n",
              "    }\n",
              "\n",
              "    .dataframe tbody tr th {\n",
              "        vertical-align: top;\n",
              "    }\n",
              "\n",
              "    .dataframe thead th {\n",
              "        text-align: right;\n",
              "    }\n",
              "</style>\n",
              "<table border=\"1\" class=\"dataframe\">\n",
              "  <thead>\n",
              "    <tr style=\"text-align: right;\">\n",
              "      <th></th>\n",
              "      <th>employee</th>\n",
              "      <th>group</th>\n",
              "    </tr>\n",
              "  </thead>\n",
              "  <tbody>\n",
              "    <tr>\n",
              "      <th>0</th>\n",
              "      <td>Bob</td>\n",
              "      <td>Accounting</td>\n",
              "    </tr>\n",
              "    <tr>\n",
              "      <th>1</th>\n",
              "      <td>Jake</td>\n",
              "      <td>Engineering</td>\n",
              "    </tr>\n",
              "    <tr>\n",
              "      <th>2</th>\n",
              "      <td>Lisa</td>\n",
              "      <td>Engineering</td>\n",
              "    </tr>\n",
              "    <tr>\n",
              "      <th>3</th>\n",
              "      <td>Sue</td>\n",
              "      <td>HR</td>\n",
              "    </tr>\n",
              "  </tbody>\n",
              "</table>\n",
              "</div>"
            ],
            "text/plain": [
              "  employee        group\n",
              "0      Bob   Accounting\n",
              "1     Jake  Engineering\n",
              "2     Lisa  Engineering\n",
              "3      Sue           HR"
            ]
          },
          "metadata": {
            "tags": []
          },
          "execution_count": 4
        }
      ]
    },
    {
      "cell_type": "code",
      "metadata": {
        "colab": {
          "base_uri": "https://localhost:8080/",
          "height": 173
        },
        "id": "pZhV1cvkekTe",
        "outputId": "c30abaa2-f840-4b3a-bdbe-30238dd690cc"
      },
      "source": [
        "df2"
      ],
      "execution_count": null,
      "outputs": [
        {
          "output_type": "execute_result",
          "data": {
            "text/html": [
              "<div>\n",
              "<style scoped>\n",
              "    .dataframe tbody tr th:only-of-type {\n",
              "        vertical-align: middle;\n",
              "    }\n",
              "\n",
              "    .dataframe tbody tr th {\n",
              "        vertical-align: top;\n",
              "    }\n",
              "\n",
              "    .dataframe thead th {\n",
              "        text-align: right;\n",
              "    }\n",
              "</style>\n",
              "<table border=\"1\" class=\"dataframe\">\n",
              "  <thead>\n",
              "    <tr style=\"text-align: right;\">\n",
              "      <th></th>\n",
              "      <th>employee</th>\n",
              "      <th>hire_date</th>\n",
              "    </tr>\n",
              "  </thead>\n",
              "  <tbody>\n",
              "    <tr>\n",
              "      <th>0</th>\n",
              "      <td>Lisa</td>\n",
              "      <td>2004</td>\n",
              "    </tr>\n",
              "    <tr>\n",
              "      <th>1</th>\n",
              "      <td>Bob</td>\n",
              "      <td>2008</td>\n",
              "    </tr>\n",
              "    <tr>\n",
              "      <th>2</th>\n",
              "      <td>Jake</td>\n",
              "      <td>2012</td>\n",
              "    </tr>\n",
              "    <tr>\n",
              "      <th>3</th>\n",
              "      <td>Sue</td>\n",
              "      <td>2014</td>\n",
              "    </tr>\n",
              "  </tbody>\n",
              "</table>\n",
              "</div>"
            ],
            "text/plain": [
              "  employee  hire_date\n",
              "0     Lisa       2004\n",
              "1      Bob       2008\n",
              "2     Jake       2012\n",
              "3      Sue       2014"
            ]
          },
          "metadata": {
            "tags": []
          },
          "execution_count": 5
        }
      ]
    },
    {
      "cell_type": "code",
      "metadata": {
        "id": "QKLbfxT3elGs"
      },
      "source": [
        "df3=pd.merge(df1,df2)"
      ],
      "execution_count": null,
      "outputs": []
    },
    {
      "cell_type": "code",
      "metadata": {
        "colab": {
          "base_uri": "https://localhost:8080/",
          "height": 173
        },
        "id": "02ehUto3fMWh",
        "outputId": "c383f186-53f5-432c-86a7-39bccf6c1a6c"
      },
      "source": [
        "df3"
      ],
      "execution_count": null,
      "outputs": [
        {
          "output_type": "execute_result",
          "data": {
            "text/html": [
              "<div>\n",
              "<style scoped>\n",
              "    .dataframe tbody tr th:only-of-type {\n",
              "        vertical-align: middle;\n",
              "    }\n",
              "\n",
              "    .dataframe tbody tr th {\n",
              "        vertical-align: top;\n",
              "    }\n",
              "\n",
              "    .dataframe thead th {\n",
              "        text-align: right;\n",
              "    }\n",
              "</style>\n",
              "<table border=\"1\" class=\"dataframe\">\n",
              "  <thead>\n",
              "    <tr style=\"text-align: right;\">\n",
              "      <th></th>\n",
              "      <th>employee</th>\n",
              "      <th>group</th>\n",
              "      <th>hire_date</th>\n",
              "    </tr>\n",
              "  </thead>\n",
              "  <tbody>\n",
              "    <tr>\n",
              "      <th>0</th>\n",
              "      <td>Bob</td>\n",
              "      <td>Accounting</td>\n",
              "      <td>2008</td>\n",
              "    </tr>\n",
              "    <tr>\n",
              "      <th>1</th>\n",
              "      <td>Jake</td>\n",
              "      <td>Engineering</td>\n",
              "      <td>2012</td>\n",
              "    </tr>\n",
              "    <tr>\n",
              "      <th>2</th>\n",
              "      <td>Lisa</td>\n",
              "      <td>Engineering</td>\n",
              "      <td>2004</td>\n",
              "    </tr>\n",
              "    <tr>\n",
              "      <th>3</th>\n",
              "      <td>Sue</td>\n",
              "      <td>HR</td>\n",
              "      <td>2014</td>\n",
              "    </tr>\n",
              "  </tbody>\n",
              "</table>\n",
              "</div>"
            ],
            "text/plain": [
              "  employee        group  hire_date\n",
              "0      Bob   Accounting       2008\n",
              "1     Jake  Engineering       2012\n",
              "2     Lisa  Engineering       2004\n",
              "3      Sue           HR       2014"
            ]
          },
          "metadata": {
            "tags": []
          },
          "execution_count": 7
        }
      ]
    },
    {
      "cell_type": "code",
      "metadata": {
        "id": "ghIIsMDAfNft"
      },
      "source": [
        "df4 = pd.DataFrame({'group': ['Accounting', 'Engineering', 'HR'],\n",
        "                    'supervisor': ['Carly', 'Guido', 'Steve']})"
      ],
      "execution_count": null,
      "outputs": []
    },
    {
      "cell_type": "code",
      "metadata": {
        "colab": {
          "base_uri": "https://localhost:8080/",
          "height": 142
        },
        "id": "GiQgfwMIfgpm",
        "outputId": "4a7dcd74-13fc-4d3a-cf02-29c5b1595893"
      },
      "source": [
        "df4"
      ],
      "execution_count": null,
      "outputs": [
        {
          "output_type": "execute_result",
          "data": {
            "text/html": [
              "<div>\n",
              "<style scoped>\n",
              "    .dataframe tbody tr th:only-of-type {\n",
              "        vertical-align: middle;\n",
              "    }\n",
              "\n",
              "    .dataframe tbody tr th {\n",
              "        vertical-align: top;\n",
              "    }\n",
              "\n",
              "    .dataframe thead th {\n",
              "        text-align: right;\n",
              "    }\n",
              "</style>\n",
              "<table border=\"1\" class=\"dataframe\">\n",
              "  <thead>\n",
              "    <tr style=\"text-align: right;\">\n",
              "      <th></th>\n",
              "      <th>group</th>\n",
              "      <th>supervisor</th>\n",
              "    </tr>\n",
              "  </thead>\n",
              "  <tbody>\n",
              "    <tr>\n",
              "      <th>0</th>\n",
              "      <td>Accounting</td>\n",
              "      <td>Carly</td>\n",
              "    </tr>\n",
              "    <tr>\n",
              "      <th>1</th>\n",
              "      <td>Engineering</td>\n",
              "      <td>Guido</td>\n",
              "    </tr>\n",
              "    <tr>\n",
              "      <th>2</th>\n",
              "      <td>HR</td>\n",
              "      <td>Steve</td>\n",
              "    </tr>\n",
              "  </tbody>\n",
              "</table>\n",
              "</div>"
            ],
            "text/plain": [
              "         group supervisor\n",
              "0   Accounting      Carly\n",
              "1  Engineering      Guido\n",
              "2           HR      Steve"
            ]
          },
          "metadata": {
            "tags": []
          },
          "execution_count": 9
        }
      ]
    },
    {
      "cell_type": "code",
      "metadata": {
        "id": "VydRjNlofhi8"
      },
      "source": [
        "df5=pd.merge(df3,df4)"
      ],
      "execution_count": null,
      "outputs": []
    },
    {
      "cell_type": "code",
      "metadata": {
        "colab": {
          "base_uri": "https://localhost:8080/",
          "height": 173
        },
        "id": "gJeU31kpf2s_",
        "outputId": "54ca8b1e-afc8-490f-e34e-3fb5a2ac157c"
      },
      "source": [
        "df5"
      ],
      "execution_count": null,
      "outputs": [
        {
          "output_type": "execute_result",
          "data": {
            "text/html": [
              "<div>\n",
              "<style scoped>\n",
              "    .dataframe tbody tr th:only-of-type {\n",
              "        vertical-align: middle;\n",
              "    }\n",
              "\n",
              "    .dataframe tbody tr th {\n",
              "        vertical-align: top;\n",
              "    }\n",
              "\n",
              "    .dataframe thead th {\n",
              "        text-align: right;\n",
              "    }\n",
              "</style>\n",
              "<table border=\"1\" class=\"dataframe\">\n",
              "  <thead>\n",
              "    <tr style=\"text-align: right;\">\n",
              "      <th></th>\n",
              "      <th>employee</th>\n",
              "      <th>group</th>\n",
              "      <th>hire_date</th>\n",
              "      <th>supervisor</th>\n",
              "    </tr>\n",
              "  </thead>\n",
              "  <tbody>\n",
              "    <tr>\n",
              "      <th>0</th>\n",
              "      <td>Bob</td>\n",
              "      <td>Accounting</td>\n",
              "      <td>2008</td>\n",
              "      <td>Carly</td>\n",
              "    </tr>\n",
              "    <tr>\n",
              "      <th>1</th>\n",
              "      <td>Jake</td>\n",
              "      <td>Engineering</td>\n",
              "      <td>2012</td>\n",
              "      <td>Guido</td>\n",
              "    </tr>\n",
              "    <tr>\n",
              "      <th>2</th>\n",
              "      <td>Lisa</td>\n",
              "      <td>Engineering</td>\n",
              "      <td>2004</td>\n",
              "      <td>Guido</td>\n",
              "    </tr>\n",
              "    <tr>\n",
              "      <th>3</th>\n",
              "      <td>Sue</td>\n",
              "      <td>HR</td>\n",
              "      <td>2014</td>\n",
              "      <td>Steve</td>\n",
              "    </tr>\n",
              "  </tbody>\n",
              "</table>\n",
              "</div>"
            ],
            "text/plain": [
              "  employee        group  hire_date supervisor\n",
              "0      Bob   Accounting       2008      Carly\n",
              "1     Jake  Engineering       2012      Guido\n",
              "2     Lisa  Engineering       2004      Guido\n",
              "3      Sue           HR       2014      Steve"
            ]
          },
          "metadata": {
            "tags": []
          },
          "execution_count": 11
        }
      ]
    },
    {
      "cell_type": "code",
      "metadata": {
        "id": "sZfrJdqCf3hF"
      },
      "source": [
        "df6 = pd.DataFrame({'group': ['Accounting', 'Accounting',\n",
        "                              'Engineering', 'Engineering', 'HR', 'HR'],\n",
        "                    'skills': ['math', 'spreadsheets', 'coding', 'linux',\n",
        "                               'spreadsheets', 'organization']})"
      ],
      "execution_count": null,
      "outputs": []
    },
    {
      "cell_type": "code",
      "metadata": {
        "colab": {
          "base_uri": "https://localhost:8080/",
          "height": 235
        },
        "id": "T_6AnLOggKZz",
        "outputId": "3f0e52f4-5ab0-47fc-8b6e-2cf2bef29f02"
      },
      "source": [
        "df6"
      ],
      "execution_count": null,
      "outputs": [
        {
          "output_type": "execute_result",
          "data": {
            "text/html": [
              "<div>\n",
              "<style scoped>\n",
              "    .dataframe tbody tr th:only-of-type {\n",
              "        vertical-align: middle;\n",
              "    }\n",
              "\n",
              "    .dataframe tbody tr th {\n",
              "        vertical-align: top;\n",
              "    }\n",
              "\n",
              "    .dataframe thead th {\n",
              "        text-align: right;\n",
              "    }\n",
              "</style>\n",
              "<table border=\"1\" class=\"dataframe\">\n",
              "  <thead>\n",
              "    <tr style=\"text-align: right;\">\n",
              "      <th></th>\n",
              "      <th>group</th>\n",
              "      <th>skills</th>\n",
              "    </tr>\n",
              "  </thead>\n",
              "  <tbody>\n",
              "    <tr>\n",
              "      <th>0</th>\n",
              "      <td>Accounting</td>\n",
              "      <td>math</td>\n",
              "    </tr>\n",
              "    <tr>\n",
              "      <th>1</th>\n",
              "      <td>Accounting</td>\n",
              "      <td>spreadsheets</td>\n",
              "    </tr>\n",
              "    <tr>\n",
              "      <th>2</th>\n",
              "      <td>Engineering</td>\n",
              "      <td>coding</td>\n",
              "    </tr>\n",
              "    <tr>\n",
              "      <th>3</th>\n",
              "      <td>Engineering</td>\n",
              "      <td>linux</td>\n",
              "    </tr>\n",
              "    <tr>\n",
              "      <th>4</th>\n",
              "      <td>HR</td>\n",
              "      <td>spreadsheets</td>\n",
              "    </tr>\n",
              "    <tr>\n",
              "      <th>5</th>\n",
              "      <td>HR</td>\n",
              "      <td>organization</td>\n",
              "    </tr>\n",
              "  </tbody>\n",
              "</table>\n",
              "</div>"
            ],
            "text/plain": [
              "         group        skills\n",
              "0   Accounting          math\n",
              "1   Accounting  spreadsheets\n",
              "2  Engineering        coding\n",
              "3  Engineering         linux\n",
              "4           HR  spreadsheets\n",
              "5           HR  organization"
            ]
          },
          "metadata": {
            "tags": []
          },
          "execution_count": 13
        }
      ]
    },
    {
      "cell_type": "code",
      "metadata": {
        "colab": {
          "base_uri": "https://localhost:8080/",
          "height": 173
        },
        "id": "MP9m6hr0gLa3",
        "outputId": "03def9ed-44b9-4e13-9327-1fe8f9ec3562"
      },
      "source": [
        "df1"
      ],
      "execution_count": null,
      "outputs": [
        {
          "output_type": "execute_result",
          "data": {
            "text/html": [
              "<div>\n",
              "<style scoped>\n",
              "    .dataframe tbody tr th:only-of-type {\n",
              "        vertical-align: middle;\n",
              "    }\n",
              "\n",
              "    .dataframe tbody tr th {\n",
              "        vertical-align: top;\n",
              "    }\n",
              "\n",
              "    .dataframe thead th {\n",
              "        text-align: right;\n",
              "    }\n",
              "</style>\n",
              "<table border=\"1\" class=\"dataframe\">\n",
              "  <thead>\n",
              "    <tr style=\"text-align: right;\">\n",
              "      <th></th>\n",
              "      <th>employee</th>\n",
              "      <th>group</th>\n",
              "    </tr>\n",
              "  </thead>\n",
              "  <tbody>\n",
              "    <tr>\n",
              "      <th>0</th>\n",
              "      <td>Bob</td>\n",
              "      <td>Accounting</td>\n",
              "    </tr>\n",
              "    <tr>\n",
              "      <th>1</th>\n",
              "      <td>Jake</td>\n",
              "      <td>Engineering</td>\n",
              "    </tr>\n",
              "    <tr>\n",
              "      <th>2</th>\n",
              "      <td>Lisa</td>\n",
              "      <td>Engineering</td>\n",
              "    </tr>\n",
              "    <tr>\n",
              "      <th>3</th>\n",
              "      <td>Sue</td>\n",
              "      <td>HR</td>\n",
              "    </tr>\n",
              "  </tbody>\n",
              "</table>\n",
              "</div>"
            ],
            "text/plain": [
              "  employee        group\n",
              "0      Bob   Accounting\n",
              "1     Jake  Engineering\n",
              "2     Lisa  Engineering\n",
              "3      Sue           HR"
            ]
          },
          "metadata": {
            "tags": []
          },
          "execution_count": 14
        }
      ]
    },
    {
      "cell_type": "code",
      "metadata": {
        "id": "wWcwJsKbgNZI"
      },
      "source": [
        "df7=pd.merge(df1,df6)"
      ],
      "execution_count": null,
      "outputs": []
    },
    {
      "cell_type": "code",
      "metadata": {
        "colab": {
          "base_uri": "https://localhost:8080/",
          "height": 297
        },
        "id": "i0Yo_CdkgeXN",
        "outputId": "bfd7ff9d-f0b5-40f6-c69c-4ca34e9e360c"
      },
      "source": [
        "df7"
      ],
      "execution_count": null,
      "outputs": [
        {
          "output_type": "execute_result",
          "data": {
            "text/html": [
              "<div>\n",
              "<style scoped>\n",
              "    .dataframe tbody tr th:only-of-type {\n",
              "        vertical-align: middle;\n",
              "    }\n",
              "\n",
              "    .dataframe tbody tr th {\n",
              "        vertical-align: top;\n",
              "    }\n",
              "\n",
              "    .dataframe thead th {\n",
              "        text-align: right;\n",
              "    }\n",
              "</style>\n",
              "<table border=\"1\" class=\"dataframe\">\n",
              "  <thead>\n",
              "    <tr style=\"text-align: right;\">\n",
              "      <th></th>\n",
              "      <th>employee</th>\n",
              "      <th>group</th>\n",
              "      <th>skills</th>\n",
              "    </tr>\n",
              "  </thead>\n",
              "  <tbody>\n",
              "    <tr>\n",
              "      <th>0</th>\n",
              "      <td>Bob</td>\n",
              "      <td>Accounting</td>\n",
              "      <td>math</td>\n",
              "    </tr>\n",
              "    <tr>\n",
              "      <th>1</th>\n",
              "      <td>Bob</td>\n",
              "      <td>Accounting</td>\n",
              "      <td>spreadsheets</td>\n",
              "    </tr>\n",
              "    <tr>\n",
              "      <th>2</th>\n",
              "      <td>Jake</td>\n",
              "      <td>Engineering</td>\n",
              "      <td>coding</td>\n",
              "    </tr>\n",
              "    <tr>\n",
              "      <th>3</th>\n",
              "      <td>Jake</td>\n",
              "      <td>Engineering</td>\n",
              "      <td>linux</td>\n",
              "    </tr>\n",
              "    <tr>\n",
              "      <th>4</th>\n",
              "      <td>Lisa</td>\n",
              "      <td>Engineering</td>\n",
              "      <td>coding</td>\n",
              "    </tr>\n",
              "    <tr>\n",
              "      <th>5</th>\n",
              "      <td>Lisa</td>\n",
              "      <td>Engineering</td>\n",
              "      <td>linux</td>\n",
              "    </tr>\n",
              "    <tr>\n",
              "      <th>6</th>\n",
              "      <td>Sue</td>\n",
              "      <td>HR</td>\n",
              "      <td>spreadsheets</td>\n",
              "    </tr>\n",
              "    <tr>\n",
              "      <th>7</th>\n",
              "      <td>Sue</td>\n",
              "      <td>HR</td>\n",
              "      <td>organization</td>\n",
              "    </tr>\n",
              "  </tbody>\n",
              "</table>\n",
              "</div>"
            ],
            "text/plain": [
              "  employee        group        skills\n",
              "0      Bob   Accounting          math\n",
              "1      Bob   Accounting  spreadsheets\n",
              "2     Jake  Engineering        coding\n",
              "3     Jake  Engineering         linux\n",
              "4     Lisa  Engineering        coding\n",
              "5     Lisa  Engineering         linux\n",
              "6      Sue           HR  spreadsheets\n",
              "7      Sue           HR  organization"
            ]
          },
          "metadata": {
            "tags": []
          },
          "execution_count": 16
        }
      ]
    },
    {
      "cell_type": "code",
      "metadata": {
        "id": "NAYh_TbpgmCk",
        "colab": {
          "base_uri": "https://localhost:8080/",
          "height": 173
        },
        "outputId": "da27c082-2def-451a-ca83-ea1681dd9c01"
      },
      "source": [
        "df1"
      ],
      "execution_count": null,
      "outputs": [
        {
          "output_type": "execute_result",
          "data": {
            "text/html": [
              "<div>\n",
              "<style scoped>\n",
              "    .dataframe tbody tr th:only-of-type {\n",
              "        vertical-align: middle;\n",
              "    }\n",
              "\n",
              "    .dataframe tbody tr th {\n",
              "        vertical-align: top;\n",
              "    }\n",
              "\n",
              "    .dataframe thead th {\n",
              "        text-align: right;\n",
              "    }\n",
              "</style>\n",
              "<table border=\"1\" class=\"dataframe\">\n",
              "  <thead>\n",
              "    <tr style=\"text-align: right;\">\n",
              "      <th></th>\n",
              "      <th>employee</th>\n",
              "      <th>group</th>\n",
              "    </tr>\n",
              "  </thead>\n",
              "  <tbody>\n",
              "    <tr>\n",
              "      <th>0</th>\n",
              "      <td>Bob</td>\n",
              "      <td>Accounting</td>\n",
              "    </tr>\n",
              "    <tr>\n",
              "      <th>1</th>\n",
              "      <td>Jake</td>\n",
              "      <td>Engineering</td>\n",
              "    </tr>\n",
              "    <tr>\n",
              "      <th>2</th>\n",
              "      <td>Lisa</td>\n",
              "      <td>Engineering</td>\n",
              "    </tr>\n",
              "    <tr>\n",
              "      <th>3</th>\n",
              "      <td>Sue</td>\n",
              "      <td>HR</td>\n",
              "    </tr>\n",
              "  </tbody>\n",
              "</table>\n",
              "</div>"
            ],
            "text/plain": [
              "  employee        group\n",
              "0      Bob   Accounting\n",
              "1     Jake  Engineering\n",
              "2     Lisa  Engineering\n",
              "3      Sue           HR"
            ]
          },
          "metadata": {
            "tags": []
          },
          "execution_count": 17
        }
      ]
    },
    {
      "cell_type": "code",
      "metadata": {
        "colab": {
          "base_uri": "https://localhost:8080/",
          "height": 173
        },
        "id": "vDz5jKriWBRB",
        "outputId": "2498dffc-8562-445a-9702-8f870b3c463f"
      },
      "source": [
        "df2"
      ],
      "execution_count": null,
      "outputs": [
        {
          "output_type": "execute_result",
          "data": {
            "text/html": [
              "<div>\n",
              "<style scoped>\n",
              "    .dataframe tbody tr th:only-of-type {\n",
              "        vertical-align: middle;\n",
              "    }\n",
              "\n",
              "    .dataframe tbody tr th {\n",
              "        vertical-align: top;\n",
              "    }\n",
              "\n",
              "    .dataframe thead th {\n",
              "        text-align: right;\n",
              "    }\n",
              "</style>\n",
              "<table border=\"1\" class=\"dataframe\">\n",
              "  <thead>\n",
              "    <tr style=\"text-align: right;\">\n",
              "      <th></th>\n",
              "      <th>employee</th>\n",
              "      <th>hire_date</th>\n",
              "    </tr>\n",
              "  </thead>\n",
              "  <tbody>\n",
              "    <tr>\n",
              "      <th>0</th>\n",
              "      <td>Lisa</td>\n",
              "      <td>2004</td>\n",
              "    </tr>\n",
              "    <tr>\n",
              "      <th>1</th>\n",
              "      <td>Bob</td>\n",
              "      <td>2008</td>\n",
              "    </tr>\n",
              "    <tr>\n",
              "      <th>2</th>\n",
              "      <td>Jake</td>\n",
              "      <td>2012</td>\n",
              "    </tr>\n",
              "    <tr>\n",
              "      <th>3</th>\n",
              "      <td>Sue</td>\n",
              "      <td>2014</td>\n",
              "    </tr>\n",
              "  </tbody>\n",
              "</table>\n",
              "</div>"
            ],
            "text/plain": [
              "  employee  hire_date\n",
              "0     Lisa       2004\n",
              "1      Bob       2008\n",
              "2     Jake       2012\n",
              "3      Sue       2014"
            ]
          },
          "metadata": {
            "tags": []
          },
          "execution_count": 18
        }
      ]
    },
    {
      "cell_type": "code",
      "metadata": {
        "colab": {
          "base_uri": "https://localhost:8080/",
          "height": 173
        },
        "id": "IGTaC6t2WDOX",
        "outputId": "b3116c36-2421-4ec3-9bae-4b5ee79cd285"
      },
      "source": [
        "pd.merge(df1,df2)"
      ],
      "execution_count": null,
      "outputs": [
        {
          "output_type": "execute_result",
          "data": {
            "text/html": [
              "<div>\n",
              "<style scoped>\n",
              "    .dataframe tbody tr th:only-of-type {\n",
              "        vertical-align: middle;\n",
              "    }\n",
              "\n",
              "    .dataframe tbody tr th {\n",
              "        vertical-align: top;\n",
              "    }\n",
              "\n",
              "    .dataframe thead th {\n",
              "        text-align: right;\n",
              "    }\n",
              "</style>\n",
              "<table border=\"1\" class=\"dataframe\">\n",
              "  <thead>\n",
              "    <tr style=\"text-align: right;\">\n",
              "      <th></th>\n",
              "      <th>employee</th>\n",
              "      <th>group</th>\n",
              "      <th>hire_date</th>\n",
              "    </tr>\n",
              "  </thead>\n",
              "  <tbody>\n",
              "    <tr>\n",
              "      <th>0</th>\n",
              "      <td>Bob</td>\n",
              "      <td>Accounting</td>\n",
              "      <td>2008</td>\n",
              "    </tr>\n",
              "    <tr>\n",
              "      <th>1</th>\n",
              "      <td>Jake</td>\n",
              "      <td>Engineering</td>\n",
              "      <td>2012</td>\n",
              "    </tr>\n",
              "    <tr>\n",
              "      <th>2</th>\n",
              "      <td>Lisa</td>\n",
              "      <td>Engineering</td>\n",
              "      <td>2004</td>\n",
              "    </tr>\n",
              "    <tr>\n",
              "      <th>3</th>\n",
              "      <td>Sue</td>\n",
              "      <td>HR</td>\n",
              "      <td>2014</td>\n",
              "    </tr>\n",
              "  </tbody>\n",
              "</table>\n",
              "</div>"
            ],
            "text/plain": [
              "  employee        group  hire_date\n",
              "0      Bob   Accounting       2008\n",
              "1     Jake  Engineering       2012\n",
              "2     Lisa  Engineering       2004\n",
              "3      Sue           HR       2014"
            ]
          },
          "metadata": {
            "tags": []
          },
          "execution_count": 19
        }
      ]
    },
    {
      "cell_type": "code",
      "metadata": {
        "colab": {
          "base_uri": "https://localhost:8080/",
          "height": 173
        },
        "id": "NAD0mFNsWTFw",
        "outputId": "700f7b4b-338a-4aaf-8245-c5b4f003c387"
      },
      "source": [
        "pd.merge(df1,df2,on='employee')"
      ],
      "execution_count": null,
      "outputs": [
        {
          "output_type": "execute_result",
          "data": {
            "text/html": [
              "<div>\n",
              "<style scoped>\n",
              "    .dataframe tbody tr th:only-of-type {\n",
              "        vertical-align: middle;\n",
              "    }\n",
              "\n",
              "    .dataframe tbody tr th {\n",
              "        vertical-align: top;\n",
              "    }\n",
              "\n",
              "    .dataframe thead th {\n",
              "        text-align: right;\n",
              "    }\n",
              "</style>\n",
              "<table border=\"1\" class=\"dataframe\">\n",
              "  <thead>\n",
              "    <tr style=\"text-align: right;\">\n",
              "      <th></th>\n",
              "      <th>employee</th>\n",
              "      <th>group</th>\n",
              "      <th>hire_date</th>\n",
              "    </tr>\n",
              "  </thead>\n",
              "  <tbody>\n",
              "    <tr>\n",
              "      <th>0</th>\n",
              "      <td>Bob</td>\n",
              "      <td>Accounting</td>\n",
              "      <td>2008</td>\n",
              "    </tr>\n",
              "    <tr>\n",
              "      <th>1</th>\n",
              "      <td>Jake</td>\n",
              "      <td>Engineering</td>\n",
              "      <td>2012</td>\n",
              "    </tr>\n",
              "    <tr>\n",
              "      <th>2</th>\n",
              "      <td>Lisa</td>\n",
              "      <td>Engineering</td>\n",
              "      <td>2004</td>\n",
              "    </tr>\n",
              "    <tr>\n",
              "      <th>3</th>\n",
              "      <td>Sue</td>\n",
              "      <td>HR</td>\n",
              "      <td>2014</td>\n",
              "    </tr>\n",
              "  </tbody>\n",
              "</table>\n",
              "</div>"
            ],
            "text/plain": [
              "  employee        group  hire_date\n",
              "0      Bob   Accounting       2008\n",
              "1     Jake  Engineering       2012\n",
              "2     Lisa  Engineering       2004\n",
              "3      Sue           HR       2014"
            ]
          },
          "metadata": {
            "tags": []
          },
          "execution_count": 20
        }
      ]
    },
    {
      "cell_type": "code",
      "metadata": {
        "id": "WvaUMu54WcP_"
      },
      "source": [
        "df3 = pd.DataFrame({'name': ['Bob', 'Jake', 'Lisa', 'Sue'],\n",
        "                    'salary': [70000, 80000, 120000, 90000]})"
      ],
      "execution_count": null,
      "outputs": []
    },
    {
      "cell_type": "code",
      "metadata": {
        "colab": {
          "base_uri": "https://localhost:8080/",
          "height": 173
        },
        "id": "rMlW4V49WyEl",
        "outputId": "d96102d4-810c-4301-b763-8921f7c812e4"
      },
      "source": [
        "df3"
      ],
      "execution_count": null,
      "outputs": [
        {
          "output_type": "execute_result",
          "data": {
            "text/html": [
              "<div>\n",
              "<style scoped>\n",
              "    .dataframe tbody tr th:only-of-type {\n",
              "        vertical-align: middle;\n",
              "    }\n",
              "\n",
              "    .dataframe tbody tr th {\n",
              "        vertical-align: top;\n",
              "    }\n",
              "\n",
              "    .dataframe thead th {\n",
              "        text-align: right;\n",
              "    }\n",
              "</style>\n",
              "<table border=\"1\" class=\"dataframe\">\n",
              "  <thead>\n",
              "    <tr style=\"text-align: right;\">\n",
              "      <th></th>\n",
              "      <th>name</th>\n",
              "      <th>salary</th>\n",
              "    </tr>\n",
              "  </thead>\n",
              "  <tbody>\n",
              "    <tr>\n",
              "      <th>0</th>\n",
              "      <td>Bob</td>\n",
              "      <td>70000</td>\n",
              "    </tr>\n",
              "    <tr>\n",
              "      <th>1</th>\n",
              "      <td>Jake</td>\n",
              "      <td>80000</td>\n",
              "    </tr>\n",
              "    <tr>\n",
              "      <th>2</th>\n",
              "      <td>Lisa</td>\n",
              "      <td>120000</td>\n",
              "    </tr>\n",
              "    <tr>\n",
              "      <th>3</th>\n",
              "      <td>Sue</td>\n",
              "      <td>90000</td>\n",
              "    </tr>\n",
              "  </tbody>\n",
              "</table>\n",
              "</div>"
            ],
            "text/plain": [
              "   name  salary\n",
              "0   Bob   70000\n",
              "1  Jake   80000\n",
              "2  Lisa  120000\n",
              "3   Sue   90000"
            ]
          },
          "metadata": {
            "tags": []
          },
          "execution_count": 22
        }
      ]
    },
    {
      "cell_type": "code",
      "metadata": {
        "colab": {
          "base_uri": "https://localhost:8080/",
          "height": 173
        },
        "id": "tZxQrM6QWy8d",
        "outputId": "0ff641ca-7c2b-42be-b8b3-4888ca443fac"
      },
      "source": [
        "df1"
      ],
      "execution_count": null,
      "outputs": [
        {
          "output_type": "execute_result",
          "data": {
            "text/html": [
              "<div>\n",
              "<style scoped>\n",
              "    .dataframe tbody tr th:only-of-type {\n",
              "        vertical-align: middle;\n",
              "    }\n",
              "\n",
              "    .dataframe tbody tr th {\n",
              "        vertical-align: top;\n",
              "    }\n",
              "\n",
              "    .dataframe thead th {\n",
              "        text-align: right;\n",
              "    }\n",
              "</style>\n",
              "<table border=\"1\" class=\"dataframe\">\n",
              "  <thead>\n",
              "    <tr style=\"text-align: right;\">\n",
              "      <th></th>\n",
              "      <th>employee</th>\n",
              "      <th>group</th>\n",
              "    </tr>\n",
              "  </thead>\n",
              "  <tbody>\n",
              "    <tr>\n",
              "      <th>0</th>\n",
              "      <td>Bob</td>\n",
              "      <td>Accounting</td>\n",
              "    </tr>\n",
              "    <tr>\n",
              "      <th>1</th>\n",
              "      <td>Jake</td>\n",
              "      <td>Engineering</td>\n",
              "    </tr>\n",
              "    <tr>\n",
              "      <th>2</th>\n",
              "      <td>Lisa</td>\n",
              "      <td>Engineering</td>\n",
              "    </tr>\n",
              "    <tr>\n",
              "      <th>3</th>\n",
              "      <td>Sue</td>\n",
              "      <td>HR</td>\n",
              "    </tr>\n",
              "  </tbody>\n",
              "</table>\n",
              "</div>"
            ],
            "text/plain": [
              "  employee        group\n",
              "0      Bob   Accounting\n",
              "1     Jake  Engineering\n",
              "2     Lisa  Engineering\n",
              "3      Sue           HR"
            ]
          },
          "metadata": {
            "tags": []
          },
          "execution_count": 23
        }
      ]
    },
    {
      "cell_type": "code",
      "metadata": {
        "colab": {
          "base_uri": "https://localhost:8080/",
          "height": 173
        },
        "id": "nKY3LvoZW8vT",
        "outputId": "7e44bda4-7799-4c42-df34-289691e7857e"
      },
      "source": [
        "pd.merge(df1,df3,left_on=\"employee\",right_on=\"name\")"
      ],
      "execution_count": null,
      "outputs": [
        {
          "output_type": "execute_result",
          "data": {
            "text/html": [
              "<div>\n",
              "<style scoped>\n",
              "    .dataframe tbody tr th:only-of-type {\n",
              "        vertical-align: middle;\n",
              "    }\n",
              "\n",
              "    .dataframe tbody tr th {\n",
              "        vertical-align: top;\n",
              "    }\n",
              "\n",
              "    .dataframe thead th {\n",
              "        text-align: right;\n",
              "    }\n",
              "</style>\n",
              "<table border=\"1\" class=\"dataframe\">\n",
              "  <thead>\n",
              "    <tr style=\"text-align: right;\">\n",
              "      <th></th>\n",
              "      <th>employee</th>\n",
              "      <th>group</th>\n",
              "      <th>name</th>\n",
              "      <th>salary</th>\n",
              "    </tr>\n",
              "  </thead>\n",
              "  <tbody>\n",
              "    <tr>\n",
              "      <th>0</th>\n",
              "      <td>Bob</td>\n",
              "      <td>Accounting</td>\n",
              "      <td>Bob</td>\n",
              "      <td>70000</td>\n",
              "    </tr>\n",
              "    <tr>\n",
              "      <th>1</th>\n",
              "      <td>Jake</td>\n",
              "      <td>Engineering</td>\n",
              "      <td>Jake</td>\n",
              "      <td>80000</td>\n",
              "    </tr>\n",
              "    <tr>\n",
              "      <th>2</th>\n",
              "      <td>Lisa</td>\n",
              "      <td>Engineering</td>\n",
              "      <td>Lisa</td>\n",
              "      <td>120000</td>\n",
              "    </tr>\n",
              "    <tr>\n",
              "      <th>3</th>\n",
              "      <td>Sue</td>\n",
              "      <td>HR</td>\n",
              "      <td>Sue</td>\n",
              "      <td>90000</td>\n",
              "    </tr>\n",
              "  </tbody>\n",
              "</table>\n",
              "</div>"
            ],
            "text/plain": [
              "  employee        group  name  salary\n",
              "0      Bob   Accounting   Bob   70000\n",
              "1     Jake  Engineering  Jake   80000\n",
              "2     Lisa  Engineering  Lisa  120000\n",
              "3      Sue           HR   Sue   90000"
            ]
          },
          "metadata": {
            "tags": []
          },
          "execution_count": 25
        }
      ]
    },
    {
      "cell_type": "code",
      "metadata": {
        "colab": {
          "base_uri": "https://localhost:8080/",
          "height": 173
        },
        "id": "tgPk06xUXlji",
        "outputId": "3d2997dc-4530-4edb-baad-c8119b4a8f79"
      },
      "source": [
        "pd.merge(df1,df3,left_on=\"employee\",right_on=\"name\").drop('name',axis=1)"
      ],
      "execution_count": null,
      "outputs": [
        {
          "output_type": "execute_result",
          "data": {
            "text/html": [
              "<div>\n",
              "<style scoped>\n",
              "    .dataframe tbody tr th:only-of-type {\n",
              "        vertical-align: middle;\n",
              "    }\n",
              "\n",
              "    .dataframe tbody tr th {\n",
              "        vertical-align: top;\n",
              "    }\n",
              "\n",
              "    .dataframe thead th {\n",
              "        text-align: right;\n",
              "    }\n",
              "</style>\n",
              "<table border=\"1\" class=\"dataframe\">\n",
              "  <thead>\n",
              "    <tr style=\"text-align: right;\">\n",
              "      <th></th>\n",
              "      <th>employee</th>\n",
              "      <th>group</th>\n",
              "      <th>salary</th>\n",
              "    </tr>\n",
              "  </thead>\n",
              "  <tbody>\n",
              "    <tr>\n",
              "      <th>0</th>\n",
              "      <td>Bob</td>\n",
              "      <td>Accounting</td>\n",
              "      <td>70000</td>\n",
              "    </tr>\n",
              "    <tr>\n",
              "      <th>1</th>\n",
              "      <td>Jake</td>\n",
              "      <td>Engineering</td>\n",
              "      <td>80000</td>\n",
              "    </tr>\n",
              "    <tr>\n",
              "      <th>2</th>\n",
              "      <td>Lisa</td>\n",
              "      <td>Engineering</td>\n",
              "      <td>120000</td>\n",
              "    </tr>\n",
              "    <tr>\n",
              "      <th>3</th>\n",
              "      <td>Sue</td>\n",
              "      <td>HR</td>\n",
              "      <td>90000</td>\n",
              "    </tr>\n",
              "  </tbody>\n",
              "</table>\n",
              "</div>"
            ],
            "text/plain": [
              "  employee        group  salary\n",
              "0      Bob   Accounting   70000\n",
              "1     Jake  Engineering   80000\n",
              "2     Lisa  Engineering  120000\n",
              "3      Sue           HR   90000"
            ]
          },
          "metadata": {
            "tags": []
          },
          "execution_count": 26
        }
      ]
    },
    {
      "cell_type": "code",
      "metadata": {
        "id": "3tMTpJ2HX-4n"
      },
      "source": [
        "df1a=df1.set_index('employee')"
      ],
      "execution_count": null,
      "outputs": []
    },
    {
      "cell_type": "code",
      "metadata": {
        "id": "unCzbxQHYZMT"
      },
      "source": [
        "df2a=df2.set_index('employee')"
      ],
      "execution_count": null,
      "outputs": []
    },
    {
      "cell_type": "code",
      "metadata": {
        "colab": {
          "base_uri": "https://localhost:8080/",
          "height": 204
        },
        "id": "ORpWoMRwYffJ",
        "outputId": "70859bf9-aa66-49f5-f1d7-e74574f2744a"
      },
      "source": [
        "pd.merge(df1a, df2a, left_index=True, right_index=True)"
      ],
      "execution_count": null,
      "outputs": [
        {
          "output_type": "execute_result",
          "data": {
            "text/html": [
              "<div>\n",
              "<style scoped>\n",
              "    .dataframe tbody tr th:only-of-type {\n",
              "        vertical-align: middle;\n",
              "    }\n",
              "\n",
              "    .dataframe tbody tr th {\n",
              "        vertical-align: top;\n",
              "    }\n",
              "\n",
              "    .dataframe thead th {\n",
              "        text-align: right;\n",
              "    }\n",
              "</style>\n",
              "<table border=\"1\" class=\"dataframe\">\n",
              "  <thead>\n",
              "    <tr style=\"text-align: right;\">\n",
              "      <th></th>\n",
              "      <th>group</th>\n",
              "      <th>hire_date</th>\n",
              "    </tr>\n",
              "    <tr>\n",
              "      <th>employee</th>\n",
              "      <th></th>\n",
              "      <th></th>\n",
              "    </tr>\n",
              "  </thead>\n",
              "  <tbody>\n",
              "    <tr>\n",
              "      <th>Bob</th>\n",
              "      <td>Accounting</td>\n",
              "      <td>2008</td>\n",
              "    </tr>\n",
              "    <tr>\n",
              "      <th>Jake</th>\n",
              "      <td>Engineering</td>\n",
              "      <td>2012</td>\n",
              "    </tr>\n",
              "    <tr>\n",
              "      <th>Lisa</th>\n",
              "      <td>Engineering</td>\n",
              "      <td>2004</td>\n",
              "    </tr>\n",
              "    <tr>\n",
              "      <th>Sue</th>\n",
              "      <td>HR</td>\n",
              "      <td>2014</td>\n",
              "    </tr>\n",
              "  </tbody>\n",
              "</table>\n",
              "</div>"
            ],
            "text/plain": [
              "                group  hire_date\n",
              "employee                        \n",
              "Bob        Accounting       2008\n",
              "Jake      Engineering       2012\n",
              "Lisa      Engineering       2004\n",
              "Sue                HR       2014"
            ]
          },
          "metadata": {
            "tags": []
          },
          "execution_count": 29
        }
      ]
    },
    {
      "cell_type": "code",
      "metadata": {
        "colab": {
          "base_uri": "https://localhost:8080/",
          "height": 173
        },
        "id": "_-afLq5hYwAE",
        "outputId": "fe13dd1a-1857-440f-8252-e164e05836ee"
      },
      "source": [
        "pd.merge(df1a, df3, left_index=True, right_on='name')"
      ],
      "execution_count": null,
      "outputs": [
        {
          "output_type": "execute_result",
          "data": {
            "text/html": [
              "<div>\n",
              "<style scoped>\n",
              "    .dataframe tbody tr th:only-of-type {\n",
              "        vertical-align: middle;\n",
              "    }\n",
              "\n",
              "    .dataframe tbody tr th {\n",
              "        vertical-align: top;\n",
              "    }\n",
              "\n",
              "    .dataframe thead th {\n",
              "        text-align: right;\n",
              "    }\n",
              "</style>\n",
              "<table border=\"1\" class=\"dataframe\">\n",
              "  <thead>\n",
              "    <tr style=\"text-align: right;\">\n",
              "      <th></th>\n",
              "      <th>group</th>\n",
              "      <th>name</th>\n",
              "      <th>salary</th>\n",
              "    </tr>\n",
              "  </thead>\n",
              "  <tbody>\n",
              "    <tr>\n",
              "      <th>0</th>\n",
              "      <td>Accounting</td>\n",
              "      <td>Bob</td>\n",
              "      <td>70000</td>\n",
              "    </tr>\n",
              "    <tr>\n",
              "      <th>1</th>\n",
              "      <td>Engineering</td>\n",
              "      <td>Jake</td>\n",
              "      <td>80000</td>\n",
              "    </tr>\n",
              "    <tr>\n",
              "      <th>2</th>\n",
              "      <td>Engineering</td>\n",
              "      <td>Lisa</td>\n",
              "      <td>120000</td>\n",
              "    </tr>\n",
              "    <tr>\n",
              "      <th>3</th>\n",
              "      <td>HR</td>\n",
              "      <td>Sue</td>\n",
              "      <td>90000</td>\n",
              "    </tr>\n",
              "  </tbody>\n",
              "</table>\n",
              "</div>"
            ],
            "text/plain": [
              "         group  name  salary\n",
              "0   Accounting   Bob   70000\n",
              "1  Engineering  Jake   80000\n",
              "2  Engineering  Lisa  120000\n",
              "3           HR   Sue   90000"
            ]
          },
          "metadata": {
            "tags": []
          },
          "execution_count": 30
        }
      ]
    },
    {
      "cell_type": "code",
      "metadata": {
        "id": "_k9QIbcaY-k4"
      },
      "source": [
        "df6 = pd.DataFrame({'name': ['Peter', 'Paul', 'Mary'],\n",
        "                    'food': ['fish', 'beans', 'bread']},\n",
        "                   columns=['name', 'food'])\n",
        "df7 = pd.DataFrame({'name': ['Mary', 'Joseph'],\n",
        "                    'drink': ['wine', 'beer']},\n",
        "                   columns=['name', 'drink'])"
      ],
      "execution_count": null,
      "outputs": []
    },
    {
      "cell_type": "code",
      "metadata": {
        "colab": {
          "base_uri": "https://localhost:8080/",
          "height": 142
        },
        "id": "gxbjARWpZTdL",
        "outputId": "91eb121b-9677-4c58-fc14-26d25188204e"
      },
      "source": [
        "df6"
      ],
      "execution_count": null,
      "outputs": [
        {
          "output_type": "execute_result",
          "data": {
            "text/html": [
              "<div>\n",
              "<style scoped>\n",
              "    .dataframe tbody tr th:only-of-type {\n",
              "        vertical-align: middle;\n",
              "    }\n",
              "\n",
              "    .dataframe tbody tr th {\n",
              "        vertical-align: top;\n",
              "    }\n",
              "\n",
              "    .dataframe thead th {\n",
              "        text-align: right;\n",
              "    }\n",
              "</style>\n",
              "<table border=\"1\" class=\"dataframe\">\n",
              "  <thead>\n",
              "    <tr style=\"text-align: right;\">\n",
              "      <th></th>\n",
              "      <th>name</th>\n",
              "      <th>food</th>\n",
              "    </tr>\n",
              "  </thead>\n",
              "  <tbody>\n",
              "    <tr>\n",
              "      <th>0</th>\n",
              "      <td>Peter</td>\n",
              "      <td>fish</td>\n",
              "    </tr>\n",
              "    <tr>\n",
              "      <th>1</th>\n",
              "      <td>Paul</td>\n",
              "      <td>beans</td>\n",
              "    </tr>\n",
              "    <tr>\n",
              "      <th>2</th>\n",
              "      <td>Mary</td>\n",
              "      <td>bread</td>\n",
              "    </tr>\n",
              "  </tbody>\n",
              "</table>\n",
              "</div>"
            ],
            "text/plain": [
              "    name   food\n",
              "0  Peter   fish\n",
              "1   Paul  beans\n",
              "2   Mary  bread"
            ]
          },
          "metadata": {
            "tags": []
          },
          "execution_count": 32
        }
      ]
    },
    {
      "cell_type": "code",
      "metadata": {
        "colab": {
          "base_uri": "https://localhost:8080/",
          "height": 111
        },
        "id": "r4EOhhWZZnvh",
        "outputId": "9b54c6fe-6b4f-4245-eff6-ef84b08e479a"
      },
      "source": [
        "df7"
      ],
      "execution_count": null,
      "outputs": [
        {
          "output_type": "execute_result",
          "data": {
            "text/html": [
              "<div>\n",
              "<style scoped>\n",
              "    .dataframe tbody tr th:only-of-type {\n",
              "        vertical-align: middle;\n",
              "    }\n",
              "\n",
              "    .dataframe tbody tr th {\n",
              "        vertical-align: top;\n",
              "    }\n",
              "\n",
              "    .dataframe thead th {\n",
              "        text-align: right;\n",
              "    }\n",
              "</style>\n",
              "<table border=\"1\" class=\"dataframe\">\n",
              "  <thead>\n",
              "    <tr style=\"text-align: right;\">\n",
              "      <th></th>\n",
              "      <th>name</th>\n",
              "      <th>drink</th>\n",
              "    </tr>\n",
              "  </thead>\n",
              "  <tbody>\n",
              "    <tr>\n",
              "      <th>0</th>\n",
              "      <td>Mary</td>\n",
              "      <td>wine</td>\n",
              "    </tr>\n",
              "    <tr>\n",
              "      <th>1</th>\n",
              "      <td>Joseph</td>\n",
              "      <td>beer</td>\n",
              "    </tr>\n",
              "  </tbody>\n",
              "</table>\n",
              "</div>"
            ],
            "text/plain": [
              "     name drink\n",
              "0    Mary  wine\n",
              "1  Joseph  beer"
            ]
          },
          "metadata": {
            "tags": []
          },
          "execution_count": 33
        }
      ]
    },
    {
      "cell_type": "code",
      "metadata": {
        "colab": {
          "base_uri": "https://localhost:8080/",
          "height": 80
        },
        "id": "Fj8KhYQGZovB",
        "outputId": "80d8d166-42aa-431d-eed9-8429540303af"
      },
      "source": [
        "pd.merge(df6,df7,how='inner')"
      ],
      "execution_count": null,
      "outputs": [
        {
          "output_type": "execute_result",
          "data": {
            "text/html": [
              "<div>\n",
              "<style scoped>\n",
              "    .dataframe tbody tr th:only-of-type {\n",
              "        vertical-align: middle;\n",
              "    }\n",
              "\n",
              "    .dataframe tbody tr th {\n",
              "        vertical-align: top;\n",
              "    }\n",
              "\n",
              "    .dataframe thead th {\n",
              "        text-align: right;\n",
              "    }\n",
              "</style>\n",
              "<table border=\"1\" class=\"dataframe\">\n",
              "  <thead>\n",
              "    <tr style=\"text-align: right;\">\n",
              "      <th></th>\n",
              "      <th>name</th>\n",
              "      <th>food</th>\n",
              "      <th>drink</th>\n",
              "    </tr>\n",
              "  </thead>\n",
              "  <tbody>\n",
              "    <tr>\n",
              "      <th>0</th>\n",
              "      <td>Mary</td>\n",
              "      <td>bread</td>\n",
              "      <td>wine</td>\n",
              "    </tr>\n",
              "  </tbody>\n",
              "</table>\n",
              "</div>"
            ],
            "text/plain": [
              "   name   food drink\n",
              "0  Mary  bread  wine"
            ]
          },
          "metadata": {
            "tags": []
          },
          "execution_count": 35
        }
      ]
    },
    {
      "cell_type": "code",
      "metadata": {
        "colab": {
          "base_uri": "https://localhost:8080/",
          "height": 173
        },
        "id": "LSvD7AdTZyjb",
        "outputId": "dec20023-5806-48ed-e6ed-6e88281ce8fb"
      },
      "source": [
        "pd.merge(df6,df7,how='outer')"
      ],
      "execution_count": null,
      "outputs": [
        {
          "output_type": "execute_result",
          "data": {
            "text/html": [
              "<div>\n",
              "<style scoped>\n",
              "    .dataframe tbody tr th:only-of-type {\n",
              "        vertical-align: middle;\n",
              "    }\n",
              "\n",
              "    .dataframe tbody tr th {\n",
              "        vertical-align: top;\n",
              "    }\n",
              "\n",
              "    .dataframe thead th {\n",
              "        text-align: right;\n",
              "    }\n",
              "</style>\n",
              "<table border=\"1\" class=\"dataframe\">\n",
              "  <thead>\n",
              "    <tr style=\"text-align: right;\">\n",
              "      <th></th>\n",
              "      <th>name</th>\n",
              "      <th>food</th>\n",
              "      <th>drink</th>\n",
              "    </tr>\n",
              "  </thead>\n",
              "  <tbody>\n",
              "    <tr>\n",
              "      <th>0</th>\n",
              "      <td>Peter</td>\n",
              "      <td>fish</td>\n",
              "      <td>NaN</td>\n",
              "    </tr>\n",
              "    <tr>\n",
              "      <th>1</th>\n",
              "      <td>Paul</td>\n",
              "      <td>beans</td>\n",
              "      <td>NaN</td>\n",
              "    </tr>\n",
              "    <tr>\n",
              "      <th>2</th>\n",
              "      <td>Mary</td>\n",
              "      <td>bread</td>\n",
              "      <td>wine</td>\n",
              "    </tr>\n",
              "    <tr>\n",
              "      <th>3</th>\n",
              "      <td>Joseph</td>\n",
              "      <td>NaN</td>\n",
              "      <td>beer</td>\n",
              "    </tr>\n",
              "  </tbody>\n",
              "</table>\n",
              "</div>"
            ],
            "text/plain": [
              "     name   food drink\n",
              "0   Peter   fish   NaN\n",
              "1    Paul  beans   NaN\n",
              "2    Mary  bread  wine\n",
              "3  Joseph    NaN  beer"
            ]
          },
          "metadata": {
            "tags": []
          },
          "execution_count": 36
        }
      ]
    },
    {
      "cell_type": "code",
      "metadata": {
        "colab": {
          "base_uri": "https://localhost:8080/",
          "height": 142
        },
        "id": "vEXY0ornZ9w1",
        "outputId": "2513e430-8754-4901-b552-6e004ab4ccdc"
      },
      "source": [
        "pd.merge(df6,df7,how='left')"
      ],
      "execution_count": null,
      "outputs": [
        {
          "output_type": "execute_result",
          "data": {
            "text/html": [
              "<div>\n",
              "<style scoped>\n",
              "    .dataframe tbody tr th:only-of-type {\n",
              "        vertical-align: middle;\n",
              "    }\n",
              "\n",
              "    .dataframe tbody tr th {\n",
              "        vertical-align: top;\n",
              "    }\n",
              "\n",
              "    .dataframe thead th {\n",
              "        text-align: right;\n",
              "    }\n",
              "</style>\n",
              "<table border=\"1\" class=\"dataframe\">\n",
              "  <thead>\n",
              "    <tr style=\"text-align: right;\">\n",
              "      <th></th>\n",
              "      <th>name</th>\n",
              "      <th>food</th>\n",
              "      <th>drink</th>\n",
              "    </tr>\n",
              "  </thead>\n",
              "  <tbody>\n",
              "    <tr>\n",
              "      <th>0</th>\n",
              "      <td>Peter</td>\n",
              "      <td>fish</td>\n",
              "      <td>NaN</td>\n",
              "    </tr>\n",
              "    <tr>\n",
              "      <th>1</th>\n",
              "      <td>Paul</td>\n",
              "      <td>beans</td>\n",
              "      <td>NaN</td>\n",
              "    </tr>\n",
              "    <tr>\n",
              "      <th>2</th>\n",
              "      <td>Mary</td>\n",
              "      <td>bread</td>\n",
              "      <td>wine</td>\n",
              "    </tr>\n",
              "  </tbody>\n",
              "</table>\n",
              "</div>"
            ],
            "text/plain": [
              "    name   food drink\n",
              "0  Peter   fish   NaN\n",
              "1   Paul  beans   NaN\n",
              "2   Mary  bread  wine"
            ]
          },
          "metadata": {
            "tags": []
          },
          "execution_count": 37
        }
      ]
    },
    {
      "cell_type": "code",
      "metadata": {
        "colab": {
          "base_uri": "https://localhost:8080/",
          "height": 111
        },
        "id": "ms2XMYHlZ_Zg",
        "outputId": "00d32ebc-80ec-44f7-b58f-a7e2d7bdb8a0"
      },
      "source": [
        "pd.merge(df6,df7,how='right')"
      ],
      "execution_count": null,
      "outputs": [
        {
          "output_type": "execute_result",
          "data": {
            "text/html": [
              "<div>\n",
              "<style scoped>\n",
              "    .dataframe tbody tr th:only-of-type {\n",
              "        vertical-align: middle;\n",
              "    }\n",
              "\n",
              "    .dataframe tbody tr th {\n",
              "        vertical-align: top;\n",
              "    }\n",
              "\n",
              "    .dataframe thead th {\n",
              "        text-align: right;\n",
              "    }\n",
              "</style>\n",
              "<table border=\"1\" class=\"dataframe\">\n",
              "  <thead>\n",
              "    <tr style=\"text-align: right;\">\n",
              "      <th></th>\n",
              "      <th>name</th>\n",
              "      <th>food</th>\n",
              "      <th>drink</th>\n",
              "    </tr>\n",
              "  </thead>\n",
              "  <tbody>\n",
              "    <tr>\n",
              "      <th>0</th>\n",
              "      <td>Mary</td>\n",
              "      <td>bread</td>\n",
              "      <td>wine</td>\n",
              "    </tr>\n",
              "    <tr>\n",
              "      <th>1</th>\n",
              "      <td>Joseph</td>\n",
              "      <td>NaN</td>\n",
              "      <td>beer</td>\n",
              "    </tr>\n",
              "  </tbody>\n",
              "</table>\n",
              "</div>"
            ],
            "text/plain": [
              "     name   food drink\n",
              "0    Mary  bread  wine\n",
              "1  Joseph    NaN  beer"
            ]
          },
          "metadata": {
            "tags": []
          },
          "execution_count": 38
        }
      ]
    },
    {
      "cell_type": "code",
      "metadata": {
        "id": "lWPA9gdMad1Q"
      },
      "source": [
        "df8 = pd.DataFrame({'name': ['Bob', 'Jake', 'Lisa', 'Sue'],\n",
        "                    'rank': [1, 2, 3, 4]})\n",
        "df9 = pd.DataFrame({'name': ['Bob', 'Jake', 'Lisa', 'Sue'],\n",
        "                    'rank': [3, 1, 4, 2]})"
      ],
      "execution_count": null,
      "outputs": []
    },
    {
      "cell_type": "code",
      "metadata": {
        "colab": {
          "base_uri": "https://localhost:8080/",
          "height": 173
        },
        "id": "VH1xl0snanw6",
        "outputId": "fd6b4ff2-2bb7-42e4-f88a-1522165f0f13"
      },
      "source": [
        "pd.merge(df8,df9,on='name')"
      ],
      "execution_count": null,
      "outputs": [
        {
          "output_type": "execute_result",
          "data": {
            "text/html": [
              "<div>\n",
              "<style scoped>\n",
              "    .dataframe tbody tr th:only-of-type {\n",
              "        vertical-align: middle;\n",
              "    }\n",
              "\n",
              "    .dataframe tbody tr th {\n",
              "        vertical-align: top;\n",
              "    }\n",
              "\n",
              "    .dataframe thead th {\n",
              "        text-align: right;\n",
              "    }\n",
              "</style>\n",
              "<table border=\"1\" class=\"dataframe\">\n",
              "  <thead>\n",
              "    <tr style=\"text-align: right;\">\n",
              "      <th></th>\n",
              "      <th>name</th>\n",
              "      <th>rank_x</th>\n",
              "      <th>rank_y</th>\n",
              "    </tr>\n",
              "  </thead>\n",
              "  <tbody>\n",
              "    <tr>\n",
              "      <th>0</th>\n",
              "      <td>Bob</td>\n",
              "      <td>1</td>\n",
              "      <td>3</td>\n",
              "    </tr>\n",
              "    <tr>\n",
              "      <th>1</th>\n",
              "      <td>Jake</td>\n",
              "      <td>2</td>\n",
              "      <td>1</td>\n",
              "    </tr>\n",
              "    <tr>\n",
              "      <th>2</th>\n",
              "      <td>Lisa</td>\n",
              "      <td>3</td>\n",
              "      <td>4</td>\n",
              "    </tr>\n",
              "    <tr>\n",
              "      <th>3</th>\n",
              "      <td>Sue</td>\n",
              "      <td>4</td>\n",
              "      <td>2</td>\n",
              "    </tr>\n",
              "  </tbody>\n",
              "</table>\n",
              "</div>"
            ],
            "text/plain": [
              "   name  rank_x  rank_y\n",
              "0   Bob       1       3\n",
              "1  Jake       2       1\n",
              "2  Lisa       3       4\n",
              "3   Sue       4       2"
            ]
          },
          "metadata": {
            "tags": []
          },
          "execution_count": 40
        }
      ]
    },
    {
      "cell_type": "code",
      "metadata": {
        "colab": {
          "base_uri": "https://localhost:8080/",
          "height": 173
        },
        "id": "ulYbl4a3awnz",
        "outputId": "600fc7aa-002a-4e1f-ae04-4c986b39cd2f"
      },
      "source": [
        "pd.merge(df8, df9, on=\"name\", suffixes=[\"_L\", \"_R\"])"
      ],
      "execution_count": null,
      "outputs": [
        {
          "output_type": "execute_result",
          "data": {
            "text/html": [
              "<div>\n",
              "<style scoped>\n",
              "    .dataframe tbody tr th:only-of-type {\n",
              "        vertical-align: middle;\n",
              "    }\n",
              "\n",
              "    .dataframe tbody tr th {\n",
              "        vertical-align: top;\n",
              "    }\n",
              "\n",
              "    .dataframe thead th {\n",
              "        text-align: right;\n",
              "    }\n",
              "</style>\n",
              "<table border=\"1\" class=\"dataframe\">\n",
              "  <thead>\n",
              "    <tr style=\"text-align: right;\">\n",
              "      <th></th>\n",
              "      <th>name</th>\n",
              "      <th>rank_L</th>\n",
              "      <th>rank_R</th>\n",
              "    </tr>\n",
              "  </thead>\n",
              "  <tbody>\n",
              "    <tr>\n",
              "      <th>0</th>\n",
              "      <td>Bob</td>\n",
              "      <td>1</td>\n",
              "      <td>3</td>\n",
              "    </tr>\n",
              "    <tr>\n",
              "      <th>1</th>\n",
              "      <td>Jake</td>\n",
              "      <td>2</td>\n",
              "      <td>1</td>\n",
              "    </tr>\n",
              "    <tr>\n",
              "      <th>2</th>\n",
              "      <td>Lisa</td>\n",
              "      <td>3</td>\n",
              "      <td>4</td>\n",
              "    </tr>\n",
              "    <tr>\n",
              "      <th>3</th>\n",
              "      <td>Sue</td>\n",
              "      <td>4</td>\n",
              "      <td>2</td>\n",
              "    </tr>\n",
              "  </tbody>\n",
              "</table>\n",
              "</div>"
            ],
            "text/plain": [
              "   name  rank_L  rank_R\n",
              "0   Bob       1       3\n",
              "1  Jake       2       1\n",
              "2  Lisa       3       4\n",
              "3   Sue       4       2"
            ]
          },
          "metadata": {
            "tags": []
          },
          "execution_count": 41
        }
      ]
    },
    {
      "cell_type": "markdown",
      "metadata": {
        "id": "M5LiVOYhbDo-"
      },
      "source": [
        "#CONCAT"
      ]
    },
    {
      "cell_type": "code",
      "metadata": {
        "colab": {
          "base_uri": "https://localhost:8080/",
          "height": 180
        },
        "id": "py4PYQoya-Ju",
        "outputId": "9f5cff26-1fe0-436a-ff12-b08f6ad5392c"
      },
      "source": [
        "df1 = make_df('AB', [1, 2])\n",
        "df2 = make_df('AB', [3, 4])"
      ],
      "execution_count": null,
      "outputs": [
        {
          "output_type": "error",
          "ename": "NameError",
          "evalue": "ignored",
          "traceback": [
            "\u001b[0;31m---------------------------------------------------------------------------\u001b[0m",
            "\u001b[0;31mNameError\u001b[0m                                 Traceback (most recent call last)",
            "\u001b[0;32m<ipython-input-42-c67d5f1ea290>\u001b[0m in \u001b[0;36m<module>\u001b[0;34m()\u001b[0m\n\u001b[0;32m----> 1\u001b[0;31m \u001b[0mdf1\u001b[0m \u001b[0;34m=\u001b[0m \u001b[0mmake_df\u001b[0m\u001b[0;34m(\u001b[0m\u001b[0;34m'AB'\u001b[0m\u001b[0;34m,\u001b[0m \u001b[0;34m[\u001b[0m\u001b[0;36m1\u001b[0m\u001b[0;34m,\u001b[0m \u001b[0;36m2\u001b[0m\u001b[0;34m]\u001b[0m\u001b[0;34m)\u001b[0m\u001b[0;34m\u001b[0m\u001b[0;34m\u001b[0m\u001b[0m\n\u001b[0m\u001b[1;32m      2\u001b[0m \u001b[0mdf2\u001b[0m \u001b[0;34m=\u001b[0m \u001b[0mmake_df\u001b[0m\u001b[0;34m(\u001b[0m\u001b[0;34m'AB'\u001b[0m\u001b[0;34m,\u001b[0m \u001b[0;34m[\u001b[0m\u001b[0;36m3\u001b[0m\u001b[0;34m,\u001b[0m \u001b[0;36m4\u001b[0m\u001b[0;34m]\u001b[0m\u001b[0;34m)\u001b[0m\u001b[0;34m\u001b[0m\u001b[0;34m\u001b[0m\u001b[0m\n",
            "\u001b[0;31mNameError\u001b[0m: name 'make_df' is not defined"
          ]
        }
      ]
    },
    {
      "cell_type": "code",
      "metadata": {
        "colab": {
          "base_uri": "https://localhost:8080/",
          "height": 142
        },
        "id": "monPOeg9bP3s",
        "outputId": "92b03089-c179-4c0b-d5b3-51db0c3e9920"
      },
      "source": [
        "def make_df(cols, ind):\n",
        "    \"\"\"Quickly make a DataFrame\"\"\"\n",
        "    data = {c: [str(c) + str(i) for i in ind]\n",
        "            for c in cols}\n",
        "    return pd.DataFrame(data, ind)\n",
        "\n",
        "# example DataFrame\n",
        "make_df('ABC', range(3))"
      ],
      "execution_count": null,
      "outputs": [
        {
          "output_type": "execute_result",
          "data": {
            "text/html": [
              "<div>\n",
              "<style scoped>\n",
              "    .dataframe tbody tr th:only-of-type {\n",
              "        vertical-align: middle;\n",
              "    }\n",
              "\n",
              "    .dataframe tbody tr th {\n",
              "        vertical-align: top;\n",
              "    }\n",
              "\n",
              "    .dataframe thead th {\n",
              "        text-align: right;\n",
              "    }\n",
              "</style>\n",
              "<table border=\"1\" class=\"dataframe\">\n",
              "  <thead>\n",
              "    <tr style=\"text-align: right;\">\n",
              "      <th></th>\n",
              "      <th>A</th>\n",
              "      <th>B</th>\n",
              "      <th>C</th>\n",
              "    </tr>\n",
              "  </thead>\n",
              "  <tbody>\n",
              "    <tr>\n",
              "      <th>0</th>\n",
              "      <td>A0</td>\n",
              "      <td>B0</td>\n",
              "      <td>C0</td>\n",
              "    </tr>\n",
              "    <tr>\n",
              "      <th>1</th>\n",
              "      <td>A1</td>\n",
              "      <td>B1</td>\n",
              "      <td>C1</td>\n",
              "    </tr>\n",
              "    <tr>\n",
              "      <th>2</th>\n",
              "      <td>A2</td>\n",
              "      <td>B2</td>\n",
              "      <td>C2</td>\n",
              "    </tr>\n",
              "  </tbody>\n",
              "</table>\n",
              "</div>"
            ],
            "text/plain": [
              "    A   B   C\n",
              "0  A0  B0  C0\n",
              "1  A1  B1  C1\n",
              "2  A2  B2  C2"
            ]
          },
          "metadata": {
            "tags": []
          },
          "execution_count": 43
        }
      ]
    },
    {
      "cell_type": "code",
      "metadata": {
        "id": "wklCpouhbTJj"
      },
      "source": [
        "df1 = make_df('AB', [1, 2])\n",
        "df2 = make_df('AB', [1, 2])"
      ],
      "execution_count": null,
      "outputs": []
    },
    {
      "cell_type": "code",
      "metadata": {
        "colab": {
          "base_uri": "https://localhost:8080/",
          "height": 111
        },
        "id": "M14rIcz-bXZC",
        "outputId": "680172c0-ba67-428d-db1d-7db5e7d6bb3b"
      },
      "source": [
        "df1"
      ],
      "execution_count": null,
      "outputs": [
        {
          "output_type": "execute_result",
          "data": {
            "text/html": [
              "<div>\n",
              "<style scoped>\n",
              "    .dataframe tbody tr th:only-of-type {\n",
              "        vertical-align: middle;\n",
              "    }\n",
              "\n",
              "    .dataframe tbody tr th {\n",
              "        vertical-align: top;\n",
              "    }\n",
              "\n",
              "    .dataframe thead th {\n",
              "        text-align: right;\n",
              "    }\n",
              "</style>\n",
              "<table border=\"1\" class=\"dataframe\">\n",
              "  <thead>\n",
              "    <tr style=\"text-align: right;\">\n",
              "      <th></th>\n",
              "      <th>A</th>\n",
              "      <th>B</th>\n",
              "    </tr>\n",
              "  </thead>\n",
              "  <tbody>\n",
              "    <tr>\n",
              "      <th>1</th>\n",
              "      <td>A1</td>\n",
              "      <td>B1</td>\n",
              "    </tr>\n",
              "    <tr>\n",
              "      <th>2</th>\n",
              "      <td>A2</td>\n",
              "      <td>B2</td>\n",
              "    </tr>\n",
              "  </tbody>\n",
              "</table>\n",
              "</div>"
            ],
            "text/plain": [
              "    A   B\n",
              "1  A1  B1\n",
              "2  A2  B2"
            ]
          },
          "metadata": {
            "tags": []
          },
          "execution_count": 62
        }
      ]
    },
    {
      "cell_type": "code",
      "metadata": {
        "colab": {
          "base_uri": "https://localhost:8080/",
          "height": 111
        },
        "id": "L0wWItNVbfSQ",
        "outputId": "2ef3f4d4-0f34-4dcb-907b-00bd16d9835a"
      },
      "source": [
        "df2"
      ],
      "execution_count": null,
      "outputs": [
        {
          "output_type": "execute_result",
          "data": {
            "text/html": [
              "<div>\n",
              "<style scoped>\n",
              "    .dataframe tbody tr th:only-of-type {\n",
              "        vertical-align: middle;\n",
              "    }\n",
              "\n",
              "    .dataframe tbody tr th {\n",
              "        vertical-align: top;\n",
              "    }\n",
              "\n",
              "    .dataframe thead th {\n",
              "        text-align: right;\n",
              "    }\n",
              "</style>\n",
              "<table border=\"1\" class=\"dataframe\">\n",
              "  <thead>\n",
              "    <tr style=\"text-align: right;\">\n",
              "      <th></th>\n",
              "      <th>A</th>\n",
              "      <th>B</th>\n",
              "    </tr>\n",
              "  </thead>\n",
              "  <tbody>\n",
              "    <tr>\n",
              "      <th>1</th>\n",
              "      <td>A1</td>\n",
              "      <td>B1</td>\n",
              "    </tr>\n",
              "    <tr>\n",
              "      <th>2</th>\n",
              "      <td>A2</td>\n",
              "      <td>B2</td>\n",
              "    </tr>\n",
              "  </tbody>\n",
              "</table>\n",
              "</div>"
            ],
            "text/plain": [
              "    A   B\n",
              "1  A1  B1\n",
              "2  A2  B2"
            ]
          },
          "metadata": {
            "tags": []
          },
          "execution_count": 63
        }
      ]
    },
    {
      "cell_type": "code",
      "metadata": {
        "colab": {
          "base_uri": "https://localhost:8080/",
          "height": 173
        },
        "id": "iTGx6OuPbhzD",
        "outputId": "19a37a00-27b1-4bac-a7f4-ae54c3354aed"
      },
      "source": [
        "pd.concat([df1, df2])"
      ],
      "execution_count": null,
      "outputs": [
        {
          "output_type": "execute_result",
          "data": {
            "text/html": [
              "<div>\n",
              "<style scoped>\n",
              "    .dataframe tbody tr th:only-of-type {\n",
              "        vertical-align: middle;\n",
              "    }\n",
              "\n",
              "    .dataframe tbody tr th {\n",
              "        vertical-align: top;\n",
              "    }\n",
              "\n",
              "    .dataframe thead th {\n",
              "        text-align: right;\n",
              "    }\n",
              "</style>\n",
              "<table border=\"1\" class=\"dataframe\">\n",
              "  <thead>\n",
              "    <tr style=\"text-align: right;\">\n",
              "      <th></th>\n",
              "      <th>A</th>\n",
              "      <th>B</th>\n",
              "    </tr>\n",
              "  </thead>\n",
              "  <tbody>\n",
              "    <tr>\n",
              "      <th>1</th>\n",
              "      <td>A1</td>\n",
              "      <td>B1</td>\n",
              "    </tr>\n",
              "    <tr>\n",
              "      <th>2</th>\n",
              "      <td>A2</td>\n",
              "      <td>B2</td>\n",
              "    </tr>\n",
              "    <tr>\n",
              "      <th>1</th>\n",
              "      <td>A1</td>\n",
              "      <td>B1</td>\n",
              "    </tr>\n",
              "    <tr>\n",
              "      <th>2</th>\n",
              "      <td>A2</td>\n",
              "      <td>B2</td>\n",
              "    </tr>\n",
              "  </tbody>\n",
              "</table>\n",
              "</div>"
            ],
            "text/plain": [
              "    A   B\n",
              "1  A1  B1\n",
              "2  A2  B2\n",
              "1  A1  B1\n",
              "2  A2  B2"
            ]
          },
          "metadata": {
            "tags": []
          },
          "execution_count": 64
        }
      ]
    },
    {
      "cell_type": "code",
      "metadata": {
        "colab": {
          "base_uri": "https://localhost:8080/",
          "height": 111
        },
        "id": "SguY8lHPcdOg",
        "outputId": "da24bb1a-3f00-443e-8607-aa9efd0898c6"
      },
      "source": [
        "pd.concat([df1, df2],axis=1)"
      ],
      "execution_count": null,
      "outputs": [
        {
          "output_type": "execute_result",
          "data": {
            "text/html": [
              "<div>\n",
              "<style scoped>\n",
              "    .dataframe tbody tr th:only-of-type {\n",
              "        vertical-align: middle;\n",
              "    }\n",
              "\n",
              "    .dataframe tbody tr th {\n",
              "        vertical-align: top;\n",
              "    }\n",
              "\n",
              "    .dataframe thead th {\n",
              "        text-align: right;\n",
              "    }\n",
              "</style>\n",
              "<table border=\"1\" class=\"dataframe\">\n",
              "  <thead>\n",
              "    <tr style=\"text-align: right;\">\n",
              "      <th></th>\n",
              "      <th>A</th>\n",
              "      <th>B</th>\n",
              "      <th>A</th>\n",
              "      <th>B</th>\n",
              "    </tr>\n",
              "  </thead>\n",
              "  <tbody>\n",
              "    <tr>\n",
              "      <th>1</th>\n",
              "      <td>A1</td>\n",
              "      <td>B1</td>\n",
              "      <td>A1</td>\n",
              "      <td>B1</td>\n",
              "    </tr>\n",
              "    <tr>\n",
              "      <th>2</th>\n",
              "      <td>A2</td>\n",
              "      <td>B2</td>\n",
              "      <td>A2</td>\n",
              "      <td>B2</td>\n",
              "    </tr>\n",
              "  </tbody>\n",
              "</table>\n",
              "</div>"
            ],
            "text/plain": [
              "    A   B   A   B\n",
              "1  A1  B1  A1  B1\n",
              "2  A2  B2  A2  B2"
            ]
          },
          "metadata": {
            "tags": []
          },
          "execution_count": 65
        }
      ]
    },
    {
      "cell_type": "code",
      "metadata": {
        "colab": {
          "base_uri": "https://localhost:8080/",
          "height": 173
        },
        "id": "HgXuo_f9dyxg",
        "outputId": "f51caaae-d098-4925-a302-8e94cc5827a3"
      },
      "source": [
        "pd.concat([df1, df2],ignore_index=True)"
      ],
      "execution_count": null,
      "outputs": [
        {
          "output_type": "execute_result",
          "data": {
            "text/html": [
              "<div>\n",
              "<style scoped>\n",
              "    .dataframe tbody tr th:only-of-type {\n",
              "        vertical-align: middle;\n",
              "    }\n",
              "\n",
              "    .dataframe tbody tr th {\n",
              "        vertical-align: top;\n",
              "    }\n",
              "\n",
              "    .dataframe thead th {\n",
              "        text-align: right;\n",
              "    }\n",
              "</style>\n",
              "<table border=\"1\" class=\"dataframe\">\n",
              "  <thead>\n",
              "    <tr style=\"text-align: right;\">\n",
              "      <th></th>\n",
              "      <th>A</th>\n",
              "      <th>B</th>\n",
              "    </tr>\n",
              "  </thead>\n",
              "  <tbody>\n",
              "    <tr>\n",
              "      <th>0</th>\n",
              "      <td>A1</td>\n",
              "      <td>B1</td>\n",
              "    </tr>\n",
              "    <tr>\n",
              "      <th>1</th>\n",
              "      <td>A2</td>\n",
              "      <td>B2</td>\n",
              "    </tr>\n",
              "    <tr>\n",
              "      <th>2</th>\n",
              "      <td>A1</td>\n",
              "      <td>B1</td>\n",
              "    </tr>\n",
              "    <tr>\n",
              "      <th>3</th>\n",
              "      <td>A2</td>\n",
              "      <td>B2</td>\n",
              "    </tr>\n",
              "  </tbody>\n",
              "</table>\n",
              "</div>"
            ],
            "text/plain": [
              "    A   B\n",
              "0  A1  B1\n",
              "1  A2  B2\n",
              "2  A1  B1\n",
              "3  A2  B2"
            ]
          },
          "metadata": {
            "tags": []
          },
          "execution_count": 66
        }
      ]
    },
    {
      "cell_type": "code",
      "metadata": {
        "id": "49Rqqhc7b9r1"
      },
      "source": [
        "df1 = make_df('AB', [1, 2])\n",
        "df2 = make_df('AB', [3, 4])"
      ],
      "execution_count": null,
      "outputs": []
    },
    {
      "cell_type": "code",
      "metadata": {
        "colab": {
          "base_uri": "https://localhost:8080/",
          "height": 173
        },
        "id": "iRPWGteOcIxV",
        "outputId": "ba54a5af-34b7-4c86-b0dc-6fed4df80f0e"
      },
      "source": [
        "pd.concat([df1, df2])"
      ],
      "execution_count": null,
      "outputs": [
        {
          "output_type": "execute_result",
          "data": {
            "text/html": [
              "<div>\n",
              "<style scoped>\n",
              "    .dataframe tbody tr th:only-of-type {\n",
              "        vertical-align: middle;\n",
              "    }\n",
              "\n",
              "    .dataframe tbody tr th {\n",
              "        vertical-align: top;\n",
              "    }\n",
              "\n",
              "    .dataframe thead th {\n",
              "        text-align: right;\n",
              "    }\n",
              "</style>\n",
              "<table border=\"1\" class=\"dataframe\">\n",
              "  <thead>\n",
              "    <tr style=\"text-align: right;\">\n",
              "      <th></th>\n",
              "      <th>A</th>\n",
              "      <th>B</th>\n",
              "    </tr>\n",
              "  </thead>\n",
              "  <tbody>\n",
              "    <tr>\n",
              "      <th>1</th>\n",
              "      <td>A1</td>\n",
              "      <td>B1</td>\n",
              "    </tr>\n",
              "    <tr>\n",
              "      <th>2</th>\n",
              "      <td>A2</td>\n",
              "      <td>B2</td>\n",
              "    </tr>\n",
              "    <tr>\n",
              "      <th>3</th>\n",
              "      <td>A3</td>\n",
              "      <td>B3</td>\n",
              "    </tr>\n",
              "    <tr>\n",
              "      <th>4</th>\n",
              "      <td>A4</td>\n",
              "      <td>B4</td>\n",
              "    </tr>\n",
              "  </tbody>\n",
              "</table>\n",
              "</div>"
            ],
            "text/plain": [
              "    A   B\n",
              "1  A1  B1\n",
              "2  A2  B2\n",
              "3  A3  B3\n",
              "4  A4  B4"
            ]
          },
          "metadata": {
            "tags": []
          },
          "execution_count": 57
        }
      ]
    },
    {
      "cell_type": "code",
      "metadata": {
        "colab": {
          "base_uri": "https://localhost:8080/",
          "height": 173
        },
        "id": "hU-u4J__cKYx",
        "outputId": "acaf97a7-e354-4d97-e7fd-c87c09f31ea7"
      },
      "source": [
        "pd.concat([df1, df2],axis=1)"
      ],
      "execution_count": null,
      "outputs": [
        {
          "output_type": "execute_result",
          "data": {
            "text/html": [
              "<div>\n",
              "<style scoped>\n",
              "    .dataframe tbody tr th:only-of-type {\n",
              "        vertical-align: middle;\n",
              "    }\n",
              "\n",
              "    .dataframe tbody tr th {\n",
              "        vertical-align: top;\n",
              "    }\n",
              "\n",
              "    .dataframe thead th {\n",
              "        text-align: right;\n",
              "    }\n",
              "</style>\n",
              "<table border=\"1\" class=\"dataframe\">\n",
              "  <thead>\n",
              "    <tr style=\"text-align: right;\">\n",
              "      <th></th>\n",
              "      <th>A</th>\n",
              "      <th>B</th>\n",
              "      <th>A</th>\n",
              "      <th>B</th>\n",
              "    </tr>\n",
              "  </thead>\n",
              "  <tbody>\n",
              "    <tr>\n",
              "      <th>1</th>\n",
              "      <td>A1</td>\n",
              "      <td>B1</td>\n",
              "      <td>NaN</td>\n",
              "      <td>NaN</td>\n",
              "    </tr>\n",
              "    <tr>\n",
              "      <th>2</th>\n",
              "      <td>A2</td>\n",
              "      <td>B2</td>\n",
              "      <td>NaN</td>\n",
              "      <td>NaN</td>\n",
              "    </tr>\n",
              "    <tr>\n",
              "      <th>3</th>\n",
              "      <td>NaN</td>\n",
              "      <td>NaN</td>\n",
              "      <td>A3</td>\n",
              "      <td>B3</td>\n",
              "    </tr>\n",
              "    <tr>\n",
              "      <th>4</th>\n",
              "      <td>NaN</td>\n",
              "      <td>NaN</td>\n",
              "      <td>A4</td>\n",
              "      <td>B4</td>\n",
              "    </tr>\n",
              "  </tbody>\n",
              "</table>\n",
              "</div>"
            ],
            "text/plain": [
              "     A    B    A    B\n",
              "1   A1   B1  NaN  NaN\n",
              "2   A2   B2  NaN  NaN\n",
              "3  NaN  NaN   A3   B3\n",
              "4  NaN  NaN   A4   B4"
            ]
          },
          "metadata": {
            "tags": []
          },
          "execution_count": 58
        }
      ]
    },
    {
      "cell_type": "code",
      "metadata": {
        "id": "1rg3Z4dMc1fF"
      },
      "source": [
        "df1 = make_df('AB', [1, 2])\n",
        "df2 = make_df('CD', [3, 4])"
      ],
      "execution_count": null,
      "outputs": []
    },
    {
      "cell_type": "code",
      "metadata": {
        "colab": {
          "base_uri": "https://localhost:8080/",
          "height": 173
        },
        "id": "qawV8FnidOsH",
        "outputId": "bd671b5f-bc59-44cf-876a-9a1895fad853"
      },
      "source": [
        "pd.concat([df1, df2])"
      ],
      "execution_count": null,
      "outputs": [
        {
          "output_type": "execute_result",
          "data": {
            "text/html": [
              "<div>\n",
              "<style scoped>\n",
              "    .dataframe tbody tr th:only-of-type {\n",
              "        vertical-align: middle;\n",
              "    }\n",
              "\n",
              "    .dataframe tbody tr th {\n",
              "        vertical-align: top;\n",
              "    }\n",
              "\n",
              "    .dataframe thead th {\n",
              "        text-align: right;\n",
              "    }\n",
              "</style>\n",
              "<table border=\"1\" class=\"dataframe\">\n",
              "  <thead>\n",
              "    <tr style=\"text-align: right;\">\n",
              "      <th></th>\n",
              "      <th>A</th>\n",
              "      <th>B</th>\n",
              "      <th>C</th>\n",
              "      <th>D</th>\n",
              "    </tr>\n",
              "  </thead>\n",
              "  <tbody>\n",
              "    <tr>\n",
              "      <th>1</th>\n",
              "      <td>A1</td>\n",
              "      <td>B1</td>\n",
              "      <td>NaN</td>\n",
              "      <td>NaN</td>\n",
              "    </tr>\n",
              "    <tr>\n",
              "      <th>2</th>\n",
              "      <td>A2</td>\n",
              "      <td>B2</td>\n",
              "      <td>NaN</td>\n",
              "      <td>NaN</td>\n",
              "    </tr>\n",
              "    <tr>\n",
              "      <th>3</th>\n",
              "      <td>NaN</td>\n",
              "      <td>NaN</td>\n",
              "      <td>C3</td>\n",
              "      <td>D3</td>\n",
              "    </tr>\n",
              "    <tr>\n",
              "      <th>4</th>\n",
              "      <td>NaN</td>\n",
              "      <td>NaN</td>\n",
              "      <td>C4</td>\n",
              "      <td>D4</td>\n",
              "    </tr>\n",
              "  </tbody>\n",
              "</table>\n",
              "</div>"
            ],
            "text/plain": [
              "     A    B    C    D\n",
              "1   A1   B1  NaN  NaN\n",
              "2   A2   B2  NaN  NaN\n",
              "3  NaN  NaN   C3   D3\n",
              "4  NaN  NaN   C4   D4"
            ]
          },
          "metadata": {
            "tags": []
          },
          "execution_count": 60
        }
      ]
    },
    {
      "cell_type": "markdown",
      "metadata": {
        "id": "SdQXx96TfiRE"
      },
      "source": [
        "# Melt"
      ]
    },
    {
      "cell_type": "markdown",
      "metadata": {
        "id": "IV5butmqI_2Z"
      },
      "source": [
        "## Basics"
      ]
    },
    {
      "cell_type": "code",
      "metadata": {
        "colab": {
          "base_uri": "https://localhost:8080/",
          "height": 80
        },
        "id": "84SRbdYVI_CN",
        "outputId": "cded8b91-a522-4867-ad13-5dfb7753708d"
      },
      "source": [
        "import pandas as pd\n",
        "df = pd.DataFrame({'New York': [25]})\n",
        "df"
      ],
      "execution_count": null,
      "outputs": [
        {
          "output_type": "execute_result",
          "data": {
            "text/html": [
              "<div>\n",
              "<style scoped>\n",
              "    .dataframe tbody tr th:only-of-type {\n",
              "        vertical-align: middle;\n",
              "    }\n",
              "\n",
              "    .dataframe tbody tr th {\n",
              "        vertical-align: top;\n",
              "    }\n",
              "\n",
              "    .dataframe thead th {\n",
              "        text-align: right;\n",
              "    }\n",
              "</style>\n",
              "<table border=\"1\" class=\"dataframe\">\n",
              "  <thead>\n",
              "    <tr style=\"text-align: right;\">\n",
              "      <th></th>\n",
              "      <th>New York</th>\n",
              "    </tr>\n",
              "  </thead>\n",
              "  <tbody>\n",
              "    <tr>\n",
              "      <th>0</th>\n",
              "      <td>25</td>\n",
              "    </tr>\n",
              "  </tbody>\n",
              "</table>\n",
              "</div>"
            ],
            "text/plain": [
              "   New York\n",
              "0        25"
            ]
          },
          "metadata": {
            "tags": []
          },
          "execution_count": 1
        }
      ]
    },
    {
      "cell_type": "code",
      "metadata": {
        "colab": {
          "base_uri": "https://localhost:8080/",
          "height": 80
        },
        "id": "VgRPwOFkJHbp",
        "outputId": "0c4359b0-43d2-44ee-8667-2ae49c0f0dae"
      },
      "source": [
        "df.melt()"
      ],
      "execution_count": null,
      "outputs": [
        {
          "output_type": "execute_result",
          "data": {
            "text/html": [
              "<div>\n",
              "<style scoped>\n",
              "    .dataframe tbody tr th:only-of-type {\n",
              "        vertical-align: middle;\n",
              "    }\n",
              "\n",
              "    .dataframe tbody tr th {\n",
              "        vertical-align: top;\n",
              "    }\n",
              "\n",
              "    .dataframe thead th {\n",
              "        text-align: right;\n",
              "    }\n",
              "</style>\n",
              "<table border=\"1\" class=\"dataframe\">\n",
              "  <thead>\n",
              "    <tr style=\"text-align: right;\">\n",
              "      <th></th>\n",
              "      <th>variable</th>\n",
              "      <th>value</th>\n",
              "    </tr>\n",
              "  </thead>\n",
              "  <tbody>\n",
              "    <tr>\n",
              "      <th>0</th>\n",
              "      <td>New York</td>\n",
              "      <td>25</td>\n",
              "    </tr>\n",
              "  </tbody>\n",
              "</table>\n",
              "</div>"
            ],
            "text/plain": [
              "   variable  value\n",
              "0  New York     25"
            ]
          },
          "metadata": {
            "tags": []
          },
          "execution_count": 2
        }
      ]
    },
    {
      "cell_type": "code",
      "metadata": {
        "colab": {
          "base_uri": "https://localhost:8080/",
          "height": 80
        },
        "id": "IDKmLB1XJIkp",
        "outputId": "f13dacda-17d6-4b11-dd02-de8a7145feda"
      },
      "source": [
        "df = pd.DataFrame({'New york': [25], 'Paris': [27], 'London': [30]})\n",
        "df"
      ],
      "execution_count": null,
      "outputs": [
        {
          "output_type": "execute_result",
          "data": {
            "text/html": [
              "<div>\n",
              "<style scoped>\n",
              "    .dataframe tbody tr th:only-of-type {\n",
              "        vertical-align: middle;\n",
              "    }\n",
              "\n",
              "    .dataframe tbody tr th {\n",
              "        vertical-align: top;\n",
              "    }\n",
              "\n",
              "    .dataframe thead th {\n",
              "        text-align: right;\n",
              "    }\n",
              "</style>\n",
              "<table border=\"1\" class=\"dataframe\">\n",
              "  <thead>\n",
              "    <tr style=\"text-align: right;\">\n",
              "      <th></th>\n",
              "      <th>New york</th>\n",
              "      <th>Paris</th>\n",
              "      <th>London</th>\n",
              "    </tr>\n",
              "  </thead>\n",
              "  <tbody>\n",
              "    <tr>\n",
              "      <th>0</th>\n",
              "      <td>25</td>\n",
              "      <td>27</td>\n",
              "      <td>30</td>\n",
              "    </tr>\n",
              "  </tbody>\n",
              "</table>\n",
              "</div>"
            ],
            "text/plain": [
              "   New york  Paris  London\n",
              "0        25     27      30"
            ]
          },
          "metadata": {
            "tags": []
          },
          "execution_count": 3
        }
      ]
    },
    {
      "cell_type": "code",
      "metadata": {
        "colab": {
          "base_uri": "https://localhost:8080/",
          "height": 142
        },
        "id": "EE9r4CuqJMA1",
        "outputId": "3a1fa14b-38f5-4cc9-f9b6-8d78edbd6ade"
      },
      "source": [
        "df.melt()"
      ],
      "execution_count": null,
      "outputs": [
        {
          "output_type": "execute_result",
          "data": {
            "text/html": [
              "<div>\n",
              "<style scoped>\n",
              "    .dataframe tbody tr th:only-of-type {\n",
              "        vertical-align: middle;\n",
              "    }\n",
              "\n",
              "    .dataframe tbody tr th {\n",
              "        vertical-align: top;\n",
              "    }\n",
              "\n",
              "    .dataframe thead th {\n",
              "        text-align: right;\n",
              "    }\n",
              "</style>\n",
              "<table border=\"1\" class=\"dataframe\">\n",
              "  <thead>\n",
              "    <tr style=\"text-align: right;\">\n",
              "      <th></th>\n",
              "      <th>variable</th>\n",
              "      <th>value</th>\n",
              "    </tr>\n",
              "  </thead>\n",
              "  <tbody>\n",
              "    <tr>\n",
              "      <th>0</th>\n",
              "      <td>New york</td>\n",
              "      <td>25</td>\n",
              "    </tr>\n",
              "    <tr>\n",
              "      <th>1</th>\n",
              "      <td>Paris</td>\n",
              "      <td>27</td>\n",
              "    </tr>\n",
              "    <tr>\n",
              "      <th>2</th>\n",
              "      <td>London</td>\n",
              "      <td>30</td>\n",
              "    </tr>\n",
              "  </tbody>\n",
              "</table>\n",
              "</div>"
            ],
            "text/plain": [
              "   variable  value\n",
              "0  New york     25\n",
              "1     Paris     27\n",
              "2    London     30"
            ]
          },
          "metadata": {
            "tags": []
          },
          "execution_count": 4
        }
      ]
    },
    {
      "cell_type": "code",
      "metadata": {
        "colab": {
          "base_uri": "https://localhost:8080/",
          "height": 204
        },
        "id": "WiHHz9RtJPTA",
        "outputId": "421c0fc1-7bbb-46a9-8a39-91aa4322d5ce"
      },
      "source": [
        "df_larger = pd.DataFrame({\n",
        "    'New york': [25, 27, 23, 25, 29],\n",
        "    'Paris': [27, 22, 24, 26, 28],\n",
        "    'London': [30, 31, 33, 29, 25]\n",
        "})\n",
        "df_larger"
      ],
      "execution_count": null,
      "outputs": [
        {
          "output_type": "execute_result",
          "data": {
            "text/html": [
              "<div>\n",
              "<style scoped>\n",
              "    .dataframe tbody tr th:only-of-type {\n",
              "        vertical-align: middle;\n",
              "    }\n",
              "\n",
              "    .dataframe tbody tr th {\n",
              "        vertical-align: top;\n",
              "    }\n",
              "\n",
              "    .dataframe thead th {\n",
              "        text-align: right;\n",
              "    }\n",
              "</style>\n",
              "<table border=\"1\" class=\"dataframe\">\n",
              "  <thead>\n",
              "    <tr style=\"text-align: right;\">\n",
              "      <th></th>\n",
              "      <th>New york</th>\n",
              "      <th>Paris</th>\n",
              "      <th>London</th>\n",
              "    </tr>\n",
              "  </thead>\n",
              "  <tbody>\n",
              "    <tr>\n",
              "      <th>0</th>\n",
              "      <td>25</td>\n",
              "      <td>27</td>\n",
              "      <td>30</td>\n",
              "    </tr>\n",
              "    <tr>\n",
              "      <th>1</th>\n",
              "      <td>27</td>\n",
              "      <td>22</td>\n",
              "      <td>31</td>\n",
              "    </tr>\n",
              "    <tr>\n",
              "      <th>2</th>\n",
              "      <td>23</td>\n",
              "      <td>24</td>\n",
              "      <td>33</td>\n",
              "    </tr>\n",
              "    <tr>\n",
              "      <th>3</th>\n",
              "      <td>25</td>\n",
              "      <td>26</td>\n",
              "      <td>29</td>\n",
              "    </tr>\n",
              "    <tr>\n",
              "      <th>4</th>\n",
              "      <td>29</td>\n",
              "      <td>28</td>\n",
              "      <td>25</td>\n",
              "    </tr>\n",
              "  </tbody>\n",
              "</table>\n",
              "</div>"
            ],
            "text/plain": [
              "   New york  Paris  London\n",
              "0        25     27      30\n",
              "1        27     22      31\n",
              "2        23     24      33\n",
              "3        25     26      29\n",
              "4        29     28      25"
            ]
          },
          "metadata": {
            "tags": []
          },
          "execution_count": 5
        }
      ]
    },
    {
      "cell_type": "code",
      "metadata": {
        "colab": {
          "base_uri": "https://localhost:8080/",
          "height": 514
        },
        "id": "pevYM6bFJP0j",
        "outputId": "aea40d51-9876-461c-945d-cf16c3282659"
      },
      "source": [
        "df_larger.melt()"
      ],
      "execution_count": null,
      "outputs": [
        {
          "output_type": "execute_result",
          "data": {
            "text/html": [
              "<div>\n",
              "<style scoped>\n",
              "    .dataframe tbody tr th:only-of-type {\n",
              "        vertical-align: middle;\n",
              "    }\n",
              "\n",
              "    .dataframe tbody tr th {\n",
              "        vertical-align: top;\n",
              "    }\n",
              "\n",
              "    .dataframe thead th {\n",
              "        text-align: right;\n",
              "    }\n",
              "</style>\n",
              "<table border=\"1\" class=\"dataframe\">\n",
              "  <thead>\n",
              "    <tr style=\"text-align: right;\">\n",
              "      <th></th>\n",
              "      <th>variable</th>\n",
              "      <th>value</th>\n",
              "    </tr>\n",
              "  </thead>\n",
              "  <tbody>\n",
              "    <tr>\n",
              "      <th>0</th>\n",
              "      <td>New york</td>\n",
              "      <td>25</td>\n",
              "    </tr>\n",
              "    <tr>\n",
              "      <th>1</th>\n",
              "      <td>New york</td>\n",
              "      <td>27</td>\n",
              "    </tr>\n",
              "    <tr>\n",
              "      <th>2</th>\n",
              "      <td>New york</td>\n",
              "      <td>23</td>\n",
              "    </tr>\n",
              "    <tr>\n",
              "      <th>3</th>\n",
              "      <td>New york</td>\n",
              "      <td>25</td>\n",
              "    </tr>\n",
              "    <tr>\n",
              "      <th>4</th>\n",
              "      <td>New york</td>\n",
              "      <td>29</td>\n",
              "    </tr>\n",
              "    <tr>\n",
              "      <th>5</th>\n",
              "      <td>Paris</td>\n",
              "      <td>27</td>\n",
              "    </tr>\n",
              "    <tr>\n",
              "      <th>6</th>\n",
              "      <td>Paris</td>\n",
              "      <td>22</td>\n",
              "    </tr>\n",
              "    <tr>\n",
              "      <th>7</th>\n",
              "      <td>Paris</td>\n",
              "      <td>24</td>\n",
              "    </tr>\n",
              "    <tr>\n",
              "      <th>8</th>\n",
              "      <td>Paris</td>\n",
              "      <td>26</td>\n",
              "    </tr>\n",
              "    <tr>\n",
              "      <th>9</th>\n",
              "      <td>Paris</td>\n",
              "      <td>28</td>\n",
              "    </tr>\n",
              "    <tr>\n",
              "      <th>10</th>\n",
              "      <td>London</td>\n",
              "      <td>30</td>\n",
              "    </tr>\n",
              "    <tr>\n",
              "      <th>11</th>\n",
              "      <td>London</td>\n",
              "      <td>31</td>\n",
              "    </tr>\n",
              "    <tr>\n",
              "      <th>12</th>\n",
              "      <td>London</td>\n",
              "      <td>33</td>\n",
              "    </tr>\n",
              "    <tr>\n",
              "      <th>13</th>\n",
              "      <td>London</td>\n",
              "      <td>29</td>\n",
              "    </tr>\n",
              "    <tr>\n",
              "      <th>14</th>\n",
              "      <td>London</td>\n",
              "      <td>25</td>\n",
              "    </tr>\n",
              "  </tbody>\n",
              "</table>\n",
              "</div>"
            ],
            "text/plain": [
              "    variable  value\n",
              "0   New york     25\n",
              "1   New york     27\n",
              "2   New york     23\n",
              "3   New york     25\n",
              "4   New york     29\n",
              "5      Paris     27\n",
              "6      Paris     22\n",
              "7      Paris     24\n",
              "8      Paris     26\n",
              "9      Paris     28\n",
              "10    London     30\n",
              "11    London     31\n",
              "12    London     33\n",
              "13    London     29\n",
              "14    London     25"
            ]
          },
          "metadata": {
            "tags": []
          },
          "execution_count": 6
        }
      ]
    },
    {
      "cell_type": "code",
      "metadata": {
        "colab": {
          "base_uri": "https://localhost:8080/",
          "height": 142
        },
        "id": "KRZpNpn1JP49",
        "outputId": "b8ea2cb3-c6b8-4eb9-aaf5-12913f978cd0"
      },
      "source": [
        "# var_name and value_name can be used to change the labels of the melted dataframe's columns.\n",
        "df.melt(var_name='city', value_name='temperature')"
      ],
      "execution_count": null,
      "outputs": [
        {
          "output_type": "execute_result",
          "data": {
            "text/html": [
              "<div>\n",
              "<style scoped>\n",
              "    .dataframe tbody tr th:only-of-type {\n",
              "        vertical-align: middle;\n",
              "    }\n",
              "\n",
              "    .dataframe tbody tr th {\n",
              "        vertical-align: top;\n",
              "    }\n",
              "\n",
              "    .dataframe thead th {\n",
              "        text-align: right;\n",
              "    }\n",
              "</style>\n",
              "<table border=\"1\" class=\"dataframe\">\n",
              "  <thead>\n",
              "    <tr style=\"text-align: right;\">\n",
              "      <th></th>\n",
              "      <th>city</th>\n",
              "      <th>temperature</th>\n",
              "    </tr>\n",
              "  </thead>\n",
              "  <tbody>\n",
              "    <tr>\n",
              "      <th>0</th>\n",
              "      <td>New york</td>\n",
              "      <td>25</td>\n",
              "    </tr>\n",
              "    <tr>\n",
              "      <th>1</th>\n",
              "      <td>Paris</td>\n",
              "      <td>27</td>\n",
              "    </tr>\n",
              "    <tr>\n",
              "      <th>2</th>\n",
              "      <td>London</td>\n",
              "      <td>30</td>\n",
              "    </tr>\n",
              "  </tbody>\n",
              "</table>\n",
              "</div>"
            ],
            "text/plain": [
              "       city  temperature\n",
              "0  New york           25\n",
              "1     Paris           27\n",
              "2    London           30"
            ]
          },
          "metadata": {
            "tags": []
          },
          "execution_count": 7
        }
      ]
    },
    {
      "cell_type": "code",
      "metadata": {
        "colab": {
          "base_uri": "https://localhost:8080/",
          "height": 204
        },
        "id": "Vjs-afchJP_P",
        "outputId": "932f5db1-9b31-42fc-a4b7-a89384921cd9"
      },
      "source": [
        "temperatures = pd.DataFrame({\n",
        "    'city': ['New York', 'London', 'Paris', 'Berlin', 'Amsterdam'],\n",
        "    'day1': [23, 25, 27, 26, 24],\n",
        "    'day2': [22, 21, 25, 26, 23],\n",
        "    'day3': [26, 25, 24, 27, 23],\n",
        "    'day4': [23, 21, 22, 26, 27],\n",
        "    'day5': [27, 26, 27, 24, 28]\n",
        "})\n",
        "temperatures"
      ],
      "execution_count": null,
      "outputs": [
        {
          "output_type": "execute_result",
          "data": {
            "text/html": [
              "<div>\n",
              "<style scoped>\n",
              "    .dataframe tbody tr th:only-of-type {\n",
              "        vertical-align: middle;\n",
              "    }\n",
              "\n",
              "    .dataframe tbody tr th {\n",
              "        vertical-align: top;\n",
              "    }\n",
              "\n",
              "    .dataframe thead th {\n",
              "        text-align: right;\n",
              "    }\n",
              "</style>\n",
              "<table border=\"1\" class=\"dataframe\">\n",
              "  <thead>\n",
              "    <tr style=\"text-align: right;\">\n",
              "      <th></th>\n",
              "      <th>city</th>\n",
              "      <th>day1</th>\n",
              "      <th>day2</th>\n",
              "      <th>day3</th>\n",
              "      <th>day4</th>\n",
              "      <th>day5</th>\n",
              "    </tr>\n",
              "  </thead>\n",
              "  <tbody>\n",
              "    <tr>\n",
              "      <th>0</th>\n",
              "      <td>New York</td>\n",
              "      <td>23</td>\n",
              "      <td>22</td>\n",
              "      <td>26</td>\n",
              "      <td>23</td>\n",
              "      <td>27</td>\n",
              "    </tr>\n",
              "    <tr>\n",
              "      <th>1</th>\n",
              "      <td>London</td>\n",
              "      <td>25</td>\n",
              "      <td>21</td>\n",
              "      <td>25</td>\n",
              "      <td>21</td>\n",
              "      <td>26</td>\n",
              "    </tr>\n",
              "    <tr>\n",
              "      <th>2</th>\n",
              "      <td>Paris</td>\n",
              "      <td>27</td>\n",
              "      <td>25</td>\n",
              "      <td>24</td>\n",
              "      <td>22</td>\n",
              "      <td>27</td>\n",
              "    </tr>\n",
              "    <tr>\n",
              "      <th>3</th>\n",
              "      <td>Berlin</td>\n",
              "      <td>26</td>\n",
              "      <td>26</td>\n",
              "      <td>27</td>\n",
              "      <td>26</td>\n",
              "      <td>24</td>\n",
              "    </tr>\n",
              "    <tr>\n",
              "      <th>4</th>\n",
              "      <td>Amsterdam</td>\n",
              "      <td>24</td>\n",
              "      <td>23</td>\n",
              "      <td>23</td>\n",
              "      <td>27</td>\n",
              "      <td>28</td>\n",
              "    </tr>\n",
              "  </tbody>\n",
              "</table>\n",
              "</div>"
            ],
            "text/plain": [
              "        city  day1  day2  day3  day4  day5\n",
              "0   New York    23    22    26    23    27\n",
              "1     London    25    21    25    21    26\n",
              "2      Paris    27    25    24    22    27\n",
              "3     Berlin    26    26    27    26    24\n",
              "4  Amsterdam    24    23    23    27    28"
            ]
          },
          "metadata": {
            "tags": []
          },
          "execution_count": 8
        }
      ]
    },
    {
      "cell_type": "code",
      "metadata": {
        "colab": {
          "base_uri": "https://localhost:8080/",
          "height": 979
        },
        "id": "M5tbiF6WJQFh",
        "outputId": "e1bb4a2c-31b7-4b72-df77-7a6950fdcf60"
      },
      "source": [
        "temperatures.melt()"
      ],
      "execution_count": null,
      "outputs": [
        {
          "output_type": "execute_result",
          "data": {
            "text/html": [
              "<div>\n",
              "<style scoped>\n",
              "    .dataframe tbody tr th:only-of-type {\n",
              "        vertical-align: middle;\n",
              "    }\n",
              "\n",
              "    .dataframe tbody tr th {\n",
              "        vertical-align: top;\n",
              "    }\n",
              "\n",
              "    .dataframe thead th {\n",
              "        text-align: right;\n",
              "    }\n",
              "</style>\n",
              "<table border=\"1\" class=\"dataframe\">\n",
              "  <thead>\n",
              "    <tr style=\"text-align: right;\">\n",
              "      <th></th>\n",
              "      <th>variable</th>\n",
              "      <th>value</th>\n",
              "    </tr>\n",
              "  </thead>\n",
              "  <tbody>\n",
              "    <tr>\n",
              "      <th>0</th>\n",
              "      <td>city</td>\n",
              "      <td>New York</td>\n",
              "    </tr>\n",
              "    <tr>\n",
              "      <th>1</th>\n",
              "      <td>city</td>\n",
              "      <td>London</td>\n",
              "    </tr>\n",
              "    <tr>\n",
              "      <th>2</th>\n",
              "      <td>city</td>\n",
              "      <td>Paris</td>\n",
              "    </tr>\n",
              "    <tr>\n",
              "      <th>3</th>\n",
              "      <td>city</td>\n",
              "      <td>Berlin</td>\n",
              "    </tr>\n",
              "    <tr>\n",
              "      <th>4</th>\n",
              "      <td>city</td>\n",
              "      <td>Amsterdam</td>\n",
              "    </tr>\n",
              "    <tr>\n",
              "      <th>5</th>\n",
              "      <td>day1</td>\n",
              "      <td>23</td>\n",
              "    </tr>\n",
              "    <tr>\n",
              "      <th>6</th>\n",
              "      <td>day1</td>\n",
              "      <td>25</td>\n",
              "    </tr>\n",
              "    <tr>\n",
              "      <th>7</th>\n",
              "      <td>day1</td>\n",
              "      <td>27</td>\n",
              "    </tr>\n",
              "    <tr>\n",
              "      <th>8</th>\n",
              "      <td>day1</td>\n",
              "      <td>26</td>\n",
              "    </tr>\n",
              "    <tr>\n",
              "      <th>9</th>\n",
              "      <td>day1</td>\n",
              "      <td>24</td>\n",
              "    </tr>\n",
              "    <tr>\n",
              "      <th>10</th>\n",
              "      <td>day2</td>\n",
              "      <td>22</td>\n",
              "    </tr>\n",
              "    <tr>\n",
              "      <th>11</th>\n",
              "      <td>day2</td>\n",
              "      <td>21</td>\n",
              "    </tr>\n",
              "    <tr>\n",
              "      <th>12</th>\n",
              "      <td>day2</td>\n",
              "      <td>25</td>\n",
              "    </tr>\n",
              "    <tr>\n",
              "      <th>13</th>\n",
              "      <td>day2</td>\n",
              "      <td>26</td>\n",
              "    </tr>\n",
              "    <tr>\n",
              "      <th>14</th>\n",
              "      <td>day2</td>\n",
              "      <td>23</td>\n",
              "    </tr>\n",
              "    <tr>\n",
              "      <th>15</th>\n",
              "      <td>day3</td>\n",
              "      <td>26</td>\n",
              "    </tr>\n",
              "    <tr>\n",
              "      <th>16</th>\n",
              "      <td>day3</td>\n",
              "      <td>25</td>\n",
              "    </tr>\n",
              "    <tr>\n",
              "      <th>17</th>\n",
              "      <td>day3</td>\n",
              "      <td>24</td>\n",
              "    </tr>\n",
              "    <tr>\n",
              "      <th>18</th>\n",
              "      <td>day3</td>\n",
              "      <td>27</td>\n",
              "    </tr>\n",
              "    <tr>\n",
              "      <th>19</th>\n",
              "      <td>day3</td>\n",
              "      <td>23</td>\n",
              "    </tr>\n",
              "    <tr>\n",
              "      <th>20</th>\n",
              "      <td>day4</td>\n",
              "      <td>23</td>\n",
              "    </tr>\n",
              "    <tr>\n",
              "      <th>21</th>\n",
              "      <td>day4</td>\n",
              "      <td>21</td>\n",
              "    </tr>\n",
              "    <tr>\n",
              "      <th>22</th>\n",
              "      <td>day4</td>\n",
              "      <td>22</td>\n",
              "    </tr>\n",
              "    <tr>\n",
              "      <th>23</th>\n",
              "      <td>day4</td>\n",
              "      <td>26</td>\n",
              "    </tr>\n",
              "    <tr>\n",
              "      <th>24</th>\n",
              "      <td>day4</td>\n",
              "      <td>27</td>\n",
              "    </tr>\n",
              "    <tr>\n",
              "      <th>25</th>\n",
              "      <td>day5</td>\n",
              "      <td>27</td>\n",
              "    </tr>\n",
              "    <tr>\n",
              "      <th>26</th>\n",
              "      <td>day5</td>\n",
              "      <td>26</td>\n",
              "    </tr>\n",
              "    <tr>\n",
              "      <th>27</th>\n",
              "      <td>day5</td>\n",
              "      <td>27</td>\n",
              "    </tr>\n",
              "    <tr>\n",
              "      <th>28</th>\n",
              "      <td>day5</td>\n",
              "      <td>24</td>\n",
              "    </tr>\n",
              "    <tr>\n",
              "      <th>29</th>\n",
              "      <td>day5</td>\n",
              "      <td>28</td>\n",
              "    </tr>\n",
              "  </tbody>\n",
              "</table>\n",
              "</div>"
            ],
            "text/plain": [
              "   variable      value\n",
              "0      city   New York\n",
              "1      city     London\n",
              "2      city      Paris\n",
              "3      city     Berlin\n",
              "4      city  Amsterdam\n",
              "5      day1         23\n",
              "6      day1         25\n",
              "7      day1         27\n",
              "8      day1         26\n",
              "9      day1         24\n",
              "10     day2         22\n",
              "11     day2         21\n",
              "12     day2         25\n",
              "13     day2         26\n",
              "14     day2         23\n",
              "15     day3         26\n",
              "16     day3         25\n",
              "17     day3         24\n",
              "18     day3         27\n",
              "19     day3         23\n",
              "20     day4         23\n",
              "21     day4         21\n",
              "22     day4         22\n",
              "23     day4         26\n",
              "24     day4         27\n",
              "25     day5         27\n",
              "26     day5         26\n",
              "27     day5         27\n",
              "28     day5         24\n",
              "29     day5         28"
            ]
          },
          "metadata": {
            "tags": []
          },
          "execution_count": 9
        }
      ]
    },
    {
      "cell_type": "code",
      "metadata": {
        "colab": {
          "base_uri": "https://localhost:8080/",
          "height": 824
        },
        "id": "Ghvd5F9uJ57V",
        "outputId": "cb2eeb0d-99e1-417a-d286-2bece034d8d5"
      },
      "source": [
        "#If we want to turn only some of the columns into rows, pass the columns to keep as a list (even if it is a single value) to id_vars . id_vars stands for identity variables.\n",
        "temperatures.melt(id_vars=['city'])"
      ],
      "execution_count": null,
      "outputs": [
        {
          "output_type": "execute_result",
          "data": {
            "text/html": [
              "<div>\n",
              "<style scoped>\n",
              "    .dataframe tbody tr th:only-of-type {\n",
              "        vertical-align: middle;\n",
              "    }\n",
              "\n",
              "    .dataframe tbody tr th {\n",
              "        vertical-align: top;\n",
              "    }\n",
              "\n",
              "    .dataframe thead th {\n",
              "        text-align: right;\n",
              "    }\n",
              "</style>\n",
              "<table border=\"1\" class=\"dataframe\">\n",
              "  <thead>\n",
              "    <tr style=\"text-align: right;\">\n",
              "      <th></th>\n",
              "      <th>city</th>\n",
              "      <th>variable</th>\n",
              "      <th>value</th>\n",
              "    </tr>\n",
              "  </thead>\n",
              "  <tbody>\n",
              "    <tr>\n",
              "      <th>0</th>\n",
              "      <td>New York</td>\n",
              "      <td>day1</td>\n",
              "      <td>23</td>\n",
              "    </tr>\n",
              "    <tr>\n",
              "      <th>1</th>\n",
              "      <td>London</td>\n",
              "      <td>day1</td>\n",
              "      <td>25</td>\n",
              "    </tr>\n",
              "    <tr>\n",
              "      <th>2</th>\n",
              "      <td>Paris</td>\n",
              "      <td>day1</td>\n",
              "      <td>27</td>\n",
              "    </tr>\n",
              "    <tr>\n",
              "      <th>3</th>\n",
              "      <td>Berlin</td>\n",
              "      <td>day1</td>\n",
              "      <td>26</td>\n",
              "    </tr>\n",
              "    <tr>\n",
              "      <th>4</th>\n",
              "      <td>Amsterdam</td>\n",
              "      <td>day1</td>\n",
              "      <td>24</td>\n",
              "    </tr>\n",
              "    <tr>\n",
              "      <th>5</th>\n",
              "      <td>New York</td>\n",
              "      <td>day2</td>\n",
              "      <td>22</td>\n",
              "    </tr>\n",
              "    <tr>\n",
              "      <th>6</th>\n",
              "      <td>London</td>\n",
              "      <td>day2</td>\n",
              "      <td>21</td>\n",
              "    </tr>\n",
              "    <tr>\n",
              "      <th>7</th>\n",
              "      <td>Paris</td>\n",
              "      <td>day2</td>\n",
              "      <td>25</td>\n",
              "    </tr>\n",
              "    <tr>\n",
              "      <th>8</th>\n",
              "      <td>Berlin</td>\n",
              "      <td>day2</td>\n",
              "      <td>26</td>\n",
              "    </tr>\n",
              "    <tr>\n",
              "      <th>9</th>\n",
              "      <td>Amsterdam</td>\n",
              "      <td>day2</td>\n",
              "      <td>23</td>\n",
              "    </tr>\n",
              "    <tr>\n",
              "      <th>10</th>\n",
              "      <td>New York</td>\n",
              "      <td>day3</td>\n",
              "      <td>26</td>\n",
              "    </tr>\n",
              "    <tr>\n",
              "      <th>11</th>\n",
              "      <td>London</td>\n",
              "      <td>day3</td>\n",
              "      <td>25</td>\n",
              "    </tr>\n",
              "    <tr>\n",
              "      <th>12</th>\n",
              "      <td>Paris</td>\n",
              "      <td>day3</td>\n",
              "      <td>24</td>\n",
              "    </tr>\n",
              "    <tr>\n",
              "      <th>13</th>\n",
              "      <td>Berlin</td>\n",
              "      <td>day3</td>\n",
              "      <td>27</td>\n",
              "    </tr>\n",
              "    <tr>\n",
              "      <th>14</th>\n",
              "      <td>Amsterdam</td>\n",
              "      <td>day3</td>\n",
              "      <td>23</td>\n",
              "    </tr>\n",
              "    <tr>\n",
              "      <th>15</th>\n",
              "      <td>New York</td>\n",
              "      <td>day4</td>\n",
              "      <td>23</td>\n",
              "    </tr>\n",
              "    <tr>\n",
              "      <th>16</th>\n",
              "      <td>London</td>\n",
              "      <td>day4</td>\n",
              "      <td>21</td>\n",
              "    </tr>\n",
              "    <tr>\n",
              "      <th>17</th>\n",
              "      <td>Paris</td>\n",
              "      <td>day4</td>\n",
              "      <td>22</td>\n",
              "    </tr>\n",
              "    <tr>\n",
              "      <th>18</th>\n",
              "      <td>Berlin</td>\n",
              "      <td>day4</td>\n",
              "      <td>26</td>\n",
              "    </tr>\n",
              "    <tr>\n",
              "      <th>19</th>\n",
              "      <td>Amsterdam</td>\n",
              "      <td>day4</td>\n",
              "      <td>27</td>\n",
              "    </tr>\n",
              "    <tr>\n",
              "      <th>20</th>\n",
              "      <td>New York</td>\n",
              "      <td>day5</td>\n",
              "      <td>27</td>\n",
              "    </tr>\n",
              "    <tr>\n",
              "      <th>21</th>\n",
              "      <td>London</td>\n",
              "      <td>day5</td>\n",
              "      <td>26</td>\n",
              "    </tr>\n",
              "    <tr>\n",
              "      <th>22</th>\n",
              "      <td>Paris</td>\n",
              "      <td>day5</td>\n",
              "      <td>27</td>\n",
              "    </tr>\n",
              "    <tr>\n",
              "      <th>23</th>\n",
              "      <td>Berlin</td>\n",
              "      <td>day5</td>\n",
              "      <td>24</td>\n",
              "    </tr>\n",
              "    <tr>\n",
              "      <th>24</th>\n",
              "      <td>Amsterdam</td>\n",
              "      <td>day5</td>\n",
              "      <td>28</td>\n",
              "    </tr>\n",
              "  </tbody>\n",
              "</table>\n",
              "</div>"
            ],
            "text/plain": [
              "         city variable  value\n",
              "0    New York     day1     23\n",
              "1      London     day1     25\n",
              "2       Paris     day1     27\n",
              "3      Berlin     day1     26\n",
              "4   Amsterdam     day1     24\n",
              "5    New York     day2     22\n",
              "6      London     day2     21\n",
              "7       Paris     day2     25\n",
              "8      Berlin     day2     26\n",
              "9   Amsterdam     day2     23\n",
              "10   New York     day3     26\n",
              "11     London     day3     25\n",
              "12      Paris     day3     24\n",
              "13     Berlin     day3     27\n",
              "14  Amsterdam     day3     23\n",
              "15   New York     day4     23\n",
              "16     London     day4     21\n",
              "17      Paris     day4     22\n",
              "18     Berlin     day4     26\n",
              "19  Amsterdam     day4     27\n",
              "20   New York     day5     27\n",
              "21     London     day5     26\n",
              "22      Paris     day5     27\n",
              "23     Berlin     day5     24\n",
              "24  Amsterdam     day5     28"
            ]
          },
          "metadata": {
            "tags": []
          },
          "execution_count": 10
        }
      ]
    },
    {
      "cell_type": "code",
      "metadata": {
        "colab": {
          "base_uri": "https://localhost:8080/",
          "height": 824
        },
        "id": "pQLiOjT8KAMT",
        "outputId": "d7534577-898d-4db6-8dbd-ef140f10fb6b"
      },
      "source": [
        "temperatures.melt(id_vars=['city'],\n",
        "                  var_name='date',\n",
        "                  value_name='temperature')"
      ],
      "execution_count": null,
      "outputs": [
        {
          "output_type": "execute_result",
          "data": {
            "text/html": [
              "<div>\n",
              "<style scoped>\n",
              "    .dataframe tbody tr th:only-of-type {\n",
              "        vertical-align: middle;\n",
              "    }\n",
              "\n",
              "    .dataframe tbody tr th {\n",
              "        vertical-align: top;\n",
              "    }\n",
              "\n",
              "    .dataframe thead th {\n",
              "        text-align: right;\n",
              "    }\n",
              "</style>\n",
              "<table border=\"1\" class=\"dataframe\">\n",
              "  <thead>\n",
              "    <tr style=\"text-align: right;\">\n",
              "      <th></th>\n",
              "      <th>city</th>\n",
              "      <th>date</th>\n",
              "      <th>temperature</th>\n",
              "    </tr>\n",
              "  </thead>\n",
              "  <tbody>\n",
              "    <tr>\n",
              "      <th>0</th>\n",
              "      <td>New York</td>\n",
              "      <td>day1</td>\n",
              "      <td>23</td>\n",
              "    </tr>\n",
              "    <tr>\n",
              "      <th>1</th>\n",
              "      <td>London</td>\n",
              "      <td>day1</td>\n",
              "      <td>25</td>\n",
              "    </tr>\n",
              "    <tr>\n",
              "      <th>2</th>\n",
              "      <td>Paris</td>\n",
              "      <td>day1</td>\n",
              "      <td>27</td>\n",
              "    </tr>\n",
              "    <tr>\n",
              "      <th>3</th>\n",
              "      <td>Berlin</td>\n",
              "      <td>day1</td>\n",
              "      <td>26</td>\n",
              "    </tr>\n",
              "    <tr>\n",
              "      <th>4</th>\n",
              "      <td>Amsterdam</td>\n",
              "      <td>day1</td>\n",
              "      <td>24</td>\n",
              "    </tr>\n",
              "    <tr>\n",
              "      <th>5</th>\n",
              "      <td>New York</td>\n",
              "      <td>day2</td>\n",
              "      <td>22</td>\n",
              "    </tr>\n",
              "    <tr>\n",
              "      <th>6</th>\n",
              "      <td>London</td>\n",
              "      <td>day2</td>\n",
              "      <td>21</td>\n",
              "    </tr>\n",
              "    <tr>\n",
              "      <th>7</th>\n",
              "      <td>Paris</td>\n",
              "      <td>day2</td>\n",
              "      <td>25</td>\n",
              "    </tr>\n",
              "    <tr>\n",
              "      <th>8</th>\n",
              "      <td>Berlin</td>\n",
              "      <td>day2</td>\n",
              "      <td>26</td>\n",
              "    </tr>\n",
              "    <tr>\n",
              "      <th>9</th>\n",
              "      <td>Amsterdam</td>\n",
              "      <td>day2</td>\n",
              "      <td>23</td>\n",
              "    </tr>\n",
              "    <tr>\n",
              "      <th>10</th>\n",
              "      <td>New York</td>\n",
              "      <td>day3</td>\n",
              "      <td>26</td>\n",
              "    </tr>\n",
              "    <tr>\n",
              "      <th>11</th>\n",
              "      <td>London</td>\n",
              "      <td>day3</td>\n",
              "      <td>25</td>\n",
              "    </tr>\n",
              "    <tr>\n",
              "      <th>12</th>\n",
              "      <td>Paris</td>\n",
              "      <td>day3</td>\n",
              "      <td>24</td>\n",
              "    </tr>\n",
              "    <tr>\n",
              "      <th>13</th>\n",
              "      <td>Berlin</td>\n",
              "      <td>day3</td>\n",
              "      <td>27</td>\n",
              "    </tr>\n",
              "    <tr>\n",
              "      <th>14</th>\n",
              "      <td>Amsterdam</td>\n",
              "      <td>day3</td>\n",
              "      <td>23</td>\n",
              "    </tr>\n",
              "    <tr>\n",
              "      <th>15</th>\n",
              "      <td>New York</td>\n",
              "      <td>day4</td>\n",
              "      <td>23</td>\n",
              "    </tr>\n",
              "    <tr>\n",
              "      <th>16</th>\n",
              "      <td>London</td>\n",
              "      <td>day4</td>\n",
              "      <td>21</td>\n",
              "    </tr>\n",
              "    <tr>\n",
              "      <th>17</th>\n",
              "      <td>Paris</td>\n",
              "      <td>day4</td>\n",
              "      <td>22</td>\n",
              "    </tr>\n",
              "    <tr>\n",
              "      <th>18</th>\n",
              "      <td>Berlin</td>\n",
              "      <td>day4</td>\n",
              "      <td>26</td>\n",
              "    </tr>\n",
              "    <tr>\n",
              "      <th>19</th>\n",
              "      <td>Amsterdam</td>\n",
              "      <td>day4</td>\n",
              "      <td>27</td>\n",
              "    </tr>\n",
              "    <tr>\n",
              "      <th>20</th>\n",
              "      <td>New York</td>\n",
              "      <td>day5</td>\n",
              "      <td>27</td>\n",
              "    </tr>\n",
              "    <tr>\n",
              "      <th>21</th>\n",
              "      <td>London</td>\n",
              "      <td>day5</td>\n",
              "      <td>26</td>\n",
              "    </tr>\n",
              "    <tr>\n",
              "      <th>22</th>\n",
              "      <td>Paris</td>\n",
              "      <td>day5</td>\n",
              "      <td>27</td>\n",
              "    </tr>\n",
              "    <tr>\n",
              "      <th>23</th>\n",
              "      <td>Berlin</td>\n",
              "      <td>day5</td>\n",
              "      <td>24</td>\n",
              "    </tr>\n",
              "    <tr>\n",
              "      <th>24</th>\n",
              "      <td>Amsterdam</td>\n",
              "      <td>day5</td>\n",
              "      <td>28</td>\n",
              "    </tr>\n",
              "  </tbody>\n",
              "</table>\n",
              "</div>"
            ],
            "text/plain": [
              "         city  date  temperature\n",
              "0    New York  day1           23\n",
              "1      London  day1           25\n",
              "2       Paris  day1           27\n",
              "3      Berlin  day1           26\n",
              "4   Amsterdam  day1           24\n",
              "5    New York  day2           22\n",
              "6      London  day2           21\n",
              "7       Paris  day2           25\n",
              "8      Berlin  day2           26\n",
              "9   Amsterdam  day2           23\n",
              "10   New York  day3           26\n",
              "11     London  day3           25\n",
              "12      Paris  day3           24\n",
              "13     Berlin  day3           27\n",
              "14  Amsterdam  day3           23\n",
              "15   New York  day4           23\n",
              "16     London  day4           21\n",
              "17      Paris  day4           22\n",
              "18     Berlin  day4           26\n",
              "19  Amsterdam  day4           27\n",
              "20   New York  day5           27\n",
              "21     London  day5           26\n",
              "22      Paris  day5           27\n",
              "23     Berlin  day5           24\n",
              "24  Amsterdam  day5           28"
            ]
          },
          "metadata": {
            "tags": []
          },
          "execution_count": 11
        }
      ]
    },
    {
      "cell_type": "code",
      "metadata": {
        "colab": {
          "base_uri": "https://localhost:8080/",
          "height": 235
        },
        "id": "_Lkw0m4tKNgh",
        "outputId": "dd0f5f23-0720-48ff-e820-ac755b8ef34f"
      },
      "source": [
        "stocks = pd.read_csv('https://raw.githubusercontent.com/kyi3081/stock-analysis/master/prices-split-adjusted.csv',\n",
        "                     usecols=['date', 'symbol', 'open', 'close'],\n",
        "                     parse_dates=['date'],\n",
        "                     index_col='date')\n",
        "stocks.head()"
      ],
      "execution_count": null,
      "outputs": [
        {
          "output_type": "execute_result",
          "data": {
            "text/html": [
              "<div>\n",
              "<style scoped>\n",
              "    .dataframe tbody tr th:only-of-type {\n",
              "        vertical-align: middle;\n",
              "    }\n",
              "\n",
              "    .dataframe tbody tr th {\n",
              "        vertical-align: top;\n",
              "    }\n",
              "\n",
              "    .dataframe thead th {\n",
              "        text-align: right;\n",
              "    }\n",
              "</style>\n",
              "<table border=\"1\" class=\"dataframe\">\n",
              "  <thead>\n",
              "    <tr style=\"text-align: right;\">\n",
              "      <th></th>\n",
              "      <th>symbol</th>\n",
              "      <th>open</th>\n",
              "      <th>close</th>\n",
              "    </tr>\n",
              "    <tr>\n",
              "      <th>date</th>\n",
              "      <th></th>\n",
              "      <th></th>\n",
              "      <th></th>\n",
              "    </tr>\n",
              "  </thead>\n",
              "  <tbody>\n",
              "    <tr>\n",
              "      <th>2016-01-05</th>\n",
              "      <td>WLTW</td>\n",
              "      <td>123.430000</td>\n",
              "      <td>125.839996</td>\n",
              "    </tr>\n",
              "    <tr>\n",
              "      <th>2016-01-06</th>\n",
              "      <td>WLTW</td>\n",
              "      <td>125.239998</td>\n",
              "      <td>119.980003</td>\n",
              "    </tr>\n",
              "    <tr>\n",
              "      <th>2016-01-07</th>\n",
              "      <td>WLTW</td>\n",
              "      <td>116.379997</td>\n",
              "      <td>114.949997</td>\n",
              "    </tr>\n",
              "    <tr>\n",
              "      <th>2016-01-08</th>\n",
              "      <td>WLTW</td>\n",
              "      <td>115.480003</td>\n",
              "      <td>116.620003</td>\n",
              "    </tr>\n",
              "    <tr>\n",
              "      <th>2016-01-11</th>\n",
              "      <td>WLTW</td>\n",
              "      <td>117.010002</td>\n",
              "      <td>114.970001</td>\n",
              "    </tr>\n",
              "  </tbody>\n",
              "</table>\n",
              "</div>"
            ],
            "text/plain": [
              "           symbol        open       close\n",
              "date                                     \n",
              "2016-01-05   WLTW  123.430000  125.839996\n",
              "2016-01-06   WLTW  125.239998  119.980003\n",
              "2016-01-07   WLTW  116.379997  114.949997\n",
              "2016-01-08   WLTW  115.480003  116.620003\n",
              "2016-01-11   WLTW  117.010002  114.970001"
            ]
          },
          "metadata": {
            "tags": []
          },
          "execution_count": 12
        }
      ]
    },
    {
      "cell_type": "code",
      "metadata": {
        "colab": {
          "base_uri": "https://localhost:8080/",
          "height": 204
        },
        "id": "EBvYo7SaJQKC",
        "outputId": "99f5e8be-67a7-4ee2-b88e-09223851bb26"
      },
      "source": [
        "stocks_small = stocks.loc['2016-02-01':'2016-03-01'].reset_index()\n",
        "stocks_small.head()"
      ],
      "execution_count": null,
      "outputs": [
        {
          "output_type": "execute_result",
          "data": {
            "text/html": [
              "<div>\n",
              "<style scoped>\n",
              "    .dataframe tbody tr th:only-of-type {\n",
              "        vertical-align: middle;\n",
              "    }\n",
              "\n",
              "    .dataframe tbody tr th {\n",
              "        vertical-align: top;\n",
              "    }\n",
              "\n",
              "    .dataframe thead th {\n",
              "        text-align: right;\n",
              "    }\n",
              "</style>\n",
              "<table border=\"1\" class=\"dataframe\">\n",
              "  <thead>\n",
              "    <tr style=\"text-align: right;\">\n",
              "      <th></th>\n",
              "      <th>date</th>\n",
              "      <th>symbol</th>\n",
              "      <th>open</th>\n",
              "      <th>close</th>\n",
              "    </tr>\n",
              "  </thead>\n",
              "  <tbody>\n",
              "    <tr>\n",
              "      <th>0</th>\n",
              "      <td>2016-02-01</td>\n",
              "      <td>WLTW</td>\n",
              "      <td>114.000000</td>\n",
              "      <td>114.500000</td>\n",
              "    </tr>\n",
              "    <tr>\n",
              "      <th>1</th>\n",
              "      <td>2016-02-02</td>\n",
              "      <td>WLTW</td>\n",
              "      <td>113.250000</td>\n",
              "      <td>110.559998</td>\n",
              "    </tr>\n",
              "    <tr>\n",
              "      <th>2</th>\n",
              "      <td>2016-02-03</td>\n",
              "      <td>WLTW</td>\n",
              "      <td>113.379997</td>\n",
              "      <td>114.050003</td>\n",
              "    </tr>\n",
              "    <tr>\n",
              "      <th>3</th>\n",
              "      <td>2016-02-04</td>\n",
              "      <td>WLTW</td>\n",
              "      <td>114.080002</td>\n",
              "      <td>115.709999</td>\n",
              "    </tr>\n",
              "    <tr>\n",
              "      <th>4</th>\n",
              "      <td>2016-02-05</td>\n",
              "      <td>WLTW</td>\n",
              "      <td>115.120003</td>\n",
              "      <td>114.019997</td>\n",
              "    </tr>\n",
              "  </tbody>\n",
              "</table>\n",
              "</div>"
            ],
            "text/plain": [
              "        date symbol        open       close\n",
              "0 2016-02-01   WLTW  114.000000  114.500000\n",
              "1 2016-02-02   WLTW  113.250000  110.559998\n",
              "2 2016-02-03   WLTW  113.379997  114.050003\n",
              "3 2016-02-04   WLTW  114.080002  115.709999\n",
              "4 2016-02-05   WLTW  115.120003  114.019997"
            ]
          },
          "metadata": {
            "tags": []
          },
          "execution_count": 13
        }
      ]
    },
    {
      "cell_type": "code",
      "metadata": {
        "id": "-uenQpTYK3Lv"
      },
      "source": [
        "pivoted = stocks_small.pivot(index='symbol', columns='date')"
      ],
      "execution_count": null,
      "outputs": []
    },
    {
      "cell_type": "code",
      "metadata": {
        "colab": {
          "base_uri": "https://localhost:8080/",
          "height": 303
        },
        "id": "H7oF2U1_LJll",
        "outputId": "1d51bef6-2a4a-4a75-993f-02e723979f2d"
      },
      "source": [
        "pivoted.head()"
      ],
      "execution_count": null,
      "outputs": [
        {
          "output_type": "execute_result",
          "data": {
            "text/html": [
              "<div>\n",
              "<style scoped>\n",
              "    .dataframe tbody tr th:only-of-type {\n",
              "        vertical-align: middle;\n",
              "    }\n",
              "\n",
              "    .dataframe tbody tr th {\n",
              "        vertical-align: top;\n",
              "    }\n",
              "\n",
              "    .dataframe thead tr th {\n",
              "        text-align: left;\n",
              "    }\n",
              "\n",
              "    .dataframe thead tr:last-of-type th {\n",
              "        text-align: right;\n",
              "    }\n",
              "</style>\n",
              "<table border=\"1\" class=\"dataframe\">\n",
              "  <thead>\n",
              "    <tr>\n",
              "      <th></th>\n",
              "      <th colspan=\"21\" halign=\"left\">open</th>\n",
              "      <th colspan=\"21\" halign=\"left\">close</th>\n",
              "    </tr>\n",
              "    <tr>\n",
              "      <th>date</th>\n",
              "      <th>2016-02-01</th>\n",
              "      <th>2016-02-02</th>\n",
              "      <th>2016-02-03</th>\n",
              "      <th>2016-02-04</th>\n",
              "      <th>2016-02-05</th>\n",
              "      <th>2016-02-08</th>\n",
              "      <th>2016-02-09</th>\n",
              "      <th>2016-02-10</th>\n",
              "      <th>2016-02-11</th>\n",
              "      <th>2016-02-12</th>\n",
              "      <th>2016-02-16</th>\n",
              "      <th>2016-02-17</th>\n",
              "      <th>2016-02-18</th>\n",
              "      <th>2016-02-19</th>\n",
              "      <th>2016-02-22</th>\n",
              "      <th>2016-02-23</th>\n",
              "      <th>2016-02-24</th>\n",
              "      <th>2016-02-25</th>\n",
              "      <th>2016-02-26</th>\n",
              "      <th>2016-02-29</th>\n",
              "      <th>2016-03-01</th>\n",
              "      <th>2016-02-01</th>\n",
              "      <th>2016-02-02</th>\n",
              "      <th>2016-02-03</th>\n",
              "      <th>2016-02-04</th>\n",
              "      <th>2016-02-05</th>\n",
              "      <th>2016-02-08</th>\n",
              "      <th>2016-02-09</th>\n",
              "      <th>2016-02-10</th>\n",
              "      <th>2016-02-11</th>\n",
              "      <th>2016-02-12</th>\n",
              "      <th>2016-02-16</th>\n",
              "      <th>2016-02-17</th>\n",
              "      <th>2016-02-18</th>\n",
              "      <th>2016-02-19</th>\n",
              "      <th>2016-02-22</th>\n",
              "      <th>2016-02-23</th>\n",
              "      <th>2016-02-24</th>\n",
              "      <th>2016-02-25</th>\n",
              "      <th>2016-02-26</th>\n",
              "      <th>2016-02-29</th>\n",
              "      <th>2016-03-01</th>\n",
              "    </tr>\n",
              "    <tr>\n",
              "      <th>symbol</th>\n",
              "      <th></th>\n",
              "      <th></th>\n",
              "      <th></th>\n",
              "      <th></th>\n",
              "      <th></th>\n",
              "      <th></th>\n",
              "      <th></th>\n",
              "      <th></th>\n",
              "      <th></th>\n",
              "      <th></th>\n",
              "      <th></th>\n",
              "      <th></th>\n",
              "      <th></th>\n",
              "      <th></th>\n",
              "      <th></th>\n",
              "      <th></th>\n",
              "      <th></th>\n",
              "      <th></th>\n",
              "      <th></th>\n",
              "      <th></th>\n",
              "      <th></th>\n",
              "      <th></th>\n",
              "      <th></th>\n",
              "      <th></th>\n",
              "      <th></th>\n",
              "      <th></th>\n",
              "      <th></th>\n",
              "      <th></th>\n",
              "      <th></th>\n",
              "      <th></th>\n",
              "      <th></th>\n",
              "      <th></th>\n",
              "      <th></th>\n",
              "      <th></th>\n",
              "      <th></th>\n",
              "      <th></th>\n",
              "      <th></th>\n",
              "      <th></th>\n",
              "      <th></th>\n",
              "      <th></th>\n",
              "      <th></th>\n",
              "      <th></th>\n",
              "    </tr>\n",
              "  </thead>\n",
              "  <tbody>\n",
              "    <tr>\n",
              "      <th>A</th>\n",
              "      <td>37.369999</td>\n",
              "      <td>37.180000</td>\n",
              "      <td>37.270000</td>\n",
              "      <td>37.150002</td>\n",
              "      <td>37.259998</td>\n",
              "      <td>35.610001</td>\n",
              "      <td>34.209999</td>\n",
              "      <td>35.630001</td>\n",
              "      <td>35.119999</td>\n",
              "      <td>35.840000</td>\n",
              "      <td>36.720001</td>\n",
              "      <td>35.220001</td>\n",
              "      <td>37.730000</td>\n",
              "      <td>36.980000</td>\n",
              "      <td>37.880001</td>\n",
              "      <td>37.639999</td>\n",
              "      <td>36.650002</td>\n",
              "      <td>37.619999</td>\n",
              "      <td>37.750000</td>\n",
              "      <td>37.590000</td>\n",
              "      <td>37.630001</td>\n",
              "      <td>37.689999</td>\n",
              "      <td>37.070000</td>\n",
              "      <td>37.189999</td>\n",
              "      <td>37.419998</td>\n",
              "      <td>36.040001</td>\n",
              "      <td>34.799999</td>\n",
              "      <td>35.369999</td>\n",
              "      <td>35.849998</td>\n",
              "      <td>35.330002</td>\n",
              "      <td>36.220001</td>\n",
              "      <td>37.080002</td>\n",
              "      <td>37.869999</td>\n",
              "      <td>37.189999</td>\n",
              "      <td>37.439999</td>\n",
              "      <td>38.029999</td>\n",
              "      <td>37.169998</td>\n",
              "      <td>37.480000</td>\n",
              "      <td>37.630001</td>\n",
              "      <td>37.590000</td>\n",
              "      <td>37.349998</td>\n",
              "      <td>38.590000</td>\n",
              "    </tr>\n",
              "    <tr>\n",
              "      <th>AAL</th>\n",
              "      <td>39.000000</td>\n",
              "      <td>38.830002</td>\n",
              "      <td>37.380001</td>\n",
              "      <td>37.340000</td>\n",
              "      <td>37.709999</td>\n",
              "      <td>36.080002</td>\n",
              "      <td>34.930000</td>\n",
              "      <td>36.570000</td>\n",
              "      <td>36.470001</td>\n",
              "      <td>36.919998</td>\n",
              "      <td>38.130001</td>\n",
              "      <td>38.950001</td>\n",
              "      <td>39.360001</td>\n",
              "      <td>39.160000</td>\n",
              "      <td>40.139999</td>\n",
              "      <td>40.560001</td>\n",
              "      <td>40.020000</td>\n",
              "      <td>40.759998</td>\n",
              "      <td>41.500000</td>\n",
              "      <td>40.770000</td>\n",
              "      <td>41.439999</td>\n",
              "      <td>39.380001</td>\n",
              "      <td>37.029999</td>\n",
              "      <td>37.509998</td>\n",
              "      <td>38.209999</td>\n",
              "      <td>36.750000</td>\n",
              "      <td>35.549999</td>\n",
              "      <td>36.189999</td>\n",
              "      <td>37.119999</td>\n",
              "      <td>36.490002</td>\n",
              "      <td>37.820000</td>\n",
              "      <td>38.610001</td>\n",
              "      <td>39.340000</td>\n",
              "      <td>39.540001</td>\n",
              "      <td>39.759998</td>\n",
              "      <td>40.840000</td>\n",
              "      <td>40.380001</td>\n",
              "      <td>40.660000</td>\n",
              "      <td>41.360001</td>\n",
              "      <td>40.869999</td>\n",
              "      <td>41.000000</td>\n",
              "      <td>41.830002</td>\n",
              "    </tr>\n",
              "    <tr>\n",
              "      <th>AAP</th>\n",
              "      <td>151.699997</td>\n",
              "      <td>154.380005</td>\n",
              "      <td>151.580002</td>\n",
              "      <td>147.460007</td>\n",
              "      <td>147.539993</td>\n",
              "      <td>142.770004</td>\n",
              "      <td>141.149994</td>\n",
              "      <td>141.130005</td>\n",
              "      <td>137.039993</td>\n",
              "      <td>139.539993</td>\n",
              "      <td>142.039993</td>\n",
              "      <td>147.169998</td>\n",
              "      <td>142.350006</td>\n",
              "      <td>143.520004</td>\n",
              "      <td>145.250000</td>\n",
              "      <td>148.440002</td>\n",
              "      <td>147.339996</td>\n",
              "      <td>150.800003</td>\n",
              "      <td>150.600006</td>\n",
              "      <td>150.000000</td>\n",
              "      <td>149.919998</td>\n",
              "      <td>154.889999</td>\n",
              "      <td>151.860001</td>\n",
              "      <td>147.940002</td>\n",
              "      <td>147.850006</td>\n",
              "      <td>143.940002</td>\n",
              "      <td>141.449997</td>\n",
              "      <td>141.500000</td>\n",
              "      <td>138.570007</td>\n",
              "      <td>138.410004</td>\n",
              "      <td>140.770004</td>\n",
              "      <td>146.000000</td>\n",
              "      <td>143.410004</td>\n",
              "      <td>143.320007</td>\n",
              "      <td>143.630005</td>\n",
              "      <td>147.869995</td>\n",
              "      <td>147.550003</td>\n",
              "      <td>150.419998</td>\n",
              "      <td>150.080002</td>\n",
              "      <td>150.050003</td>\n",
              "      <td>148.440002</td>\n",
              "      <td>153.350006</td>\n",
              "    </tr>\n",
              "    <tr>\n",
              "      <th>AAPL</th>\n",
              "      <td>96.470001</td>\n",
              "      <td>95.419998</td>\n",
              "      <td>95.000000</td>\n",
              "      <td>95.860001</td>\n",
              "      <td>96.519997</td>\n",
              "      <td>93.129997</td>\n",
              "      <td>94.290001</td>\n",
              "      <td>95.919998</td>\n",
              "      <td>93.790001</td>\n",
              "      <td>94.190002</td>\n",
              "      <td>95.019997</td>\n",
              "      <td>96.669998</td>\n",
              "      <td>98.839996</td>\n",
              "      <td>96.000000</td>\n",
              "      <td>96.309998</td>\n",
              "      <td>96.400002</td>\n",
              "      <td>93.980003</td>\n",
              "      <td>96.050003</td>\n",
              "      <td>97.199997</td>\n",
              "      <td>96.860001</td>\n",
              "      <td>97.650002</td>\n",
              "      <td>96.430000</td>\n",
              "      <td>94.480003</td>\n",
              "      <td>96.349998</td>\n",
              "      <td>96.599998</td>\n",
              "      <td>94.019997</td>\n",
              "      <td>95.010002</td>\n",
              "      <td>94.989998</td>\n",
              "      <td>94.269997</td>\n",
              "      <td>93.699997</td>\n",
              "      <td>93.989998</td>\n",
              "      <td>96.639999</td>\n",
              "      <td>98.120003</td>\n",
              "      <td>96.260002</td>\n",
              "      <td>96.040001</td>\n",
              "      <td>96.879997</td>\n",
              "      <td>94.690002</td>\n",
              "      <td>96.099998</td>\n",
              "      <td>96.760002</td>\n",
              "      <td>96.910004</td>\n",
              "      <td>96.690002</td>\n",
              "      <td>100.529999</td>\n",
              "    </tr>\n",
              "    <tr>\n",
              "      <th>ABBV</th>\n",
              "      <td>54.160000</td>\n",
              "      <td>53.639999</td>\n",
              "      <td>54.529999</td>\n",
              "      <td>56.740002</td>\n",
              "      <td>56.250000</td>\n",
              "      <td>52.580002</td>\n",
              "      <td>52.310001</td>\n",
              "      <td>54.110001</td>\n",
              "      <td>52.299999</td>\n",
              "      <td>52.529999</td>\n",
              "      <td>53.439999</td>\n",
              "      <td>54.340000</td>\n",
              "      <td>55.529999</td>\n",
              "      <td>54.500000</td>\n",
              "      <td>54.290001</td>\n",
              "      <td>55.700001</td>\n",
              "      <td>54.660000</td>\n",
              "      <td>55.169998</td>\n",
              "      <td>56.259998</td>\n",
              "      <td>55.869999</td>\n",
              "      <td>54.779999</td>\n",
              "      <td>54.389999</td>\n",
              "      <td>53.950001</td>\n",
              "      <td>56.840000</td>\n",
              "      <td>56.759998</td>\n",
              "      <td>53.119999</td>\n",
              "      <td>52.889999</td>\n",
              "      <td>53.480000</td>\n",
              "      <td>52.720001</td>\n",
              "      <td>52.180000</td>\n",
              "      <td>52.580002</td>\n",
              "      <td>53.509998</td>\n",
              "      <td>55.009998</td>\n",
              "      <td>54.549999</td>\n",
              "      <td>54.290001</td>\n",
              "      <td>55.279999</td>\n",
              "      <td>55.070000</td>\n",
              "      <td>54.889999</td>\n",
              "      <td>56.200001</td>\n",
              "      <td>56.000000</td>\n",
              "      <td>54.610001</td>\n",
              "      <td>56.340000</td>\n",
              "    </tr>\n",
              "  </tbody>\n",
              "</table>\n",
              "</div>"
            ],
            "text/plain": [
              "              open                          ...       close                        \n",
              "date    2016-02-01  2016-02-02  2016-02-03  ...  2016-02-26  2016-02-29  2016-03-01\n",
              "symbol                                      ...                                    \n",
              "A        37.369999   37.180000   37.270000  ...   37.590000   37.349998   38.590000\n",
              "AAL      39.000000   38.830002   37.380001  ...   40.869999   41.000000   41.830002\n",
              "AAP     151.699997  154.380005  151.580002  ...  150.050003  148.440002  153.350006\n",
              "AAPL     96.470001   95.419998   95.000000  ...   96.910004   96.690002  100.529999\n",
              "ABBV     54.160000   53.639999   54.529999  ...   56.000000   54.610001   56.340000\n",
              "\n",
              "[5 rows x 42 columns]"
            ]
          },
          "metadata": {
            "tags": []
          },
          "execution_count": 16
        }
      ]
    },
    {
      "cell_type": "code",
      "metadata": {
        "id": "UNtOdKepLaL0"
      },
      "source": [
        "import pandas as pd"
      ],
      "execution_count": null,
      "outputs": []
    },
    {
      "cell_type": "code",
      "metadata": {
        "id": "gaOsiv5RdfBm"
      },
      "source": [
        "df=pd.read_csv('/content/drive/MyDrive/FoDS-2021/data/melt/weather.csv')"
      ],
      "execution_count": null,
      "outputs": []
    },
    {
      "cell_type": "code",
      "metadata": {
        "colab": {
          "base_uri": "https://localhost:8080/",
          "height": 266
        },
        "id": "Xd2fqO64fxdh",
        "outputId": "f35d231e-1a76-4cb5-c94f-b1cfdf141255"
      },
      "source": [
        "df"
      ],
      "execution_count": null,
      "outputs": [
        {
          "output_type": "execute_result",
          "data": {
            "text/html": [
              "<div>\n",
              "<style scoped>\n",
              "    .dataframe tbody tr th:only-of-type {\n",
              "        vertical-align: middle;\n",
              "    }\n",
              "\n",
              "    .dataframe tbody tr th {\n",
              "        vertical-align: top;\n",
              "    }\n",
              "\n",
              "    .dataframe thead th {\n",
              "        text-align: right;\n",
              "    }\n",
              "</style>\n",
              "<table border=\"1\" class=\"dataframe\">\n",
              "  <thead>\n",
              "    <tr style=\"text-align: right;\">\n",
              "      <th></th>\n",
              "      <th>day</th>\n",
              "      <th>chicago</th>\n",
              "      <th>chennai</th>\n",
              "      <th>berlin</th>\n",
              "    </tr>\n",
              "  </thead>\n",
              "  <tbody>\n",
              "    <tr>\n",
              "      <th>0</th>\n",
              "      <td>Monday</td>\n",
              "      <td>32</td>\n",
              "      <td>75</td>\n",
              "      <td>41</td>\n",
              "    </tr>\n",
              "    <tr>\n",
              "      <th>1</th>\n",
              "      <td>Tuesday</td>\n",
              "      <td>30</td>\n",
              "      <td>77</td>\n",
              "      <td>43</td>\n",
              "    </tr>\n",
              "    <tr>\n",
              "      <th>2</th>\n",
              "      <td>Wednesday</td>\n",
              "      <td>28</td>\n",
              "      <td>75</td>\n",
              "      <td>45</td>\n",
              "    </tr>\n",
              "    <tr>\n",
              "      <th>3</th>\n",
              "      <td>Thursday</td>\n",
              "      <td>22</td>\n",
              "      <td>82</td>\n",
              "      <td>38</td>\n",
              "    </tr>\n",
              "    <tr>\n",
              "      <th>4</th>\n",
              "      <td>Friday</td>\n",
              "      <td>30</td>\n",
              "      <td>83</td>\n",
              "      <td>30</td>\n",
              "    </tr>\n",
              "    <tr>\n",
              "      <th>5</th>\n",
              "      <td>Saturday</td>\n",
              "      <td>20</td>\n",
              "      <td>81</td>\n",
              "      <td>45</td>\n",
              "    </tr>\n",
              "    <tr>\n",
              "      <th>6</th>\n",
              "      <td>Sunday</td>\n",
              "      <td>25</td>\n",
              "      <td>77</td>\n",
              "      <td>47</td>\n",
              "    </tr>\n",
              "  </tbody>\n",
              "</table>\n",
              "</div>"
            ],
            "text/plain": [
              "         day  chicago  chennai  berlin\n",
              "0     Monday       32       75      41\n",
              "1    Tuesday       30       77      43\n",
              "2  Wednesday       28       75      45\n",
              "3   Thursday       22       82      38\n",
              "4     Friday       30       83      30\n",
              "5   Saturday       20       81      45\n",
              "6     Sunday       25       77      47"
            ]
          },
          "metadata": {
            "tags": []
          },
          "execution_count": 3
        }
      ]
    },
    {
      "cell_type": "code",
      "metadata": {
        "id": "HTDgSfuQfyUg"
      },
      "source": [
        "df1=pd.melt(df,id_vars=[\"day\"])"
      ],
      "execution_count": null,
      "outputs": []
    },
    {
      "cell_type": "code",
      "metadata": {
        "colab": {
          "base_uri": "https://localhost:8080/",
          "height": 700
        },
        "id": "YxFBPn0Lf9wX",
        "outputId": "1ae1fd50-2877-4668-842b-6ee5abe31b06"
      },
      "source": [
        "df1"
      ],
      "execution_count": null,
      "outputs": [
        {
          "output_type": "execute_result",
          "data": {
            "text/html": [
              "<div>\n",
              "<style scoped>\n",
              "    .dataframe tbody tr th:only-of-type {\n",
              "        vertical-align: middle;\n",
              "    }\n",
              "\n",
              "    .dataframe tbody tr th {\n",
              "        vertical-align: top;\n",
              "    }\n",
              "\n",
              "    .dataframe thead th {\n",
              "        text-align: right;\n",
              "    }\n",
              "</style>\n",
              "<table border=\"1\" class=\"dataframe\">\n",
              "  <thead>\n",
              "    <tr style=\"text-align: right;\">\n",
              "      <th></th>\n",
              "      <th>day</th>\n",
              "      <th>variable</th>\n",
              "      <th>value</th>\n",
              "    </tr>\n",
              "  </thead>\n",
              "  <tbody>\n",
              "    <tr>\n",
              "      <th>0</th>\n",
              "      <td>Monday</td>\n",
              "      <td>chicago</td>\n",
              "      <td>32</td>\n",
              "    </tr>\n",
              "    <tr>\n",
              "      <th>1</th>\n",
              "      <td>Tuesday</td>\n",
              "      <td>chicago</td>\n",
              "      <td>30</td>\n",
              "    </tr>\n",
              "    <tr>\n",
              "      <th>2</th>\n",
              "      <td>Wednesday</td>\n",
              "      <td>chicago</td>\n",
              "      <td>28</td>\n",
              "    </tr>\n",
              "    <tr>\n",
              "      <th>3</th>\n",
              "      <td>Thursday</td>\n",
              "      <td>chicago</td>\n",
              "      <td>22</td>\n",
              "    </tr>\n",
              "    <tr>\n",
              "      <th>4</th>\n",
              "      <td>Friday</td>\n",
              "      <td>chicago</td>\n",
              "      <td>30</td>\n",
              "    </tr>\n",
              "    <tr>\n",
              "      <th>5</th>\n",
              "      <td>Saturday</td>\n",
              "      <td>chicago</td>\n",
              "      <td>20</td>\n",
              "    </tr>\n",
              "    <tr>\n",
              "      <th>6</th>\n",
              "      <td>Sunday</td>\n",
              "      <td>chicago</td>\n",
              "      <td>25</td>\n",
              "    </tr>\n",
              "    <tr>\n",
              "      <th>7</th>\n",
              "      <td>Monday</td>\n",
              "      <td>chennai</td>\n",
              "      <td>75</td>\n",
              "    </tr>\n",
              "    <tr>\n",
              "      <th>8</th>\n",
              "      <td>Tuesday</td>\n",
              "      <td>chennai</td>\n",
              "      <td>77</td>\n",
              "    </tr>\n",
              "    <tr>\n",
              "      <th>9</th>\n",
              "      <td>Wednesday</td>\n",
              "      <td>chennai</td>\n",
              "      <td>75</td>\n",
              "    </tr>\n",
              "    <tr>\n",
              "      <th>10</th>\n",
              "      <td>Thursday</td>\n",
              "      <td>chennai</td>\n",
              "      <td>82</td>\n",
              "    </tr>\n",
              "    <tr>\n",
              "      <th>11</th>\n",
              "      <td>Friday</td>\n",
              "      <td>chennai</td>\n",
              "      <td>83</td>\n",
              "    </tr>\n",
              "    <tr>\n",
              "      <th>12</th>\n",
              "      <td>Saturday</td>\n",
              "      <td>chennai</td>\n",
              "      <td>81</td>\n",
              "    </tr>\n",
              "    <tr>\n",
              "      <th>13</th>\n",
              "      <td>Sunday</td>\n",
              "      <td>chennai</td>\n",
              "      <td>77</td>\n",
              "    </tr>\n",
              "    <tr>\n",
              "      <th>14</th>\n",
              "      <td>Monday</td>\n",
              "      <td>berlin</td>\n",
              "      <td>41</td>\n",
              "    </tr>\n",
              "    <tr>\n",
              "      <th>15</th>\n",
              "      <td>Tuesday</td>\n",
              "      <td>berlin</td>\n",
              "      <td>43</td>\n",
              "    </tr>\n",
              "    <tr>\n",
              "      <th>16</th>\n",
              "      <td>Wednesday</td>\n",
              "      <td>berlin</td>\n",
              "      <td>45</td>\n",
              "    </tr>\n",
              "    <tr>\n",
              "      <th>17</th>\n",
              "      <td>Thursday</td>\n",
              "      <td>berlin</td>\n",
              "      <td>38</td>\n",
              "    </tr>\n",
              "    <tr>\n",
              "      <th>18</th>\n",
              "      <td>Friday</td>\n",
              "      <td>berlin</td>\n",
              "      <td>30</td>\n",
              "    </tr>\n",
              "    <tr>\n",
              "      <th>19</th>\n",
              "      <td>Saturday</td>\n",
              "      <td>berlin</td>\n",
              "      <td>45</td>\n",
              "    </tr>\n",
              "    <tr>\n",
              "      <th>20</th>\n",
              "      <td>Sunday</td>\n",
              "      <td>berlin</td>\n",
              "      <td>47</td>\n",
              "    </tr>\n",
              "  </tbody>\n",
              "</table>\n",
              "</div>"
            ],
            "text/plain": [
              "          day variable  value\n",
              "0      Monday  chicago     32\n",
              "1     Tuesday  chicago     30\n",
              "2   Wednesday  chicago     28\n",
              "3    Thursday  chicago     22\n",
              "4      Friday  chicago     30\n",
              "5    Saturday  chicago     20\n",
              "6      Sunday  chicago     25\n",
              "7      Monday  chennai     75\n",
              "8     Tuesday  chennai     77\n",
              "9   Wednesday  chennai     75\n",
              "10   Thursday  chennai     82\n",
              "11     Friday  chennai     83\n",
              "12   Saturday  chennai     81\n",
              "13     Sunday  chennai     77\n",
              "14     Monday   berlin     41\n",
              "15    Tuesday   berlin     43\n",
              "16  Wednesday   berlin     45\n",
              "17   Thursday   berlin     38\n",
              "18     Friday   berlin     30\n",
              "19   Saturday   berlin     45\n",
              "20     Sunday   berlin     47"
            ]
          },
          "metadata": {
            "tags": []
          },
          "execution_count": 5
        }
      ]
    },
    {
      "cell_type": "code",
      "metadata": {
        "colab": {
          "base_uri": "https://localhost:8080/",
          "height": 266
        },
        "id": "poTNsWtqf-nw",
        "outputId": "e5754da3-5197-4fdf-946d-7676749eb915"
      },
      "source": [
        "df1[df1['variable']=='chennai']"
      ],
      "execution_count": null,
      "outputs": [
        {
          "output_type": "execute_result",
          "data": {
            "text/html": [
              "<div>\n",
              "<style scoped>\n",
              "    .dataframe tbody tr th:only-of-type {\n",
              "        vertical-align: middle;\n",
              "    }\n",
              "\n",
              "    .dataframe tbody tr th {\n",
              "        vertical-align: top;\n",
              "    }\n",
              "\n",
              "    .dataframe thead th {\n",
              "        text-align: right;\n",
              "    }\n",
              "</style>\n",
              "<table border=\"1\" class=\"dataframe\">\n",
              "  <thead>\n",
              "    <tr style=\"text-align: right;\">\n",
              "      <th></th>\n",
              "      <th>day</th>\n",
              "      <th>variable</th>\n",
              "      <th>value</th>\n",
              "    </tr>\n",
              "  </thead>\n",
              "  <tbody>\n",
              "    <tr>\n",
              "      <th>7</th>\n",
              "      <td>Monday</td>\n",
              "      <td>chennai</td>\n",
              "      <td>75</td>\n",
              "    </tr>\n",
              "    <tr>\n",
              "      <th>8</th>\n",
              "      <td>Tuesday</td>\n",
              "      <td>chennai</td>\n",
              "      <td>77</td>\n",
              "    </tr>\n",
              "    <tr>\n",
              "      <th>9</th>\n",
              "      <td>Wednesday</td>\n",
              "      <td>chennai</td>\n",
              "      <td>75</td>\n",
              "    </tr>\n",
              "    <tr>\n",
              "      <th>10</th>\n",
              "      <td>Thursday</td>\n",
              "      <td>chennai</td>\n",
              "      <td>82</td>\n",
              "    </tr>\n",
              "    <tr>\n",
              "      <th>11</th>\n",
              "      <td>Friday</td>\n",
              "      <td>chennai</td>\n",
              "      <td>83</td>\n",
              "    </tr>\n",
              "    <tr>\n",
              "      <th>12</th>\n",
              "      <td>Saturday</td>\n",
              "      <td>chennai</td>\n",
              "      <td>81</td>\n",
              "    </tr>\n",
              "    <tr>\n",
              "      <th>13</th>\n",
              "      <td>Sunday</td>\n",
              "      <td>chennai</td>\n",
              "      <td>77</td>\n",
              "    </tr>\n",
              "  </tbody>\n",
              "</table>\n",
              "</div>"
            ],
            "text/plain": [
              "          day variable  value\n",
              "7      Monday  chennai     75\n",
              "8     Tuesday  chennai     77\n",
              "9   Wednesday  chennai     75\n",
              "10   Thursday  chennai     82\n",
              "11     Friday  chennai     83\n",
              "12   Saturday  chennai     81\n",
              "13     Sunday  chennai     77"
            ]
          },
          "metadata": {
            "tags": []
          },
          "execution_count": 6
        }
      ]
    },
    {
      "cell_type": "code",
      "metadata": {
        "colab": {
          "base_uri": "https://localhost:8080/",
          "height": 700
        },
        "id": "8TyTsj-Vgbze",
        "outputId": "3dd959fc-cb08-465c-c706-457fa9de8bf2"
      },
      "source": [
        "melted = pd.melt(df, id_vars=[\"day\"], var_name='city', value_name='temperature')\n",
        "melted"
      ],
      "execution_count": null,
      "outputs": [
        {
          "output_type": "execute_result",
          "data": {
            "text/html": [
              "<div>\n",
              "<style scoped>\n",
              "    .dataframe tbody tr th:only-of-type {\n",
              "        vertical-align: middle;\n",
              "    }\n",
              "\n",
              "    .dataframe tbody tr th {\n",
              "        vertical-align: top;\n",
              "    }\n",
              "\n",
              "    .dataframe thead th {\n",
              "        text-align: right;\n",
              "    }\n",
              "</style>\n",
              "<table border=\"1\" class=\"dataframe\">\n",
              "  <thead>\n",
              "    <tr style=\"text-align: right;\">\n",
              "      <th></th>\n",
              "      <th>day</th>\n",
              "      <th>city</th>\n",
              "      <th>temperature</th>\n",
              "    </tr>\n",
              "  </thead>\n",
              "  <tbody>\n",
              "    <tr>\n",
              "      <th>0</th>\n",
              "      <td>Monday</td>\n",
              "      <td>chicago</td>\n",
              "      <td>32</td>\n",
              "    </tr>\n",
              "    <tr>\n",
              "      <th>1</th>\n",
              "      <td>Tuesday</td>\n",
              "      <td>chicago</td>\n",
              "      <td>30</td>\n",
              "    </tr>\n",
              "    <tr>\n",
              "      <th>2</th>\n",
              "      <td>Wednesday</td>\n",
              "      <td>chicago</td>\n",
              "      <td>28</td>\n",
              "    </tr>\n",
              "    <tr>\n",
              "      <th>3</th>\n",
              "      <td>Thursday</td>\n",
              "      <td>chicago</td>\n",
              "      <td>22</td>\n",
              "    </tr>\n",
              "    <tr>\n",
              "      <th>4</th>\n",
              "      <td>Friday</td>\n",
              "      <td>chicago</td>\n",
              "      <td>30</td>\n",
              "    </tr>\n",
              "    <tr>\n",
              "      <th>5</th>\n",
              "      <td>Saturday</td>\n",
              "      <td>chicago</td>\n",
              "      <td>20</td>\n",
              "    </tr>\n",
              "    <tr>\n",
              "      <th>6</th>\n",
              "      <td>Sunday</td>\n",
              "      <td>chicago</td>\n",
              "      <td>25</td>\n",
              "    </tr>\n",
              "    <tr>\n",
              "      <th>7</th>\n",
              "      <td>Monday</td>\n",
              "      <td>chennai</td>\n",
              "      <td>75</td>\n",
              "    </tr>\n",
              "    <tr>\n",
              "      <th>8</th>\n",
              "      <td>Tuesday</td>\n",
              "      <td>chennai</td>\n",
              "      <td>77</td>\n",
              "    </tr>\n",
              "    <tr>\n",
              "      <th>9</th>\n",
              "      <td>Wednesday</td>\n",
              "      <td>chennai</td>\n",
              "      <td>75</td>\n",
              "    </tr>\n",
              "    <tr>\n",
              "      <th>10</th>\n",
              "      <td>Thursday</td>\n",
              "      <td>chennai</td>\n",
              "      <td>82</td>\n",
              "    </tr>\n",
              "    <tr>\n",
              "      <th>11</th>\n",
              "      <td>Friday</td>\n",
              "      <td>chennai</td>\n",
              "      <td>83</td>\n",
              "    </tr>\n",
              "    <tr>\n",
              "      <th>12</th>\n",
              "      <td>Saturday</td>\n",
              "      <td>chennai</td>\n",
              "      <td>81</td>\n",
              "    </tr>\n",
              "    <tr>\n",
              "      <th>13</th>\n",
              "      <td>Sunday</td>\n",
              "      <td>chennai</td>\n",
              "      <td>77</td>\n",
              "    </tr>\n",
              "    <tr>\n",
              "      <th>14</th>\n",
              "      <td>Monday</td>\n",
              "      <td>berlin</td>\n",
              "      <td>41</td>\n",
              "    </tr>\n",
              "    <tr>\n",
              "      <th>15</th>\n",
              "      <td>Tuesday</td>\n",
              "      <td>berlin</td>\n",
              "      <td>43</td>\n",
              "    </tr>\n",
              "    <tr>\n",
              "      <th>16</th>\n",
              "      <td>Wednesday</td>\n",
              "      <td>berlin</td>\n",
              "      <td>45</td>\n",
              "    </tr>\n",
              "    <tr>\n",
              "      <th>17</th>\n",
              "      <td>Thursday</td>\n",
              "      <td>berlin</td>\n",
              "      <td>38</td>\n",
              "    </tr>\n",
              "    <tr>\n",
              "      <th>18</th>\n",
              "      <td>Friday</td>\n",
              "      <td>berlin</td>\n",
              "      <td>30</td>\n",
              "    </tr>\n",
              "    <tr>\n",
              "      <th>19</th>\n",
              "      <td>Saturday</td>\n",
              "      <td>berlin</td>\n",
              "      <td>45</td>\n",
              "    </tr>\n",
              "    <tr>\n",
              "      <th>20</th>\n",
              "      <td>Sunday</td>\n",
              "      <td>berlin</td>\n",
              "      <td>47</td>\n",
              "    </tr>\n",
              "  </tbody>\n",
              "</table>\n",
              "</div>"
            ],
            "text/plain": [
              "          day     city  temperature\n",
              "0      Monday  chicago           32\n",
              "1     Tuesday  chicago           30\n",
              "2   Wednesday  chicago           28\n",
              "3    Thursday  chicago           22\n",
              "4      Friday  chicago           30\n",
              "5    Saturday  chicago           20\n",
              "6      Sunday  chicago           25\n",
              "7      Monday  chennai           75\n",
              "8     Tuesday  chennai           77\n",
              "9   Wednesday  chennai           75\n",
              "10   Thursday  chennai           82\n",
              "11     Friday  chennai           83\n",
              "12   Saturday  chennai           81\n",
              "13     Sunday  chennai           77\n",
              "14     Monday   berlin           41\n",
              "15    Tuesday   berlin           43\n",
              "16  Wednesday   berlin           45\n",
              "17   Thursday   berlin           38\n",
              "18     Friday   berlin           30\n",
              "19   Saturday   berlin           45\n",
              "20     Sunday   berlin           47"
            ]
          },
          "metadata": {
            "tags": []
          },
          "execution_count": 7
        }
      ]
    },
    {
      "cell_type": "code",
      "metadata": {
        "colab": {
          "base_uri": "https://localhost:8080/",
          "height": 328
        },
        "id": "KysXK3nFg81W",
        "outputId": "e9033add-8d10-46cb-a71a-20251a0c78df"
      },
      "source": [
        "df_unmelted = melted.pivot(index='day', columns='city')\n",
        "df_unmelted"
      ],
      "execution_count": null,
      "outputs": [
        {
          "output_type": "execute_result",
          "data": {
            "text/html": [
              "<div>\n",
              "<style scoped>\n",
              "    .dataframe tbody tr th:only-of-type {\n",
              "        vertical-align: middle;\n",
              "    }\n",
              "\n",
              "    .dataframe tbody tr th {\n",
              "        vertical-align: top;\n",
              "    }\n",
              "\n",
              "    .dataframe thead tr th {\n",
              "        text-align: left;\n",
              "    }\n",
              "\n",
              "    .dataframe thead tr:last-of-type th {\n",
              "        text-align: right;\n",
              "    }\n",
              "</style>\n",
              "<table border=\"1\" class=\"dataframe\">\n",
              "  <thead>\n",
              "    <tr>\n",
              "      <th></th>\n",
              "      <th colspan=\"3\" halign=\"left\">temperature</th>\n",
              "    </tr>\n",
              "    <tr>\n",
              "      <th>city</th>\n",
              "      <th>berlin</th>\n",
              "      <th>chennai</th>\n",
              "      <th>chicago</th>\n",
              "    </tr>\n",
              "    <tr>\n",
              "      <th>day</th>\n",
              "      <th></th>\n",
              "      <th></th>\n",
              "      <th></th>\n",
              "    </tr>\n",
              "  </thead>\n",
              "  <tbody>\n",
              "    <tr>\n",
              "      <th>Friday</th>\n",
              "      <td>30</td>\n",
              "      <td>83</td>\n",
              "      <td>30</td>\n",
              "    </tr>\n",
              "    <tr>\n",
              "      <th>Monday</th>\n",
              "      <td>41</td>\n",
              "      <td>75</td>\n",
              "      <td>32</td>\n",
              "    </tr>\n",
              "    <tr>\n",
              "      <th>Saturday</th>\n",
              "      <td>45</td>\n",
              "      <td>81</td>\n",
              "      <td>20</td>\n",
              "    </tr>\n",
              "    <tr>\n",
              "      <th>Sunday</th>\n",
              "      <td>47</td>\n",
              "      <td>77</td>\n",
              "      <td>25</td>\n",
              "    </tr>\n",
              "    <tr>\n",
              "      <th>Thursday</th>\n",
              "      <td>38</td>\n",
              "      <td>82</td>\n",
              "      <td>22</td>\n",
              "    </tr>\n",
              "    <tr>\n",
              "      <th>Tuesday</th>\n",
              "      <td>43</td>\n",
              "      <td>77</td>\n",
              "      <td>30</td>\n",
              "    </tr>\n",
              "    <tr>\n",
              "      <th>Wednesday</th>\n",
              "      <td>45</td>\n",
              "      <td>75</td>\n",
              "      <td>28</td>\n",
              "    </tr>\n",
              "  </tbody>\n",
              "</table>\n",
              "</div>"
            ],
            "text/plain": [
              "          temperature                \n",
              "city           berlin chennai chicago\n",
              "day                                  \n",
              "Friday             30      83      30\n",
              "Monday             41      75      32\n",
              "Saturday           45      81      20\n",
              "Sunday             47      77      25\n",
              "Thursday           38      82      22\n",
              "Tuesday            43      77      30\n",
              "Wednesday          45      75      28"
            ]
          },
          "metadata": {
            "tags": []
          },
          "execution_count": 9
        }
      ]
    },
    {
      "cell_type": "code",
      "metadata": {
        "id": "AM5CG16ghc9y"
      },
      "source": [
        "df_unmelted.columns = df_unmelted.columns.droplevel()"
      ],
      "execution_count": null,
      "outputs": []
    },
    {
      "cell_type": "code",
      "metadata": {
        "colab": {
          "base_uri": "https://localhost:8080/",
          "height": 297
        },
        "id": "8B6tsUMgjtRB",
        "outputId": "97fc29f7-c438-4cea-f266-a68c5c2d538d"
      },
      "source": [
        "df_unmelted"
      ],
      "execution_count": null,
      "outputs": [
        {
          "output_type": "execute_result",
          "data": {
            "text/html": [
              "<div>\n",
              "<style scoped>\n",
              "    .dataframe tbody tr th:only-of-type {\n",
              "        vertical-align: middle;\n",
              "    }\n",
              "\n",
              "    .dataframe tbody tr th {\n",
              "        vertical-align: top;\n",
              "    }\n",
              "\n",
              "    .dataframe thead th {\n",
              "        text-align: right;\n",
              "    }\n",
              "</style>\n",
              "<table border=\"1\" class=\"dataframe\">\n",
              "  <thead>\n",
              "    <tr style=\"text-align: right;\">\n",
              "      <th>city</th>\n",
              "      <th>berlin</th>\n",
              "      <th>chennai</th>\n",
              "      <th>chicago</th>\n",
              "    </tr>\n",
              "    <tr>\n",
              "      <th>day</th>\n",
              "      <th></th>\n",
              "      <th></th>\n",
              "      <th></th>\n",
              "    </tr>\n",
              "  </thead>\n",
              "  <tbody>\n",
              "    <tr>\n",
              "      <th>Friday</th>\n",
              "      <td>30</td>\n",
              "      <td>83</td>\n",
              "      <td>30</td>\n",
              "    </tr>\n",
              "    <tr>\n",
              "      <th>Monday</th>\n",
              "      <td>41</td>\n",
              "      <td>75</td>\n",
              "      <td>32</td>\n",
              "    </tr>\n",
              "    <tr>\n",
              "      <th>Saturday</th>\n",
              "      <td>45</td>\n",
              "      <td>81</td>\n",
              "      <td>20</td>\n",
              "    </tr>\n",
              "    <tr>\n",
              "      <th>Sunday</th>\n",
              "      <td>47</td>\n",
              "      <td>77</td>\n",
              "      <td>25</td>\n",
              "    </tr>\n",
              "    <tr>\n",
              "      <th>Thursday</th>\n",
              "      <td>38</td>\n",
              "      <td>82</td>\n",
              "      <td>22</td>\n",
              "    </tr>\n",
              "    <tr>\n",
              "      <th>Tuesday</th>\n",
              "      <td>43</td>\n",
              "      <td>77</td>\n",
              "      <td>30</td>\n",
              "    </tr>\n",
              "    <tr>\n",
              "      <th>Wednesday</th>\n",
              "      <td>45</td>\n",
              "      <td>75</td>\n",
              "      <td>28</td>\n",
              "    </tr>\n",
              "  </tbody>\n",
              "</table>\n",
              "</div>"
            ],
            "text/plain": [
              "city       berlin  chennai  chicago\n",
              "day                                \n",
              "Friday         30       83       30\n",
              "Monday         41       75       32\n",
              "Saturday       45       81       20\n",
              "Sunday         47       77       25\n",
              "Thursday       38       82       22\n",
              "Tuesday        43       77       30\n",
              "Wednesday      45       75       28"
            ]
          },
          "metadata": {
            "tags": []
          },
          "execution_count": 11
        }
      ]
    },
    {
      "cell_type": "code",
      "metadata": {
        "id": "oTbVY1URjVex"
      },
      "source": [
        "df_unmelted.index.name=None"
      ],
      "execution_count": null,
      "outputs": []
    },
    {
      "cell_type": "code",
      "metadata": {
        "colab": {
          "base_uri": "https://localhost:8080/",
          "height": 266
        },
        "id": "USARh2EDjbFM",
        "outputId": "c6514aad-ef4b-4301-a48e-2b06cce178ef"
      },
      "source": [
        "df_unmelted"
      ],
      "execution_count": null,
      "outputs": [
        {
          "output_type": "execute_result",
          "data": {
            "text/html": [
              "<div>\n",
              "<style scoped>\n",
              "    .dataframe tbody tr th:only-of-type {\n",
              "        vertical-align: middle;\n",
              "    }\n",
              "\n",
              "    .dataframe tbody tr th {\n",
              "        vertical-align: top;\n",
              "    }\n",
              "\n",
              "    .dataframe thead th {\n",
              "        text-align: right;\n",
              "    }\n",
              "</style>\n",
              "<table border=\"1\" class=\"dataframe\">\n",
              "  <thead>\n",
              "    <tr style=\"text-align: right;\">\n",
              "      <th>city</th>\n",
              "      <th>berlin</th>\n",
              "      <th>chennai</th>\n",
              "      <th>chicago</th>\n",
              "    </tr>\n",
              "  </thead>\n",
              "  <tbody>\n",
              "    <tr>\n",
              "      <th>Friday</th>\n",
              "      <td>30</td>\n",
              "      <td>83</td>\n",
              "      <td>30</td>\n",
              "    </tr>\n",
              "    <tr>\n",
              "      <th>Monday</th>\n",
              "      <td>41</td>\n",
              "      <td>75</td>\n",
              "      <td>32</td>\n",
              "    </tr>\n",
              "    <tr>\n",
              "      <th>Saturday</th>\n",
              "      <td>45</td>\n",
              "      <td>81</td>\n",
              "      <td>20</td>\n",
              "    </tr>\n",
              "    <tr>\n",
              "      <th>Sunday</th>\n",
              "      <td>47</td>\n",
              "      <td>77</td>\n",
              "      <td>25</td>\n",
              "    </tr>\n",
              "    <tr>\n",
              "      <th>Thursday</th>\n",
              "      <td>38</td>\n",
              "      <td>82</td>\n",
              "      <td>22</td>\n",
              "    </tr>\n",
              "    <tr>\n",
              "      <th>Tuesday</th>\n",
              "      <td>43</td>\n",
              "      <td>77</td>\n",
              "      <td>30</td>\n",
              "    </tr>\n",
              "    <tr>\n",
              "      <th>Wednesday</th>\n",
              "      <td>45</td>\n",
              "      <td>75</td>\n",
              "      <td>28</td>\n",
              "    </tr>\n",
              "  </tbody>\n",
              "</table>\n",
              "</div>"
            ],
            "text/plain": [
              "city       berlin  chennai  chicago\n",
              "Friday         30       83       30\n",
              "Monday         41       75       32\n",
              "Saturday       45       81       20\n",
              "Sunday         47       77       25\n",
              "Thursday       38       82       22\n",
              "Tuesday        43       77       30\n",
              "Wednesday      45       75       28"
            ]
          },
          "metadata": {
            "tags": []
          },
          "execution_count": 13
        }
      ]
    },
    {
      "cell_type": "code",
      "metadata": {
        "id": "3F-UtZhSjc52"
      },
      "source": [
        "df_unmelted.columns.name=None"
      ],
      "execution_count": null,
      "outputs": []
    },
    {
      "cell_type": "code",
      "metadata": {
        "colab": {
          "base_uri": "https://localhost:8080/",
          "height": 266
        },
        "id": "k5gSvNlUjjfb",
        "outputId": "c6d6a8f2-1d05-44c9-89de-341c9e3e6aff"
      },
      "source": [
        "df_unmelted"
      ],
      "execution_count": null,
      "outputs": [
        {
          "output_type": "execute_result",
          "data": {
            "text/html": [
              "<div>\n",
              "<style scoped>\n",
              "    .dataframe tbody tr th:only-of-type {\n",
              "        vertical-align: middle;\n",
              "    }\n",
              "\n",
              "    .dataframe tbody tr th {\n",
              "        vertical-align: top;\n",
              "    }\n",
              "\n",
              "    .dataframe thead th {\n",
              "        text-align: right;\n",
              "    }\n",
              "</style>\n",
              "<table border=\"1\" class=\"dataframe\">\n",
              "  <thead>\n",
              "    <tr style=\"text-align: right;\">\n",
              "      <th></th>\n",
              "      <th>berlin</th>\n",
              "      <th>chennai</th>\n",
              "      <th>chicago</th>\n",
              "    </tr>\n",
              "  </thead>\n",
              "  <tbody>\n",
              "    <tr>\n",
              "      <th>Friday</th>\n",
              "      <td>30</td>\n",
              "      <td>83</td>\n",
              "      <td>30</td>\n",
              "    </tr>\n",
              "    <tr>\n",
              "      <th>Monday</th>\n",
              "      <td>41</td>\n",
              "      <td>75</td>\n",
              "      <td>32</td>\n",
              "    </tr>\n",
              "    <tr>\n",
              "      <th>Saturday</th>\n",
              "      <td>45</td>\n",
              "      <td>81</td>\n",
              "      <td>20</td>\n",
              "    </tr>\n",
              "    <tr>\n",
              "      <th>Sunday</th>\n",
              "      <td>47</td>\n",
              "      <td>77</td>\n",
              "      <td>25</td>\n",
              "    </tr>\n",
              "    <tr>\n",
              "      <th>Thursday</th>\n",
              "      <td>38</td>\n",
              "      <td>82</td>\n",
              "      <td>22</td>\n",
              "    </tr>\n",
              "    <tr>\n",
              "      <th>Tuesday</th>\n",
              "      <td>43</td>\n",
              "      <td>77</td>\n",
              "      <td>30</td>\n",
              "    </tr>\n",
              "    <tr>\n",
              "      <th>Wednesday</th>\n",
              "      <td>45</td>\n",
              "      <td>75</td>\n",
              "      <td>28</td>\n",
              "    </tr>\n",
              "  </tbody>\n",
              "</table>\n",
              "</div>"
            ],
            "text/plain": [
              "           berlin  chennai  chicago\n",
              "Friday         30       83       30\n",
              "Monday         41       75       32\n",
              "Saturday       45       81       20\n",
              "Sunday         47       77       25\n",
              "Thursday       38       82       22\n",
              "Tuesday        43       77       30\n",
              "Wednesday      45       75       28"
            ]
          },
          "metadata": {
            "tags": []
          },
          "execution_count": 15
        }
      ]
    },
    {
      "cell_type": "code",
      "metadata": {
        "colab": {
          "base_uri": "https://localhost:8080/",
          "height": 266
        },
        "id": "9FmEM9fVjlem",
        "outputId": "db1e06be-3ddc-4bfe-f303-04b6e1569467"
      },
      "source": [
        "df_unmelted.reset_index()"
      ],
      "execution_count": null,
      "outputs": [
        {
          "output_type": "execute_result",
          "data": {
            "text/html": [
              "<div>\n",
              "<style scoped>\n",
              "    .dataframe tbody tr th:only-of-type {\n",
              "        vertical-align: middle;\n",
              "    }\n",
              "\n",
              "    .dataframe tbody tr th {\n",
              "        vertical-align: top;\n",
              "    }\n",
              "\n",
              "    .dataframe thead th {\n",
              "        text-align: right;\n",
              "    }\n",
              "</style>\n",
              "<table border=\"1\" class=\"dataframe\">\n",
              "  <thead>\n",
              "    <tr style=\"text-align: right;\">\n",
              "      <th></th>\n",
              "      <th>index</th>\n",
              "      <th>berlin</th>\n",
              "      <th>chennai</th>\n",
              "      <th>chicago</th>\n",
              "    </tr>\n",
              "  </thead>\n",
              "  <tbody>\n",
              "    <tr>\n",
              "      <th>0</th>\n",
              "      <td>Friday</td>\n",
              "      <td>30</td>\n",
              "      <td>83</td>\n",
              "      <td>30</td>\n",
              "    </tr>\n",
              "    <tr>\n",
              "      <th>1</th>\n",
              "      <td>Monday</td>\n",
              "      <td>41</td>\n",
              "      <td>75</td>\n",
              "      <td>32</td>\n",
              "    </tr>\n",
              "    <tr>\n",
              "      <th>2</th>\n",
              "      <td>Saturday</td>\n",
              "      <td>45</td>\n",
              "      <td>81</td>\n",
              "      <td>20</td>\n",
              "    </tr>\n",
              "    <tr>\n",
              "      <th>3</th>\n",
              "      <td>Sunday</td>\n",
              "      <td>47</td>\n",
              "      <td>77</td>\n",
              "      <td>25</td>\n",
              "    </tr>\n",
              "    <tr>\n",
              "      <th>4</th>\n",
              "      <td>Thursday</td>\n",
              "      <td>38</td>\n",
              "      <td>82</td>\n",
              "      <td>22</td>\n",
              "    </tr>\n",
              "    <tr>\n",
              "      <th>5</th>\n",
              "      <td>Tuesday</td>\n",
              "      <td>43</td>\n",
              "      <td>77</td>\n",
              "      <td>30</td>\n",
              "    </tr>\n",
              "    <tr>\n",
              "      <th>6</th>\n",
              "      <td>Wednesday</td>\n",
              "      <td>45</td>\n",
              "      <td>75</td>\n",
              "      <td>28</td>\n",
              "    </tr>\n",
              "  </tbody>\n",
              "</table>\n",
              "</div>"
            ],
            "text/plain": [
              "       index  berlin  chennai  chicago\n",
              "0     Friday      30       83       30\n",
              "1     Monday      41       75       32\n",
              "2   Saturday      45       81       20\n",
              "3     Sunday      47       77       25\n",
              "4   Thursday      38       82       22\n",
              "5    Tuesday      43       77       30\n",
              "6  Wednesday      45       75       28"
            ]
          },
          "metadata": {
            "tags": []
          },
          "execution_count": 89
        }
      ]
    },
    {
      "cell_type": "code",
      "metadata": {
        "id": "infB1ALUj5oc"
      },
      "source": [
        "df=pd.read_csv('http://files.zillowstatic.com/research/public_v2/invt_fs/Metro_invt_fs_uc_sfrcondo_smoothed_month.csv')"
      ],
      "execution_count": null,
      "outputs": []
    },
    {
      "cell_type": "code",
      "metadata": {
        "colab": {
          "base_uri": "https://localhost:8080/"
        },
        "id": "VH_dR-bfFbmk",
        "outputId": "61c87ce6-1aee-4b25-b296-6bc0b3f268ab"
      },
      "source": [
        "df.shape"
      ],
      "execution_count": null,
      "outputs": [
        {
          "output_type": "execute_result",
          "data": {
            "text/plain": [
              "(97, 46)"
            ]
          },
          "metadata": {
            "tags": []
          },
          "execution_count": 17
        }
      ]
    },
    {
      "cell_type": "code",
      "metadata": {
        "colab": {
          "base_uri": "https://localhost:8080/",
          "height": 377
        },
        "id": "j7cZ_0yVFfQv",
        "outputId": "7bc8bf2b-8ec5-4e19-fb87-ae41aa5318ba"
      },
      "source": [
        "df.head()"
      ],
      "execution_count": null,
      "outputs": [
        {
          "output_type": "execute_result",
          "data": {
            "text/html": [
              "<div>\n",
              "<style scoped>\n",
              "    .dataframe tbody tr th:only-of-type {\n",
              "        vertical-align: middle;\n",
              "    }\n",
              "\n",
              "    .dataframe tbody tr th {\n",
              "        vertical-align: top;\n",
              "    }\n",
              "\n",
              "    .dataframe thead th {\n",
              "        text-align: right;\n",
              "    }\n",
              "</style>\n",
              "<table border=\"1\" class=\"dataframe\">\n",
              "  <thead>\n",
              "    <tr style=\"text-align: right;\">\n",
              "      <th></th>\n",
              "      <th>RegionID</th>\n",
              "      <th>SizeRank</th>\n",
              "      <th>RegionName</th>\n",
              "      <th>RegionType</th>\n",
              "      <th>StateName</th>\n",
              "      <th>2018-01-31</th>\n",
              "      <th>2018-02-28</th>\n",
              "      <th>2018-03-31</th>\n",
              "      <th>2018-04-30</th>\n",
              "      <th>2018-05-31</th>\n",
              "      <th>2018-06-30</th>\n",
              "      <th>2018-07-31</th>\n",
              "      <th>2018-08-31</th>\n",
              "      <th>2018-09-30</th>\n",
              "      <th>2018-10-31</th>\n",
              "      <th>2018-11-30</th>\n",
              "      <th>2018-12-31</th>\n",
              "      <th>2019-01-31</th>\n",
              "      <th>2019-02-28</th>\n",
              "      <th>2019-03-31</th>\n",
              "      <th>2019-04-30</th>\n",
              "      <th>2019-05-31</th>\n",
              "      <th>2019-06-30</th>\n",
              "      <th>2019-07-31</th>\n",
              "      <th>2019-08-31</th>\n",
              "      <th>2019-09-30</th>\n",
              "      <th>2019-10-31</th>\n",
              "      <th>2019-11-30</th>\n",
              "      <th>2019-12-31</th>\n",
              "      <th>2020-01-31</th>\n",
              "      <th>2020-02-29</th>\n",
              "      <th>2020-03-31</th>\n",
              "      <th>2020-04-30</th>\n",
              "      <th>2020-05-31</th>\n",
              "      <th>2020-06-30</th>\n",
              "      <th>2020-07-31</th>\n",
              "      <th>2020-08-31</th>\n",
              "      <th>2020-09-30</th>\n",
              "      <th>2020-10-31</th>\n",
              "      <th>2020-11-30</th>\n",
              "      <th>2020-12-31</th>\n",
              "      <th>2021-01-31</th>\n",
              "      <th>2021-02-28</th>\n",
              "      <th>2021-03-31</th>\n",
              "      <th>2021-04-30</th>\n",
              "      <th>2021-05-31</th>\n",
              "    </tr>\n",
              "  </thead>\n",
              "  <tbody>\n",
              "    <tr>\n",
              "      <th>0</th>\n",
              "      <td>102001</td>\n",
              "      <td>0</td>\n",
              "      <td>United States</td>\n",
              "      <td>Country</td>\n",
              "      <td>NaN</td>\n",
              "      <td>1430225.0</td>\n",
              "      <td>1387590.0</td>\n",
              "      <td>1444857.0</td>\n",
              "      <td>1532191.0</td>\n",
              "      <td>1634260.0</td>\n",
              "      <td>1708217.0</td>\n",
              "      <td>1759676.0</td>\n",
              "      <td>1784474.0</td>\n",
              "      <td>1773503.0</td>\n",
              "      <td>1753159.0</td>\n",
              "      <td>1696261.0</td>\n",
              "      <td>1599298.0</td>\n",
              "      <td>1511207.0</td>\n",
              "      <td>1462710.0</td>\n",
              "      <td>1509435.0</td>\n",
              "      <td>1576086.0</td>\n",
              "      <td>1668665.0</td>\n",
              "      <td>1740548.0</td>\n",
              "      <td>1785306.0</td>\n",
              "      <td>1795906.0</td>\n",
              "      <td>1776934.0</td>\n",
              "      <td>1746715.0</td>\n",
              "      <td>1672821.0</td>\n",
              "      <td>1556152.0</td>\n",
              "      <td>1452106.0</td>\n",
              "      <td>1401803.0</td>\n",
              "      <td>1427403.0</td>\n",
              "      <td>1414841.0</td>\n",
              "      <td>1436341.0</td>\n",
              "      <td>1435273.0</td>\n",
              "      <td>1459442.0</td>\n",
              "      <td>1429021.0</td>\n",
              "      <td>1382965.0</td>\n",
              "      <td>1342720.0</td>\n",
              "      <td>1265268.0</td>\n",
              "      <td>1156829.0</td>\n",
              "      <td>1062363.0</td>\n",
              "      <td>981867.0</td>\n",
              "      <td>970046.0</td>\n",
              "      <td>953285.0</td>\n",
              "      <td>990307.0</td>\n",
              "    </tr>\n",
              "    <tr>\n",
              "      <th>1</th>\n",
              "      <td>394913</td>\n",
              "      <td>1</td>\n",
              "      <td>New York, NY</td>\n",
              "      <td>Msa</td>\n",
              "      <td>NY</td>\n",
              "      <td>69081.0</td>\n",
              "      <td>68644.0</td>\n",
              "      <td>73173.0</td>\n",
              "      <td>80124.0</td>\n",
              "      <td>86153.0</td>\n",
              "      <td>90703.0</td>\n",
              "      <td>92801.0</td>\n",
              "      <td>92289.0</td>\n",
              "      <td>91030.0</td>\n",
              "      <td>90213.0</td>\n",
              "      <td>87923.0</td>\n",
              "      <td>82653.0</td>\n",
              "      <td>77378.0</td>\n",
              "      <td>75130.0</td>\n",
              "      <td>78801.0</td>\n",
              "      <td>84626.0</td>\n",
              "      <td>91454.0</td>\n",
              "      <td>96091.0</td>\n",
              "      <td>97642.0</td>\n",
              "      <td>96113.0</td>\n",
              "      <td>94324.0</td>\n",
              "      <td>92286.0</td>\n",
              "      <td>88742.0</td>\n",
              "      <td>81671.0</td>\n",
              "      <td>75218.0</td>\n",
              "      <td>72752.0</td>\n",
              "      <td>74943.0</td>\n",
              "      <td>72588.0</td>\n",
              "      <td>70810.0</td>\n",
              "      <td>70421.0</td>\n",
              "      <td>76567.0</td>\n",
              "      <td>80504.0</td>\n",
              "      <td>81875.0</td>\n",
              "      <td>80908.0</td>\n",
              "      <td>77482.0</td>\n",
              "      <td>70793.0</td>\n",
              "      <td>64095.0</td>\n",
              "      <td>59770.0</td>\n",
              "      <td>59056.0</td>\n",
              "      <td>59791.0</td>\n",
              "      <td>62039.0</td>\n",
              "    </tr>\n",
              "    <tr>\n",
              "      <th>2</th>\n",
              "      <td>753899</td>\n",
              "      <td>2</td>\n",
              "      <td>Los Angeles-Long Beach-Anaheim, CA</td>\n",
              "      <td>Msa</td>\n",
              "      <td>CA</td>\n",
              "      <td>20122.0</td>\n",
              "      <td>19955.0</td>\n",
              "      <td>21914.0</td>\n",
              "      <td>23834.0</td>\n",
              "      <td>25802.0</td>\n",
              "      <td>27400.0</td>\n",
              "      <td>29104.0</td>\n",
              "      <td>30172.0</td>\n",
              "      <td>30709.0</td>\n",
              "      <td>30928.0</td>\n",
              "      <td>30401.0</td>\n",
              "      <td>28636.0</td>\n",
              "      <td>27006.0</td>\n",
              "      <td>26181.0</td>\n",
              "      <td>27489.0</td>\n",
              "      <td>28775.0</td>\n",
              "      <td>30455.0</td>\n",
              "      <td>31367.0</td>\n",
              "      <td>32055.0</td>\n",
              "      <td>31890.0</td>\n",
              "      <td>31349.0</td>\n",
              "      <td>30367.0</td>\n",
              "      <td>28324.0</td>\n",
              "      <td>25100.0</td>\n",
              "      <td>22333.0</td>\n",
              "      <td>21282.0</td>\n",
              "      <td>21833.0</td>\n",
              "      <td>21518.0</td>\n",
              "      <td>21940.0</td>\n",
              "      <td>22932.0</td>\n",
              "      <td>24975.0</td>\n",
              "      <td>25946.0</td>\n",
              "      <td>26335.0</td>\n",
              "      <td>26325.0</td>\n",
              "      <td>25263.0</td>\n",
              "      <td>22946.0</td>\n",
              "      <td>20693.0</td>\n",
              "      <td>19451.0</td>\n",
              "      <td>19944.0</td>\n",
              "      <td>20300.0</td>\n",
              "      <td>20784.0</td>\n",
              "    </tr>\n",
              "    <tr>\n",
              "      <th>3</th>\n",
              "      <td>394463</td>\n",
              "      <td>3</td>\n",
              "      <td>Chicago, IL</td>\n",
              "      <td>Msa</td>\n",
              "      <td>IL</td>\n",
              "      <td>42852.0</td>\n",
              "      <td>41179.0</td>\n",
              "      <td>44812.0</td>\n",
              "      <td>49370.0</td>\n",
              "      <td>53911.0</td>\n",
              "      <td>56286.0</td>\n",
              "      <td>58182.0</td>\n",
              "      <td>59156.0</td>\n",
              "      <td>58987.0</td>\n",
              "      <td>58244.0</td>\n",
              "      <td>55525.0</td>\n",
              "      <td>50741.0</td>\n",
              "      <td>46067.0</td>\n",
              "      <td>44291.0</td>\n",
              "      <td>47304.0</td>\n",
              "      <td>52290.0</td>\n",
              "      <td>57195.0</td>\n",
              "      <td>60372.0</td>\n",
              "      <td>61726.0</td>\n",
              "      <td>62208.0</td>\n",
              "      <td>61883.0</td>\n",
              "      <td>60846.0</td>\n",
              "      <td>57608.0</td>\n",
              "      <td>52164.0</td>\n",
              "      <td>47403.0</td>\n",
              "      <td>46033.0</td>\n",
              "      <td>47870.0</td>\n",
              "      <td>47775.0</td>\n",
              "      <td>48146.0</td>\n",
              "      <td>48675.0</td>\n",
              "      <td>51200.0</td>\n",
              "      <td>51840.0</td>\n",
              "      <td>50949.0</td>\n",
              "      <td>49700.0</td>\n",
              "      <td>46518.0</td>\n",
              "      <td>41700.0</td>\n",
              "      <td>37099.0</td>\n",
              "      <td>33426.0</td>\n",
              "      <td>33031.0</td>\n",
              "      <td>33398.0</td>\n",
              "      <td>35885.0</td>\n",
              "    </tr>\n",
              "    <tr>\n",
              "      <th>4</th>\n",
              "      <td>394514</td>\n",
              "      <td>4</td>\n",
              "      <td>Dallas-Fort Worth, TX</td>\n",
              "      <td>Msa</td>\n",
              "      <td>TX</td>\n",
              "      <td>24279.0</td>\n",
              "      <td>23200.0</td>\n",
              "      <td>24339.0</td>\n",
              "      <td>26745.0</td>\n",
              "      <td>29535.0</td>\n",
              "      <td>31953.0</td>\n",
              "      <td>33914.0</td>\n",
              "      <td>35086.0</td>\n",
              "      <td>35140.0</td>\n",
              "      <td>34277.0</td>\n",
              "      <td>33041.0</td>\n",
              "      <td>31076.0</td>\n",
              "      <td>29607.0</td>\n",
              "      <td>28934.0</td>\n",
              "      <td>30483.0</td>\n",
              "      <td>32440.0</td>\n",
              "      <td>34872.0</td>\n",
              "      <td>37284.0</td>\n",
              "      <td>39346.0</td>\n",
              "      <td>40401.0</td>\n",
              "      <td>39827.0</td>\n",
              "      <td>38693.0</td>\n",
              "      <td>36946.0</td>\n",
              "      <td>34540.0</td>\n",
              "      <td>32332.0</td>\n",
              "      <td>31428.0</td>\n",
              "      <td>32113.0</td>\n",
              "      <td>32241.0</td>\n",
              "      <td>33216.0</td>\n",
              "      <td>33794.0</td>\n",
              "      <td>34681.0</td>\n",
              "      <td>33501.0</td>\n",
              "      <td>31423.0</td>\n",
              "      <td>30286.0</td>\n",
              "      <td>28714.0</td>\n",
              "      <td>26829.0</td>\n",
              "      <td>24449.0</td>\n",
              "      <td>22289.0</td>\n",
              "      <td>21906.0</td>\n",
              "      <td>21698.0</td>\n",
              "      <td>22710.0</td>\n",
              "    </tr>\n",
              "  </tbody>\n",
              "</table>\n",
              "</div>"
            ],
            "text/plain": [
              "   RegionID  SizeRank  ... 2021-04-30 2021-05-31\n",
              "0    102001         0  ...   953285.0   990307.0\n",
              "1    394913         1  ...    59791.0    62039.0\n",
              "2    753899         2  ...    20300.0    20784.0\n",
              "3    394463         3  ...    33398.0    35885.0\n",
              "4    394514         4  ...    21698.0    22710.0\n",
              "\n",
              "[5 rows x 46 columns]"
            ]
          },
          "metadata": {
            "tags": []
          },
          "execution_count": 18
        }
      ]
    },
    {
      "cell_type": "code",
      "metadata": {
        "id": "Sh5oU-pQFV2b"
      },
      "source": [
        "df_new=pd.melt(frame=df,id_vars=['RegionID',\t'SizeRank',\t'RegionName',\t'RegionType',\t'StateName']\n",
        "               ,var_name='year_val',value_name='count')"
      ],
      "execution_count": null,
      "outputs": []
    },
    {
      "cell_type": "code",
      "metadata": {
        "colab": {
          "base_uri": "https://localhost:8080/",
          "height": 204
        },
        "id": "kKOVUqctGGek",
        "outputId": "3457549c-0dad-45e9-f59d-a79d10961def"
      },
      "source": [
        "df_new.head()"
      ],
      "execution_count": null,
      "outputs": [
        {
          "output_type": "execute_result",
          "data": {
            "text/html": [
              "<div>\n",
              "<style scoped>\n",
              "    .dataframe tbody tr th:only-of-type {\n",
              "        vertical-align: middle;\n",
              "    }\n",
              "\n",
              "    .dataframe tbody tr th {\n",
              "        vertical-align: top;\n",
              "    }\n",
              "\n",
              "    .dataframe thead th {\n",
              "        text-align: right;\n",
              "    }\n",
              "</style>\n",
              "<table border=\"1\" class=\"dataframe\">\n",
              "  <thead>\n",
              "    <tr style=\"text-align: right;\">\n",
              "      <th></th>\n",
              "      <th>RegionID</th>\n",
              "      <th>SizeRank</th>\n",
              "      <th>RegionName</th>\n",
              "      <th>RegionType</th>\n",
              "      <th>StateName</th>\n",
              "      <th>year_val</th>\n",
              "      <th>count</th>\n",
              "    </tr>\n",
              "  </thead>\n",
              "  <tbody>\n",
              "    <tr>\n",
              "      <th>0</th>\n",
              "      <td>102001</td>\n",
              "      <td>0</td>\n",
              "      <td>United States</td>\n",
              "      <td>Country</td>\n",
              "      <td>NaN</td>\n",
              "      <td>2018-01-31</td>\n",
              "      <td>1430225.0</td>\n",
              "    </tr>\n",
              "    <tr>\n",
              "      <th>1</th>\n",
              "      <td>394913</td>\n",
              "      <td>1</td>\n",
              "      <td>New York, NY</td>\n",
              "      <td>Msa</td>\n",
              "      <td>NY</td>\n",
              "      <td>2018-01-31</td>\n",
              "      <td>69081.0</td>\n",
              "    </tr>\n",
              "    <tr>\n",
              "      <th>2</th>\n",
              "      <td>753899</td>\n",
              "      <td>2</td>\n",
              "      <td>Los Angeles-Long Beach-Anaheim, CA</td>\n",
              "      <td>Msa</td>\n",
              "      <td>CA</td>\n",
              "      <td>2018-01-31</td>\n",
              "      <td>20122.0</td>\n",
              "    </tr>\n",
              "    <tr>\n",
              "      <th>3</th>\n",
              "      <td>394463</td>\n",
              "      <td>3</td>\n",
              "      <td>Chicago, IL</td>\n",
              "      <td>Msa</td>\n",
              "      <td>IL</td>\n",
              "      <td>2018-01-31</td>\n",
              "      <td>42852.0</td>\n",
              "    </tr>\n",
              "    <tr>\n",
              "      <th>4</th>\n",
              "      <td>394514</td>\n",
              "      <td>4</td>\n",
              "      <td>Dallas-Fort Worth, TX</td>\n",
              "      <td>Msa</td>\n",
              "      <td>TX</td>\n",
              "      <td>2018-01-31</td>\n",
              "      <td>24279.0</td>\n",
              "    </tr>\n",
              "  </tbody>\n",
              "</table>\n",
              "</div>"
            ],
            "text/plain": [
              "   RegionID  SizeRank  ...    year_val      count\n",
              "0    102001         0  ...  2018-01-31  1430225.0\n",
              "1    394913         1  ...  2018-01-31    69081.0\n",
              "2    753899         2  ...  2018-01-31    20122.0\n",
              "3    394463         3  ...  2018-01-31    42852.0\n",
              "4    394514         4  ...  2018-01-31    24279.0\n",
              "\n",
              "[5 rows x 7 columns]"
            ]
          },
          "metadata": {
            "tags": []
          },
          "execution_count": 20
        }
      ]
    },
    {
      "cell_type": "markdown",
      "metadata": {
        "id": "U6kG5NnrGXHR"
      },
      "source": [
        "# pivot"
      ]
    },
    {
      "cell_type": "code",
      "metadata": {
        "id": "GEfMTaFLGIY0"
      },
      "source": [
        "df=pd.read_csv('/content/drive/MyDrive/FoDS-2021/data/pivot/weather.csv')"
      ],
      "execution_count": null,
      "outputs": []
    },
    {
      "cell_type": "code",
      "metadata": {
        "colab": {
          "base_uri": "https://localhost:8080/",
          "height": 328
        },
        "id": "GYAQHFyIGkMj",
        "outputId": "f6409cee-3d70-422a-fc0c-3c558281d0c4"
      },
      "source": [
        "df"
      ],
      "execution_count": null,
      "outputs": [
        {
          "output_type": "execute_result",
          "data": {
            "text/html": [
              "<div>\n",
              "<style scoped>\n",
              "    .dataframe tbody tr th:only-of-type {\n",
              "        vertical-align: middle;\n",
              "    }\n",
              "\n",
              "    .dataframe tbody tr th {\n",
              "        vertical-align: top;\n",
              "    }\n",
              "\n",
              "    .dataframe thead th {\n",
              "        text-align: right;\n",
              "    }\n",
              "</style>\n",
              "<table border=\"1\" class=\"dataframe\">\n",
              "  <thead>\n",
              "    <tr style=\"text-align: right;\">\n",
              "      <th></th>\n",
              "      <th>date</th>\n",
              "      <th>city</th>\n",
              "      <th>temperature</th>\n",
              "      <th>humidity</th>\n",
              "    </tr>\n",
              "  </thead>\n",
              "  <tbody>\n",
              "    <tr>\n",
              "      <th>0</th>\n",
              "      <td>5/1/2017</td>\n",
              "      <td>new york</td>\n",
              "      <td>65</td>\n",
              "      <td>56</td>\n",
              "    </tr>\n",
              "    <tr>\n",
              "      <th>1</th>\n",
              "      <td>5/2/2017</td>\n",
              "      <td>new york</td>\n",
              "      <td>66</td>\n",
              "      <td>58</td>\n",
              "    </tr>\n",
              "    <tr>\n",
              "      <th>2</th>\n",
              "      <td>5/3/2017</td>\n",
              "      <td>new york</td>\n",
              "      <td>68</td>\n",
              "      <td>60</td>\n",
              "    </tr>\n",
              "    <tr>\n",
              "      <th>3</th>\n",
              "      <td>5/1/2017</td>\n",
              "      <td>mumbai</td>\n",
              "      <td>75</td>\n",
              "      <td>80</td>\n",
              "    </tr>\n",
              "    <tr>\n",
              "      <th>4</th>\n",
              "      <td>5/2/2017</td>\n",
              "      <td>mumbai</td>\n",
              "      <td>78</td>\n",
              "      <td>83</td>\n",
              "    </tr>\n",
              "    <tr>\n",
              "      <th>5</th>\n",
              "      <td>5/3/2017</td>\n",
              "      <td>mumbai</td>\n",
              "      <td>82</td>\n",
              "      <td>85</td>\n",
              "    </tr>\n",
              "    <tr>\n",
              "      <th>6</th>\n",
              "      <td>5/1/2017</td>\n",
              "      <td>beijing</td>\n",
              "      <td>80</td>\n",
              "      <td>26</td>\n",
              "    </tr>\n",
              "    <tr>\n",
              "      <th>7</th>\n",
              "      <td>5/2/2017</td>\n",
              "      <td>beijing</td>\n",
              "      <td>77</td>\n",
              "      <td>30</td>\n",
              "    </tr>\n",
              "    <tr>\n",
              "      <th>8</th>\n",
              "      <td>5/3/2017</td>\n",
              "      <td>beijing</td>\n",
              "      <td>79</td>\n",
              "      <td>35</td>\n",
              "    </tr>\n",
              "  </tbody>\n",
              "</table>\n",
              "</div>"
            ],
            "text/plain": [
              "       date      city  temperature  humidity\n",
              "0  5/1/2017  new york           65        56\n",
              "1  5/2/2017  new york           66        58\n",
              "2  5/3/2017  new york           68        60\n",
              "3  5/1/2017    mumbai           75        80\n",
              "4  5/2/2017    mumbai           78        83\n",
              "5  5/3/2017    mumbai           82        85\n",
              "6  5/1/2017   beijing           80        26\n",
              "7  5/2/2017   beijing           77        30\n",
              "8  5/3/2017   beijing           79        35"
            ]
          },
          "metadata": {
            "tags": []
          },
          "execution_count": 22
        }
      ]
    },
    {
      "cell_type": "code",
      "metadata": {
        "colab": {
          "base_uri": "https://localhost:8080/",
          "height": 80
        },
        "id": "gp9BmsyRJKkV",
        "outputId": "df478800-8534-4eed-f038-1106a9e412e2"
      },
      "source": [
        "df[(df['city']=='mumbai') & (df['date']=='5/1/2017')]"
      ],
      "execution_count": null,
      "outputs": [
        {
          "output_type": "execute_result",
          "data": {
            "text/html": [
              "<div>\n",
              "<style scoped>\n",
              "    .dataframe tbody tr th:only-of-type {\n",
              "        vertical-align: middle;\n",
              "    }\n",
              "\n",
              "    .dataframe tbody tr th {\n",
              "        vertical-align: top;\n",
              "    }\n",
              "\n",
              "    .dataframe thead th {\n",
              "        text-align: right;\n",
              "    }\n",
              "</style>\n",
              "<table border=\"1\" class=\"dataframe\">\n",
              "  <thead>\n",
              "    <tr style=\"text-align: right;\">\n",
              "      <th></th>\n",
              "      <th>date</th>\n",
              "      <th>city</th>\n",
              "      <th>temperature</th>\n",
              "      <th>humidity</th>\n",
              "    </tr>\n",
              "  </thead>\n",
              "  <tbody>\n",
              "    <tr>\n",
              "      <th>3</th>\n",
              "      <td>5/1/2017</td>\n",
              "      <td>mumbai</td>\n",
              "      <td>75</td>\n",
              "      <td>80</td>\n",
              "    </tr>\n",
              "  </tbody>\n",
              "</table>\n",
              "</div>"
            ],
            "text/plain": [
              "       date    city  temperature  humidity\n",
              "3  5/1/2017  mumbai           75        80"
            ]
          },
          "metadata": {
            "tags": []
          },
          "execution_count": 33
        }
      ]
    },
    {
      "cell_type": "code",
      "metadata": {
        "id": "JxW-h2pzJdzn"
      },
      "source": [
        ""
      ],
      "execution_count": null,
      "outputs": []
    },
    {
      "cell_type": "code",
      "metadata": {
        "colab": {
          "base_uri": "https://localhost:8080/",
          "height": 204
        },
        "id": "vv903W4UGkyr",
        "outputId": "95ecc3b4-d6c5-42c8-bb9e-e70ada138554"
      },
      "source": [
        "df.pivot(index='city',columns='date')"
      ],
      "execution_count": null,
      "outputs": [
        {
          "output_type": "execute_result",
          "data": {
            "text/html": [
              "<div>\n",
              "<style scoped>\n",
              "    .dataframe tbody tr th:only-of-type {\n",
              "        vertical-align: middle;\n",
              "    }\n",
              "\n",
              "    .dataframe tbody tr th {\n",
              "        vertical-align: top;\n",
              "    }\n",
              "\n",
              "    .dataframe thead tr th {\n",
              "        text-align: left;\n",
              "    }\n",
              "\n",
              "    .dataframe thead tr:last-of-type th {\n",
              "        text-align: right;\n",
              "    }\n",
              "</style>\n",
              "<table border=\"1\" class=\"dataframe\">\n",
              "  <thead>\n",
              "    <tr>\n",
              "      <th></th>\n",
              "      <th colspan=\"3\" halign=\"left\">temperature</th>\n",
              "      <th colspan=\"3\" halign=\"left\">humidity</th>\n",
              "    </tr>\n",
              "    <tr>\n",
              "      <th>date</th>\n",
              "      <th>5/1/2017</th>\n",
              "      <th>5/2/2017</th>\n",
              "      <th>5/3/2017</th>\n",
              "      <th>5/1/2017</th>\n",
              "      <th>5/2/2017</th>\n",
              "      <th>5/3/2017</th>\n",
              "    </tr>\n",
              "    <tr>\n",
              "      <th>city</th>\n",
              "      <th></th>\n",
              "      <th></th>\n",
              "      <th></th>\n",
              "      <th></th>\n",
              "      <th></th>\n",
              "      <th></th>\n",
              "    </tr>\n",
              "  </thead>\n",
              "  <tbody>\n",
              "    <tr>\n",
              "      <th>beijing</th>\n",
              "      <td>80</td>\n",
              "      <td>77</td>\n",
              "      <td>79</td>\n",
              "      <td>26</td>\n",
              "      <td>30</td>\n",
              "      <td>35</td>\n",
              "    </tr>\n",
              "    <tr>\n",
              "      <th>mumbai</th>\n",
              "      <td>75</td>\n",
              "      <td>78</td>\n",
              "      <td>82</td>\n",
              "      <td>80</td>\n",
              "      <td>83</td>\n",
              "      <td>85</td>\n",
              "    </tr>\n",
              "    <tr>\n",
              "      <th>new york</th>\n",
              "      <td>65</td>\n",
              "      <td>66</td>\n",
              "      <td>68</td>\n",
              "      <td>56</td>\n",
              "      <td>58</td>\n",
              "      <td>60</td>\n",
              "    </tr>\n",
              "  </tbody>\n",
              "</table>\n",
              "</div>"
            ],
            "text/plain": [
              "         temperature                   humidity                  \n",
              "date        5/1/2017 5/2/2017 5/3/2017 5/1/2017 5/2/2017 5/3/2017\n",
              "city                                                             \n",
              "beijing           80       77       79       26       30       35\n",
              "mumbai            75       78       82       80       83       85\n",
              "new york          65       66       68       56       58       60"
            ]
          },
          "metadata": {
            "tags": []
          },
          "execution_count": 23
        }
      ]
    },
    {
      "cell_type": "code",
      "metadata": {
        "id": "SN3lxq-AG9Zf"
      },
      "source": [
        "df_new=df.pivot(index='city',columns='date',values='humidity')"
      ],
      "execution_count": null,
      "outputs": []
    },
    {
      "cell_type": "code",
      "metadata": {
        "id": "tLgJxo96HYks"
      },
      "source": [
        "df_new.index.name=None"
      ],
      "execution_count": null,
      "outputs": []
    },
    {
      "cell_type": "code",
      "metadata": {
        "colab": {
          "base_uri": "https://localhost:8080/",
          "height": 142
        },
        "id": "2JJg49DuHubj",
        "outputId": "b8abb2c3-2b45-462c-97f2-f5423b48321c"
      },
      "source": [
        "df_new"
      ],
      "execution_count": null,
      "outputs": [
        {
          "output_type": "execute_result",
          "data": {
            "text/html": [
              "<div>\n",
              "<style scoped>\n",
              "    .dataframe tbody tr th:only-of-type {\n",
              "        vertical-align: middle;\n",
              "    }\n",
              "\n",
              "    .dataframe tbody tr th {\n",
              "        vertical-align: top;\n",
              "    }\n",
              "\n",
              "    .dataframe thead th {\n",
              "        text-align: right;\n",
              "    }\n",
              "</style>\n",
              "<table border=\"1\" class=\"dataframe\">\n",
              "  <thead>\n",
              "    <tr style=\"text-align: right;\">\n",
              "      <th>date</th>\n",
              "      <th>5/1/2017</th>\n",
              "      <th>5/2/2017</th>\n",
              "      <th>5/3/2017</th>\n",
              "    </tr>\n",
              "  </thead>\n",
              "  <tbody>\n",
              "    <tr>\n",
              "      <th>beijing</th>\n",
              "      <td>26</td>\n",
              "      <td>30</td>\n",
              "      <td>35</td>\n",
              "    </tr>\n",
              "    <tr>\n",
              "      <th>mumbai</th>\n",
              "      <td>80</td>\n",
              "      <td>83</td>\n",
              "      <td>85</td>\n",
              "    </tr>\n",
              "    <tr>\n",
              "      <th>new york</th>\n",
              "      <td>56</td>\n",
              "      <td>58</td>\n",
              "      <td>60</td>\n",
              "    </tr>\n",
              "  </tbody>\n",
              "</table>\n",
              "</div>"
            ],
            "text/plain": [
              "date      5/1/2017  5/2/2017  5/3/2017\n",
              "beijing         26        30        35\n",
              "mumbai          80        83        85\n",
              "new york        56        58        60"
            ]
          },
          "metadata": {
            "tags": []
          },
          "execution_count": 27
        }
      ]
    },
    {
      "cell_type": "code",
      "metadata": {
        "id": "XkpIrVewHvzh"
      },
      "source": [
        "df_new.columns.name = None"
      ],
      "execution_count": null,
      "outputs": []
    },
    {
      "cell_type": "code",
      "metadata": {
        "colab": {
          "base_uri": "https://localhost:8080/",
          "height": 142
        },
        "id": "B0sPpc5tHyqu",
        "outputId": "492b8f84-a6e7-4e0e-dee6-762a165e0a53"
      },
      "source": [
        "df_new"
      ],
      "execution_count": null,
      "outputs": [
        {
          "output_type": "execute_result",
          "data": {
            "text/html": [
              "<div>\n",
              "<style scoped>\n",
              "    .dataframe tbody tr th:only-of-type {\n",
              "        vertical-align: middle;\n",
              "    }\n",
              "\n",
              "    .dataframe tbody tr th {\n",
              "        vertical-align: top;\n",
              "    }\n",
              "\n",
              "    .dataframe thead th {\n",
              "        text-align: right;\n",
              "    }\n",
              "</style>\n",
              "<table border=\"1\" class=\"dataframe\">\n",
              "  <thead>\n",
              "    <tr style=\"text-align: right;\">\n",
              "      <th></th>\n",
              "      <th>5/1/2017</th>\n",
              "      <th>5/2/2017</th>\n",
              "      <th>5/3/2017</th>\n",
              "    </tr>\n",
              "  </thead>\n",
              "  <tbody>\n",
              "    <tr>\n",
              "      <th>beijing</th>\n",
              "      <td>26</td>\n",
              "      <td>30</td>\n",
              "      <td>35</td>\n",
              "    </tr>\n",
              "    <tr>\n",
              "      <th>mumbai</th>\n",
              "      <td>80</td>\n",
              "      <td>83</td>\n",
              "      <td>85</td>\n",
              "    </tr>\n",
              "    <tr>\n",
              "      <th>new york</th>\n",
              "      <td>56</td>\n",
              "      <td>58</td>\n",
              "      <td>60</td>\n",
              "    </tr>\n",
              "  </tbody>\n",
              "</table>\n",
              "</div>"
            ],
            "text/plain": [
              "          5/1/2017  5/2/2017  5/3/2017\n",
              "beijing         26        30        35\n",
              "mumbai          80        83        85\n",
              "new york        56        58        60"
            ]
          },
          "metadata": {
            "tags": []
          },
          "execution_count": 30
        }
      ]
    },
    {
      "cell_type": "code",
      "metadata": {
        "colab": {
          "base_uri": "https://localhost:8080/"
        },
        "id": "5UZJ9pNPH2M3",
        "outputId": "53707548-bee1-4c6d-d653-427435941db0"
      },
      "source": [
        "df_new.loc['mumbai']"
      ],
      "execution_count": null,
      "outputs": [
        {
          "output_type": "execute_result",
          "data": {
            "text/plain": [
              "5/1/2017    80\n",
              "5/2/2017    83\n",
              "5/3/2017    85\n",
              "Name: mumbai, dtype: int64"
            ]
          },
          "metadata": {
            "tags": []
          },
          "execution_count": 31
        }
      ]
    },
    {
      "cell_type": "code",
      "metadata": {
        "colab": {
          "base_uri": "https://localhost:8080/"
        },
        "id": "jIH24Em1IT-T",
        "outputId": "cd59ad52-9fe8-4c21-b86d-f2955c8d7f6d"
      },
      "source": [
        "df_new.loc['mumbai']['5/1/2017']"
      ],
      "execution_count": null,
      "outputs": [
        {
          "output_type": "execute_result",
          "data": {
            "text/plain": [
              "80"
            ]
          },
          "metadata": {
            "tags": []
          },
          "execution_count": 32
        }
      ]
    },
    {
      "cell_type": "code",
      "metadata": {
        "colab": {
          "base_uri": "https://localhost:8080/",
          "height": 204
        },
        "id": "uHVEXmXnIiEx",
        "outputId": "b5f7ffc0-37c9-4b9d-d32f-2e46420d2e2a"
      },
      "source": [
        "df.pivot(index='date',columns='city')"
      ],
      "execution_count": null,
      "outputs": [
        {
          "output_type": "execute_result",
          "data": {
            "text/html": [
              "<div>\n",
              "<style scoped>\n",
              "    .dataframe tbody tr th:only-of-type {\n",
              "        vertical-align: middle;\n",
              "    }\n",
              "\n",
              "    .dataframe tbody tr th {\n",
              "        vertical-align: top;\n",
              "    }\n",
              "\n",
              "    .dataframe thead tr th {\n",
              "        text-align: left;\n",
              "    }\n",
              "\n",
              "    .dataframe thead tr:last-of-type th {\n",
              "        text-align: right;\n",
              "    }\n",
              "</style>\n",
              "<table border=\"1\" class=\"dataframe\">\n",
              "  <thead>\n",
              "    <tr>\n",
              "      <th></th>\n",
              "      <th colspan=\"3\" halign=\"left\">temperature</th>\n",
              "      <th colspan=\"3\" halign=\"left\">humidity</th>\n",
              "    </tr>\n",
              "    <tr>\n",
              "      <th>city</th>\n",
              "      <th>beijing</th>\n",
              "      <th>mumbai</th>\n",
              "      <th>new york</th>\n",
              "      <th>beijing</th>\n",
              "      <th>mumbai</th>\n",
              "      <th>new york</th>\n",
              "    </tr>\n",
              "    <tr>\n",
              "      <th>date</th>\n",
              "      <th></th>\n",
              "      <th></th>\n",
              "      <th></th>\n",
              "      <th></th>\n",
              "      <th></th>\n",
              "      <th></th>\n",
              "    </tr>\n",
              "  </thead>\n",
              "  <tbody>\n",
              "    <tr>\n",
              "      <th>5/1/2017</th>\n",
              "      <td>80</td>\n",
              "      <td>75</td>\n",
              "      <td>65</td>\n",
              "      <td>26</td>\n",
              "      <td>80</td>\n",
              "      <td>56</td>\n",
              "    </tr>\n",
              "    <tr>\n",
              "      <th>5/2/2017</th>\n",
              "      <td>77</td>\n",
              "      <td>78</td>\n",
              "      <td>66</td>\n",
              "      <td>30</td>\n",
              "      <td>83</td>\n",
              "      <td>58</td>\n",
              "    </tr>\n",
              "    <tr>\n",
              "      <th>5/3/2017</th>\n",
              "      <td>79</td>\n",
              "      <td>82</td>\n",
              "      <td>68</td>\n",
              "      <td>35</td>\n",
              "      <td>85</td>\n",
              "      <td>60</td>\n",
              "    </tr>\n",
              "  </tbody>\n",
              "</table>\n",
              "</div>"
            ],
            "text/plain": [
              "         temperature                 humidity                \n",
              "city         beijing mumbai new york  beijing mumbai new york\n",
              "date                                                         \n",
              "5/1/2017          80     75       65       26     80       56\n",
              "5/2/2017          77     78       66       30     83       58\n",
              "5/3/2017          79     82       68       35     85       60"
            ]
          },
          "metadata": {
            "tags": []
          },
          "execution_count": 34
        }
      ]
    },
    {
      "cell_type": "code",
      "metadata": {
        "id": "LBi-srayJt73"
      },
      "source": [
        "df=pd.read_csv('/content/drive/MyDrive/FoDS-2021/data/pivot/weather2.csv')"
      ],
      "execution_count": null,
      "outputs": []
    },
    {
      "cell_type": "code",
      "metadata": {
        "colab": {
          "base_uri": "https://localhost:8080/",
          "height": 297
        },
        "id": "m70qqX79KLcE",
        "outputId": "14989f8c-ee79-49bd-8cf7-16e5119539f9"
      },
      "source": [
        "df"
      ],
      "execution_count": null,
      "outputs": [
        {
          "output_type": "execute_result",
          "data": {
            "text/html": [
              "<div>\n",
              "<style scoped>\n",
              "    .dataframe tbody tr th:only-of-type {\n",
              "        vertical-align: middle;\n",
              "    }\n",
              "\n",
              "    .dataframe tbody tr th {\n",
              "        vertical-align: top;\n",
              "    }\n",
              "\n",
              "    .dataframe thead th {\n",
              "        text-align: right;\n",
              "    }\n",
              "</style>\n",
              "<table border=\"1\" class=\"dataframe\">\n",
              "  <thead>\n",
              "    <tr style=\"text-align: right;\">\n",
              "      <th></th>\n",
              "      <th>date</th>\n",
              "      <th>city</th>\n",
              "      <th>temperature</th>\n",
              "      <th>humidity</th>\n",
              "    </tr>\n",
              "  </thead>\n",
              "  <tbody>\n",
              "    <tr>\n",
              "      <th>0</th>\n",
              "      <td>5/1/2017</td>\n",
              "      <td>new york</td>\n",
              "      <td>65</td>\n",
              "      <td>56</td>\n",
              "    </tr>\n",
              "    <tr>\n",
              "      <th>1</th>\n",
              "      <td>5/1/2017</td>\n",
              "      <td>new york</td>\n",
              "      <td>61</td>\n",
              "      <td>54</td>\n",
              "    </tr>\n",
              "    <tr>\n",
              "      <th>2</th>\n",
              "      <td>5/2/2017</td>\n",
              "      <td>new york</td>\n",
              "      <td>70</td>\n",
              "      <td>60</td>\n",
              "    </tr>\n",
              "    <tr>\n",
              "      <th>3</th>\n",
              "      <td>5/2/2017</td>\n",
              "      <td>new york</td>\n",
              "      <td>72</td>\n",
              "      <td>62</td>\n",
              "    </tr>\n",
              "    <tr>\n",
              "      <th>4</th>\n",
              "      <td>5/1/2017</td>\n",
              "      <td>mumbai</td>\n",
              "      <td>75</td>\n",
              "      <td>80</td>\n",
              "    </tr>\n",
              "    <tr>\n",
              "      <th>5</th>\n",
              "      <td>5/1/2017</td>\n",
              "      <td>mumbai</td>\n",
              "      <td>78</td>\n",
              "      <td>83</td>\n",
              "    </tr>\n",
              "    <tr>\n",
              "      <th>6</th>\n",
              "      <td>5/2/2017</td>\n",
              "      <td>mumbai</td>\n",
              "      <td>82</td>\n",
              "      <td>85</td>\n",
              "    </tr>\n",
              "    <tr>\n",
              "      <th>7</th>\n",
              "      <td>5/2/2017</td>\n",
              "      <td>mumbai</td>\n",
              "      <td>80</td>\n",
              "      <td>26</td>\n",
              "    </tr>\n",
              "  </tbody>\n",
              "</table>\n",
              "</div>"
            ],
            "text/plain": [
              "       date      city  temperature  humidity\n",
              "0  5/1/2017  new york           65        56\n",
              "1  5/1/2017  new york           61        54\n",
              "2  5/2/2017  new york           70        60\n",
              "3  5/2/2017  new york           72        62\n",
              "4  5/1/2017    mumbai           75        80\n",
              "5  5/1/2017    mumbai           78        83\n",
              "6  5/2/2017    mumbai           82        85\n",
              "7  5/2/2017    mumbai           80        26"
            ]
          },
          "metadata": {
            "tags": []
          },
          "execution_count": 37
        }
      ]
    },
    {
      "cell_type": "code",
      "metadata": {
        "colab": {
          "base_uri": "https://localhost:8080/",
          "height": 306
        },
        "id": "EeQsLb0bKEzx",
        "outputId": "974c9e7c-3230-4b8a-b05b-ad4d9de6595f"
      },
      "source": [
        "df_new=df.pivot(index='city',columns='date',values='humidity')"
      ],
      "execution_count": null,
      "outputs": [
        {
          "output_type": "error",
          "ename": "ValueError",
          "evalue": "ignored",
          "traceback": [
            "\u001b[0;31m---------------------------------------------------------------------------\u001b[0m",
            "\u001b[0;31mValueError\u001b[0m                                Traceback (most recent call last)",
            "\u001b[0;32m<ipython-input-38-3ebb262bc167>\u001b[0m in \u001b[0;36m<module>\u001b[0;34m()\u001b[0m\n\u001b[0;32m----> 1\u001b[0;31m \u001b[0mdf_new\u001b[0m\u001b[0;34m=\u001b[0m\u001b[0mdf\u001b[0m\u001b[0;34m.\u001b[0m\u001b[0mpivot\u001b[0m\u001b[0;34m(\u001b[0m\u001b[0mindex\u001b[0m\u001b[0;34m=\u001b[0m\u001b[0;34m'city'\u001b[0m\u001b[0;34m,\u001b[0m\u001b[0mcolumns\u001b[0m\u001b[0;34m=\u001b[0m\u001b[0;34m'date'\u001b[0m\u001b[0;34m,\u001b[0m\u001b[0mvalues\u001b[0m\u001b[0;34m=\u001b[0m\u001b[0;34m'humidity'\u001b[0m\u001b[0;34m)\u001b[0m\u001b[0;34m\u001b[0m\u001b[0;34m\u001b[0m\u001b[0m\n\u001b[0m",
            "\u001b[0;32m/usr/local/lib/python3.7/dist-packages/pandas/core/frame.py\u001b[0m in \u001b[0;36mpivot\u001b[0;34m(self, index, columns, values)\u001b[0m\n\u001b[1;32m   6676\u001b[0m         \u001b[0;32mfrom\u001b[0m \u001b[0mpandas\u001b[0m\u001b[0;34m.\u001b[0m\u001b[0mcore\u001b[0m\u001b[0;34m.\u001b[0m\u001b[0mreshape\u001b[0m\u001b[0;34m.\u001b[0m\u001b[0mpivot\u001b[0m \u001b[0;32mimport\u001b[0m \u001b[0mpivot\u001b[0m\u001b[0;34m\u001b[0m\u001b[0;34m\u001b[0m\u001b[0m\n\u001b[1;32m   6677\u001b[0m \u001b[0;34m\u001b[0m\u001b[0m\n\u001b[0;32m-> 6678\u001b[0;31m         \u001b[0;32mreturn\u001b[0m \u001b[0mpivot\u001b[0m\u001b[0;34m(\u001b[0m\u001b[0mself\u001b[0m\u001b[0;34m,\u001b[0m \u001b[0mindex\u001b[0m\u001b[0;34m=\u001b[0m\u001b[0mindex\u001b[0m\u001b[0;34m,\u001b[0m \u001b[0mcolumns\u001b[0m\u001b[0;34m=\u001b[0m\u001b[0mcolumns\u001b[0m\u001b[0;34m,\u001b[0m \u001b[0mvalues\u001b[0m\u001b[0;34m=\u001b[0m\u001b[0mvalues\u001b[0m\u001b[0;34m)\u001b[0m\u001b[0;34m\u001b[0m\u001b[0;34m\u001b[0m\u001b[0m\n\u001b[0m\u001b[1;32m   6679\u001b[0m \u001b[0;34m\u001b[0m\u001b[0m\n\u001b[1;32m   6680\u001b[0m     _shared_docs[\n",
            "\u001b[0;32m/usr/local/lib/python3.7/dist-packages/pandas/core/reshape/pivot.py\u001b[0m in \u001b[0;36mpivot\u001b[0;34m(data, index, columns, values)\u001b[0m\n\u001b[1;32m    475\u001b[0m         \u001b[0;32melse\u001b[0m\u001b[0;34m:\u001b[0m\u001b[0;34m\u001b[0m\u001b[0;34m\u001b[0m\u001b[0m\n\u001b[1;32m    476\u001b[0m             \u001b[0mindexed\u001b[0m \u001b[0;34m=\u001b[0m \u001b[0mdata\u001b[0m\u001b[0;34m.\u001b[0m\u001b[0m_constructor_sliced\u001b[0m\u001b[0;34m(\u001b[0m\u001b[0mdata\u001b[0m\u001b[0;34m[\u001b[0m\u001b[0mvalues\u001b[0m\u001b[0;34m]\u001b[0m\u001b[0;34m.\u001b[0m\u001b[0m_values\u001b[0m\u001b[0;34m,\u001b[0m \u001b[0mindex\u001b[0m\u001b[0;34m=\u001b[0m\u001b[0mindex\u001b[0m\u001b[0;34m)\u001b[0m\u001b[0;34m\u001b[0m\u001b[0;34m\u001b[0m\u001b[0m\n\u001b[0;32m--> 477\u001b[0;31m     \u001b[0;32mreturn\u001b[0m \u001b[0mindexed\u001b[0m\u001b[0;34m.\u001b[0m\u001b[0munstack\u001b[0m\u001b[0;34m(\u001b[0m\u001b[0mcolumns\u001b[0m\u001b[0;34m)\u001b[0m\u001b[0;34m\u001b[0m\u001b[0;34m\u001b[0m\u001b[0m\n\u001b[0m\u001b[1;32m    478\u001b[0m \u001b[0;34m\u001b[0m\u001b[0m\n\u001b[1;32m    479\u001b[0m \u001b[0;34m\u001b[0m\u001b[0m\n",
            "\u001b[0;32m/usr/local/lib/python3.7/dist-packages/pandas/core/series.py\u001b[0m in \u001b[0;36munstack\u001b[0;34m(self, level, fill_value)\u001b[0m\n\u001b[1;32m   3901\u001b[0m         \u001b[0;32mfrom\u001b[0m \u001b[0mpandas\u001b[0m\u001b[0;34m.\u001b[0m\u001b[0mcore\u001b[0m\u001b[0;34m.\u001b[0m\u001b[0mreshape\u001b[0m\u001b[0;34m.\u001b[0m\u001b[0mreshape\u001b[0m \u001b[0;32mimport\u001b[0m \u001b[0munstack\u001b[0m\u001b[0;34m\u001b[0m\u001b[0;34m\u001b[0m\u001b[0m\n\u001b[1;32m   3902\u001b[0m \u001b[0;34m\u001b[0m\u001b[0m\n\u001b[0;32m-> 3903\u001b[0;31m         \u001b[0;32mreturn\u001b[0m \u001b[0munstack\u001b[0m\u001b[0;34m(\u001b[0m\u001b[0mself\u001b[0m\u001b[0;34m,\u001b[0m \u001b[0mlevel\u001b[0m\u001b[0;34m,\u001b[0m \u001b[0mfill_value\u001b[0m\u001b[0;34m)\u001b[0m\u001b[0;34m\u001b[0m\u001b[0;34m\u001b[0m\u001b[0m\n\u001b[0m\u001b[1;32m   3904\u001b[0m \u001b[0;34m\u001b[0m\u001b[0m\n\u001b[1;32m   3905\u001b[0m     \u001b[0;31m# ----------------------------------------------------------------------\u001b[0m\u001b[0;34m\u001b[0m\u001b[0;34m\u001b[0m\u001b[0;34m\u001b[0m\u001b[0m\n",
            "\u001b[0;32m/usr/local/lib/python3.7/dist-packages/pandas/core/reshape/reshape.py\u001b[0m in \u001b[0;36munstack\u001b[0;34m(obj, level, fill_value)\u001b[0m\n\u001b[1;32m    423\u001b[0m             \u001b[0;32mreturn\u001b[0m \u001b[0m_unstack_extension_series\u001b[0m\u001b[0;34m(\u001b[0m\u001b[0mobj\u001b[0m\u001b[0;34m,\u001b[0m \u001b[0mlevel\u001b[0m\u001b[0;34m,\u001b[0m \u001b[0mfill_value\u001b[0m\u001b[0;34m)\u001b[0m\u001b[0;34m\u001b[0m\u001b[0;34m\u001b[0m\u001b[0m\n\u001b[1;32m    424\u001b[0m         unstacker = _Unstacker(\n\u001b[0;32m--> 425\u001b[0;31m             \u001b[0mobj\u001b[0m\u001b[0;34m.\u001b[0m\u001b[0mindex\u001b[0m\u001b[0;34m,\u001b[0m \u001b[0mlevel\u001b[0m\u001b[0;34m=\u001b[0m\u001b[0mlevel\u001b[0m\u001b[0;34m,\u001b[0m \u001b[0mconstructor\u001b[0m\u001b[0;34m=\u001b[0m\u001b[0mobj\u001b[0m\u001b[0;34m.\u001b[0m\u001b[0m_constructor_expanddim\u001b[0m\u001b[0;34m,\u001b[0m\u001b[0;34m\u001b[0m\u001b[0;34m\u001b[0m\u001b[0m\n\u001b[0m\u001b[1;32m    426\u001b[0m         )\n\u001b[1;32m    427\u001b[0m         return unstacker.get_result(\n",
            "\u001b[0;32m/usr/local/lib/python3.7/dist-packages/pandas/core/reshape/reshape.py\u001b[0m in \u001b[0;36m__init__\u001b[0;34m(self, index, level, constructor)\u001b[0m\n\u001b[1;32m    118\u001b[0m             \u001b[0;32mraise\u001b[0m \u001b[0mValueError\u001b[0m\u001b[0;34m(\u001b[0m\u001b[0;34m\"Unstacked DataFrame is too big, causing int32 overflow\"\u001b[0m\u001b[0;34m)\u001b[0m\u001b[0;34m\u001b[0m\u001b[0;34m\u001b[0m\u001b[0m\n\u001b[1;32m    119\u001b[0m \u001b[0;34m\u001b[0m\u001b[0m\n\u001b[0;32m--> 120\u001b[0;31m         \u001b[0mself\u001b[0m\u001b[0;34m.\u001b[0m\u001b[0m_make_selectors\u001b[0m\u001b[0;34m(\u001b[0m\u001b[0;34m)\u001b[0m\u001b[0;34m\u001b[0m\u001b[0;34m\u001b[0m\u001b[0m\n\u001b[0m\u001b[1;32m    121\u001b[0m \u001b[0;34m\u001b[0m\u001b[0m\n\u001b[1;32m    122\u001b[0m     \u001b[0;34m@\u001b[0m\u001b[0mcache_readonly\u001b[0m\u001b[0;34m\u001b[0m\u001b[0;34m\u001b[0m\u001b[0m\n",
            "\u001b[0;32m/usr/local/lib/python3.7/dist-packages/pandas/core/reshape/reshape.py\u001b[0m in \u001b[0;36m_make_selectors\u001b[0;34m(self)\u001b[0m\n\u001b[1;32m    167\u001b[0m \u001b[0;34m\u001b[0m\u001b[0m\n\u001b[1;32m    168\u001b[0m         \u001b[0;32mif\u001b[0m \u001b[0mmask\u001b[0m\u001b[0;34m.\u001b[0m\u001b[0msum\u001b[0m\u001b[0;34m(\u001b[0m\u001b[0;34m)\u001b[0m \u001b[0;34m<\u001b[0m \u001b[0mlen\u001b[0m\u001b[0;34m(\u001b[0m\u001b[0mself\u001b[0m\u001b[0;34m.\u001b[0m\u001b[0mindex\u001b[0m\u001b[0;34m)\u001b[0m\u001b[0;34m:\u001b[0m\u001b[0;34m\u001b[0m\u001b[0;34m\u001b[0m\u001b[0m\n\u001b[0;32m--> 169\u001b[0;31m             \u001b[0;32mraise\u001b[0m \u001b[0mValueError\u001b[0m\u001b[0;34m(\u001b[0m\u001b[0;34m\"Index contains duplicate entries, cannot reshape\"\u001b[0m\u001b[0;34m)\u001b[0m\u001b[0;34m\u001b[0m\u001b[0;34m\u001b[0m\u001b[0m\n\u001b[0m\u001b[1;32m    170\u001b[0m \u001b[0;34m\u001b[0m\u001b[0m\n\u001b[1;32m    171\u001b[0m         \u001b[0mself\u001b[0m\u001b[0;34m.\u001b[0m\u001b[0mgroup_index\u001b[0m \u001b[0;34m=\u001b[0m \u001b[0mcomp_index\u001b[0m\u001b[0;34m\u001b[0m\u001b[0;34m\u001b[0m\u001b[0m\n",
            "\u001b[0;31mValueError\u001b[0m: Index contains duplicate entries, cannot reshape"
          ]
        }
      ]
    },
    {
      "cell_type": "code",
      "metadata": {
        "colab": {
          "base_uri": "https://localhost:8080/",
          "height": 173
        },
        "id": "HNXqprMTKqh4",
        "outputId": "cb8e57b8-d91c-4275-8b97-acb25cf62d96"
      },
      "source": [
        "df.pivot_table(index='city',columns='date')"
      ],
      "execution_count": null,
      "outputs": [
        {
          "output_type": "execute_result",
          "data": {
            "text/html": [
              "<div>\n",
              "<style scoped>\n",
              "    .dataframe tbody tr th:only-of-type {\n",
              "        vertical-align: middle;\n",
              "    }\n",
              "\n",
              "    .dataframe tbody tr th {\n",
              "        vertical-align: top;\n",
              "    }\n",
              "\n",
              "    .dataframe thead tr th {\n",
              "        text-align: left;\n",
              "    }\n",
              "\n",
              "    .dataframe thead tr:last-of-type th {\n",
              "        text-align: right;\n",
              "    }\n",
              "</style>\n",
              "<table border=\"1\" class=\"dataframe\">\n",
              "  <thead>\n",
              "    <tr>\n",
              "      <th></th>\n",
              "      <th colspan=\"2\" halign=\"left\">humidity</th>\n",
              "      <th colspan=\"2\" halign=\"left\">temperature</th>\n",
              "    </tr>\n",
              "    <tr>\n",
              "      <th>date</th>\n",
              "      <th>5/1/2017</th>\n",
              "      <th>5/2/2017</th>\n",
              "      <th>5/1/2017</th>\n",
              "      <th>5/2/2017</th>\n",
              "    </tr>\n",
              "    <tr>\n",
              "      <th>city</th>\n",
              "      <th></th>\n",
              "      <th></th>\n",
              "      <th></th>\n",
              "      <th></th>\n",
              "    </tr>\n",
              "  </thead>\n",
              "  <tbody>\n",
              "    <tr>\n",
              "      <th>mumbai</th>\n",
              "      <td>81.5</td>\n",
              "      <td>55.5</td>\n",
              "      <td>76.5</td>\n",
              "      <td>81.0</td>\n",
              "    </tr>\n",
              "    <tr>\n",
              "      <th>new york</th>\n",
              "      <td>55.0</td>\n",
              "      <td>61.0</td>\n",
              "      <td>63.0</td>\n",
              "      <td>71.0</td>\n",
              "    </tr>\n",
              "  </tbody>\n",
              "</table>\n",
              "</div>"
            ],
            "text/plain": [
              "         humidity          temperature         \n",
              "date     5/1/2017 5/2/2017    5/1/2017 5/2/2017\n",
              "city                                           \n",
              "mumbai       81.5     55.5        76.5     81.0\n",
              "new york     55.0     61.0        63.0     71.0"
            ]
          },
          "metadata": {
            "tags": []
          },
          "execution_count": 39
        }
      ]
    },
    {
      "cell_type": "code",
      "metadata": {
        "colab": {
          "base_uri": "https://localhost:8080/",
          "height": 173
        },
        "id": "tOk7AdzYK6G5",
        "outputId": "05bd0f10-56ca-452a-c548-89b32373bd78"
      },
      "source": [
        "df.pivot_table(index=\"city\",columns=\"date\",aggfunc=\"sum\")"
      ],
      "execution_count": null,
      "outputs": [
        {
          "output_type": "execute_result",
          "data": {
            "text/html": [
              "<div>\n",
              "<style scoped>\n",
              "    .dataframe tbody tr th:only-of-type {\n",
              "        vertical-align: middle;\n",
              "    }\n",
              "\n",
              "    .dataframe tbody tr th {\n",
              "        vertical-align: top;\n",
              "    }\n",
              "\n",
              "    .dataframe thead tr th {\n",
              "        text-align: left;\n",
              "    }\n",
              "\n",
              "    .dataframe thead tr:last-of-type th {\n",
              "        text-align: right;\n",
              "    }\n",
              "</style>\n",
              "<table border=\"1\" class=\"dataframe\">\n",
              "  <thead>\n",
              "    <tr>\n",
              "      <th></th>\n",
              "      <th colspan=\"2\" halign=\"left\">humidity</th>\n",
              "      <th colspan=\"2\" halign=\"left\">temperature</th>\n",
              "    </tr>\n",
              "    <tr>\n",
              "      <th>date</th>\n",
              "      <th>5/1/2017</th>\n",
              "      <th>5/2/2017</th>\n",
              "      <th>5/1/2017</th>\n",
              "      <th>5/2/2017</th>\n",
              "    </tr>\n",
              "    <tr>\n",
              "      <th>city</th>\n",
              "      <th></th>\n",
              "      <th></th>\n",
              "      <th></th>\n",
              "      <th></th>\n",
              "    </tr>\n",
              "  </thead>\n",
              "  <tbody>\n",
              "    <tr>\n",
              "      <th>mumbai</th>\n",
              "      <td>163</td>\n",
              "      <td>111</td>\n",
              "      <td>153</td>\n",
              "      <td>162</td>\n",
              "    </tr>\n",
              "    <tr>\n",
              "      <th>new york</th>\n",
              "      <td>110</td>\n",
              "      <td>122</td>\n",
              "      <td>126</td>\n",
              "      <td>142</td>\n",
              "    </tr>\n",
              "  </tbody>\n",
              "</table>\n",
              "</div>"
            ],
            "text/plain": [
              "         humidity          temperature         \n",
              "date     5/1/2017 5/2/2017    5/1/2017 5/2/2017\n",
              "city                                           \n",
              "mumbai        163      111         153      162\n",
              "new york      110      122         126      142"
            ]
          },
          "metadata": {
            "tags": []
          },
          "execution_count": 40
        }
      ]
    },
    {
      "cell_type": "code",
      "metadata": {
        "colab": {
          "base_uri": "https://localhost:8080/",
          "height": 204
        },
        "id": "aY733leWLP70",
        "outputId": "243e3ae1-14b6-46be-ad8b-e7c201a6ebf2"
      },
      "source": [
        "import numpy as np\n",
        "df.pivot_table(index=\"city\",columns=\"date\", margins=True,aggfunc=np.sum) # \"sum\",\"diff\",\"count\",\"mean\"(default)"
      ],
      "execution_count": null,
      "outputs": [
        {
          "output_type": "execute_result",
          "data": {
            "text/html": [
              "<div>\n",
              "<style scoped>\n",
              "    .dataframe tbody tr th:only-of-type {\n",
              "        vertical-align: middle;\n",
              "    }\n",
              "\n",
              "    .dataframe tbody tr th {\n",
              "        vertical-align: top;\n",
              "    }\n",
              "\n",
              "    .dataframe thead tr th {\n",
              "        text-align: left;\n",
              "    }\n",
              "\n",
              "    .dataframe thead tr:last-of-type th {\n",
              "        text-align: right;\n",
              "    }\n",
              "</style>\n",
              "<table border=\"1\" class=\"dataframe\">\n",
              "  <thead>\n",
              "    <tr>\n",
              "      <th></th>\n",
              "      <th colspan=\"3\" halign=\"left\">humidity</th>\n",
              "      <th colspan=\"3\" halign=\"left\">temperature</th>\n",
              "    </tr>\n",
              "    <tr>\n",
              "      <th>date</th>\n",
              "      <th>5/1/2017</th>\n",
              "      <th>5/2/2017</th>\n",
              "      <th>All</th>\n",
              "      <th>5/1/2017</th>\n",
              "      <th>5/2/2017</th>\n",
              "      <th>All</th>\n",
              "    </tr>\n",
              "    <tr>\n",
              "      <th>city</th>\n",
              "      <th></th>\n",
              "      <th></th>\n",
              "      <th></th>\n",
              "      <th></th>\n",
              "      <th></th>\n",
              "      <th></th>\n",
              "    </tr>\n",
              "  </thead>\n",
              "  <tbody>\n",
              "    <tr>\n",
              "      <th>mumbai</th>\n",
              "      <td>163</td>\n",
              "      <td>111</td>\n",
              "      <td>274</td>\n",
              "      <td>153</td>\n",
              "      <td>162</td>\n",
              "      <td>315</td>\n",
              "    </tr>\n",
              "    <tr>\n",
              "      <th>new york</th>\n",
              "      <td>110</td>\n",
              "      <td>122</td>\n",
              "      <td>232</td>\n",
              "      <td>126</td>\n",
              "      <td>142</td>\n",
              "      <td>268</td>\n",
              "    </tr>\n",
              "    <tr>\n",
              "      <th>All</th>\n",
              "      <td>273</td>\n",
              "      <td>233</td>\n",
              "      <td>506</td>\n",
              "      <td>279</td>\n",
              "      <td>304</td>\n",
              "      <td>583</td>\n",
              "    </tr>\n",
              "  </tbody>\n",
              "</table>\n",
              "</div>"
            ],
            "text/plain": [
              "         humidity               temperature              \n",
              "date     5/1/2017 5/2/2017  All    5/1/2017 5/2/2017  All\n",
              "city                                                     \n",
              "mumbai        163      111  274         153      162  315\n",
              "new york      110      122  232         126      142  268\n",
              "All           273      233  506         279      304  583"
            ]
          },
          "metadata": {
            "tags": []
          },
          "execution_count": 41
        }
      ]
    },
    {
      "cell_type": "code",
      "metadata": {
        "id": "fbAlnCU8Lz3E"
      },
      "source": [
        ""
      ],
      "execution_count": null,
      "outputs": []
    },
    {
      "cell_type": "markdown",
      "metadata": {
        "id": "aYvfa7ovMGKf"
      },
      "source": [
        "#encoding categorical data"
      ]
    },
    {
      "cell_type": "code",
      "metadata": {
        "id": "rKpNFPEsMIIf"
      },
      "source": [
        "import pandas as pd"
      ],
      "execution_count": null,
      "outputs": []
    },
    {
      "cell_type": "code",
      "metadata": {
        "colab": {
          "base_uri": "https://localhost:8080/",
          "height": 275
        },
        "id": "MAUwyDhhMJzE",
        "outputId": "3d1c25a9-4bd3-460c-c9b5-86e41a41e25b"
      },
      "source": [
        "# Define the headers since the data does not have any\n",
        "headers = [\"symboling\", \"normalized_losses\", \"make\", \"fuel_type\", \"aspiration\",\n",
        "           \"num_doors\", \"body_style\", \"drive_wheels\", \"engine_location\",\n",
        "           \"wheel_base\", \"length\", \"width\", \"height\", \"curb_weight\",\n",
        "           \"engine_type\", \"num_cylinders\", \"engine_size\", \"fuel_system\",\n",
        "           \"bore\", \"stroke\", \"compression_ratio\", \"horsepower\", \"peak_rpm\",\n",
        "           \"city_mpg\", \"highway_mpg\", \"price\"]\n",
        "\n",
        "# Read in the CSV file and convert \"?\" to NaN\n",
        "df = pd.read_csv(\"https://archive.ics.uci.edu/ml/machine-learning-databases/autos/imports-85.data\",\n",
        "                  header=None, names=headers, na_values=\"?\" )\n",
        "df.head()"
      ],
      "execution_count": null,
      "outputs": [
        {
          "output_type": "execute_result",
          "data": {
            "text/html": [
              "<div>\n",
              "<style scoped>\n",
              "    .dataframe tbody tr th:only-of-type {\n",
              "        vertical-align: middle;\n",
              "    }\n",
              "\n",
              "    .dataframe tbody tr th {\n",
              "        vertical-align: top;\n",
              "    }\n",
              "\n",
              "    .dataframe thead th {\n",
              "        text-align: right;\n",
              "    }\n",
              "</style>\n",
              "<table border=\"1\" class=\"dataframe\">\n",
              "  <thead>\n",
              "    <tr style=\"text-align: right;\">\n",
              "      <th></th>\n",
              "      <th>symboling</th>\n",
              "      <th>normalized_losses</th>\n",
              "      <th>make</th>\n",
              "      <th>fuel_type</th>\n",
              "      <th>aspiration</th>\n",
              "      <th>num_doors</th>\n",
              "      <th>body_style</th>\n",
              "      <th>drive_wheels</th>\n",
              "      <th>engine_location</th>\n",
              "      <th>wheel_base</th>\n",
              "      <th>length</th>\n",
              "      <th>width</th>\n",
              "      <th>height</th>\n",
              "      <th>curb_weight</th>\n",
              "      <th>engine_type</th>\n",
              "      <th>num_cylinders</th>\n",
              "      <th>engine_size</th>\n",
              "      <th>fuel_system</th>\n",
              "      <th>bore</th>\n",
              "      <th>stroke</th>\n",
              "      <th>compression_ratio</th>\n",
              "      <th>horsepower</th>\n",
              "      <th>peak_rpm</th>\n",
              "      <th>city_mpg</th>\n",
              "      <th>highway_mpg</th>\n",
              "      <th>price</th>\n",
              "    </tr>\n",
              "  </thead>\n",
              "  <tbody>\n",
              "    <tr>\n",
              "      <th>0</th>\n",
              "      <td>3</td>\n",
              "      <td>NaN</td>\n",
              "      <td>alfa-romero</td>\n",
              "      <td>gas</td>\n",
              "      <td>std</td>\n",
              "      <td>two</td>\n",
              "      <td>convertible</td>\n",
              "      <td>rwd</td>\n",
              "      <td>front</td>\n",
              "      <td>88.6</td>\n",
              "      <td>168.8</td>\n",
              "      <td>64.1</td>\n",
              "      <td>48.8</td>\n",
              "      <td>2548</td>\n",
              "      <td>dohc</td>\n",
              "      <td>four</td>\n",
              "      <td>130</td>\n",
              "      <td>mpfi</td>\n",
              "      <td>3.47</td>\n",
              "      <td>2.68</td>\n",
              "      <td>9.0</td>\n",
              "      <td>111.0</td>\n",
              "      <td>5000.0</td>\n",
              "      <td>21</td>\n",
              "      <td>27</td>\n",
              "      <td>13495.0</td>\n",
              "    </tr>\n",
              "    <tr>\n",
              "      <th>1</th>\n",
              "      <td>3</td>\n",
              "      <td>NaN</td>\n",
              "      <td>alfa-romero</td>\n",
              "      <td>gas</td>\n",
              "      <td>std</td>\n",
              "      <td>two</td>\n",
              "      <td>convertible</td>\n",
              "      <td>rwd</td>\n",
              "      <td>front</td>\n",
              "      <td>88.6</td>\n",
              "      <td>168.8</td>\n",
              "      <td>64.1</td>\n",
              "      <td>48.8</td>\n",
              "      <td>2548</td>\n",
              "      <td>dohc</td>\n",
              "      <td>four</td>\n",
              "      <td>130</td>\n",
              "      <td>mpfi</td>\n",
              "      <td>3.47</td>\n",
              "      <td>2.68</td>\n",
              "      <td>9.0</td>\n",
              "      <td>111.0</td>\n",
              "      <td>5000.0</td>\n",
              "      <td>21</td>\n",
              "      <td>27</td>\n",
              "      <td>16500.0</td>\n",
              "    </tr>\n",
              "    <tr>\n",
              "      <th>2</th>\n",
              "      <td>1</td>\n",
              "      <td>NaN</td>\n",
              "      <td>alfa-romero</td>\n",
              "      <td>gas</td>\n",
              "      <td>std</td>\n",
              "      <td>two</td>\n",
              "      <td>hatchback</td>\n",
              "      <td>rwd</td>\n",
              "      <td>front</td>\n",
              "      <td>94.5</td>\n",
              "      <td>171.2</td>\n",
              "      <td>65.5</td>\n",
              "      <td>52.4</td>\n",
              "      <td>2823</td>\n",
              "      <td>ohcv</td>\n",
              "      <td>six</td>\n",
              "      <td>152</td>\n",
              "      <td>mpfi</td>\n",
              "      <td>2.68</td>\n",
              "      <td>3.47</td>\n",
              "      <td>9.0</td>\n",
              "      <td>154.0</td>\n",
              "      <td>5000.0</td>\n",
              "      <td>19</td>\n",
              "      <td>26</td>\n",
              "      <td>16500.0</td>\n",
              "    </tr>\n",
              "    <tr>\n",
              "      <th>3</th>\n",
              "      <td>2</td>\n",
              "      <td>164.0</td>\n",
              "      <td>audi</td>\n",
              "      <td>gas</td>\n",
              "      <td>std</td>\n",
              "      <td>four</td>\n",
              "      <td>sedan</td>\n",
              "      <td>fwd</td>\n",
              "      <td>front</td>\n",
              "      <td>99.8</td>\n",
              "      <td>176.6</td>\n",
              "      <td>66.2</td>\n",
              "      <td>54.3</td>\n",
              "      <td>2337</td>\n",
              "      <td>ohc</td>\n",
              "      <td>four</td>\n",
              "      <td>109</td>\n",
              "      <td>mpfi</td>\n",
              "      <td>3.19</td>\n",
              "      <td>3.40</td>\n",
              "      <td>10.0</td>\n",
              "      <td>102.0</td>\n",
              "      <td>5500.0</td>\n",
              "      <td>24</td>\n",
              "      <td>30</td>\n",
              "      <td>13950.0</td>\n",
              "    </tr>\n",
              "    <tr>\n",
              "      <th>4</th>\n",
              "      <td>2</td>\n",
              "      <td>164.0</td>\n",
              "      <td>audi</td>\n",
              "      <td>gas</td>\n",
              "      <td>std</td>\n",
              "      <td>four</td>\n",
              "      <td>sedan</td>\n",
              "      <td>4wd</td>\n",
              "      <td>front</td>\n",
              "      <td>99.4</td>\n",
              "      <td>176.6</td>\n",
              "      <td>66.4</td>\n",
              "      <td>54.3</td>\n",
              "      <td>2824</td>\n",
              "      <td>ohc</td>\n",
              "      <td>five</td>\n",
              "      <td>136</td>\n",
              "      <td>mpfi</td>\n",
              "      <td>3.19</td>\n",
              "      <td>3.40</td>\n",
              "      <td>8.0</td>\n",
              "      <td>115.0</td>\n",
              "      <td>5500.0</td>\n",
              "      <td>18</td>\n",
              "      <td>22</td>\n",
              "      <td>17450.0</td>\n",
              "    </tr>\n",
              "  </tbody>\n",
              "</table>\n",
              "</div>"
            ],
            "text/plain": [
              "   symboling  normalized_losses         make  ... city_mpg highway_mpg    price\n",
              "0          3                NaN  alfa-romero  ...       21          27  13495.0\n",
              "1          3                NaN  alfa-romero  ...       21          27  16500.0\n",
              "2          1                NaN  alfa-romero  ...       19          26  16500.0\n",
              "3          2              164.0         audi  ...       24          30  13950.0\n",
              "4          2              164.0         audi  ...       18          22  17450.0\n",
              "\n",
              "[5 rows x 26 columns]"
            ]
          },
          "metadata": {
            "tags": []
          },
          "execution_count": 17
        }
      ]
    },
    {
      "cell_type": "code",
      "metadata": {
        "colab": {
          "base_uri": "https://localhost:8080/"
        },
        "id": "hDoUbLwqMMEc",
        "outputId": "6f203e85-e2d8-46bf-d8a6-01da5358ff60"
      },
      "source": [
        "df.dtypes"
      ],
      "execution_count": null,
      "outputs": [
        {
          "output_type": "execute_result",
          "data": {
            "text/plain": [
              "symboling              int64\n",
              "normalized_losses    float64\n",
              "make                  object\n",
              "fuel_type             object\n",
              "aspiration            object\n",
              "num_doors             object\n",
              "body_style            object\n",
              "drive_wheels          object\n",
              "engine_location       object\n",
              "wheel_base           float64\n",
              "length               float64\n",
              "width                float64\n",
              "height               float64\n",
              "curb_weight            int64\n",
              "engine_type           object\n",
              "num_cylinders         object\n",
              "engine_size            int64\n",
              "fuel_system           object\n",
              "bore                 float64\n",
              "stroke               float64\n",
              "compression_ratio    float64\n",
              "horsepower           float64\n",
              "peak_rpm             float64\n",
              "city_mpg               int64\n",
              "highway_mpg            int64\n",
              "price                float64\n",
              "dtype: object"
            ]
          },
          "metadata": {
            "tags": []
          },
          "execution_count": 4
        }
      ]
    },
    {
      "cell_type": "code",
      "metadata": {
        "colab": {
          "base_uri": "https://localhost:8080/",
          "height": 204
        },
        "id": "FQx-dCAMMqI7",
        "outputId": "b969b446-3ba6-4f77-bad3-748d8d7e2084"
      },
      "source": [
        "obj_df = df.select_dtypes(include=['object']).copy()\n",
        "obj_df.head()"
      ],
      "execution_count": null,
      "outputs": [
        {
          "output_type": "execute_result",
          "data": {
            "text/html": [
              "<div>\n",
              "<style scoped>\n",
              "    .dataframe tbody tr th:only-of-type {\n",
              "        vertical-align: middle;\n",
              "    }\n",
              "\n",
              "    .dataframe tbody tr th {\n",
              "        vertical-align: top;\n",
              "    }\n",
              "\n",
              "    .dataframe thead th {\n",
              "        text-align: right;\n",
              "    }\n",
              "</style>\n",
              "<table border=\"1\" class=\"dataframe\">\n",
              "  <thead>\n",
              "    <tr style=\"text-align: right;\">\n",
              "      <th></th>\n",
              "      <th>make</th>\n",
              "      <th>fuel_type</th>\n",
              "      <th>aspiration</th>\n",
              "      <th>num_doors</th>\n",
              "      <th>body_style</th>\n",
              "      <th>drive_wheels</th>\n",
              "      <th>engine_location</th>\n",
              "      <th>engine_type</th>\n",
              "      <th>num_cylinders</th>\n",
              "      <th>fuel_system</th>\n",
              "    </tr>\n",
              "  </thead>\n",
              "  <tbody>\n",
              "    <tr>\n",
              "      <th>0</th>\n",
              "      <td>alfa-romero</td>\n",
              "      <td>gas</td>\n",
              "      <td>std</td>\n",
              "      <td>two</td>\n",
              "      <td>convertible</td>\n",
              "      <td>rwd</td>\n",
              "      <td>front</td>\n",
              "      <td>dohc</td>\n",
              "      <td>four</td>\n",
              "      <td>mpfi</td>\n",
              "    </tr>\n",
              "    <tr>\n",
              "      <th>1</th>\n",
              "      <td>alfa-romero</td>\n",
              "      <td>gas</td>\n",
              "      <td>std</td>\n",
              "      <td>two</td>\n",
              "      <td>convertible</td>\n",
              "      <td>rwd</td>\n",
              "      <td>front</td>\n",
              "      <td>dohc</td>\n",
              "      <td>four</td>\n",
              "      <td>mpfi</td>\n",
              "    </tr>\n",
              "    <tr>\n",
              "      <th>2</th>\n",
              "      <td>alfa-romero</td>\n",
              "      <td>gas</td>\n",
              "      <td>std</td>\n",
              "      <td>two</td>\n",
              "      <td>hatchback</td>\n",
              "      <td>rwd</td>\n",
              "      <td>front</td>\n",
              "      <td>ohcv</td>\n",
              "      <td>six</td>\n",
              "      <td>mpfi</td>\n",
              "    </tr>\n",
              "    <tr>\n",
              "      <th>3</th>\n",
              "      <td>audi</td>\n",
              "      <td>gas</td>\n",
              "      <td>std</td>\n",
              "      <td>four</td>\n",
              "      <td>sedan</td>\n",
              "      <td>fwd</td>\n",
              "      <td>front</td>\n",
              "      <td>ohc</td>\n",
              "      <td>four</td>\n",
              "      <td>mpfi</td>\n",
              "    </tr>\n",
              "    <tr>\n",
              "      <th>4</th>\n",
              "      <td>audi</td>\n",
              "      <td>gas</td>\n",
              "      <td>std</td>\n",
              "      <td>four</td>\n",
              "      <td>sedan</td>\n",
              "      <td>4wd</td>\n",
              "      <td>front</td>\n",
              "      <td>ohc</td>\n",
              "      <td>five</td>\n",
              "      <td>mpfi</td>\n",
              "    </tr>\n",
              "  </tbody>\n",
              "</table>\n",
              "</div>"
            ],
            "text/plain": [
              "          make fuel_type aspiration  ... engine_type num_cylinders fuel_system\n",
              "0  alfa-romero       gas        std  ...        dohc          four        mpfi\n",
              "1  alfa-romero       gas        std  ...        dohc          four        mpfi\n",
              "2  alfa-romero       gas        std  ...        ohcv           six        mpfi\n",
              "3         audi       gas        std  ...         ohc          four        mpfi\n",
              "4         audi       gas        std  ...         ohc          five        mpfi\n",
              "\n",
              "[5 rows x 10 columns]"
            ]
          },
          "metadata": {
            "tags": []
          },
          "execution_count": 18
        }
      ]
    },
    {
      "cell_type": "code",
      "metadata": {
        "colab": {
          "base_uri": "https://localhost:8080/"
        },
        "id": "IUwAM_d8M7lY",
        "outputId": "3c714a03-d438-4e4d-c514-996822f04b80"
      },
      "source": [
        "obj_df.isnull().sum()"
      ],
      "execution_count": null,
      "outputs": [
        {
          "output_type": "execute_result",
          "data": {
            "text/plain": [
              "make               0\n",
              "fuel_type          0\n",
              "aspiration         0\n",
              "num_doors          2\n",
              "body_style         0\n",
              "drive_wheels       0\n",
              "engine_location    0\n",
              "engine_type        0\n",
              "num_cylinders      0\n",
              "fuel_system        0\n",
              "dtype: int64"
            ]
          },
          "metadata": {
            "tags": []
          },
          "execution_count": 6
        }
      ]
    },
    {
      "cell_type": "code",
      "metadata": {
        "colab": {
          "base_uri": "https://localhost:8080/"
        },
        "id": "MKRcI8JzNRCc",
        "outputId": "858a5018-6568-484a-8fd7-2f7a56e11287"
      },
      "source": [
        "obj_df['num_doors'].value_counts()"
      ],
      "execution_count": null,
      "outputs": [
        {
          "output_type": "execute_result",
          "data": {
            "text/plain": [
              "four    114\n",
              "two      89\n",
              "Name: num_doors, dtype: int64"
            ]
          },
          "metadata": {
            "tags": []
          },
          "execution_count": 7
        }
      ]
    },
    {
      "cell_type": "code",
      "metadata": {
        "id": "dKFXdtgXNjJR"
      },
      "source": [
        "obj_df=obj_df.fillna({\"num_doors\":\"four\"})"
      ],
      "execution_count": null,
      "outputs": []
    },
    {
      "cell_type": "code",
      "metadata": {
        "colab": {
          "base_uri": "https://localhost:8080/"
        },
        "id": "i_x90NUUN_BS",
        "outputId": "b0e0de7f-a031-433c-e5f9-a7a4af260602"
      },
      "source": [
        "obj_df.isnull().sum()"
      ],
      "execution_count": null,
      "outputs": [
        {
          "output_type": "execute_result",
          "data": {
            "text/plain": [
              "make               0\n",
              "fuel_type          0\n",
              "aspiration         0\n",
              "num_doors          0\n",
              "body_style         0\n",
              "drive_wheels       0\n",
              "engine_location    0\n",
              "engine_type        0\n",
              "num_cylinders      0\n",
              "fuel_system        0\n",
              "dtype: int64"
            ]
          },
          "metadata": {
            "tags": []
          },
          "execution_count": 24
        }
      ]
    },
    {
      "cell_type": "markdown",
      "metadata": {
        "id": "z5pGvCVkO0Pn"
      },
      "source": [
        "# Approach 1 - Find and Replace"
      ]
    },
    {
      "cell_type": "code",
      "metadata": {
        "colab": {
          "base_uri": "https://localhost:8080/"
        },
        "id": "_aMyfTPuOE5C",
        "outputId": "0ee62b87-b21c-4728-da3a-70fa30279e60"
      },
      "source": [
        "obj_df[\"num_cylinders\"].value_counts()"
      ],
      "execution_count": null,
      "outputs": [
        {
          "output_type": "execute_result",
          "data": {
            "text/plain": [
              "four      159\n",
              "six        24\n",
              "five       11\n",
              "eight       5\n",
              "two         4\n",
              "three       1\n",
              "twelve      1\n",
              "Name: num_cylinders, dtype: int64"
            ]
          },
          "metadata": {
            "tags": []
          },
          "execution_count": 25
        }
      ]
    },
    {
      "cell_type": "code",
      "metadata": {
        "id": "66sRfs4tOy3x"
      },
      "source": [
        "clean_df={\"num_doors\":{\"four\":4,\"two\":2},\n",
        "          \"num_cylinders\":{\"four\":4,\"six\":6,\"five\":5,\"eight\":8,\"two\":2,\"three\":3,\"twelve\":12}}"
      ],
      "execution_count": null,
      "outputs": []
    },
    {
      "cell_type": "code",
      "metadata": {
        "id": "nj_-7OqYPb2d"
      },
      "source": [
        "obj_df.replace(clean_df,inplace=True)"
      ],
      "execution_count": null,
      "outputs": []
    },
    {
      "cell_type": "code",
      "metadata": {
        "colab": {
          "base_uri": "https://localhost:8080/",
          "height": 204
        },
        "id": "D_8RNIx1Pn94",
        "outputId": "1f76ce02-5939-4cc5-ce6e-e668fc26e973"
      },
      "source": [
        "obj_df.head()"
      ],
      "execution_count": null,
      "outputs": [
        {
          "output_type": "execute_result",
          "data": {
            "text/html": [
              "<div>\n",
              "<style scoped>\n",
              "    .dataframe tbody tr th:only-of-type {\n",
              "        vertical-align: middle;\n",
              "    }\n",
              "\n",
              "    .dataframe tbody tr th {\n",
              "        vertical-align: top;\n",
              "    }\n",
              "\n",
              "    .dataframe thead th {\n",
              "        text-align: right;\n",
              "    }\n",
              "</style>\n",
              "<table border=\"1\" class=\"dataframe\">\n",
              "  <thead>\n",
              "    <tr style=\"text-align: right;\">\n",
              "      <th></th>\n",
              "      <th>make</th>\n",
              "      <th>fuel_type</th>\n",
              "      <th>aspiration</th>\n",
              "      <th>num_doors</th>\n",
              "      <th>body_style</th>\n",
              "      <th>drive_wheels</th>\n",
              "      <th>engine_location</th>\n",
              "      <th>engine_type</th>\n",
              "      <th>num_cylinders</th>\n",
              "      <th>fuel_system</th>\n",
              "    </tr>\n",
              "  </thead>\n",
              "  <tbody>\n",
              "    <tr>\n",
              "      <th>0</th>\n",
              "      <td>alfa-romero</td>\n",
              "      <td>gas</td>\n",
              "      <td>std</td>\n",
              "      <td>2</td>\n",
              "      <td>convertible</td>\n",
              "      <td>rwd</td>\n",
              "      <td>front</td>\n",
              "      <td>dohc</td>\n",
              "      <td>4</td>\n",
              "      <td>mpfi</td>\n",
              "    </tr>\n",
              "    <tr>\n",
              "      <th>1</th>\n",
              "      <td>alfa-romero</td>\n",
              "      <td>gas</td>\n",
              "      <td>std</td>\n",
              "      <td>2</td>\n",
              "      <td>convertible</td>\n",
              "      <td>rwd</td>\n",
              "      <td>front</td>\n",
              "      <td>dohc</td>\n",
              "      <td>4</td>\n",
              "      <td>mpfi</td>\n",
              "    </tr>\n",
              "    <tr>\n",
              "      <th>2</th>\n",
              "      <td>alfa-romero</td>\n",
              "      <td>gas</td>\n",
              "      <td>std</td>\n",
              "      <td>2</td>\n",
              "      <td>hatchback</td>\n",
              "      <td>rwd</td>\n",
              "      <td>front</td>\n",
              "      <td>ohcv</td>\n",
              "      <td>6</td>\n",
              "      <td>mpfi</td>\n",
              "    </tr>\n",
              "    <tr>\n",
              "      <th>3</th>\n",
              "      <td>audi</td>\n",
              "      <td>gas</td>\n",
              "      <td>std</td>\n",
              "      <td>4</td>\n",
              "      <td>sedan</td>\n",
              "      <td>fwd</td>\n",
              "      <td>front</td>\n",
              "      <td>ohc</td>\n",
              "      <td>4</td>\n",
              "      <td>mpfi</td>\n",
              "    </tr>\n",
              "    <tr>\n",
              "      <th>4</th>\n",
              "      <td>audi</td>\n",
              "      <td>gas</td>\n",
              "      <td>std</td>\n",
              "      <td>4</td>\n",
              "      <td>sedan</td>\n",
              "      <td>4wd</td>\n",
              "      <td>front</td>\n",
              "      <td>ohc</td>\n",
              "      <td>5</td>\n",
              "      <td>mpfi</td>\n",
              "    </tr>\n",
              "  </tbody>\n",
              "</table>\n",
              "</div>"
            ],
            "text/plain": [
              "          make fuel_type aspiration  ...  engine_type num_cylinders fuel_system\n",
              "0  alfa-romero       gas        std  ...         dohc             4        mpfi\n",
              "1  alfa-romero       gas        std  ...         dohc             4        mpfi\n",
              "2  alfa-romero       gas        std  ...         ohcv             6        mpfi\n",
              "3         audi       gas        std  ...          ohc             4        mpfi\n",
              "4         audi       gas        std  ...          ohc             5        mpfi\n",
              "\n",
              "[5 rows x 10 columns]"
            ]
          },
          "metadata": {
            "tags": []
          },
          "execution_count": 28
        }
      ]
    },
    {
      "cell_type": "code",
      "metadata": {
        "colab": {
          "base_uri": "https://localhost:8080/"
        },
        "id": "IjxOGitSPqCv",
        "outputId": "d0fa2d7b-ebf1-4185-b9d0-5bafb511a95e"
      },
      "source": [
        "obj_df.dtypes"
      ],
      "execution_count": null,
      "outputs": [
        {
          "output_type": "execute_result",
          "data": {
            "text/plain": [
              "make               object\n",
              "fuel_type          object\n",
              "aspiration         object\n",
              "num_doors           int64\n",
              "body_style         object\n",
              "drive_wheels       object\n",
              "engine_location    object\n",
              "engine_type        object\n",
              "num_cylinders       int64\n",
              "fuel_system        object\n",
              "dtype: object"
            ]
          },
          "metadata": {
            "tags": []
          },
          "execution_count": 29
        }
      ]
    },
    {
      "cell_type": "markdown",
      "metadata": {
        "id": "8qIBpGuoQMoU"
      },
      "source": [
        "# label encoder"
      ]
    },
    {
      "cell_type": "code",
      "metadata": {
        "id": "vMSQfUxvPt2i"
      },
      "source": [
        "obj_df[\"body_style\"]=obj_df[\"body_style\"].astype(\"category\")"
      ],
      "execution_count": null,
      "outputs": []
    },
    {
      "cell_type": "code",
      "metadata": {
        "id": "LpEDwxoiQzp_"
      },
      "source": [
        "obj_df[\"body_style_cat\"]=obj_df[\"body_style\"].cat.codes"
      ],
      "execution_count": null,
      "outputs": []
    },
    {
      "cell_type": "code",
      "metadata": {
        "colab": {
          "base_uri": "https://localhost:8080/",
          "height": 204
        },
        "id": "x-45FLsgQ_JD",
        "outputId": "f926a070-81e9-486d-879e-f7c3399a388d"
      },
      "source": [
        "obj_df.head()"
      ],
      "execution_count": null,
      "outputs": [
        {
          "output_type": "execute_result",
          "data": {
            "text/html": [
              "<div>\n",
              "<style scoped>\n",
              "    .dataframe tbody tr th:only-of-type {\n",
              "        vertical-align: middle;\n",
              "    }\n",
              "\n",
              "    .dataframe tbody tr th {\n",
              "        vertical-align: top;\n",
              "    }\n",
              "\n",
              "    .dataframe thead th {\n",
              "        text-align: right;\n",
              "    }\n",
              "</style>\n",
              "<table border=\"1\" class=\"dataframe\">\n",
              "  <thead>\n",
              "    <tr style=\"text-align: right;\">\n",
              "      <th></th>\n",
              "      <th>make</th>\n",
              "      <th>fuel_type</th>\n",
              "      <th>aspiration</th>\n",
              "      <th>num_doors</th>\n",
              "      <th>body_style</th>\n",
              "      <th>drive_wheels</th>\n",
              "      <th>engine_location</th>\n",
              "      <th>engine_type</th>\n",
              "      <th>num_cylinders</th>\n",
              "      <th>fuel_system</th>\n",
              "      <th>body_style_cat</th>\n",
              "    </tr>\n",
              "  </thead>\n",
              "  <tbody>\n",
              "    <tr>\n",
              "      <th>0</th>\n",
              "      <td>alfa-romero</td>\n",
              "      <td>gas</td>\n",
              "      <td>std</td>\n",
              "      <td>2</td>\n",
              "      <td>convertible</td>\n",
              "      <td>rwd</td>\n",
              "      <td>front</td>\n",
              "      <td>dohc</td>\n",
              "      <td>4</td>\n",
              "      <td>mpfi</td>\n",
              "      <td>0</td>\n",
              "    </tr>\n",
              "    <tr>\n",
              "      <th>1</th>\n",
              "      <td>alfa-romero</td>\n",
              "      <td>gas</td>\n",
              "      <td>std</td>\n",
              "      <td>2</td>\n",
              "      <td>convertible</td>\n",
              "      <td>rwd</td>\n",
              "      <td>front</td>\n",
              "      <td>dohc</td>\n",
              "      <td>4</td>\n",
              "      <td>mpfi</td>\n",
              "      <td>0</td>\n",
              "    </tr>\n",
              "    <tr>\n",
              "      <th>2</th>\n",
              "      <td>alfa-romero</td>\n",
              "      <td>gas</td>\n",
              "      <td>std</td>\n",
              "      <td>2</td>\n",
              "      <td>hatchback</td>\n",
              "      <td>rwd</td>\n",
              "      <td>front</td>\n",
              "      <td>ohcv</td>\n",
              "      <td>6</td>\n",
              "      <td>mpfi</td>\n",
              "      <td>2</td>\n",
              "    </tr>\n",
              "    <tr>\n",
              "      <th>3</th>\n",
              "      <td>audi</td>\n",
              "      <td>gas</td>\n",
              "      <td>std</td>\n",
              "      <td>4</td>\n",
              "      <td>sedan</td>\n",
              "      <td>fwd</td>\n",
              "      <td>front</td>\n",
              "      <td>ohc</td>\n",
              "      <td>4</td>\n",
              "      <td>mpfi</td>\n",
              "      <td>3</td>\n",
              "    </tr>\n",
              "    <tr>\n",
              "      <th>4</th>\n",
              "      <td>audi</td>\n",
              "      <td>gas</td>\n",
              "      <td>std</td>\n",
              "      <td>4</td>\n",
              "      <td>sedan</td>\n",
              "      <td>4wd</td>\n",
              "      <td>front</td>\n",
              "      <td>ohc</td>\n",
              "      <td>5</td>\n",
              "      <td>mpfi</td>\n",
              "      <td>3</td>\n",
              "    </tr>\n",
              "  </tbody>\n",
              "</table>\n",
              "</div>"
            ],
            "text/plain": [
              "          make fuel_type aspiration  ...  num_cylinders fuel_system body_style_cat\n",
              "0  alfa-romero       gas        std  ...              4        mpfi              0\n",
              "1  alfa-romero       gas        std  ...              4        mpfi              0\n",
              "2  alfa-romero       gas        std  ...              6        mpfi              2\n",
              "3         audi       gas        std  ...              4        mpfi              3\n",
              "4         audi       gas        std  ...              5        mpfi              3\n",
              "\n",
              "[5 rows x 11 columns]"
            ]
          },
          "metadata": {
            "tags": []
          },
          "execution_count": 32
        }
      ]
    },
    {
      "cell_type": "markdown",
      "metadata": {
        "id": "M2XS41mLRp9a"
      },
      "source": [
        "#one hot encoder"
      ]
    },
    {
      "cell_type": "code",
      "metadata": {
        "colab": {
          "base_uri": "https://localhost:8080/"
        },
        "id": "Zv_UAptaSjps",
        "outputId": "997ba5f6-9e9c-4b71-a48b-40ac91dfe0b4"
      },
      "source": [
        "obj_df[\"drive_wheels\"].value_counts()"
      ],
      "execution_count": null,
      "outputs": [
        {
          "output_type": "execute_result",
          "data": {
            "text/plain": [
              "fwd    120\n",
              "rwd     76\n",
              "4wd      9\n",
              "Name: drive_wheels, dtype: int64"
            ]
          },
          "metadata": {
            "tags": []
          },
          "execution_count": 34
        }
      ]
    },
    {
      "cell_type": "code",
      "metadata": {
        "colab": {
          "base_uri": "https://localhost:8080/",
          "height": 275
        },
        "id": "B77Nx6PvRRSe",
        "outputId": "6080db7b-8249-4fec-a883-cca5d61fab59"
      },
      "source": [
        "pd.get_dummies(obj_df, columns=[\"drive_wheels\"]).head()"
      ],
      "execution_count": null,
      "outputs": [
        {
          "output_type": "execute_result",
          "data": {
            "text/html": [
              "<div>\n",
              "<style scoped>\n",
              "    .dataframe tbody tr th:only-of-type {\n",
              "        vertical-align: middle;\n",
              "    }\n",
              "\n",
              "    .dataframe tbody tr th {\n",
              "        vertical-align: top;\n",
              "    }\n",
              "\n",
              "    .dataframe thead th {\n",
              "        text-align: right;\n",
              "    }\n",
              "</style>\n",
              "<table border=\"1\" class=\"dataframe\">\n",
              "  <thead>\n",
              "    <tr style=\"text-align: right;\">\n",
              "      <th></th>\n",
              "      <th>make</th>\n",
              "      <th>fuel_type</th>\n",
              "      <th>aspiration</th>\n",
              "      <th>num_doors</th>\n",
              "      <th>body_style</th>\n",
              "      <th>engine_location</th>\n",
              "      <th>engine_type</th>\n",
              "      <th>num_cylinders</th>\n",
              "      <th>fuel_system</th>\n",
              "      <th>body_style_cat</th>\n",
              "      <th>drive_wheels_4wd</th>\n",
              "      <th>drive_wheels_fwd</th>\n",
              "      <th>drive_wheels_rwd</th>\n",
              "    </tr>\n",
              "  </thead>\n",
              "  <tbody>\n",
              "    <tr>\n",
              "      <th>0</th>\n",
              "      <td>alfa-romero</td>\n",
              "      <td>gas</td>\n",
              "      <td>std</td>\n",
              "      <td>2</td>\n",
              "      <td>convertible</td>\n",
              "      <td>front</td>\n",
              "      <td>dohc</td>\n",
              "      <td>4</td>\n",
              "      <td>mpfi</td>\n",
              "      <td>0</td>\n",
              "      <td>0</td>\n",
              "      <td>0</td>\n",
              "      <td>1</td>\n",
              "    </tr>\n",
              "    <tr>\n",
              "      <th>1</th>\n",
              "      <td>alfa-romero</td>\n",
              "      <td>gas</td>\n",
              "      <td>std</td>\n",
              "      <td>2</td>\n",
              "      <td>convertible</td>\n",
              "      <td>front</td>\n",
              "      <td>dohc</td>\n",
              "      <td>4</td>\n",
              "      <td>mpfi</td>\n",
              "      <td>0</td>\n",
              "      <td>0</td>\n",
              "      <td>0</td>\n",
              "      <td>1</td>\n",
              "    </tr>\n",
              "    <tr>\n",
              "      <th>2</th>\n",
              "      <td>alfa-romero</td>\n",
              "      <td>gas</td>\n",
              "      <td>std</td>\n",
              "      <td>2</td>\n",
              "      <td>hatchback</td>\n",
              "      <td>front</td>\n",
              "      <td>ohcv</td>\n",
              "      <td>6</td>\n",
              "      <td>mpfi</td>\n",
              "      <td>2</td>\n",
              "      <td>0</td>\n",
              "      <td>0</td>\n",
              "      <td>1</td>\n",
              "    </tr>\n",
              "    <tr>\n",
              "      <th>3</th>\n",
              "      <td>audi</td>\n",
              "      <td>gas</td>\n",
              "      <td>std</td>\n",
              "      <td>4</td>\n",
              "      <td>sedan</td>\n",
              "      <td>front</td>\n",
              "      <td>ohc</td>\n",
              "      <td>4</td>\n",
              "      <td>mpfi</td>\n",
              "      <td>3</td>\n",
              "      <td>0</td>\n",
              "      <td>1</td>\n",
              "      <td>0</td>\n",
              "    </tr>\n",
              "    <tr>\n",
              "      <th>4</th>\n",
              "      <td>audi</td>\n",
              "      <td>gas</td>\n",
              "      <td>std</td>\n",
              "      <td>4</td>\n",
              "      <td>sedan</td>\n",
              "      <td>front</td>\n",
              "      <td>ohc</td>\n",
              "      <td>5</td>\n",
              "      <td>mpfi</td>\n",
              "      <td>3</td>\n",
              "      <td>1</td>\n",
              "      <td>0</td>\n",
              "      <td>0</td>\n",
              "    </tr>\n",
              "  </tbody>\n",
              "</table>\n",
              "</div>"
            ],
            "text/plain": [
              "          make fuel_type  ... drive_wheels_fwd  drive_wheels_rwd\n",
              "0  alfa-romero       gas  ...                0                 1\n",
              "1  alfa-romero       gas  ...                0                 1\n",
              "2  alfa-romero       gas  ...                0                 1\n",
              "3         audi       gas  ...                1                 0\n",
              "4         audi       gas  ...                0                 0\n",
              "\n",
              "[5 rows x 13 columns]"
            ]
          },
          "metadata": {
            "tags": []
          },
          "execution_count": 35
        }
      ]
    },
    {
      "cell_type": "code",
      "metadata": {
        "colab": {
          "base_uri": "https://localhost:8080/",
          "height": 275
        },
        "id": "UH10z8XBSu0F",
        "outputId": "c0e2f323-6411-4a89-e228-b0e74844f086"
      },
      "source": [
        "pd.get_dummies(obj_df, columns=[\"body_style\", \"drive_wheels\"], prefix=[\"body\", \"drive\"]).head()"
      ],
      "execution_count": null,
      "outputs": [
        {
          "output_type": "execute_result",
          "data": {
            "text/html": [
              "<div>\n",
              "<style scoped>\n",
              "    .dataframe tbody tr th:only-of-type {\n",
              "        vertical-align: middle;\n",
              "    }\n",
              "\n",
              "    .dataframe tbody tr th {\n",
              "        vertical-align: top;\n",
              "    }\n",
              "\n",
              "    .dataframe thead th {\n",
              "        text-align: right;\n",
              "    }\n",
              "</style>\n",
              "<table border=\"1\" class=\"dataframe\">\n",
              "  <thead>\n",
              "    <tr style=\"text-align: right;\">\n",
              "      <th></th>\n",
              "      <th>make</th>\n",
              "      <th>fuel_type</th>\n",
              "      <th>aspiration</th>\n",
              "      <th>num_doors</th>\n",
              "      <th>engine_location</th>\n",
              "      <th>engine_type</th>\n",
              "      <th>num_cylinders</th>\n",
              "      <th>fuel_system</th>\n",
              "      <th>body_style_cat</th>\n",
              "      <th>body_convertible</th>\n",
              "      <th>body_hardtop</th>\n",
              "      <th>body_hatchback</th>\n",
              "      <th>body_sedan</th>\n",
              "      <th>body_wagon</th>\n",
              "      <th>drive_4wd</th>\n",
              "      <th>drive_fwd</th>\n",
              "      <th>drive_rwd</th>\n",
              "    </tr>\n",
              "  </thead>\n",
              "  <tbody>\n",
              "    <tr>\n",
              "      <th>0</th>\n",
              "      <td>alfa-romero</td>\n",
              "      <td>gas</td>\n",
              "      <td>std</td>\n",
              "      <td>2</td>\n",
              "      <td>front</td>\n",
              "      <td>dohc</td>\n",
              "      <td>4</td>\n",
              "      <td>mpfi</td>\n",
              "      <td>0</td>\n",
              "      <td>1</td>\n",
              "      <td>0</td>\n",
              "      <td>0</td>\n",
              "      <td>0</td>\n",
              "      <td>0</td>\n",
              "      <td>0</td>\n",
              "      <td>0</td>\n",
              "      <td>1</td>\n",
              "    </tr>\n",
              "    <tr>\n",
              "      <th>1</th>\n",
              "      <td>alfa-romero</td>\n",
              "      <td>gas</td>\n",
              "      <td>std</td>\n",
              "      <td>2</td>\n",
              "      <td>front</td>\n",
              "      <td>dohc</td>\n",
              "      <td>4</td>\n",
              "      <td>mpfi</td>\n",
              "      <td>0</td>\n",
              "      <td>1</td>\n",
              "      <td>0</td>\n",
              "      <td>0</td>\n",
              "      <td>0</td>\n",
              "      <td>0</td>\n",
              "      <td>0</td>\n",
              "      <td>0</td>\n",
              "      <td>1</td>\n",
              "    </tr>\n",
              "    <tr>\n",
              "      <th>2</th>\n",
              "      <td>alfa-romero</td>\n",
              "      <td>gas</td>\n",
              "      <td>std</td>\n",
              "      <td>2</td>\n",
              "      <td>front</td>\n",
              "      <td>ohcv</td>\n",
              "      <td>6</td>\n",
              "      <td>mpfi</td>\n",
              "      <td>2</td>\n",
              "      <td>0</td>\n",
              "      <td>0</td>\n",
              "      <td>1</td>\n",
              "      <td>0</td>\n",
              "      <td>0</td>\n",
              "      <td>0</td>\n",
              "      <td>0</td>\n",
              "      <td>1</td>\n",
              "    </tr>\n",
              "    <tr>\n",
              "      <th>3</th>\n",
              "      <td>audi</td>\n",
              "      <td>gas</td>\n",
              "      <td>std</td>\n",
              "      <td>4</td>\n",
              "      <td>front</td>\n",
              "      <td>ohc</td>\n",
              "      <td>4</td>\n",
              "      <td>mpfi</td>\n",
              "      <td>3</td>\n",
              "      <td>0</td>\n",
              "      <td>0</td>\n",
              "      <td>0</td>\n",
              "      <td>1</td>\n",
              "      <td>0</td>\n",
              "      <td>0</td>\n",
              "      <td>1</td>\n",
              "      <td>0</td>\n",
              "    </tr>\n",
              "    <tr>\n",
              "      <th>4</th>\n",
              "      <td>audi</td>\n",
              "      <td>gas</td>\n",
              "      <td>std</td>\n",
              "      <td>4</td>\n",
              "      <td>front</td>\n",
              "      <td>ohc</td>\n",
              "      <td>5</td>\n",
              "      <td>mpfi</td>\n",
              "      <td>3</td>\n",
              "      <td>0</td>\n",
              "      <td>0</td>\n",
              "      <td>0</td>\n",
              "      <td>1</td>\n",
              "      <td>0</td>\n",
              "      <td>1</td>\n",
              "      <td>0</td>\n",
              "      <td>0</td>\n",
              "    </tr>\n",
              "  </tbody>\n",
              "</table>\n",
              "</div>"
            ],
            "text/plain": [
              "          make fuel_type aspiration  ...  drive_4wd drive_fwd drive_rwd\n",
              "0  alfa-romero       gas        std  ...          0         0         1\n",
              "1  alfa-romero       gas        std  ...          0         0         1\n",
              "2  alfa-romero       gas        std  ...          0         0         1\n",
              "3         audi       gas        std  ...          0         1         0\n",
              "4         audi       gas        std  ...          1         0         0\n",
              "\n",
              "[5 rows x 17 columns]"
            ]
          },
          "metadata": {
            "tags": []
          },
          "execution_count": 36
        }
      ]
    },
    {
      "cell_type": "markdown",
      "metadata": {
        "id": "TK8A0IzZT2P2"
      },
      "source": [
        "# Custom encoding"
      ]
    },
    {
      "cell_type": "code",
      "metadata": {
        "colab": {
          "base_uri": "https://localhost:8080/"
        },
        "id": "Uu7_eJ7DTr-b",
        "outputId": "ef028341-ffe7-45e0-ab0a-8efdb728dcf4"
      },
      "source": [
        "obj_df[\"engine_type\"].value_counts()"
      ],
      "execution_count": null,
      "outputs": [
        {
          "output_type": "execute_result",
          "data": {
            "text/plain": [
              "ohc      148\n",
              "ohcf      15\n",
              "ohcv      13\n",
              "l         12\n",
              "dohc      12\n",
              "rotor      4\n",
              "dohcv      1\n",
              "Name: engine_type, dtype: int64"
            ]
          },
          "metadata": {
            "tags": []
          },
          "execution_count": 37
        }
      ]
    },
    {
      "cell_type": "code",
      "metadata": {
        "id": "WEIoaPEGUm0P"
      },
      "source": [
        "import numpy as np\n",
        "\n",
        "obj_df[\"OHC_Code\"] = np.where(obj_df[\"engine_type\"].str.contains(\"ohc\"), 1, 0)"
      ],
      "execution_count": null,
      "outputs": []
    },
    {
      "cell_type": "code",
      "metadata": {
        "colab": {
          "base_uri": "https://localhost:8080/"
        },
        "id": "DWFkcH97VKDa",
        "outputId": "d43e4594-d707-46b8-8cd0-d47d16a6646a"
      },
      "source": [
        "obj_df[\"OHC_Code\"].head(20)"
      ],
      "execution_count": null,
      "outputs": [
        {
          "output_type": "execute_result",
          "data": {
            "text/plain": [
              "0     1\n",
              "1     1\n",
              "2     1\n",
              "3     1\n",
              "4     1\n",
              "5     1\n",
              "6     1\n",
              "7     1\n",
              "8     1\n",
              "9     1\n",
              "10    1\n",
              "11    1\n",
              "12    1\n",
              "13    1\n",
              "14    1\n",
              "15    1\n",
              "16    1\n",
              "17    1\n",
              "18    0\n",
              "19    1\n",
              "Name: OHC_Code, dtype: int64"
            ]
          },
          "metadata": {
            "tags": []
          },
          "execution_count": 40
        }
      ]
    },
    {
      "cell_type": "markdown",
      "metadata": {
        "id": "p1st6nsHVcan"
      },
      "source": [
        "# SKlearn - scikit learn"
      ]
    },
    {
      "cell_type": "code",
      "metadata": {
        "colab": {
          "base_uri": "https://localhost:8080/",
          "height": 390
        },
        "id": "-WQ3iCKZVPct",
        "outputId": "4157e68f-ba00-4b51-ec8e-9fa6872701a0"
      },
      "source": [
        "from sklearn.preprocessing import LabelEncoder\n",
        "\n",
        "lb_make = LabelEncoder()\n",
        "obj_df[\"make_code\"] = lb_make.fit_transform(obj_df[\"make\"])\n",
        "obj_df[[\"make\", \"make_code\"]].head(11)"
      ],
      "execution_count": null,
      "outputs": [
        {
          "output_type": "execute_result",
          "data": {
            "text/html": [
              "<div>\n",
              "<style scoped>\n",
              "    .dataframe tbody tr th:only-of-type {\n",
              "        vertical-align: middle;\n",
              "    }\n",
              "\n",
              "    .dataframe tbody tr th {\n",
              "        vertical-align: top;\n",
              "    }\n",
              "\n",
              "    .dataframe thead th {\n",
              "        text-align: right;\n",
              "    }\n",
              "</style>\n",
              "<table border=\"1\" class=\"dataframe\">\n",
              "  <thead>\n",
              "    <tr style=\"text-align: right;\">\n",
              "      <th></th>\n",
              "      <th>make</th>\n",
              "      <th>make_code</th>\n",
              "    </tr>\n",
              "  </thead>\n",
              "  <tbody>\n",
              "    <tr>\n",
              "      <th>0</th>\n",
              "      <td>alfa-romero</td>\n",
              "      <td>0</td>\n",
              "    </tr>\n",
              "    <tr>\n",
              "      <th>1</th>\n",
              "      <td>alfa-romero</td>\n",
              "      <td>0</td>\n",
              "    </tr>\n",
              "    <tr>\n",
              "      <th>2</th>\n",
              "      <td>alfa-romero</td>\n",
              "      <td>0</td>\n",
              "    </tr>\n",
              "    <tr>\n",
              "      <th>3</th>\n",
              "      <td>audi</td>\n",
              "      <td>1</td>\n",
              "    </tr>\n",
              "    <tr>\n",
              "      <th>4</th>\n",
              "      <td>audi</td>\n",
              "      <td>1</td>\n",
              "    </tr>\n",
              "    <tr>\n",
              "      <th>5</th>\n",
              "      <td>audi</td>\n",
              "      <td>1</td>\n",
              "    </tr>\n",
              "    <tr>\n",
              "      <th>6</th>\n",
              "      <td>audi</td>\n",
              "      <td>1</td>\n",
              "    </tr>\n",
              "    <tr>\n",
              "      <th>7</th>\n",
              "      <td>audi</td>\n",
              "      <td>1</td>\n",
              "    </tr>\n",
              "    <tr>\n",
              "      <th>8</th>\n",
              "      <td>audi</td>\n",
              "      <td>1</td>\n",
              "    </tr>\n",
              "    <tr>\n",
              "      <th>9</th>\n",
              "      <td>audi</td>\n",
              "      <td>1</td>\n",
              "    </tr>\n",
              "    <tr>\n",
              "      <th>10</th>\n",
              "      <td>bmw</td>\n",
              "      <td>2</td>\n",
              "    </tr>\n",
              "  </tbody>\n",
              "</table>\n",
              "</div>"
            ],
            "text/plain": [
              "           make  make_code\n",
              "0   alfa-romero          0\n",
              "1   alfa-romero          0\n",
              "2   alfa-romero          0\n",
              "3          audi          1\n",
              "4          audi          1\n",
              "5          audi          1\n",
              "6          audi          1\n",
              "7          audi          1\n",
              "8          audi          1\n",
              "9          audi          1\n",
              "10          bmw          2"
            ]
          },
          "metadata": {
            "tags": []
          },
          "execution_count": 41
        }
      ]
    },
    {
      "cell_type": "code",
      "metadata": {
        "colab": {
          "base_uri": "https://localhost:8080/",
          "height": 204
        },
        "id": "QCrakaPiVoSB",
        "outputId": "29a46dd1-dee6-4742-c54c-aa17cac1d798"
      },
      "source": [
        "from sklearn.preprocessing import LabelBinarizer\n",
        "\n",
        "lb_style = LabelBinarizer()\n",
        "lb_results = lb_style.fit_transform(obj_df[\"body_style\"])\n",
        "pd.DataFrame(lb_results, columns=lb_style.classes_).head()"
      ],
      "execution_count": null,
      "outputs": [
        {
          "output_type": "execute_result",
          "data": {
            "text/html": [
              "<div>\n",
              "<style scoped>\n",
              "    .dataframe tbody tr th:only-of-type {\n",
              "        vertical-align: middle;\n",
              "    }\n",
              "\n",
              "    .dataframe tbody tr th {\n",
              "        vertical-align: top;\n",
              "    }\n",
              "\n",
              "    .dataframe thead th {\n",
              "        text-align: right;\n",
              "    }\n",
              "</style>\n",
              "<table border=\"1\" class=\"dataframe\">\n",
              "  <thead>\n",
              "    <tr style=\"text-align: right;\">\n",
              "      <th></th>\n",
              "      <th>convertible</th>\n",
              "      <th>hardtop</th>\n",
              "      <th>hatchback</th>\n",
              "      <th>sedan</th>\n",
              "      <th>wagon</th>\n",
              "    </tr>\n",
              "  </thead>\n",
              "  <tbody>\n",
              "    <tr>\n",
              "      <th>0</th>\n",
              "      <td>1</td>\n",
              "      <td>0</td>\n",
              "      <td>0</td>\n",
              "      <td>0</td>\n",
              "      <td>0</td>\n",
              "    </tr>\n",
              "    <tr>\n",
              "      <th>1</th>\n",
              "      <td>1</td>\n",
              "      <td>0</td>\n",
              "      <td>0</td>\n",
              "      <td>0</td>\n",
              "      <td>0</td>\n",
              "    </tr>\n",
              "    <tr>\n",
              "      <th>2</th>\n",
              "      <td>0</td>\n",
              "      <td>0</td>\n",
              "      <td>1</td>\n",
              "      <td>0</td>\n",
              "      <td>0</td>\n",
              "    </tr>\n",
              "    <tr>\n",
              "      <th>3</th>\n",
              "      <td>0</td>\n",
              "      <td>0</td>\n",
              "      <td>0</td>\n",
              "      <td>1</td>\n",
              "      <td>0</td>\n",
              "    </tr>\n",
              "    <tr>\n",
              "      <th>4</th>\n",
              "      <td>0</td>\n",
              "      <td>0</td>\n",
              "      <td>0</td>\n",
              "      <td>1</td>\n",
              "      <td>0</td>\n",
              "    </tr>\n",
              "  </tbody>\n",
              "</table>\n",
              "</div>"
            ],
            "text/plain": [
              "   convertible  hardtop  hatchback  sedan  wagon\n",
              "0            1        0          0      0      0\n",
              "1            1        0          0      0      0\n",
              "2            0        0          1      0      0\n",
              "3            0        0          0      1      0\n",
              "4            0        0          0      1      0"
            ]
          },
          "metadata": {
            "tags": []
          },
          "execution_count": 42
        }
      ]
    },
    {
      "cell_type": "code",
      "metadata": {
        "id": "6Lt-Q-cJVwHb"
      },
      "source": [
        ""
      ],
      "execution_count": null,
      "outputs": []
    }
  ]
}