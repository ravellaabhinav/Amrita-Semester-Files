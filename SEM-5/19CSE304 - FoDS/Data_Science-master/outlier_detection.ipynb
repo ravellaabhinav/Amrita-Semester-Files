{
  "nbformat": 4,
  "nbformat_minor": 0,
  "metadata": {
    "colab": {
      "name": "outlier_detection.ipynb",
      "provenance": [],
      "mount_file_id": "1SwPWC_4YorPnMdqNtNhSIQ55LziVyt2K",
      "authorship_tag": "ABX9TyP38rlkUC0ppvYxzW295qUN"
    },
    "kernelspec": {
      "name": "python3",
      "display_name": "Python 3"
    },
    "language_info": {
      "name": "python"
    }
  },
  "cells": [
    {
      "cell_type": "code",
      "metadata": {
        "id": "z-sjF0ofozHL"
      },
      "source": [
        "import pandas as pd"
      ],
      "execution_count": null,
      "outputs": []
    },
    {
      "cell_type": "code",
      "metadata": {
        "id": "yfwiQfJTpNBy"
      },
      "source": [
        "data=pd.read_csv('/content/drive/MyDrive/FoDS-2021/data/salaries.csv')"
      ],
      "execution_count": null,
      "outputs": []
    },
    {
      "cell_type": "code",
      "metadata": {
        "colab": {
          "base_uri": "https://localhost:8080/",
          "height": 359
        },
        "id": "-jfDDNSspUSw",
        "outputId": "61814af2-1421-4bba-e7a6-5d2ed98d70d2"
      },
      "source": [
        "data.head(10)"
      ],
      "execution_count": null,
      "outputs": [
        {
          "output_type": "execute_result",
          "data": {
            "text/html": [
              "<div>\n",
              "<style scoped>\n",
              "    .dataframe tbody tr th:only-of-type {\n",
              "        vertical-align: middle;\n",
              "    }\n",
              "\n",
              "    .dataframe tbody tr th {\n",
              "        vertical-align: top;\n",
              "    }\n",
              "\n",
              "    .dataframe thead th {\n",
              "        text-align: right;\n",
              "    }\n",
              "</style>\n",
              "<table border=\"1\" class=\"dataframe\">\n",
              "  <thead>\n",
              "    <tr style=\"text-align: right;\">\n",
              "      <th></th>\n",
              "      <th>salary</th>\n",
              "    </tr>\n",
              "  </thead>\n",
              "  <tbody>\n",
              "    <tr>\n",
              "      <th>0</th>\n",
              "      <td>96454</td>\n",
              "    </tr>\n",
              "    <tr>\n",
              "      <th>1</th>\n",
              "      <td>29557</td>\n",
              "    </tr>\n",
              "    <tr>\n",
              "      <th>2</th>\n",
              "      <td>47175</td>\n",
              "    </tr>\n",
              "    <tr>\n",
              "      <th>3</th>\n",
              "      <td>12419</td>\n",
              "    </tr>\n",
              "    <tr>\n",
              "      <th>4</th>\n",
              "      <td>33333333</td>\n",
              "    </tr>\n",
              "    <tr>\n",
              "      <th>5</th>\n",
              "      <td>90938</td>\n",
              "    </tr>\n",
              "    <tr>\n",
              "      <th>6</th>\n",
              "      <td>76404</td>\n",
              "    </tr>\n",
              "    <tr>\n",
              "      <th>7</th>\n",
              "      <td>85815</td>\n",
              "    </tr>\n",
              "    <tr>\n",
              "      <th>8</th>\n",
              "      <td>9999999</td>\n",
              "    </tr>\n",
              "    <tr>\n",
              "      <th>9</th>\n",
              "      <td>73611</td>\n",
              "    </tr>\n",
              "  </tbody>\n",
              "</table>\n",
              "</div>"
            ],
            "text/plain": [
              "     salary\n",
              "0     96454\n",
              "1     29557\n",
              "2     47175\n",
              "3     12419\n",
              "4  33333333\n",
              "5     90938\n",
              "6     76404\n",
              "7     85815\n",
              "8   9999999\n",
              "9     73611"
            ]
          },
          "metadata": {},
          "execution_count": 4
        }
      ]
    },
    {
      "cell_type": "code",
      "metadata": {
        "id": "3hlGVr8FpVJ7"
      },
      "source": [
        "from numpy import mean\n",
        "from numpy import std\n",
        "data_mean,data_std=mean(data['salary']),std(data['salary'])"
      ],
      "execution_count": null,
      "outputs": []
    },
    {
      "cell_type": "code",
      "metadata": {
        "colab": {
          "base_uri": "https://localhost:8080/"
        },
        "id": "m2LiQ9-IqZQp",
        "outputId": "75b58af2-7cab-4bc8-ba39-6d361d98967e"
      },
      "source": [
        "data_mean"
      ],
      "execution_count": null,
      "outputs": [
        {
          "output_type": "execute_result",
          "data": {
            "text/plain": [
              "349050.10216666665"
            ]
          },
          "metadata": {},
          "execution_count": 35
        }
      ]
    },
    {
      "cell_type": "code",
      "metadata": {
        "colab": {
          "base_uri": "https://localhost:8080/"
        },
        "id": "5Ieg9Slzqiwi",
        "outputId": "9bc00da4-703d-4b49-db72-81781f151556"
      },
      "source": [
        "data_std"
      ],
      "execution_count": null,
      "outputs": [
        {
          "output_type": "execute_result",
          "data": {
            "text/plain": [
              "4758049.22084576"
            ]
          },
          "metadata": {},
          "execution_count": 36
        }
      ]
    },
    {
      "cell_type": "code",
      "metadata": {
        "id": "mAvXwEHYqkfb"
      },
      "source": [
        "cut_off = data_std * 3\n",
        "lower, upper = data_mean - cut_off, data_mean + cut_off"
      ],
      "execution_count": null,
      "outputs": []
    },
    {
      "cell_type": "code",
      "metadata": {
        "colab": {
          "base_uri": "https://localhost:8080/"
        },
        "id": "JFlMKNKNzHFj",
        "outputId": "a4fb18a3-a761-4a05-9e38-2eb4ef4477a8"
      },
      "source": [
        "lower"
      ],
      "execution_count": null,
      "outputs": [
        {
          "output_type": "execute_result",
          "data": {
            "text/plain": [
              "-13925097.560370613"
            ]
          },
          "metadata": {},
          "execution_count": 38
        }
      ]
    },
    {
      "cell_type": "code",
      "metadata": {
        "id": "UOyfziLbzJMS",
        "colab": {
          "base_uri": "https://localhost:8080/"
        },
        "outputId": "727313ec-ffb3-4f8c-962e-3ecac9e490b3"
      },
      "source": [
        "upper"
      ],
      "execution_count": null,
      "outputs": [
        {
          "output_type": "execute_result",
          "data": {
            "text/plain": [
              "14623197.764703948"
            ]
          },
          "metadata": {},
          "execution_count": 39
        }
      ]
    },
    {
      "cell_type": "code",
      "metadata": {
        "id": "V0Sz3OCyrI0B"
      },
      "source": [
        "outliers = [x for x in data['salary'] if (x < lower) or (x > upper)]"
      ],
      "execution_count": null,
      "outputs": []
    },
    {
      "cell_type": "code",
      "metadata": {
        "colab": {
          "base_uri": "https://localhost:8080/"
        },
        "id": "qKa-mwXsrjJa",
        "outputId": "9a54c431-e73e-4740-9c56-85fc77b27d33"
      },
      "source": [
        "outliers"
      ],
      "execution_count": null,
      "outputs": [
        {
          "output_type": "execute_result",
          "data": {
            "text/plain": [
              "[33333333,\n",
              " 66666666,\n",
              " 88888888,\n",
              " 99999999,\n",
              " 66666666,\n",
              " 99999999,\n",
              " 55555555,\n",
              " 66666666,\n",
              " 22222222,\n",
              " 22222222,\n",
              " 55555555,\n",
              " 88888888,\n",
              " 99999999,\n",
              " 66666666,\n",
              " 55555555,\n",
              " 33333333,\n",
              " 99999999,\n",
              " 55555555,\n",
              " 55555555,\n",
              " 55555555,\n",
              " 99999999,\n",
              " 88888888,\n",
              " 99999999,\n",
              " 55555555,\n",
              " 99999999]"
            ]
          },
          "metadata": {},
          "execution_count": 11
        }
      ]
    },
    {
      "cell_type": "code",
      "metadata": {
        "id": "E5H3E1a7rkRL"
      },
      "source": [
        "non_outliers = [x for x in data['salary'] if (x > lower) and (x < upper)]"
      ],
      "execution_count": null,
      "outputs": []
    },
    {
      "cell_type": "code",
      "metadata": {
        "colab": {
          "base_uri": "https://localhost:8080/"
        },
        "id": "Pj40VlFesQQp",
        "outputId": "ab2240bc-5411-4194-8c02-863366bfda1e"
      },
      "source": [
        "len(non_outliers)"
      ],
      "execution_count": null,
      "outputs": [
        {
          "output_type": "execute_result",
          "data": {
            "text/plain": [
              "5975"
            ]
          },
          "metadata": {},
          "execution_count": 17
        }
      ]
    },
    {
      "cell_type": "code",
      "metadata": {
        "colab": {
          "base_uri": "https://localhost:8080/",
          "height": 350
        },
        "id": "D4HOtBeesSmY",
        "outputId": "55822d3a-7c61-4ad7-dece-6ea274277498"
      },
      "source": [
        "import seaborn as sns\n",
        "sns.boxplot(data['salary'])"
      ],
      "execution_count": null,
      "outputs": [
        {
          "output_type": "stream",
          "name": "stderr",
          "text": [
            "/usr/local/lib/python3.7/dist-packages/seaborn/_decorators.py:43: FutureWarning: Pass the following variable as a keyword arg: x. From version 0.12, the only valid positional argument will be `data`, and passing other arguments without an explicit keyword will result in an error or misinterpretation.\n",
            "  FutureWarning\n"
          ]
        },
        {
          "output_type": "execute_result",
          "data": {
            "text/plain": [
              "<matplotlib.axes._subplots.AxesSubplot at 0x7f17e655dfd0>"
            ]
          },
          "metadata": {},
          "execution_count": 18
        },
        {
          "output_type": "display_data",
          "data": {
            "image/png": "[encoded data removed]",
            "text/plain": [
              "<Figure size 432x288 with 1 Axes>"
            ]
          },
          "metadata": {
            "needs_background": "light"
          }
        }
      ]
    },
    {
      "cell_type": "markdown",
      "metadata": {
        "id": "4dOws6v8tLuK"
      },
      "source": [
        "# IQR"
      ]
    },
    {
      "cell_type": "code",
      "metadata": {
        "id": "noxfKQqss09s"
      },
      "source": [
        "import numpy as np\n",
        "q25, q75 = np.percentile(data, 25), np.percentile(data, 75)\n",
        "iqr = q75 - q25"
      ],
      "execution_count": null,
      "outputs": []
    },
    {
      "cell_type": "code",
      "metadata": {
        "id": "WUN8VHjGtQS5"
      },
      "source": [
        "cut_off = iqr * 1.5\n",
        "lower, upper = q25 - cut_off, q75 + cut_off"
      ],
      "execution_count": null,
      "outputs": []
    },
    {
      "cell_type": "code",
      "metadata": {
        "id": "ml0AEBb0tVZJ"
      },
      "source": [
        "outliers = [x for x in data['salary'] if (x < lower) or (x > upper)]"
      ],
      "execution_count": null,
      "outputs": []
    },
    {
      "cell_type": "code",
      "metadata": {
        "colab": {
          "base_uri": "https://localhost:8080/"
        },
        "id": "pSdPyHbuuKT0",
        "outputId": "fadd1f30-7151-4034-b299-3290c74c0854"
      },
      "source": [
        "len(outliers)"
      ],
      "execution_count": null,
      "outputs": [
        {
          "output_type": "execute_result",
          "data": {
            "text/plain": [
              "30"
            ]
          },
          "metadata": {},
          "execution_count": 22
        }
      ]
    },
    {
      "cell_type": "code",
      "metadata": {
        "id": "3D1n1TvGuMxl"
      },
      "source": [
        ""
      ],
      "execution_count": null,
      "outputs": []
    },
    {
      "cell_type": "markdown",
      "metadata": {
        "id": "e9BHv-D9udFX"
      },
      "source": [
        "# isolation forest"
      ]
    },
    {
      "cell_type": "code",
      "metadata": {
        "id": "-7VN1gSNufjJ"
      },
      "source": [
        "from sklearn.ensemble import IsolationForest"
      ],
      "execution_count": null,
      "outputs": []
    },
    {
      "cell_type": "code",
      "metadata": {
        "colab": {
          "base_uri": "https://localhost:8080/"
        },
        "id": "SQ8r6fzJuy7U",
        "outputId": "53f962c9-671e-4725-b500-a51c0162f979"
      },
      "source": [
        "model=IsolationForest(n_estimators=50, max_samples='auto', contamination=float(0.1),max_features=1.0)\n",
        "model.fit(data[['salary']])"
      ],
      "execution_count": null,
      "outputs": [
        {
          "output_type": "execute_result",
          "data": {
            "text/plain": [
              "IsolationForest(behaviour='deprecated', bootstrap=False, contamination=0.1,\n",
              "                max_features=1.0, max_samples='auto', n_estimators=50,\n",
              "                n_jobs=None, random_state=None, verbose=0, warm_start=False)"
            ]
          },
          "metadata": {},
          "execution_count": 25
        }
      ]
    },
    {
      "cell_type": "code",
      "metadata": {
        "colab": {
          "base_uri": "https://localhost:8080/",
          "height": 359
        },
        "id": "2v2KlZTqu_8N",
        "outputId": "1c827bf9-46ef-4ece-9a93-901e91772a0b"
      },
      "source": [
        "data['scores']=model.decision_function(data[['salary']])\n",
        "data['anomaly']=model.predict(data[['salary']])\n",
        "data.head(10)"
      ],
      "execution_count": null,
      "outputs": [
        {
          "output_type": "execute_result",
          "data": {
            "text/html": [
              "<div>\n",
              "<style scoped>\n",
              "    .dataframe tbody tr th:only-of-type {\n",
              "        vertical-align: middle;\n",
              "    }\n",
              "\n",
              "    .dataframe tbody tr th {\n",
              "        vertical-align: top;\n",
              "    }\n",
              "\n",
              "    .dataframe thead th {\n",
              "        text-align: right;\n",
              "    }\n",
              "</style>\n",
              "<table border=\"1\" class=\"dataframe\">\n",
              "  <thead>\n",
              "    <tr style=\"text-align: right;\">\n",
              "      <th></th>\n",
              "      <th>salary</th>\n",
              "      <th>scores</th>\n",
              "      <th>anomaly</th>\n",
              "    </tr>\n",
              "  </thead>\n",
              "  <tbody>\n",
              "    <tr>\n",
              "      <th>0</th>\n",
              "      <td>96454</td>\n",
              "      <td>-0.004593</td>\n",
              "      <td>-1</td>\n",
              "    </tr>\n",
              "    <tr>\n",
              "      <th>1</th>\n",
              "      <td>29557</td>\n",
              "      <td>0.045192</td>\n",
              "      <td>1</td>\n",
              "    </tr>\n",
              "    <tr>\n",
              "      <th>2</th>\n",
              "      <td>47175</td>\n",
              "      <td>0.064021</td>\n",
              "      <td>1</td>\n",
              "    </tr>\n",
              "    <tr>\n",
              "      <th>3</th>\n",
              "      <td>12419</td>\n",
              "      <td>-0.020330</td>\n",
              "      <td>-1</td>\n",
              "    </tr>\n",
              "    <tr>\n",
              "      <th>4</th>\n",
              "      <td>33333333</td>\n",
              "      <td>-0.257110</td>\n",
              "      <td>-1</td>\n",
              "    </tr>\n",
              "    <tr>\n",
              "      <th>5</th>\n",
              "      <td>90938</td>\n",
              "      <td>0.024987</td>\n",
              "      <td>1</td>\n",
              "    </tr>\n",
              "    <tr>\n",
              "      <th>6</th>\n",
              "      <td>76404</td>\n",
              "      <td>0.081148</td>\n",
              "      <td>1</td>\n",
              "    </tr>\n",
              "    <tr>\n",
              "      <th>7</th>\n",
              "      <td>85815</td>\n",
              "      <td>0.064989</td>\n",
              "      <td>1</td>\n",
              "    </tr>\n",
              "    <tr>\n",
              "      <th>8</th>\n",
              "      <td>9999999</td>\n",
              "      <td>-0.160384</td>\n",
              "      <td>-1</td>\n",
              "    </tr>\n",
              "    <tr>\n",
              "      <th>9</th>\n",
              "      <td>73611</td>\n",
              "      <td>0.077334</td>\n",
              "      <td>1</td>\n",
              "    </tr>\n",
              "  </tbody>\n",
              "</table>\n",
              "</div>"
            ],
            "text/plain": [
              "     salary    scores  anomaly\n",
              "0     96454 -0.004593       -1\n",
              "1     29557  0.045192        1\n",
              "2     47175  0.064021        1\n",
              "3     12419 -0.020330       -1\n",
              "4  33333333 -0.257110       -1\n",
              "5     90938  0.024987        1\n",
              "6     76404  0.081148        1\n",
              "7     85815  0.064989        1\n",
              "8   9999999 -0.160384       -1\n",
              "9     73611  0.077334        1"
            ]
          },
          "metadata": {},
          "execution_count": 26
        }
      ]
    },
    {
      "cell_type": "markdown",
      "metadata": {
        "id": "C5V2iV9-wFWu"
      },
      "source": [
        "# Local outlier factor"
      ]
    },
    {
      "cell_type": "code",
      "metadata": {
        "colab": {
          "base_uri": "https://localhost:8080/"
        },
        "id": "7L8aqEo5vKZV",
        "outputId": "81d68491-d37d-449d-f204-59beb9cf0cb2"
      },
      "source": [
        "from sklearn.neighbors import LocalOutlierFactor\n",
        "# identify outliers in the training dataset\n",
        "model=LocalOutlierFactor(novelty=True)\n",
        "model.fit(data[['salary']])"
      ],
      "execution_count": null,
      "outputs": [
        {
          "output_type": "execute_result",
          "data": {
            "text/plain": [
              "LocalOutlierFactor(algorithm='auto', contamination='auto', leaf_size=30,\n",
              "                   metric='minkowski', metric_params=None, n_jobs=None,\n",
              "                   n_neighbors=20, novelty=True, p=2)"
            ]
          },
          "metadata": {},
          "execution_count": 28
        }
      ]
    },
    {
      "cell_type": "code",
      "metadata": {
        "colab": {
          "base_uri": "https://localhost:8080/",
          "height": 359
        },
        "id": "WwxtsLZ2wLJH",
        "outputId": "e205e4b2-86a8-4738-8b99-ed0a33075d5b"
      },
      "source": [
        "data['scores']=model.decision_function(data[['salary']])\n",
        "data['anomaly']=model.predict(data[['salary']])\n",
        "data.head(10)"
      ],
      "execution_count": null,
      "outputs": [
        {
          "output_type": "execute_result",
          "data": {
            "text/html": [
              "<div>\n",
              "<style scoped>\n",
              "    .dataframe tbody tr th:only-of-type {\n",
              "        vertical-align: middle;\n",
              "    }\n",
              "\n",
              "    .dataframe tbody tr th {\n",
              "        vertical-align: top;\n",
              "    }\n",
              "\n",
              "    .dataframe thead th {\n",
              "        text-align: right;\n",
              "    }\n",
              "</style>\n",
              "<table border=\"1\" class=\"dataframe\">\n",
              "  <thead>\n",
              "    <tr style=\"text-align: right;\">\n",
              "      <th></th>\n",
              "      <th>salary</th>\n",
              "      <th>scores</th>\n",
              "      <th>anomaly</th>\n",
              "    </tr>\n",
              "  </thead>\n",
              "  <tbody>\n",
              "    <tr>\n",
              "      <th>0</th>\n",
              "      <td>96454</td>\n",
              "      <td>0.492574</td>\n",
              "      <td>1</td>\n",
              "    </tr>\n",
              "    <tr>\n",
              "      <th>1</th>\n",
              "      <td>29557</td>\n",
              "      <td>0.466587</td>\n",
              "      <td>1</td>\n",
              "    </tr>\n",
              "    <tr>\n",
              "      <th>2</th>\n",
              "      <td>47175</td>\n",
              "      <td>0.399883</td>\n",
              "      <td>1</td>\n",
              "    </tr>\n",
              "    <tr>\n",
              "      <th>3</th>\n",
              "      <td>12419</td>\n",
              "      <td>0.522965</td>\n",
              "      <td>1</td>\n",
              "    </tr>\n",
              "    <tr>\n",
              "      <th>4</th>\n",
              "      <td>33333333</td>\n",
              "      <td>-42737.796378</td>\n",
              "      <td>-1</td>\n",
              "    </tr>\n",
              "    <tr>\n",
              "      <th>5</th>\n",
              "      <td>90938</td>\n",
              "      <td>0.461231</td>\n",
              "      <td>1</td>\n",
              "    </tr>\n",
              "    <tr>\n",
              "      <th>6</th>\n",
              "      <td>76404</td>\n",
              "      <td>0.491208</td>\n",
              "      <td>1</td>\n",
              "    </tr>\n",
              "    <tr>\n",
              "      <th>7</th>\n",
              "      <td>85815</td>\n",
              "      <td>0.451803</td>\n",
              "      <td>1</td>\n",
              "    </tr>\n",
              "    <tr>\n",
              "      <th>8</th>\n",
              "      <td>9999999</td>\n",
              "      <td>-45681.603049</td>\n",
              "      <td>-1</td>\n",
              "    </tr>\n",
              "    <tr>\n",
              "      <th>9</th>\n",
              "      <td>73611</td>\n",
              "      <td>0.495589</td>\n",
              "      <td>1</td>\n",
              "    </tr>\n",
              "  </tbody>\n",
              "</table>\n",
              "</div>"
            ],
            "text/plain": [
              "     salary        scores  anomaly\n",
              "0     96454      0.492574        1\n",
              "1     29557      0.466587        1\n",
              "2     47175      0.399883        1\n",
              "3     12419      0.522965        1\n",
              "4  33333333 -42737.796378       -1\n",
              "5     90938      0.461231        1\n",
              "6     76404      0.491208        1\n",
              "7     85815      0.451803        1\n",
              "8   9999999 -45681.603049       -1\n",
              "9     73611      0.495589        1"
            ]
          },
          "metadata": {},
          "execution_count": 29
        }
      ]
    },
    {
      "cell_type": "markdown",
      "metadata": {
        "id": "Lr74B4LLwlkL"
      },
      "source": [
        "# minimum covariant"
      ]
    },
    {
      "cell_type": "code",
      "metadata": {
        "colab": {
          "base_uri": "https://localhost:8080/"
        },
        "id": "sb5QO6uqwQP0",
        "outputId": "41bdccdd-d15b-457b-b666-240c3897c56c"
      },
      "source": [
        "from sklearn.covariance import EllipticEnvelope\n",
        "# identify outliers in the training dataset\n",
        "model=EllipticEnvelope(contamination=0.01)\n",
        "model.fit(data[['salary']])"
      ],
      "execution_count": null,
      "outputs": [
        {
          "output_type": "execute_result",
          "data": {
            "text/plain": [
              "EllipticEnvelope(assume_centered=False, contamination=0.01, random_state=None,\n",
              "                 store_precision=True, support_fraction=None)"
            ]
          },
          "metadata": {},
          "execution_count": 30
        }
      ]
    },
    {
      "cell_type": "code",
      "metadata": {
        "colab": {
          "base_uri": "https://localhost:8080/",
          "height": 359
        },
        "id": "S2XL_eCIwsQm",
        "outputId": "252ec65d-615e-4a57-adcc-f5c7a9a5462a"
      },
      "source": [
        "data['scores']=model.decision_function(data[['salary']])\n",
        "data['anomaly']=model.predict(data[['salary']])\n",
        "data.head(10)"
      ],
      "execution_count": null,
      "outputs": [
        {
          "output_type": "execute_result",
          "data": {
            "text/html": [
              "<div>\n",
              "<style scoped>\n",
              "    .dataframe tbody tr th:only-of-type {\n",
              "        vertical-align: middle;\n",
              "    }\n",
              "\n",
              "    .dataframe tbody tr th {\n",
              "        vertical-align: top;\n",
              "    }\n",
              "\n",
              "    .dataframe thead th {\n",
              "        text-align: right;\n",
              "    }\n",
              "</style>\n",
              "<table border=\"1\" class=\"dataframe\">\n",
              "  <thead>\n",
              "    <tr style=\"text-align: right;\">\n",
              "      <th></th>\n",
              "      <th>salary</th>\n",
              "      <th>scores</th>\n",
              "      <th>anomaly</th>\n",
              "    </tr>\n",
              "  </thead>\n",
              "  <tbody>\n",
              "    <tr>\n",
              "      <th>0</th>\n",
              "      <td>96454</td>\n",
              "      <td>4.154096e-01</td>\n",
              "      <td>1</td>\n",
              "    </tr>\n",
              "    <tr>\n",
              "      <th>1</th>\n",
              "      <td>29557</td>\n",
              "      <td>2.028884e+00</td>\n",
              "      <td>1</td>\n",
              "    </tr>\n",
              "    <tr>\n",
              "      <th>2</th>\n",
              "      <td>47175</td>\n",
              "      <td>2.892497e+00</td>\n",
              "      <td>1</td>\n",
              "    </tr>\n",
              "    <tr>\n",
              "      <th>3</th>\n",
              "      <td>12419</td>\n",
              "      <td>3.047670e-01</td>\n",
              "      <td>1</td>\n",
              "    </tr>\n",
              "    <tr>\n",
              "      <th>4</th>\n",
              "      <td>33333333</td>\n",
              "      <td>-1.643630e+06</td>\n",
              "      <td>-1</td>\n",
              "    </tr>\n",
              "    <tr>\n",
              "      <th>5</th>\n",
              "      <td>90938</td>\n",
              "      <td>1.050950e+00</td>\n",
              "      <td>1</td>\n",
              "    </tr>\n",
              "    <tr>\n",
              "      <th>6</th>\n",
              "      <td>76404</td>\n",
              "      <td>2.293030e+00</td>\n",
              "      <td>1</td>\n",
              "    </tr>\n",
              "    <tr>\n",
              "      <th>7</th>\n",
              "      <td>85815</td>\n",
              "      <td>1.560318e+00</td>\n",
              "      <td>1</td>\n",
              "    </tr>\n",
              "    <tr>\n",
              "      <th>8</th>\n",
              "      <td>9999999</td>\n",
              "      <td>-1.467877e+05</td>\n",
              "      <td>-1</td>\n",
              "    </tr>\n",
              "    <tr>\n",
              "      <th>9</th>\n",
              "      <td>73611</td>\n",
              "      <td>2.459896e+00</td>\n",
              "      <td>1</td>\n",
              "    </tr>\n",
              "  </tbody>\n",
              "</table>\n",
              "</div>"
            ],
            "text/plain": [
              "     salary        scores  anomaly\n",
              "0     96454  4.154096e-01        1\n",
              "1     29557  2.028884e+00        1\n",
              "2     47175  2.892497e+00        1\n",
              "3     12419  3.047670e-01        1\n",
              "4  33333333 -1.643630e+06       -1\n",
              "5     90938  1.050950e+00        1\n",
              "6     76404  2.293030e+00        1\n",
              "7     85815  1.560318e+00        1\n",
              "8   9999999 -1.467877e+05       -1\n",
              "9     73611  2.459896e+00        1"
            ]
          },
          "metadata": {},
          "execution_count": 31
        }
      ]
    },
    {
      "cell_type": "markdown",
      "metadata": {
        "id": "9yu1qZW5xJgb"
      },
      "source": [
        "# one class SVM"
      ]
    },
    {
      "cell_type": "code",
      "metadata": {
        "colab": {
          "base_uri": "https://localhost:8080/"
        },
        "id": "kUmjC69Lwukc",
        "outputId": "84955aa6-09aa-46cb-ba4f-a9350cf357eb"
      },
      "source": [
        "from sklearn.svm import OneClassSVM\n",
        "# identify outliers in the training dataset\n",
        "model=OneClassSVM(nu=0.01)\n",
        "model.fit(data[['salary']])"
      ],
      "execution_count": null,
      "outputs": [
        {
          "output_type": "execute_result",
          "data": {
            "text/plain": [
              "OneClassSVM(cache_size=200, coef0=0.0, degree=3, gamma='scale', kernel='rbf',\n",
              "            max_iter=-1, nu=0.01, shrinking=True, tol=0.001, verbose=False)"
            ]
          },
          "metadata": {},
          "execution_count": 32
        }
      ]
    },
    {
      "cell_type": "code",
      "metadata": {
        "colab": {
          "base_uri": "https://localhost:8080/",
          "height": 359
        },
        "id": "zBFhP9njxOiy",
        "outputId": "473c687d-d18e-4d83-d152-9a68a34e0c3d"
      },
      "source": [
        "data['scores']=model.decision_function(data[['salary']])\n",
        "data['anomaly']=model.predict(data[['salary']])\n",
        "data.head(10)"
      ],
      "execution_count": null,
      "outputs": [
        {
          "output_type": "execute_result",
          "data": {
            "text/html": [
              "<div>\n",
              "<style scoped>\n",
              "    .dataframe tbody tr th:only-of-type {\n",
              "        vertical-align: middle;\n",
              "    }\n",
              "\n",
              "    .dataframe tbody tr th {\n",
              "        vertical-align: top;\n",
              "    }\n",
              "\n",
              "    .dataframe thead th {\n",
              "        text-align: right;\n",
              "    }\n",
              "</style>\n",
              "<table border=\"1\" class=\"dataframe\">\n",
              "  <thead>\n",
              "    <tr style=\"text-align: right;\">\n",
              "      <th></th>\n",
              "      <th>salary</th>\n",
              "      <th>scores</th>\n",
              "      <th>anomaly</th>\n",
              "    </tr>\n",
              "  </thead>\n",
              "  <tbody>\n",
              "    <tr>\n",
              "      <th>0</th>\n",
              "      <td>96454</td>\n",
              "      <td>0.029090</td>\n",
              "      <td>1</td>\n",
              "    </tr>\n",
              "    <tr>\n",
              "      <th>1</th>\n",
              "      <td>29557</td>\n",
              "      <td>0.008111</td>\n",
              "      <td>1</td>\n",
              "    </tr>\n",
              "    <tr>\n",
              "      <th>2</th>\n",
              "      <td>47175</td>\n",
              "      <td>0.014739</td>\n",
              "      <td>1</td>\n",
              "    </tr>\n",
              "    <tr>\n",
              "      <th>3</th>\n",
              "      <td>12419</td>\n",
              "      <td>0.000907</td>\n",
              "      <td>1</td>\n",
              "    </tr>\n",
              "    <tr>\n",
              "      <th>4</th>\n",
              "      <td>33333333</td>\n",
              "      <td>-29.085615</td>\n",
              "      <td>-1</td>\n",
              "    </tr>\n",
              "    <tr>\n",
              "      <th>5</th>\n",
              "      <td>90938</td>\n",
              "      <td>0.027790</td>\n",
              "      <td>1</td>\n",
              "    </tr>\n",
              "    <tr>\n",
              "      <th>6</th>\n",
              "      <td>76404</td>\n",
              "      <td>0.023996</td>\n",
              "      <td>1</td>\n",
              "    </tr>\n",
              "    <tr>\n",
              "      <th>7</th>\n",
              "      <td>85815</td>\n",
              "      <td>0.026514</td>\n",
              "      <td>1</td>\n",
              "    </tr>\n",
              "    <tr>\n",
              "      <th>8</th>\n",
              "      <td>9999999</td>\n",
              "      <td>-27.751652</td>\n",
              "      <td>-1</td>\n",
              "    </tr>\n",
              "    <tr>\n",
              "      <th>9</th>\n",
              "      <td>73611</td>\n",
              "      <td>0.023205</td>\n",
              "      <td>1</td>\n",
              "    </tr>\n",
              "  </tbody>\n",
              "</table>\n",
              "</div>"
            ],
            "text/plain": [
              "     salary     scores  anomaly\n",
              "0     96454   0.029090        1\n",
              "1     29557   0.008111        1\n",
              "2     47175   0.014739        1\n",
              "3     12419   0.000907        1\n",
              "4  33333333 -29.085615       -1\n",
              "5     90938   0.027790        1\n",
              "6     76404   0.023996        1\n",
              "7     85815   0.026514        1\n",
              "8   9999999 -27.751652       -1\n",
              "9     73611   0.023205        1"
            ]
          },
          "metadata": {},
          "execution_count": 33
        }
      ]
    },
    {
      "cell_type": "code",
      "metadata": {
        "id": "Z62j04E5xQbm"
      },
      "source": [
        ""
      ],
      "execution_count": null,
      "outputs": []
    }
  ]
}