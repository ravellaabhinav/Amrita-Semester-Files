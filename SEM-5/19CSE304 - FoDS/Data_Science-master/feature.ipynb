{
  "nbformat": 4,
  "nbformat_minor": 0,
  "metadata": {
    "colab": {
      "name": "feature.ipynb",
      "provenance": [],
      "collapsed_sections": [],
      "authorship_tag": "ABX9TyOzoj6WAlDoDWkg4u5OnDYV",
      "include_colab_link": true
    },
    "kernelspec": {
      "name": "python3",
      "display_name": "Python 3"
    }
  },
  "cells": [
    {
      "cell_type": "markdown",
      "metadata": {
        "id": "view-in-github",
        "colab_type": "text"
      },
      "source": [
        "<a href=\"https://colab.research.google.com/github/dhanyahari07/Data_Science/blob/master/feature.ipynb\" target=\"_parent\"><img src=\"https://colab.research.google.com/assets/colab-badge.svg\" alt=\"Open In Colab\"/></a>"
      ]
    },
    {
      "cell_type": "code",
      "metadata": {
        "id": "7yxoV_CT1gaK",
        "colab_type": "code",
        "colab": {
          "base_uri": "https://localhost:8080/",
          "height": 34
        },
        "outputId": "50444340-98c2-474f-fc7c-01c1151b3893"
      },
      "source": [
        "# check scikit-learn version\n",
        "import sklearn\n",
        "print(sklearn.__version__)"
      ],
      "execution_count": null,
      "outputs": [
        {
          "output_type": "stream",
          "text": [
            "0.22.2.post1\n"
          ],
          "name": "stdout"
        }
      ]
    },
    {
      "cell_type": "markdown",
      "metadata": {
        "id": "OY_v_s-s1jz1",
        "colab_type": "text"
      },
      "source": [
        "https://machinelearningmastery.com/calculate-feature-importance-with-python/"
      ]
    },
    {
      "cell_type": "markdown",
      "metadata": {
        "id": "1Eh15FJO1zOl",
        "colab_type": "text"
      },
      "source": [
        "# Test Datasets"
      ]
    },
    {
      "cell_type": "markdown",
      "metadata": {
        "id": "Q11tLrdW10u5",
        "colab_type": "text"
      },
      "source": [
        "## Classification Dataset"
      ]
    },
    {
      "cell_type": "code",
      "metadata": {
        "id": "wXJV9Kfe1kSg",
        "colab_type": "code",
        "colab": {
          "base_uri": "https://localhost:8080/",
          "height": 34
        },
        "outputId": "37975d3d-c250-4f29-998f-36b84da58ac6"
      },
      "source": [
        "# test classification dataset\n",
        "from sklearn.datasets import make_classification\n",
        "# define dataset\n",
        "X, y = make_classification(n_samples=1000, n_features=10, n_informative=5, n_redundant=5, random_state=1)\n",
        "# summarize the dataset\n",
        "print(X.shape, y.shape)"
      ],
      "execution_count": null,
      "outputs": [
        {
          "output_type": "stream",
          "text": [
            "(1000, 10) (1000,)\n"
          ],
          "name": "stdout"
        }
      ]
    },
    {
      "cell_type": "markdown",
      "metadata": {
        "id": "BmuZZph214nG",
        "colab_type": "text"
      },
      "source": [
        "## Regression Dataset"
      ]
    },
    {
      "cell_type": "code",
      "metadata": {
        "id": "T4fP6dUC1sre",
        "colab_type": "code",
        "colab": {
          "base_uri": "https://localhost:8080/",
          "height": 34
        },
        "outputId": "7f03c0f0-de56-46d4-8231-99a9360fd94d"
      },
      "source": [
        "# test regression dataset\n",
        "from sklearn.datasets import make_regression\n",
        "# define dataset\n",
        "X, y = make_regression(n_samples=1000, n_features=10, n_informative=5, random_state=1)\n",
        "# summarize the dataset\n",
        "print(X.shape, y.shape)"
      ],
      "execution_count": null,
      "outputs": [
        {
          "output_type": "stream",
          "text": [
            "(1000, 10) (1000,)\n"
          ],
          "name": "stdout"
        }
      ]
    },
    {
      "cell_type": "markdown",
      "metadata": {
        "id": "Fe0-RdhX2OoG",
        "colab_type": "text"
      },
      "source": [
        "# Linear Regression Feature Importance"
      ]
    },
    {
      "cell_type": "code",
      "metadata": {
        "id": "9RtNxSZI1urD",
        "colab_type": "code",
        "colab": {
          "base_uri": "https://localhost:8080/",
          "height": 435
        },
        "outputId": "13325c6c-f807-4907-c1bc-b4c82e7e2fe0"
      },
      "source": [
        "# linear regression feature importance\n",
        "from sklearn.datasets import make_regression\n",
        "from sklearn.linear_model import LinearRegression\n",
        "from matplotlib import pyplot\n",
        "# define dataset\n",
        "X, y = make_regression(n_samples=1000, n_features=10, n_informative=5, random_state=1)\n",
        "# define the model\n",
        "model = LinearRegression()\n",
        "# fit the model\n",
        "model.fit(X, y)\n",
        "# get importance\n",
        "importance = model.coef_\n",
        "# summarize feature importance\n",
        "for i,v in enumerate(importance):\n",
        "\tprint('Feature: %0d, Score: %.5f' % (i,v))\n",
        "# plot feature importance\n",
        "pyplot.bar([x for x in range(len(importance))], importance)\n",
        "pyplot.show()"
      ],
      "execution_count": null,
      "outputs": [
        {
          "output_type": "stream",
          "text": [
            "Feature: 0, Score: -0.00000\n",
            "Feature: 1, Score: 12.44483\n",
            "Feature: 2, Score: -0.00000\n",
            "Feature: 3, Score: -0.00000\n",
            "Feature: 4, Score: 93.32225\n",
            "Feature: 5, Score: 86.50811\n",
            "Feature: 6, Score: 26.74607\n",
            "Feature: 7, Score: 3.28535\n",
            "Feature: 8, Score: -0.00000\n",
            "Feature: 9, Score: 0.00000\n"
          ],
          "name": "stdout"
        },
        {
          "output_type": "display_data",
          "data": {
            "image/png": "[encoded data removed]",
            "text/plain": [
              "<Figure size 432x288 with 1 Axes>"
            ]
          },
          "metadata": {
            "tags": [],
            "needs_background": "light"
          }
        }
      ]
    },
    {
      "cell_type": "markdown",
      "metadata": {
        "id": "-4jvWlvj2Z61",
        "colab_type": "text"
      },
      "source": [
        "# Logistic Regression Feature Importance"
      ]
    },
    {
      "cell_type": "code",
      "metadata": {
        "id": "xxEDbMwX2Rvy",
        "colab_type": "code",
        "colab": {
          "base_uri": "https://localhost:8080/",
          "height": 435
        },
        "outputId": "d616fdf8-c8fe-486f-85e6-6207d1aef4f0"
      },
      "source": [
        "# logistic regression for feature importance\n",
        "from sklearn.datasets import make_classification\n",
        "from sklearn.linear_model import LogisticRegression\n",
        "from matplotlib import pyplot\n",
        "# define dataset\n",
        "X, y = make_classification(n_samples=1000, n_features=10, n_informative=5, n_redundant=5, random_state=1)\n",
        "# define the model\n",
        "model = LogisticRegression()\n",
        "# fit the model\n",
        "model.fit(X, y)\n",
        "# get importance\n",
        "importance = model.coef_[0]\n",
        "# summarize feature importance\n",
        "for i,v in enumerate(importance):\n",
        "\tprint('Feature: %0d, Score: %.5f' % (i,v))\n",
        "# plot feature importance\n",
        "pyplot.bar([x for x in range(len(importance))], importance)\n",
        "pyplot.show()"
      ],
      "execution_count": null,
      "outputs": [
        {
          "output_type": "stream",
          "text": [
            "Feature: 0, Score: 0.16320\n",
            "Feature: 1, Score: -0.64301\n",
            "Feature: 2, Score: 0.48497\n",
            "Feature: 3, Score: -0.46190\n",
            "Feature: 4, Score: 0.18432\n",
            "Feature: 5, Score: -0.11978\n",
            "Feature: 6, Score: -0.40602\n",
            "Feature: 7, Score: 0.03772\n",
            "Feature: 8, Score: -0.51785\n",
            "Feature: 9, Score: 0.26540\n"
          ],
          "name": "stdout"
        },
        {
          "output_type": "display_data",
          "data": {
            "image/png": "[encoded data removed]",
            "text/plain": [
              "<Figure size 432x288 with 1 Axes>"
            ]
          },
          "metadata": {
            "tags": [],
            "needs_background": "light"
          }
        }
      ]
    },
    {
      "cell_type": "markdown",
      "metadata": {
        "id": "lZ5ddmg22oeS",
        "colab_type": "text"
      },
      "source": [
        "# Decision Tree Feature Importance"
      ]
    },
    {
      "cell_type": "markdown",
      "metadata": {
        "id": "hAY-6jcU2vQd",
        "colab_type": "text"
      },
      "source": [
        "## CART Feature Importance"
      ]
    },
    {
      "cell_type": "markdown",
      "metadata": {
        "id": "uBBe0MLP2wTF",
        "colab_type": "text"
      },
      "source": [
        "### CART Regression Feature Importance"
      ]
    },
    {
      "cell_type": "code",
      "metadata": {
        "id": "Hy_H5xX82cr8",
        "colab_type": "code",
        "colab": {
          "base_uri": "https://localhost:8080/",
          "height": 435
        },
        "outputId": "3777fa47-5a1b-4ff9-98a5-1be19b9772c3"
      },
      "source": [
        "# decision tree for feature importance on a regression problem\n",
        "from sklearn.datasets import make_regression\n",
        "from sklearn.tree import DecisionTreeRegressor\n",
        "from matplotlib import pyplot\n",
        "# define dataset\n",
        "X, y = make_regression(n_samples=1000, n_features=10, n_informative=5, random_state=1)\n",
        "# define the model\n",
        "model = DecisionTreeRegressor()\n",
        "# fit the model\n",
        "model.fit(X, y)\n",
        "# get importance\n",
        "importance = model.feature_importances_\n",
        "# summarize feature importance\n",
        "for i,v in enumerate(importance):\n",
        "\tprint('Feature: %0d, Score: %.5f' % (i,v))\n",
        "# plot feature importance\n",
        "pyplot.bar([x for x in range(len(importance))], importance)\n",
        "pyplot.show()"
      ],
      "execution_count": null,
      "outputs": [
        {
          "output_type": "stream",
          "text": [
            "Feature: 0, Score: 0.00247\n",
            "Feature: 1, Score: 0.00458\n",
            "Feature: 2, Score: 0.00247\n",
            "Feature: 3, Score: 0.00277\n",
            "Feature: 4, Score: 0.51654\n",
            "Feature: 5, Score: 0.43778\n",
            "Feature: 6, Score: 0.02712\n",
            "Feature: 7, Score: 0.00177\n",
            "Feature: 8, Score: 0.00293\n",
            "Feature: 9, Score: 0.00156\n"
          ],
          "name": "stdout"
        },
        {
          "output_type": "display_data",
          "data": {
            "image/png": "[encoded data removed]",
            "text/plain": [
              "<Figure size 432x288 with 1 Axes>"
            ]
          },
          "metadata": {
            "tags": [],
            "needs_background": "light"
          }
        }
      ]
    },
    {
      "cell_type": "code",
      "metadata": {
        "id": "QHOYRfaD21S9",
        "colab_type": "code",
        "colab": {}
      },
      "source": [
        "# This is the repository for feature selection"
      ],
      "execution_count": null,
      "outputs": []
    }
  ]
}