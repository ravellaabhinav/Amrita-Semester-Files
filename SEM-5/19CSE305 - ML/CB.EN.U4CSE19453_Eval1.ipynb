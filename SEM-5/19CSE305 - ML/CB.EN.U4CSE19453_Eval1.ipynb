{
  "nbformat": 4,
  "nbformat_minor": 0,
  "metadata": {
    "colab": {
      "name": "CB.EN.U4CSE19453_Eval1.ipynb",
      "provenance": [],
      "collapsed_sections": []
    },
    "kernelspec": {
      "name": "python3",
      "display_name": "Python 3"
    },
    "language_info": {
      "name": "python"
    }
  },
  "cells": [
    {
      "cell_type": "markdown",
      "metadata": {
        "id": "XXaRnvkmy52r"
      },
      "source": [
        "# **Machine Learning Lab Evaluation – I**"
      ]
    },
    {
      "cell_type": "markdown",
      "metadata": {
        "id": "bwSpPwfEy-Hl"
      },
      "source": [
        "# **SET-2**"
      ]
    },
    {
      "cell_type": "markdown",
      "metadata": {
        "id": "yJFi8IkD0IU9"
      },
      "source": [
        "# **Q1.**"
      ]
    },
    {
      "cell_type": "code",
      "metadata": {
        "id": "h_ew9fGry9x8"
      },
      "source": [
        "#(i)\n",
        "import numpy as np\n",
        "import seaborn as sns\n",
        "import pandas as pd\n",
        "import matplotlib.pyplot as plt"
      ],
      "execution_count": 1,
      "outputs": []
    },
    {
      "cell_type": "code",
      "metadata": {
        "colab": {
          "base_uri": "https://localhost:8080/"
        },
        "id": "rOiQ5Dqb0MAR",
        "outputId": "f7c79cf5-f02e-44c0-e72a-515ce6114a4c"
      },
      "source": [
        "#(ii)\n",
        "df=pd.read_csv('/content/drive/MyDrive/SEM-5/ML/Evals/drug200.csv')\n",
        "print(df)"
      ],
      "execution_count": 4,
      "outputs": [
        {
          "output_type": "stream",
          "text": [
            "     Age Sex      BP Cholesterol  Na_to_K   Drug\n",
            "0     23   F    HIGH        HIGH   25.355  DrugY\n",
            "1     47   M     LOW        HIGH   13.093  drugC\n",
            "2     47   M     LOW        HIGH   10.114  drugC\n",
            "3     28   F  NORMAL        HIGH    7.798  drugX\n",
            "4     61   F     LOW        HIGH   18.043  DrugY\n",
            "..   ...  ..     ...         ...      ...    ...\n",
            "195   56   F     LOW        HIGH   11.567  drugC\n",
            "196   16   M     LOW        HIGH   12.006  drugC\n",
            "197   52   M  NORMAL        HIGH    9.894  drugX\n",
            "198   23   M  NORMAL      NORMAL   14.020  drugX\n",
            "199   40   F     LOW      NORMAL   11.349  drugX\n",
            "\n",
            "[200 rows x 6 columns]\n"
          ],
          "name": "stdout"
        }
      ]
    },
    {
      "cell_type": "code",
      "metadata": {
        "colab": {
          "base_uri": "https://localhost:8080/"
        },
        "id": "6lg_p1xJ04DP",
        "outputId": "26f6c928-a0bc-4526-93c2-8e920f2b0c5c"
      },
      "source": [
        "#(iii)\n",
        "\n",
        "print(\"Size:\",df.size)\n",
        "x = df.iloc[:, :-1].values\n",
        "y = df.iloc[:, 5].values\n",
        "print(\"______________________\")\n",
        "print(\"Datatypes:\\n\",df.dtypes)"
      ],
      "execution_count": 36,
      "outputs": [
        {
          "output_type": "stream",
          "text": [
            "Size: 1200\n",
            "______________________\n",
            "Datatypes:\n",
            " Age            float64\n",
            "Sex              int64\n",
            "BP               int64\n",
            "Cholesterol      int64\n",
            "Na_to_K        float64\n",
            "Drug             int64\n",
            "dtype: object\n"
          ],
          "name": "stdout"
        }
      ]
    },
    {
      "cell_type": "code",
      "metadata": {
        "colab": {
          "base_uri": "https://localhost:8080/"
        },
        "id": "JWT8B1Dn1UI2",
        "outputId": "a1173077-9d38-40f6-deec-a3472beabc58"
      },
      "source": [
        "print(x)\n",
        "print(y)"
      ],
      "execution_count": 39,
      "outputs": [
        {
          "output_type": "stream",
          "text": [
            "[[23.     0.     0.     0.    25.355]\n",
            " [47.     1.     1.     0.    13.093]\n",
            " [47.     1.     1.     0.    10.114]\n",
            " [28.     0.     2.     0.     7.798]\n",
            " [61.     0.     1.     0.    18.043]\n",
            " [22.     0.     2.     0.     8.607]\n",
            " [49.     0.     2.     0.    16.275]\n",
            " [41.     1.     1.     0.    11.037]\n",
            " [60.     1.     2.     0.    15.171]\n",
            " [43.     1.     1.     1.    19.368]\n",
            " [   nan  0.     1.     0.    11.767]\n",
            " [34.     0.     0.     1.    19.199]\n",
            " [43.     1.     1.     0.    15.376]\n",
            " [74.     0.     1.     0.    20.942]\n",
            " [50.     0.     2.     0.    12.703]\n",
            " [16.     0.     0.     1.    15.516]\n",
            " [69.     1.     1.     1.    11.455]\n",
            " [43.     1.     0.     0.    13.972]\n",
            " [23.     1.     1.     0.     7.298]\n",
            " [32.     0.     0.     1.    25.974]\n",
            " [57.     1.     1.     1.    19.128]\n",
            " [63.     1.     2.     0.    25.917]\n",
            " [47.     1.     1.     1.    30.568]\n",
            " [48.     0.     1.     0.    15.036]\n",
            " [33.     0.     1.     0.    33.486]\n",
            " [28.     0.     0.     1.    18.809]\n",
            " [31.     1.     0.     0.    30.366]\n",
            " [49.     0.     2.     1.     9.381]\n",
            " [39.     0.     1.     1.    22.697]\n",
            " [45.     1.     1.     0.    17.951]\n",
            " [18.     0.     2.     1.     8.75 ]\n",
            " [74.     1.     0.     0.     9.567]\n",
            " [49.     1.     1.     1.    11.014]\n",
            " [65.     0.     0.     1.    31.876]\n",
            " [53.     1.     2.     0.    14.133]\n",
            " [46.     1.     2.     1.     7.285]\n",
            " [32.     1.     0.     1.     9.445]\n",
            " [39.     1.     1.     1.    13.938]\n",
            " [39.     0.     2.     1.     9.709]\n",
            " [15.     1.     2.     0.     9.084]\n",
            " [73.     0.     2.     0.    19.221]\n",
            " [58.     0.     0.     1.    14.239]\n",
            " [50.     1.     2.     1.    15.79 ]\n",
            " [23.     1.     2.     0.    12.26 ]\n",
            " [50.     0.     2.     1.    12.295]\n",
            " [66.     0.     2.     1.     8.107]\n",
            " [37.     0.     0.     0.    13.091]\n",
            " [68.     1.     1.     0.    10.291]\n",
            " [23.     1.     2.     0.    31.686]\n",
            " [28.     0.     1.     0.    19.796]\n",
            " [58.     0.     0.     0.    19.416]\n",
            " [67.     1.     2.     1.    10.898]\n",
            " [62.     1.     1.     1.    27.183]\n",
            " [24.     0.     0.     1.    18.457]\n",
            " [68.     0.     0.     1.    10.189]\n",
            " [26.     0.     1.     0.    14.16 ]\n",
            " [65.     1.     0.     1.    11.34 ]\n",
            " [40.     1.     0.     0.    27.826]\n",
            " [60.     1.     2.     1.    10.091]\n",
            " [34.     1.     0.     0.    18.703]\n",
            " [38.     0.     1.     1.    29.875]\n",
            " [24.     1.     0.     1.     9.475]\n",
            " [67.     1.     1.     1.    20.693]\n",
            " [45.     1.     1.     1.     8.37 ]\n",
            " [60.     0.     0.     0.    13.303]\n",
            " [68.     0.     2.     1.    27.05 ]\n",
            " [29.     1.     0.     0.    12.856]\n",
            " [17.     1.     2.     1.    10.832]\n",
            " [54.     1.     2.     0.    24.658]\n",
            " [18.     0.     0.     1.    24.276]\n",
            " [70.     1.     0.     0.    13.967]\n",
            " [28.     0.     2.     0.    19.675]\n",
            " [24.     0.     2.     0.    10.605]\n",
            " [41.     0.     2.     1.    22.905]\n",
            " [31.     1.     0.     1.    17.069]\n",
            " [26.     1.     1.     1.    20.909]\n",
            " [36.     0.     0.     0.    11.198]\n",
            " [26.     0.     0.     1.    19.161]\n",
            " [19.     0.     0.     0.    13.313]\n",
            " [32.     0.     1.     1.    10.84 ]\n",
            " [60.     1.     0.     0.    13.934]\n",
            " [64.     1.     2.     0.     7.761]\n",
            " [32.     0.     1.     0.     9.712]\n",
            " [38.     0.     0.     1.    11.326]\n",
            " [47.     0.     1.     0.    10.067]\n",
            " [59.     1.     0.     0.    13.935]\n",
            " [51.     0.     2.     0.    13.597]\n",
            " [69.     1.     1.     0.    15.478]\n",
            " [37.     0.     0.     1.    23.091]\n",
            " [50.     0.     2.     1.    17.211]\n",
            " [62.     1.     2.     0.    16.594]\n",
            " [41.     1.     0.     1.    15.156]\n",
            " [29.     0.     0.     0.    29.45 ]\n",
            " [42.     0.     1.     1.    29.271]\n",
            " [56.     1.     1.     0.    15.015]\n",
            " [36.     1.     1.     1.    11.424]\n",
            " [58.     0.     1.     0.    38.247]\n",
            " [56.     0.     0.     0.    25.395]\n",
            " [20.     1.     0.     1.    35.639]\n",
            " [15.     0.     0.     1.    16.725]\n",
            " [31.     1.     0.     1.    11.871]\n",
            " [45.     0.     0.     0.    12.854]\n",
            " [28.     0.     1.     0.    13.127]\n",
            " [56.     1.     2.     0.     8.966]\n",
            " [22.     1.     0.     1.    28.294]\n",
            " [37.     1.     1.     1.     8.968]\n",
            " [22.     1.     2.     0.    11.953]\n",
            " [42.     1.     1.     0.    20.013]\n",
            " [72.     1.     0.     1.     9.677]\n",
            " [23.     1.     2.     0.    16.85 ]\n",
            " [50.     1.     0.     0.     7.49 ]\n",
            " [47.     0.     2.     1.     6.683]\n",
            " [35.     1.     1.     1.     9.17 ]\n",
            " [65.     0.     1.     1.    13.769]\n",
            " [20.     0.     2.     1.     9.281]\n",
            " [51.     1.     0.     0.    18.295]\n",
            " [67.     1.     2.     1.     9.514]\n",
            " [40.     0.     2.     0.    10.103]\n",
            " [32.     0.     0.     1.    10.292]\n",
            " [61.     0.     0.     0.    25.475]\n",
            " [28.     1.     2.     0.    27.064]\n",
            " [15.     1.     0.     1.    17.206]\n",
            " [34.     1.     2.     0.    22.456]\n",
            " [36.     0.     2.     0.    16.753]\n",
            " [53.     0.     0.     1.    12.495]\n",
            " [19.     0.     0.     1.    25.969]\n",
            " [66.     1.     0.     0.    16.347]\n",
            " [35.     1.     2.     1.     7.845]\n",
            " [47.     1.     1.     1.    33.542]\n",
            " [32.     0.     2.     0.     7.477]\n",
            " [70.     0.     2.     0.    20.489]\n",
            " [52.     1.     1.     1.    32.922]\n",
            " [49.     1.     1.     1.    13.598]\n",
            " [24.     1.     2.     0.    25.786]\n",
            " [42.     0.     0.     0.    21.036]\n",
            " [74.     1.     1.     1.    11.939]\n",
            " [55.     0.     0.     0.    10.977]\n",
            " [35.     0.     0.     0.    12.894]\n",
            " [51.     1.     0.     1.    11.343]\n",
            " [69.     0.     2.     0.    10.065]\n",
            " [49.     1.     0.     1.     6.269]\n",
            " [64.     0.     1.     1.    25.741]\n",
            " [60.     1.     0.     1.     8.621]\n",
            " [74.     1.     0.     1.    15.436]\n",
            " [39.     1.     0.     0.     9.664]\n",
            " [61.     1.     2.     0.     9.443]\n",
            " [37.     0.     1.     1.    12.006]\n",
            " [26.     0.     0.     1.    12.307]\n",
            " [61.     0.     1.     1.     7.34 ]\n",
            " [22.     1.     1.     0.     8.151]\n",
            " [49.     1.     0.     1.     8.7  ]\n",
            " [68.     1.     0.     0.    11.009]\n",
            " [55.     1.     2.     1.     7.261]\n",
            " [72.     0.     1.     1.    14.642]\n",
            " [37.     1.     1.     1.    16.724]\n",
            " [49.     1.     1.     0.    10.537]\n",
            " [31.     1.     0.     1.    11.227]\n",
            " [53.     1.     1.     0.    22.963]\n",
            " [59.     0.     1.     0.    10.444]\n",
            " [34.     0.     1.     1.    12.923]\n",
            " [30.     0.     2.     0.    10.443]\n",
            " [57.     0.     0.     1.     9.945]\n",
            " [43.     1.     2.     1.    12.859]\n",
            " [21.     0.     0.     1.    28.632]\n",
            " [16.     1.     0.     1.    19.007]\n",
            " [38.     1.     1.     0.    18.295]\n",
            " [58.     0.     1.     0.    26.645]\n",
            " [57.     0.     2.     0.    14.216]\n",
            " [51.     0.     1.     1.    23.003]\n",
            " [20.     0.     0.     0.    11.262]\n",
            " [28.     0.     2.     0.    12.879]\n",
            " [45.     1.     1.     1.    10.017]\n",
            " [39.     0.     2.     1.    17.225]\n",
            " [41.     0.     1.     1.    18.739]\n",
            " [42.     1.     0.     1.    12.766]\n",
            " [73.     0.     0.     0.    18.348]\n",
            " [48.     1.     0.     1.    10.446]\n",
            " [25.     1.     2.     0.    19.011]\n",
            " [39.     1.     2.     0.    15.969]\n",
            " [67.     0.     2.     0.    15.891]\n",
            " [22.     0.     0.     1.    22.818]\n",
            " [59.     0.     2.     0.    13.884]\n",
            " [20.     0.     1.     1.    11.686]\n",
            " [36.     0.     0.     1.    15.49 ]\n",
            " [18.     0.     0.     0.    37.188]\n",
            " [57.     0.     2.     1.    25.893]\n",
            " [70.     1.     0.     0.     9.849]\n",
            " [47.     1.     0.     0.    10.403]\n",
            " [65.     1.     0.     1.    34.997]\n",
            " [64.     1.     0.     1.    20.932]\n",
            " [58.     1.     0.     0.    18.991]\n",
            " [23.     1.     0.     0.     8.011]\n",
            " [72.     1.     1.     0.    16.31 ]\n",
            " [72.     1.     1.     0.     6.769]\n",
            " [46.     0.     0.     0.    34.686]\n",
            " [56.     0.     1.     0.    11.567]\n",
            " [16.     1.     1.     0.    12.006]\n",
            " [52.     1.     2.     0.     9.894]\n",
            " [23.     1.     2.     1.    14.02 ]\n",
            " [40.     0.     1.     1.    11.349]]\n",
            "[0 3 3 4 0 4 0 3 0 0 3 0 0 0 4 0 4 1 3 0 0 0 0 0 0 0 0 4 0 0 4 2 4 0 4 4 1\n",
            " 4 4 4 0 2 0 4 4 4 1 3 0 0 0 4 0 0 2 3 2 0 4 0 0 1 0 4 2 0 1 4 0 0 2 0 4 0\n",
            " 0 0 1 0 1 4 2 4 3 1 3 2 4 0 0 0 0 0 0 0 0 4 0 0 0 0 1 1 3 4 0 4 4 0 2 0 1\n",
            " 4 4 4 4 0 4 4 1 0 0 0 0 0 2 0 0 4 0 4 0 0 4 0 0 4 2 1 2 4 1 0 2 0 1 4 4 1\n",
            " 4 3 1 2 4 4 0 3 1 0 3 4 4 2 4 0 0 0 0 4 0 1 4 4 0 0 1 0 1 0 0 0 0 4 4 0 0\n",
            " 0 2 1 0 0 0 1 0 3 0 3 3 4 4 4]\n"
          ],
          "name": "stdout"
        }
      ]
    },
    {
      "cell_type": "markdown",
      "metadata": {
        "id": "pThdvU8E7EqR"
      },
      "source": [
        "# **Q2**"
      ]
    },
    {
      "cell_type": "code",
      "metadata": {
        "colab": {
          "base_uri": "https://localhost:8080/",
          "height": 295
        },
        "id": "Ju1PLFlH7Ho1",
        "outputId": "0041504c-95f4-44cf-805b-f36fb3680818"
      },
      "source": [
        "#(i)\n",
        "df.describe()"
      ],
      "execution_count": 19,
      "outputs": [
        {
          "output_type": "execute_result",
          "data": {
            "text/html": [
              "<div>\n",
              "<style scoped>\n",
              "    .dataframe tbody tr th:only-of-type {\n",
              "        vertical-align: middle;\n",
              "    }\n",
              "\n",
              "    .dataframe tbody tr th {\n",
              "        vertical-align: top;\n",
              "    }\n",
              "\n",
              "    .dataframe thead th {\n",
              "        text-align: right;\n",
              "    }\n",
              "</style>\n",
              "<table border=\"1\" class=\"dataframe\">\n",
              "  <thead>\n",
              "    <tr style=\"text-align: right;\">\n",
              "      <th></th>\n",
              "      <th>Age</th>\n",
              "      <th>Sex</th>\n",
              "      <th>BP</th>\n",
              "      <th>Cholesterol</th>\n",
              "      <th>Na_to_K</th>\n",
              "      <th>Drug</th>\n",
              "    </tr>\n",
              "  </thead>\n",
              "  <tbody>\n",
              "    <tr>\n",
              "      <th>count</th>\n",
              "      <td>200.000000</td>\n",
              "      <td>200.000000</td>\n",
              "      <td>200.000000</td>\n",
              "      <td>200.000000</td>\n",
              "      <td>200.000000</td>\n",
              "      <td>200.000000</td>\n",
              "    </tr>\n",
              "    <tr>\n",
              "      <th>mean</th>\n",
              "      <td>44.315000</td>\n",
              "      <td>0.520000</td>\n",
              "      <td>0.910000</td>\n",
              "      <td>0.485000</td>\n",
              "      <td>16.084485</td>\n",
              "      <td>1.595000</td>\n",
              "    </tr>\n",
              "    <tr>\n",
              "      <th>std</th>\n",
              "      <td>16.544315</td>\n",
              "      <td>0.500854</td>\n",
              "      <td>0.821752</td>\n",
              "      <td>0.501029</td>\n",
              "      <td>7.223956</td>\n",
              "      <td>1.716305</td>\n",
              "    </tr>\n",
              "    <tr>\n",
              "      <th>min</th>\n",
              "      <td>15.000000</td>\n",
              "      <td>0.000000</td>\n",
              "      <td>0.000000</td>\n",
              "      <td>0.000000</td>\n",
              "      <td>6.269000</td>\n",
              "      <td>0.000000</td>\n",
              "    </tr>\n",
              "    <tr>\n",
              "      <th>25%</th>\n",
              "      <td>31.000000</td>\n",
              "      <td>0.000000</td>\n",
              "      <td>0.000000</td>\n",
              "      <td>0.000000</td>\n",
              "      <td>10.445500</td>\n",
              "      <td>0.000000</td>\n",
              "    </tr>\n",
              "    <tr>\n",
              "      <th>50%</th>\n",
              "      <td>45.000000</td>\n",
              "      <td>1.000000</td>\n",
              "      <td>1.000000</td>\n",
              "      <td>0.000000</td>\n",
              "      <td>13.936500</td>\n",
              "      <td>1.000000</td>\n",
              "    </tr>\n",
              "    <tr>\n",
              "      <th>75%</th>\n",
              "      <td>58.000000</td>\n",
              "      <td>1.000000</td>\n",
              "      <td>2.000000</td>\n",
              "      <td>1.000000</td>\n",
              "      <td>19.380000</td>\n",
              "      <td>4.000000</td>\n",
              "    </tr>\n",
              "    <tr>\n",
              "      <th>max</th>\n",
              "      <td>74.000000</td>\n",
              "      <td>1.000000</td>\n",
              "      <td>2.000000</td>\n",
              "      <td>1.000000</td>\n",
              "      <td>38.247000</td>\n",
              "      <td>4.000000</td>\n",
              "    </tr>\n",
              "  </tbody>\n",
              "</table>\n",
              "</div>"
            ],
            "text/plain": [
              "              Age         Sex          BP  Cholesterol     Na_to_K        Drug\n",
              "count  200.000000  200.000000  200.000000   200.000000  200.000000  200.000000\n",
              "mean    44.315000    0.520000    0.910000     0.485000   16.084485    1.595000\n",
              "std     16.544315    0.500854    0.821752     0.501029    7.223956    1.716305\n",
              "min     15.000000    0.000000    0.000000     0.000000    6.269000    0.000000\n",
              "25%     31.000000    0.000000    0.000000     0.000000   10.445500    0.000000\n",
              "50%     45.000000    1.000000    1.000000     0.000000   13.936500    1.000000\n",
              "75%     58.000000    1.000000    2.000000     1.000000   19.380000    4.000000\n",
              "max     74.000000    1.000000    2.000000     1.000000   38.247000    4.000000"
            ]
          },
          "metadata": {},
          "execution_count": 19
        }
      ]
    },
    {
      "cell_type": "markdown",
      "metadata": {
        "id": "05eVoGWaB46h"
      },
      "source": [
        "**Inference:** This command is useful in finding count,mean,min-max value,percentiles"
      ]
    },
    {
      "cell_type": "code",
      "metadata": {
        "colab": {
          "base_uri": "https://localhost:8080/"
        },
        "id": "wRhkuZ597IQg",
        "outputId": "1055ee6b-6178-426c-80e3-182e9971ea6f"
      },
      "source": [
        "#(ii)\n",
        "\n",
        "from sklearn import preprocessing\n",
        "label_encoder = preprocessing.LabelEncoder()\n",
        "df['BP']= label_encoder.fit_transform(df['BP']) \n",
        "df['Drug']= label_encoder.fit_transform(df['Drug'])\n",
        "df['Cholesterol']= label_encoder.fit_transform(df['Cholesterol'])\n",
        "df['Sex']= label_encoder.fit_transform(df['Sex'])\n",
        "print(df['BP'].unique())\n",
        "print(df['Drug'].unique())\n",
        "print(df['Cholesterol'].unique())\n",
        "print(df['Sex'].unique())"
      ],
      "execution_count": 13,
      "outputs": [
        {
          "output_type": "stream",
          "text": [
            "[0 1 2]\n",
            "[0 3 4 1 2]\n",
            "[0 1]\n",
            "[0 1]\n"
          ],
          "name": "stdout"
        }
      ]
    },
    {
      "cell_type": "markdown",
      "metadata": {
        "id": "e66x9aFT86D2"
      },
      "source": [
        "# **Q3**"
      ]
    },
    {
      "cell_type": "code",
      "metadata": {
        "colab": {
          "base_uri": "https://localhost:8080/",
          "height": 417
        },
        "id": "gJxJFRQF8Smv",
        "outputId": "ae752287-be0d-4376-96f7-4136d6e2abfe"
      },
      "source": [
        "#(i)\n",
        "\n",
        "def z_score(df):\n",
        "    dfcop = df.copy()\n",
        "    for column in dfcop.columns:\n",
        "        dfcop[column] = (dfcop[column] - dfcop[column].mean()) / dfcop[column].std()\n",
        "        \n",
        "    return dfcop\n",
        "\n",
        "df1 = z_score(df)\n",
        "df1"
      ],
      "execution_count": 17,
      "outputs": [
        {
          "output_type": "execute_result",
          "data": {
            "text/html": [
              "<div>\n",
              "<style scoped>\n",
              "    .dataframe tbody tr th:only-of-type {\n",
              "        vertical-align: middle;\n",
              "    }\n",
              "\n",
              "    .dataframe tbody tr th {\n",
              "        vertical-align: top;\n",
              "    }\n",
              "\n",
              "    .dataframe thead th {\n",
              "        text-align: right;\n",
              "    }\n",
              "</style>\n",
              "<table border=\"1\" class=\"dataframe\">\n",
              "  <thead>\n",
              "    <tr style=\"text-align: right;\">\n",
              "      <th></th>\n",
              "      <th>Age</th>\n",
              "      <th>Sex</th>\n",
              "      <th>BP</th>\n",
              "      <th>Cholesterol</th>\n",
              "      <th>Na_to_K</th>\n",
              "      <th>Drug</th>\n",
              "    </tr>\n",
              "  </thead>\n",
              "  <tbody>\n",
              "    <tr>\n",
              "      <th>0</th>\n",
              "      <td>-1.288358</td>\n",
              "      <td>-1.038228</td>\n",
              "      <td>-1.107390</td>\n",
              "      <td>-0.968008</td>\n",
              "      <td>1.283302</td>\n",
              "      <td>-0.929322</td>\n",
              "    </tr>\n",
              "    <tr>\n",
              "      <th>1</th>\n",
              "      <td>0.162291</td>\n",
              "      <td>0.958364</td>\n",
              "      <td>0.109522</td>\n",
              "      <td>-0.968008</td>\n",
              "      <td>-0.414106</td>\n",
              "      <td>0.818619</td>\n",
              "    </tr>\n",
              "    <tr>\n",
              "      <th>2</th>\n",
              "      <td>0.162291</td>\n",
              "      <td>0.958364</td>\n",
              "      <td>0.109522</td>\n",
              "      <td>-0.968008</td>\n",
              "      <td>-0.826484</td>\n",
              "      <td>0.818619</td>\n",
              "    </tr>\n",
              "    <tr>\n",
              "      <th>3</th>\n",
              "      <td>-0.986139</td>\n",
              "      <td>-1.038228</td>\n",
              "      <td>1.326434</td>\n",
              "      <td>-0.968008</td>\n",
              "      <td>-1.147084</td>\n",
              "      <td>1.401266</td>\n",
              "    </tr>\n",
              "    <tr>\n",
              "      <th>4</th>\n",
              "      <td>1.008504</td>\n",
              "      <td>-1.038228</td>\n",
              "      <td>0.109522</td>\n",
              "      <td>-0.968008</td>\n",
              "      <td>0.271114</td>\n",
              "      <td>-0.929322</td>\n",
              "    </tr>\n",
              "    <tr>\n",
              "      <th>...</th>\n",
              "      <td>...</td>\n",
              "      <td>...</td>\n",
              "      <td>...</td>\n",
              "      <td>...</td>\n",
              "      <td>...</td>\n",
              "      <td>...</td>\n",
              "    </tr>\n",
              "    <tr>\n",
              "      <th>195</th>\n",
              "      <td>0.706285</td>\n",
              "      <td>-1.038228</td>\n",
              "      <td>0.109522</td>\n",
              "      <td>-0.968008</td>\n",
              "      <td>-0.625348</td>\n",
              "      <td>0.818619</td>\n",
              "    </tr>\n",
              "    <tr>\n",
              "      <th>196</th>\n",
              "      <td>-1.711464</td>\n",
              "      <td>0.958364</td>\n",
              "      <td>0.109522</td>\n",
              "      <td>-0.968008</td>\n",
              "      <td>-0.564578</td>\n",
              "      <td>0.818619</td>\n",
              "    </tr>\n",
              "    <tr>\n",
              "      <th>197</th>\n",
              "      <td>0.464510</td>\n",
              "      <td>0.958364</td>\n",
              "      <td>1.326434</td>\n",
              "      <td>-0.968008</td>\n",
              "      <td>-0.856938</td>\n",
              "      <td>1.401266</td>\n",
              "    </tr>\n",
              "    <tr>\n",
              "      <th>198</th>\n",
              "      <td>-1.288358</td>\n",
              "      <td>0.958364</td>\n",
              "      <td>1.326434</td>\n",
              "      <td>1.027884</td>\n",
              "      <td>-0.285783</td>\n",
              "      <td>1.401266</td>\n",
              "    </tr>\n",
              "    <tr>\n",
              "      <th>199</th>\n",
              "      <td>-0.260815</td>\n",
              "      <td>-1.038228</td>\n",
              "      <td>0.109522</td>\n",
              "      <td>1.027884</td>\n",
              "      <td>-0.655525</td>\n",
              "      <td>1.401266</td>\n",
              "    </tr>\n",
              "  </tbody>\n",
              "</table>\n",
              "<p>200 rows × 6 columns</p>\n",
              "</div>"
            ],
            "text/plain": [
              "          Age       Sex        BP  Cholesterol   Na_to_K      Drug\n",
              "0   -1.288358 -1.038228 -1.107390    -0.968008  1.283302 -0.929322\n",
              "1    0.162291  0.958364  0.109522    -0.968008 -0.414106  0.818619\n",
              "2    0.162291  0.958364  0.109522    -0.968008 -0.826484  0.818619\n",
              "3   -0.986139 -1.038228  1.326434    -0.968008 -1.147084  1.401266\n",
              "4    1.008504 -1.038228  0.109522    -0.968008  0.271114 -0.929322\n",
              "..        ...       ...       ...          ...       ...       ...\n",
              "195  0.706285 -1.038228  0.109522    -0.968008 -0.625348  0.818619\n",
              "196 -1.711464  0.958364  0.109522    -0.968008 -0.564578  0.818619\n",
              "197  0.464510  0.958364  1.326434    -0.968008 -0.856938  1.401266\n",
              "198 -1.288358  0.958364  1.326434     1.027884 -0.285783  1.401266\n",
              "199 -0.260815 -1.038228  0.109522     1.027884 -0.655525  1.401266\n",
              "\n",
              "[200 rows x 6 columns]"
            ]
          },
          "metadata": {},
          "execution_count": 17
        }
      ]
    },
    {
      "cell_type": "code",
      "metadata": {
        "id": "K7cJ1QTh-Msq"
      },
      "source": [
        "#(ii)\n"
      ],
      "execution_count": null,
      "outputs": []
    },
    {
      "cell_type": "markdown",
      "metadata": {
        "id": "15t8TyGq9rB4"
      },
      "source": [
        "# **Q4**"
      ]
    },
    {
      "cell_type": "code",
      "metadata": {
        "colab": {
          "base_uri": "https://localhost:8080/",
          "height": 350
        },
        "id": "pZkSdWbw9trP",
        "outputId": "a05bd9c5-6b23-454d-cc14-dc6cf580dd4e"
      },
      "source": [
        "sns.boxplot(df['Na_to_K'])"
      ],
      "execution_count": 29,
      "outputs": [
        {
          "output_type": "stream",
          "text": [
            "/usr/local/lib/python3.7/dist-packages/seaborn/_decorators.py:43: FutureWarning: Pass the following variable as a keyword arg: x. From version 0.12, the only valid positional argument will be `data`, and passing other arguments without an explicit keyword will result in an error or misinterpretation.\n",
            "  FutureWarning\n"
          ],
          "name": "stderr"
        },
        {
          "output_type": "execute_result",
          "data": {
            "text/plain": [
              "<matplotlib.axes._subplots.AxesSubplot at 0x7f65788b4110>"
            ]
          },
          "metadata": {},
          "execution_count": 29
        },
        {
          "output_type": "display_data",
          "data": {
            "image/png": "[encoded data removed]",
            "text/plain": [
              "<Figure size 432x288 with 1 Axes>"
            ]
          },
          "metadata": {
            "needs_background": "light"
          }
        }
      ]
    },
    {
      "cell_type": "code",
      "metadata": {
        "colab": {
          "base_uri": "https://localhost:8080/"
        },
        "id": "-KAwGnEG_-yL",
        "outputId": "ce4f227a-6fa0-463e-d3fc-ef2ea0fa7ed3"
      },
      "source": [
        "#(i)\n",
        "print(np.where(df['Na_to_K']>32))"
      ],
      "execution_count": 28,
      "outputs": [
        {
          "output_type": "stream",
          "text": [
            "(array([ 24,  96,  98, 128, 131, 184, 188, 194]),)\n"
          ],
          "name": "stdout"
        }
      ]
    },
    {
      "cell_type": "code",
      "metadata": {
        "id": "9aMaj5cJAx-h"
      },
      "source": [
        ""
      ],
      "execution_count": 26,
      "outputs": []
    },
    {
      "cell_type": "markdown",
      "metadata": {
        "id": "_BLNiI6sECgD"
      },
      "source": [
        "# **Q5**"
      ]
    },
    {
      "cell_type": "code",
      "metadata": {
        "colab": {
          "base_uri": "https://localhost:8080/",
          "height": 80
        },
        "id": "fJC80MB8Eysp",
        "outputId": "14cf9c33-60e8-463f-cc48-9dd8c40d575f"
      },
      "source": [
        "#(i):\n",
        "df.iloc[10:11, 0,] = np.nan\n",
        "df.iloc[10:11, :]"
      ],
      "execution_count": 34,
      "outputs": [
        {
          "output_type": "execute_result",
          "data": {
            "text/html": [
              "<div>\n",
              "<style scoped>\n",
              "    .dataframe tbody tr th:only-of-type {\n",
              "        vertical-align: middle;\n",
              "    }\n",
              "\n",
              "    .dataframe tbody tr th {\n",
              "        vertical-align: top;\n",
              "    }\n",
              "\n",
              "    .dataframe thead th {\n",
              "        text-align: right;\n",
              "    }\n",
              "</style>\n",
              "<table border=\"1\" class=\"dataframe\">\n",
              "  <thead>\n",
              "    <tr style=\"text-align: right;\">\n",
              "      <th></th>\n",
              "      <th>Age</th>\n",
              "      <th>Sex</th>\n",
              "      <th>BP</th>\n",
              "      <th>Cholesterol</th>\n",
              "      <th>Na_to_K</th>\n",
              "      <th>Drug</th>\n",
              "    </tr>\n",
              "  </thead>\n",
              "  <tbody>\n",
              "    <tr>\n",
              "      <th>10</th>\n",
              "      <td>NaN</td>\n",
              "      <td>0</td>\n",
              "      <td>1</td>\n",
              "      <td>0</td>\n",
              "      <td>11.767</td>\n",
              "      <td>3</td>\n",
              "    </tr>\n",
              "  </tbody>\n",
              "</table>\n",
              "</div>"
            ],
            "text/plain": [
              "    Age  Sex  BP  Cholesterol  Na_to_K  Drug\n",
              "10  NaN    0   1            0   11.767     3"
            ]
          },
          "metadata": {},
          "execution_count": 34
        }
      ]
    },
    {
      "cell_type": "code",
      "metadata": {
        "colab": {
          "base_uri": "https://localhost:8080/",
          "height": 383
        },
        "id": "tOtiW585EEzK",
        "outputId": "647e3487-b4c8-42c6-c969-e22e5d6bf055"
      },
      "source": [
        "sns.boxplot(df.Age)\n",
        "sns.distplot(df.Age)"
      ],
      "execution_count": 32,
      "outputs": [
        {
          "output_type": "stream",
          "text": [
            "/usr/local/lib/python3.7/dist-packages/seaborn/_decorators.py:43: FutureWarning: Pass the following variable as a keyword arg: x. From version 0.12, the only valid positional argument will be `data`, and passing other arguments without an explicit keyword will result in an error or misinterpretation.\n",
            "  FutureWarning\n",
            "/usr/local/lib/python3.7/dist-packages/seaborn/distributions.py:2557: FutureWarning: `distplot` is a deprecated function and will be removed in a future version. Please adapt your code to use either `displot` (a figure-level function with similar flexibility) or `histplot` (an axes-level function for histograms).\n",
            "  warnings.warn(msg, FutureWarning)\n"
          ],
          "name": "stderr"
        },
        {
          "output_type": "execute_result",
          "data": {
            "text/plain": [
              "<matplotlib.axes._subplots.AxesSubplot at 0x7f657874b8d0>"
            ]
          },
          "metadata": {},
          "execution_count": 32
        },
        {
          "output_type": "display_data",
          "data": {
            "image/png": "[encoded data removed]",
            "text/plain": [
              "<Figure size 432x288 with 1 Axes>"
            ]
          },
          "metadata": {
            "needs_background": "light"
          }
        }
      ]
    },
    {
      "cell_type": "code",
      "metadata": {
        "colab": {
          "base_uri": "https://localhost:8080/"
        },
        "id": "RDf-vo6AElmJ",
        "outputId": "c0776be5-06b5-4668-dbf6-8dcf9c275ea2"
      },
      "source": [
        "#(ii):\n",
        "\n",
        "df['Age'].fillna(df.mean())"
      ],
      "execution_count": 35,
      "outputs": [
        {
          "output_type": "execute_result",
          "data": {
            "text/plain": [
              "0      23.0\n",
              "1      47.0\n",
              "2      47.0\n",
              "3      28.0\n",
              "4      61.0\n",
              "       ... \n",
              "195    56.0\n",
              "196    16.0\n",
              "197    52.0\n",
              "198    23.0\n",
              "199    40.0\n",
              "Name: Age, Length: 200, dtype: float64"
            ]
          },
          "metadata": {},
          "execution_count": 35
        }
      ]
    },
    {
      "cell_type": "markdown",
      "metadata": {
        "id": "RcwBELigCru9"
      },
      "source": [
        "# **Q6**"
      ]
    },
    {
      "cell_type": "markdown",
      "metadata": {
        "id": "dg1fistxC6qQ"
      },
      "source": [
        "**6(i).**\n",
        "\n",
        "**Inference :** \n",
        "\n",
        "*   Correlation between two variables indicates that changes in one variable are associated with changes in the other variable.\n",
        "\n",
        "*   Correlation does not mean that the changes in one variable actually cause the changes in the other variable. \n",
        "\n",
        "* Sometimes it is clear that there is a causal relationship."
      ]
    },
    {
      "cell_type": "code",
      "metadata": {
        "id": "45nOfebGCt4j"
      },
      "source": [
        ""
      ],
      "execution_count": null,
      "outputs": []
    }
  ]
}