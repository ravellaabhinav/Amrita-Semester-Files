{
  "nbformat": 4,
  "nbformat_minor": 0,
  "metadata": {
    "colab": {
      "name": "CB.EN.U4CSE19453.ipynb",
      "provenance": [],
      "collapsed_sections": []
    },
    "kernelspec": {
      "name": "python3",
      "display_name": "Python 3"
    },
    "language_info": {
      "name": "python"
    }
  },
  "cells": [
    {
      "cell_type": "code",
      "metadata": {
        "id": "p1MWLPQTkmI9"
      },
      "source": [
        "#Importing Libraries\n",
        "import numpy as np\n",
        "import pandas as pd\n",
        "import matplotlib.pyplot as plt\n",
        "import seaborn as sns"
      ],
      "execution_count": 61,
      "outputs": []
    },
    {
      "cell_type": "code",
      "metadata": {
        "id": "yU4xb2zTlyxo"
      },
      "source": [
        "train=pd.read_csv('/content/drive/MyDrive/fodseval/train.csv')\n",
        "test=pd.read_csv('/content/drive/MyDrive/fodseval/test.csv')\n",
        "submission=pd.read_csv('/content/drive/MyDrive/fodseval/Submission.csv')"
      ],
      "execution_count": 62,
      "outputs": []
    },
    {
      "cell_type": "code",
      "metadata": {
        "colab": {
          "base_uri": "https://localhost:8080/",
          "height": 203
        },
        "id": "Sg4IAtlZk_7p",
        "outputId": "e85d76b8-f7af-43cb-85ab-da48bd697ba2"
      },
      "source": [
        "test.head()"
      ],
      "execution_count": 63,
      "outputs": [
        {
          "output_type": "execute_result",
          "data": {
            "text/html": [
              "<div>\n",
              "<style scoped>\n",
              "    .dataframe tbody tr th:only-of-type {\n",
              "        vertical-align: middle;\n",
              "    }\n",
              "\n",
              "    .dataframe tbody tr th {\n",
              "        vertical-align: top;\n",
              "    }\n",
              "\n",
              "    .dataframe thead th {\n",
              "        text-align: right;\n",
              "    }\n",
              "</style>\n",
              "<table border=\"1\" class=\"dataframe\">\n",
              "  <thead>\n",
              "    <tr style=\"text-align: right;\">\n",
              "      <th></th>\n",
              "      <th>record_ID</th>\n",
              "      <th>week</th>\n",
              "      <th>store_id</th>\n",
              "      <th>sku_id</th>\n",
              "      <th>total_price</th>\n",
              "      <th>base_price</th>\n",
              "      <th>is_featured_sku</th>\n",
              "      <th>is_display_sku</th>\n",
              "    </tr>\n",
              "  </thead>\n",
              "  <tbody>\n",
              "    <tr>\n",
              "      <th>0</th>\n",
              "      <td>192751</td>\n",
              "      <td>16/04/13</td>\n",
              "      <td>9845</td>\n",
              "      <td>300021</td>\n",
              "      <td>109.7250</td>\n",
              "      <td>109.7250</td>\n",
              "      <td>0</td>\n",
              "      <td>0</td>\n",
              "    </tr>\n",
              "    <tr>\n",
              "      <th>1</th>\n",
              "      <td>94214</td>\n",
              "      <td>20/02/12</td>\n",
              "      <td>9532</td>\n",
              "      <td>300021</td>\n",
              "      <td>86.2125</td>\n",
              "      <td>86.2125</td>\n",
              "      <td>0</td>\n",
              "      <td>1</td>\n",
              "    </tr>\n",
              "    <tr>\n",
              "      <th>2</th>\n",
              "      <td>201221</td>\n",
              "      <td>28/05/13</td>\n",
              "      <td>8094</td>\n",
              "      <td>217217</td>\n",
              "      <td>229.4250</td>\n",
              "      <td>229.4250</td>\n",
              "      <td>0</td>\n",
              "      <td>0</td>\n",
              "    </tr>\n",
              "    <tr>\n",
              "      <th>3</th>\n",
              "      <td>38612</td>\n",
              "      <td>27/06/11</td>\n",
              "      <td>9490</td>\n",
              "      <td>223245</td>\n",
              "      <td>210.9000</td>\n",
              "      <td>213.0375</td>\n",
              "      <td>0</td>\n",
              "      <td>1</td>\n",
              "    </tr>\n",
              "    <tr>\n",
              "      <th>4</th>\n",
              "      <td>83833</td>\n",
              "      <td>9/1/2012</td>\n",
              "      <td>9043</td>\n",
              "      <td>219029</td>\n",
              "      <td>327.0375</td>\n",
              "      <td>327.0375</td>\n",
              "      <td>0</td>\n",
              "      <td>0</td>\n",
              "    </tr>\n",
              "  </tbody>\n",
              "</table>\n",
              "</div>"
            ],
            "text/plain": [
              "   record_ID      week  store_id  ...  base_price  is_featured_sku  is_display_sku\n",
              "0     192751  16/04/13      9845  ...    109.7250                0               0\n",
              "1      94214  20/02/12      9532  ...     86.2125                0               1\n",
              "2     201221  28/05/13      8094  ...    229.4250                0               0\n",
              "3      38612  27/06/11      9490  ...    213.0375                0               1\n",
              "4      83833  9/1/2012      9043  ...    327.0375                0               0\n",
              "\n",
              "[5 rows x 8 columns]"
            ]
          },
          "metadata": {},
          "execution_count": 63
        }
      ]
    },
    {
      "cell_type": "code",
      "metadata": {
        "colab": {
          "base_uri": "https://localhost:8080/",
          "height": 203
        },
        "id": "CXGD_H_zlCPI",
        "outputId": "54c5eaa5-0d36-48a2-c75c-3315ddb35e96"
      },
      "source": [
        "train.head()"
      ],
      "execution_count": 64,
      "outputs": [
        {
          "output_type": "execute_result",
          "data": {
            "text/html": [
              "<div>\n",
              "<style scoped>\n",
              "    .dataframe tbody tr th:only-of-type {\n",
              "        vertical-align: middle;\n",
              "    }\n",
              "\n",
              "    .dataframe tbody tr th {\n",
              "        vertical-align: top;\n",
              "    }\n",
              "\n",
              "    .dataframe thead th {\n",
              "        text-align: right;\n",
              "    }\n",
              "</style>\n",
              "<table border=\"1\" class=\"dataframe\">\n",
              "  <thead>\n",
              "    <tr style=\"text-align: right;\">\n",
              "      <th></th>\n",
              "      <th>record_ID</th>\n",
              "      <th>week</th>\n",
              "      <th>store_id</th>\n",
              "      <th>sku_id</th>\n",
              "      <th>total_price</th>\n",
              "      <th>base_price</th>\n",
              "      <th>is_featured_sku</th>\n",
              "      <th>is_display_sku</th>\n",
              "      <th>units_sold</th>\n",
              "    </tr>\n",
              "  </thead>\n",
              "  <tbody>\n",
              "    <tr>\n",
              "      <th>0</th>\n",
              "      <td>1</td>\n",
              "      <td>17/01/11</td>\n",
              "      <td>8091</td>\n",
              "      <td>216418</td>\n",
              "      <td>99.0375</td>\n",
              "      <td>111.8625</td>\n",
              "      <td>0</td>\n",
              "      <td>0</td>\n",
              "      <td>20</td>\n",
              "    </tr>\n",
              "    <tr>\n",
              "      <th>1</th>\n",
              "      <td>2</td>\n",
              "      <td>17/01/11</td>\n",
              "      <td>8091</td>\n",
              "      <td>216419</td>\n",
              "      <td>99.0375</td>\n",
              "      <td>99.0375</td>\n",
              "      <td>0</td>\n",
              "      <td>0</td>\n",
              "      <td>28</td>\n",
              "    </tr>\n",
              "    <tr>\n",
              "      <th>2</th>\n",
              "      <td>3</td>\n",
              "      <td>17/01/11</td>\n",
              "      <td>8091</td>\n",
              "      <td>216425</td>\n",
              "      <td>133.9500</td>\n",
              "      <td>133.9500</td>\n",
              "      <td>0</td>\n",
              "      <td>0</td>\n",
              "      <td>19</td>\n",
              "    </tr>\n",
              "    <tr>\n",
              "      <th>3</th>\n",
              "      <td>4</td>\n",
              "      <td>17/01/11</td>\n",
              "      <td>8091</td>\n",
              "      <td>216233</td>\n",
              "      <td>133.9500</td>\n",
              "      <td>133.9500</td>\n",
              "      <td>0</td>\n",
              "      <td>0</td>\n",
              "      <td>44</td>\n",
              "    </tr>\n",
              "    <tr>\n",
              "      <th>4</th>\n",
              "      <td>9</td>\n",
              "      <td>17/01/11</td>\n",
              "      <td>8091</td>\n",
              "      <td>219009</td>\n",
              "      <td>227.2875</td>\n",
              "      <td>227.2875</td>\n",
              "      <td>0</td>\n",
              "      <td>0</td>\n",
              "      <td>18</td>\n",
              "    </tr>\n",
              "  </tbody>\n",
              "</table>\n",
              "</div>"
            ],
            "text/plain": [
              "   record_ID      week  store_id  ...  is_featured_sku  is_display_sku  units_sold\n",
              "0          1  17/01/11      8091  ...                0               0          20\n",
              "1          2  17/01/11      8091  ...                0               0          28\n",
              "2          3  17/01/11      8091  ...                0               0          19\n",
              "3          4  17/01/11      8091  ...                0               0          44\n",
              "4          9  17/01/11      8091  ...                0               0          18\n",
              "\n",
              "[5 rows x 9 columns]"
            ]
          },
          "metadata": {},
          "execution_count": 64
        }
      ]
    },
    {
      "cell_type": "code",
      "metadata": {
        "colab": {
          "base_uri": "https://localhost:8080/",
          "height": 203
        },
        "id": "iPWV89wtlHZy",
        "outputId": "825b4511-590e-433d-b03f-5f74f71c5c6a"
      },
      "source": [
        "submission.head()"
      ],
      "execution_count": 65,
      "outputs": [
        {
          "output_type": "execute_result",
          "data": {
            "text/html": [
              "<div>\n",
              "<style scoped>\n",
              "    .dataframe tbody tr th:only-of-type {\n",
              "        vertical-align: middle;\n",
              "    }\n",
              "\n",
              "    .dataframe tbody tr th {\n",
              "        vertical-align: top;\n",
              "    }\n",
              "\n",
              "    .dataframe thead th {\n",
              "        text-align: right;\n",
              "    }\n",
              "</style>\n",
              "<table border=\"1\" class=\"dataframe\">\n",
              "  <thead>\n",
              "    <tr style=\"text-align: right;\">\n",
              "      <th></th>\n",
              "      <th>record_ID</th>\n",
              "      <th>units_sold</th>\n",
              "    </tr>\n",
              "  </thead>\n",
              "  <tbody>\n",
              "    <tr>\n",
              "      <th>0</th>\n",
              "      <td>192751</td>\n",
              "      <td>0</td>\n",
              "    </tr>\n",
              "    <tr>\n",
              "      <th>1</th>\n",
              "      <td>94214</td>\n",
              "      <td>0</td>\n",
              "    </tr>\n",
              "    <tr>\n",
              "      <th>2</th>\n",
              "      <td>201221</td>\n",
              "      <td>0</td>\n",
              "    </tr>\n",
              "    <tr>\n",
              "      <th>3</th>\n",
              "      <td>38612</td>\n",
              "      <td>0</td>\n",
              "    </tr>\n",
              "    <tr>\n",
              "      <th>4</th>\n",
              "      <td>83833</td>\n",
              "      <td>0</td>\n",
              "    </tr>\n",
              "  </tbody>\n",
              "</table>\n",
              "</div>"
            ],
            "text/plain": [
              "   record_ID  units_sold\n",
              "0     192751           0\n",
              "1      94214           0\n",
              "2     201221           0\n",
              "3      38612           0\n",
              "4      83833           0"
            ]
          },
          "metadata": {},
          "execution_count": 65
        }
      ]
    },
    {
      "cell_type": "code",
      "metadata": {
        "colab": {
          "base_uri": "https://localhost:8080/"
        },
        "id": "yUMgJwq5qbru",
        "outputId": "74947d22-f66e-41c2-a572-40312d4713a4"
      },
      "source": [
        "print(test.shape)\n",
        "print(train.shape)"
      ],
      "execution_count": 66,
      "outputs": [
        {
          "output_type": "stream",
          "name": "stdout",
          "text": [
            "(30000, 8)\n",
            "(120150, 9)\n"
          ]
        }
      ]
    },
    {
      "cell_type": "code",
      "metadata": {
        "colab": {
          "base_uri": "https://localhost:8080/",
          "height": 295
        },
        "id": "nHDrr7-wmGBZ",
        "outputId": "004c4428-423a-4ad1-82dc-4d8b75d8ac23"
      },
      "source": [
        "train.describe()"
      ],
      "execution_count": 67,
      "outputs": [
        {
          "output_type": "execute_result",
          "data": {
            "text/html": [
              "<div>\n",
              "<style scoped>\n",
              "    .dataframe tbody tr th:only-of-type {\n",
              "        vertical-align: middle;\n",
              "    }\n",
              "\n",
              "    .dataframe tbody tr th {\n",
              "        vertical-align: top;\n",
              "    }\n",
              "\n",
              "    .dataframe thead th {\n",
              "        text-align: right;\n",
              "    }\n",
              "</style>\n",
              "<table border=\"1\" class=\"dataframe\">\n",
              "  <thead>\n",
              "    <tr style=\"text-align: right;\">\n",
              "      <th></th>\n",
              "      <th>record_ID</th>\n",
              "      <th>store_id</th>\n",
              "      <th>sku_id</th>\n",
              "      <th>total_price</th>\n",
              "      <th>base_price</th>\n",
              "      <th>is_featured_sku</th>\n",
              "      <th>is_display_sku</th>\n",
              "      <th>units_sold</th>\n",
              "    </tr>\n",
              "  </thead>\n",
              "  <tbody>\n",
              "    <tr>\n",
              "      <th>count</th>\n",
              "      <td>120150.000000</td>\n",
              "      <td>120150.000000</td>\n",
              "      <td>120150.000000</td>\n",
              "      <td>120150.000000</td>\n",
              "      <td>120150.000000</td>\n",
              "      <td>120150.000000</td>\n",
              "      <td>120150.000000</td>\n",
              "      <td>120150.000000</td>\n",
              "    </tr>\n",
              "    <tr>\n",
              "      <th>mean</th>\n",
              "      <td>106356.242072</td>\n",
              "      <td>9200.680108</td>\n",
              "      <td>254646.000574</td>\n",
              "      <td>206.620108</td>\n",
              "      <td>219.395313</td>\n",
              "      <td>0.095098</td>\n",
              "      <td>0.133267</td>\n",
              "      <td>51.679534</td>\n",
              "    </tr>\n",
              "    <tr>\n",
              "      <th>std</th>\n",
              "      <td>61430.743017</td>\n",
              "      <td>615.091588</td>\n",
              "      <td>85304.080816</td>\n",
              "      <td>103.306218</td>\n",
              "      <td>110.927286</td>\n",
              "      <td>0.293351</td>\n",
              "      <td>0.339864</td>\n",
              "      <td>60.718735</td>\n",
              "    </tr>\n",
              "    <tr>\n",
              "      <th>min</th>\n",
              "      <td>1.000000</td>\n",
              "      <td>8023.000000</td>\n",
              "      <td>216233.000000</td>\n",
              "      <td>41.325000</td>\n",
              "      <td>61.275000</td>\n",
              "      <td>0.000000</td>\n",
              "      <td>0.000000</td>\n",
              "      <td>1.000000</td>\n",
              "    </tr>\n",
              "    <tr>\n",
              "      <th>25%</th>\n",
              "      <td>53140.250000</td>\n",
              "      <td>8562.000000</td>\n",
              "      <td>217217.000000</td>\n",
              "      <td>130.387500</td>\n",
              "      <td>133.237500</td>\n",
              "      <td>0.000000</td>\n",
              "      <td>0.000000</td>\n",
              "      <td>20.000000</td>\n",
              "    </tr>\n",
              "    <tr>\n",
              "      <th>50%</th>\n",
              "      <td>106366.500000</td>\n",
              "      <td>9371.000000</td>\n",
              "      <td>222087.000000</td>\n",
              "      <td>198.075000</td>\n",
              "      <td>205.912500</td>\n",
              "      <td>0.000000</td>\n",
              "      <td>0.000000</td>\n",
              "      <td>35.000000</td>\n",
              "    </tr>\n",
              "    <tr>\n",
              "      <th>75%</th>\n",
              "      <td>159709.750000</td>\n",
              "      <td>9731.000000</td>\n",
              "      <td>245338.000000</td>\n",
              "      <td>233.700000</td>\n",
              "      <td>234.412500</td>\n",
              "      <td>0.000000</td>\n",
              "      <td>0.000000</td>\n",
              "      <td>62.000000</td>\n",
              "    </tr>\n",
              "    <tr>\n",
              "      <th>max</th>\n",
              "      <td>212644.000000</td>\n",
              "      <td>9984.000000</td>\n",
              "      <td>679023.000000</td>\n",
              "      <td>562.162500</td>\n",
              "      <td>562.162500</td>\n",
              "      <td>1.000000</td>\n",
              "      <td>1.000000</td>\n",
              "      <td>2876.000000</td>\n",
              "    </tr>\n",
              "  </tbody>\n",
              "</table>\n",
              "</div>"
            ],
            "text/plain": [
              "           record_ID       store_id  ...  is_display_sku     units_sold\n",
              "count  120150.000000  120150.000000  ...   120150.000000  120150.000000\n",
              "mean   106356.242072    9200.680108  ...        0.133267      51.679534\n",
              "std     61430.743017     615.091588  ...        0.339864      60.718735\n",
              "min         1.000000    8023.000000  ...        0.000000       1.000000\n",
              "25%     53140.250000    8562.000000  ...        0.000000      20.000000\n",
              "50%    106366.500000    9371.000000  ...        0.000000      35.000000\n",
              "75%    159709.750000    9731.000000  ...        0.000000      62.000000\n",
              "max    212644.000000    9984.000000  ...        1.000000    2876.000000\n",
              "\n",
              "[8 rows x 8 columns]"
            ]
          },
          "metadata": {},
          "execution_count": 67
        }
      ]
    },
    {
      "cell_type": "code",
      "metadata": {
        "colab": {
          "base_uri": "https://localhost:8080/"
        },
        "id": "wCYv_dh4mH_3",
        "outputId": "937fea64-59ad-48a2-9ca8-6d0f870b9bf0"
      },
      "source": [
        "train.dtypes"
      ],
      "execution_count": 68,
      "outputs": [
        {
          "output_type": "execute_result",
          "data": {
            "text/plain": [
              "record_ID            int64\n",
              "week                object\n",
              "store_id             int64\n",
              "sku_id               int64\n",
              "total_price        float64\n",
              "base_price         float64\n",
              "is_featured_sku      int64\n",
              "is_display_sku       int64\n",
              "units_sold           int64\n",
              "dtype: object"
            ]
          },
          "metadata": {},
          "execution_count": 68
        }
      ]
    },
    {
      "cell_type": "code",
      "metadata": {
        "colab": {
          "base_uri": "https://localhost:8080/"
        },
        "id": "8iYdS_HsqPD_",
        "outputId": "d4fc07a5-f371-460a-89d8-969ce9df7c26"
      },
      "source": [
        "train.dtypes.value_counts()"
      ],
      "execution_count": 69,
      "outputs": [
        {
          "output_type": "execute_result",
          "data": {
            "text/plain": [
              "int64      6\n",
              "float64    2\n",
              "object     1\n",
              "dtype: int64"
            ]
          },
          "metadata": {},
          "execution_count": 69
        }
      ]
    },
    {
      "cell_type": "code",
      "metadata": {
        "colab": {
          "base_uri": "https://localhost:8080/"
        },
        "id": "W9BJSwuDmJSU",
        "outputId": "09fbdc1d-0b63-4a15-8917-57d99bd13376"
      },
      "source": [
        "train.isna().sum()"
      ],
      "execution_count": 70,
      "outputs": [
        {
          "output_type": "execute_result",
          "data": {
            "text/plain": [
              "record_ID          0\n",
              "week               0\n",
              "store_id           0\n",
              "sku_id             0\n",
              "total_price        0\n",
              "base_price         0\n",
              "is_featured_sku    0\n",
              "is_display_sku     0\n",
              "units_sold         0\n",
              "dtype: int64"
            ]
          },
          "metadata": {},
          "execution_count": 70
        }
      ]
    },
    {
      "cell_type": "code",
      "metadata": {
        "colab": {
          "base_uri": "https://localhost:8080/"
        },
        "id": "_k5XNhWhsgOG",
        "outputId": "603b10b3-ba6e-4939-8e64-5f97cb4483b8"
      },
      "source": [
        "test.isna().sum()"
      ],
      "execution_count": 71,
      "outputs": [
        {
          "output_type": "execute_result",
          "data": {
            "text/plain": [
              "record_ID          0\n",
              "week               0\n",
              "store_id           0\n",
              "sku_id             0\n",
              "total_price        1\n",
              "base_price         0\n",
              "is_featured_sku    0\n",
              "is_display_sku     0\n",
              "dtype: int64"
            ]
          },
          "metadata": {},
          "execution_count": 71
        }
      ]
    },
    {
      "cell_type": "code",
      "metadata": {
        "colab": {
          "base_uri": "https://localhost:8080/"
        },
        "id": "TtJLxKhXmRsH",
        "outputId": "a8a7bfca-5a70-4557-8f35-2cd654b5330a"
      },
      "source": [
        "print(train.isna().sum().sum())\n",
        "print(test.isna().sum().sum())"
      ],
      "execution_count": 72,
      "outputs": [
        {
          "output_type": "stream",
          "name": "stdout",
          "text": [
            "0\n",
            "1\n"
          ]
        }
      ]
    },
    {
      "cell_type": "code",
      "metadata": {
        "id": "wcQyU9vQsQ12"
      },
      "source": [
        "test['total_price'] = test['total_price'].fillna(test['total_price'].mean())"
      ],
      "execution_count": 74,
      "outputs": []
    },
    {
      "cell_type": "code",
      "metadata": {
        "colab": {
          "base_uri": "https://localhost:8080/"
        },
        "id": "4cKz3pKjsjp9",
        "outputId": "f9faf5b8-3a40-4529-a3b3-f534c2e91df7"
      },
      "source": [
        "test.isna().sum()"
      ],
      "execution_count": 75,
      "outputs": [
        {
          "output_type": "execute_result",
          "data": {
            "text/plain": [
              "record_ID          0\n",
              "week               0\n",
              "store_id           0\n",
              "sku_id             0\n",
              "total_price        0\n",
              "base_price         0\n",
              "is_featured_sku    0\n",
              "is_display_sku     0\n",
              "dtype: int64"
            ]
          },
          "metadata": {},
          "execution_count": 75
        }
      ]
    },
    {
      "cell_type": "code",
      "metadata": {
        "colab": {
          "base_uri": "https://localhost:8080/"
        },
        "id": "lDHct082mW4w",
        "outputId": "41888501-7663-4146-dae9-1ef716e2d53c"
      },
      "source": [
        "train.columns"
      ],
      "execution_count": 76,
      "outputs": [
        {
          "output_type": "execute_result",
          "data": {
            "text/plain": [
              "Index(['record_ID', 'week', 'store_id', 'sku_id', 'total_price', 'base_price',\n",
              "       'is_featured_sku', 'is_display_sku', 'units_sold'],\n",
              "      dtype='object')"
            ]
          },
          "metadata": {},
          "execution_count": 76
        }
      ]
    },
    {
      "cell_type": "code",
      "metadata": {
        "colab": {
          "base_uri": "https://localhost:8080/",
          "height": 776
        },
        "id": "Uv_ltvuWv_XV",
        "outputId": "2ccbcfb9-2946-4e22-adb5-82344fd99363"
      },
      "source": [
        "plt.figure(figsize = (14,12))\n",
        "plt.title('Correlation of Numeric Features with Sale Price', y=1, size=16)\n",
        "sns.heatmap(train.corr(), square = True, vmax=0.8)"
      ],
      "execution_count": 102,
      "outputs": [
        {
          "output_type": "execute_result",
          "data": {
            "text/plain": [
              "<matplotlib.axes._subplots.AxesSubplot at 0x7fe1a415b610>"
            ]
          },
          "metadata": {},
          "execution_count": 102
        },
        {
          "output_type": "display_data",
          "data": {
            "image/png": "[encoded data removed]",
            "text/plain": [
              "<Figure size 1008x864 with 2 Axes>"
            ]
          },
          "metadata": {
            "needs_background": "light"
          }
        }
      ]
    },
    {
      "cell_type": "code",
      "metadata": {
        "id": "Jt3Dut8oul7_"
      },
      "source": [
        "train['week'] = train['week'].astype('datetime64')"
      ],
      "execution_count": 77,
      "outputs": []
    },
    {
      "cell_type": "code",
      "metadata": {
        "id": "RgLhnagdum8d"
      },
      "source": [
        "train['store_id'] = train['store_id'].astype('category')\n",
        "train['sku_id'] = train['sku_id'].astype('category')\n",
        "train['is_featured_sku'] = train['is_featured_sku'].astype('category')\n",
        "train['is_display_sku'] = train['is_display_sku'].astype('category')"
      ],
      "execution_count": 78,
      "outputs": []
    },
    {
      "cell_type": "code",
      "metadata": {
        "id": "rztyRIOiuq80"
      },
      "source": [
        "train['month'] = [date.month for date in train.week] \n",
        "train['day'] = [date.day for date in train.week]\n",
        "train['year'] = [date.year for date in train.week]  \n",
        "train['week_of_year'] = [date.weekofyear for date in train.week] \n",
        "train['day_of_week'] = [date.dayofweek for date in train.week]"
      ],
      "execution_count": 79,
      "outputs": []
    },
    {
      "cell_type": "code",
      "metadata": {
        "id": "zp_59r5tuq50"
      },
      "source": [
        "train = train.drop(['week'] ,axis = 1)"
      ],
      "execution_count": 80,
      "outputs": []
    },
    {
      "cell_type": "code",
      "metadata": {
        "id": "GV0f0sq_uq1f"
      },
      "source": [
        "train = train.drop(['record_ID'] ,axis = 1)"
      ],
      "execution_count": 81,
      "outputs": []
    },
    {
      "cell_type": "code",
      "metadata": {
        "colab": {
          "base_uri": "https://localhost:8080/"
        },
        "id": "f-BtNq3Nuxb-",
        "outputId": "4d1c1888-949b-4b4a-f6ed-d6c9d9d6924d"
      },
      "source": [
        "train.dtypes"
      ],
      "execution_count": 82,
      "outputs": [
        {
          "output_type": "execute_result",
          "data": {
            "text/plain": [
              "store_id           category\n",
              "sku_id             category\n",
              "total_price         float64\n",
              "base_price          float64\n",
              "is_featured_sku    category\n",
              "is_display_sku     category\n",
              "units_sold            int64\n",
              "month                 int64\n",
              "day                   int64\n",
              "year                  int64\n",
              "week_of_year          int64\n",
              "day_of_week           int64\n",
              "dtype: object"
            ]
          },
          "metadata": {},
          "execution_count": 82
        }
      ]
    },
    {
      "cell_type": "code",
      "metadata": {
        "id": "gvHA8QQ9uxZc"
      },
      "source": [
        "test['week'] = test['week'].astype('datetime64')"
      ],
      "execution_count": 83,
      "outputs": []
    },
    {
      "cell_type": "code",
      "metadata": {
        "id": "lipWtGpDuxW8"
      },
      "source": [
        "test['month'] = [date.month for date in test.week] \n",
        "test['day'] = [date.day for date in test.week]\n",
        "test['year'] = [date.year for date in test.week]  \n",
        "test['week_of_year'] = [date.weekofyear for date in test.week] \n",
        "test['day_of_week'] = [date.dayofweek for date in test.week] "
      ],
      "execution_count": 84,
      "outputs": []
    },
    {
      "cell_type": "code",
      "metadata": {
        "id": "GbSOEpb1uxUU"
      },
      "source": [
        "test = test.drop(['week'] ,axis = 1)"
      ],
      "execution_count": 85,
      "outputs": []
    },
    {
      "cell_type": "code",
      "metadata": {
        "id": "qaZshbn8u4ng"
      },
      "source": [
        "test = test.drop(['record_ID'] ,axis = 1)"
      ],
      "execution_count": 86,
      "outputs": []
    },
    {
      "cell_type": "code",
      "metadata": {
        "id": "YmBNw2Tju4lM"
      },
      "source": [
        "numerical = train.select_dtypes(include = ['int64','float64'])"
      ],
      "execution_count": 87,
      "outputs": []
    },
    {
      "cell_type": "code",
      "metadata": {
        "colab": {
          "base_uri": "https://localhost:8080/"
        },
        "id": "hyhRfWIwu4il",
        "outputId": "dffba1fd-f158-4f19-c965-0815d014b043"
      },
      "source": [
        "for i in numerical.columns:\n",
        "    print(f'range of {i}:[{train[i].min()}, {train[i].max()}]')"
      ],
      "execution_count": 88,
      "outputs": [
        {
          "output_type": "stream",
          "name": "stdout",
          "text": [
            "range of total_price:[41.325, 562.1625]\n",
            "range of base_price:[61.275, 562.1625]\n",
            "range of units_sold:[1, 2876]\n",
            "range of month:[1, 12]\n",
            "range of day:[1, 31]\n",
            "range of year:[2011, 2013]\n",
            "range of week_of_year:[1, 52]\n",
            "range of day_of_week:[0, 6]\n"
          ]
        }
      ]
    },
    {
      "cell_type": "code",
      "metadata": {
        "id": "FohrpirPu-c0"
      },
      "source": [
        "import seaborn as sns\n",
        "from sklearn import preprocessing\n",
        "from sklearn.linear_model import LinearRegression as LR\n",
        "from sklearn.metrics import mean_squared_error, r2_score\n",
        "from sklearn.metrics import classification_report, confusion_matrix\n",
        "from sklearn.model_selection import train_test_split\n",
        "from sklearn import metrics\n",
        "from sklearn.model_selection import cross_val_score\n",
        "from sklearn.metrics import mean_squared_log_error as MSLE"
      ],
      "execution_count": 89,
      "outputs": []
    },
    {
      "cell_type": "code",
      "metadata": {
        "id": "IBClaDyBvA9c"
      },
      "source": [
        "def UVA_KDE(data, var_group):\n",
        "  size = len(var_group)\n",
        "  plt.figure(figsize = (7*size,3), dpi = 100)\n",
        "  for j,i in enumerate(var_group):\n",
        "    mini = data[i].min()\n",
        "    maxi = data[i].max()\n",
        "    ran = data[i].max()-data[i].min()\n",
        "    mean = data[i].mean()\n",
        "    median = data[i].median()\n",
        "    st_dev = data[i].std()\n",
        "    skew = data[i].skew()\n",
        "    kurt = data[i].kurtosis()\n",
        "    points = mean-st_dev, mean+st_dev\n",
        "    plt.subplot(1,size,j+1)\n",
        "    sns.kdeplot(data[i], shade=True)\n",
        "    sns.lineplot(points, [0,0], color = 'black', label = \"std_dev\")\n",
        "    sns.scatterplot([mini,maxi], [0,0], color = 'orange', label = \"min/max\")\n",
        "    sns.scatterplot([mean], [0], color = 'red', label = \"mean\")\n",
        "    sns.scatterplot([median], [0], color = 'blue', label = \"median\")\n",
        "    plt.xlabel('{}'.format(i), fontsize = 20)\n",
        "    plt.ylabel('density')\n",
        "    plt.title('kurtosis = {};\\nskew = {}; range = {}\\nmean = {}; median = {}'.format(round(kurt,2),round(skew,2),\n",
        "                                                                                     round(ran,2),\n",
        "                                                                                     round(mean,2),\n",
        "                                                                                     round(median,2)))"
      ],
      "execution_count": 90,
      "outputs": []
    },
    {
      "cell_type": "code",
      "metadata": {
        "id": "_Mmn32pAvEhu"
      },
      "source": [
        "def UVA_boxplot(data, var_group, include_outlier = True):\n",
        "  size = len(var_group)\n",
        "  plt.figure(figsize = (7*size,4), dpi = 100)\n",
        "  from scipy import stats\n",
        "  for j,i in enumerate(var_group):\n",
        "   \n",
        "    quant25 = data[i].quantile(0.25)\n",
        "    quant75 = data[i].quantile(0.75)\n",
        "    IQR = quant75 - quant25\n",
        "    med = data[i].median()\n",
        "    whis_low = quant25-(1.5*IQR)\n",
        "    whis_high = quant75+(1.5*IQR)\n",
        "    skew = data[i].skew()\n",
        "    mini = data[i].min()\n",
        "    maxi = data[i].max()\n",
        "    kurt = data[i].kurtosis()\n",
        "    shapiro_test = stats.shapiro(data[i])\n",
        "    \n",
        "    outlier_high = len(data[i][data[i]>whis_high])\n",
        "    outlier_low = len(data[i][data[i]<whis_low])\n",
        "    \n",
        "    plt.subplot(1,size,j+1)\n",
        "    sns.boxplot(data[i], orient=\"v\")\n",
        "    plt.ylabel('{}'.format(i))\n",
        "    plt.title('Skew = {}; Range = {} \\n 1st, 2nd, 3rd  quartile = {};\\n Whiskers = {}; kurtosis = {} ; \\n Number of Outlier (low/high) = {} '.format(\n",
        "                                                                                                   round(skew,2),\n",
        "                                                                                                   (round(mini,2),round(maxi,2)),\n",
        "                                                                                                   (round(quant25,2),round(med,2),round(quant75,2)),\n",
        "                                                                                                   (round(whis_low,2), round(whis_high,2)), \n",
        "                                                                                                   (round(kurt,2)),\n",
        "                                                                                                   (outlier_low,outlier_high)\n",
        "                                                                                                   ))"
      ],
      "execution_count": 91,
      "outputs": []
    },
    {
      "cell_type": "code",
      "metadata": {
        "id": "QPyXgyc9vEe8"
      },
      "source": [
        "def UVA_category(data, var_group):\n",
        "  size = len(var_group)\n",
        "  plt.figure(figsize = (8*size,6), dpi = 100)\n",
        "    \n",
        "  for j,i in enumerate(var_group):\n",
        "    norm_count = round(data[i].value_counts(normalize = True)*100,2)\n",
        "    n_uni = data[i].nunique()\n",
        "    sns.set_style('darkgrid')\n",
        "    plt.subplot(1,size,j+1)\n",
        "    sns.barplot(norm_count, norm_count.index , order = norm_count.index)\n",
        "    plt.xlabel('fraction/percent', fontsize = 20)\n",
        "    plt.ylabel('{}'.format(i), fontsize = 20)\n",
        "    plt.title('n_uniques = {} \\n value counts \\n {};'.format(n_uni,norm_count))\n",
        "    plt.tight_layout()"
      ],
      "execution_count": 92,
      "outputs": []
    },
    {
      "cell_type": "code",
      "metadata": {
        "id": "DJ-JAbeJvEbD"
      },
      "source": [
        "train['store_id'] = train['store_id'].astype('int64')\n",
        "train['sku_id'] = train['sku_id'].astype('int64')\n",
        "train['is_display_sku'] = train['is_display_sku'].astype('int64')\n",
        "train['is_featured_sku'] = train['is_featured_sku'].astype('int64')"
      ],
      "execution_count": 93,
      "outputs": []
    },
    {
      "cell_type": "code",
      "metadata": {
        "id": "8PbIPqxfvET0"
      },
      "source": [
        "train['units_sold'] = np.log1p(train['units_sold'])\n",
        "train['base_price'] = np.log(train['base_price'])"
      ],
      "execution_count": 95,
      "outputs": []
    },
    {
      "cell_type": "code",
      "metadata": {
        "colab": {
          "base_uri": "https://localhost:8080/"
        },
        "id": "AoJDN11avVAy",
        "outputId": "2f6de299-f82b-4a86-b070-34bc9bd82b60"
      },
      "source": [
        "x = train.drop(columns = ['units_sold'], axis=1)\n",
        "y = train['units_sold']\n",
        "x.shape , y.shape"
      ],
      "execution_count": 96,
      "outputs": [
        {
          "output_type": "execute_result",
          "data": {
            "text/plain": [
              "((120150, 11), (120150,))"
            ]
          },
          "metadata": {},
          "execution_count": 96
        }
      ]
    },
    {
      "cell_type": "code",
      "metadata": {
        "id": "SxRL_mkRvU-c"
      },
      "source": [
        "x_train,x_test,y_train,y_test = train_test_split(x,y,test_size=0.2,random_state=42)"
      ],
      "execution_count": 97,
      "outputs": []
    },
    {
      "cell_type": "code",
      "metadata": {
        "colab": {
          "base_uri": "https://localhost:8080/"
        },
        "id": "t-1hKUXpvU7V",
        "outputId": "ee0f568e-9689-4726-ccc5-753042d57bc5"
      },
      "source": [
        "model = LR()\n",
        "model.fit(x_train,y_train)\n",
        "\n",
        "pred = model.predict(x_train)\n",
        "train_rmsle = np.sqrt(MSLE(y_train,pred))\n",
        "pred_1= model.predict(x_test)\n",
        "test_rmsle = np.sqrt(MSLE(y_test,pred_1))\n",
        "print('TRAIN RMSLE VALUE',train_rmsle)\n",
        "print('TEST RMSLE VALUE',test_rmsle)"
      ],
      "execution_count": 98,
      "outputs": [
        {
          "output_type": "stream",
          "name": "stdout",
          "text": [
            "TRAIN RMSLE VALUE 0.1681296883908727\n",
            "TEST RMSLE VALUE 0.16446088617539587\n"
          ]
        }
      ]
    },
    {
      "cell_type": "code",
      "metadata": {
        "colab": {
          "base_uri": "https://localhost:8080/"
        },
        "id": "qxl5KItwvU4d",
        "outputId": "d6a1104e-aa52-4bd9-ee34-0a3c5007b750"
      },
      "source": [
        "prediction = model.predict(test)\n",
        "prediction"
      ],
      "execution_count": 99,
      "outputs": [
        {
          "output_type": "execute_result",
          "data": {
            "text/plain": [
              "array([ 73.43223975,  58.53061745, 152.86921841, ..., 141.55336646,\n",
              "       118.05301559, 148.62670801])"
            ]
          },
          "metadata": {},
          "execution_count": 99
        }
      ]
    },
    {
      "cell_type": "code",
      "metadata": {
        "id": "6yEZBV84vboP"
      },
      "source": [
        "test['predicted_sales_value'] = prediction"
      ],
      "execution_count": 100,
      "outputs": []
    },
    {
      "cell_type": "code",
      "metadata": {
        "colab": {
          "base_uri": "https://localhost:8080/",
          "height": 203
        },
        "id": "WfFr1yQhvblM",
        "outputId": "9f1495e3-e503-40ed-c12a-cd26a900ecc6"
      },
      "source": [
        "test.head()"
      ],
      "execution_count": 101,
      "outputs": [
        {
          "output_type": "execute_result",
          "data": {
            "text/html": [
              "<div>\n",
              "<style scoped>\n",
              "    .dataframe tbody tr th:only-of-type {\n",
              "        vertical-align: middle;\n",
              "    }\n",
              "\n",
              "    .dataframe tbody tr th {\n",
              "        vertical-align: top;\n",
              "    }\n",
              "\n",
              "    .dataframe thead th {\n",
              "        text-align: right;\n",
              "    }\n",
              "</style>\n",
              "<table border=\"1\" class=\"dataframe\">\n",
              "  <thead>\n",
              "    <tr style=\"text-align: right;\">\n",
              "      <th></th>\n",
              "      <th>store_id</th>\n",
              "      <th>sku_id</th>\n",
              "      <th>total_price</th>\n",
              "      <th>base_price</th>\n",
              "      <th>is_featured_sku</th>\n",
              "      <th>is_display_sku</th>\n",
              "      <th>month</th>\n",
              "      <th>day</th>\n",
              "      <th>year</th>\n",
              "      <th>week_of_year</th>\n",
              "      <th>day_of_week</th>\n",
              "      <th>predicted_sales_value</th>\n",
              "    </tr>\n",
              "  </thead>\n",
              "  <tbody>\n",
              "    <tr>\n",
              "      <th>0</th>\n",
              "      <td>9845</td>\n",
              "      <td>300021</td>\n",
              "      <td>109.7250</td>\n",
              "      <td>109.7250</td>\n",
              "      <td>0</td>\n",
              "      <td>0</td>\n",
              "      <td>4</td>\n",
              "      <td>16</td>\n",
              "      <td>2013</td>\n",
              "      <td>16</td>\n",
              "      <td>1</td>\n",
              "      <td>73.432240</td>\n",
              "    </tr>\n",
              "    <tr>\n",
              "      <th>1</th>\n",
              "      <td>9532</td>\n",
              "      <td>300021</td>\n",
              "      <td>86.2125</td>\n",
              "      <td>86.2125</td>\n",
              "      <td>0</td>\n",
              "      <td>1</td>\n",
              "      <td>2</td>\n",
              "      <td>20</td>\n",
              "      <td>2012</td>\n",
              "      <td>8</td>\n",
              "      <td>0</td>\n",
              "      <td>58.530617</td>\n",
              "    </tr>\n",
              "    <tr>\n",
              "      <th>2</th>\n",
              "      <td>8094</td>\n",
              "      <td>217217</td>\n",
              "      <td>229.4250</td>\n",
              "      <td>229.4250</td>\n",
              "      <td>0</td>\n",
              "      <td>0</td>\n",
              "      <td>5</td>\n",
              "      <td>28</td>\n",
              "      <td>2013</td>\n",
              "      <td>22</td>\n",
              "      <td>1</td>\n",
              "      <td>152.869218</td>\n",
              "    </tr>\n",
              "    <tr>\n",
              "      <th>3</th>\n",
              "      <td>9490</td>\n",
              "      <td>223245</td>\n",
              "      <td>210.9000</td>\n",
              "      <td>213.0375</td>\n",
              "      <td>0</td>\n",
              "      <td>1</td>\n",
              "      <td>6</td>\n",
              "      <td>27</td>\n",
              "      <td>2011</td>\n",
              "      <td>26</td>\n",
              "      <td>0</td>\n",
              "      <td>142.659943</td>\n",
              "    </tr>\n",
              "    <tr>\n",
              "      <th>4</th>\n",
              "      <td>9043</td>\n",
              "      <td>219029</td>\n",
              "      <td>327.0375</td>\n",
              "      <td>327.0375</td>\n",
              "      <td>0</td>\n",
              "      <td>0</td>\n",
              "      <td>9</td>\n",
              "      <td>1</td>\n",
              "      <td>2012</td>\n",
              "      <td>35</td>\n",
              "      <td>5</td>\n",
              "      <td>217.460473</td>\n",
              "    </tr>\n",
              "  </tbody>\n",
              "</table>\n",
              "</div>"
            ],
            "text/plain": [
              "   store_id  sku_id  ...  day_of_week  predicted_sales_value\n",
              "0      9845  300021  ...            1              73.432240\n",
              "1      9532  300021  ...            0              58.530617\n",
              "2      8094  217217  ...            1             152.869218\n",
              "3      9490  223245  ...            0             142.659943\n",
              "4      9043  219029  ...            5             217.460473\n",
              "\n",
              "[5 rows x 12 columns]"
            ]
          },
          "metadata": {},
          "execution_count": 101
        }
      ]
    }
  ]
}